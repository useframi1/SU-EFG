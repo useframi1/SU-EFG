{
 "cells": [
  {
   "cell_type": "code",
   "execution_count": 19,
   "id": "initial_id",
   "metadata": {
    "ExecuteTime": {
     "end_time": "2024-04-01T23:18:02.668553Z",
     "start_time": "2024-04-01T23:18:02.660261Z"
    },
    "collapsed": true
   },
   "outputs": [],
   "source": [
    "import numpy as np\n",
    "import pandas as pd\n",
    "import matplotlib.pyplot as plt\n",
    "from sklearn.naive_bayes import GaussianNB\n",
    "from sklearn.model_selection import GridSearchCV\n",
    "from sklearn.model_selection import KFold\n",
    "from sklearn.metrics import classification_report\n",
    "from sklearn.neighbors import KNeighborsClassifier\n",
    "from sklearn.tree import DecisionTreeClassifier\n",
    "from sklearn.ensemble import RandomForestClassifier\n",
    "from sklearn.linear_model import LogisticRegression\n",
    "from sklearn.svm import LinearSVC\n",
    "from sklearn.preprocessing import LabelEncoder\n",
    "from tensorflow.keras.callbacks import EarlyStopping\n",
    "from tensorflow.keras.models import Sequential\n",
    "from tensorflow.keras.layers import Dense, Dropout\n",
    "from sklearn.model_selection import train_test_split\n",
    "from sklearn.tree import plot_tree\n"
   ]
  },
  {
   "cell_type": "code",
   "execution_count": 2,
   "id": "4245291402f6d5a9",
   "metadata": {
    "ExecuteTime": {
     "end_time": "2024-04-01T21:53:46.636764Z",
     "start_time": "2024-04-01T21:52:42.575659Z"
    },
    "collapsed": false
   },
   "outputs": [],
   "source": [
    "df = pd.read_csv(\"cleaned_dataset.csv\")"
   ]
  },
  {
   "cell_type": "code",
   "execution_count": 3,
   "id": "dc876988",
   "metadata": {},
   "outputs": [
    {
     "name": "stdout",
     "output_type": "stream",
     "text": [
      "<class 'pandas.core.frame.DataFrame'>\n",
      "RangeIndex: 13523 entries, 0 to 13522\n",
      "Columns: 509 entries, ClientID to Churned\n",
      "dtypes: float64(373), int64(136)\n",
      "memory usage: 52.5 MB\n"
     ]
    }
   ],
   "source": [
    "df.info()"
   ]
  },
  {
   "cell_type": "code",
   "execution_count": 4,
   "id": "f69a85fa",
   "metadata": {},
   "outputs": [],
   "source": [
    "features = df.drop(columns=['Churned'])\n",
    "label = df[\"Churned\"]\n",
    "X_Train , X_Test , y_train , y_test = train_test_split(features, label, test_size=0.2, random_state=42)"
   ]
  },
  {
   "cell_type": "code",
   "execution_count": 5,
   "id": "b979431b54d59a60",
   "metadata": {
    "ExecuteTime": {
     "end_time": "2024-04-01T21:54:53.650202Z",
     "start_time": "2024-04-01T21:54:53.564751Z"
    },
    "collapsed": false
   },
   "outputs": [],
   "source": [
    "KF = KFold(n_splits=5)\n",
    "def Model_Train(Model, X, Y):\n",
    "    Preds = []\n",
    "    for i,j in KF.split(X):\n",
    "        Train_X = X.iloc[i]\n",
    "        Test_X = X.iloc[j]\n",
    "        Train_Y = Y.iloc[i]\n",
    "        \n",
    "        Model.fit(Train_X, Train_Y)\n",
    "        Pred_Y = Model.predict(Test_X)\n",
    "        Preds.append(Pred_Y)\n",
    "    print(classification_report(Y, np.concatenate(Preds)))"
   ]
  },
  {
   "cell_type": "markdown",
   "id": "3e96e70c58588c56",
   "metadata": {
    "collapsed": false
   },
   "source": [
    "## Classification:"
   ]
  },
  {
   "cell_type": "markdown",
   "id": "fecf83ec7649e441",
   "metadata": {
    "collapsed": false
   },
   "source": [
    "## KNN"
   ]
  },
  {
   "cell_type": "code",
   "execution_count": 6,
   "id": "940f63930bba8265",
   "metadata": {
    "ExecuteTime": {
     "end_time": "2024-04-01T13:21:33.716386Z",
     "start_time": "2024-04-01T10:38:41.001965Z"
    },
    "collapsed": false
   },
   "outputs": [
    {
     "name": "stdout",
     "output_type": "stream",
     "text": [
      "Fitting 5 folds for each of 52 candidates, totalling 260 fits\n",
      "[CV 1/5] END .....................n_neighbors=1;, score=0.682 total time=   0.4s\n",
      "[CV 2/5] END .....................n_neighbors=1;, score=0.689 total time=   0.2s\n",
      "[CV 3/5] END .....................n_neighbors=1;, score=0.683 total time=   0.2s\n",
      "[CV 4/5] END .....................n_neighbors=1;, score=0.674 total time=   0.2s\n",
      "[CV 5/5] END .....................n_neighbors=1;, score=0.713 total time=   0.2s\n",
      "[CV 1/5] END .....................n_neighbors=3;, score=0.681 total time=   0.2s\n",
      "[CV 2/5] END .....................n_neighbors=3;, score=0.691 total time=   0.2s\n",
      "[CV 3/5] END .....................n_neighbors=3;, score=0.702 total time=   0.2s\n",
      "[CV 4/5] END .....................n_neighbors=3;, score=0.676 total time=   0.2s\n",
      "[CV 5/5] END .....................n_neighbors=3;, score=0.688 total time=   0.2s\n",
      "[CV 1/5] END .....................n_neighbors=5;, score=0.686 total time=   0.2s\n",
      "[CV 2/5] END .....................n_neighbors=5;, score=0.704 total time=   0.2s\n",
      "[CV 3/5] END .....................n_neighbors=5;, score=0.694 total time=   0.2s\n",
      "[CV 4/5] END .....................n_neighbors=5;, score=0.680 total time=   0.2s\n",
      "[CV 5/5] END .....................n_neighbors=5;, score=0.688 total time=   0.2s\n",
      "[CV 1/5] END .....................n_neighbors=7;, score=0.683 total time=   0.2s\n",
      "[CV 2/5] END .....................n_neighbors=7;, score=0.701 total time=   0.3s\n",
      "[CV 3/5] END .....................n_neighbors=7;, score=0.685 total time=   0.2s\n",
      "[CV 4/5] END .....................n_neighbors=7;, score=0.675 total time=   0.3s\n",
      "[CV 5/5] END .....................n_neighbors=7;, score=0.691 total time=   0.3s\n",
      "[CV 1/5] END .....................n_neighbors=9;, score=0.682 total time=   0.3s\n",
      "[CV 2/5] END .....................n_neighbors=9;, score=0.707 total time=   0.4s\n",
      "[CV 3/5] END .....................n_neighbors=9;, score=0.686 total time=   0.2s\n",
      "[CV 4/5] END .....................n_neighbors=9;, score=0.680 total time=   0.3s\n",
      "[CV 5/5] END .....................n_neighbors=9;, score=0.694 total time=   0.3s\n",
      "[CV 1/5] END ....................n_neighbors=11;, score=0.680 total time=   0.2s\n",
      "[CV 2/5] END ....................n_neighbors=11;, score=0.700 total time=   0.2s\n",
      "[CV 3/5] END ....................n_neighbors=11;, score=0.688 total time=   0.2s\n",
      "[CV 4/5] END ....................n_neighbors=11;, score=0.687 total time=   0.2s\n",
      "[CV 5/5] END ....................n_neighbors=11;, score=0.696 total time=   0.2s\n",
      "[CV 1/5] END ....................n_neighbors=13;, score=0.670 total time=   0.2s\n",
      "[CV 2/5] END ....................n_neighbors=13;, score=0.700 total time=   0.2s\n",
      "[CV 3/5] END ....................n_neighbors=13;, score=0.686 total time=   0.2s\n",
      "[CV 4/5] END ....................n_neighbors=13;, score=0.692 total time=   0.2s\n",
      "[CV 5/5] END ....................n_neighbors=13;, score=0.687 total time=   0.2s\n",
      "[CV 1/5] END ....................n_neighbors=15;, score=0.674 total time=   0.2s\n",
      "[CV 2/5] END ....................n_neighbors=15;, score=0.707 total time=   0.2s\n",
      "[CV 3/5] END ....................n_neighbors=15;, score=0.693 total time=   0.2s\n",
      "[CV 4/5] END ....................n_neighbors=15;, score=0.686 total time=   0.2s\n",
      "[CV 5/5] END ....................n_neighbors=15;, score=0.687 total time=   0.2s\n",
      "[CV 1/5] END ....................n_neighbors=17;, score=0.684 total time=   0.2s\n",
      "[CV 2/5] END ....................n_neighbors=17;, score=0.702 total time=   0.3s\n",
      "[CV 3/5] END ....................n_neighbors=17;, score=0.700 total time=   0.3s\n",
      "[CV 4/5] END ....................n_neighbors=17;, score=0.689 total time=   0.2s\n",
      "[CV 5/5] END ....................n_neighbors=17;, score=0.684 total time=   0.3s\n",
      "[CV 1/5] END ....................n_neighbors=19;, score=0.682 total time=   0.2s\n",
      "[CV 2/5] END ....................n_neighbors=19;, score=0.702 total time=   0.2s\n",
      "[CV 3/5] END ....................n_neighbors=19;, score=0.694 total time=   0.2s\n",
      "[CV 4/5] END ....................n_neighbors=19;, score=0.694 total time=   0.2s\n",
      "[CV 5/5] END ....................n_neighbors=19;, score=0.687 total time=   0.3s\n",
      "[CV 1/5] END ....................n_neighbors=21;, score=0.679 total time=   0.2s\n",
      "[CV 2/5] END ....................n_neighbors=21;, score=0.700 total time=   0.2s\n",
      "[CV 3/5] END ....................n_neighbors=21;, score=0.690 total time=   0.2s\n",
      "[CV 4/5] END ....................n_neighbors=21;, score=0.695 total time=   0.3s\n",
      "[CV 5/5] END ....................n_neighbors=21;, score=0.690 total time=   0.2s\n",
      "[CV 1/5] END ....................n_neighbors=23;, score=0.678 total time=   0.2s\n",
      "[CV 2/5] END ....................n_neighbors=23;, score=0.707 total time=   0.2s\n",
      "[CV 3/5] END ....................n_neighbors=23;, score=0.692 total time=   0.2s\n",
      "[CV 4/5] END ....................n_neighbors=23;, score=0.689 total time=   0.2s\n",
      "[CV 5/5] END ....................n_neighbors=23;, score=0.690 total time=   0.2s\n",
      "[CV 1/5] END ....................n_neighbors=25;, score=0.683 total time=   0.2s\n",
      "[CV 2/5] END ....................n_neighbors=25;, score=0.705 total time=   0.2s\n",
      "[CV 3/5] END ....................n_neighbors=25;, score=0.694 total time=   0.2s\n",
      "[CV 4/5] END ....................n_neighbors=25;, score=0.692 total time=   0.2s\n",
      "[CV 5/5] END ....................n_neighbors=25;, score=0.693 total time=   0.3s\n",
      "[CV 1/5] END ....................n_neighbors=27;, score=0.682 total time=   0.3s\n",
      "[CV 2/5] END ....................n_neighbors=27;, score=0.701 total time=   0.2s\n",
      "[CV 3/5] END ....................n_neighbors=27;, score=0.687 total time=   0.3s\n",
      "[CV 4/5] END ....................n_neighbors=27;, score=0.692 total time=   0.2s\n",
      "[CV 5/5] END ....................n_neighbors=27;, score=0.695 total time=   0.2s\n",
      "[CV 1/5] END ....................n_neighbors=29;, score=0.688 total time=   0.2s\n",
      "[CV 2/5] END ....................n_neighbors=29;, score=0.704 total time=   0.2s\n",
      "[CV 3/5] END ....................n_neighbors=29;, score=0.690 total time=   0.2s\n",
      "[CV 4/5] END ....................n_neighbors=29;, score=0.693 total time=   0.2s\n",
      "[CV 5/5] END ....................n_neighbors=29;, score=0.697 total time=   0.2s\n",
      "[CV 1/5] END ....................n_neighbors=31;, score=0.688 total time=   0.2s\n",
      "[CV 2/5] END ....................n_neighbors=31;, score=0.708 total time=   0.2s\n",
      "[CV 3/5] END ....................n_neighbors=31;, score=0.689 total time=   0.2s\n",
      "[CV 4/5] END ....................n_neighbors=31;, score=0.692 total time=   0.2s\n",
      "[CV 5/5] END ....................n_neighbors=31;, score=0.697 total time=   0.2s\n",
      "[CV 1/5] END ....................n_neighbors=33;, score=0.690 total time=   0.2s\n",
      "[CV 2/5] END ....................n_neighbors=33;, score=0.701 total time=   0.2s\n",
      "[CV 3/5] END ....................n_neighbors=33;, score=0.690 total time=   0.2s\n",
      "[CV 4/5] END ....................n_neighbors=33;, score=0.684 total time=   0.2s\n",
      "[CV 5/5] END ....................n_neighbors=33;, score=0.705 total time=   0.3s\n",
      "[CV 1/5] END ....................n_neighbors=35;, score=0.688 total time=   0.2s\n",
      "[CV 2/5] END ....................n_neighbors=35;, score=0.701 total time=   0.3s\n",
      "[CV 3/5] END ....................n_neighbors=35;, score=0.694 total time=   0.2s\n",
      "[CV 4/5] END ....................n_neighbors=35;, score=0.688 total time=   0.2s\n",
      "[CV 5/5] END ....................n_neighbors=35;, score=0.704 total time=   0.2s\n",
      "[CV 1/5] END ....................n_neighbors=37;, score=0.688 total time=   0.2s\n",
      "[CV 2/5] END ....................n_neighbors=37;, score=0.698 total time=   0.2s\n",
      "[CV 3/5] END ....................n_neighbors=37;, score=0.691 total time=   0.2s\n",
      "[CV 4/5] END ....................n_neighbors=37;, score=0.686 total time=   0.2s\n",
      "[CV 5/5] END ....................n_neighbors=37;, score=0.699 total time=   0.2s\n",
      "[CV 1/5] END ....................n_neighbors=39;, score=0.689 total time=   0.2s\n",
      "[CV 2/5] END ....................n_neighbors=39;, score=0.701 total time=   0.2s\n",
      "[CV 3/5] END ....................n_neighbors=39;, score=0.691 total time=   0.2s\n",
      "[CV 4/5] END ....................n_neighbors=39;, score=0.691 total time=   0.3s\n",
      "[CV 5/5] END ....................n_neighbors=39;, score=0.704 total time=   0.2s\n",
      "[CV 1/5] END ....................n_neighbors=41;, score=0.689 total time=   0.2s\n",
      "[CV 2/5] END ....................n_neighbors=41;, score=0.701 total time=   0.2s\n",
      "[CV 3/5] END ....................n_neighbors=41;, score=0.688 total time=   0.2s\n",
      "[CV 4/5] END ....................n_neighbors=41;, score=0.696 total time=   0.2s\n",
      "[CV 5/5] END ....................n_neighbors=41;, score=0.704 total time=   0.2s\n",
      "[CV 1/5] END ....................n_neighbors=43;, score=0.691 total time=   0.2s\n",
      "[CV 2/5] END ....................n_neighbors=43;, score=0.708 total time=   0.2s\n",
      "[CV 3/5] END ....................n_neighbors=43;, score=0.691 total time=   0.2s\n",
      "[CV 4/5] END ....................n_neighbors=43;, score=0.697 total time=   0.2s\n",
      "[CV 5/5] END ....................n_neighbors=43;, score=0.703 total time=   0.2s\n",
      "[CV 1/5] END ....................n_neighbors=45;, score=0.688 total time=   0.2s\n",
      "[CV 2/5] END ....................n_neighbors=45;, score=0.711 total time=   0.2s\n",
      "[CV 3/5] END ....................n_neighbors=45;, score=0.690 total time=   0.3s\n",
      "[CV 4/5] END ....................n_neighbors=45;, score=0.693 total time=   0.2s\n",
      "[CV 5/5] END ....................n_neighbors=45;, score=0.708 total time=   0.3s\n",
      "[CV 1/5] END ....................n_neighbors=47;, score=0.686 total time=   0.2s\n",
      "[CV 2/5] END ....................n_neighbors=47;, score=0.709 total time=   0.2s\n",
      "[CV 3/5] END ....................n_neighbors=47;, score=0.693 total time=   0.2s\n",
      "[CV 4/5] END ....................n_neighbors=47;, score=0.691 total time=   0.3s\n",
      "[CV 5/5] END ....................n_neighbors=47;, score=0.706 total time=   0.2s\n",
      "[CV 1/5] END ....................n_neighbors=49;, score=0.686 total time=   0.3s\n",
      "[CV 2/5] END ....................n_neighbors=49;, score=0.708 total time=   0.3s\n",
      "[CV 3/5] END ....................n_neighbors=49;, score=0.694 total time=   0.3s\n",
      "[CV 4/5] END ....................n_neighbors=49;, score=0.691 total time=   0.3s\n",
      "[CV 5/5] END ....................n_neighbors=49;, score=0.702 total time=   0.3s\n",
      "[CV 1/5] END ....................n_neighbors=51;, score=0.688 total time=   0.2s\n",
      "[CV 2/5] END ....................n_neighbors=51;, score=0.703 total time=   0.2s\n",
      "[CV 3/5] END ....................n_neighbors=51;, score=0.694 total time=   0.2s\n",
      "[CV 4/5] END ....................n_neighbors=51;, score=0.691 total time=   0.3s\n",
      "[CV 5/5] END ....................n_neighbors=51;, score=0.704 total time=   0.3s\n",
      "[CV 1/5] END ....................n_neighbors=53;, score=0.692 total time=   0.2s\n",
      "[CV 2/5] END ....................n_neighbors=53;, score=0.708 total time=   0.2s\n",
      "[CV 3/5] END ....................n_neighbors=53;, score=0.694 total time=   0.2s\n",
      "[CV 4/5] END ....................n_neighbors=53;, score=0.695 total time=   0.2s\n",
      "[CV 5/5] END ....................n_neighbors=53;, score=0.703 total time=   0.2s\n",
      "[CV 1/5] END ....................n_neighbors=55;, score=0.692 total time=   0.3s\n",
      "[CV 2/5] END ....................n_neighbors=55;, score=0.702 total time=   0.3s\n",
      "[CV 3/5] END ....................n_neighbors=55;, score=0.690 total time=   0.2s\n",
      "[CV 4/5] END ....................n_neighbors=55;, score=0.699 total time=   0.3s\n",
      "[CV 5/5] END ....................n_neighbors=55;, score=0.710 total time=   0.2s\n",
      "[CV 1/5] END ....................n_neighbors=57;, score=0.695 total time=   0.2s\n",
      "[CV 2/5] END ....................n_neighbors=57;, score=0.703 total time=   0.3s\n",
      "[CV 3/5] END ....................n_neighbors=57;, score=0.690 total time=   0.3s\n",
      "[CV 4/5] END ....................n_neighbors=57;, score=0.702 total time=   0.3s\n",
      "[CV 5/5] END ....................n_neighbors=57;, score=0.708 total time=   0.3s\n",
      "[CV 1/5] END ....................n_neighbors=59;, score=0.691 total time=   0.2s\n",
      "[CV 2/5] END ....................n_neighbors=59;, score=0.706 total time=   0.3s\n",
      "[CV 3/5] END ....................n_neighbors=59;, score=0.689 total time=   0.3s\n",
      "[CV 4/5] END ....................n_neighbors=59;, score=0.697 total time=   0.3s\n",
      "[CV 5/5] END ....................n_neighbors=59;, score=0.706 total time=   0.2s\n",
      "[CV 1/5] END ....................n_neighbors=61;, score=0.691 total time=   0.2s\n",
      "[CV 2/5] END ....................n_neighbors=61;, score=0.708 total time=   0.2s\n",
      "[CV 3/5] END ....................n_neighbors=61;, score=0.689 total time=   0.3s\n",
      "[CV 4/5] END ....................n_neighbors=61;, score=0.699 total time=   0.3s\n",
      "[CV 5/5] END ....................n_neighbors=61;, score=0.706 total time=   0.2s\n",
      "[CV 1/5] END ....................n_neighbors=63;, score=0.691 total time=   0.3s\n",
      "[CV 2/5] END ....................n_neighbors=63;, score=0.709 total time=   0.3s\n",
      "[CV 3/5] END ....................n_neighbors=63;, score=0.686 total time=   0.3s\n",
      "[CV 4/5] END ....................n_neighbors=63;, score=0.703 total time=   0.3s\n",
      "[CV 5/5] END ....................n_neighbors=63;, score=0.703 total time=   0.3s\n",
      "[CV 1/5] END ....................n_neighbors=65;, score=0.689 total time=   0.3s\n",
      "[CV 2/5] END ....................n_neighbors=65;, score=0.712 total time=   0.3s\n",
      "[CV 3/5] END ....................n_neighbors=65;, score=0.690 total time=   0.3s\n",
      "[CV 4/5] END ....................n_neighbors=65;, score=0.701 total time=   0.3s\n",
      "[CV 5/5] END ....................n_neighbors=65;, score=0.703 total time=   0.3s\n",
      "[CV 1/5] END ....................n_neighbors=67;, score=0.692 total time=   0.2s\n",
      "[CV 2/5] END ....................n_neighbors=67;, score=0.712 total time=   0.3s\n",
      "[CV 3/5] END ....................n_neighbors=67;, score=0.689 total time=   0.3s\n",
      "[CV 4/5] END ....................n_neighbors=67;, score=0.696 total time=   0.3s\n",
      "[CV 5/5] END ....................n_neighbors=67;, score=0.701 total time=   0.3s\n",
      "[CV 1/5] END ....................n_neighbors=69;, score=0.691 total time=   0.3s\n",
      "[CV 2/5] END ....................n_neighbors=69;, score=0.711 total time=   0.3s\n",
      "[CV 3/5] END ....................n_neighbors=69;, score=0.689 total time=   0.3s\n",
      "[CV 4/5] END ....................n_neighbors=69;, score=0.700 total time=   0.3s\n",
      "[CV 5/5] END ....................n_neighbors=69;, score=0.697 total time=   0.3s\n",
      "[CV 1/5] END ....................n_neighbors=71;, score=0.689 total time=   0.3s\n",
      "[CV 2/5] END ....................n_neighbors=71;, score=0.711 total time=   0.3s\n",
      "[CV 3/5] END ....................n_neighbors=71;, score=0.691 total time=   0.3s\n",
      "[CV 4/5] END ....................n_neighbors=71;, score=0.708 total time=   0.3s\n",
      "[CV 5/5] END ....................n_neighbors=71;, score=0.698 total time=   0.3s\n",
      "[CV 1/5] END ....................n_neighbors=73;, score=0.690 total time=   0.3s\n",
      "[CV 2/5] END ....................n_neighbors=73;, score=0.708 total time=   0.3s\n",
      "[CV 3/5] END ....................n_neighbors=73;, score=0.694 total time=   0.3s\n",
      "[CV 4/5] END ....................n_neighbors=73;, score=0.702 total time=   0.3s\n",
      "[CV 5/5] END ....................n_neighbors=73;, score=0.696 total time=   0.3s\n",
      "[CV 1/5] END ....................n_neighbors=75;, score=0.691 total time=   0.3s\n",
      "[CV 2/5] END ....................n_neighbors=75;, score=0.709 total time=   0.3s\n",
      "[CV 3/5] END ....................n_neighbors=75;, score=0.691 total time=   0.3s\n",
      "[CV 4/5] END ....................n_neighbors=75;, score=0.700 total time=   0.3s\n",
      "[CV 5/5] END ....................n_neighbors=75;, score=0.694 total time=   0.3s\n",
      "[CV 1/5] END ....................n_neighbors=77;, score=0.693 total time=   0.3s\n",
      "[CV 2/5] END ....................n_neighbors=77;, score=0.708 total time=   0.3s\n",
      "[CV 3/5] END ....................n_neighbors=77;, score=0.689 total time=   0.3s\n",
      "[CV 4/5] END ....................n_neighbors=77;, score=0.699 total time=   0.3s\n",
      "[CV 5/5] END ....................n_neighbors=77;, score=0.693 total time=   0.3s\n",
      "[CV 1/5] END ....................n_neighbors=79;, score=0.693 total time=   0.3s\n",
      "[CV 2/5] END ....................n_neighbors=79;, score=0.711 total time=   0.3s\n",
      "[CV 3/5] END ....................n_neighbors=79;, score=0.692 total time=   0.3s\n",
      "[CV 4/5] END ....................n_neighbors=79;, score=0.701 total time=   0.3s\n",
      "[CV 5/5] END ....................n_neighbors=79;, score=0.695 total time=   0.3s\n",
      "[CV 1/5] END ....................n_neighbors=81;, score=0.692 total time=   0.3s\n",
      "[CV 2/5] END ....................n_neighbors=81;, score=0.709 total time=   0.3s\n",
      "[CV 3/5] END ....................n_neighbors=81;, score=0.690 total time=   0.3s\n",
      "[CV 4/5] END ....................n_neighbors=81;, score=0.705 total time=   0.3s\n",
      "[CV 5/5] END ....................n_neighbors=81;, score=0.700 total time=   0.3s\n",
      "[CV 1/5] END ....................n_neighbors=83;, score=0.691 total time=   0.3s\n",
      "[CV 2/5] END ....................n_neighbors=83;, score=0.710 total time=   0.3s\n",
      "[CV 3/5] END ....................n_neighbors=83;, score=0.692 total time=   0.3s\n",
      "[CV 4/5] END ....................n_neighbors=83;, score=0.708 total time=   0.3s\n",
      "[CV 5/5] END ....................n_neighbors=83;, score=0.703 total time=   0.3s\n",
      "[CV 1/5] END ....................n_neighbors=85;, score=0.691 total time=   0.3s\n",
      "[CV 2/5] END ....................n_neighbors=85;, score=0.709 total time=   0.3s\n",
      "[CV 3/5] END ....................n_neighbors=85;, score=0.690 total time=   0.3s\n",
      "[CV 4/5] END ....................n_neighbors=85;, score=0.708 total time=   0.3s\n",
      "[CV 5/5] END ....................n_neighbors=85;, score=0.702 total time=   0.3s\n",
      "[CV 1/5] END ....................n_neighbors=87;, score=0.692 total time=   0.3s\n",
      "[CV 2/5] END ....................n_neighbors=87;, score=0.711 total time=   0.3s\n",
      "[CV 3/5] END ....................n_neighbors=87;, score=0.695 total time=   0.3s\n",
      "[CV 4/5] END ....................n_neighbors=87;, score=0.704 total time=   0.3s\n",
      "[CV 5/5] END ....................n_neighbors=87;, score=0.699 total time=   0.3s\n",
      "[CV 1/5] END ....................n_neighbors=89;, score=0.693 total time=   0.3s\n",
      "[CV 2/5] END ....................n_neighbors=89;, score=0.709 total time=   0.3s\n",
      "[CV 3/5] END ....................n_neighbors=89;, score=0.697 total time=   0.3s\n",
      "[CV 4/5] END ....................n_neighbors=89;, score=0.705 total time=   0.3s\n",
      "[CV 5/5] END ....................n_neighbors=89;, score=0.702 total time=   0.3s\n",
      "[CV 1/5] END ....................n_neighbors=91;, score=0.689 total time=   0.3s\n",
      "[CV 2/5] END ....................n_neighbors=91;, score=0.712 total time=   0.3s\n",
      "[CV 3/5] END ....................n_neighbors=91;, score=0.700 total time=   0.3s\n",
      "[CV 4/5] END ....................n_neighbors=91;, score=0.709 total time=   0.3s\n",
      "[CV 5/5] END ....................n_neighbors=91;, score=0.702 total time=   0.3s\n",
      "[CV 1/5] END ....................n_neighbors=93;, score=0.690 total time=   0.3s\n",
      "[CV 2/5] END ....................n_neighbors=93;, score=0.708 total time=   0.3s\n",
      "[CV 3/5] END ....................n_neighbors=93;, score=0.700 total time=   0.3s\n",
      "[CV 4/5] END ....................n_neighbors=93;, score=0.710 total time=   0.3s\n",
      "[CV 5/5] END ....................n_neighbors=93;, score=0.704 total time=   0.3s\n",
      "[CV 1/5] END ....................n_neighbors=95;, score=0.687 total time=   0.3s\n",
      "[CV 2/5] END ....................n_neighbors=95;, score=0.705 total time=   0.3s\n",
      "[CV 3/5] END ....................n_neighbors=95;, score=0.697 total time=   0.3s\n",
      "[CV 4/5] END ....................n_neighbors=95;, score=0.713 total time=   0.3s\n",
      "[CV 5/5] END ....................n_neighbors=95;, score=0.702 total time=   0.3s\n",
      "[CV 1/5] END ....................n_neighbors=97;, score=0.687 total time=   0.3s\n",
      "[CV 2/5] END ....................n_neighbors=97;, score=0.707 total time=   0.3s\n",
      "[CV 3/5] END ....................n_neighbors=97;, score=0.697 total time=   0.3s\n",
      "[CV 4/5] END ....................n_neighbors=97;, score=0.707 total time=   0.3s\n",
      "[CV 5/5] END ....................n_neighbors=97;, score=0.705 total time=   0.3s\n",
      "[CV 1/5] END ....................n_neighbors=99;, score=0.689 total time=   0.3s\n",
      "[CV 2/5] END ....................n_neighbors=99;, score=0.707 total time=   0.3s\n",
      "[CV 3/5] END ....................n_neighbors=99;, score=0.701 total time=   0.3s\n",
      "[CV 4/5] END ....................n_neighbors=99;, score=0.712 total time=   0.3s\n",
      "[CV 5/5] END ....................n_neighbors=99;, score=0.700 total time=   0.3s\n",
      "[CV 1/5] END ...................n_neighbors=101;, score=0.693 total time=   0.3s\n",
      "[CV 2/5] END ...................n_neighbors=101;, score=0.708 total time=   0.3s\n",
      "[CV 3/5] END ...................n_neighbors=101;, score=0.700 total time=   0.3s\n",
      "[CV 4/5] END ...................n_neighbors=101;, score=0.707 total time=   0.3s\n",
      "[CV 5/5] END ...................n_neighbors=101;, score=0.699 total time=   0.3s\n",
      "[CV 1/5] END ...................n_neighbors=103;, score=0.691 total time=   0.3s\n",
      "[CV 2/5] END ...................n_neighbors=103;, score=0.708 total time=   0.3s\n",
      "[CV 3/5] END ...................n_neighbors=103;, score=0.699 total time=   0.3s\n",
      "[CV 4/5] END ...................n_neighbors=103;, score=0.706 total time=   0.3s\n",
      "[CV 5/5] END ...................n_neighbors=103;, score=0.701 total time=   0.4s\n",
      "Metrics: \n",
      "               precision    recall  f1-score   support\n",
      "\n",
      "           0       0.74      0.90      0.81      1901\n",
      "           1       0.51      0.24      0.32       804\n",
      "\n",
      "    accuracy                           0.70      2705\n",
      "   macro avg       0.62      0.57      0.57      2705\n",
      "weighted avg       0.67      0.70      0.67      2705\n",
      "\n"
     ]
    }
   ],
   "source": [
    "from math import sqrt\n",
    "Range = list(range(1, int(sqrt(len(X_Train))), 2))\n",
    "Param_grid = dict(n_neighbors=Range)    \n",
    "KNN = KNeighborsClassifier()    \n",
    "Grid = GridSearchCV(KNN, Param_grid, cv=5, scoring='accuracy', verbose=3)\n",
    "Grid.fit(X_Train, y_train)\n",
    "best_k = Grid.best_params_['n_neighbors']\n",
    "best_model = Grid.best_estimator_\n",
    "\n",
    "y_pred = best_model.predict(X_Test)\n",
    "print(\"Metrics: \\n\", classification_report(y_test, y_pred))"
   ]
  },
  {
   "cell_type": "markdown",
   "id": "7ad5c9a880d58569",
   "metadata": {
    "collapsed": false
   },
   "source": [
    "## Naive Bayes"
   ]
  },
  {
   "cell_type": "code",
   "execution_count": 7,
   "id": "8d6f0972b2344568",
   "metadata": {
    "ExecuteTime": {
     "end_time": "2024-04-01T15:22:23.549631Z",
     "start_time": "2024-04-01T15:22:16.970028Z"
    },
    "collapsed": false
   },
   "outputs": [
    {
     "name": "stdout",
     "output_type": "stream",
     "text": [
      "              precision    recall  f1-score   support\n",
      "\n",
      "           0       0.94      0.34      0.50      7555\n",
      "           1       0.38      0.95      0.54      3263\n",
      "\n",
      "    accuracy                           0.52     10818\n",
      "   macro avg       0.66      0.64      0.52     10818\n",
      "weighted avg       0.77      0.52      0.51     10818\n",
      "\n",
      "Metrics: \n",
      "               precision    recall  f1-score   support\n",
      "\n",
      "           0       0.93      0.32      0.48      1901\n",
      "           1       0.37      0.94      0.53       804\n",
      "\n",
      "    accuracy                           0.51      2705\n",
      "   macro avg       0.65      0.63      0.51      2705\n",
      "weighted avg       0.76      0.51      0.50      2705\n",
      "\n"
     ]
    }
   ],
   "source": [
    "NB = GaussianNB()\n",
    "Model_Train(NB, X_Train, y_train)\n",
    "\n",
    "y_pred = NB.predict(X_Test)\n",
    "print(\"Metrics: \\n\", classification_report(y_test, y_pred))"
   ]
  },
  {
   "cell_type": "markdown",
   "id": "a08cc4fc3b5bc7f8",
   "metadata": {
    "collapsed": false
   },
   "source": [
    "## CART"
   ]
  },
  {
   "cell_type": "code",
   "execution_count": 8,
   "id": "e5925c589fa5cdce",
   "metadata": {
    "ExecuteTime": {
     "end_time": "2024-04-01T15:30:08.437962Z",
     "start_time": "2024-04-01T15:26:19.079883Z"
    },
    "collapsed": false
   },
   "outputs": [
    {
     "name": "stdout",
     "output_type": "stream",
     "text": [
      "              precision    recall  f1-score   support\n",
      "\n",
      "           0       1.00      1.00      1.00      7555\n",
      "           1       1.00      1.00      1.00      3263\n",
      "\n",
      "    accuracy                           1.00     10818\n",
      "   macro avg       1.00      1.00      1.00     10818\n",
      "weighted avg       1.00      1.00      1.00     10818\n",
      "\n",
      "Metrics: \n",
      "               precision    recall  f1-score   support\n",
      "\n",
      "           0       1.00      1.00      1.00      1901\n",
      "           1       1.00      1.00      1.00       804\n",
      "\n",
      "    accuracy                           1.00      2705\n",
      "   macro avg       1.00      1.00      1.00      2705\n",
      "weighted avg       1.00      1.00      1.00      2705\n",
      "\n"
     ]
    }
   ],
   "source": [
    "Cart = DecisionTreeClassifier()\n",
    "Model_Train(Cart, X_Train, y_train)\n",
    "\n",
    "y_pred = Cart.predict(X_Test)\n",
    "print(\"Metrics: \\n\", classification_report(y_test, y_pred))"
   ]
  },
  {
   "cell_type": "code",
   "execution_count": 20,
   "id": "2c856da5",
   "metadata": {},
   "outputs": [
    {
     "data": {
      "text/plain": [
       "[Text(0.6666666666666666, 0.9375, 'x[2] <= 0.5\\ngini = 0.424\\nsamples = 8655\\nvalue = [6016, 2639]'),\n",
       " Text(0.5833333333333334, 0.8125, 'x[133] <= 0.5\\ngini = 0.139\\nsamples = 6505\\nvalue = [6016.0, 489.0]'),\n",
       " Text(0.5, 0.6875, 'x[134] <= 0.5\\ngini = 0.055\\nsamples = 6190\\nvalue = [6016, 174]'),\n",
       " Text(0.16666666666666666, 0.5625, 'x[56] <= 0.5\\ngini = 0.0\\nsamples = 4783\\nvalue = [4782.0, 1.0]'),\n",
       " Text(0.08333333333333333, 0.4375, 'gini = 0.0\\nsamples = 4690\\nvalue = [4690, 0]'),\n",
       " Text(0.25, 0.4375, 'x[36] <= 0.5\\ngini = 0.021\\nsamples = 93\\nvalue = [92, 1]'),\n",
       " Text(0.16666666666666666, 0.3125, 'gini = 0.0\\nsamples = 86\\nvalue = [86, 0]'),\n",
       " Text(0.3333333333333333, 0.3125, 'x[118] <= 0.5\\ngini = 0.245\\nsamples = 7\\nvalue = [6, 1]'),\n",
       " Text(0.25, 0.1875, 'gini = 0.0\\nsamples = 6\\nvalue = [6, 0]'),\n",
       " Text(0.4166666666666667, 0.1875, 'gini = 0.0\\nsamples = 1\\nvalue = [0, 1]'),\n",
       " Text(0.8333333333333334, 0.5625, 'x[123] <= 0.5\\ngini = 0.216\\nsamples = 1407\\nvalue = [1234, 173]'),\n",
       " Text(0.75, 0.4375, 'x[121] <= 0.5\\ngini = 0.135\\nsamples = 1331\\nvalue = [1234, 97]'),\n",
       " Text(0.6666666666666666, 0.3125, 'x[122] <= 0.5\\ngini = 0.064\\nsamples = 1276\\nvalue = [1234, 42]'),\n",
       " Text(0.5833333333333334, 0.1875, 'x[301] <= 44.596\\ngini = 0.002\\nsamples = 1235\\nvalue = [1234, 1]'),\n",
       " Text(0.5, 0.0625, 'gini = 0.0\\nsamples = 1234\\nvalue = [1234, 0]'),\n",
       " Text(0.6666666666666666, 0.0625, 'gini = 0.0\\nsamples = 1\\nvalue = [0, 1]'),\n",
       " Text(0.75, 0.1875, 'gini = 0.0\\nsamples = 41\\nvalue = [0, 41]'),\n",
       " Text(0.8333333333333334, 0.3125, 'gini = 0.0\\nsamples = 55\\nvalue = [0, 55]'),\n",
       " Text(0.9166666666666666, 0.4375, 'gini = 0.0\\nsamples = 76\\nvalue = [0, 76]'),\n",
       " Text(0.6666666666666666, 0.6875, 'gini = 0.0\\nsamples = 315\\nvalue = [0, 315]'),\n",
       " Text(0.75, 0.8125, 'gini = 0.0\\nsamples = 2150\\nvalue = [0, 2150]')]"
      ]
     },
     "execution_count": 20,
     "metadata": {},
     "output_type": "execute_result"
    },
    {
     "data": {
      "image/png": "[encoded data removed]",
      "text/plain": [
       "<Figure size 1000x600 with 1 Axes>"
      ]
     },
     "metadata": {},
     "output_type": "display_data"
    }
   ],
   "source": [
    "plt.figure(figsize=(10, 6))\n",
    "plot_tree(Cart)"
   ]
  },
  {
   "cell_type": "markdown",
   "id": "b403d57301d2c426",
   "metadata": {
    "collapsed": false
   },
   "source": [
    "## Random Forest"
   ]
  },
  {
   "cell_type": "code",
   "execution_count": 9,
   "id": "aff17b3004eae4fa",
   "metadata": {
    "ExecuteTime": {
     "end_time": "2024-04-01T15:36:03.437291Z",
     "start_time": "2024-04-01T15:30:54.248013Z"
    },
    "collapsed": false
   },
   "outputs": [
    {
     "name": "stdout",
     "output_type": "stream",
     "text": [
      "              precision    recall  f1-score   support\n",
      "\n",
      "           0       0.96      1.00      0.98      7555\n",
      "           1       1.00      0.90      0.95      3263\n",
      "\n",
      "    accuracy                           0.97     10818\n",
      "   macro avg       0.98      0.95      0.96     10818\n",
      "weighted avg       0.97      0.97      0.97     10818\n",
      "\n",
      "Metrics: \n",
      "               precision    recall  f1-score   support\n",
      "\n",
      "           0       0.95      1.00      0.98      1901\n",
      "           1       1.00      0.89      0.94       804\n",
      "\n",
      "    accuracy                           0.97      2705\n",
      "   macro avg       0.98      0.94      0.96      2705\n",
      "weighted avg       0.97      0.97      0.97      2705\n",
      "\n"
     ]
    }
   ],
   "source": [
    "RF = RandomForestClassifier(n_estimators=10, random_state=42)\n",
    "Model_Train(RF, X_Train, y_train)\n",
    "\n",
    "y_pred = RF.predict(X_Test)\n",
    "print(\"Metrics: \\n\", classification_report(y_test, y_pred))"
   ]
  },
  {
   "cell_type": "markdown",
   "id": "3cda2d8eccac887b",
   "metadata": {
    "collapsed": false
   },
   "source": [
    "## Logistic Regression"
   ]
  },
  {
   "cell_type": "code",
   "execution_count": 21,
   "id": "8681255dc60c8b85",
   "metadata": {
    "ExecuteTime": {
     "end_time": "2024-04-01T15:51:47.010235Z",
     "start_time": "2024-04-01T15:42:14.144284Z"
    },
    "collapsed": false
   },
   "outputs": [
    {
     "name": "stdout",
     "output_type": "stream",
     "text": [
      "              precision    recall  f1-score   support\n",
      "\n",
      "           0       0.96      0.99      0.98      7555\n",
      "           1       0.98      0.91      0.94      3263\n",
      "\n",
      "    accuracy                           0.97     10818\n",
      "   macro avg       0.97      0.95      0.96     10818\n",
      "weighted avg       0.97      0.97      0.97     10818\n",
      "\n",
      "Metrics: \n",
      "               precision    recall  f1-score   support\n",
      "\n",
      "           0       0.96      0.99      0.98      1901\n",
      "           1       0.99      0.90      0.94       804\n",
      "\n",
      "    accuracy                           0.97      2705\n",
      "   macro avg       0.97      0.95      0.96      2705\n",
      "weighted avg       0.97      0.97      0.97      2705\n",
      "\n"
     ]
    }
   ],
   "source": [
    "LogR = LogisticRegression(solver='liblinear', max_iter=5000)\n",
    "Model_Train(LogR, X_Train, y_train)\n",
    "\n",
    "y_pred = LogR.predict(X_Test)\n",
    "print(\"Metrics: \\n\", classification_report(y_test, y_pred))"
   ]
  },
  {
   "cell_type": "markdown",
   "id": "b6a5d4f1c2f403f8",
   "metadata": {
    "collapsed": false
   },
   "source": [
    "## SVM"
   ]
  },
  {
   "cell_type": "code",
   "execution_count": 11,
   "id": "a5c3d202",
   "metadata": {},
   "outputs": [
    {
     "name": "stdout",
     "output_type": "stream",
     "text": [
      "              precision    recall  f1-score   support\n",
      "\n",
      "           0       0.96      0.99      0.98      7555\n",
      "           1       0.98      0.90      0.94      3263\n",
      "\n",
      "    accuracy                           0.97     10818\n",
      "   macro avg       0.97      0.95      0.96     10818\n",
      "weighted avg       0.97      0.97      0.96     10818\n",
      "\n",
      "Metrics: \n",
      "               precision    recall  f1-score   support\n",
      "\n",
      "           0       0.95      0.99      0.97      1901\n",
      "           1       0.98      0.89      0.93       804\n",
      "\n",
      "    accuracy                           0.96      2705\n",
      "   macro avg       0.97      0.94      0.95      2705\n",
      "weighted avg       0.96      0.96      0.96      2705\n",
      "\n"
     ]
    }
   ],
   "source": [
    "SVM = LinearSVC(dual=False, max_iter= 10000)\n",
    "Model_Train(SVM, X_Train, y_train)\n",
    "\n",
    "y_pred = SVM.predict(X_Test)\n",
    "print(\"Metrics: \\n\", classification_report(y_test, y_pred, zero_division=0))"
   ]
  },
  {
   "cell_type": "code",
   "execution_count": 12,
   "id": "bf8d880f",
   "metadata": {},
   "outputs": [
    {
     "name": "stdout",
     "output_type": "stream",
     "text": [
      "[0, 0, 1, 0, 0, 0, 0, 1, 1, 0, 1, 0, 0, 1, 0, 0, 0, 0, 1, 0, 0, 0, 1, 0, 0, 0, 1, 0, 1, 0, 0, 0, 1, 1, 0, 1, 0, 0, 1, 0, 0, 1, 1, 0, 0, 0, 0, 0, 0, 0, 0, 0, 0, 0, 0, 1, 0, 0, 1, 0, 0, 0, 1, 1, 0, 1, 1, 0, 0, 0, 0, 0, 0, 0, 0, 0, 0, 0, 0, 0, 0, 0, 0, 0, 0, 1, 0, 0, 0, 0, 1, 0, 0, 1, 0, 0, 0, 1, 0, 0, 0, 0, 0, 0, 0, 0, 0, 0, 0, 0, 0, 0, 0, 1, 0, 1, 0, 0, 0, 0, 1, 0, 0, 0, 1, 0, 0, 0, 1, 0, 0, 0, 0, 0, 0, 0, 0, 0, 0, 0, 0, 1, 0, 0, 0, 0, 0, 0, 1, 0, 0, 0, 1, 0, 1, 0, 1, 0, 0, 0, 0, 1, 0, 0, 0, 1, 0, 0, 0, 1, 0, 0, 0, 0, 0, 0, 0, 0, 1, 0, 0, 0, 1, 0, 1, 0, 0, 0, 0, 0, 1, 0, 0, 0, 0, 0, 0, 0, 1, 0, 0, 1, 0, 1, 1, 0, 0, 0, 1, 0, 0, 1, 0, 0, 0, 0, 0, 1, 0, 1, 0, 0, 0, 0, 1, 0, 0, 0, 0, 0, 0, 1, 0, 0, 0, 0, 0, 0, 0, 0, 0, 0, 0, 0, 0, 0, 0, 0, 0, 0, 0, 1, 0, 0, 0, 1, 0, 0, 1, 1, 0, 0, 0, 0, 1, 0, 0, 0, 1, 1, 0, 0, 0, 1, 0, 0, 0, 0, 0, 1, 0, 0, 0, 0, 1, 0, 0, 0, 0, 0, 0, 0, 0, 0, 1, 0, 1, 0, 0, 0, 1, 0, 1, 0, 1, 0, 0, 1, 0, 1, 0, 1, 0, 1, 0, 1, 1, 0, 1, 1, 0, 0, 0, 0, 0, 1, 0, 0, 1, 0, 0, 0, 0, 0, 0, 1, 0, 0, 1, 0, 1, 0, 1, 0, 1, 0, 0, 0, 0, 0, 0, 0, 0, 0, 1, 0, 1, 0, 0, 0, 0, 0, 0, 0, 0, 0, 0, 0, 1, 0, 0, 1, 0, 0, 1, 0, 1, 0, 0, 0, 0, 0, 1, 0, 1, 1, 0, 0, 0, 0, 0, 1, 0, 0, 0, 0, 0, 1, 0, 0, 0, 0, 0, 0, 0, 0, 0, 1, 0, 0, 0, 1, 1, 0, 0, 0, 0, 1, 0, 0, 1, 0, 0, 0, 1, 1, 1, 0, 0, 0, 0, 1, 0, 0, 1, 1, 0, 0, 0, 0, 0, 0, 1, 1, 0, 1, 1, 1, 0, 1, 1, 1, 0, 0, 1, 0, 1, 0, 0, 0, 1, 0, 0, 0, 0, 0, 1, 0, 0, 0, 1, 0, 0, 1, 0, 0, 1, 1, 1, 0, 0, 0, 0, 0, 1, 0, 0, 0, 1, 1, 0, 1, 0, 0, 0, 0, 1, 1, 0, 0, 0, 0, 0, 0, 1, 1, 0, 0, 0, 1, 1, 1, 1, 0, 0, 0, 0, 1, 1, 1, 0, 1, 1, 0, 0, 0, 0, 1, 0, 0, 0, 0, 0, 0, 0, 0, 0, 0, 1, 0, 0, 1, 0, 0, 0, 0, 1, 0, 0, 1, 0, 0, 0, 1, 0, 0, 0, 0, 0, 1, 0, 0, 0, 0, 1, 0, 1, 0, 1, 0, 0, 1, 0, 0, 0, 1, 0, 0, 1, 1, 1, 0, 0, 0, 0, 0, 0, 0, 0, 0, 1, 0, 0, 1, 1, 0, 1, 0, 1, 1, 1, 0, 0, 0, 0, 0, 1, 0, 0, 0, 0, 0, 0, 0, 1, 0, 0, 1, 0, 0, 0, 0, 0, 0, 0, 0, 1, 0, 0, 0, 0, 0, 0, 0, 1, 0, 0, 0, 0, 0, 0, 0, 0, 0, 0, 0, 0, 0, 0, 0, 0, 0, 1, 0, 0, 0, 0, 0, 0, 1, 1, 0, 1, 1, 0, 0, 0, 0, 0, 0, 0, 0, 0, 0, 1, 0, 0, 0, 0, 0, 1, 1, 0, 0, 0, 0, 0, 0, 0, 0, 0, 0, 1, 0, 1, 1, 0, 0, 0, 0, 0, 1, 0, 0, 0, 0, 1, 1, 0, 0, 0, 1, 0, 0, 0, 0, 1, 0, 0, 1, 0, 0, 1, 0, 1, 0, 1, 1, 0, 0, 0, 0, 0, 0, 0, 1, 0, 0, 0, 0, 1, 1, 0, 0, 0, 0, 0, 1, 0, 0, 0, 0, 0, 0, 0, 1, 1, 1, 0, 1, 1, 1, 0, 0, 1, 0, 1, 0, 0, 0, 0, 1, 0, 0, 1, 1, 0, 0, 0, 0, 0, 0, 0, 0, 0, 1, 0, 0, 0, 0, 1, 0, 0, 1, 0, 0, 1, 1, 0, 1, 1, 0, 0, 0, 0, 0, 0, 0, 0, 0, 1, 0, 0, 1, 0, 0, 0, 0, 0, 0, 0, 0, 0, 1, 0, 1, 0, 0, 1, 0, 0, 0, 1, 1, 1, 0, 0, 1, 0, 0, 0, 0, 1, 0, 0, 0, 0, 0, 0, 0, 1, 0, 0, 1, 1, 1, 0, 0, 0, 0, 0, 0, 0, 0, 0, 0, 1, 0, 0, 0, 0, 0, 0, 0, 0, 1, 1, 0, 0, 0, 1, 0, 1, 0, 0, 0, 0, 1, 0, 1, 0, 0, 0, 1, 0, 0, 0, 0, 0, 0, 1, 0, 0, 0, 0, 0, 0, 0, 0, 0, 1, 0, 0, 0, 0, 1, 1, 0, 0, 0, 1, 0, 0, 0, 0, 0, 0, 0, 0, 0, 0, 0, 0, 0, 0, 0, 1, 1, 0, 0, 1, 0, 1, 0, 0, 0, 0, 1, 1, 0, 0, 1, 1, 0, 0, 1, 0, 1, 0, 1, 1, 0, 0, 0, 0, 1, 0, 0, 0, 1, 0, 0, 0, 0, 1, 0, 0, 0, 1, 1, 1, 1, 0, 1, 1, 1, 0, 0, 0, 1, 0, 0, 0, 0, 0, 0, 1, 0, 0, 1, 0, 0, 0, 0, 0, 0, 0, 1, 1, 0, 0, 0, 0, 0, 1, 0, 0, 0, 0, 1, 1, 0, 0, 0, 0, 0, 0, 0, 0, 0, 0, 0, 0, 0, 0, 0, 1, 0, 1, 1, 1, 0, 0, 0, 1, 1, 1, 0, 1, 0, 0, 1, 0, 1, 0, 0, 1, 0, 0, 0, 0, 0, 0, 0, 1, 0, 0, 1, 1, 1, 1, 0, 0, 0, 0, 0, 0, 0, 0, 1, 0, 1, 1, 0, 0, 0, 0, 0, 1, 0, 0, 0, 0, 0, 0, 0, 1, 1, 0, 1, 0, 0, 1, 0, 0, 0, 0, 0, 1, 0, 0, 0, 0, 1, 0, 0, 0, 0, 0, 1, 1, 0, 0, 0, 1, 0, 0, 0, 0, 1, 0, 0, 0, 0, 1, 0, 1, 0, 0, 1, 0, 1, 0, 0, 0, 0, 0, 1, 0, 0, 0, 0, 0, 0, 0, 1, 0, 1, 0, 0, 1, 0, 0, 1, 0, 0, 0, 0, 0, 0, 0, 0, 0, 0, 1, 0, 0, 1, 0, 1, 0, 0, 1, 0, 1, 0, 0, 0, 0, 0, 0, 1, 0, 1, 1, 1, 0, 1, 0, 1, 0, 1, 1, 1, 0, 0, 0, 1, 1, 0, 0, 0, 0, 1, 1, 0, 1, 1, 1, 0, 0, 1, 0, 0, 1, 0, 0, 1, 1, 1, 0, 0, 1, 0, 0, 1, 0, 0, 0, 1, 0, 0, 0, 0, 0, 1, 0, 0, 1, 0, 0, 0, 0, 0, 0, 0, 0, 0, 0, 0, 1, 0, 0, 1, 0, 0, 1, 0, 0, 1, 0, 1, 1, 0, 0, 0, 1, 1, 0, 1, 1, 0, 0, 1, 0, 0, 0, 1, 0, 0, 0, 0, 0, 0, 0, 0, 0, 0, 0, 0, 0, 0, 0, 0, 1, 0, 0, 0, 0, 0, 0, 1, 0, 0, 0, 0, 1, 0, 0, 0, 0, 0, 1, 0, 0, 0, 0, 0, 1, 0, 0, 1, 0, 0, 0, 0, 0, 1, 0, 1, 0, 1, 1, 0, 0, 1, 1, 0, 1, 0, 0, 1, 1, 0, 0, 0, 0, 0, 0, 0, 0, 0, 0, 0, 1, 0, 0, 0, 1, 1, 1, 0, 0, 1, 0, 0, 0, 0, 0, 0, 0, 0, 0, 0, 1, 0, 0, 0, 0, 0, 0, 0, 0, 0, 1, 0, 0, 0, 0, 0, 0, 0, 1, 0, 0, 0, 0, 0, 0, 0, 0, 0, 0, 0, 0, 0, 0, 0, 0, 1, 0, 1, 0, 0, 1, 0, 1, 1, 0, 1, 1, 0, 0, 0, 0, 0, 1, 0, 0, 1, 0, 0, 0, 0, 1, 0, 1, 0, 0, 1, 0, 0, 0, 1, 1, 1, 0, 0, 1, 0, 1, 0, 1, 0, 0, 0, 0, 0, 0, 0, 0, 0, 1, 0, 1, 0, 0, 0, 0, 0, 0, 0, 1, 0, 0, 0, 0, 0, 0, 0, 0, 0, 1, 0, 1, 1, 1, 1, 0, 0, 0, 1, 0, 1, 0, 0, 1, 1, 0, 0, 0, 0, 0, 0, 1, 0, 0, 1, 0, 1, 0, 1, 0, 0, 0, 0, 0, 0, 0, 0, 1, 0, 0, 1, 1, 1, 0, 0, 0, 0, 0, 0, 0, 0, 1, 1, 1, 1, 0, 1, 0, 1, 0, 0, 0, 1, 0, 0, 1, 0, 0, 0, 0, 0, 0, 0, 0, 0, 0, 1, 1, 0, 0, 1, 0, 1, 1, 0, 0, 1, 0, 1, 0, 0, 0, 1, 0, 0, 0, 0, 1, 0, 1, 1, 0, 0, 0, 0, 0, 0, 1, 0, 0, 0, 0, 0, 1, 0, 0, 0, 1, 1, 0, 0, 0, 1, 0, 0, 0, 1, 0, 0, 1, 0, 0, 0, 0, 1, 1, 0, 0, 0, 1, 0, 1, 1, 1, 1, 1, 0, 0, 1, 0, 0, 1, 0, 0, 0, 0, 0, 0, 0, 0, 0, 0, 0, 1, 0, 0, 1, 1, 0, 0, 0, 0, 0, 0, 0, 1, 0, 0, 0, 0, 1, 0, 0, 0, 0, 0, 0, 1, 1, 0, 0, 0, 1, 0, 0, 0, 1, 0, 0, 0, 0, 0, 1, 1, 0, 1, 1, 0, 1, 0, 0, 0, 1, 0, 1, 0, 0, 0, 0, 0, 0, 1, 0, 0, 1, 0, 0, 0, 0, 1, 0, 1, 0, 0, 0, 1, 0, 0, 0, 0, 0, 1, 0, 0, 1, 0, 0, 0, 0, 1, 0, 1, 0, 0, 0, 0, 0, 0, 1, 0, 0, 1, 0, 0, 0, 0, 0, 0, 1, 0, 1, 0, 0, 0, 1, 0, 0, 0, 0, 0, 0, 0, 1, 1, 0, 0, 0, 0, 1, 1, 1, 0, 0, 0, 1, 0, 0, 0, 0, 1, 0, 0, 1, 0, 1, 0, 0, 0, 0, 0, 1, 1, 1, 1, 1, 0, 0, 1, 0, 1, 1, 0, 1, 0, 0, 1, 0, 0, 0, 1, 0, 0, 0, 0, 0, 0, 1, 0, 0, 1, 0, 0, 0, 0, 0, 0, 1, 0, 0, 0, 0, 1, 0, 0, 1, 0, 0, 0, 0, 0, 0, 1, 0, 0, 0, 0, 0, 0, 0, 0, 1, 0, 1, 0, 0, 0, 0, 0, 0, 1, 1, 0, 1, 0, 1, 0, 1, 1, 0, 1, 0, 0, 1, 0, 0, 0, 1, 0, 1, 1, 0, 1, 0, 0, 0, 0, 0, 0, 1, 0, 0, 1, 1, 0, 1, 1, 0, 0, 0, 1, 0, 1, 0, 1, 1, 1, 0, 1, 0, 0, 0, 0, 0, 1, 0, 0, 0, 1, 0, 1, 0, 0, 1, 0, 0, 0, 0, 0, 0, 0, 0, 0, 0, 1, 0, 0, 0, 0, 0, 0, 0, 0, 0, 0, 0, 1, 0, 0, 0, 1, 1, 0, 0, 0, 0, 0, 0, 0, 0, 0, 1, 0, 0, 1, 0, 0, 0, 1, 0, 0, 0, 0, 0, 0, 0, 0, 1, 0, 0, 0, 0, 0, 0, 0, 1, 0, 1, 0, 0, 0, 0, 0, 0, 0, 0, 1, 0, 0, 0, 1, 0, 1, 1, 0, 0, 0, 0, 0, 0, 0, 0, 1, 1, 1, 0, 0, 0, 0, 0, 0, 0, 0, 0, 0, 0, 1, 0, 1, 0, 0, 0, 0, 0, 0, 1, 0, 1, 0, 0, 0, 1, 0, 0, 0, 1, 0, 1, 1, 0, 0, 0, 0, 0, 0, 0, 1, 0, 0, 0, 1, 0, 0, 1, 0, 0, 0, 0, 0, 1, 0, 0, 1, 0, 0, 0, 1, 1, 1, 1, 0, 0, 0, 0, 1, 0, 0, 0, 0, 0, 0, 1, 0, 0, 0, 0, 1, 0, 0, 0, 0, 1, 0, 0, 1, 0, 1, 1, 1, 1, 1, 0, 0, 0, 0, 0, 0, 0, 0, 0, 1, 1, 0, 0, 0, 1, 0, 1, 0, 0, 0, 0, 1, 0, 0, 0, 1, 0, 0, 0, 1, 0, 0, 0, 1, 1, 0, 0, 0, 0, 0, 1, 0, 1, 1, 0, 1, 0, 0, 0, 0, 1, 0, 0, 0, 0, 0, 1, 0, 1, 0, 0, 1, 1, 0, 0, 1, 1, 0, 0, 1, 0, 1, 0, 0, 0, 0, 0, 0, 0, 0, 0, 0, 0, 1, 0, 0, 1, 0, 0, 0, 0, 1, 0, 0, 1, 1, 1, 0, 0, 1, 1, 0, 0, 0, 1, 0, 0, 0, 0, 0, 0, 0, 0, 1, 0, 0, 1, 0, 0, 0, 0, 0, 0, 0, 0, 1, 1, 0, 0, 1, 1, 1, 0, 0, 0, 0, 0, 0, 0, 0, 0, 0, 0, 0, 1, 0, 1, 0, 0, 1, 1, 1, 0, 1, 1, 1, 0, 1, 0, 0, 0, 0, 0, 0, 0, 0, 0, 0, 1, 0, 0, 0, 0, 0, 0, 0, 0, 0, 0, 0, 0, 0, 0, 0, 0, 0, 1, 0, 1, 0, 0, 0, 0, 0, 0, 1, 1, 0, 0, 0, 1, 0, 0, 0, 1, 1, 1, 0, 0, 0, 0, 0, 1, 1, 0, 0, 1, 1, 0, 1, 0, 0, 1, 0, 0, 0, 0, 1, 1, 0, 0, 1, 0, 0, 0, 0, 0, 0, 1, 0, 0, 0, 0, 0, 1, 0, 0, 0, 0, 1, 0, 0, 0, 0, 0, 1, 0, 0, 0, 0, 1, 0, 0, 0, 0, 0, 1, 0, 0, 1, 0, 0, 0, 0, 0, 0, 0, 0, 0, 0, 0, 0, 0, 1, 1, 1, 1, 0, 0, 0, 1, 1, 0, 0, 0, 1, 1, 0, 0, 0, 1, 0, 0, 1, 0, 1, 0, 1, 0, 0, 1, 1, 1, 0, 0, 0, 0, 0, 0, 1, 0, 0, 0, 0, 0, 1, 1, 0, 0, 0, 0, 1, 0, 0, 0, 0, 0, 0, 0, 0, 1, 0, 0, 1, 0, 0, 1, 0, 0, 0, 0, 0, 0, 0, 0, 0, 1, 0, 0, 0, 1, 0, 1, 0, 0, 0, 1, 0, 0, 0, 1, 0, 0, 0, 0, 0, 0, 0, 1, 0, 1, 0, 0, 0, 1, 0, 1, 0, 0, 0, 0, 0, 1, 0, 0, 0, 0, 1, 0, 0, 0, 0, 0, 0, 1, 0, 0, 1, 0, 0, 0, 0, 0, 0, 0, 0, 1, 1, 0, 0, 0, 0, 1, 0, 0, 0, 0, 0, 0, 0, 0, 0, 1, 0, 1, 0, 1, 0, 0, 0, 0, 0, 1, 0, 0, 1, 0, 0, 0, 0, 1, 0, 0, 1, 0, 1, 0, 0, 0, 0, 0, 1, 0, 1, 0, 0, 0, 0, 1, 1, 0, 0, 1, 1, 0, 1, 0, 0, 0, 1, 0, 0, 0, 1, 0, 1, 0, 0, 0, 1, 0, 0, 0, 1, 0, 0, 1, 0, 0, 0, 1, 1, 0, 1, 0, 0, 1, 1, 0, 0, 0, 1, 0, 0, 0, 0, 0, 0, 0, 0, 0, 0, 0, 0, 1, 0, 0, 1, 0, 1, 0, 1, 0, 0, 0, 0, 0, 0, 1, 0, 1, 0, 0, 0, 0, 0, 0, 0, 0, 0, 0, 1, 1, 1, 1, 1, 0, 0, 0, 0, 1, 1, 1, 0, 0, 0, 0, 1, 0, 0, 1, 0, 0, 0, 0, 0, 0, 0, 0, 1, 0, 1]\n"
     ]
    }
   ],
   "source": [
    "print(y_pred.tolist())"
   ]
  },
  {
   "cell_type": "markdown",
   "id": "148b4a5c7acba467",
   "metadata": {
    "collapsed": false
   },
   "source": [
    "## Neural Network"
   ]
  },
  {
   "cell_type": "code",
   "execution_count": 13,
   "id": "8febc9f2aca3fe7b",
   "metadata": {
    "ExecuteTime": {
     "end_time": "2024-04-01T21:55:04.584382Z",
     "start_time": "2024-04-01T21:55:04.430075Z"
    },
    "collapsed": false
   },
   "outputs": [],
   "source": [
    "early_stopping = EarlyStopping(monitor='loss', patience=5)"
   ]
  },
  {
   "cell_type": "code",
   "execution_count": 14,
   "id": "3bedf93e3f526c1c",
   "metadata": {
    "ExecuteTime": {
     "end_time": "2024-04-01T21:55:07.430531Z",
     "start_time": "2024-04-01T21:55:07.241972Z"
    },
    "collapsed": false
   },
   "outputs": [],
   "source": [
    "nn = Sequential()\n",
    "nn.add(Dense(128, activation='relu'))\n",
    "nn.add(Dropout(0.2)) \n",
    "nn.add(Dense(1, activation='sigmoid'))\n",
    "\n",
    "nn.compile(optimizer='adam', loss='binary_crossentropy', metrics=['accuracy'])"
   ]
  },
  {
   "cell_type": "code",
   "execution_count": 15,
   "id": "458d288dbb760bf0",
   "metadata": {
    "collapsed": false
   },
   "outputs": [
    {
     "name": "stdout",
     "output_type": "stream",
     "text": [
      "Epoch 1/200\n",
      "\u001b[1m271/271\u001b[0m \u001b[32m━━━━━━━━━━━━━━━━━━━━\u001b[0m\u001b[37m\u001b[0m \u001b[1m1s\u001b[0m 1ms/step - accuracy: 0.6001 - loss: 83.0987\n",
      "Epoch 2/200\n",
      "\u001b[1m271/271\u001b[0m \u001b[32m━━━━━━━━━━━━━━━━━━━━\u001b[0m\u001b[37m\u001b[0m \u001b[1m0s\u001b[0m 1ms/step - accuracy: 0.6666 - loss: 12.5778\n",
      "Epoch 3/200\n",
      "\u001b[1m271/271\u001b[0m \u001b[32m━━━━━━━━━━━━━━━━━━━━\u001b[0m\u001b[37m\u001b[0m \u001b[1m0s\u001b[0m 992us/step - accuracy: 0.6857 - loss: 2.2310\n",
      "Epoch 4/200\n",
      "\u001b[1m271/271\u001b[0m \u001b[32m━━━━━━━━━━━━━━━━━━━━\u001b[0m\u001b[37m\u001b[0m \u001b[1m0s\u001b[0m 1ms/step - accuracy: 0.6999 - loss: 1.1838\n",
      "Epoch 5/200\n",
      "\u001b[1m271/271\u001b[0m \u001b[32m━━━━━━━━━━━━━━━━━━━━\u001b[0m\u001b[37m\u001b[0m \u001b[1m0s\u001b[0m 1ms/step - accuracy: 0.7003 - loss: 0.7773\n",
      "Epoch 6/200\n",
      "\u001b[1m271/271\u001b[0m \u001b[32m━━━━━━━━━━━━━━━━━━━━\u001b[0m\u001b[37m\u001b[0m \u001b[1m0s\u001b[0m 1ms/step - accuracy: 0.7141 - loss: 0.6009\n",
      "Epoch 7/200\n",
      "\u001b[1m271/271\u001b[0m \u001b[32m━━━━━━━━━━━━━━━━━━━━\u001b[0m\u001b[37m\u001b[0m \u001b[1m0s\u001b[0m 1ms/step - accuracy: 0.7261 - loss: 0.5285\n",
      "Epoch 8/200\n",
      "\u001b[1m271/271\u001b[0m \u001b[32m━━━━━━━━━━━━━━━━━━━━\u001b[0m\u001b[37m\u001b[0m \u001b[1m0s\u001b[0m 1ms/step - accuracy: 0.7291 - loss: 0.5008\n",
      "Epoch 9/200\n",
      "\u001b[1m271/271\u001b[0m \u001b[32m━━━━━━━━━━━━━━━━━━━━\u001b[0m\u001b[37m\u001b[0m \u001b[1m0s\u001b[0m 1ms/step - accuracy: 0.7167 - loss: 0.5010\n",
      "Epoch 10/200\n",
      "\u001b[1m271/271\u001b[0m \u001b[32m━━━━━━━━━━━━━━━━━━━━\u001b[0m\u001b[37m\u001b[0m \u001b[1m0s\u001b[0m 1ms/step - accuracy: 0.7465 - loss: 0.4796\n",
      "Epoch 11/200\n",
      "\u001b[1m271/271\u001b[0m \u001b[32m━━━━━━━━━━━━━━━━━━━━\u001b[0m\u001b[37m\u001b[0m \u001b[1m0s\u001b[0m 1ms/step - accuracy: 0.7407 - loss: 0.4898\n",
      "Epoch 12/200\n",
      "\u001b[1m271/271\u001b[0m \u001b[32m━━━━━━━━━━━━━━━━━━━━\u001b[0m\u001b[37m\u001b[0m \u001b[1m0s\u001b[0m 1ms/step - accuracy: 0.7450 - loss: 0.4605\n",
      "Epoch 13/200\n",
      "\u001b[1m271/271\u001b[0m \u001b[32m━━━━━━━━━━━━━━━━━━━━\u001b[0m\u001b[37m\u001b[0m \u001b[1m0s\u001b[0m 1ms/step - accuracy: 0.7493 - loss: 0.4676\n",
      "Epoch 14/200\n",
      "\u001b[1m271/271\u001b[0m \u001b[32m━━━━━━━━━━━━━━━━━━━━\u001b[0m\u001b[37m\u001b[0m \u001b[1m0s\u001b[0m 1ms/step - accuracy: 0.7530 - loss: 0.4491\n",
      "Epoch 15/200\n",
      "\u001b[1m271/271\u001b[0m \u001b[32m━━━━━━━━━━━━━━━━━━━━\u001b[0m\u001b[37m\u001b[0m \u001b[1m0s\u001b[0m 1ms/step - accuracy: 0.7648 - loss: 0.4394\n",
      "Epoch 16/200\n",
      "\u001b[1m271/271\u001b[0m \u001b[32m━━━━━━━━━━━━━━━━━━━━\u001b[0m\u001b[37m\u001b[0m \u001b[1m0s\u001b[0m 1ms/step - accuracy: 0.7916 - loss: 0.4110\n",
      "Epoch 17/200\n",
      "\u001b[1m271/271\u001b[0m \u001b[32m━━━━━━━━━━━━━━━━━━━━\u001b[0m\u001b[37m\u001b[0m \u001b[1m0s\u001b[0m 1ms/step - accuracy: 0.7883 - loss: 0.4279\n",
      "Epoch 18/200\n",
      "\u001b[1m271/271\u001b[0m \u001b[32m━━━━━━━━━━━━━━━━━━━━\u001b[0m\u001b[37m\u001b[0m \u001b[1m0s\u001b[0m 1ms/step - accuracy: 0.8027 - loss: 0.3975\n",
      "Epoch 19/200\n",
      "\u001b[1m271/271\u001b[0m \u001b[32m━━━━━━━━━━━━━━━━━━━━\u001b[0m\u001b[37m\u001b[0m \u001b[1m0s\u001b[0m 1ms/step - accuracy: 0.7997 - loss: 0.4096\n",
      "Epoch 20/200\n",
      "\u001b[1m271/271\u001b[0m \u001b[32m━━━━━━━━━━━━━━━━━━━━\u001b[0m\u001b[37m\u001b[0m \u001b[1m0s\u001b[0m 1ms/step - accuracy: 0.8278 - loss: 0.3897\n",
      "Epoch 21/200\n",
      "\u001b[1m271/271\u001b[0m \u001b[32m━━━━━━━━━━━━━━━━━━━━\u001b[0m\u001b[37m\u001b[0m \u001b[1m0s\u001b[0m 1ms/step - accuracy: 0.8109 - loss: 0.3864\n",
      "Epoch 22/200\n",
      "\u001b[1m271/271\u001b[0m \u001b[32m━━━━━━━━━━━━━━━━━━━━\u001b[0m\u001b[37m\u001b[0m \u001b[1m0s\u001b[0m 1ms/step - accuracy: 0.8161 - loss: 0.3841\n",
      "Epoch 23/200\n",
      "\u001b[1m271/271\u001b[0m \u001b[32m━━━━━━━━━━━━━━━━━━━━\u001b[0m\u001b[37m\u001b[0m \u001b[1m0s\u001b[0m 1ms/step - accuracy: 0.8363 - loss: 0.3585\n",
      "Epoch 24/200\n",
      "\u001b[1m271/271\u001b[0m \u001b[32m━━━━━━━━━━━━━━━━━━━━\u001b[0m\u001b[37m\u001b[0m \u001b[1m0s\u001b[0m 1ms/step - accuracy: 0.8150 - loss: 0.3825\n",
      "Epoch 25/200\n",
      "\u001b[1m271/271\u001b[0m \u001b[32m━━━━━━━━━━━━━━━━━━━━\u001b[0m\u001b[37m\u001b[0m \u001b[1m0s\u001b[0m 1ms/step - accuracy: 0.8350 - loss: 0.3565\n",
      "Epoch 26/200\n",
      "\u001b[1m271/271\u001b[0m \u001b[32m━━━━━━━━━━━━━━━━━━━━\u001b[0m\u001b[37m\u001b[0m \u001b[1m0s\u001b[0m 1ms/step - accuracy: 0.7866 - loss: 0.4151\n",
      "Epoch 27/200\n",
      "\u001b[1m271/271\u001b[0m \u001b[32m━━━━━━━━━━━━━━━━━━━━\u001b[0m\u001b[37m\u001b[0m \u001b[1m0s\u001b[0m 986us/step - accuracy: 0.8211 - loss: 0.3780\n",
      "Epoch 28/200\n",
      "\u001b[1m271/271\u001b[0m \u001b[32m━━━━━━━━━━━━━━━━━━━━\u001b[0m\u001b[37m\u001b[0m \u001b[1m0s\u001b[0m 1ms/step - accuracy: 0.8640 - loss: 0.3439\n",
      "Epoch 29/200\n",
      "\u001b[1m271/271\u001b[0m \u001b[32m━━━━━━━━━━━━━━━━━━━━\u001b[0m\u001b[37m\u001b[0m \u001b[1m0s\u001b[0m 1ms/step - accuracy: 0.8545 - loss: 0.3333\n",
      "Epoch 30/200\n",
      "\u001b[1m271/271\u001b[0m \u001b[32m━━━━━━━━━━━━━━━━━━━━\u001b[0m\u001b[37m\u001b[0m \u001b[1m0s\u001b[0m 1ms/step - accuracy: 0.8058 - loss: 0.3926\n",
      "Epoch 31/200\n",
      "\u001b[1m271/271\u001b[0m \u001b[32m━━━━━━━━━━━━━━━━━━━━\u001b[0m\u001b[37m\u001b[0m \u001b[1m0s\u001b[0m 988us/step - accuracy: 0.8518 - loss: 0.3402\n",
      "Epoch 32/200\n",
      "\u001b[1m271/271\u001b[0m \u001b[32m━━━━━━━━━━━━━━━━━━━━\u001b[0m\u001b[37m\u001b[0m \u001b[1m0s\u001b[0m 1ms/step - accuracy: 0.8684 - loss: 0.3123\n",
      "Epoch 33/200\n",
      "\u001b[1m271/271\u001b[0m \u001b[32m━━━━━━━━━━━━━━━━━━━━\u001b[0m\u001b[37m\u001b[0m \u001b[1m1s\u001b[0m 2ms/step - accuracy: 0.8310 - loss: 0.3717\n",
      "Epoch 34/200\n",
      "\u001b[1m271/271\u001b[0m \u001b[32m━━━━━━━━━━━━━━━━━━━━\u001b[0m\u001b[37m\u001b[0m \u001b[1m1s\u001b[0m 3ms/step - accuracy: 0.8787 - loss: 0.2940\n",
      "Epoch 35/200\n",
      "\u001b[1m271/271\u001b[0m \u001b[32m━━━━━━━━━━━━━━━━━━━━\u001b[0m\u001b[37m\u001b[0m \u001b[1m1s\u001b[0m 3ms/step - accuracy: 0.8475 - loss: 0.3319\n",
      "Epoch 36/200\n",
      "\u001b[1m271/271\u001b[0m \u001b[32m━━━━━━━━━━━━━━━━━━━━\u001b[0m\u001b[37m\u001b[0m \u001b[1m1s\u001b[0m 4ms/step - accuracy: 0.8819 - loss: 0.2977\n",
      "Epoch 37/200\n",
      "\u001b[1m271/271\u001b[0m \u001b[32m━━━━━━━━━━━━━━━━━━━━\u001b[0m\u001b[37m\u001b[0m \u001b[1m1s\u001b[0m 2ms/step - accuracy: 0.8799 - loss: 0.2984\n",
      "Epoch 38/200\n",
      "\u001b[1m271/271\u001b[0m \u001b[32m━━━━━━━━━━━━━━━━━━━━\u001b[0m\u001b[37m\u001b[0m \u001b[1m1s\u001b[0m 2ms/step - accuracy: 0.8804 - loss: 0.3161\n",
      "Epoch 39/200\n",
      "\u001b[1m271/271\u001b[0m \u001b[32m━━━━━━━━━━━━━━━━━━━━\u001b[0m\u001b[37m\u001b[0m \u001b[1m1s\u001b[0m 2ms/step - accuracy: 0.8692 - loss: 0.2980\n",
      "Epoch 40/200\n",
      "\u001b[1m271/271\u001b[0m \u001b[32m━━━━━━━━━━━━━━━━━━━━\u001b[0m\u001b[37m\u001b[0m \u001b[1m1s\u001b[0m 3ms/step - accuracy: 0.8656 - loss: 0.3004\n",
      "Epoch 41/200\n",
      "\u001b[1m271/271\u001b[0m \u001b[32m━━━━━━━━━━━━━━━━━━━━\u001b[0m\u001b[37m\u001b[0m \u001b[1m1s\u001b[0m 2ms/step - accuracy: 0.8638 - loss: 0.2944\n",
      "Epoch 42/200\n",
      "\u001b[1m271/271\u001b[0m \u001b[32m━━━━━━━━━━━━━━━━━━━━\u001b[0m\u001b[37m\u001b[0m \u001b[1m1s\u001b[0m 2ms/step - accuracy: 0.8710 - loss: 0.2993\n",
      "Epoch 43/200\n",
      "\u001b[1m271/271\u001b[0m \u001b[32m━━━━━━━━━━━━━━━━━━━━\u001b[0m\u001b[37m\u001b[0m \u001b[1m1s\u001b[0m 2ms/step - accuracy: 0.8828 - loss: 0.2779\n",
      "Epoch 44/200\n",
      "\u001b[1m271/271\u001b[0m \u001b[32m━━━━━━━━━━━━━━━━━━━━\u001b[0m\u001b[37m\u001b[0m \u001b[1m1s\u001b[0m 2ms/step - accuracy: 0.8632 - loss: 0.3034\n",
      "Epoch 45/200\n",
      "\u001b[1m271/271\u001b[0m \u001b[32m━━━━━━━━━━━━━━━━━━━━\u001b[0m\u001b[37m\u001b[0m \u001b[1m0s\u001b[0m 1ms/step - accuracy: 0.8822 - loss: 0.2789\n",
      "Epoch 46/200\n",
      "\u001b[1m271/271\u001b[0m \u001b[32m━━━━━━━━━━━━━━━━━━━━\u001b[0m\u001b[37m\u001b[0m \u001b[1m0s\u001b[0m 1ms/step - accuracy: 0.8710 - loss: 0.2976\n",
      "Epoch 47/200\n",
      "\u001b[1m271/271\u001b[0m \u001b[32m━━━━━━━━━━━━━━━━━━━━\u001b[0m\u001b[37m\u001b[0m \u001b[1m0s\u001b[0m 1ms/step - accuracy: 0.8962 - loss: 0.2698\n",
      "Epoch 48/200\n",
      "\u001b[1m271/271\u001b[0m \u001b[32m━━━━━━━━━━━━━━━━━━━━\u001b[0m\u001b[37m\u001b[0m \u001b[1m0s\u001b[0m 2ms/step - accuracy: 0.8946 - loss: 0.2591\n",
      "Epoch 49/200\n",
      "\u001b[1m271/271\u001b[0m \u001b[32m━━━━━━━━━━━━━━━━━━━━\u001b[0m\u001b[37m\u001b[0m \u001b[1m1s\u001b[0m 2ms/step - accuracy: 0.8850 - loss: 0.2681\n",
      "Epoch 50/200\n",
      "\u001b[1m271/271\u001b[0m \u001b[32m━━━━━━━━━━━━━━━━━━━━\u001b[0m\u001b[37m\u001b[0m \u001b[1m1s\u001b[0m 2ms/step - accuracy: 0.8795 - loss: 0.2701\n",
      "Epoch 51/200\n",
      "\u001b[1m271/271\u001b[0m \u001b[32m━━━━━━━━━━━━━━━━━━━━\u001b[0m\u001b[37m\u001b[0m \u001b[1m1s\u001b[0m 2ms/step - accuracy: 0.8924 - loss: 0.2476\n",
      "Epoch 52/200\n",
      "\u001b[1m271/271\u001b[0m \u001b[32m━━━━━━━━━━━━━━━━━━━━\u001b[0m\u001b[37m\u001b[0m \u001b[1m0s\u001b[0m 2ms/step - accuracy: 0.9071 - loss: 0.2361\n",
      "Epoch 53/200\n",
      "\u001b[1m271/271\u001b[0m \u001b[32m━━━━━━━━━━━━━━━━━━━━\u001b[0m\u001b[37m\u001b[0m \u001b[1m1s\u001b[0m 2ms/step - accuracy: 0.9033 - loss: 0.2486\n",
      "Epoch 54/200\n",
      "\u001b[1m271/271\u001b[0m \u001b[32m━━━━━━━━━━━━━━━━━━━━\u001b[0m\u001b[37m\u001b[0m \u001b[1m1s\u001b[0m 2ms/step - accuracy: 0.8374 - loss: 0.3434\n",
      "Epoch 55/200\n",
      "\u001b[1m271/271\u001b[0m \u001b[32m━━━━━━━━━━━━━━━━━━━━\u001b[0m\u001b[37m\u001b[0m \u001b[1m0s\u001b[0m 2ms/step - accuracy: 0.8148 - loss: 0.3787\n",
      "Epoch 56/200\n",
      "\u001b[1m271/271\u001b[0m \u001b[32m━━━━━━━━━━━━━━━━━━━━\u001b[0m\u001b[37m\u001b[0m \u001b[1m0s\u001b[0m 1ms/step - accuracy: 0.9009 - loss: 0.2549\n",
      "Epoch 1/200\n",
      "\u001b[1m271/271\u001b[0m \u001b[32m━━━━━━━━━━━━━━━━━━━━\u001b[0m\u001b[37m\u001b[0m \u001b[1m0s\u001b[0m 2ms/step - accuracy: 0.8639 - loss: 0.3724\n",
      "Epoch 2/200\n",
      "\u001b[1m271/271\u001b[0m \u001b[32m━━━━━━━━━━━━━━━━━━━━\u001b[0m\u001b[37m\u001b[0m \u001b[1m0s\u001b[0m 1ms/step - accuracy: 0.8768 - loss: 0.3461\n",
      "Epoch 3/200\n",
      "\u001b[1m271/271\u001b[0m \u001b[32m━━━━━━━━━━━━━━━━━━━━\u001b[0m\u001b[37m\u001b[0m \u001b[1m0s\u001b[0m 1ms/step - accuracy: 0.8879 - loss: 0.2778\n",
      "Epoch 4/200\n",
      "\u001b[1m271/271\u001b[0m \u001b[32m━━━━━━━━━━━━━━━━━━━━\u001b[0m\u001b[37m\u001b[0m \u001b[1m1s\u001b[0m 2ms/step - accuracy: 0.9116 - loss: 0.2545\n",
      "Epoch 5/200\n",
      "\u001b[1m271/271\u001b[0m \u001b[32m━━━━━━━━━━━━━━━━━━━━\u001b[0m\u001b[37m\u001b[0m \u001b[1m1s\u001b[0m 2ms/step - accuracy: 0.8895 - loss: 0.2698\n",
      "Epoch 1/200\n",
      "\u001b[1m271/271\u001b[0m \u001b[32m━━━━━━━━━━━━━━━━━━━━\u001b[0m\u001b[37m\u001b[0m \u001b[1m0s\u001b[0m 1ms/step - accuracy: 0.9237 - loss: 0.2102\n",
      "Epoch 2/200\n",
      "\u001b[1m271/271\u001b[0m \u001b[32m━━━━━━━━━━━━━━━━━━━━\u001b[0m\u001b[37m\u001b[0m \u001b[1m0s\u001b[0m 1ms/step - accuracy: 0.9044 - loss: 0.2514\n",
      "Epoch 3/200\n",
      "\u001b[1m271/271\u001b[0m \u001b[32m━━━━━━━━━━━━━━━━━━━━\u001b[0m\u001b[37m\u001b[0m \u001b[1m1s\u001b[0m 2ms/step - accuracy: 0.9153 - loss: 0.2274\n",
      "Epoch 4/200\n",
      "\u001b[1m271/271\u001b[0m \u001b[32m━━━━━━━━━━━━━━━━━━━━\u001b[0m\u001b[37m\u001b[0m \u001b[1m0s\u001b[0m 2ms/step - accuracy: 0.8923 - loss: 0.2612\n",
      "Epoch 5/200\n",
      "\u001b[1m271/271\u001b[0m \u001b[32m━━━━━━━━━━━━━━━━━━━━\u001b[0m\u001b[37m\u001b[0m \u001b[1m1s\u001b[0m 2ms/step - accuracy: 0.9128 - loss: 0.2195\n",
      "Epoch 6/200\n",
      "\u001b[1m271/271\u001b[0m \u001b[32m━━━━━━━━━━━━━━━━━━━━\u001b[0m\u001b[37m\u001b[0m \u001b[1m1s\u001b[0m 3ms/step - accuracy: 0.9006 - loss: 0.2547\n",
      "Epoch 7/200\n",
      "\u001b[1m271/271\u001b[0m \u001b[32m━━━━━━━━━━━━━━━━━━━━\u001b[0m\u001b[37m\u001b[0m \u001b[1m1s\u001b[0m 2ms/step - accuracy: 0.8758 - loss: 0.2980\n",
      "Epoch 8/200\n",
      "\u001b[1m271/271\u001b[0m \u001b[32m━━━━━━━━━━━━━━━━━━━━\u001b[0m\u001b[37m\u001b[0m \u001b[1m0s\u001b[0m 2ms/step - accuracy: 0.9356 - loss: 0.1942\n",
      "Epoch 9/200\n",
      "\u001b[1m271/271\u001b[0m \u001b[32m━━━━━━━━━━━━━━━━━━━━\u001b[0m\u001b[37m\u001b[0m \u001b[1m1s\u001b[0m 2ms/step - accuracy: 0.9099 - loss: 0.2319\n",
      "Epoch 10/200\n",
      "\u001b[1m271/271\u001b[0m \u001b[32m━━━━━━━━━━━━━━━━━━━━\u001b[0m\u001b[37m\u001b[0m \u001b[1m1s\u001b[0m 2ms/step - accuracy: 0.8825 - loss: 0.2779\n",
      "Epoch 11/200\n",
      "\u001b[1m271/271\u001b[0m \u001b[32m━━━━━━━━━━━━━━━━━━━━\u001b[0m\u001b[37m\u001b[0m \u001b[1m1s\u001b[0m 2ms/step - accuracy: 0.8001 - loss: 0.3984\n",
      "Epoch 12/200\n",
      "\u001b[1m271/271\u001b[0m \u001b[32m━━━━━━━━━━━━━━━━━━━━\u001b[0m\u001b[37m\u001b[0m \u001b[1m0s\u001b[0m 1ms/step - accuracy: 0.9174 - loss: 0.2210\n",
      "Epoch 13/200\n",
      "\u001b[1m271/271\u001b[0m \u001b[32m━━━━━━━━━━━━━━━━━━━━\u001b[0m\u001b[37m\u001b[0m \u001b[1m0s\u001b[0m 2ms/step - accuracy: 0.8956 - loss: 0.2571\n",
      "Epoch 1/200\n",
      "\u001b[1m271/271\u001b[0m \u001b[32m━━━━━━━━━━━━━━━━━━━━\u001b[0m\u001b[37m\u001b[0m \u001b[1m1s\u001b[0m 2ms/step - accuracy: 0.9214 - loss: 0.2173\n",
      "Epoch 2/200\n",
      "\u001b[1m271/271\u001b[0m \u001b[32m━━━━━━━━━━━━━━━━━━━━\u001b[0m\u001b[37m\u001b[0m \u001b[1m0s\u001b[0m 1ms/step - accuracy: 0.9119 - loss: 0.2237\n",
      "Epoch 3/200\n",
      "\u001b[1m271/271\u001b[0m \u001b[32m━━━━━━━━━━━━━━━━━━━━\u001b[0m\u001b[37m\u001b[0m \u001b[1m1s\u001b[0m 2ms/step - accuracy: 0.9054 - loss: 0.2260\n",
      "Epoch 4/200\n",
      "\u001b[1m271/271\u001b[0m \u001b[32m━━━━━━━━━━━━━━━━━━━━\u001b[0m\u001b[37m\u001b[0m \u001b[1m0s\u001b[0m 1ms/step - accuracy: 0.9237 - loss: 0.2071\n",
      "Epoch 5/200\n",
      "\u001b[1m271/271\u001b[0m \u001b[32m━━━━━━━━━━━━━━━━━━━━\u001b[0m\u001b[37m\u001b[0m \u001b[1m0s\u001b[0m 2ms/step - accuracy: 0.9294 - loss: 0.1982\n",
      "Epoch 1/200\n",
      "\u001b[1m271/271\u001b[0m \u001b[32m━━━━━━━━━━━━━━━━━━━━\u001b[0m\u001b[37m\u001b[0m \u001b[1m0s\u001b[0m 2ms/step - accuracy: 0.8999 - loss: 0.2414\n",
      "Epoch 2/200\n",
      "\u001b[1m271/271\u001b[0m \u001b[32m━━━━━━━━━━━━━━━━━━━━\u001b[0m\u001b[37m\u001b[0m \u001b[1m1s\u001b[0m 2ms/step - accuracy: 0.8999 - loss: 0.2520\n",
      "Epoch 3/200\n",
      "\u001b[1m271/271\u001b[0m \u001b[32m━━━━━━━━━━━━━━━━━━━━\u001b[0m\u001b[37m\u001b[0m \u001b[1m0s\u001b[0m 2ms/step - accuracy: 0.9209 - loss: 0.2137\n",
      "Epoch 4/200\n",
      "\u001b[1m271/271\u001b[0m \u001b[32m━━━━━━━━━━━━━━━━━━━━\u001b[0m\u001b[37m\u001b[0m \u001b[1m0s\u001b[0m 2ms/step - accuracy: 0.9412 - loss: 0.1733\n",
      "Epoch 5/200\n",
      "\u001b[1m271/271\u001b[0m \u001b[32m━━━━━━━━━━━━━━━━━━━━\u001b[0m\u001b[37m\u001b[0m \u001b[1m0s\u001b[0m 2ms/step - accuracy: 0.9149 - loss: 0.2101\n",
      "Epoch 6/200\n",
      "\u001b[1m271/271\u001b[0m \u001b[32m━━━━━━━━━━━━━━━━━━━━\u001b[0m\u001b[37m\u001b[0m \u001b[1m0s\u001b[0m 2ms/step - accuracy: 0.9036 - loss: 0.2411\n",
      "Epoch 7/200\n",
      "\u001b[1m271/271\u001b[0m \u001b[32m━━━━━━━━━━━━━━━━━━━━\u001b[0m\u001b[37m\u001b[0m \u001b[1m0s\u001b[0m 1ms/step - accuracy: 0.9238 - loss: 0.2032\n",
      "Epoch 8/200\n",
      "\u001b[1m271/271\u001b[0m \u001b[32m━━━━━━━━━━━━━━━━━━━━\u001b[0m\u001b[37m\u001b[0m \u001b[1m0s\u001b[0m 1ms/step - accuracy: 0.9141 - loss: 0.2194\n",
      "Epoch 9/200\n",
      "\u001b[1m271/271\u001b[0m \u001b[32m━━━━━━━━━━━━━━━━━━━━\u001b[0m\u001b[37m\u001b[0m \u001b[1m0s\u001b[0m 1ms/step - accuracy: 0.9259 - loss: 0.2057\n",
      "Epoch 10/200\n",
      "\u001b[1m271/271\u001b[0m \u001b[32m━━━━━━━━━━━━━━━━━━━━\u001b[0m\u001b[37m\u001b[0m \u001b[1m0s\u001b[0m 1ms/step - accuracy: 0.9431 - loss: 0.1600\n",
      "Epoch 11/200\n",
      "\u001b[1m271/271\u001b[0m \u001b[32m━━━━━━━━━━━━━━━━━━━━\u001b[0m\u001b[37m\u001b[0m \u001b[1m0s\u001b[0m 1ms/step - accuracy: 0.9468 - loss: 0.1550\n",
      "Epoch 12/200\n",
      "\u001b[1m271/271\u001b[0m \u001b[32m━━━━━━━━━━━━━━━━━━━━\u001b[0m\u001b[37m\u001b[0m \u001b[1m0s\u001b[0m 1ms/step - accuracy: 0.9277 - loss: 0.1996\n",
      "Epoch 13/200\n",
      "\u001b[1m271/271\u001b[0m \u001b[32m━━━━━━━━━━━━━━━━━━━━\u001b[0m\u001b[37m\u001b[0m \u001b[1m0s\u001b[0m 1ms/step - accuracy: 0.9529 - loss: 0.1508\n",
      "Epoch 14/200\n",
      "\u001b[1m271/271\u001b[0m \u001b[32m━━━━━━━━━━━━━━━━━━━━\u001b[0m\u001b[37m\u001b[0m \u001b[1m0s\u001b[0m 1ms/step - accuracy: 0.9441 - loss: 0.1651\n",
      "Epoch 15/200\n",
      "\u001b[1m271/271\u001b[0m \u001b[32m━━━━━━━━━━━━━━━━━━━━\u001b[0m\u001b[37m\u001b[0m \u001b[1m0s\u001b[0m 2ms/step - accuracy: 0.9286 - loss: 0.2128\n",
      "Epoch 16/200\n",
      "\u001b[1m271/271\u001b[0m \u001b[32m━━━━━━━━━━━━━━━━━━━━\u001b[0m\u001b[37m\u001b[0m \u001b[1m0s\u001b[0m 1ms/step - accuracy: 0.9406 - loss: 0.1637\n",
      "Epoch 17/200\n",
      "\u001b[1m271/271\u001b[0m \u001b[32m━━━━━━━━━━━━━━━━━━━━\u001b[0m\u001b[37m\u001b[0m \u001b[1m0s\u001b[0m 2ms/step - accuracy: 0.9419 - loss: 0.1628\n",
      "Epoch 18/200\n",
      "\u001b[1m271/271\u001b[0m \u001b[32m━━━━━━━━━━━━━━━━━━━━\u001b[0m\u001b[37m\u001b[0m \u001b[1m0s\u001b[0m 1ms/step - accuracy: 0.9343 - loss: 0.1829\n",
      "Epoch 19/200\n",
      "\u001b[1m271/271\u001b[0m \u001b[32m━━━━━━━━━━━━━━━━━━━━\u001b[0m\u001b[37m\u001b[0m \u001b[1m0s\u001b[0m 1ms/step - accuracy: 0.8987 - loss: 0.2457\n",
      "Epoch 20/200\n",
      "\u001b[1m271/271\u001b[0m \u001b[32m━━━━━━━━━━━━━━━━━━━━\u001b[0m\u001b[37m\u001b[0m \u001b[1m0s\u001b[0m 1ms/step - accuracy: 0.8651 - loss: 0.3183\n",
      "Epoch 21/200\n",
      "\u001b[1m271/271\u001b[0m \u001b[32m━━━━━━━━━━━━━━━━━━━━\u001b[0m\u001b[37m\u001b[0m \u001b[1m0s\u001b[0m 1ms/step - accuracy: 0.9342 - loss: 0.1796\n"
     ]
    }
   ],
   "source": [
    "for i,j in KF.split(X_Train):\n",
    "        Train_X = X_Train.iloc[i]\n",
    "        Val_X = X_Train.iloc[j]\n",
    "        Train_Y = y_train.iloc[i]\n",
    "        \n",
    "        nn.fit(Train_X, Train_Y, epochs=200, batch_size=32, callbacks=[early_stopping])"
   ]
  },
  {
   "cell_type": "code",
   "execution_count": 16,
   "id": "48ea657682a92cfa",
   "metadata": {
    "ExecuteTime": {
     "end_time": "2024-04-01T22:29:25.902063Z",
     "start_time": "2024-04-01T22:29:13.457098Z"
    },
    "collapsed": false
   },
   "outputs": [
    {
     "name": "stdout",
     "output_type": "stream",
     "text": [
      "\u001b[1m85/85\u001b[0m \u001b[32m━━━━━━━━━━━━━━━━━━━━\u001b[0m\u001b[37m\u001b[0m \u001b[1m0s\u001b[0m 1ms/step\n",
      "Metrics: \n",
      "               precision    recall  f1-score   support\n",
      "\n",
      "           0       0.83      0.99      0.91      1901\n",
      "           1       0.97      0.52      0.68       804\n",
      "\n",
      "    accuracy                           0.85      2705\n",
      "   macro avg       0.90      0.76      0.79      2705\n",
      "weighted avg       0.87      0.85      0.84      2705\n",
      "\n"
     ]
    }
   ],
   "source": [
    "y_pred = nn.predict(X_Test)\n",
    "\n",
    "predictions = []\n",
    "for pred in y_pred:\n",
    "    if pred > 0.5:\n",
    "        predictions.append(1)\n",
    "    else:\n",
    "        predictions.append(0)\n",
    "\n",
    "print(\"Metrics: \\n\", classification_report(y_test, predictions))"
   ]
  },
  {
   "cell_type": "code",
   "execution_count": 22,
   "id": "47fd5f30",
   "metadata": {},
   "outputs": [],
   "source": [
    "train_df = pd.concat([X_Train, y_train], axis=1)\n",
    "test_df = pd.concat([X_Test, y_test], axis=1)\n",
    "\n",
    "train_df.to_csv(\"TrainSet.csv\")\n",
    "test_df.to_csv(\"TestSet.csv\")"
   ]
  }
 ],
 "metadata": {
  "kernelspec": {
   "display_name": "Python 3",
   "language": "python",
   "name": "python3"
  },
  "language_info": {
   "codemirror_mode": {
    "name": "ipython",
    "version": 3
   },
   "file_extension": ".py",
   "mimetype": "text/x-python",
   "name": "python",
   "nbconvert_exporter": "python",
   "pygments_lexer": "ipython3",
   "version": "3.12.0"
  }
 },
 "nbformat": 4,
 "nbformat_minor": 5
}
