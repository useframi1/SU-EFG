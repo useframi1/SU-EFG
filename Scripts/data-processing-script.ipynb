{
 "cells": [
  {
   "cell_type": "markdown",
   "metadata": {},
   "source": [
    "# Data Cleaning and Preprocessing\n"
   ]
  },
  {
   "cell_type": "markdown",
   "metadata": {},
   "source": [
    "Imports\n"
   ]
  },
  {
   "cell_type": "code",
   "execution_count": 1,
   "metadata": {},
   "outputs": [],
   "source": [
    "import pandas as pd\n",
    "import numpy as np\n",
    "from fitter import Fitter, get_common_distributions\n",
    "from sklearn.preprocessing import StandardScaler\n",
    "from sklearn.preprocessing import MinMaxScaler\n",
    "import warnings\n",
    "from datetime import datetime\n",
    "import seaborn as sns\n",
    "\n",
    "warnings.filterwarnings(\"ignore\")\n",
    "\n",
    "pd.set_option(\"future.no_silent_downcasting\", True)"
   ]
  },
  {
   "cell_type": "markdown",
   "metadata": {},
   "source": [
    "Read the orders dataset into a pandas dataframe\n"
   ]
  },
  {
   "cell_type": "code",
   "execution_count": 2,
   "metadata": {},
   "outputs": [],
   "source": [
    "orders_df = pd.read_csv(\"../Data/orders_data_competition.csv\")"
   ]
  },
  {
   "cell_type": "markdown",
   "metadata": {},
   "source": [
    "Read the clients dataset into a pandas dataframe\n"
   ]
  },
  {
   "cell_type": "code",
   "execution_count": 3,
   "metadata": {},
   "outputs": [],
   "source": [
    "clients_df = pd.read_csv(\"../Data/clients_data_competition.csv\")"
   ]
  },
  {
   "cell_type": "markdown",
   "metadata": {},
   "source": [
    "## Orders Data\n"
   ]
  },
  {
   "cell_type": "markdown",
   "metadata": {},
   "source": [
    "**_We created another dataframe \"agg_orders\" which represents the aggregate orders of each account_**\n"
   ]
  },
  {
   "cell_type": "markdown",
   "metadata": {},
   "source": [
    "Drop the rows with null values\n"
   ]
  },
  {
   "cell_type": "code",
   "execution_count": 4,
   "metadata": {},
   "outputs": [],
   "source": [
    "orders_df.dropna(inplace=True)"
   ]
  },
  {
   "cell_type": "markdown",
   "metadata": {},
   "source": [
    "Initialize a new Dataframe to store the aggregate orders per account\n"
   ]
  },
  {
   "cell_type": "code",
   "execution_count": 5,
   "metadata": {},
   "outputs": [],
   "source": [
    "agg_orders = pd.DataFrame()"
   ]
  },
  {
   "cell_type": "markdown",
   "metadata": {},
   "source": [
    "Add an AccountID column to the aggregate orders df\n"
   ]
  },
  {
   "cell_type": "code",
   "execution_count": 6,
   "metadata": {},
   "outputs": [],
   "source": [
    "agg_orders[\"AccountID\"] = clients_df[\"Account ID\"].unique()"
   ]
  },
  {
   "cell_type": "markdown",
   "metadata": {},
   "source": [
    "Compute and add the number of orders for each account\n"
   ]
  },
  {
   "cell_type": "code",
   "execution_count": 7,
   "metadata": {},
   "outputs": [],
   "source": [
    "# Add a NumOfOrders column that has the number of orders for each account\n",
    "agg_orders[\"NumOfOrders\"] = orders_df.groupby(\"Account ID\").size()\n",
    "\n",
    "# Set the number of orders for the accounts that didn't place any order to 0\n",
    "agg_orders[\"NumOfOrders\"] = agg_orders[\"NumOfOrders\"].fillna(0)\n",
    "\n",
    "# Convert the type to int\n",
    "agg_orders[\"NumOfOrders\"] = agg_orders[\"NumOfOrders\"].astype(int)"
   ]
  },
  {
   "cell_type": "markdown",
   "metadata": {},
   "source": [
    "Compute and add the last order for each account:\n",
    "\n",
    "-   Split them into 2 columns for Month and Year of last order\n",
    "-   OHE these columns\n"
   ]
  },
  {
   "cell_type": "code",
   "execution_count": 8,
   "metadata": {},
   "outputs": [],
   "source": [
    "# Convert the 'order_date' column to datetime\n",
    "orders_df[\"Order Time\"] = pd.to_datetime(orders_df[\"Order Time\"])\n",
    "\n",
    "# Create a new dataframe with the last order date for each account\n",
    "agg_orders[\"LastOrder\"] = orders_df.groupby(\"Account ID\")[\"Order Time\"].max()\n",
    "\n",
    "# Convert the LastOrder column to datetime\n",
    "agg_orders[\"LastOrder\"] = pd.to_datetime(agg_orders[\"LastOrder\"], format=\"%d-%m-%Y\")\n",
    "\n",
    "# Create the Month and Year columns\n",
    "agg_orders[\"LastOrder_Month\"] = agg_orders[\"LastOrder\"].dt.month\n",
    "agg_orders[\"LastOrder_Year\"] = agg_orders[\"LastOrder\"].dt.year\n",
    "\n",
    "# Set the last order date for the accounts that didn't place any order to 0-0-0 for visualization purposes\n",
    "agg_orders[\"LastOrder_Month\"] = agg_orders[\"LastOrder_Month\"].fillna(0)\n",
    "agg_orders[\"LastOrder_Year\"] = agg_orders[\"LastOrder_Year\"].fillna(0)\n",
    "\n",
    "# Convert the type to int\n",
    "agg_orders[\"LastOrder_Month\"] = agg_orders[\"LastOrder_Month\"].astype(int)\n",
    "agg_orders[\"LastOrder_Year\"] = agg_orders[\"LastOrder_Year\"].astype(int)"
   ]
  },
  {
   "cell_type": "markdown",
   "metadata": {},
   "source": [
    "Compute and add the number of completed orders for each account\n"
   ]
  },
  {
   "cell_type": "code",
   "execution_count": 9,
   "metadata": {},
   "outputs": [],
   "source": [
    "# Add a NumOfCompleted column that has the number of completed orders for each account\n",
    "agg_orders[\"NumOfCompleted\"] = orders_df.groupby(\"Account ID\")[\"Is Completed\"].sum()\n",
    "\n",
    "# Set the number of completed orders for the accounts that didn't place any order to 0\n",
    "agg_orders[\"NumOfCompleted\"] = agg_orders[\"NumOfCompleted\"].fillna(0)\n",
    "\n",
    "# # Convert the type to int\n",
    "agg_orders[\"NumOfCompleted\"] = agg_orders[\"NumOfCompleted\"].astype(int)"
   ]
  },
  {
   "cell_type": "markdown",
   "metadata": {},
   "source": [
    "Compute and add the number of canceled for each account\n"
   ]
  },
  {
   "cell_type": "code",
   "execution_count": 10,
   "metadata": {},
   "outputs": [],
   "source": [
    "# Add a NumOfCanceled column that has the number of completed orders for each account\n",
    "agg_orders[\"NumOfCanceled\"] = orders_df.groupby(\"Account ID\")[\"Is Canceled\"].sum()\n",
    "\n",
    "# Set the number of completed orders for the accounts that didn't place any order to 0\n",
    "agg_orders[\"NumOfCanceled\"] = agg_orders[\"NumOfCanceled\"].fillna(0)\n",
    "\n",
    "# # Convert the type to int\n",
    "agg_orders[\"NumOfCanceled\"] = agg_orders[\"NumOfCanceled\"].astype(int)"
   ]
  },
  {
   "cell_type": "markdown",
   "metadata": {},
   "source": [
    "Compute and add the average price of orders for each account\n"
   ]
  },
  {
   "cell_type": "code",
   "execution_count": 11,
   "metadata": {},
   "outputs": [],
   "source": [
    "# Add a AvgPrice column that has the number of completed orders for each account\n",
    "agg_orders[\"AvgPrice\"] = (\n",
    "    orders_df.groupby(\"Account ID\")[\"Price\"].sum()\n",
    "    / orders_df.groupby(\"Account ID\").size()\n",
    ")\n",
    "\n",
    "# Set the number of completed orders for the accounts that didn't place any order to 0\n",
    "agg_orders[\"AvgPrice\"] = agg_orders[\"AvgPrice\"].fillna(0.0)"
   ]
  },
  {
   "cell_type": "markdown",
   "metadata": {},
   "source": [
    "Compute and add the total executed quantity of orders for each account\n"
   ]
  },
  {
   "cell_type": "code",
   "execution_count": 12,
   "metadata": {},
   "outputs": [],
   "source": [
    "# Add a TotalExecutedQuantity column that has the number of completed orders for each account\n",
    "agg_orders[\"TotalExecutedQuantity\"] = orders_df.groupby(\"Account ID\")[\n",
    "    \"Executed Quantity\"\n",
    "].sum()\n",
    "\n",
    "# Set the number of completed orders for the accounts that didn't place any order to 0\n",
    "agg_orders[\"TotalExecutedQuantity\"] = agg_orders[\"TotalExecutedQuantity\"].fillna(0)\n",
    "\n",
    "# # Convert the type to int\n",
    "agg_orders[\"TotalExecutedQuantity\"] = agg_orders[\"TotalExecutedQuantity\"].astype(int)"
   ]
  },
  {
   "cell_type": "markdown",
   "metadata": {},
   "source": [
    "Compute and add the total quantity of orders for each account\n"
   ]
  },
  {
   "cell_type": "code",
   "execution_count": 13,
   "metadata": {},
   "outputs": [],
   "source": [
    "# Add a TotalQuantity column that has the number of completed orders for each account\n",
    "agg_orders[\"TotalQuantity\"] = orders_df.groupby(\"Account ID\")[\"Quantity\"].sum()\n",
    "\n",
    "# Set the number of completed orders for the accounts that didn't place any order to 0\n",
    "agg_orders[\"TotalQuantity\"] = agg_orders[\"TotalQuantity\"].fillna(0)\n",
    "\n",
    "# # Convert the type to int\n",
    "agg_orders[\"TotalQuantity\"] = agg_orders[\"TotalQuantity\"].astype(int)"
   ]
  },
  {
   "cell_type": "code",
   "execution_count": 14,
   "metadata": {},
   "outputs": [],
   "source": [
    "agg_orders_copy = agg_orders.copy()"
   ]
  },
  {
   "cell_type": "markdown",
   "metadata": {},
   "source": [
    "Define a function to compute and return an IDF vector of a data\n"
   ]
  },
  {
   "cell_type": "code",
   "execution_count": 15,
   "metadata": {},
   "outputs": [],
   "source": [
    "def get_IDF_vector(df):\n",
    "    idf = {}\n",
    "    for i in df.columns:\n",
    "        idf[i] = (\n",
    "            np.log2(df.shape[0] / df[df[i] > 0].shape[0])\n",
    "            if df[df[i] > 0].shape[0] != 0\n",
    "            else 1e-6\n",
    "        )\n",
    "    return idf"
   ]
  },
  {
   "cell_type": "markdown",
   "metadata": {},
   "source": [
    "Define a function to compute and return the TFIDF dataframe for the data\n"
   ]
  },
  {
   "cell_type": "code",
   "execution_count": 16,
   "metadata": {},
   "outputs": [],
   "source": [
    "def calculate_TFIDF(df, idf_dict):\n",
    "    tfidf_df = df.copy()\n",
    "    for i in df.columns:\n",
    "        tfidf_df[i] = df[i] * idf_dict[i]\n",
    "    return tfidf_df"
   ]
  },
  {
   "cell_type": "markdown",
   "metadata": {},
   "source": [
    "Define a function to convert a categorical feature to its TFIDF dataframe and concatenate it with the aggregate orders dataframe\n"
   ]
  },
  {
   "cell_type": "code",
   "execution_count": 17,
   "metadata": {},
   "outputs": [],
   "source": [
    "def TFIDF(column_name: str):\n",
    "    temp = pd.get_dummies(orders_df, columns=[column_name])\n",
    "    temp.replace({True: 1, False: 0}, inplace=True)\n",
    "\n",
    "    tfidf_df = pd.DataFrame(data=agg_orders.iloc[:, 0])\n",
    "\n",
    "    for word in orders_df[column_name].unique():\n",
    "        col_name = f\"{column_name}_{word}\"\n",
    "\n",
    "        tfidf_df[col_name.replace(\" \", \"\")] = temp.groupby(\"Account ID\")[col_name].sum()\n",
    "\n",
    "        tfidf_df[col_name.replace(\" \", \"\")] = tfidf_df[\n",
    "            col_name.replace(\" \", \"\")\n",
    "        ].fillna(0)\n",
    "\n",
    "        tfidf_df[col_name.replace(\" \", \"\")] = tfidf_df[\n",
    "            col_name.replace(\" \", \"\")\n",
    "        ].astype(int)\n",
    "\n",
    "    idf_dict = get_IDF_vector(tfidf_df.iloc[:, 1:])\n",
    "    tfidf_df = calculate_TFIDF(tfidf_df.iloc[:, 1:], idf_dict)\n",
    "    return pd.concat([agg_orders, tfidf_df], axis=1)"
   ]
  },
  {
   "cell_type": "markdown",
   "metadata": {},
   "source": [
    "Compute and add the TFIDF of the Order Type column\n"
   ]
  },
  {
   "cell_type": "code",
   "execution_count": 18,
   "metadata": {},
   "outputs": [],
   "source": [
    "agg_orders = TFIDF(\"Order Type\")"
   ]
  },
  {
   "cell_type": "markdown",
   "metadata": {},
   "source": [
    "Compute and add the TFIDF of the Security ID column\n"
   ]
  },
  {
   "cell_type": "code",
   "execution_count": 19,
   "metadata": {},
   "outputs": [],
   "source": [
    "agg_orders = TFIDF(\"Security ID\")"
   ]
  },
  {
   "cell_type": "markdown",
   "metadata": {},
   "source": [
    "Compute and add the TFIDF of the Order Via column\n"
   ]
  },
  {
   "cell_type": "code",
   "execution_count": 20,
   "metadata": {},
   "outputs": [],
   "source": [
    "agg_orders = TFIDF(\"Order Via\")"
   ]
  },
  {
   "cell_type": "markdown",
   "metadata": {},
   "source": [
    "Compute and add the TFIDF of the Execution Status column\n"
   ]
  },
  {
   "cell_type": "code",
   "execution_count": 21,
   "metadata": {},
   "outputs": [],
   "source": [
    "agg_orders = TFIDF(\"Execution Status\")"
   ]
  },
  {
   "cell_type": "markdown",
   "metadata": {},
   "source": [
    "Compute and add the TFIDF of the Sector Name column\n"
   ]
  },
  {
   "cell_type": "code",
   "execution_count": 22,
   "metadata": {},
   "outputs": [],
   "source": [
    "agg_orders = TFIDF(\"Sector Name\")"
   ]
  },
  {
   "cell_type": "markdown",
   "metadata": {},
   "source": [
    "Display the head of the agg_orders dataframe\n"
   ]
  },
  {
   "cell_type": "code",
   "execution_count": 23,
   "metadata": {},
   "outputs": [
    {
     "data": {
      "text/html": [
       "<div>\n",
       "<style scoped>\n",
       "    .dataframe tbody tr th:only-of-type {\n",
       "        vertical-align: middle;\n",
       "    }\n",
       "\n",
       "    .dataframe tbody tr th {\n",
       "        vertical-align: top;\n",
       "    }\n",
       "\n",
       "    .dataframe thead th {\n",
       "        text-align: right;\n",
       "    }\n",
       "</style>\n",
       "<table border=\"1\" class=\"dataframe\">\n",
       "  <thead>\n",
       "    <tr style=\"text-align: right;\">\n",
       "      <th></th>\n",
       "      <th>AccountID</th>\n",
       "      <th>NumOfOrders</th>\n",
       "      <th>LastOrder</th>\n",
       "      <th>LastOrder_Month</th>\n",
       "      <th>LastOrder_Year</th>\n",
       "      <th>NumOfCompleted</th>\n",
       "      <th>NumOfCanceled</th>\n",
       "      <th>AvgPrice</th>\n",
       "      <th>TotalExecutedQuantity</th>\n",
       "      <th>TotalQuantity</th>\n",
       "      <th>...</th>\n",
       "      <th>SectorName_TelecommunicationServices</th>\n",
       "      <th>SectorName_REALESTATE</th>\n",
       "      <th>SectorName_Telecommunications</th>\n",
       "      <th>SectorName_FOOD</th>\n",
       "      <th>SectorName_Others</th>\n",
       "      <th>SectorName_Tourism</th>\n",
       "      <th>SectorName_ConsumerServices</th>\n",
       "      <th>SectorName_Utilities</th>\n",
       "      <th>SectorName_Trade</th>\n",
       "      <th>SectorName_PharmaceuticalIndustries</th>\n",
       "    </tr>\n",
       "  </thead>\n",
       "  <tbody>\n",
       "    <tr>\n",
       "      <th>0</th>\n",
       "      <td>0</td>\n",
       "      <td>2</td>\n",
       "      <td>2022-10-19 12:24:04</td>\n",
       "      <td>10</td>\n",
       "      <td>2022</td>\n",
       "      <td>2</td>\n",
       "      <td>0</td>\n",
       "      <td>1.210000</td>\n",
       "      <td>12000</td>\n",
       "      <td>12000</td>\n",
       "      <td>...</td>\n",
       "      <td>0.000000</td>\n",
       "      <td>0.0</td>\n",
       "      <td>0.0</td>\n",
       "      <td>0.000000</td>\n",
       "      <td>0.0</td>\n",
       "      <td>0.0</td>\n",
       "      <td>0.0</td>\n",
       "      <td>0.0</td>\n",
       "      <td>0.0</td>\n",
       "      <td>0.0</td>\n",
       "    </tr>\n",
       "    <tr>\n",
       "      <th>1</th>\n",
       "      <td>1</td>\n",
       "      <td>7</td>\n",
       "      <td>2022-09-14 12:56:56</td>\n",
       "      <td>9</td>\n",
       "      <td>2022</td>\n",
       "      <td>6</td>\n",
       "      <td>1</td>\n",
       "      <td>1.982429</td>\n",
       "      <td>4347</td>\n",
       "      <td>4529</td>\n",
       "      <td>...</td>\n",
       "      <td>0.000000</td>\n",
       "      <td>0.0</td>\n",
       "      <td>0.0</td>\n",
       "      <td>2.797573</td>\n",
       "      <td>0.0</td>\n",
       "      <td>0.0</td>\n",
       "      <td>0.0</td>\n",
       "      <td>0.0</td>\n",
       "      <td>0.0</td>\n",
       "      <td>0.0</td>\n",
       "    </tr>\n",
       "    <tr>\n",
       "      <th>2</th>\n",
       "      <td>2</td>\n",
       "      <td>21</td>\n",
       "      <td>2024-02-28 11:06:33</td>\n",
       "      <td>2</td>\n",
       "      <td>2024</td>\n",
       "      <td>17</td>\n",
       "      <td>2</td>\n",
       "      <td>7.652667</td>\n",
       "      <td>123895</td>\n",
       "      <td>137395</td>\n",
       "      <td>...</td>\n",
       "      <td>0.000000</td>\n",
       "      <td>0.0</td>\n",
       "      <td>0.0</td>\n",
       "      <td>0.000000</td>\n",
       "      <td>0.0</td>\n",
       "      <td>0.0</td>\n",
       "      <td>0.0</td>\n",
       "      <td>0.0</td>\n",
       "      <td>0.0</td>\n",
       "      <td>0.0</td>\n",
       "    </tr>\n",
       "    <tr>\n",
       "      <th>3</th>\n",
       "      <td>3</td>\n",
       "      <td>88</td>\n",
       "      <td>2024-03-10 12:32:34</td>\n",
       "      <td>3</td>\n",
       "      <td>2024</td>\n",
       "      <td>64</td>\n",
       "      <td>11</td>\n",
       "      <td>72.059886</td>\n",
       "      <td>682538</td>\n",
       "      <td>911078</td>\n",
       "      <td>...</td>\n",
       "      <td>6.297068</td>\n",
       "      <td>0.0</td>\n",
       "      <td>0.0</td>\n",
       "      <td>0.000000</td>\n",
       "      <td>0.0</td>\n",
       "      <td>0.0</td>\n",
       "      <td>0.0</td>\n",
       "      <td>0.0</td>\n",
       "      <td>0.0</td>\n",
       "      <td>0.0</td>\n",
       "    </tr>\n",
       "    <tr>\n",
       "      <th>4</th>\n",
       "      <td>4</td>\n",
       "      <td>30</td>\n",
       "      <td>2024-02-26 12:47:33</td>\n",
       "      <td>2</td>\n",
       "      <td>2024</td>\n",
       "      <td>8</td>\n",
       "      <td>10</td>\n",
       "      <td>2.846267</td>\n",
       "      <td>356686</td>\n",
       "      <td>594953</td>\n",
       "      <td>...</td>\n",
       "      <td>0.000000</td>\n",
       "      <td>0.0</td>\n",
       "      <td>0.0</td>\n",
       "      <td>0.000000</td>\n",
       "      <td>0.0</td>\n",
       "      <td>0.0</td>\n",
       "      <td>0.0</td>\n",
       "      <td>0.0</td>\n",
       "      <td>0.0</td>\n",
       "      <td>0.0</td>\n",
       "    </tr>\n",
       "  </tbody>\n",
       "</table>\n",
       "<p>5 rows × 377 columns</p>\n",
       "</div>"
      ],
      "text/plain": [
       "   AccountID  NumOfOrders           LastOrder  LastOrder_Month  \\\n",
       "0          0            2 2022-10-19 12:24:04               10   \n",
       "1          1            7 2022-09-14 12:56:56                9   \n",
       "2          2           21 2024-02-28 11:06:33                2   \n",
       "3          3           88 2024-03-10 12:32:34                3   \n",
       "4          4           30 2024-02-26 12:47:33                2   \n",
       "\n",
       "   LastOrder_Year  NumOfCompleted  NumOfCanceled   AvgPrice  \\\n",
       "0            2022               2              0   1.210000   \n",
       "1            2022               6              1   1.982429   \n",
       "2            2024              17              2   7.652667   \n",
       "3            2024              64             11  72.059886   \n",
       "4            2024               8             10   2.846267   \n",
       "\n",
       "   TotalExecutedQuantity  TotalQuantity  ...  \\\n",
       "0                  12000          12000  ...   \n",
       "1                   4347           4529  ...   \n",
       "2                 123895         137395  ...   \n",
       "3                 682538         911078  ...   \n",
       "4                 356686         594953  ...   \n",
       "\n",
       "   SectorName_TelecommunicationServices  SectorName_REALESTATE  \\\n",
       "0                              0.000000                    0.0   \n",
       "1                              0.000000                    0.0   \n",
       "2                              0.000000                    0.0   \n",
       "3                              6.297068                    0.0   \n",
       "4                              0.000000                    0.0   \n",
       "\n",
       "   SectorName_Telecommunications  SectorName_FOOD  SectorName_Others  \\\n",
       "0                            0.0         0.000000                0.0   \n",
       "1                            0.0         2.797573                0.0   \n",
       "2                            0.0         0.000000                0.0   \n",
       "3                            0.0         0.000000                0.0   \n",
       "4                            0.0         0.000000                0.0   \n",
       "\n",
       "   SectorName_Tourism  SectorName_ConsumerServices  SectorName_Utilities  \\\n",
       "0                 0.0                          0.0                   0.0   \n",
       "1                 0.0                          0.0                   0.0   \n",
       "2                 0.0                          0.0                   0.0   \n",
       "3                 0.0                          0.0                   0.0   \n",
       "4                 0.0                          0.0                   0.0   \n",
       "\n",
       "   SectorName_Trade  SectorName_PharmaceuticalIndustries  \n",
       "0               0.0                                  0.0  \n",
       "1               0.0                                  0.0  \n",
       "2               0.0                                  0.0  \n",
       "3               0.0                                  0.0  \n",
       "4               0.0                                  0.0  \n",
       "\n",
       "[5 rows x 377 columns]"
      ]
     },
     "execution_count": 23,
     "metadata": {},
     "output_type": "execute_result"
    }
   ],
   "source": [
    "agg_orders.head()"
   ]
  },
  {
   "cell_type": "markdown",
   "metadata": {},
   "source": [
    "Display the info of the agg_orders dataframe\n"
   ]
  },
  {
   "cell_type": "code",
   "execution_count": 24,
   "metadata": {},
   "outputs": [
    {
     "name": "stdout",
     "output_type": "stream",
     "text": [
      "<class 'pandas.core.frame.DataFrame'>\n",
      "RangeIndex: 13523 entries, 0 to 13522\n",
      "Columns: 377 entries, AccountID to SectorName_PharmaceuticalIndustries\n",
      "dtypes: datetime64[ns](1), float64(368), int64(8)\n",
      "memory usage: 38.9 MB\n"
     ]
    }
   ],
   "source": [
    "agg_orders.info()"
   ]
  },
  {
   "cell_type": "markdown",
   "metadata": {},
   "source": [
    "## Clients Data\n"
   ]
  },
  {
   "cell_type": "markdown",
   "metadata": {},
   "source": [
    "Drop the rows with null values\n"
   ]
  },
  {
   "cell_type": "code",
   "execution_count": 25,
   "metadata": {},
   "outputs": [],
   "source": [
    "clients_df.dropna(inplace=True)"
   ]
  },
  {
   "cell_type": "markdown",
   "metadata": {},
   "source": [
    "Split the OpenDate column to Month and Year of the account open date. Then, OHE these columns.\n"
   ]
  },
  {
   "cell_type": "code",
   "execution_count": 26,
   "metadata": {},
   "outputs": [],
   "source": [
    "# Convert the OpenDate column to datetime\n",
    "clients_df[\"OpenDate\"] = pd.to_datetime(clients_df[\"OpenDate\"], format=\"%m/%d/%Y\")\n",
    "\n",
    "# Create the Month and Year columns\n",
    "clients_df[\"OpenDate_Month\"] = clients_df[\"OpenDate\"].dt.month\n",
    "clients_df[\"OpenDate_Year\"] = clients_df[\"OpenDate\"].dt.year\n",
    "\n",
    "# Convert the type to int\n",
    "clients_df[\"OpenDate_Month\"] = clients_df[\"OpenDate_Month\"].astype(int)\n",
    "clients_df[\"OpenDate_Year\"] = clients_df[\"OpenDate_Year\"].astype(int)"
   ]
  },
  {
   "cell_type": "markdown",
   "metadata": {},
   "source": [
    "Split the Birthdate column to Month and Year of the client's birthdate. Then, OHE these columns.\n"
   ]
  },
  {
   "cell_type": "code",
   "execution_count": 27,
   "metadata": {},
   "outputs": [],
   "source": [
    "# Convert the BirthDate column to datetime\n",
    "clients_df[\"BirthDate\"] = pd.to_datetime(clients_df[\"BirthDate\"], format=\"%Y-%m-%d\")"
   ]
  },
  {
   "cell_type": "code",
   "execution_count": 30,
   "metadata": {},
   "outputs": [],
   "source": [
    "def calculate_age(birth_date):\n",
    "    # Assuming birth_date is a datetime object\n",
    "    today = datetime.today()\n",
    "    return (\n",
    "        today.year\n",
    "        - birth_date.year\n",
    "        - ((today.month, today.day) < (birth_date.month, birth_date.day))\n",
    "    )"
   ]
  },
  {
   "cell_type": "code",
   "execution_count": 31,
   "metadata": {},
   "outputs": [],
   "source": [
    "clients_df[\"Age\"] = clients_df[\"BirthDate\"].apply(calculate_age)"
   ]
  },
  {
   "cell_type": "markdown",
   "metadata": {},
   "source": [
    "Define a function so that we can compute if the account is dormant or not.\n",
    "\n",
    "If the account has not placed any order, we set the Is Dormant value to -1, so that we can isolate the accounts who have not placed any orders.\n"
   ]
  },
  {
   "cell_type": "code",
   "execution_count": 34,
   "metadata": {},
   "outputs": [],
   "source": [
    "def check_dormant(date):\n",
    "    april_2023 = datetime(2023, 4, 1)\n",
    "    if pd.isna(date):\n",
    "        return -1\n",
    "    elif date < april_2023:\n",
    "        return 1\n",
    "    else:\n",
    "        return 0"
   ]
  },
  {
   "cell_type": "markdown",
   "metadata": {},
   "source": [
    "Recompute the Is Dormant column\n"
   ]
  },
  {
   "cell_type": "code",
   "execution_count": 35,
   "metadata": {},
   "outputs": [],
   "source": [
    "clients_df[\"Is Dormant\"] = agg_orders[\"LastOrder\"].apply(check_dormant)"
   ]
  },
  {
   "cell_type": "markdown",
   "metadata": {},
   "source": [
    "Define a function to distinguish new accounts from inactive accounts\n"
   ]
  },
  {
   "cell_type": "code",
   "execution_count": 36,
   "metadata": {},
   "outputs": [],
   "source": [
    "def check_open_date(row):\n",
    "    if row[\"Is Dormant\"] == -1:\n",
    "        if pd.to_datetime(row[\"OpenDate\"]) < datetime(2023, 1, 1):\n",
    "            return 1\n",
    "        else:\n",
    "            return 0\n",
    "    else:\n",
    "        return row[\"Is Dormant\"]"
   ]
  },
  {
   "cell_type": "markdown",
   "metadata": {},
   "source": [
    "Recompute the Is Dormant column\n"
   ]
  },
  {
   "cell_type": "code",
   "execution_count": 38,
   "metadata": {},
   "outputs": [],
   "source": [
    "clients_df[\"Is Dormant\"] = clients_df.apply(check_open_date, axis=1)"
   ]
  },
  {
   "cell_type": "markdown",
   "metadata": {},
   "source": [
    "Remove all whitespaces in the column names\n"
   ]
  },
  {
   "cell_type": "code",
   "execution_count": 39,
   "metadata": {},
   "outputs": [],
   "source": [
    "clients_df.rename(columns=lambda x: x.replace(\" \", \"\"), inplace=True)"
   ]
  },
  {
   "cell_type": "markdown",
   "metadata": {},
   "source": [
    "Display the head of the clients dataframe\n"
   ]
  },
  {
   "cell_type": "code",
   "execution_count": 40,
   "metadata": {},
   "outputs": [
    {
     "data": {
      "text/html": [
       "<div>\n",
       "<style scoped>\n",
       "    .dataframe tbody tr th:only-of-type {\n",
       "        vertical-align: middle;\n",
       "    }\n",
       "\n",
       "    .dataframe tbody tr th {\n",
       "        vertical-align: top;\n",
       "    }\n",
       "\n",
       "    .dataframe thead th {\n",
       "        text-align: right;\n",
       "    }\n",
       "</style>\n",
       "<table border=\"1\" class=\"dataframe\">\n",
       "  <thead>\n",
       "    <tr style=\"text-align: right;\">\n",
       "      <th></th>\n",
       "      <th>ClientID</th>\n",
       "      <th>AccountID</th>\n",
       "      <th>Gender</th>\n",
       "      <th>RiskRate</th>\n",
       "      <th>CompanyName</th>\n",
       "      <th>IsClosed</th>\n",
       "      <th>IsDormant</th>\n",
       "      <th>IsProfileSuspended</th>\n",
       "      <th>IsClientSuspended</th>\n",
       "      <th>ClientTypeName</th>\n",
       "      <th>OpenDate</th>\n",
       "      <th>BirthDate</th>\n",
       "      <th>OpenDate_Month</th>\n",
       "      <th>OpenDate_Year</th>\n",
       "      <th>Age</th>\n",
       "    </tr>\n",
       "  </thead>\n",
       "  <tbody>\n",
       "    <tr>\n",
       "      <th>0</th>\n",
       "      <td>0</td>\n",
       "      <td>0</td>\n",
       "      <td>Male</td>\n",
       "      <td>Low</td>\n",
       "      <td>HSB</td>\n",
       "      <td>0</td>\n",
       "      <td>1</td>\n",
       "      <td>0</td>\n",
       "      <td>0</td>\n",
       "      <td>Individuals</td>\n",
       "      <td>2014-02-16</td>\n",
       "      <td>1990-07-27</td>\n",
       "      <td>2</td>\n",
       "      <td>2014</td>\n",
       "      <td>33</td>\n",
       "    </tr>\n",
       "    <tr>\n",
       "      <th>1</th>\n",
       "      <td>1</td>\n",
       "      <td>1</td>\n",
       "      <td>Female</td>\n",
       "      <td>Low</td>\n",
       "      <td>HSB</td>\n",
       "      <td>0</td>\n",
       "      <td>1</td>\n",
       "      <td>1</td>\n",
       "      <td>0</td>\n",
       "      <td>Individuals</td>\n",
       "      <td>2014-02-16</td>\n",
       "      <td>1963-10-22</td>\n",
       "      <td>2</td>\n",
       "      <td>2014</td>\n",
       "      <td>60</td>\n",
       "    </tr>\n",
       "    <tr>\n",
       "      <th>2</th>\n",
       "      <td>2</td>\n",
       "      <td>2</td>\n",
       "      <td>Male</td>\n",
       "      <td>Low</td>\n",
       "      <td>HSB</td>\n",
       "      <td>0</td>\n",
       "      <td>0</td>\n",
       "      <td>0</td>\n",
       "      <td>0</td>\n",
       "      <td>Individuals</td>\n",
       "      <td>2014-02-17</td>\n",
       "      <td>1971-05-14</td>\n",
       "      <td>2</td>\n",
       "      <td>2014</td>\n",
       "      <td>52</td>\n",
       "    </tr>\n",
       "    <tr>\n",
       "      <th>3</th>\n",
       "      <td>3</td>\n",
       "      <td>3</td>\n",
       "      <td>Male</td>\n",
       "      <td>Low</td>\n",
       "      <td>HSB</td>\n",
       "      <td>0</td>\n",
       "      <td>0</td>\n",
       "      <td>0</td>\n",
       "      <td>0</td>\n",
       "      <td>Individuals</td>\n",
       "      <td>2014-02-17</td>\n",
       "      <td>1953-01-14</td>\n",
       "      <td>2</td>\n",
       "      <td>2014</td>\n",
       "      <td>71</td>\n",
       "    </tr>\n",
       "    <tr>\n",
       "      <th>4</th>\n",
       "      <td>4</td>\n",
       "      <td>4</td>\n",
       "      <td>Male</td>\n",
       "      <td>Low</td>\n",
       "      <td>HSB</td>\n",
       "      <td>0</td>\n",
       "      <td>0</td>\n",
       "      <td>0</td>\n",
       "      <td>0</td>\n",
       "      <td>Individuals</td>\n",
       "      <td>2014-02-17</td>\n",
       "      <td>1976-06-09</td>\n",
       "      <td>2</td>\n",
       "      <td>2014</td>\n",
       "      <td>47</td>\n",
       "    </tr>\n",
       "  </tbody>\n",
       "</table>\n",
       "</div>"
      ],
      "text/plain": [
       "   ClientID  AccountID  Gender RiskRate CompanyName  IsClosed  IsDormant  \\\n",
       "0         0          0    Male      Low         HSB         0          1   \n",
       "1         1          1  Female      Low         HSB         0          1   \n",
       "2         2          2    Male      Low         HSB         0          0   \n",
       "3         3          3    Male      Low         HSB         0          0   \n",
       "4         4          4    Male      Low         HSB         0          0   \n",
       "\n",
       "   IsProfileSuspended  IsClientSuspended ClientTypeName   OpenDate  BirthDate  \\\n",
       "0                   0                  0    Individuals 2014-02-16 1990-07-27   \n",
       "1                   1                  0    Individuals 2014-02-16 1963-10-22   \n",
       "2                   0                  0    Individuals 2014-02-17 1971-05-14   \n",
       "3                   0                  0    Individuals 2014-02-17 1953-01-14   \n",
       "4                   0                  0    Individuals 2014-02-17 1976-06-09   \n",
       "\n",
       "   OpenDate_Month  OpenDate_Year  Age  \n",
       "0               2           2014   33  \n",
       "1               2           2014   60  \n",
       "2               2           2014   52  \n",
       "3               2           2014   71  \n",
       "4               2           2014   47  "
      ]
     },
     "execution_count": 40,
     "metadata": {},
     "output_type": "execute_result"
    }
   ],
   "source": [
    "clients_df.head()"
   ]
  },
  {
   "cell_type": "markdown",
   "metadata": {},
   "source": [
    "Display the info of the clients dataframe\n"
   ]
  },
  {
   "cell_type": "code",
   "execution_count": 41,
   "metadata": {},
   "outputs": [
    {
     "name": "stdout",
     "output_type": "stream",
     "text": [
      "<class 'pandas.core.frame.DataFrame'>\n",
      "RangeIndex: 13523 entries, 0 to 13522\n",
      "Data columns (total 15 columns):\n",
      " #   Column              Non-Null Count  Dtype         \n",
      "---  ------              --------------  -----         \n",
      " 0   ClientID            13523 non-null  int64         \n",
      " 1   AccountID           13523 non-null  int64         \n",
      " 2   Gender              13523 non-null  object        \n",
      " 3   RiskRate            13523 non-null  object        \n",
      " 4   CompanyName         13523 non-null  object        \n",
      " 5   IsClosed            13523 non-null  int64         \n",
      " 6   IsDormant           13523 non-null  int64         \n",
      " 7   IsProfileSuspended  13523 non-null  int64         \n",
      " 8   IsClientSuspended   13523 non-null  int64         \n",
      " 9   ClientTypeName      13523 non-null  object        \n",
      " 10  OpenDate            13523 non-null  datetime64[ns]\n",
      " 11  BirthDate           13523 non-null  datetime64[ns]\n",
      " 12  OpenDate_Month      13523 non-null  int64         \n",
      " 13  OpenDate_Year       13523 non-null  int64         \n",
      " 14  Age                 13523 non-null  int64         \n",
      "dtypes: datetime64[ns](2), int64(9), object(4)\n",
      "memory usage: 1.5+ MB\n"
     ]
    }
   ],
   "source": [
    "clients_df.info()"
   ]
  },
  {
   "cell_type": "markdown",
   "metadata": {},
   "source": [
    "## Merging\n"
   ]
  },
  {
   "cell_type": "markdown",
   "metadata": {},
   "source": [
    "**_We will inner join the agg_orders and clients_df dataframes on the AccountID column_**\n"
   ]
  },
  {
   "cell_type": "markdown",
   "metadata": {},
   "source": [
    "Perform the merging between both dataframes\n"
   ]
  },
  {
   "cell_type": "code",
   "execution_count": 42,
   "metadata": {},
   "outputs": [],
   "source": [
    "df = pd.merge(clients_df, agg_orders, on=\"AccountID\", how=\"inner\")"
   ]
  },
  {
   "cell_type": "markdown",
   "metadata": {},
   "source": [
    "Display the head of the dataframe\n"
   ]
  },
  {
   "cell_type": "code",
   "execution_count": 43,
   "metadata": {},
   "outputs": [
    {
     "data": {
      "text/html": [
       "<div>\n",
       "<style scoped>\n",
       "    .dataframe tbody tr th:only-of-type {\n",
       "        vertical-align: middle;\n",
       "    }\n",
       "\n",
       "    .dataframe tbody tr th {\n",
       "        vertical-align: top;\n",
       "    }\n",
       "\n",
       "    .dataframe thead th {\n",
       "        text-align: right;\n",
       "    }\n",
       "</style>\n",
       "<table border=\"1\" class=\"dataframe\">\n",
       "  <thead>\n",
       "    <tr style=\"text-align: right;\">\n",
       "      <th></th>\n",
       "      <th>ClientID</th>\n",
       "      <th>AccountID</th>\n",
       "      <th>Gender</th>\n",
       "      <th>RiskRate</th>\n",
       "      <th>CompanyName</th>\n",
       "      <th>IsClosed</th>\n",
       "      <th>IsDormant</th>\n",
       "      <th>IsProfileSuspended</th>\n",
       "      <th>IsClientSuspended</th>\n",
       "      <th>ClientTypeName</th>\n",
       "      <th>...</th>\n",
       "      <th>SectorName_TelecommunicationServices</th>\n",
       "      <th>SectorName_REALESTATE</th>\n",
       "      <th>SectorName_Telecommunications</th>\n",
       "      <th>SectorName_FOOD</th>\n",
       "      <th>SectorName_Others</th>\n",
       "      <th>SectorName_Tourism</th>\n",
       "      <th>SectorName_ConsumerServices</th>\n",
       "      <th>SectorName_Utilities</th>\n",
       "      <th>SectorName_Trade</th>\n",
       "      <th>SectorName_PharmaceuticalIndustries</th>\n",
       "    </tr>\n",
       "  </thead>\n",
       "  <tbody>\n",
       "    <tr>\n",
       "      <th>0</th>\n",
       "      <td>0</td>\n",
       "      <td>0</td>\n",
       "      <td>Male</td>\n",
       "      <td>Low</td>\n",
       "      <td>HSB</td>\n",
       "      <td>0</td>\n",
       "      <td>1</td>\n",
       "      <td>0</td>\n",
       "      <td>0</td>\n",
       "      <td>Individuals</td>\n",
       "      <td>...</td>\n",
       "      <td>0.000000</td>\n",
       "      <td>0.0</td>\n",
       "      <td>0.0</td>\n",
       "      <td>0.000000</td>\n",
       "      <td>0.0</td>\n",
       "      <td>0.0</td>\n",
       "      <td>0.0</td>\n",
       "      <td>0.0</td>\n",
       "      <td>0.0</td>\n",
       "      <td>0.0</td>\n",
       "    </tr>\n",
       "    <tr>\n",
       "      <th>1</th>\n",
       "      <td>1</td>\n",
       "      <td>1</td>\n",
       "      <td>Female</td>\n",
       "      <td>Low</td>\n",
       "      <td>HSB</td>\n",
       "      <td>0</td>\n",
       "      <td>1</td>\n",
       "      <td>1</td>\n",
       "      <td>0</td>\n",
       "      <td>Individuals</td>\n",
       "      <td>...</td>\n",
       "      <td>0.000000</td>\n",
       "      <td>0.0</td>\n",
       "      <td>0.0</td>\n",
       "      <td>2.797573</td>\n",
       "      <td>0.0</td>\n",
       "      <td>0.0</td>\n",
       "      <td>0.0</td>\n",
       "      <td>0.0</td>\n",
       "      <td>0.0</td>\n",
       "      <td>0.0</td>\n",
       "    </tr>\n",
       "    <tr>\n",
       "      <th>2</th>\n",
       "      <td>2</td>\n",
       "      <td>2</td>\n",
       "      <td>Male</td>\n",
       "      <td>Low</td>\n",
       "      <td>HSB</td>\n",
       "      <td>0</td>\n",
       "      <td>0</td>\n",
       "      <td>0</td>\n",
       "      <td>0</td>\n",
       "      <td>Individuals</td>\n",
       "      <td>...</td>\n",
       "      <td>0.000000</td>\n",
       "      <td>0.0</td>\n",
       "      <td>0.0</td>\n",
       "      <td>0.000000</td>\n",
       "      <td>0.0</td>\n",
       "      <td>0.0</td>\n",
       "      <td>0.0</td>\n",
       "      <td>0.0</td>\n",
       "      <td>0.0</td>\n",
       "      <td>0.0</td>\n",
       "    </tr>\n",
       "    <tr>\n",
       "      <th>3</th>\n",
       "      <td>3</td>\n",
       "      <td>3</td>\n",
       "      <td>Male</td>\n",
       "      <td>Low</td>\n",
       "      <td>HSB</td>\n",
       "      <td>0</td>\n",
       "      <td>0</td>\n",
       "      <td>0</td>\n",
       "      <td>0</td>\n",
       "      <td>Individuals</td>\n",
       "      <td>...</td>\n",
       "      <td>6.297068</td>\n",
       "      <td>0.0</td>\n",
       "      <td>0.0</td>\n",
       "      <td>0.000000</td>\n",
       "      <td>0.0</td>\n",
       "      <td>0.0</td>\n",
       "      <td>0.0</td>\n",
       "      <td>0.0</td>\n",
       "      <td>0.0</td>\n",
       "      <td>0.0</td>\n",
       "    </tr>\n",
       "    <tr>\n",
       "      <th>4</th>\n",
       "      <td>4</td>\n",
       "      <td>4</td>\n",
       "      <td>Male</td>\n",
       "      <td>Low</td>\n",
       "      <td>HSB</td>\n",
       "      <td>0</td>\n",
       "      <td>0</td>\n",
       "      <td>0</td>\n",
       "      <td>0</td>\n",
       "      <td>Individuals</td>\n",
       "      <td>...</td>\n",
       "      <td>0.000000</td>\n",
       "      <td>0.0</td>\n",
       "      <td>0.0</td>\n",
       "      <td>0.000000</td>\n",
       "      <td>0.0</td>\n",
       "      <td>0.0</td>\n",
       "      <td>0.0</td>\n",
       "      <td>0.0</td>\n",
       "      <td>0.0</td>\n",
       "      <td>0.0</td>\n",
       "    </tr>\n",
       "  </tbody>\n",
       "</table>\n",
       "<p>5 rows × 391 columns</p>\n",
       "</div>"
      ],
      "text/plain": [
       "   ClientID  AccountID  Gender RiskRate CompanyName  IsClosed  IsDormant  \\\n",
       "0         0          0    Male      Low         HSB         0          1   \n",
       "1         1          1  Female      Low         HSB         0          1   \n",
       "2         2          2    Male      Low         HSB         0          0   \n",
       "3         3          3    Male      Low         HSB         0          0   \n",
       "4         4          4    Male      Low         HSB         0          0   \n",
       "\n",
       "   IsProfileSuspended  IsClientSuspended ClientTypeName  ...  \\\n",
       "0                   0                  0    Individuals  ...   \n",
       "1                   1                  0    Individuals  ...   \n",
       "2                   0                  0    Individuals  ...   \n",
       "3                   0                  0    Individuals  ...   \n",
       "4                   0                  0    Individuals  ...   \n",
       "\n",
       "  SectorName_TelecommunicationServices SectorName_REALESTATE  \\\n",
       "0                             0.000000                   0.0   \n",
       "1                             0.000000                   0.0   \n",
       "2                             0.000000                   0.0   \n",
       "3                             6.297068                   0.0   \n",
       "4                             0.000000                   0.0   \n",
       "\n",
       "   SectorName_Telecommunications  SectorName_FOOD  SectorName_Others  \\\n",
       "0                            0.0         0.000000                0.0   \n",
       "1                            0.0         2.797573                0.0   \n",
       "2                            0.0         0.000000                0.0   \n",
       "3                            0.0         0.000000                0.0   \n",
       "4                            0.0         0.000000                0.0   \n",
       "\n",
       "   SectorName_Tourism SectorName_ConsumerServices  SectorName_Utilities  \\\n",
       "0                 0.0                         0.0                   0.0   \n",
       "1                 0.0                         0.0                   0.0   \n",
       "2                 0.0                         0.0                   0.0   \n",
       "3                 0.0                         0.0                   0.0   \n",
       "4                 0.0                         0.0                   0.0   \n",
       "\n",
       "   SectorName_Trade  SectorName_PharmaceuticalIndustries  \n",
       "0               0.0                                  0.0  \n",
       "1               0.0                                  0.0  \n",
       "2               0.0                                  0.0  \n",
       "3               0.0                                  0.0  \n",
       "4               0.0                                  0.0  \n",
       "\n",
       "[5 rows x 391 columns]"
      ]
     },
     "execution_count": 43,
     "metadata": {},
     "output_type": "execute_result"
    }
   ],
   "source": [
    "df.head()"
   ]
  },
  {
   "cell_type": "markdown",
   "metadata": {},
   "source": [
    "Display the info of the dataframe\n"
   ]
  },
  {
   "cell_type": "code",
   "execution_count": 44,
   "metadata": {},
   "outputs": [
    {
     "name": "stdout",
     "output_type": "stream",
     "text": [
      "<class 'pandas.core.frame.DataFrame'>\n",
      "RangeIndex: 13523 entries, 0 to 13522\n",
      "Columns: 391 entries, ClientID to SectorName_PharmaceuticalIndustries\n",
      "dtypes: datetime64[ns](3), float64(368), int64(16), object(4)\n",
      "memory usage: 40.3+ MB\n"
     ]
    }
   ],
   "source": [
    "df.info()"
   ]
  },
  {
   "cell_type": "code",
   "execution_count": 45,
   "metadata": {},
   "outputs": [],
   "source": [
    "df_no_TFIDF = pd.merge(clients_df, agg_orders_copy, on=\"AccountID\", how=\"inner\")"
   ]
  },
  {
   "cell_type": "markdown",
   "metadata": {},
   "source": [
    "## Defining The Label\n"
   ]
  },
  {
   "cell_type": "markdown",
   "metadata": {},
   "source": [
    "**_We defined our label to be a combination of multiple features_**\n",
    "\n",
    "-   TotalQuantity\n",
    "-   TotalExecutedQuantity\n",
    "-   IsDormant\n",
    "-   RiskRate_High\n",
    "-   IsClosed\n",
    "-   IsClientSuspended\n",
    "-   IsProfileSuspended\n"
   ]
  },
  {
   "cell_type": "markdown",
   "metadata": {},
   "source": [
    "Create the label\n"
   ]
  },
  {
   "cell_type": "code",
   "execution_count": 46,
   "metadata": {},
   "outputs": [],
   "source": [
    "# Compute the ratio of TotalExecutedQuantity/TotalQuantity\n",
    "df[\"ExecutedQuantityRatio\"] = df.apply(\n",
    "    lambda row: (\n",
    "        1\n",
    "        if row[\"TotalQuantity\"] == 0\n",
    "        else row[\"TotalExecutedQuantity\"] / row[\"TotalQuantity\"]\n",
    "    ),\n",
    "    axis=1,\n",
    ")\n",
    "\n",
    "df[\"Churned\"] = (\n",
    "    # Churned if no order for a long time and account is dormant\n",
    "    (df[\"IsDormant\"] == 1)\n",
    "    |\n",
    "    # Churned if high risk rate and low executed quantity ratio\n",
    "    (df[\"RiskRate\"] == \"High\") & (df[\"ExecutedQuantityRatio\"] < 0.5)\n",
    "    |\n",
    "    # Churned if account is closed\n",
    "    (df[\"IsClosed\"] == 1)\n",
    "    |\n",
    "    # Churned if client is suspended\n",
    "    (df[\"IsClientSuspended\"] == 1)\n",
    "    | (df[\"IsProfileSuspended\"] == 1)\n",
    ")\n",
    "\n",
    "df = df.replace({True: 1, False: 0})\n",
    "\n",
    "df[\"Churned\"] = df[\"Churned\"].astype(int)"
   ]
  },
  {
   "cell_type": "code",
   "execution_count": 47,
   "metadata": {},
   "outputs": [],
   "source": [
    "df_no_TFIDF[\"Churned\"] = df[\"Churned\"]"
   ]
  },
  {
   "cell_type": "markdown",
   "metadata": {},
   "source": [
    "## OHE\n"
   ]
  },
  {
   "cell_type": "markdown",
   "metadata": {},
   "source": [
    "The columns to be one-hot encoded\n"
   ]
  },
  {
   "cell_type": "code",
   "execution_count": 48,
   "metadata": {},
   "outputs": [],
   "source": [
    "columns = [\n",
    "    \"Gender\",\n",
    "    \"RiskRate\",\n",
    "    \"ClientTypeName\",\n",
    "    \"OpenDate_Month\",\n",
    "    \"OpenDate_Year\",\n",
    "]"
   ]
  },
  {
   "cell_type": "markdown",
   "metadata": {},
   "source": [
    "OHE these columns\n"
   ]
  },
  {
   "cell_type": "code",
   "execution_count": 49,
   "metadata": {},
   "outputs": [],
   "source": [
    "df = pd.get_dummies(\n",
    "    df,\n",
    "    columns=columns,\n",
    "    dtype=int,\n",
    ")"
   ]
  },
  {
   "cell_type": "markdown",
   "metadata": {},
   "source": [
    "Drop the columns used for creating the label to remove bias, also drop the unnecessary columns\n"
   ]
  },
  {
   "cell_type": "code",
   "execution_count": 50,
   "metadata": {},
   "outputs": [],
   "source": [
    "df.drop(\n",
    "    columns=[\n",
    "        \"ExecutedQuantityRatio\",\n",
    "        \"IsDormant\",\n",
    "        \"RiskRate_High\",\n",
    "        \"IsClosed\",\n",
    "        \"IsClientSuspended\",\n",
    "        \"IsProfileSuspended\",\n",
    "        \"OpenDate\",\n",
    "        \"BirthDate\",\n",
    "        \"LastOrder\",\n",
    "        \"LastOrder_Year\",\n",
    "        \"LastOrder_Month\",\n",
    "        \"CompanyName\",  # As we are only interested in HSB\n",
    "    ],\n",
    "    inplace=True,\n",
    ")\n",
    "\n",
    "df_no_TFIDF.drop(\n",
    "    columns=[\n",
    "        \"OpenDate\",\n",
    "        \"BirthDate\",\n",
    "        \"LastOrder\",\n",
    "    ],\n",
    "    inplace=True,\n",
    ")"
   ]
  },
  {
   "cell_type": "markdown",
   "metadata": {},
   "source": [
    "Remove all whitespaces in the column names\n"
   ]
  },
  {
   "cell_type": "code",
   "execution_count": 51,
   "metadata": {},
   "outputs": [],
   "source": [
    "df.rename(columns=lambda x: x.replace(\" \", \"\"), inplace=True)"
   ]
  },
  {
   "cell_type": "markdown",
   "metadata": {},
   "source": [
    "## Normalization\n"
   ]
  },
  {
   "cell_type": "markdown",
   "metadata": {},
   "source": [
    "The columns to be normalized\n"
   ]
  },
  {
   "cell_type": "code",
   "execution_count": 52,
   "metadata": {},
   "outputs": [],
   "source": [
    "columns = [\n",
    "    \"NumOfCompleted\",\n",
    "    \"NumOfCanceled\",\n",
    "    \"AvgPrice\",\n",
    "    \"TotalExecutedQuantity\",\n",
    "    \"NumOfOrders\",\n",
    "    \"TotalQuantity\",\n",
    "    \"Age\",\n",
    "]"
   ]
  },
  {
   "cell_type": "markdown",
   "metadata": {},
   "source": [
    "Define a function to normalize the data based on a distribution\n"
   ]
  },
  {
   "cell_type": "code",
   "execution_count": 53,
   "metadata": {},
   "outputs": [],
   "source": [
    "def get_normalized_data(data, dist):\n",
    "    if dist == \"uniform\":\n",
    "        return MinMaxScaler().fit_transform(data)\n",
    "    elif dist == \"norm\":\n",
    "        return StandardScaler().fit_transform(data)\n",
    "    else:\n",
    "        return np.log(np.abs(data.flatten()) + 1)"
   ]
  },
  {
   "cell_type": "markdown",
   "metadata": {},
   "source": [
    "Define a function to get the best distribution that fits the data\n"
   ]
  },
  {
   "cell_type": "code",
   "execution_count": 54,
   "metadata": {},
   "outputs": [],
   "source": [
    "def get_best_distribution(columns, df):\n",
    "    columns_distributions_dict = {column: \"\" for column in columns}\n",
    "\n",
    "    for column in columns:\n",
    "        print(\"###### \" + column + \" ######\")\n",
    "\n",
    "        data = df[column].values\n",
    "\n",
    "        f = Fitter(\n",
    "            data,\n",
    "            distributions=get_common_distributions(),\n",
    "        )\n",
    "        f.fit()\n",
    "        f.summary(plot=False)\n",
    "        dist = f.get_best(method=\"sumsquare_error\")\n",
    "        best_dist = \"\"\n",
    "        for key in dist.keys():\n",
    "            best_dist = key\n",
    "\n",
    "        columns_distributions_dict[column] = str(best_dist)\n",
    "        print(column)\n",
    "        print(f\"Best Distribution: {best_dist}\")\n",
    "        print()\n",
    "\n",
    "    return columns_distributions_dict"
   ]
  },
  {
   "cell_type": "markdown",
   "metadata": {},
   "source": [
    "Define a function to normalize the data based on its best distribution\n"
   ]
  },
  {
   "cell_type": "code",
   "execution_count": 55,
   "metadata": {},
   "outputs": [],
   "source": [
    "def normalize(columns, df):\n",
    "    columns_distributions_dict = get_best_distribution(columns, df)\n",
    "\n",
    "    for column in columns_distributions_dict.keys():\n",
    "        data = np.array(df[column]).reshape(-1, 1)\n",
    "        df[column] = get_normalized_data(\n",
    "            data=data, dist=columns_distributions_dict[column]\n",
    "        )\n",
    "    return columns_distributions_dict"
   ]
  },
  {
   "cell_type": "markdown",
   "metadata": {},
   "source": [
    "Normalize the data\n"
   ]
  },
  {
   "cell_type": "code",
   "execution_count": 56,
   "metadata": {},
   "outputs": [
    {
     "name": "stderr",
     "output_type": "stream",
     "text": [
      "\u001b[32m2024-04-20 03:46:04.814\u001b[0m | \u001b[1mINFO    \u001b[0m | \u001b[36mfitter.fitter\u001b[0m:\u001b[36m_fit_single_distribution\u001b[0m:\u001b[36m337\u001b[0m - \u001b[1mFitted expon distribution with error=2.4e-05)\u001b[0m\n",
      "\u001b[32m2024-04-20 03:46:04.832\u001b[0m | \u001b[1mINFO    \u001b[0m | \u001b[36mfitter.fitter\u001b[0m:\u001b[36m_fit_single_distribution\u001b[0m:\u001b[36m337\u001b[0m - \u001b[1mFitted norm distribution with error=0.000123)\u001b[0m\n",
      "\u001b[32m2024-04-20 03:46:04.868\u001b[0m | \u001b[1mINFO    \u001b[0m | \u001b[36mfitter.fitter\u001b[0m:\u001b[36m_fit_single_distribution\u001b[0m:\u001b[36m337\u001b[0m - \u001b[1mFitted uniform distribution with error=0.00015)\u001b[0m\n",
      "\u001b[32m2024-04-20 03:46:04.883\u001b[0m | \u001b[1mINFO    \u001b[0m | \u001b[36mfitter.fitter\u001b[0m:\u001b[36m_fit_single_distribution\u001b[0m:\u001b[36m337\u001b[0m - \u001b[1mFitted rayleigh distribution with error=0.000114)\u001b[0m\n"
     ]
    },
    {
     "name": "stdout",
     "output_type": "stream",
     "text": [
      "###### NumOfCompleted ######\n"
     ]
    },
    {
     "name": "stderr",
     "output_type": "stream",
     "text": [
      "\u001b[32m2024-04-20 03:46:04.986\u001b[0m | \u001b[1mINFO    \u001b[0m | \u001b[36mfitter.fitter\u001b[0m:\u001b[36m_fit_single_distribution\u001b[0m:\u001b[36m337\u001b[0m - \u001b[1mFitted cauchy distribution with error=0.000117)\u001b[0m\n"
     ]
    },
    {
     "name": "stderr",
     "output_type": "stream",
     "text": [
      "\u001b[32m2024-04-20 03:46:05.483\u001b[0m | \u001b[1mINFO    \u001b[0m | \u001b[36mfitter.fitter\u001b[0m:\u001b[36m_fit_single_distribution\u001b[0m:\u001b[36m337\u001b[0m - \u001b[1mFitted chi2 distribution with error=9.3e-05)\u001b[0m\n",
      "\u001b[32m2024-04-20 03:46:05.487\u001b[0m | \u001b[1mINFO    \u001b[0m | \u001b[36mfitter.fitter\u001b[0m:\u001b[36m_fit_single_distribution\u001b[0m:\u001b[36m337\u001b[0m - \u001b[1mFitted gamma distribution with error=0.000152)\u001b[0m\n",
      "\u001b[32m2024-04-20 03:46:05.527\u001b[0m | \u001b[1mINFO    \u001b[0m | \u001b[36mfitter.fitter\u001b[0m:\u001b[36m_fit_single_distribution\u001b[0m:\u001b[36m337\u001b[0m - \u001b[1mFitted powerlaw distribution with error=0.000149)\u001b[0m\n",
      "\u001b[32m2024-04-20 03:46:05.581\u001b[0m | \u001b[1mINFO    \u001b[0m | \u001b[36mfitter.fitter\u001b[0m:\u001b[36m_fit_single_distribution\u001b[0m:\u001b[36m337\u001b[0m - \u001b[1mFitted exponpow distribution with error=8.4e-05)\u001b[0m\n",
      "\u001b[32m2024-04-20 03:46:05.608\u001b[0m | \u001b[1mINFO    \u001b[0m | \u001b[36mfitter.fitter\u001b[0m:\u001b[36m_fit_single_distribution\u001b[0m:\u001b[36m337\u001b[0m - \u001b[1mFitted lognorm distribution with error=0.000151)\u001b[0m\n",
      "\u001b[32m2024-04-20 03:46:05.655\u001b[0m | \u001b[1mINFO    \u001b[0m | \u001b[36mfitter.fitter\u001b[0m:\u001b[36m_fit_single_distribution\u001b[0m:\u001b[36m337\u001b[0m - \u001b[1mFitted expon distribution with error=3.8e-05)\u001b[0m\n",
      "\u001b[32m2024-04-20 03:46:05.657\u001b[0m | \u001b[1mINFO    \u001b[0m | \u001b[36mfitter.fitter\u001b[0m:\u001b[36m_fit_single_distribution\u001b[0m:\u001b[36m337\u001b[0m - \u001b[1mFitted norm distribution with error=0.000405)\u001b[0m\n",
      "\u001b[32m2024-04-20 03:46:05.685\u001b[0m | \u001b[1mINFO    \u001b[0m | \u001b[36mfitter.fitter\u001b[0m:\u001b[36m_fit_single_distribution\u001b[0m:\u001b[36m337\u001b[0m - \u001b[1mFitted uniform distribution with error=0.000524)\u001b[0m\n",
      "\u001b[32m2024-04-20 03:46:05.706\u001b[0m | \u001b[1mINFO    \u001b[0m | \u001b[36mfitter.fitter\u001b[0m:\u001b[36m_fit_single_distribution\u001b[0m:\u001b[36m337\u001b[0m - \u001b[1mFitted rayleigh distribution with error=0.000363)\u001b[0m\n",
      "\u001b[32m2024-04-20 03:46:05.825\u001b[0m | \u001b[1mINFO    \u001b[0m | \u001b[36mfitter.fitter\u001b[0m:\u001b[36m_fit_single_distribution\u001b[0m:\u001b[36m337\u001b[0m - \u001b[1mFitted cauchy distribution with error=0.000515)\u001b[0m\n"
     ]
    },
    {
     "name": "stdout",
     "output_type": "stream",
     "text": [
      "NumOfCompleted\n",
      "Best Distribution: expon\n",
      "\n",
      "###### NumOfCanceled ######\n"
     ]
    },
    {
     "name": "stderr",
     "output_type": "stream",
     "text": [
      "\u001b[32m2024-04-20 03:46:06.415\u001b[0m | \u001b[1mINFO    \u001b[0m | \u001b[36mfitter.fitter\u001b[0m:\u001b[36m_fit_single_distribution\u001b[0m:\u001b[36m337\u001b[0m - \u001b[1mFitted gamma distribution with error=0.000531)\u001b[0m\n",
      "\u001b[32m2024-04-20 03:46:06.469\u001b[0m | \u001b[1mINFO    \u001b[0m | \u001b[36mfitter.fitter\u001b[0m:\u001b[36m_fit_single_distribution\u001b[0m:\u001b[36m337\u001b[0m - \u001b[1mFitted chi2 distribution with error=0.000302)\u001b[0m\n",
      "\u001b[32m2024-04-20 03:46:06.522\u001b[0m | \u001b[1mINFO    \u001b[0m | \u001b[36mfitter.fitter\u001b[0m:\u001b[36m_fit_single_distribution\u001b[0m:\u001b[36m337\u001b[0m - \u001b[1mFitted powerlaw distribution with error=0.000524)\u001b[0m\n",
      "\u001b[32m2024-04-20 03:46:06.564\u001b[0m | \u001b[1mINFO    \u001b[0m | \u001b[36mfitter.fitter\u001b[0m:\u001b[36m_fit_single_distribution\u001b[0m:\u001b[36m337\u001b[0m - \u001b[1mFitted exponpow distribution with error=0.000295)\u001b[0m\n",
      "\u001b[32m2024-04-20 03:46:06.646\u001b[0m | \u001b[1mINFO    \u001b[0m | \u001b[36mfitter.fitter\u001b[0m:\u001b[36m_fit_single_distribution\u001b[0m:\u001b[36m337\u001b[0m - \u001b[1mFitted lognorm distribution with error=0.000529)\u001b[0m\n",
      "\u001b[32m2024-04-20 03:46:06.683\u001b[0m | \u001b[1mINFO    \u001b[0m | \u001b[36mfitter.fitter\u001b[0m:\u001b[36m_fit_single_distribution\u001b[0m:\u001b[36m337\u001b[0m - \u001b[1mFitted norm distribution with error=0.000916)\u001b[0m\n",
      "\u001b[32m2024-04-20 03:46:06.693\u001b[0m | \u001b[1mINFO    \u001b[0m | \u001b[36mfitter.fitter\u001b[0m:\u001b[36m_fit_single_distribution\u001b[0m:\u001b[36m337\u001b[0m - \u001b[1mFitted expon distribution with error=3.4e-05)\u001b[0m\n",
      "\u001b[32m2024-04-20 03:46:06.721\u001b[0m | \u001b[1mINFO    \u001b[0m | \u001b[36mfitter.fitter\u001b[0m:\u001b[36m_fit_single_distribution\u001b[0m:\u001b[36m337\u001b[0m - \u001b[1mFitted uniform distribution with error=0.001515)\u001b[0m\n",
      "\u001b[32m2024-04-20 03:46:06.734\u001b[0m | \u001b[1mINFO    \u001b[0m | \u001b[36mfitter.fitter\u001b[0m:\u001b[36m_fit_single_distribution\u001b[0m:\u001b[36m337\u001b[0m - \u001b[1mFitted rayleigh distribution with error=0.000732)\u001b[0m\n",
      "\u001b[32m2024-04-20 03:46:06.828\u001b[0m | \u001b[1mINFO    \u001b[0m | \u001b[36mfitter.fitter\u001b[0m:\u001b[36m_fit_single_distribution\u001b[0m:\u001b[36m337\u001b[0m - \u001b[1mFitted cauchy distribution with error=0.000213)\u001b[0m\n"
     ]
    },
    {
     "name": "stdout",
     "output_type": "stream",
     "text": [
      "NumOfCanceled\n",
      "Best Distribution: expon\n",
      "\n",
      "###### AvgPrice ######\n"
     ]
    },
    {
     "name": "stderr",
     "output_type": "stream",
     "text": [
      "\u001b[32m2024-04-20 03:46:07.476\u001b[0m | \u001b[1mINFO    \u001b[0m | \u001b[36mfitter.fitter\u001b[0m:\u001b[36m_fit_single_distribution\u001b[0m:\u001b[36m337\u001b[0m - \u001b[1mFitted gamma distribution with error=0.001539)\u001b[0m\n",
      "\u001b[32m2024-04-20 03:46:07.521\u001b[0m | \u001b[1mINFO    \u001b[0m | \u001b[36mfitter.fitter\u001b[0m:\u001b[36m_fit_single_distribution\u001b[0m:\u001b[36m337\u001b[0m - \u001b[1mFitted powerlaw distribution with error=0.001501)\u001b[0m\n",
      "\u001b[32m2024-04-20 03:46:07.531\u001b[0m | \u001b[1mINFO    \u001b[0m | \u001b[36mfitter.fitter\u001b[0m:\u001b[36m_fit_single_distribution\u001b[0m:\u001b[36m337\u001b[0m - \u001b[1mFitted chi2 distribution with error=0.000597)\u001b[0m\n",
      "\u001b[32m2024-04-20 03:46:07.598\u001b[0m | \u001b[1mINFO    \u001b[0m | \u001b[36mfitter.fitter\u001b[0m:\u001b[36m_fit_single_distribution\u001b[0m:\u001b[36m337\u001b[0m - \u001b[1mFitted exponpow distribution with error=0.000729)\u001b[0m\n",
      "\u001b[32m2024-04-20 03:46:07.635\u001b[0m | \u001b[1mINFO    \u001b[0m | \u001b[36mfitter.fitter\u001b[0m:\u001b[36m_fit_single_distribution\u001b[0m:\u001b[36m337\u001b[0m - \u001b[1mFitted lognorm distribution with error=0.001531)\u001b[0m\n",
      "\u001b[32m2024-04-20 03:46:07.672\u001b[0m | \u001b[1mINFO    \u001b[0m | \u001b[36mfitter.fitter\u001b[0m:\u001b[36m_fit_single_distribution\u001b[0m:\u001b[36m337\u001b[0m - \u001b[1mFitted expon distribution with error=0.0)\u001b[0m\n",
      "\u001b[32m2024-04-20 03:46:07.687\u001b[0m | \u001b[1mINFO    \u001b[0m | \u001b[36mfitter.fitter\u001b[0m:\u001b[36m_fit_single_distribution\u001b[0m:\u001b[36m337\u001b[0m - \u001b[1mFitted norm distribution with error=0.0)\u001b[0m\n",
      "\u001b[32m2024-04-20 03:46:07.706\u001b[0m | \u001b[1mINFO    \u001b[0m | \u001b[36mfitter.fitter\u001b[0m:\u001b[36m_fit_single_distribution\u001b[0m:\u001b[36m337\u001b[0m - \u001b[1mFitted uniform distribution with error=0.0)\u001b[0m\n",
      "\u001b[32m2024-04-20 03:46:07.761\u001b[0m | \u001b[1mINFO    \u001b[0m | \u001b[36mfitter.fitter\u001b[0m:\u001b[36m_fit_single_distribution\u001b[0m:\u001b[36m337\u001b[0m - \u001b[1mFitted rayleigh distribution with error=0.0)\u001b[0m\n"
     ]
    },
    {
     "name": "stdout",
     "output_type": "stream",
     "text": [
      "AvgPrice\n",
      "Best Distribution: expon\n",
      "\n",
      "###### TotalExecutedQuantity ######\n"
     ]
    },
    {
     "name": "stderr",
     "output_type": "stream",
     "text": [
      "\u001b[32m2024-04-20 03:46:07.998\u001b[0m | \u001b[1mINFO    \u001b[0m | \u001b[36mfitter.fitter\u001b[0m:\u001b[36m_fit_single_distribution\u001b[0m:\u001b[36m337\u001b[0m - \u001b[1mFitted cauchy distribution with error=0.0)\u001b[0m\n",
      "\u001b[32m2024-04-20 03:46:08.104\u001b[0m | \u001b[1mINFO    \u001b[0m | \u001b[36mfitter.fitter\u001b[0m:\u001b[36m_fit_single_distribution\u001b[0m:\u001b[36m337\u001b[0m - \u001b[1mFitted gamma distribution with error=0.0)\u001b[0m\n",
      "\u001b[32m2024-04-20 03:46:08.477\u001b[0m | \u001b[1mINFO    \u001b[0m | \u001b[36mfitter.fitter\u001b[0m:\u001b[36m_fit_single_distribution\u001b[0m:\u001b[36m337\u001b[0m - \u001b[1mFitted chi2 distribution with error=0.0)\u001b[0m\n",
      "\u001b[32m2024-04-20 03:46:08.514\u001b[0m | \u001b[1mINFO    \u001b[0m | \u001b[36mfitter.fitter\u001b[0m:\u001b[36m_fit_single_distribution\u001b[0m:\u001b[36m337\u001b[0m - \u001b[1mFitted powerlaw distribution with error=0.0)\u001b[0m\n",
      "\u001b[32m2024-04-20 03:46:08.553\u001b[0m | \u001b[1mINFO    \u001b[0m | \u001b[36mfitter.fitter\u001b[0m:\u001b[36m_fit_single_distribution\u001b[0m:\u001b[36m337\u001b[0m - \u001b[1mFitted exponpow distribution with error=0.0)\u001b[0m\n",
      "\u001b[32m2024-04-20 03:46:08.594\u001b[0m | \u001b[1mINFO    \u001b[0m | \u001b[36mfitter.fitter\u001b[0m:\u001b[36m_fit_single_distribution\u001b[0m:\u001b[36m337\u001b[0m - \u001b[1mFitted lognorm distribution with error=0.0)\u001b[0m\n",
      "\u001b[32m2024-04-20 03:46:08.631\u001b[0m | \u001b[1mINFO    \u001b[0m | \u001b[36mfitter.fitter\u001b[0m:\u001b[36m_fit_single_distribution\u001b[0m:\u001b[36m337\u001b[0m - \u001b[1mFitted norm distribution with error=3.7e-05)\u001b[0m\n",
      "\u001b[32m2024-04-20 03:46:08.635\u001b[0m | \u001b[1mINFO    \u001b[0m | \u001b[36mfitter.fitter\u001b[0m:\u001b[36m_fit_single_distribution\u001b[0m:\u001b[36m337\u001b[0m - \u001b[1mFitted expon distribution with error=7e-06)\u001b[0m\n",
      "\u001b[32m2024-04-20 03:46:08.671\u001b[0m | \u001b[1mINFO    \u001b[0m | \u001b[36mfitter.fitter\u001b[0m:\u001b[36m_fit_single_distribution\u001b[0m:\u001b[36m337\u001b[0m - \u001b[1mFitted uniform distribution with error=4.6e-05)\u001b[0m\n",
      "\u001b[32m2024-04-20 03:46:08.686\u001b[0m | \u001b[1mINFO    \u001b[0m | \u001b[36mfitter.fitter\u001b[0m:\u001b[36m_fit_single_distribution\u001b[0m:\u001b[36m337\u001b[0m - \u001b[1mFitted rayleigh distribution with error=3.4e-05)\u001b[0m\n",
      "\u001b[32m2024-04-20 03:46:08.808\u001b[0m | \u001b[1mINFO    \u001b[0m | \u001b[36mfitter.fitter\u001b[0m:\u001b[36m_fit_single_distribution\u001b[0m:\u001b[36m337\u001b[0m - \u001b[1mFitted cauchy distribution with error=3.6e-05)\u001b[0m\n"
     ]
    },
    {
     "name": "stdout",
     "output_type": "stream",
     "text": [
      "TotalExecutedQuantity\n",
      "Best Distribution: expon\n",
      "\n",
      "###### NumOfOrders ######\n"
     ]
    },
    {
     "name": "stderr",
     "output_type": "stream",
     "text": [
      "\u001b[32m2024-04-20 03:46:09.377\u001b[0m | \u001b[1mINFO    \u001b[0m | \u001b[36mfitter.fitter\u001b[0m:\u001b[36m_fit_single_distribution\u001b[0m:\u001b[36m337\u001b[0m - \u001b[1mFitted gamma distribution with error=4.6e-05)\u001b[0m\n",
      "\u001b[32m2024-04-20 03:46:09.449\u001b[0m | \u001b[1mINFO    \u001b[0m | \u001b[36mfitter.fitter\u001b[0m:\u001b[36m_fit_single_distribution\u001b[0m:\u001b[36m337\u001b[0m - \u001b[1mFitted chi2 distribution with error=2.8e-05)\u001b[0m\n",
      "\u001b[32m2024-04-20 03:46:09.465\u001b[0m | \u001b[1mINFO    \u001b[0m | \u001b[36mfitter.fitter\u001b[0m:\u001b[36m_fit_single_distribution\u001b[0m:\u001b[36m337\u001b[0m - \u001b[1mFitted powerlaw distribution with error=4.5e-05)\u001b[0m\n",
      "\u001b[32m2024-04-20 03:46:09.518\u001b[0m | \u001b[1mINFO    \u001b[0m | \u001b[36mfitter.fitter\u001b[0m:\u001b[36m_fit_single_distribution\u001b[0m:\u001b[36m337\u001b[0m - \u001b[1mFitted exponpow distribution with error=3.2e-05)\u001b[0m\n",
      "\u001b[32m2024-04-20 03:46:09.573\u001b[0m | \u001b[1mINFO    \u001b[0m | \u001b[36mfitter.fitter\u001b[0m:\u001b[36m_fit_single_distribution\u001b[0m:\u001b[36m337\u001b[0m - \u001b[1mFitted lognorm distribution with error=4.6e-05)\u001b[0m\n",
      "\u001b[32m2024-04-20 03:46:09.610\u001b[0m | \u001b[1mINFO    \u001b[0m | \u001b[36mfitter.fitter\u001b[0m:\u001b[36m_fit_single_distribution\u001b[0m:\u001b[36m337\u001b[0m - \u001b[1mFitted norm distribution with error=0.0)\u001b[0m\n",
      "\u001b[32m2024-04-20 03:46:09.610\u001b[0m | \u001b[1mINFO    \u001b[0m | \u001b[36mfitter.fitter\u001b[0m:\u001b[36m_fit_single_distribution\u001b[0m:\u001b[36m337\u001b[0m - \u001b[1mFitted expon distribution with error=0.0)\u001b[0m\n",
      "\u001b[32m2024-04-20 03:46:09.635\u001b[0m | \u001b[1mINFO    \u001b[0m | \u001b[36mfitter.fitter\u001b[0m:\u001b[36m_fit_single_distribution\u001b[0m:\u001b[36m337\u001b[0m - \u001b[1mFitted uniform distribution with error=0.0)\u001b[0m\n",
      "\u001b[32m2024-04-20 03:46:09.693\u001b[0m | \u001b[1mINFO    \u001b[0m | \u001b[36mfitter.fitter\u001b[0m:\u001b[36m_fit_single_distribution\u001b[0m:\u001b[36m337\u001b[0m - \u001b[1mFitted rayleigh distribution with error=0.0)\u001b[0m\n"
     ]
    },
    {
     "name": "stdout",
     "output_type": "stream",
     "text": [
      "NumOfOrders\n",
      "Best Distribution: expon\n",
      "\n",
      "###### TotalQuantity ######\n"
     ]
    },
    {
     "name": "stderr",
     "output_type": "stream",
     "text": [
      "\u001b[32m2024-04-20 03:46:09.898\u001b[0m | \u001b[1mINFO    \u001b[0m | \u001b[36mfitter.fitter\u001b[0m:\u001b[36m_fit_single_distribution\u001b[0m:\u001b[36m337\u001b[0m - \u001b[1mFitted gamma distribution with error=0.0)\u001b[0m\n",
      "\u001b[32m2024-04-20 03:46:09.937\u001b[0m | \u001b[1mINFO    \u001b[0m | \u001b[36mfitter.fitter\u001b[0m:\u001b[36m_fit_single_distribution\u001b[0m:\u001b[36m337\u001b[0m - \u001b[1mFitted cauchy distribution with error=0.0)\u001b[0m\n",
      "\u001b[32m2024-04-20 03:46:10.398\u001b[0m | \u001b[1mINFO    \u001b[0m | \u001b[36mfitter.fitter\u001b[0m:\u001b[36m_fit_single_distribution\u001b[0m:\u001b[36m337\u001b[0m - \u001b[1mFitted chi2 distribution with error=0.0)\u001b[0m\n",
      "\u001b[32m2024-04-20 03:46:10.439\u001b[0m | \u001b[1mINFO    \u001b[0m | \u001b[36mfitter.fitter\u001b[0m:\u001b[36m_fit_single_distribution\u001b[0m:\u001b[36m337\u001b[0m - \u001b[1mFitted powerlaw distribution with error=0.0)\u001b[0m\n",
      "\u001b[32m2024-04-20 03:46:10.498\u001b[0m | \u001b[1mINFO    \u001b[0m | \u001b[36mfitter.fitter\u001b[0m:\u001b[36m_fit_single_distribution\u001b[0m:\u001b[36m337\u001b[0m - \u001b[1mFitted exponpow distribution with error=0.0)\u001b[0m\n",
      "\u001b[32m2024-04-20 03:46:10.544\u001b[0m | \u001b[1mINFO    \u001b[0m | \u001b[36mfitter.fitter\u001b[0m:\u001b[36m_fit_single_distribution\u001b[0m:\u001b[36m337\u001b[0m - \u001b[1mFitted lognorm distribution with error=0.0)\u001b[0m\n",
      "\u001b[32m2024-04-20 03:46:10.594\u001b[0m | \u001b[1mINFO    \u001b[0m | \u001b[36mfitter.fitter\u001b[0m:\u001b[36m_fit_single_distribution\u001b[0m:\u001b[36m337\u001b[0m - \u001b[1mFitted expon distribution with error=0.02863)\u001b[0m\n",
      "\u001b[32m2024-04-20 03:46:10.604\u001b[0m | \u001b[1mINFO    \u001b[0m | \u001b[36mfitter.fitter\u001b[0m:\u001b[36m_fit_single_distribution\u001b[0m:\u001b[36m337\u001b[0m - \u001b[1mFitted norm distribution with error=0.020208)\u001b[0m\n",
      "\u001b[32m2024-04-20 03:46:10.648\u001b[0m | \u001b[1mINFO    \u001b[0m | \u001b[36mfitter.fitter\u001b[0m:\u001b[36m_fit_single_distribution\u001b[0m:\u001b[36m337\u001b[0m - \u001b[1mFitted uniform distribution with error=0.019125)\u001b[0m\n",
      "\u001b[32m2024-04-20 03:46:10.666\u001b[0m | \u001b[1mINFO    \u001b[0m | \u001b[36mfitter.fitter\u001b[0m:\u001b[36m_fit_single_distribution\u001b[0m:\u001b[36m337\u001b[0m - \u001b[1mFitted rayleigh distribution with error=0.019802)\u001b[0m\n",
      "\u001b[32m2024-04-20 03:46:10.678\u001b[0m | \u001b[1mINFO    \u001b[0m | \u001b[36mfitter.fitter\u001b[0m:\u001b[36m_fit_single_distribution\u001b[0m:\u001b[36m337\u001b[0m - \u001b[1mFitted powerlaw distribution with error=0.018331)\u001b[0m\n",
      "\u001b[32m2024-04-20 03:46:10.710\u001b[0m | \u001b[1mINFO    \u001b[0m | \u001b[36mfitter.fitter\u001b[0m:\u001b[36m_fit_single_distribution\u001b[0m:\u001b[36m337\u001b[0m - \u001b[1mFitted lognorm distribution with error=0.020208)\u001b[0m\n"
     ]
    },
    {
     "name": "stdout",
     "output_type": "stream",
     "text": [
      "TotalQuantity\n",
      "Best Distribution: expon\n",
      "\n",
      "###### Age ######\n"
     ]
    },
    {
     "name": "stderr",
     "output_type": "stream",
     "text": [
      "\u001b[32m2024-04-20 03:46:10.757\u001b[0m | \u001b[1mINFO    \u001b[0m | \u001b[36mfitter.fitter\u001b[0m:\u001b[36m_fit_single_distribution\u001b[0m:\u001b[36m337\u001b[0m - \u001b[1mFitted cauchy distribution with error=0.023336)\u001b[0m\n",
      "\u001b[32m2024-04-20 03:46:10.975\u001b[0m | \u001b[1mINFO    \u001b[0m | \u001b[36mfitter.fitter\u001b[0m:\u001b[36m_fit_single_distribution\u001b[0m:\u001b[36m337\u001b[0m - \u001b[1mFitted gamma distribution with error=0.020197)\u001b[0m\n",
      "\u001b[32m2024-04-20 03:46:10.993\u001b[0m | \u001b[1mINFO    \u001b[0m | \u001b[36mfitter.fitter\u001b[0m:\u001b[36m_fit_single_distribution\u001b[0m:\u001b[36m337\u001b[0m - \u001b[1mFitted chi2 distribution with error=0.020167)\u001b[0m\n",
      "\u001b[32m2024-04-20 03:46:11.079\u001b[0m | \u001b[1mINFO    \u001b[0m | \u001b[36mfitter.fitter\u001b[0m:\u001b[36m_fit_single_distribution\u001b[0m:\u001b[36m337\u001b[0m - \u001b[1mFitted exponpow distribution with error=0.095327)\u001b[0m\n"
     ]
    },
    {
     "name": "stdout",
     "output_type": "stream",
     "text": [
      "Age\n",
      "Best Distribution: powerlaw\n",
      "\n",
      "{'NumOfCompleted': 'expon', 'NumOfCanceled': 'expon', 'AvgPrice': 'expon', 'TotalExecutedQuantity': 'expon', 'NumOfOrders': 'expon', 'TotalQuantity': 'expon', 'Age': 'powerlaw'}\n"
     ]
    }
   ],
   "source": [
    "print(normalize(columns, df))"
   ]
  },
  {
   "cell_type": "markdown",
   "metadata": {},
   "source": [
    "## Saving\n"
   ]
  },
  {
   "cell_type": "markdown",
   "metadata": {},
   "source": [
    "Make the Churned column to be the last column\n"
   ]
  },
  {
   "cell_type": "code",
   "execution_count": 57,
   "metadata": {},
   "outputs": [],
   "source": [
    "cols = list(df.columns)\n",
    "cols.append(cols.pop(cols.index(\"Churned\")))\n",
    "df = df[cols]"
   ]
  },
  {
   "cell_type": "markdown",
   "metadata": {},
   "source": [
    "Display the head of the dataframe\n"
   ]
  },
  {
   "cell_type": "code",
   "execution_count": 58,
   "metadata": {},
   "outputs": [
    {
     "data": {
      "text/html": [
       "<div>\n",
       "<style scoped>\n",
       "    .dataframe tbody tr th:only-of-type {\n",
       "        vertical-align: middle;\n",
       "    }\n",
       "\n",
       "    .dataframe tbody tr th {\n",
       "        vertical-align: top;\n",
       "    }\n",
       "\n",
       "    .dataframe thead th {\n",
       "        text-align: right;\n",
       "    }\n",
       "</style>\n",
       "<table border=\"1\" class=\"dataframe\">\n",
       "  <thead>\n",
       "    <tr style=\"text-align: right;\">\n",
       "      <th></th>\n",
       "      <th>ClientID</th>\n",
       "      <th>AccountID</th>\n",
       "      <th>Age</th>\n",
       "      <th>NumOfOrders</th>\n",
       "      <th>NumOfCompleted</th>\n",
       "      <th>NumOfCanceled</th>\n",
       "      <th>AvgPrice</th>\n",
       "      <th>TotalExecutedQuantity</th>\n",
       "      <th>TotalQuantity</th>\n",
       "      <th>OrderType_Buy</th>\n",
       "      <th>...</th>\n",
       "      <th>OpenDate_Year_2016</th>\n",
       "      <th>OpenDate_Year_2017</th>\n",
       "      <th>OpenDate_Year_2018</th>\n",
       "      <th>OpenDate_Year_2019</th>\n",
       "      <th>OpenDate_Year_2020</th>\n",
       "      <th>OpenDate_Year_2021</th>\n",
       "      <th>OpenDate_Year_2022</th>\n",
       "      <th>OpenDate_Year_2023</th>\n",
       "      <th>OpenDate_Year_2024</th>\n",
       "      <th>Churned</th>\n",
       "    </tr>\n",
       "  </thead>\n",
       "  <tbody>\n",
       "    <tr>\n",
       "      <th>0</th>\n",
       "      <td>0</td>\n",
       "      <td>0</td>\n",
       "      <td>3.526361</td>\n",
       "      <td>1.098612</td>\n",
       "      <td>1.098612</td>\n",
       "      <td>0.000000</td>\n",
       "      <td>0.792993</td>\n",
       "      <td>9.392745</td>\n",
       "      <td>9.392745</td>\n",
       "      <td>1.485619</td>\n",
       "      <td>...</td>\n",
       "      <td>0</td>\n",
       "      <td>0</td>\n",
       "      <td>0</td>\n",
       "      <td>0</td>\n",
       "      <td>0</td>\n",
       "      <td>0</td>\n",
       "      <td>0</td>\n",
       "      <td>0</td>\n",
       "      <td>0</td>\n",
       "      <td>1</td>\n",
       "    </tr>\n",
       "    <tr>\n",
       "      <th>1</th>\n",
       "      <td>1</td>\n",
       "      <td>1</td>\n",
       "      <td>4.110874</td>\n",
       "      <td>2.079442</td>\n",
       "      <td>1.945910</td>\n",
       "      <td>0.693147</td>\n",
       "      <td>1.092738</td>\n",
       "      <td>8.377471</td>\n",
       "      <td>8.418477</td>\n",
       "      <td>0.000000</td>\n",
       "      <td>...</td>\n",
       "      <td>0</td>\n",
       "      <td>0</td>\n",
       "      <td>0</td>\n",
       "      <td>0</td>\n",
       "      <td>0</td>\n",
       "      <td>0</td>\n",
       "      <td>0</td>\n",
       "      <td>0</td>\n",
       "      <td>0</td>\n",
       "      <td>1</td>\n",
       "    </tr>\n",
       "    <tr>\n",
       "      <th>2</th>\n",
       "      <td>2</td>\n",
       "      <td>2</td>\n",
       "      <td>3.970292</td>\n",
       "      <td>3.091042</td>\n",
       "      <td>2.890372</td>\n",
       "      <td>1.098612</td>\n",
       "      <td>2.157868</td>\n",
       "      <td>11.727198</td>\n",
       "      <td>11.830623</td>\n",
       "      <td>13.370571</td>\n",
       "      <td>...</td>\n",
       "      <td>0</td>\n",
       "      <td>0</td>\n",
       "      <td>0</td>\n",
       "      <td>0</td>\n",
       "      <td>0</td>\n",
       "      <td>0</td>\n",
       "      <td>0</td>\n",
       "      <td>0</td>\n",
       "      <td>0</td>\n",
       "      <td>0</td>\n",
       "    </tr>\n",
       "    <tr>\n",
       "      <th>3</th>\n",
       "      <td>3</td>\n",
       "      <td>3</td>\n",
       "      <td>4.276666</td>\n",
       "      <td>4.488636</td>\n",
       "      <td>4.174387</td>\n",
       "      <td>2.484907</td>\n",
       "      <td>4.291279</td>\n",
       "      <td>13.433575</td>\n",
       "      <td>13.722385</td>\n",
       "      <td>30.455190</td>\n",
       "      <td>...</td>\n",
       "      <td>0</td>\n",
       "      <td>0</td>\n",
       "      <td>0</td>\n",
       "      <td>0</td>\n",
       "      <td>0</td>\n",
       "      <td>0</td>\n",
       "      <td>0</td>\n",
       "      <td>0</td>\n",
       "      <td>0</td>\n",
       "      <td>0</td>\n",
       "    </tr>\n",
       "    <tr>\n",
       "      <th>4</th>\n",
       "      <td>4</td>\n",
       "      <td>4</td>\n",
       "      <td>3.871201</td>\n",
       "      <td>3.433987</td>\n",
       "      <td>2.197225</td>\n",
       "      <td>2.397895</td>\n",
       "      <td>1.347103</td>\n",
       "      <td>12.784614</td>\n",
       "      <td>13.296239</td>\n",
       "      <td>1.485619</td>\n",
       "      <td>...</td>\n",
       "      <td>0</td>\n",
       "      <td>0</td>\n",
       "      <td>0</td>\n",
       "      <td>0</td>\n",
       "      <td>0</td>\n",
       "      <td>0</td>\n",
       "      <td>0</td>\n",
       "      <td>0</td>\n",
       "      <td>0</td>\n",
       "      <td>0</td>\n",
       "    </tr>\n",
       "  </tbody>\n",
       "</table>\n",
       "<p>5 rows × 420 columns</p>\n",
       "</div>"
      ],
      "text/plain": [
       "   ClientID  AccountID       Age  NumOfOrders  NumOfCompleted  NumOfCanceled  \\\n",
       "0         0          0  3.526361     1.098612        1.098612       0.000000   \n",
       "1         1          1  4.110874     2.079442        1.945910       0.693147   \n",
       "2         2          2  3.970292     3.091042        2.890372       1.098612   \n",
       "3         3          3  4.276666     4.488636        4.174387       2.484907   \n",
       "4         4          4  3.871201     3.433987        2.197225       2.397895   \n",
       "\n",
       "   AvgPrice  TotalExecutedQuantity  TotalQuantity  OrderType_Buy  ...  \\\n",
       "0  0.792993               9.392745       9.392745       1.485619  ...   \n",
       "1  1.092738               8.377471       8.418477       0.000000  ...   \n",
       "2  2.157868              11.727198      11.830623      13.370571  ...   \n",
       "3  4.291279              13.433575      13.722385      30.455190  ...   \n",
       "4  1.347103              12.784614      13.296239       1.485619  ...   \n",
       "\n",
       "   OpenDate_Year_2016  OpenDate_Year_2017  OpenDate_Year_2018  \\\n",
       "0                   0                   0                   0   \n",
       "1                   0                   0                   0   \n",
       "2                   0                   0                   0   \n",
       "3                   0                   0                   0   \n",
       "4                   0                   0                   0   \n",
       "\n",
       "   OpenDate_Year_2019  OpenDate_Year_2020  OpenDate_Year_2021  \\\n",
       "0                   0                   0                   0   \n",
       "1                   0                   0                   0   \n",
       "2                   0                   0                   0   \n",
       "3                   0                   0                   0   \n",
       "4                   0                   0                   0   \n",
       "\n",
       "   OpenDate_Year_2022  OpenDate_Year_2023  OpenDate_Year_2024  Churned  \n",
       "0                   0                   0                   0        1  \n",
       "1                   0                   0                   0        1  \n",
       "2                   0                   0                   0        0  \n",
       "3                   0                   0                   0        0  \n",
       "4                   0                   0                   0        0  \n",
       "\n",
       "[5 rows x 420 columns]"
      ]
     },
     "execution_count": 58,
     "metadata": {},
     "output_type": "execute_result"
    }
   ],
   "source": [
    "df.head()"
   ]
  },
  {
   "cell_type": "markdown",
   "metadata": {},
   "source": [
    "Display the info of the dataframe\n"
   ]
  },
  {
   "cell_type": "code",
   "execution_count": 64,
   "metadata": {},
   "outputs": [
    {
     "name": "stdout",
     "output_type": "stream",
     "text": [
      "<class 'pandas.core.frame.DataFrame'>\n",
      "RangeIndex: 13523 entries, 0 to 13522\n",
      "Data columns (total 420 columns):\n",
      " #    Column                                Dtype  \n",
      "---   ------                                -----  \n",
      " 0    ClientID                              int64  \n",
      " 1    AccountID                             int64  \n",
      " 2    Age                                   float64\n",
      " 3    NumOfOrders                           float64\n",
      " 4    NumOfCompleted                        float64\n",
      " 5    NumOfCanceled                         float64\n",
      " 6    AvgPrice                              float64\n",
      " 7    TotalExecutedQuantity                 float64\n",
      " 8    TotalQuantity                         float64\n",
      " 9    OrderType_Buy                         float64\n",
      " 10   OrderType_Sell                        float64\n",
      " 11   SecurityID_0                          float64\n",
      " 12   SecurityID_1                          float64\n",
      " 13   SecurityID_2                          float64\n",
      " 14   SecurityID_3                          float64\n",
      " 15   SecurityID_4                          float64\n",
      " 16   SecurityID_5                          float64\n",
      " 17   SecurityID_6                          float64\n",
      " 18   SecurityID_7                          float64\n",
      " 19   SecurityID_8                          float64\n",
      " 20   SecurityID_9                          float64\n",
      " 21   SecurityID_10                         float64\n",
      " 22   SecurityID_11                         float64\n",
      " 23   SecurityID_12                         float64\n",
      " 24   SecurityID_13                         float64\n",
      " 25   SecurityID_14                         float64\n",
      " 26   SecurityID_15                         float64\n",
      " 27   SecurityID_16                         float64\n",
      " 28   SecurityID_17                         float64\n",
      " 29   SecurityID_18                         float64\n",
      " 30   SecurityID_19                         float64\n",
      " 31   SecurityID_20                         float64\n",
      " 32   SecurityID_21                         float64\n",
      " 33   SecurityID_22                         float64\n",
      " 34   SecurityID_23                         float64\n",
      " 35   SecurityID_24                         float64\n",
      " 36   SecurityID_25                         float64\n",
      " 37   SecurityID_26                         float64\n",
      " 38   SecurityID_27                         float64\n",
      " 39   SecurityID_28                         float64\n",
      " 40   SecurityID_29                         float64\n",
      " 41   SecurityID_30                         float64\n",
      " 42   SecurityID_31                         float64\n",
      " 43   SecurityID_32                         float64\n",
      " 44   SecurityID_33                         float64\n",
      " 45   SecurityID_34                         float64\n",
      " 46   SecurityID_35                         float64\n",
      " 47   SecurityID_36                         float64\n",
      " 48   SecurityID_37                         float64\n",
      " 49   SecurityID_38                         float64\n",
      " 50   SecurityID_39                         float64\n",
      " 51   SecurityID_40                         float64\n",
      " 52   SecurityID_41                         float64\n",
      " 53   SecurityID_42                         float64\n",
      " 54   SecurityID_43                         float64\n",
      " 55   SecurityID_44                         float64\n",
      " 56   SecurityID_45                         float64\n",
      " 57   SecurityID_46                         float64\n",
      " 58   SecurityID_47                         float64\n",
      " 59   SecurityID_48                         float64\n",
      " 60   SecurityID_49                         float64\n",
      " 61   SecurityID_50                         float64\n",
      " 62   SecurityID_51                         float64\n",
      " 63   SecurityID_52                         float64\n",
      " 64   SecurityID_53                         float64\n",
      " 65   SecurityID_54                         float64\n",
      " 66   SecurityID_55                         float64\n",
      " 67   SecurityID_56                         float64\n",
      " 68   SecurityID_57                         float64\n",
      " 69   SecurityID_58                         float64\n",
      " 70   SecurityID_59                         float64\n",
      " 71   SecurityID_60                         float64\n",
      " 72   SecurityID_61                         float64\n",
      " 73   SecurityID_62                         float64\n",
      " 74   SecurityID_63                         float64\n",
      " 75   SecurityID_64                         float64\n",
      " 76   SecurityID_65                         float64\n",
      " 77   SecurityID_66                         float64\n",
      " 78   SecurityID_67                         float64\n",
      " 79   SecurityID_68                         float64\n",
      " 80   SecurityID_69                         float64\n",
      " 81   SecurityID_70                         float64\n",
      " 82   SecurityID_71                         float64\n",
      " 83   SecurityID_72                         float64\n",
      " 84   SecurityID_73                         float64\n",
      " 85   SecurityID_74                         float64\n",
      " 86   SecurityID_75                         float64\n",
      " 87   SecurityID_76                         float64\n",
      " 88   SecurityID_77                         float64\n",
      " 89   SecurityID_78                         float64\n",
      " 90   SecurityID_79                         float64\n",
      " 91   SecurityID_80                         float64\n",
      " 92   SecurityID_81                         float64\n",
      " 93   SecurityID_82                         float64\n",
      " 94   SecurityID_83                         float64\n",
      " 95   SecurityID_84                         float64\n",
      " 96   SecurityID_85                         float64\n",
      " 97   SecurityID_86                         float64\n",
      " 98   SecurityID_87                         float64\n",
      " 99   SecurityID_88                         float64\n",
      " 100  SecurityID_89                         float64\n",
      " 101  SecurityID_90                         float64\n",
      " 102  SecurityID_91                         float64\n",
      " 103  SecurityID_92                         float64\n",
      " 104  SecurityID_93                         float64\n",
      " 105  SecurityID_94                         float64\n",
      " 106  SecurityID_95                         float64\n",
      " 107  SecurityID_96                         float64\n",
      " 108  SecurityID_97                         float64\n",
      " 109  SecurityID_98                         float64\n",
      " 110  SecurityID_99                         float64\n",
      " 111  SecurityID_100                        float64\n",
      " 112  SecurityID_101                        float64\n",
      " 113  SecurityID_102                        float64\n",
      " 114  SecurityID_103                        float64\n",
      " 115  SecurityID_104                        float64\n",
      " 116  SecurityID_105                        float64\n",
      " 117  SecurityID_106                        float64\n",
      " 118  SecurityID_107                        float64\n",
      " 119  SecurityID_108                        float64\n",
      " 120  SecurityID_109                        float64\n",
      " 121  SecurityID_110                        float64\n",
      " 122  SecurityID_111                        float64\n",
      " 123  SecurityID_112                        float64\n",
      " 124  SecurityID_113                        float64\n",
      " 125  SecurityID_114                        float64\n",
      " 126  SecurityID_115                        float64\n",
      " 127  SecurityID_116                        float64\n",
      " 128  SecurityID_117                        float64\n",
      " 129  SecurityID_118                        float64\n",
      " 130  SecurityID_119                        float64\n",
      " 131  SecurityID_120                        float64\n",
      " 132  SecurityID_121                        float64\n",
      " 133  SecurityID_122                        float64\n",
      " 134  SecurityID_123                        float64\n",
      " 135  SecurityID_124                        float64\n",
      " 136  SecurityID_125                        float64\n",
      " 137  SecurityID_126                        float64\n",
      " 138  SecurityID_127                        float64\n",
      " 139  SecurityID_128                        float64\n",
      " 140  SecurityID_129                        float64\n",
      " 141  SecurityID_130                        float64\n",
      " 142  SecurityID_131                        float64\n",
      " 143  SecurityID_132                        float64\n",
      " 144  SecurityID_133                        float64\n",
      " 145  SecurityID_134                        float64\n",
      " 146  SecurityID_135                        float64\n",
      " 147  SecurityID_136                        float64\n",
      " 148  SecurityID_137                        float64\n",
      " 149  SecurityID_138                        float64\n",
      " 150  SecurityID_139                        float64\n",
      " 151  SecurityID_140                        float64\n",
      " 152  SecurityID_141                        float64\n",
      " 153  SecurityID_142                        float64\n",
      " 154  SecurityID_143                        float64\n",
      " 155  SecurityID_144                        float64\n",
      " 156  SecurityID_145                        float64\n",
      " 157  SecurityID_146                        float64\n",
      " 158  SecurityID_147                        float64\n",
      " 159  SecurityID_148                        float64\n",
      " 160  SecurityID_149                        float64\n",
      " 161  SecurityID_150                        float64\n",
      " 162  SecurityID_151                        float64\n",
      " 163  SecurityID_152                        float64\n",
      " 164  SecurityID_153                        float64\n",
      " 165  SecurityID_154                        float64\n",
      " 166  SecurityID_155                        float64\n",
      " 167  SecurityID_156                        float64\n",
      " 168  SecurityID_157                        float64\n",
      " 169  SecurityID_158                        float64\n",
      " 170  SecurityID_159                        float64\n",
      " 171  SecurityID_160                        float64\n",
      " 172  SecurityID_161                        float64\n",
      " 173  SecurityID_162                        float64\n",
      " 174  SecurityID_163                        float64\n",
      " 175  SecurityID_164                        float64\n",
      " 176  SecurityID_165                        float64\n",
      " 177  SecurityID_166                        float64\n",
      " 178  SecurityID_167                        float64\n",
      " 179  SecurityID_168                        float64\n",
      " 180  SecurityID_169                        float64\n",
      " 181  SecurityID_170                        float64\n",
      " 182  SecurityID_171                        float64\n",
      " 183  SecurityID_172                        float64\n",
      " 184  SecurityID_173                        float64\n",
      " 185  SecurityID_174                        float64\n",
      " 186  SecurityID_175                        float64\n",
      " 187  SecurityID_176                        float64\n",
      " 188  SecurityID_177                        float64\n",
      " 189  SecurityID_178                        float64\n",
      " 190  SecurityID_179                        float64\n",
      " 191  SecurityID_180                        float64\n",
      " 192  SecurityID_181                        float64\n",
      " 193  SecurityID_182                        float64\n",
      " 194  SecurityID_183                        float64\n",
      " 195  SecurityID_184                        float64\n",
      " 196  SecurityID_185                        float64\n",
      " 197  SecurityID_186                        float64\n",
      " 198  SecurityID_187                        float64\n",
      " 199  SecurityID_188                        float64\n",
      " 200  SecurityID_189                        float64\n",
      " 201  SecurityID_190                        float64\n",
      " 202  SecurityID_191                        float64\n",
      " 203  SecurityID_192                        float64\n",
      " 204  SecurityID_193                        float64\n",
      " 205  SecurityID_194                        float64\n",
      " 206  SecurityID_195                        float64\n",
      " 207  SecurityID_196                        float64\n",
      " 208  SecurityID_197                        float64\n",
      " 209  SecurityID_198                        float64\n",
      " 210  SecurityID_199                        float64\n",
      " 211  SecurityID_200                        float64\n",
      " 212  SecurityID_201                        float64\n",
      " 213  SecurityID_202                        float64\n",
      " 214  SecurityID_203                        float64\n",
      " 215  SecurityID_204                        float64\n",
      " 216  SecurityID_205                        float64\n",
      " 217  SecurityID_206                        float64\n",
      " 218  SecurityID_207                        float64\n",
      " 219  SecurityID_208                        float64\n",
      " 220  SecurityID_209                        float64\n",
      " 221  SecurityID_210                        float64\n",
      " 222  SecurityID_211                        float64\n",
      " 223  SecurityID_212                        float64\n",
      " 224  SecurityID_213                        float64\n",
      " 225  SecurityID_214                        float64\n",
      " 226  SecurityID_215                        float64\n",
      " 227  SecurityID_216                        float64\n",
      " 228  SecurityID_217                        float64\n",
      " 229  SecurityID_218                        float64\n",
      " 230  SecurityID_219                        float64\n",
      " 231  SecurityID_220                        float64\n",
      " 232  SecurityID_221                        float64\n",
      " 233  SecurityID_222                        float64\n",
      " 234  SecurityID_223                        float64\n",
      " 235  SecurityID_224                        float64\n",
      " 236  SecurityID_225                        float64\n",
      " 237  SecurityID_226                        float64\n",
      " 238  SecurityID_227                        float64\n",
      " 239  SecurityID_228                        float64\n",
      " 240  SecurityID_229                        float64\n",
      " 241  SecurityID_230                        float64\n",
      " 242  SecurityID_231                        float64\n",
      " 243  SecurityID_232                        float64\n",
      " 244  SecurityID_233                        float64\n",
      " 245  SecurityID_234                        float64\n",
      " 246  SecurityID_235                        float64\n",
      " 247  SecurityID_236                        float64\n",
      " 248  SecurityID_237                        float64\n",
      " 249  SecurityID_238                        float64\n",
      " 250  SecurityID_239                        float64\n",
      " 251  SecurityID_240                        float64\n",
      " 252  SecurityID_241                        float64\n",
      " 253  SecurityID_242                        float64\n",
      " 254  SecurityID_243                        float64\n",
      " 255  SecurityID_244                        float64\n",
      " 256  SecurityID_245                        float64\n",
      " 257  SecurityID_246                        float64\n",
      " 258  SecurityID_247                        float64\n",
      " 259  SecurityID_248                        float64\n",
      " 260  SecurityID_249                        float64\n",
      " 261  SecurityID_250                        float64\n",
      " 262  SecurityID_251                        float64\n",
      " 263  SecurityID_252                        float64\n",
      " 264  SecurityID_253                        float64\n",
      " 265  SecurityID_254                        float64\n",
      " 266  SecurityID_255                        float64\n",
      " 267  SecurityID_256                        float64\n",
      " 268  SecurityID_257                        float64\n",
      " 269  SecurityID_258                        float64\n",
      " 270  SecurityID_259                        float64\n",
      " 271  SecurityID_260                        float64\n",
      " 272  SecurityID_261                        float64\n",
      " 273  SecurityID_262                        float64\n",
      " 274  SecurityID_263                        float64\n",
      " 275  SecurityID_264                        float64\n",
      " 276  SecurityID_265                        float64\n",
      " 277  SecurityID_266                        float64\n",
      " 278  SecurityID_267                        float64\n",
      " 279  SecurityID_269                        float64\n",
      " 280  SecurityID_270                        float64\n",
      " 281  SecurityID_271                        float64\n",
      " 282  SecurityID_272                        float64\n",
      " 283  SecurityID_273                        float64\n",
      " 284  SecurityID_274                        float64\n",
      " 285  SecurityID_275                        float64\n",
      " 286  SecurityID_276                        float64\n",
      " 287  SecurityID_277                        float64\n",
      " 288  SecurityID_278                        float64\n",
      " 289  SecurityID_279                        float64\n",
      " 290  SecurityID_280                        float64\n",
      " 291  SecurityID_281                        float64\n",
      " 292  SecurityID_282                        float64\n",
      " 293  SecurityID_283                        float64\n",
      " 294  SecurityID_284                        float64\n",
      " 295  SecurityID_285                        float64\n",
      " 296  SecurityID_286                        float64\n",
      " 297  SecurityID_287                        float64\n",
      " 298  SecurityID_288                        float64\n",
      " 299  SecurityID_291                        float64\n",
      " 300  SecurityID_292                        float64\n",
      " 301  SecurityID_293                        float64\n",
      " 302  SecurityID_294                        float64\n",
      " 303  SecurityID_295                        float64\n",
      " 304  SecurityID_296                        float64\n",
      " 305  SecurityID_297                        float64\n",
      " 306  SecurityID_298                        float64\n",
      " 307  SecurityID_299                        float64\n",
      " 308  SecurityID_300                        float64\n",
      " 309  SecurityID_301                        float64\n",
      " 310  SecurityID_302                        float64\n",
      " 311  SecurityID_303                        float64\n",
      " 312  SecurityID_304                        float64\n",
      " 313  SecurityID_305                        float64\n",
      " 314  SecurityID_306                        float64\n",
      " 315  SecurityID_307                        float64\n",
      " 316  SecurityID_308                        float64\n",
      " 317  SecurityID_309                        float64\n",
      " 318  SecurityID_310                        float64\n",
      " 319  SecurityID_311                        float64\n",
      " 320  SecurityID_312                        float64\n",
      " 321  SecurityID_313                        float64\n",
      " 322  SecurityID_314                        float64\n",
      " 323  SecurityID_315                        float64\n",
      " 324  SecurityID_316                        float64\n",
      " 325  SecurityID_317                        float64\n",
      " 326  SecurityID_318                        float64\n",
      " 327  SecurityID_319                        float64\n",
      " 328  SecurityID_320                        float64\n",
      " 329  SecurityID_321                        float64\n",
      " 330  SecurityID_322                        float64\n",
      " 331  SecurityID_323                        float64\n",
      " 332  SecurityID_324                        float64\n",
      " 333  SecurityID_325                        float64\n",
      " 334  SecurityID_326                        float64\n",
      " 335  SecurityID_327                        float64\n",
      " 336  SecurityID_328                        float64\n",
      " 337  SecurityID_329                        float64\n",
      " 338  SecurityID_330                        float64\n",
      " 339  SecurityID_331                        float64\n",
      " 340  SecurityID_332                        float64\n",
      " 341  SecurityID_333                        float64\n",
      " 342  SecurityID_334                        float64\n",
      " 343  SecurityID_335                        float64\n",
      " 344  SecurityID_336                        float64\n",
      " 345  SecurityID_337                        float64\n",
      " 346  OrderVia_Online                       float64\n",
      " 347  OrderVia_CallCenter                   float64\n",
      " 348  OrderVia_Telephone                    float64\n",
      " 349  OrderVia_Email                        float64\n",
      " 350  ExecutionStatus_Executed              float64\n",
      " 351  ExecutionStatus_NotExecuted           float64\n",
      " 352  ExecutionStatus_PartiallyExecuted     float64\n",
      " 353  SectorName_RealEstate                 float64\n",
      " 354  SectorName_Financials                 float64\n",
      " 355  SectorName_Materials                  float64\n",
      " 356  SectorName_ConsumerDiscretionary      float64\n",
      " 357  SectorName_Industries                 float64\n",
      " 358  SectorName_HealthCare                 float64\n",
      " 359  SectorName_InformationTechnology      float64\n",
      " 360  SectorName_ConsumerStaples            float64\n",
      " 361  SectorName_INDUSTRIAL                 float64\n",
      " 362  SectorName_SERVICES                   float64\n",
      " 363  SectorName_Energy                     float64\n",
      " 364  SectorName_BasicMaterials             float64\n",
      " 365  SectorName_INVESTMENT                 float64\n",
      " 366  SectorName_TelecommunicationServices  float64\n",
      " 367  SectorName_REALESTATE                 float64\n",
      " 368  SectorName_Telecommunications         float64\n",
      " 369  SectorName_FOOD                       float64\n",
      " 370  SectorName_Others                     float64\n",
      " 371  SectorName_Tourism                    float64\n",
      " 372  SectorName_ConsumerServices           float64\n",
      " 373  SectorName_Utilities                  float64\n",
      " 374  SectorName_Trade                      float64\n",
      " 375  SectorName_PharmaceuticalIndustries   float64\n",
      " 376  Gender_Female                         int64  \n",
      " 377  Gender_Male                           int64  \n",
      " 378  RiskRate_Low                          int64  \n",
      " 379  RiskRate_Medium                       int64  \n",
      " 380  RiskRate_NotAssigned                  int64  \n",
      " 381  ClientTypeName_Companies              int64  \n",
      " 382  ClientTypeName_Individuals            int64  \n",
      " 383  OpenDate_Month_1                      int64  \n",
      " 384  OpenDate_Month_2                      int64  \n",
      " 385  OpenDate_Month_3                      int64  \n",
      " 386  OpenDate_Month_4                      int64  \n",
      " 387  OpenDate_Month_5                      int64  \n",
      " 388  OpenDate_Month_6                      int64  \n",
      " 389  OpenDate_Month_7                      int64  \n",
      " 390  OpenDate_Month_8                      int64  \n",
      " 391  OpenDate_Month_9                      int64  \n",
      " 392  OpenDate_Month_10                     int64  \n",
      " 393  OpenDate_Month_11                     int64  \n",
      " 394  OpenDate_Month_12                     int64  \n",
      " 395  OpenDate_Year_1998                    int64  \n",
      " 396  OpenDate_Year_2000                    int64  \n",
      " 397  OpenDate_Year_2001                    int64  \n",
      " 398  OpenDate_Year_2004                    int64  \n",
      " 399  OpenDate_Year_2005                    int64  \n",
      " 400  OpenDate_Year_2006                    int64  \n",
      " 401  OpenDate_Year_2007                    int64  \n",
      " 402  OpenDate_Year_2008                    int64  \n",
      " 403  OpenDate_Year_2009                    int64  \n",
      " 404  OpenDate_Year_2010                    int64  \n",
      " 405  OpenDate_Year_2011                    int64  \n",
      " 406  OpenDate_Year_2012                    int64  \n",
      " 407  OpenDate_Year_2013                    int64  \n",
      " 408  OpenDate_Year_2014                    int64  \n",
      " 409  OpenDate_Year_2015                    int64  \n",
      " 410  OpenDate_Year_2016                    int64  \n",
      " 411  OpenDate_Year_2017                    int64  \n",
      " 412  OpenDate_Year_2018                    int64  \n",
      " 413  OpenDate_Year_2019                    int64  \n",
      " 414  OpenDate_Year_2020                    int64  \n",
      " 415  OpenDate_Year_2021                    int64  \n",
      " 416  OpenDate_Year_2022                    int64  \n",
      " 417  OpenDate_Year_2023                    int64  \n",
      " 418  OpenDate_Year_2024                    int64  \n",
      " 419  Churned                               int64  \n",
      "dtypes: float64(374), int64(46)\n",
      "memory usage: 43.3 MB\n"
     ]
    }
   ],
   "source": [
    "df.info(verbose=True)"
   ]
  },
  {
   "cell_type": "markdown",
   "metadata": {},
   "source": [
    "Save the dataframe into a csv \"cleaned_dataset.csv\"\n"
   ]
  },
  {
   "cell_type": "code",
   "execution_count": 60,
   "metadata": {},
   "outputs": [],
   "source": [
    "df.to_csv(\"../Data/cleaned_dataset.csv\", index=False)"
   ]
  },
  {
   "cell_type": "code",
   "execution_count": 61,
   "metadata": {},
   "outputs": [
    {
     "data": {
      "text/html": [
       "<div>\n",
       "<style scoped>\n",
       "    .dataframe tbody tr th:only-of-type {\n",
       "        vertical-align: middle;\n",
       "    }\n",
       "\n",
       "    .dataframe tbody tr th {\n",
       "        vertical-align: top;\n",
       "    }\n",
       "\n",
       "    .dataframe thead th {\n",
       "        text-align: right;\n",
       "    }\n",
       "</style>\n",
       "<table border=\"1\" class=\"dataframe\">\n",
       "  <thead>\n",
       "    <tr style=\"text-align: right;\">\n",
       "      <th></th>\n",
       "      <th>ClientID</th>\n",
       "      <th>AccountID</th>\n",
       "      <th>Gender</th>\n",
       "      <th>RiskRate</th>\n",
       "      <th>CompanyName</th>\n",
       "      <th>IsClosed</th>\n",
       "      <th>IsDormant</th>\n",
       "      <th>IsProfileSuspended</th>\n",
       "      <th>IsClientSuspended</th>\n",
       "      <th>ClientTypeName</th>\n",
       "      <th>...</th>\n",
       "      <th>Age</th>\n",
       "      <th>NumOfOrders</th>\n",
       "      <th>LastOrder_Month</th>\n",
       "      <th>LastOrder_Year</th>\n",
       "      <th>NumOfCompleted</th>\n",
       "      <th>NumOfCanceled</th>\n",
       "      <th>AvgPrice</th>\n",
       "      <th>TotalExecutedQuantity</th>\n",
       "      <th>TotalQuantity</th>\n",
       "      <th>Churned</th>\n",
       "    </tr>\n",
       "  </thead>\n",
       "  <tbody>\n",
       "    <tr>\n",
       "      <th>0</th>\n",
       "      <td>0</td>\n",
       "      <td>0</td>\n",
       "      <td>Male</td>\n",
       "      <td>Low</td>\n",
       "      <td>HSB</td>\n",
       "      <td>0</td>\n",
       "      <td>1</td>\n",
       "      <td>0</td>\n",
       "      <td>0</td>\n",
       "      <td>Individuals</td>\n",
       "      <td>...</td>\n",
       "      <td>33</td>\n",
       "      <td>2</td>\n",
       "      <td>10</td>\n",
       "      <td>2022</td>\n",
       "      <td>2</td>\n",
       "      <td>0</td>\n",
       "      <td>1.210000</td>\n",
       "      <td>12000</td>\n",
       "      <td>12000</td>\n",
       "      <td>1</td>\n",
       "    </tr>\n",
       "    <tr>\n",
       "      <th>1</th>\n",
       "      <td>1</td>\n",
       "      <td>1</td>\n",
       "      <td>Female</td>\n",
       "      <td>Low</td>\n",
       "      <td>HSB</td>\n",
       "      <td>0</td>\n",
       "      <td>1</td>\n",
       "      <td>1</td>\n",
       "      <td>0</td>\n",
       "      <td>Individuals</td>\n",
       "      <td>...</td>\n",
       "      <td>60</td>\n",
       "      <td>7</td>\n",
       "      <td>9</td>\n",
       "      <td>2022</td>\n",
       "      <td>6</td>\n",
       "      <td>1</td>\n",
       "      <td>1.982429</td>\n",
       "      <td>4347</td>\n",
       "      <td>4529</td>\n",
       "      <td>1</td>\n",
       "    </tr>\n",
       "    <tr>\n",
       "      <th>2</th>\n",
       "      <td>2</td>\n",
       "      <td>2</td>\n",
       "      <td>Male</td>\n",
       "      <td>Low</td>\n",
       "      <td>HSB</td>\n",
       "      <td>0</td>\n",
       "      <td>0</td>\n",
       "      <td>0</td>\n",
       "      <td>0</td>\n",
       "      <td>Individuals</td>\n",
       "      <td>...</td>\n",
       "      <td>52</td>\n",
       "      <td>21</td>\n",
       "      <td>2</td>\n",
       "      <td>2024</td>\n",
       "      <td>17</td>\n",
       "      <td>2</td>\n",
       "      <td>7.652667</td>\n",
       "      <td>123895</td>\n",
       "      <td>137395</td>\n",
       "      <td>0</td>\n",
       "    </tr>\n",
       "    <tr>\n",
       "      <th>3</th>\n",
       "      <td>3</td>\n",
       "      <td>3</td>\n",
       "      <td>Male</td>\n",
       "      <td>Low</td>\n",
       "      <td>HSB</td>\n",
       "      <td>0</td>\n",
       "      <td>0</td>\n",
       "      <td>0</td>\n",
       "      <td>0</td>\n",
       "      <td>Individuals</td>\n",
       "      <td>...</td>\n",
       "      <td>71</td>\n",
       "      <td>88</td>\n",
       "      <td>3</td>\n",
       "      <td>2024</td>\n",
       "      <td>64</td>\n",
       "      <td>11</td>\n",
       "      <td>72.059886</td>\n",
       "      <td>682538</td>\n",
       "      <td>911078</td>\n",
       "      <td>0</td>\n",
       "    </tr>\n",
       "    <tr>\n",
       "      <th>4</th>\n",
       "      <td>4</td>\n",
       "      <td>4</td>\n",
       "      <td>Male</td>\n",
       "      <td>Low</td>\n",
       "      <td>HSB</td>\n",
       "      <td>0</td>\n",
       "      <td>0</td>\n",
       "      <td>0</td>\n",
       "      <td>0</td>\n",
       "      <td>Individuals</td>\n",
       "      <td>...</td>\n",
       "      <td>47</td>\n",
       "      <td>30</td>\n",
       "      <td>2</td>\n",
       "      <td>2024</td>\n",
       "      <td>8</td>\n",
       "      <td>10</td>\n",
       "      <td>2.846267</td>\n",
       "      <td>356686</td>\n",
       "      <td>594953</td>\n",
       "      <td>0</td>\n",
       "    </tr>\n",
       "  </tbody>\n",
       "</table>\n",
       "<p>5 rows × 22 columns</p>\n",
       "</div>"
      ],
      "text/plain": [
       "   ClientID  AccountID  Gender RiskRate CompanyName  IsClosed  IsDormant  \\\n",
       "0         0          0    Male      Low         HSB         0          1   \n",
       "1         1          1  Female      Low         HSB         0          1   \n",
       "2         2          2    Male      Low         HSB         0          0   \n",
       "3         3          3    Male      Low         HSB         0          0   \n",
       "4         4          4    Male      Low         HSB         0          0   \n",
       "\n",
       "   IsProfileSuspended  IsClientSuspended ClientTypeName  ...  Age  \\\n",
       "0                   0                  0    Individuals  ...   33   \n",
       "1                   1                  0    Individuals  ...   60   \n",
       "2                   0                  0    Individuals  ...   52   \n",
       "3                   0                  0    Individuals  ...   71   \n",
       "4                   0                  0    Individuals  ...   47   \n",
       "\n",
       "   NumOfOrders  LastOrder_Month  LastOrder_Year  NumOfCompleted  \\\n",
       "0            2               10            2022               2   \n",
       "1            7                9            2022               6   \n",
       "2           21                2            2024              17   \n",
       "3           88                3            2024              64   \n",
       "4           30                2            2024               8   \n",
       "\n",
       "   NumOfCanceled   AvgPrice  TotalExecutedQuantity  TotalQuantity  Churned  \n",
       "0              0   1.210000                  12000          12000        1  \n",
       "1              1   1.982429                   4347           4529        1  \n",
       "2              2   7.652667                 123895         137395        0  \n",
       "3             11  72.059886                 682538         911078        0  \n",
       "4             10   2.846267                 356686         594953        0  \n",
       "\n",
       "[5 rows x 22 columns]"
      ]
     },
     "execution_count": 61,
     "metadata": {},
     "output_type": "execute_result"
    }
   ],
   "source": [
    "df_no_TFIDF.head()"
   ]
  },
  {
   "cell_type": "code",
   "execution_count": 62,
   "metadata": {},
   "outputs": [
    {
     "name": "stdout",
     "output_type": "stream",
     "text": [
      "<class 'pandas.core.frame.DataFrame'>\n",
      "RangeIndex: 13523 entries, 0 to 13522\n",
      "Data columns (total 22 columns):\n",
      " #   Column                 Non-Null Count  Dtype  \n",
      "---  ------                 --------------  -----  \n",
      " 0   ClientID               13523 non-null  int64  \n",
      " 1   AccountID              13523 non-null  int64  \n",
      " 2   Gender                 13523 non-null  object \n",
      " 3   RiskRate               13523 non-null  object \n",
      " 4   CompanyName            13523 non-null  object \n",
      " 5   IsClosed               13523 non-null  int64  \n",
      " 6   IsDormant              13523 non-null  int64  \n",
      " 7   IsProfileSuspended     13523 non-null  int64  \n",
      " 8   IsClientSuspended      13523 non-null  int64  \n",
      " 9   ClientTypeName         13523 non-null  object \n",
      " 10  OpenDate_Month         13523 non-null  int64  \n",
      " 11  OpenDate_Year          13523 non-null  int64  \n",
      " 12  Age                    13523 non-null  int64  \n",
      " 13  NumOfOrders            13523 non-null  int64  \n",
      " 14  LastOrder_Month        13523 non-null  int64  \n",
      " 15  LastOrder_Year         13523 non-null  int64  \n",
      " 16  NumOfCompleted         13523 non-null  int64  \n",
      " 17  NumOfCanceled          13523 non-null  int64  \n",
      " 18  AvgPrice               13523 non-null  float64\n",
      " 19  TotalExecutedQuantity  13523 non-null  int64  \n",
      " 20  TotalQuantity          13523 non-null  int64  \n",
      " 21  Churned                13523 non-null  int64  \n",
      "dtypes: float64(1), int64(17), object(4)\n",
      "memory usage: 2.3+ MB\n"
     ]
    }
   ],
   "source": [
    "df_no_TFIDF.info()"
   ]
  },
  {
   "cell_type": "markdown",
   "metadata": {},
   "source": [
    "Save the dataframe with no TFIDF and OHE columns into a csv\n"
   ]
  },
  {
   "cell_type": "code",
   "execution_count": 63,
   "metadata": {},
   "outputs": [],
   "source": [
    "df_no_TFIDF.to_csv(\"../Data/visualization_data.csv\", index=False)"
   ]
  }
 ],
 "metadata": {
  "kernelspec": {
   "display_name": "Python 3",
   "language": "python",
   "name": "python3"
  },
  "language_info": {
   "codemirror_mode": {
    "name": "ipython",
    "version": 3
   },
   "file_extension": ".py",
   "mimetype": "text/x-python",
   "name": "python",
   "nbconvert_exporter": "python",
   "pygments_lexer": "ipython3",
   "version": "3.12.0"
  }
 },
 "nbformat": 4,
 "nbformat_minor": 2
}
