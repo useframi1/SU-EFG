{
 "cells": [
  {
   "cell_type": "markdown",
   "metadata": {},
   "source": [
    "# Data Cleaning and Preprocessing\n"
   ]
  },
  {
   "cell_type": "markdown",
   "metadata": {},
   "source": [
    "Imports\n"
   ]
  },
  {
   "cell_type": "code",
   "execution_count": 1,
   "metadata": {},
   "outputs": [],
   "source": [
    "import pandas as pd\n",
    "import numpy as np\n",
    "from fitter import Fitter, get_common_distributions\n",
    "from sklearn.preprocessing import StandardScaler, MinMaxScaler\n",
    "import warnings\n",
    "from datetime import datetime, timedelta\n",
    "from scipy import stats\n",
    "import seaborn as sns\n",
    "import matplotlib.pyplot as plt\n",
    "\n",
    "warnings.filterwarnings(\"ignore\")\n",
    "\n",
    "pd.set_option(\"future.no_silent_downcasting\", True)"
   ]
  },
  {
   "cell_type": "markdown",
   "metadata": {},
   "source": [
    "Read the orders dataset into a pandas dataframe\n"
   ]
  },
  {
   "cell_type": "code",
   "execution_count": 2,
   "metadata": {},
   "outputs": [],
   "source": [
    "orders_df = pd.read_csv(\"../Data/orders_data_competition.csv\")"
   ]
  },
  {
   "cell_type": "code",
   "execution_count": 3,
   "metadata": {},
   "outputs": [
    {
     "data": {
      "text/html": [
       "<div>\n",
       "<style scoped>\n",
       "    .dataframe tbody tr th:only-of-type {\n",
       "        vertical-align: middle;\n",
       "    }\n",
       "\n",
       "    .dataframe tbody tr th {\n",
       "        vertical-align: top;\n",
       "    }\n",
       "\n",
       "    .dataframe thead th {\n",
       "        text-align: right;\n",
       "    }\n",
       "</style>\n",
       "<table border=\"1\" class=\"dataframe\">\n",
       "  <thead>\n",
       "    <tr style=\"text-align: right;\">\n",
       "      <th></th>\n",
       "      <th>Order ID</th>\n",
       "      <th>Account ID</th>\n",
       "      <th>Market Key</th>\n",
       "      <th>Security ID</th>\n",
       "      <th>Order Type</th>\n",
       "      <th>Order Time</th>\n",
       "      <th>Order Via</th>\n",
       "      <th>Is Completed</th>\n",
       "      <th>Is Canceled</th>\n",
       "      <th>Expire Date</th>\n",
       "      <th>Execution Status</th>\n",
       "      <th>quantity</th>\n",
       "      <th>Price</th>\n",
       "      <th>Sector Name</th>\n",
       "      <th>Executed Quantity</th>\n",
       "      <th>Quantity</th>\n",
       "    </tr>\n",
       "  </thead>\n",
       "  <tbody>\n",
       "    <tr>\n",
       "      <th>0</th>\n",
       "      <td>0</td>\n",
       "      <td>2312</td>\n",
       "      <td>Egypt</td>\n",
       "      <td>0</td>\n",
       "      <td>Buy</td>\n",
       "      <td>2024-01-10 10:16:10.000</td>\n",
       "      <td>Online</td>\n",
       "      <td>1</td>\n",
       "      <td>0</td>\n",
       "      <td>2024-01-10 00:00:00.000</td>\n",
       "      <td>Executed</td>\n",
       "      <td>100</td>\n",
       "      <td>66.30</td>\n",
       "      <td>Real Estate</td>\n",
       "      <td>100</td>\n",
       "      <td>100</td>\n",
       "    </tr>\n",
       "    <tr>\n",
       "      <th>1</th>\n",
       "      <td>1</td>\n",
       "      <td>1196</td>\n",
       "      <td>Egypt</td>\n",
       "      <td>0</td>\n",
       "      <td>Sell</td>\n",
       "      <td>2024-01-10 10:16:11.000</td>\n",
       "      <td>Online</td>\n",
       "      <td>1</td>\n",
       "      <td>0</td>\n",
       "      <td>2024-01-10 00:00:00.000</td>\n",
       "      <td>Executed</td>\n",
       "      <td>200</td>\n",
       "      <td>66.00</td>\n",
       "      <td>Real Estate</td>\n",
       "      <td>200</td>\n",
       "      <td>200</td>\n",
       "    </tr>\n",
       "    <tr>\n",
       "      <th>2</th>\n",
       "      <td>2</td>\n",
       "      <td>1759</td>\n",
       "      <td>Egypt</td>\n",
       "      <td>0</td>\n",
       "      <td>Buy</td>\n",
       "      <td>2024-01-10 10:16:12.000</td>\n",
       "      <td>Online</td>\n",
       "      <td>0</td>\n",
       "      <td>1</td>\n",
       "      <td>2024-01-10 00:00:00.000</td>\n",
       "      <td>Not Executed</td>\n",
       "      <td>200</td>\n",
       "      <td>65.00</td>\n",
       "      <td>Real Estate</td>\n",
       "      <td>0</td>\n",
       "      <td>200</td>\n",
       "    </tr>\n",
       "    <tr>\n",
       "      <th>3</th>\n",
       "      <td>3</td>\n",
       "      <td>4476</td>\n",
       "      <td>Egypt</td>\n",
       "      <td>1</td>\n",
       "      <td>Sell</td>\n",
       "      <td>2024-01-10 10:16:16.000</td>\n",
       "      <td>Online</td>\n",
       "      <td>0</td>\n",
       "      <td>1</td>\n",
       "      <td>2024-01-10 00:00:00.000</td>\n",
       "      <td>Not Executed</td>\n",
       "      <td>820</td>\n",
       "      <td>75.20</td>\n",
       "      <td>Financials</td>\n",
       "      <td>0</td>\n",
       "      <td>820</td>\n",
       "    </tr>\n",
       "    <tr>\n",
       "      <th>4</th>\n",
       "      <td>4</td>\n",
       "      <td>838</td>\n",
       "      <td>Egypt</td>\n",
       "      <td>2</td>\n",
       "      <td>Sell</td>\n",
       "      <td>2024-01-10 10:16:18.000</td>\n",
       "      <td>Online</td>\n",
       "      <td>0</td>\n",
       "      <td>1</td>\n",
       "      <td>2024-01-10 00:00:00.000</td>\n",
       "      <td>Not Executed</td>\n",
       "      <td>500</td>\n",
       "      <td>10.68</td>\n",
       "      <td>Materials</td>\n",
       "      <td>0</td>\n",
       "      <td>500</td>\n",
       "    </tr>\n",
       "  </tbody>\n",
       "</table>\n",
       "</div>"
      ],
      "text/plain": [
       "   Order ID  Account ID Market Key  Security ID Order Type  \\\n",
       "0         0        2312      Egypt            0        Buy   \n",
       "1         1        1196      Egypt            0       Sell   \n",
       "2         2        1759      Egypt            0        Buy   \n",
       "3         3        4476      Egypt            1       Sell   \n",
       "4         4         838      Egypt            2       Sell   \n",
       "\n",
       "                Order Time Order Via  Is Completed  Is Canceled  \\\n",
       "0  2024-01-10 10:16:10.000    Online             1            0   \n",
       "1  2024-01-10 10:16:11.000    Online             1            0   \n",
       "2  2024-01-10 10:16:12.000    Online             0            1   \n",
       "3  2024-01-10 10:16:16.000    Online             0            1   \n",
       "4  2024-01-10 10:16:18.000    Online             0            1   \n",
       "\n",
       "               Expire Date Execution Status  quantity  Price  Sector Name  \\\n",
       "0  2024-01-10 00:00:00.000         Executed       100  66.30  Real Estate   \n",
       "1  2024-01-10 00:00:00.000         Executed       200  66.00  Real Estate   \n",
       "2  2024-01-10 00:00:00.000     Not Executed       200  65.00  Real Estate   \n",
       "3  2024-01-10 00:00:00.000     Not Executed       820  75.20   Financials   \n",
       "4  2024-01-10 00:00:00.000     Not Executed       500  10.68    Materials   \n",
       "\n",
       "   Executed Quantity  Quantity  \n",
       "0                100       100  \n",
       "1                200       200  \n",
       "2                  0       200  \n",
       "3                  0       820  \n",
       "4                  0       500  "
      ]
     },
     "execution_count": 3,
     "metadata": {},
     "output_type": "execute_result"
    }
   ],
   "source": [
    "orders_df.head()"
   ]
  },
  {
   "cell_type": "markdown",
   "metadata": {},
   "source": [
    "Read the clients dataset into a pandas dataframe\n"
   ]
  },
  {
   "cell_type": "code",
   "execution_count": 4,
   "metadata": {},
   "outputs": [],
   "source": [
    "clients_df = pd.read_csv(\"../Data/clients_data_competition.csv\")"
   ]
  },
  {
   "cell_type": "code",
   "execution_count": 5,
   "metadata": {},
   "outputs": [
    {
     "data": {
      "text/html": [
       "<div>\n",
       "<style scoped>\n",
       "    .dataframe tbody tr th:only-of-type {\n",
       "        vertical-align: middle;\n",
       "    }\n",
       "\n",
       "    .dataframe tbody tr th {\n",
       "        vertical-align: top;\n",
       "    }\n",
       "\n",
       "    .dataframe thead th {\n",
       "        text-align: right;\n",
       "    }\n",
       "</style>\n",
       "<table border=\"1\" class=\"dataframe\">\n",
       "  <thead>\n",
       "    <tr style=\"text-align: right;\">\n",
       "      <th></th>\n",
       "      <th>Client ID</th>\n",
       "      <th>Account ID</th>\n",
       "      <th>Gender</th>\n",
       "      <th>Risk Rate</th>\n",
       "      <th>Company Name</th>\n",
       "      <th>Is Closed</th>\n",
       "      <th>Is Dormant</th>\n",
       "      <th>Is Profile Suspended</th>\n",
       "      <th>Is Client Suspended</th>\n",
       "      <th>Client Type Name</th>\n",
       "      <th>OpenDate</th>\n",
       "      <th>BirthDate</th>\n",
       "    </tr>\n",
       "  </thead>\n",
       "  <tbody>\n",
       "    <tr>\n",
       "      <th>0</th>\n",
       "      <td>0</td>\n",
       "      <td>0</td>\n",
       "      <td>Male</td>\n",
       "      <td>Low</td>\n",
       "      <td>HSB</td>\n",
       "      <td>0</td>\n",
       "      <td>0.0</td>\n",
       "      <td>0</td>\n",
       "      <td>0</td>\n",
       "      <td>Individuals</td>\n",
       "      <td>2/16/2014</td>\n",
       "      <td>1990-07-27</td>\n",
       "    </tr>\n",
       "    <tr>\n",
       "      <th>1</th>\n",
       "      <td>1</td>\n",
       "      <td>1</td>\n",
       "      <td>Female</td>\n",
       "      <td>Low</td>\n",
       "      <td>HSB</td>\n",
       "      <td>0</td>\n",
       "      <td>-1.0</td>\n",
       "      <td>1</td>\n",
       "      <td>0</td>\n",
       "      <td>Individuals</td>\n",
       "      <td>2/16/2014</td>\n",
       "      <td>1963-10-22</td>\n",
       "    </tr>\n",
       "    <tr>\n",
       "      <th>2</th>\n",
       "      <td>2</td>\n",
       "      <td>2</td>\n",
       "      <td>Male</td>\n",
       "      <td>Low</td>\n",
       "      <td>HSB</td>\n",
       "      <td>0</td>\n",
       "      <td>0.0</td>\n",
       "      <td>0</td>\n",
       "      <td>0</td>\n",
       "      <td>Individuals</td>\n",
       "      <td>2/17/2014</td>\n",
       "      <td>1971-05-14</td>\n",
       "    </tr>\n",
       "    <tr>\n",
       "      <th>3</th>\n",
       "      <td>3</td>\n",
       "      <td>3</td>\n",
       "      <td>Male</td>\n",
       "      <td>Low</td>\n",
       "      <td>HSB</td>\n",
       "      <td>0</td>\n",
       "      <td>0.0</td>\n",
       "      <td>0</td>\n",
       "      <td>0</td>\n",
       "      <td>Individuals</td>\n",
       "      <td>2/17/2014</td>\n",
       "      <td>1953-01-14</td>\n",
       "    </tr>\n",
       "    <tr>\n",
       "      <th>4</th>\n",
       "      <td>4</td>\n",
       "      <td>4</td>\n",
       "      <td>Male</td>\n",
       "      <td>Low</td>\n",
       "      <td>HSB</td>\n",
       "      <td>0</td>\n",
       "      <td>0.0</td>\n",
       "      <td>0</td>\n",
       "      <td>0</td>\n",
       "      <td>Individuals</td>\n",
       "      <td>2/17/2014</td>\n",
       "      <td>1976-06-09</td>\n",
       "    </tr>\n",
       "  </tbody>\n",
       "</table>\n",
       "</div>"
      ],
      "text/plain": [
       "   Client ID  Account ID  Gender Risk Rate Company Name  Is Closed  \\\n",
       "0          0           0    Male       Low          HSB          0   \n",
       "1          1           1  Female       Low          HSB          0   \n",
       "2          2           2    Male       Low          HSB          0   \n",
       "3          3           3    Male       Low          HSB          0   \n",
       "4          4           4    Male       Low          HSB          0   \n",
       "\n",
       "   Is Dormant  Is Profile Suspended  Is Client Suspended Client Type Name  \\\n",
       "0         0.0                     0                    0      Individuals   \n",
       "1        -1.0                     1                    0      Individuals   \n",
       "2         0.0                     0                    0      Individuals   \n",
       "3         0.0                     0                    0      Individuals   \n",
       "4         0.0                     0                    0      Individuals   \n",
       "\n",
       "    OpenDate   BirthDate  \n",
       "0  2/16/2014  1990-07-27  \n",
       "1  2/16/2014  1963-10-22  \n",
       "2  2/17/2014  1971-05-14  \n",
       "3  2/17/2014  1953-01-14  \n",
       "4  2/17/2014  1976-06-09  "
      ]
     },
     "execution_count": 5,
     "metadata": {},
     "output_type": "execute_result"
    }
   ],
   "source": [
    "clients_df.head()"
   ]
  },
  {
   "cell_type": "markdown",
   "metadata": {},
   "source": [
    "## Account Level Dataset\n"
   ]
  },
  {
   "cell_type": "markdown",
   "metadata": {},
   "source": [
    "### Orders Data\n"
   ]
  },
  {
   "cell_type": "markdown",
   "metadata": {},
   "source": [
    "**_We created another dataframe \"agg_orders\" which represents the aggregate orders of each account_**\n"
   ]
  },
  {
   "cell_type": "markdown",
   "metadata": {},
   "source": [
    "Drop the rows with null values\n"
   ]
  },
  {
   "cell_type": "code",
   "execution_count": 6,
   "metadata": {},
   "outputs": [],
   "source": [
    "orders_df.dropna(inplace=True)"
   ]
  },
  {
   "cell_type": "code",
   "execution_count": 7,
   "metadata": {},
   "outputs": [],
   "source": [
    "orders_df = orders_df[orders_df[\"Order Via\"] == \"Online\"]"
   ]
  },
  {
   "cell_type": "code",
   "execution_count": 8,
   "metadata": {},
   "outputs": [],
   "source": [
    "orders_df.drop(columns=[\"Order Via\", \"Security ID\"], inplace=True)"
   ]
  },
  {
   "cell_type": "code",
   "execution_count": 9,
   "metadata": {},
   "outputs": [],
   "source": [
    "account_ids_to_remove = clients_df[\n",
    "    (clients_df[\"Client Type Name\"] != \"Individuals\")\n",
    "    | (clients_df[\"Company Name\"] != \"HSB\")\n",
    "][\"Account ID\"].unique()\n",
    "\n",
    "# Remove the accounts from the accounts dataframe where Client Type Name is not 'individuals'\n",
    "clients_df = clients_df[~clients_df[\"Account ID\"].isin(account_ids_to_remove)]\n",
    "\n",
    "# Remove the orders of these accounts from the orders dataframe\n",
    "orders_df = orders_df[~orders_df[\"Account ID\"].isin(account_ids_to_remove)]"
   ]
  },
  {
   "cell_type": "code",
   "execution_count": 10,
   "metadata": {},
   "outputs": [],
   "source": [
    "clients_df.drop(columns=[\"Client Type Name\", \"Company Name\"], inplace=True)"
   ]
  },
  {
   "cell_type": "code",
   "execution_count": 11,
   "metadata": {},
   "outputs": [
    {
     "data": {
      "text/plain": [
       "11323"
      ]
     },
     "execution_count": 11,
     "metadata": {},
     "output_type": "execute_result"
    }
   ],
   "source": [
    "len(clients_df[\"Account ID\"].unique())"
   ]
  },
  {
   "cell_type": "code",
   "execution_count": 12,
   "metadata": {},
   "outputs": [
    {
     "data": {
      "text/plain": [
       "6715"
      ]
     },
     "execution_count": 12,
     "metadata": {},
     "output_type": "execute_result"
    }
   ],
   "source": [
    "len(orders_df[\"Account ID\"].unique())"
   ]
  },
  {
   "cell_type": "code",
   "execution_count": 13,
   "metadata": {},
   "outputs": [
    {
     "name": "stdout",
     "output_type": "stream",
     "text": [
      "There are no accounts in the orders dataframe that are not in the accounts dataframe.\n",
      "There are accounts in the accounts dataframe that are not in the orders dataframe.\n"
     ]
    }
   ],
   "source": [
    "# Check if there are any accounts in the orders dataframe that are not in the accounts dataframe\n",
    "accounts_in_orders_not_in_accounts = orders_df[\n",
    "    ~orders_df[\"Account ID\"].isin(clients_df[\"Account ID\"])\n",
    "]\n",
    "if accounts_in_orders_not_in_accounts.empty:\n",
    "    print(\n",
    "        \"There are no accounts in the orders dataframe that are not in the accounts dataframe.\"\n",
    "    )\n",
    "else:\n",
    "    print(\n",
    "        \"There are accounts in the orders dataframe that are not in the accounts dataframe.\"\n",
    "    )\n",
    "\n",
    "# Check if there are any accounts in the accounts dataframe that are not in the orders dataframe\n",
    "accounts_in_accounts_not_in_orders = clients_df[\n",
    "    ~clients_df[\"Account ID\"].isin(orders_df[\"Account ID\"])\n",
    "]\n",
    "if accounts_in_accounts_not_in_orders.empty:\n",
    "    print(\n",
    "        \"There are no accounts in the accounts dataframe that are not in the orders dataframe.\"\n",
    "    )\n",
    "else:\n",
    "    print(\n",
    "        \"There are accounts in the accounts dataframe that are not in the orders dataframe.\"\n",
    "    )"
   ]
  },
  {
   "cell_type": "code",
   "execution_count": 14,
   "metadata": {},
   "outputs": [
    {
     "name": "stdout",
     "output_type": "stream",
     "text": [
      "<class 'pandas.core.frame.DataFrame'>\n",
      "Index: 1833491 entries, 0 to 1987940\n",
      "Data columns (total 14 columns):\n",
      " #   Column             Dtype  \n",
      "---  ------             -----  \n",
      " 0   Order ID           int64  \n",
      " 1   Account ID         int64  \n",
      " 2   Market Key         object \n",
      " 3   Order Type         object \n",
      " 4   Order Time         object \n",
      " 5   Is Completed       int64  \n",
      " 6   Is Canceled        int64  \n",
      " 7   Expire Date        object \n",
      " 8   Execution Status   object \n",
      " 9   quantity           int64  \n",
      " 10  Price              float64\n",
      " 11  Sector Name        object \n",
      " 12  Executed Quantity  int64  \n",
      " 13  Quantity           int64  \n",
      "dtypes: float64(1), int64(7), object(6)\n",
      "memory usage: 209.8+ MB\n"
     ]
    }
   ],
   "source": [
    "orders_df.info()"
   ]
  },
  {
   "cell_type": "markdown",
   "metadata": {},
   "source": [
    "Initialize a new Dataframe to store the aggregate orders per account\n"
   ]
  },
  {
   "cell_type": "code",
   "execution_count": 15,
   "metadata": {},
   "outputs": [],
   "source": [
    "agg_orders = pd.DataFrame()"
   ]
  },
  {
   "cell_type": "markdown",
   "metadata": {},
   "source": [
    "Add an AccountID column to the aggregate orders df\n"
   ]
  },
  {
   "cell_type": "code",
   "execution_count": 16,
   "metadata": {},
   "outputs": [],
   "source": [
    "agg_orders[\"AccountID\"] = clients_df[\"Account ID\"].unique()"
   ]
  },
  {
   "cell_type": "markdown",
   "metadata": {},
   "source": [
    "Compute and add the number of orders for each account\n"
   ]
  },
  {
   "cell_type": "code",
   "execution_count": 17,
   "metadata": {},
   "outputs": [],
   "source": [
    "# Add a NumOfOrders column that has the number of orders for each account\n",
    "agg_orders[\"NumOfOrders\"] = orders_df.groupby(\"Account ID\").size()\n",
    "\n",
    "# Set the number of orders for the accounts that didn't place any order to 0\n",
    "agg_orders[\"NumOfOrders\"] = agg_orders[\"NumOfOrders\"].fillna(0)\n",
    "\n",
    "# Convert the type to int\n",
    "agg_orders[\"NumOfOrders\"] = agg_orders[\"NumOfOrders\"].astype(int)"
   ]
  },
  {
   "cell_type": "markdown",
   "metadata": {},
   "source": [
    "Compute and add the last order date for each account\n"
   ]
  },
  {
   "cell_type": "code",
   "execution_count": 18,
   "metadata": {},
   "outputs": [],
   "source": [
    "# Convert the 'order_date' column to datetime\n",
    "orders_df[\"Order Time\"] = pd.to_datetime(orders_df[\"Order Time\"])\n",
    "\n",
    "# Create a new dataframe with the last order date for each account\n",
    "agg_orders[\"LastOrder\"] = orders_df.groupby(\"Account ID\")[\"Order Time\"].max()\n",
    "\n",
    "# Convert the LastOrder column to datetime\n",
    "agg_orders[\"LastOrder\"] = pd.to_datetime(agg_orders[\"LastOrder\"], format=\"%d-%m-%Y\")"
   ]
  },
  {
   "cell_type": "markdown",
   "metadata": {},
   "source": [
    "Compute and add the first order date for each account\n"
   ]
  },
  {
   "cell_type": "code",
   "execution_count": 19,
   "metadata": {},
   "outputs": [],
   "source": [
    "# Create a new dataframe with the last order date for each account\n",
    "agg_orders[\"FirstOrder\"] = orders_df.groupby(\"Account ID\")[\"Order Time\"].min()\n",
    "\n",
    "# Convert the LastOrder column to datetime\n",
    "agg_orders[\"FirstOrder\"] = pd.to_datetime(agg_orders[\"FirstOrder\"], format=\"%d-%m-%Y\")"
   ]
  },
  {
   "cell_type": "markdown",
   "metadata": {},
   "source": [
    "Compute and add the number of completed orders for each account\n"
   ]
  },
  {
   "cell_type": "code",
   "execution_count": 20,
   "metadata": {},
   "outputs": [],
   "source": [
    "# Add a NumOfCompleted column that has the number of completed orders for each account\n",
    "agg_orders[\"NumOfCompleted\"] = orders_df.groupby(\"Account ID\")[\"Is Completed\"].sum()\n",
    "\n",
    "# Set the number of completed orders for the accounts that didn't place any order to 0\n",
    "agg_orders[\"NumOfCompleted\"] = agg_orders[\"NumOfCompleted\"].fillna(0)\n",
    "\n",
    "# # Convert the type to int\n",
    "agg_orders[\"NumOfCompleted\"] = agg_orders[\"NumOfCompleted\"].astype(int)"
   ]
  },
  {
   "cell_type": "markdown",
   "metadata": {},
   "source": [
    "Compute and add the number of canceled for each account\n"
   ]
  },
  {
   "cell_type": "code",
   "execution_count": 21,
   "metadata": {},
   "outputs": [],
   "source": [
    "# Add a NumOfCanceled column that has the number of completed orders for each account\n",
    "agg_orders[\"NumOfCanceled\"] = orders_df.groupby(\"Account ID\")[\"Is Canceled\"].sum()\n",
    "\n",
    "# Set the number of completed orders for the accounts that didn't place any order to 0\n",
    "agg_orders[\"NumOfCanceled\"] = agg_orders[\"NumOfCanceled\"].fillna(0)\n",
    "\n",
    "# # Convert the type to int\n",
    "agg_orders[\"NumOfCanceled\"] = agg_orders[\"NumOfCanceled\"].astype(int)"
   ]
  },
  {
   "cell_type": "markdown",
   "metadata": {},
   "source": [
    "Compute and add the average price of orders for each account\n"
   ]
  },
  {
   "cell_type": "code",
   "execution_count": 22,
   "metadata": {},
   "outputs": [],
   "source": [
    "# Add a AvgPrice column that has the number of completed orders for each account\n",
    "agg_orders[\"AvgPrice\"] = (\n",
    "    orders_df.groupby(\"Account ID\")[\"Price\"].sum()\n",
    "    / orders_df.groupby(\"Account ID\").size()\n",
    ")\n",
    "\n",
    "# Set the number of completed orders for the accounts that didn't place any order to 0\n",
    "agg_orders[\"AvgPrice\"] = agg_orders[\"AvgPrice\"].fillna(0.0)"
   ]
  },
  {
   "cell_type": "markdown",
   "metadata": {},
   "source": [
    "Compute and add the total executed quantity of orders for each account\n"
   ]
  },
  {
   "cell_type": "code",
   "execution_count": 23,
   "metadata": {},
   "outputs": [],
   "source": [
    "# Add a TotalExecutedQuantity column that has the number of completed orders for each account\n",
    "agg_orders[\"TotalExecutedQuantity\"] = orders_df.groupby(\"Account ID\")[\n",
    "    \"Executed Quantity\"\n",
    "].sum()\n",
    "\n",
    "# Set the number of completed orders for the accounts that didn't place any order to 0\n",
    "agg_orders[\"TotalExecutedQuantity\"] = agg_orders[\"TotalExecutedQuantity\"].fillna(0)\n",
    "\n",
    "# # Convert the type to int\n",
    "agg_orders[\"TotalExecutedQuantity\"] = agg_orders[\"TotalExecutedQuantity\"].astype(int)"
   ]
  },
  {
   "cell_type": "markdown",
   "metadata": {},
   "source": [
    "Compute and add the total quantity of orders for each account\n"
   ]
  },
  {
   "cell_type": "code",
   "execution_count": 24,
   "metadata": {},
   "outputs": [],
   "source": [
    "# Add a TotalQuantity column that has the number of completed orders for each account\n",
    "agg_orders[\"TotalQuantity\"] = orders_df.groupby(\"Account ID\")[\"Quantity\"].sum()\n",
    "\n",
    "# Set the number of completed orders for the accounts that didn't place any order to 0\n",
    "agg_orders[\"TotalQuantity\"] = agg_orders[\"TotalQuantity\"].fillna(0)\n",
    "\n",
    "# # Convert the type to int\n",
    "agg_orders[\"TotalQuantity\"] = agg_orders[\"TotalQuantity\"].astype(int)"
   ]
  },
  {
   "cell_type": "markdown",
   "metadata": {},
   "source": [
    "Define a function to convert a categorical feature to its TFIDF dataframe and concatenate it with the aggregate orders dataframe\n"
   ]
  },
  {
   "cell_type": "code",
   "execution_count": 25,
   "metadata": {},
   "outputs": [],
   "source": [
    "def FrequencyEncoder(column_name: str):\n",
    "    temp = pd.get_dummies(orders_df, columns=[column_name])\n",
    "    temp.replace({True: 1, False: 0}, inplace=True)\n",
    "\n",
    "    frequency_encode_df = pd.DataFrame(data=agg_orders.iloc[:, 0])\n",
    "\n",
    "    for word in orders_df[column_name].unique():\n",
    "        col_name = f\"{column_name}_{word}\"\n",
    "\n",
    "        frequency_encode_df[col_name.replace(\" \", \"\")] = (\n",
    "            temp.groupby(\"Account ID\")[col_name].sum()\n",
    "            / temp.groupby(\"Account ID\").size()\n",
    "        )\n",
    "\n",
    "        frequency_encode_df[col_name.replace(\" \", \"\")] = frequency_encode_df[\n",
    "            col_name.replace(\" \", \"\")\n",
    "        ].fillna(0)\n",
    "\n",
    "        frequency_encode_df[col_name.replace(\" \", \"\")] = frequency_encode_df[\n",
    "            col_name.replace(\" \", \"\")\n",
    "        ].astype(float)\n",
    "\n",
    "    return pd.concat([agg_orders, frequency_encode_df.iloc[:, 1:]], axis=1)"
   ]
  },
  {
   "cell_type": "markdown",
   "metadata": {},
   "source": [
    "Compute and add the Frequency Encoding of the Security ID column\n"
   ]
  },
  {
   "cell_type": "code",
   "execution_count": 26,
   "metadata": {},
   "outputs": [],
   "source": [
    "# agg_orders = FrequencyEncoder(\"Security ID\")"
   ]
  },
  {
   "cell_type": "markdown",
   "metadata": {},
   "source": [
    "Compute and add the Frequency Encoding of the Order Type column\n"
   ]
  },
  {
   "cell_type": "code",
   "execution_count": 27,
   "metadata": {},
   "outputs": [],
   "source": [
    "agg_orders = FrequencyEncoder(\"Order Type\")"
   ]
  },
  {
   "cell_type": "markdown",
   "metadata": {},
   "source": [
    "Compute and add the Frequency Encoding of the Execution Status column\n"
   ]
  },
  {
   "cell_type": "code",
   "execution_count": 28,
   "metadata": {},
   "outputs": [],
   "source": [
    "agg_orders = FrequencyEncoder(\"Execution Status\")"
   ]
  },
  {
   "cell_type": "markdown",
   "metadata": {},
   "source": [
    "Compute and add the Frequency Encoding of the Sector Name column\n"
   ]
  },
  {
   "cell_type": "code",
   "execution_count": 29,
   "metadata": {},
   "outputs": [],
   "source": [
    "agg_orders = FrequencyEncoder(\"Sector Name\")"
   ]
  },
  {
   "cell_type": "markdown",
   "metadata": {},
   "source": [
    "Display the head of the agg_orders dataframe\n"
   ]
  },
  {
   "cell_type": "code",
   "execution_count": 30,
   "metadata": {},
   "outputs": [
    {
     "data": {
      "text/html": [
       "<div>\n",
       "<style scoped>\n",
       "    .dataframe tbody tr th:only-of-type {\n",
       "        vertical-align: middle;\n",
       "    }\n",
       "\n",
       "    .dataframe tbody tr th {\n",
       "        vertical-align: top;\n",
       "    }\n",
       "\n",
       "    .dataframe thead th {\n",
       "        text-align: right;\n",
       "    }\n",
       "</style>\n",
       "<table border=\"1\" class=\"dataframe\">\n",
       "  <thead>\n",
       "    <tr style=\"text-align: right;\">\n",
       "      <th></th>\n",
       "      <th>AccountID</th>\n",
       "      <th>NumOfOrders</th>\n",
       "      <th>LastOrder</th>\n",
       "      <th>FirstOrder</th>\n",
       "      <th>NumOfCompleted</th>\n",
       "      <th>NumOfCanceled</th>\n",
       "      <th>AvgPrice</th>\n",
       "      <th>TotalExecutedQuantity</th>\n",
       "      <th>TotalQuantity</th>\n",
       "      <th>OrderType_Buy</th>\n",
       "      <th>...</th>\n",
       "      <th>SectorName_INVESTMENT</th>\n",
       "      <th>SectorName_TelecommunicationServices</th>\n",
       "      <th>SectorName_REALESTATE</th>\n",
       "      <th>SectorName_Telecommunications</th>\n",
       "      <th>SectorName_FOOD</th>\n",
       "      <th>SectorName_Others</th>\n",
       "      <th>SectorName_Tourism</th>\n",
       "      <th>SectorName_ConsumerServices</th>\n",
       "      <th>SectorName_Utilities</th>\n",
       "      <th>SectorName_PharmaceuticalIndustries</th>\n",
       "    </tr>\n",
       "  </thead>\n",
       "  <tbody>\n",
       "    <tr>\n",
       "      <th>0</th>\n",
       "      <td>0</td>\n",
       "      <td>0</td>\n",
       "      <td>NaT</td>\n",
       "      <td>NaT</td>\n",
       "      <td>0</td>\n",
       "      <td>0</td>\n",
       "      <td>0.000000</td>\n",
       "      <td>0</td>\n",
       "      <td>0</td>\n",
       "      <td>0.000000</td>\n",
       "      <td>...</td>\n",
       "      <td>0.000000</td>\n",
       "      <td>0.000000</td>\n",
       "      <td>0.0</td>\n",
       "      <td>0.0</td>\n",
       "      <td>0.0</td>\n",
       "      <td>0.0</td>\n",
       "      <td>0.0</td>\n",
       "      <td>0.0</td>\n",
       "      <td>0.0</td>\n",
       "      <td>0.0</td>\n",
       "    </tr>\n",
       "    <tr>\n",
       "      <th>1</th>\n",
       "      <td>1</td>\n",
       "      <td>0</td>\n",
       "      <td>NaT</td>\n",
       "      <td>NaT</td>\n",
       "      <td>0</td>\n",
       "      <td>0</td>\n",
       "      <td>0.000000</td>\n",
       "      <td>0</td>\n",
       "      <td>0</td>\n",
       "      <td>0.000000</td>\n",
       "      <td>...</td>\n",
       "      <td>0.000000</td>\n",
       "      <td>0.000000</td>\n",
       "      <td>0.0</td>\n",
       "      <td>0.0</td>\n",
       "      <td>0.0</td>\n",
       "      <td>0.0</td>\n",
       "      <td>0.0</td>\n",
       "      <td>0.0</td>\n",
       "      <td>0.0</td>\n",
       "      <td>0.0</td>\n",
       "    </tr>\n",
       "    <tr>\n",
       "      <th>2</th>\n",
       "      <td>2</td>\n",
       "      <td>21</td>\n",
       "      <td>2024-02-28 11:06:33</td>\n",
       "      <td>2022-01-04 12:06:31</td>\n",
       "      <td>17</td>\n",
       "      <td>2</td>\n",
       "      <td>7.652667</td>\n",
       "      <td>123895</td>\n",
       "      <td>137395</td>\n",
       "      <td>0.857143</td>\n",
       "      <td>...</td>\n",
       "      <td>0.095238</td>\n",
       "      <td>0.000000</td>\n",
       "      <td>0.0</td>\n",
       "      <td>0.0</td>\n",
       "      <td>0.0</td>\n",
       "      <td>0.0</td>\n",
       "      <td>0.0</td>\n",
       "      <td>0.0</td>\n",
       "      <td>0.0</td>\n",
       "      <td>0.0</td>\n",
       "    </tr>\n",
       "    <tr>\n",
       "      <th>3</th>\n",
       "      <td>3</td>\n",
       "      <td>87</td>\n",
       "      <td>2024-03-10 12:32:34</td>\n",
       "      <td>2023-01-17 12:02:35</td>\n",
       "      <td>64</td>\n",
       "      <td>11</td>\n",
       "      <td>71.908161</td>\n",
       "      <td>682538</td>\n",
       "      <td>908478</td>\n",
       "      <td>0.471264</td>\n",
       "      <td>...</td>\n",
       "      <td>0.000000</td>\n",
       "      <td>0.022989</td>\n",
       "      <td>0.0</td>\n",
       "      <td>0.0</td>\n",
       "      <td>0.0</td>\n",
       "      <td>0.0</td>\n",
       "      <td>0.0</td>\n",
       "      <td>0.0</td>\n",
       "      <td>0.0</td>\n",
       "      <td>0.0</td>\n",
       "    </tr>\n",
       "    <tr>\n",
       "      <th>4</th>\n",
       "      <td>4</td>\n",
       "      <td>30</td>\n",
       "      <td>2024-02-26 12:47:33</td>\n",
       "      <td>2022-01-11 11:05:32</td>\n",
       "      <td>8</td>\n",
       "      <td>10</td>\n",
       "      <td>2.846267</td>\n",
       "      <td>356686</td>\n",
       "      <td>594953</td>\n",
       "      <td>0.066667</td>\n",
       "      <td>...</td>\n",
       "      <td>0.000000</td>\n",
       "      <td>0.000000</td>\n",
       "      <td>0.0</td>\n",
       "      <td>0.0</td>\n",
       "      <td>0.0</td>\n",
       "      <td>0.0</td>\n",
       "      <td>0.0</td>\n",
       "      <td>0.0</td>\n",
       "      <td>0.0</td>\n",
       "      <td>0.0</td>\n",
       "    </tr>\n",
       "  </tbody>\n",
       "</table>\n",
       "<p>5 rows × 36 columns</p>\n",
       "</div>"
      ],
      "text/plain": [
       "   AccountID  NumOfOrders           LastOrder          FirstOrder  \\\n",
       "0          0            0                 NaT                 NaT   \n",
       "1          1            0                 NaT                 NaT   \n",
       "2          2           21 2024-02-28 11:06:33 2022-01-04 12:06:31   \n",
       "3          3           87 2024-03-10 12:32:34 2023-01-17 12:02:35   \n",
       "4          4           30 2024-02-26 12:47:33 2022-01-11 11:05:32   \n",
       "\n",
       "   NumOfCompleted  NumOfCanceled   AvgPrice  TotalExecutedQuantity  \\\n",
       "0               0              0   0.000000                      0   \n",
       "1               0              0   0.000000                      0   \n",
       "2              17              2   7.652667                 123895   \n",
       "3              64             11  71.908161                 682538   \n",
       "4               8             10   2.846267                 356686   \n",
       "\n",
       "   TotalQuantity  OrderType_Buy  ...  SectorName_INVESTMENT  \\\n",
       "0              0       0.000000  ...               0.000000   \n",
       "1              0       0.000000  ...               0.000000   \n",
       "2         137395       0.857143  ...               0.095238   \n",
       "3         908478       0.471264  ...               0.000000   \n",
       "4         594953       0.066667  ...               0.000000   \n",
       "\n",
       "   SectorName_TelecommunicationServices  SectorName_REALESTATE  \\\n",
       "0                              0.000000                    0.0   \n",
       "1                              0.000000                    0.0   \n",
       "2                              0.000000                    0.0   \n",
       "3                              0.022989                    0.0   \n",
       "4                              0.000000                    0.0   \n",
       "\n",
       "   SectorName_Telecommunications  SectorName_FOOD  SectorName_Others  \\\n",
       "0                            0.0              0.0                0.0   \n",
       "1                            0.0              0.0                0.0   \n",
       "2                            0.0              0.0                0.0   \n",
       "3                            0.0              0.0                0.0   \n",
       "4                            0.0              0.0                0.0   \n",
       "\n",
       "   SectorName_Tourism  SectorName_ConsumerServices  SectorName_Utilities  \\\n",
       "0                 0.0                          0.0                   0.0   \n",
       "1                 0.0                          0.0                   0.0   \n",
       "2                 0.0                          0.0                   0.0   \n",
       "3                 0.0                          0.0                   0.0   \n",
       "4                 0.0                          0.0                   0.0   \n",
       "\n",
       "   SectorName_PharmaceuticalIndustries  \n",
       "0                                  0.0  \n",
       "1                                  0.0  \n",
       "2                                  0.0  \n",
       "3                                  0.0  \n",
       "4                                  0.0  \n",
       "\n",
       "[5 rows x 36 columns]"
      ]
     },
     "execution_count": 30,
     "metadata": {},
     "output_type": "execute_result"
    }
   ],
   "source": [
    "agg_orders.head()"
   ]
  },
  {
   "cell_type": "markdown",
   "metadata": {},
   "source": [
    "Display the info of the agg_orders dataframe\n"
   ]
  },
  {
   "cell_type": "code",
   "execution_count": 31,
   "metadata": {},
   "outputs": [
    {
     "name": "stdout",
     "output_type": "stream",
     "text": [
      "<class 'pandas.core.frame.DataFrame'>\n",
      "RangeIndex: 11323 entries, 0 to 11322\n",
      "Data columns (total 36 columns):\n",
      " #   Column                                Non-Null Count  Dtype         \n",
      "---  ------                                --------------  -----         \n",
      " 0   AccountID                             11323 non-null  int64         \n",
      " 1   NumOfOrders                           11323 non-null  int64         \n",
      " 2   LastOrder                             5512 non-null   datetime64[ns]\n",
      " 3   FirstOrder                            5512 non-null   datetime64[ns]\n",
      " 4   NumOfCompleted                        11323 non-null  int64         \n",
      " 5   NumOfCanceled                         11323 non-null  int64         \n",
      " 6   AvgPrice                              11323 non-null  float64       \n",
      " 7   TotalExecutedQuantity                 11323 non-null  int64         \n",
      " 8   TotalQuantity                         11323 non-null  int64         \n",
      " 9   OrderType_Buy                         11323 non-null  float64       \n",
      " 10  OrderType_Sell                        11323 non-null  float64       \n",
      " 11  ExecutionStatus_Executed              11323 non-null  float64       \n",
      " 12  ExecutionStatus_NotExecuted           11323 non-null  float64       \n",
      " 13  ExecutionStatus_PartiallyExecuted     11323 non-null  float64       \n",
      " 14  SectorName_RealEstate                 11323 non-null  float64       \n",
      " 15  SectorName_Financials                 11323 non-null  float64       \n",
      " 16  SectorName_Materials                  11323 non-null  float64       \n",
      " 17  SectorName_ConsumerDiscretionary      11323 non-null  float64       \n",
      " 18  SectorName_Industries                 11323 non-null  float64       \n",
      " 19  SectorName_HealthCare                 11323 non-null  float64       \n",
      " 20  SectorName_InformationTechnology      11323 non-null  float64       \n",
      " 21  SectorName_ConsumerStaples            11323 non-null  float64       \n",
      " 22  SectorName_INDUSTRIAL                 11323 non-null  float64       \n",
      " 23  SectorName_SERVICES                   11323 non-null  float64       \n",
      " 24  SectorName_Energy                     11323 non-null  float64       \n",
      " 25  SectorName_BasicMaterials             11323 non-null  float64       \n",
      " 26  SectorName_INVESTMENT                 11323 non-null  float64       \n",
      " 27  SectorName_TelecommunicationServices  11323 non-null  float64       \n",
      " 28  SectorName_REALESTATE                 11323 non-null  float64       \n",
      " 29  SectorName_Telecommunications         11323 non-null  float64       \n",
      " 30  SectorName_FOOD                       11323 non-null  float64       \n",
      " 31  SectorName_Others                     11323 non-null  float64       \n",
      " 32  SectorName_Tourism                    11323 non-null  float64       \n",
      " 33  SectorName_ConsumerServices           11323 non-null  float64       \n",
      " 34  SectorName_Utilities                  11323 non-null  float64       \n",
      " 35  SectorName_PharmaceuticalIndustries   11323 non-null  float64       \n",
      "dtypes: datetime64[ns](2), float64(28), int64(6)\n",
      "memory usage: 3.1 MB\n"
     ]
    }
   ],
   "source": [
    "agg_orders.info()"
   ]
  },
  {
   "cell_type": "markdown",
   "metadata": {},
   "source": [
    "### Clients Data\n"
   ]
  },
  {
   "cell_type": "markdown",
   "metadata": {},
   "source": [
    "Drop the rows with null values\n"
   ]
  },
  {
   "cell_type": "code",
   "execution_count": 32,
   "metadata": {},
   "outputs": [],
   "source": [
    "clients_df.dropna(inplace=True)"
   ]
  },
  {
   "cell_type": "code",
   "execution_count": 33,
   "metadata": {},
   "outputs": [
    {
     "name": "stdout",
     "output_type": "stream",
     "text": [
      "<class 'pandas.core.frame.DataFrame'>\n",
      "Index: 11323 entries, 0 to 13521\n",
      "Data columns (total 10 columns):\n",
      " #   Column                Non-Null Count  Dtype  \n",
      "---  ------                --------------  -----  \n",
      " 0   Client ID             11323 non-null  int64  \n",
      " 1   Account ID            11323 non-null  int64  \n",
      " 2   Gender                11323 non-null  object \n",
      " 3   Risk Rate             11323 non-null  object \n",
      " 4   Is Closed             11323 non-null  int64  \n",
      " 5   Is Dormant            11323 non-null  float64\n",
      " 6   Is Profile Suspended  11323 non-null  int64  \n",
      " 7   Is Client Suspended   11323 non-null  int64  \n",
      " 8   OpenDate              11323 non-null  object \n",
      " 9   BirthDate             11323 non-null  object \n",
      "dtypes: float64(1), int64(5), object(4)\n",
      "memory usage: 973.1+ KB\n"
     ]
    }
   ],
   "source": [
    "clients_df.info(verbose=True)"
   ]
  },
  {
   "cell_type": "markdown",
   "metadata": {},
   "source": [
    "Drop the suspended clients\n"
   ]
  },
  {
   "cell_type": "code",
   "execution_count": 34,
   "metadata": {},
   "outputs": [],
   "source": [
    "clients_df = clients_df[clients_df[\"Is Client Suspended\"] == 0]"
   ]
  },
  {
   "cell_type": "code",
   "execution_count": 35,
   "metadata": {},
   "outputs": [],
   "source": [
    "clients_df.drop(columns=\"Is Client Suspended\", inplace=True)"
   ]
  },
  {
   "cell_type": "markdown",
   "metadata": {},
   "source": [
    "Convert the OpenDate column to DateTime object\n"
   ]
  },
  {
   "cell_type": "code",
   "execution_count": 36,
   "metadata": {},
   "outputs": [],
   "source": [
    "# Convert the OpenDate column to datetime\n",
    "clients_df[\"OpenDate\"] = pd.to_datetime(clients_df[\"OpenDate\"], format=\"%m/%d/%Y\")"
   ]
  },
  {
   "cell_type": "markdown",
   "metadata": {},
   "source": [
    "Convert the BirthDate column to DateTime object, and calculate the age of the client\n"
   ]
  },
  {
   "cell_type": "code",
   "execution_count": 37,
   "metadata": {},
   "outputs": [],
   "source": [
    "# Convert the BirthDate column to datetime\n",
    "clients_df[\"BirthDate\"] = pd.to_datetime(clients_df[\"BirthDate\"], format=\"%Y-%m-%d\")"
   ]
  },
  {
   "cell_type": "code",
   "execution_count": 38,
   "metadata": {},
   "outputs": [],
   "source": [
    "def calculate_age(birth_date):\n",
    "    # Assuming birth_date is a datetime object\n",
    "    today = datetime.today()\n",
    "    return (\n",
    "        today.year\n",
    "        - birth_date.year\n",
    "        - ((today.month, today.day) < (birth_date.month, birth_date.day))\n",
    "    )"
   ]
  },
  {
   "cell_type": "code",
   "execution_count": 39,
   "metadata": {},
   "outputs": [],
   "source": [
    "clients_df[\"Age\"] = clients_df[\"BirthDate\"].apply(calculate_age)"
   ]
  },
  {
   "cell_type": "markdown",
   "metadata": {},
   "source": [
    "Remove all whitespaces in the column names\n"
   ]
  },
  {
   "cell_type": "code",
   "execution_count": 40,
   "metadata": {},
   "outputs": [],
   "source": [
    "clients_df.rename(columns=lambda x: x.replace(\" \", \"\"), inplace=True)"
   ]
  },
  {
   "cell_type": "markdown",
   "metadata": {},
   "source": [
    "Display the head of the clients dataframe\n"
   ]
  },
  {
   "cell_type": "code",
   "execution_count": 41,
   "metadata": {},
   "outputs": [
    {
     "data": {
      "text/html": [
       "<div>\n",
       "<style scoped>\n",
       "    .dataframe tbody tr th:only-of-type {\n",
       "        vertical-align: middle;\n",
       "    }\n",
       "\n",
       "    .dataframe tbody tr th {\n",
       "        vertical-align: top;\n",
       "    }\n",
       "\n",
       "    .dataframe thead th {\n",
       "        text-align: right;\n",
       "    }\n",
       "</style>\n",
       "<table border=\"1\" class=\"dataframe\">\n",
       "  <thead>\n",
       "    <tr style=\"text-align: right;\">\n",
       "      <th></th>\n",
       "      <th>ClientID</th>\n",
       "      <th>AccountID</th>\n",
       "      <th>Gender</th>\n",
       "      <th>RiskRate</th>\n",
       "      <th>IsClosed</th>\n",
       "      <th>IsDormant</th>\n",
       "      <th>IsProfileSuspended</th>\n",
       "      <th>OpenDate</th>\n",
       "      <th>BirthDate</th>\n",
       "      <th>Age</th>\n",
       "    </tr>\n",
       "  </thead>\n",
       "  <tbody>\n",
       "    <tr>\n",
       "      <th>0</th>\n",
       "      <td>0</td>\n",
       "      <td>0</td>\n",
       "      <td>Male</td>\n",
       "      <td>Low</td>\n",
       "      <td>0</td>\n",
       "      <td>0.0</td>\n",
       "      <td>0</td>\n",
       "      <td>2014-02-16</td>\n",
       "      <td>1990-07-27</td>\n",
       "      <td>33</td>\n",
       "    </tr>\n",
       "    <tr>\n",
       "      <th>1</th>\n",
       "      <td>1</td>\n",
       "      <td>1</td>\n",
       "      <td>Female</td>\n",
       "      <td>Low</td>\n",
       "      <td>0</td>\n",
       "      <td>-1.0</td>\n",
       "      <td>1</td>\n",
       "      <td>2014-02-16</td>\n",
       "      <td>1963-10-22</td>\n",
       "      <td>60</td>\n",
       "    </tr>\n",
       "    <tr>\n",
       "      <th>2</th>\n",
       "      <td>2</td>\n",
       "      <td>2</td>\n",
       "      <td>Male</td>\n",
       "      <td>Low</td>\n",
       "      <td>0</td>\n",
       "      <td>0.0</td>\n",
       "      <td>0</td>\n",
       "      <td>2014-02-17</td>\n",
       "      <td>1971-05-14</td>\n",
       "      <td>53</td>\n",
       "    </tr>\n",
       "    <tr>\n",
       "      <th>3</th>\n",
       "      <td>3</td>\n",
       "      <td>3</td>\n",
       "      <td>Male</td>\n",
       "      <td>Low</td>\n",
       "      <td>0</td>\n",
       "      <td>0.0</td>\n",
       "      <td>0</td>\n",
       "      <td>2014-02-17</td>\n",
       "      <td>1953-01-14</td>\n",
       "      <td>71</td>\n",
       "    </tr>\n",
       "    <tr>\n",
       "      <th>4</th>\n",
       "      <td>4</td>\n",
       "      <td>4</td>\n",
       "      <td>Male</td>\n",
       "      <td>Low</td>\n",
       "      <td>0</td>\n",
       "      <td>0.0</td>\n",
       "      <td>0</td>\n",
       "      <td>2014-02-17</td>\n",
       "      <td>1976-06-09</td>\n",
       "      <td>48</td>\n",
       "    </tr>\n",
       "  </tbody>\n",
       "</table>\n",
       "</div>"
      ],
      "text/plain": [
       "   ClientID  AccountID  Gender RiskRate  IsClosed  IsDormant  \\\n",
       "0         0          0    Male      Low         0        0.0   \n",
       "1         1          1  Female      Low         0       -1.0   \n",
       "2         2          2    Male      Low         0        0.0   \n",
       "3         3          3    Male      Low         0        0.0   \n",
       "4         4          4    Male      Low         0        0.0   \n",
       "\n",
       "   IsProfileSuspended   OpenDate  BirthDate  Age  \n",
       "0                   0 2014-02-16 1990-07-27   33  \n",
       "1                   1 2014-02-16 1963-10-22   60  \n",
       "2                   0 2014-02-17 1971-05-14   53  \n",
       "3                   0 2014-02-17 1953-01-14   71  \n",
       "4                   0 2014-02-17 1976-06-09   48  "
      ]
     },
     "execution_count": 41,
     "metadata": {},
     "output_type": "execute_result"
    }
   ],
   "source": [
    "clients_df.head()"
   ]
  },
  {
   "cell_type": "markdown",
   "metadata": {},
   "source": [
    "Display the info of the clients dataframe\n"
   ]
  },
  {
   "cell_type": "code",
   "execution_count": 42,
   "metadata": {},
   "outputs": [
    {
     "name": "stdout",
     "output_type": "stream",
     "text": [
      "<class 'pandas.core.frame.DataFrame'>\n",
      "Index: 11222 entries, 0 to 13521\n",
      "Data columns (total 10 columns):\n",
      " #   Column              Non-Null Count  Dtype         \n",
      "---  ------              --------------  -----         \n",
      " 0   ClientID            11222 non-null  int64         \n",
      " 1   AccountID           11222 non-null  int64         \n",
      " 2   Gender              11222 non-null  object        \n",
      " 3   RiskRate            11222 non-null  object        \n",
      " 4   IsClosed            11222 non-null  int64         \n",
      " 5   IsDormant           11222 non-null  float64       \n",
      " 6   IsProfileSuspended  11222 non-null  int64         \n",
      " 7   OpenDate            11222 non-null  datetime64[ns]\n",
      " 8   BirthDate           11222 non-null  datetime64[ns]\n",
      " 9   Age                 11222 non-null  int64         \n",
      "dtypes: datetime64[ns](2), float64(1), int64(5), object(2)\n",
      "memory usage: 964.4+ KB\n"
     ]
    }
   ],
   "source": [
    "clients_df.info()"
   ]
  },
  {
   "cell_type": "markdown",
   "metadata": {},
   "source": [
    "### Merging\n"
   ]
  },
  {
   "cell_type": "markdown",
   "metadata": {},
   "source": [
    "**_We will inner join the agg_orders and clients_df dataframes on the AccountID column_**\n"
   ]
  },
  {
   "cell_type": "markdown",
   "metadata": {},
   "source": [
    "Perform the merging between both dataframes\n"
   ]
  },
  {
   "cell_type": "code",
   "execution_count": 43,
   "metadata": {},
   "outputs": [],
   "source": [
    "df_account_level = pd.merge(clients_df, agg_orders, on=\"AccountID\", how=\"inner\")"
   ]
  },
  {
   "cell_type": "code",
   "execution_count": 44,
   "metadata": {},
   "outputs": [],
   "source": [
    "# Get the current date\n",
    "now = datetime.now()"
   ]
  },
  {
   "cell_type": "code",
   "execution_count": 45,
   "metadata": {},
   "outputs": [],
   "source": [
    "order_rates_start = []\n",
    "order_rates_end = []\n",
    "quantity_rates_start = []\n",
    "quantity_rates_end = []\n",
    "avg_quantity_per_order_start = []\n",
    "avg_quantity_per_order_end = []"
   ]
  },
  {
   "cell_type": "code",
   "execution_count": 46,
   "metadata": {},
   "outputs": [],
   "source": [
    "for i, account in df_account_level.iterrows():\n",
    "    midpointDate = account[\"OpenDate\"] + (now - account[\"OpenDate\"]) / 2\n",
    "    openDate = account[\"OpenDate\"]\n",
    "\n",
    "    days_open_midpoint = (midpointDate - openDate).days\n",
    "    days_midpoint_now = (now - midpointDate).days\n",
    "\n",
    "    filtered_date_df = orders_df[\n",
    "        (orders_df[\"Order Time\"] >= openDate)\n",
    "        & (orders_df[\"Order Time\"] < midpointDate)\n",
    "        & (orders_df[\"Account ID\"] == account[\"AccountID\"])\n",
    "    ]\n",
    "\n",
    "    filtered_df_2 = orders_df[\n",
    "        (orders_df[\"Order Time\"] >= midpointDate)\n",
    "        & (orders_df[\"Order Time\"] < now)\n",
    "        & (orders_df[\"Account ID\"] == account[\"AccountID\"])\n",
    "    ]\n",
    "\n",
    "    num_of_orders_start = len(filtered_date_df)\n",
    "    num_of_orders_end = len(filtered_df_2)\n",
    "\n",
    "    quantity_ordered_start = filtered_date_df[\"Quantity\"].sum()\n",
    "    quantity_ordered_end = filtered_df_2[\"Quantity\"].sum()\n",
    "\n",
    "    avg_quantity_start = filtered_date_df[\"Quantity\"].mean()\n",
    "    avg_quantity_end = filtered_df_2[\"Quantity\"].mean()\n",
    "\n",
    "    order_rates_start.append(num_of_orders_start / days_open_midpoint)\n",
    "    order_rates_end.append(num_of_orders_end / days_midpoint_now)\n",
    "\n",
    "    quantity_rates_start.append(quantity_ordered_start / days_open_midpoint)\n",
    "    quantity_rates_end.append(quantity_ordered_end / days_midpoint_now)\n",
    "\n",
    "    avg_quantity_per_order_start.append(avg_quantity_start)\n",
    "    avg_quantity_per_order_end.append(avg_quantity_end)"
   ]
  },
  {
   "cell_type": "code",
   "execution_count": 47,
   "metadata": {},
   "outputs": [],
   "source": [
    "df_account_level[\"OrderRate_Start\"] = pd.Series(order_rates_start)\n",
    "df_account_level[\"OrderRate_End\"] = pd.Series(order_rates_end)\n",
    "df_account_level[\"QuantityOrderedRate_Start\"] = pd.Series(quantity_rates_start)\n",
    "df_account_level[\"QuantityOrderedRate_End\"] = pd.Series(quantity_rates_end)\n",
    "df_account_level[\"AvgQuantityPerOrder_Start\"] = pd.Series(avg_quantity_per_order_start)\n",
    "df_account_level[\"AvgQuantityPerOrder_End\"] = pd.Series(avg_quantity_per_order_end)"
   ]
  },
  {
   "cell_type": "code",
   "execution_count": 48,
   "metadata": {},
   "outputs": [],
   "source": [
    "df_account_level[\"AvgQuantityPerOrder_Start\"] = df_account_level[\n",
    "    \"AvgQuantityPerOrder_Start\"\n",
    "].fillna(0)\n",
    "df_account_level[\"AvgQuantityPerOrder_End\"] = df_account_level[\n",
    "    \"AvgQuantityPerOrder_End\"\n",
    "].fillna(0)"
   ]
  },
  {
   "cell_type": "code",
   "execution_count": 49,
   "metadata": {},
   "outputs": [],
   "source": [
    "df_account_level[\"ExecutedQuantityRatio\"] = df_account_level.apply(\n",
    "    lambda row: (\n",
    "        1\n",
    "        if row[\"TotalQuantity\"] == 0\n",
    "        else row[\"TotalExecutedQuantity\"] / row[\"TotalQuantity\"]\n",
    "    ),\n",
    "    axis=1,\n",
    ")"
   ]
  },
  {
   "cell_type": "markdown",
   "metadata": {},
   "source": [
    "Display the head of the dataframe\n"
   ]
  },
  {
   "cell_type": "code",
   "execution_count": 50,
   "metadata": {},
   "outputs": [
    {
     "data": {
      "text/html": [
       "<div>\n",
       "<style scoped>\n",
       "    .dataframe tbody tr th:only-of-type {\n",
       "        vertical-align: middle;\n",
       "    }\n",
       "\n",
       "    .dataframe tbody tr th {\n",
       "        vertical-align: top;\n",
       "    }\n",
       "\n",
       "    .dataframe thead th {\n",
       "        text-align: right;\n",
       "    }\n",
       "</style>\n",
       "<table border=\"1\" class=\"dataframe\">\n",
       "  <thead>\n",
       "    <tr style=\"text-align: right;\">\n",
       "      <th></th>\n",
       "      <th>ClientID</th>\n",
       "      <th>AccountID</th>\n",
       "      <th>Gender</th>\n",
       "      <th>RiskRate</th>\n",
       "      <th>IsClosed</th>\n",
       "      <th>IsDormant</th>\n",
       "      <th>IsProfileSuspended</th>\n",
       "      <th>OpenDate</th>\n",
       "      <th>BirthDate</th>\n",
       "      <th>Age</th>\n",
       "      <th>...</th>\n",
       "      <th>SectorName_ConsumerServices</th>\n",
       "      <th>SectorName_Utilities</th>\n",
       "      <th>SectorName_PharmaceuticalIndustries</th>\n",
       "      <th>OrderRate_Start</th>\n",
       "      <th>OrderRate_End</th>\n",
       "      <th>QuantityOrderedRate_Start</th>\n",
       "      <th>QuantityOrderedRate_End</th>\n",
       "      <th>AvgQuantityPerOrder_Start</th>\n",
       "      <th>AvgQuantityPerOrder_End</th>\n",
       "      <th>ExecutedQuantityRatio</th>\n",
       "    </tr>\n",
       "  </thead>\n",
       "  <tbody>\n",
       "    <tr>\n",
       "      <th>0</th>\n",
       "      <td>0</td>\n",
       "      <td>0</td>\n",
       "      <td>Male</td>\n",
       "      <td>Low</td>\n",
       "      <td>0</td>\n",
       "      <td>0.0</td>\n",
       "      <td>0</td>\n",
       "      <td>2014-02-16</td>\n",
       "      <td>1990-07-27</td>\n",
       "      <td>33</td>\n",
       "      <td>...</td>\n",
       "      <td>0.0</td>\n",
       "      <td>0.0</td>\n",
       "      <td>0.0</td>\n",
       "      <td>0.0</td>\n",
       "      <td>0.000000</td>\n",
       "      <td>0.0</td>\n",
       "      <td>0.000000</td>\n",
       "      <td>0.0</td>\n",
       "      <td>0.000000</td>\n",
       "      <td>1.000000</td>\n",
       "    </tr>\n",
       "    <tr>\n",
       "      <th>1</th>\n",
       "      <td>1</td>\n",
       "      <td>1</td>\n",
       "      <td>Female</td>\n",
       "      <td>Low</td>\n",
       "      <td>0</td>\n",
       "      <td>-1.0</td>\n",
       "      <td>1</td>\n",
       "      <td>2014-02-16</td>\n",
       "      <td>1963-10-22</td>\n",
       "      <td>60</td>\n",
       "      <td>...</td>\n",
       "      <td>0.0</td>\n",
       "      <td>0.0</td>\n",
       "      <td>0.0</td>\n",
       "      <td>0.0</td>\n",
       "      <td>0.000000</td>\n",
       "      <td>0.0</td>\n",
       "      <td>0.000000</td>\n",
       "      <td>0.0</td>\n",
       "      <td>0.000000</td>\n",
       "      <td>1.000000</td>\n",
       "    </tr>\n",
       "    <tr>\n",
       "      <th>2</th>\n",
       "      <td>2</td>\n",
       "      <td>2</td>\n",
       "      <td>Male</td>\n",
       "      <td>Low</td>\n",
       "      <td>0</td>\n",
       "      <td>0.0</td>\n",
       "      <td>0</td>\n",
       "      <td>2014-02-17</td>\n",
       "      <td>1971-05-14</td>\n",
       "      <td>53</td>\n",
       "      <td>...</td>\n",
       "      <td>0.0</td>\n",
       "      <td>0.0</td>\n",
       "      <td>0.0</td>\n",
       "      <td>0.0</td>\n",
       "      <td>0.011064</td>\n",
       "      <td>0.0</td>\n",
       "      <td>72.389357</td>\n",
       "      <td>0.0</td>\n",
       "      <td>6542.619048</td>\n",
       "      <td>0.901743</td>\n",
       "    </tr>\n",
       "    <tr>\n",
       "      <th>3</th>\n",
       "      <td>3</td>\n",
       "      <td>3</td>\n",
       "      <td>Male</td>\n",
       "      <td>Low</td>\n",
       "      <td>0</td>\n",
       "      <td>0.0</td>\n",
       "      <td>0</td>\n",
       "      <td>2014-02-17</td>\n",
       "      <td>1953-01-14</td>\n",
       "      <td>71</td>\n",
       "      <td>...</td>\n",
       "      <td>0.0</td>\n",
       "      <td>0.0</td>\n",
       "      <td>0.0</td>\n",
       "      <td>0.0</td>\n",
       "      <td>0.045838</td>\n",
       "      <td>0.0</td>\n",
       "      <td>478.650158</td>\n",
       "      <td>0.0</td>\n",
       "      <td>10442.275862</td>\n",
       "      <td>0.751298</td>\n",
       "    </tr>\n",
       "    <tr>\n",
       "      <th>4</th>\n",
       "      <td>4</td>\n",
       "      <td>4</td>\n",
       "      <td>Male</td>\n",
       "      <td>Low</td>\n",
       "      <td>0</td>\n",
       "      <td>0.0</td>\n",
       "      <td>0</td>\n",
       "      <td>2014-02-17</td>\n",
       "      <td>1976-06-09</td>\n",
       "      <td>48</td>\n",
       "      <td>...</td>\n",
       "      <td>0.0</td>\n",
       "      <td>0.0</td>\n",
       "      <td>0.0</td>\n",
       "      <td>0.0</td>\n",
       "      <td>0.015806</td>\n",
       "      <td>0.0</td>\n",
       "      <td>313.463119</td>\n",
       "      <td>0.0</td>\n",
       "      <td>19831.766667</td>\n",
       "      <td>0.599520</td>\n",
       "    </tr>\n",
       "  </tbody>\n",
       "</table>\n",
       "<p>5 rows × 52 columns</p>\n",
       "</div>"
      ],
      "text/plain": [
       "   ClientID  AccountID  Gender RiskRate  IsClosed  IsDormant  \\\n",
       "0         0          0    Male      Low         0        0.0   \n",
       "1         1          1  Female      Low         0       -1.0   \n",
       "2         2          2    Male      Low         0        0.0   \n",
       "3         3          3    Male      Low         0        0.0   \n",
       "4         4          4    Male      Low         0        0.0   \n",
       "\n",
       "   IsProfileSuspended   OpenDate  BirthDate  Age  ...  \\\n",
       "0                   0 2014-02-16 1990-07-27   33  ...   \n",
       "1                   1 2014-02-16 1963-10-22   60  ...   \n",
       "2                   0 2014-02-17 1971-05-14   53  ...   \n",
       "3                   0 2014-02-17 1953-01-14   71  ...   \n",
       "4                   0 2014-02-17 1976-06-09   48  ...   \n",
       "\n",
       "   SectorName_ConsumerServices SectorName_Utilities  \\\n",
       "0                          0.0                  0.0   \n",
       "1                          0.0                  0.0   \n",
       "2                          0.0                  0.0   \n",
       "3                          0.0                  0.0   \n",
       "4                          0.0                  0.0   \n",
       "\n",
       "  SectorName_PharmaceuticalIndustries  OrderRate_Start  OrderRate_End  \\\n",
       "0                                 0.0              0.0       0.000000   \n",
       "1                                 0.0              0.0       0.000000   \n",
       "2                                 0.0              0.0       0.011064   \n",
       "3                                 0.0              0.0       0.045838   \n",
       "4                                 0.0              0.0       0.015806   \n",
       "\n",
       "   QuantityOrderedRate_Start  QuantityOrderedRate_End  \\\n",
       "0                        0.0                 0.000000   \n",
       "1                        0.0                 0.000000   \n",
       "2                        0.0                72.389357   \n",
       "3                        0.0               478.650158   \n",
       "4                        0.0               313.463119   \n",
       "\n",
       "   AvgQuantityPerOrder_Start  AvgQuantityPerOrder_End  ExecutedQuantityRatio  \n",
       "0                        0.0                 0.000000               1.000000  \n",
       "1                        0.0                 0.000000               1.000000  \n",
       "2                        0.0              6542.619048               0.901743  \n",
       "3                        0.0             10442.275862               0.751298  \n",
       "4                        0.0             19831.766667               0.599520  \n",
       "\n",
       "[5 rows x 52 columns]"
      ]
     },
     "execution_count": 50,
     "metadata": {},
     "output_type": "execute_result"
    }
   ],
   "source": [
    "df_account_level.head()"
   ]
  },
  {
   "cell_type": "markdown",
   "metadata": {},
   "source": [
    "Display the info of the dataframe\n"
   ]
  },
  {
   "cell_type": "code",
   "execution_count": 51,
   "metadata": {},
   "outputs": [
    {
     "name": "stdout",
     "output_type": "stream",
     "text": [
      "<class 'pandas.core.frame.DataFrame'>\n",
      "RangeIndex: 11222 entries, 0 to 11221\n",
      "Data columns (total 52 columns):\n",
      " #   Column                                Non-Null Count  Dtype         \n",
      "---  ------                                --------------  -----         \n",
      " 0   ClientID                              11222 non-null  int64         \n",
      " 1   AccountID                             11222 non-null  int64         \n",
      " 2   Gender                                11222 non-null  object        \n",
      " 3   RiskRate                              11222 non-null  object        \n",
      " 4   IsClosed                              11222 non-null  int64         \n",
      " 5   IsDormant                             11222 non-null  float64       \n",
      " 6   IsProfileSuspended                    11222 non-null  int64         \n",
      " 7   OpenDate                              11222 non-null  datetime64[ns]\n",
      " 8   BirthDate                             11222 non-null  datetime64[ns]\n",
      " 9   Age                                   11222 non-null  int64         \n",
      " 10  NumOfOrders                           11222 non-null  int64         \n",
      " 11  LastOrder                             5463 non-null   datetime64[ns]\n",
      " 12  FirstOrder                            5463 non-null   datetime64[ns]\n",
      " 13  NumOfCompleted                        11222 non-null  int64         \n",
      " 14  NumOfCanceled                         11222 non-null  int64         \n",
      " 15  AvgPrice                              11222 non-null  float64       \n",
      " 16  TotalExecutedQuantity                 11222 non-null  int64         \n",
      " 17  TotalQuantity                         11222 non-null  int64         \n",
      " 18  OrderType_Buy                         11222 non-null  float64       \n",
      " 19  OrderType_Sell                        11222 non-null  float64       \n",
      " 20  ExecutionStatus_Executed              11222 non-null  float64       \n",
      " 21  ExecutionStatus_NotExecuted           11222 non-null  float64       \n",
      " 22  ExecutionStatus_PartiallyExecuted     11222 non-null  float64       \n",
      " 23  SectorName_RealEstate                 11222 non-null  float64       \n",
      " 24  SectorName_Financials                 11222 non-null  float64       \n",
      " 25  SectorName_Materials                  11222 non-null  float64       \n",
      " 26  SectorName_ConsumerDiscretionary      11222 non-null  float64       \n",
      " 27  SectorName_Industries                 11222 non-null  float64       \n",
      " 28  SectorName_HealthCare                 11222 non-null  float64       \n",
      " 29  SectorName_InformationTechnology      11222 non-null  float64       \n",
      " 30  SectorName_ConsumerStaples            11222 non-null  float64       \n",
      " 31  SectorName_INDUSTRIAL                 11222 non-null  float64       \n",
      " 32  SectorName_SERVICES                   11222 non-null  float64       \n",
      " 33  SectorName_Energy                     11222 non-null  float64       \n",
      " 34  SectorName_BasicMaterials             11222 non-null  float64       \n",
      " 35  SectorName_INVESTMENT                 11222 non-null  float64       \n",
      " 36  SectorName_TelecommunicationServices  11222 non-null  float64       \n",
      " 37  SectorName_REALESTATE                 11222 non-null  float64       \n",
      " 38  SectorName_Telecommunications         11222 non-null  float64       \n",
      " 39  SectorName_FOOD                       11222 non-null  float64       \n",
      " 40  SectorName_Others                     11222 non-null  float64       \n",
      " 41  SectorName_Tourism                    11222 non-null  float64       \n",
      " 42  SectorName_ConsumerServices           11222 non-null  float64       \n",
      " 43  SectorName_Utilities                  11222 non-null  float64       \n",
      " 44  SectorName_PharmaceuticalIndustries   11222 non-null  float64       \n",
      " 45  OrderRate_Start                       11222 non-null  float64       \n",
      " 46  OrderRate_End                         11222 non-null  float64       \n",
      " 47  QuantityOrderedRate_Start             11222 non-null  float64       \n",
      " 48  QuantityOrderedRate_End               11222 non-null  float64       \n",
      " 49  AvgQuantityPerOrder_Start             11222 non-null  float64       \n",
      " 50  AvgQuantityPerOrder_End               11222 non-null  float64       \n",
      " 51  ExecutedQuantityRatio                 11222 non-null  float64       \n",
      "dtypes: datetime64[ns](4), float64(36), int64(10), object(2)\n",
      "memory usage: 4.5+ MB\n"
     ]
    }
   ],
   "source": [
    "df_account_level.info(verbose=True)"
   ]
  },
  {
   "cell_type": "code",
   "execution_count": 52,
   "metadata": {},
   "outputs": [
    {
     "data": {
      "text/plain": [
       "8790"
      ]
     },
     "execution_count": 52,
     "metadata": {},
     "output_type": "execute_result"
    }
   ],
   "source": [
    "len(df_account_level[\"ClientID\"].unique())"
   ]
  },
  {
   "cell_type": "markdown",
   "metadata": {},
   "source": [
    "## Client Level Dataset\n"
   ]
  },
  {
   "cell_type": "code",
   "execution_count": 53,
   "metadata": {},
   "outputs": [],
   "source": [
    "df = pd.DataFrame()"
   ]
  },
  {
   "cell_type": "code",
   "execution_count": 54,
   "metadata": {},
   "outputs": [],
   "source": [
    "# Create a new DataFrame with ClientID and corresponding account count\n",
    "df = pd.DataFrame(\n",
    "    {\n",
    "        \"ClientID\": df_account_level.groupby(\"ClientID\")[\"AccountID\"].nunique().index,\n",
    "    }\n",
    ")"
   ]
  },
  {
   "cell_type": "code",
   "execution_count": 55,
   "metadata": {},
   "outputs": [],
   "source": [
    "df[\"Gender\"] = (df_account_level.groupby(\"ClientID\")[\"Gender\"].first().reset_index())[\n",
    "    \"Gender\"\n",
    "]\n",
    "df[\"Age\"] = (df_account_level.groupby(\"ClientID\")[\"Age\"].first().reset_index())[\"Age\"]\n",
    "\n",
    "df[\"RiskRate\"] = (\n",
    "    df_account_level.groupby(\"ClientID\")[\"RiskRate\"].first().reset_index()\n",
    ")[\"RiskRate\"]"
   ]
  },
  {
   "cell_type": "code",
   "execution_count": 56,
   "metadata": {},
   "outputs": [],
   "source": [
    "df[\"NumOfAccounts\"] = df_account_level.groupby(\"ClientID\").size().values"
   ]
  },
  {
   "cell_type": "code",
   "execution_count": 57,
   "metadata": {},
   "outputs": [],
   "source": [
    "df[\"NumOfClosedAccounts\"] = (\n",
    "    df_account_level.groupby(\"ClientID\")[\"IsClosed\"].sum().values\n",
    ")"
   ]
  },
  {
   "cell_type": "code",
   "execution_count": 58,
   "metadata": {},
   "outputs": [],
   "source": [
    "df[\"NumOfSuspendedAccounts\"] = (\n",
    "    df_account_level.groupby(\"ClientID\")[\"IsProfileSuspended\"].sum().values\n",
    ")"
   ]
  },
  {
   "cell_type": "code",
   "execution_count": 59,
   "metadata": {},
   "outputs": [],
   "source": [
    "df[\"NumOfOrders\"] = df_account_level.groupby(\"ClientID\")[\"NumOfOrders\"].sum().values"
   ]
  },
  {
   "cell_type": "code",
   "execution_count": 60,
   "metadata": {},
   "outputs": [],
   "source": [
    "df[\"NumOfCompletedOrders\"] = (\n",
    "    df_account_level.groupby(\"ClientID\")[\"NumOfCompleted\"].sum().values\n",
    ")"
   ]
  },
  {
   "cell_type": "code",
   "execution_count": 61,
   "metadata": {},
   "outputs": [],
   "source": [
    "df[\"NumOfCanceledOrders\"] = (\n",
    "    df_account_level.groupby(\"ClientID\")[\"NumOfCanceled\"].sum().values\n",
    ")"
   ]
  },
  {
   "cell_type": "code",
   "execution_count": 62,
   "metadata": {},
   "outputs": [],
   "source": [
    "df[\"CompletedOrdersRatio\"] = df.apply(\n",
    "    lambda row: (\n",
    "        1\n",
    "        if row[\"NumOfOrders\"] == 0\n",
    "        else row[\"NumOfCompletedOrders\"] / row[\"NumOfOrders\"]\n",
    "    ),\n",
    "    axis=1,\n",
    ")"
   ]
  },
  {
   "cell_type": "code",
   "execution_count": 63,
   "metadata": {},
   "outputs": [],
   "source": [
    "df[\"CanceledOrdersRatio\"] = df.apply(\n",
    "    lambda row: (\n",
    "        1\n",
    "        if row[\"NumOfOrders\"] == 0\n",
    "        else row[\"NumOfCanceledOrders\"] / row[\"NumOfOrders\"]\n",
    "    ),\n",
    "    axis=1,\n",
    ")"
   ]
  },
  {
   "cell_type": "code",
   "execution_count": 64,
   "metadata": {},
   "outputs": [],
   "source": [
    "df[\"TotalExecutedQuantity\"] = (\n",
    "    df_account_level.groupby(\"ClientID\")[\"TotalExecutedQuantity\"].sum().values\n",
    ")"
   ]
  },
  {
   "cell_type": "code",
   "execution_count": 65,
   "metadata": {},
   "outputs": [],
   "source": [
    "df[\"TotalQuantity\"] = df_account_level.groupby(\"ClientID\")[\"TotalQuantity\"].sum().values"
   ]
  },
  {
   "cell_type": "code",
   "execution_count": 66,
   "metadata": {},
   "outputs": [],
   "source": [
    "df[\"AvgPrice\"] = (\n",
    "    df_account_level.groupby(\"ClientID\")[\"AvgPrice\"].sum()\n",
    "    / df_account_level.groupby(\"ClientID\").size()\n",
    ").values"
   ]
  },
  {
   "cell_type": "code",
   "execution_count": 67,
   "metadata": {},
   "outputs": [],
   "source": [
    "agg_dict = {}\n",
    "\n",
    "for col in df_account_level.columns:\n",
    "    if \"OrderType\" in col or \"ExecutionStatus\" in col or \"SectorName\" in col:\n",
    "        agg_dict[col] = (\n",
    "            df_account_level.groupby(\"ClientID\")[col].sum()\n",
    "            / df_account_level.groupby(\"ClientID\").size()\n",
    "        ).values\n",
    "\n",
    "df = pd.concat([df, pd.DataFrame(agg_dict)], axis=1)"
   ]
  },
  {
   "cell_type": "code",
   "execution_count": 68,
   "metadata": {},
   "outputs": [],
   "source": [
    "df[\"LastOrderDateAcrossAccounts\"] = (\n",
    "    df_account_level.groupby(\"ClientID\")[\"LastOrder\"].max().values\n",
    ")\n",
    "\n",
    "df[\"LastOrderDateAcrossAccounts\"] = pd.to_datetime(\n",
    "    df[\"LastOrderDateAcrossAccounts\"].dt.date\n",
    ")"
   ]
  },
  {
   "cell_type": "markdown",
   "metadata": {},
   "source": [
    "Define a function so that we can compute if the account is dormant or not.\n",
    "\n",
    "If the account has not placed any order, we set the Is Dormant value to -1, so that we can isolate the accounts who have not placed any orders.\n"
   ]
  },
  {
   "cell_type": "code",
   "execution_count": 69,
   "metadata": {},
   "outputs": [],
   "source": [
    "def check_dormant(date):\n",
    "    one_year_before_now = datetime.now() - timedelta(days=183)\n",
    "\n",
    "    if date < one_year_before_now:\n",
    "        return 1\n",
    "    else:\n",
    "        return 0"
   ]
  },
  {
   "cell_type": "markdown",
   "metadata": {},
   "source": [
    "Recompute the Is Dormant column\n"
   ]
  },
  {
   "cell_type": "code",
   "execution_count": 70,
   "metadata": {},
   "outputs": [],
   "source": [
    "df[\"IsDormant\"] = df[\"LastOrderDateAcrossAccounts\"].apply(check_dormant)"
   ]
  },
  {
   "cell_type": "code",
   "execution_count": 71,
   "metadata": {},
   "outputs": [],
   "source": [
    "df[\"AvgOrderRate_Start\"] = (\n",
    "    df_account_level.groupby(\"ClientID\")[\"OrderRate_Start\"].mean().values\n",
    ")"
   ]
  },
  {
   "cell_type": "code",
   "execution_count": 72,
   "metadata": {},
   "outputs": [],
   "source": [
    "df[\"AvgOrderRate_End\"] = (\n",
    "    df_account_level.groupby(\"ClientID\")[\"OrderRate_End\"].mean().values\n",
    ")"
   ]
  },
  {
   "cell_type": "code",
   "execution_count": 73,
   "metadata": {},
   "outputs": [],
   "source": [
    "df[\"AvgOrderRate_Difference\"] = df[\"AvgOrderRate_End\"] - df[\"AvgOrderRate_Start\"]"
   ]
  },
  {
   "cell_type": "code",
   "execution_count": 74,
   "metadata": {},
   "outputs": [],
   "source": [
    "df[\"AvgQuantityOrderedRate_Start\"] = (\n",
    "    df_account_level.groupby(\"ClientID\")[\"QuantityOrderedRate_Start\"].mean().values\n",
    ")"
   ]
  },
  {
   "cell_type": "code",
   "execution_count": 75,
   "metadata": {},
   "outputs": [],
   "source": [
    "df[\"AvgQuantityOrderedRate_End\"] = (\n",
    "    df_account_level.groupby(\"ClientID\")[\"QuantityOrderedRate_End\"].mean().values\n",
    ")"
   ]
  },
  {
   "cell_type": "code",
   "execution_count": 76,
   "metadata": {},
   "outputs": [],
   "source": [
    "df[\"AvgQuantityOrderedRate_Difference\"] = (\n",
    "    df[\"AvgQuantityOrderedRate_End\"] - df[\"AvgQuantityOrderedRate_Start\"]\n",
    ")"
   ]
  },
  {
   "cell_type": "code",
   "execution_count": 77,
   "metadata": {},
   "outputs": [],
   "source": [
    "df[\"AvgQuantityPerAccount_Start\"] = (\n",
    "    df_account_level.groupby(\"ClientID\")[\"AvgQuantityPerOrder_Start\"].mean().values\n",
    ")"
   ]
  },
  {
   "cell_type": "code",
   "execution_count": 78,
   "metadata": {},
   "outputs": [],
   "source": [
    "df[\"AvgQuantityPerAccount_End\"] = (\n",
    "    df_account_level.groupby(\"ClientID\")[\"AvgQuantityPerOrder_End\"].mean().values\n",
    ")"
   ]
  },
  {
   "cell_type": "code",
   "execution_count": 79,
   "metadata": {},
   "outputs": [],
   "source": [
    "df[\"AvgQuantityPerAccount_Difference\"] = (\n",
    "    df[\"AvgQuantityPerAccount_End\"] - df[\"AvgQuantityPerAccount_Start\"]\n",
    ")"
   ]
  },
  {
   "cell_type": "code",
   "execution_count": 80,
   "metadata": {},
   "outputs": [],
   "source": [
    "df[\"AvgExecutedQuantityRatio\"] = (\n",
    "    df_account_level.groupby(\"ClientID\")[\"ExecutedQuantityRatio\"].mean().values\n",
    ")"
   ]
  },
  {
   "cell_type": "code",
   "execution_count": 81,
   "metadata": {},
   "outputs": [],
   "source": [
    "df[\"ClosedAccountsRatio\"] = df[\"NumOfClosedAccounts\"] / df[\"NumOfAccounts\"]"
   ]
  },
  {
   "cell_type": "code",
   "execution_count": 82,
   "metadata": {},
   "outputs": [],
   "source": [
    "df[\"SuspendedAccountsRatio\"] = df[\"NumOfSuspendedAccounts\"] / df[\"NumOfAccounts\"]"
   ]
  },
  {
   "cell_type": "markdown",
   "metadata": {},
   "source": [
    "Drop clients who have 0 orders\n"
   ]
  },
  {
   "cell_type": "code",
   "execution_count": 83,
   "metadata": {},
   "outputs": [],
   "source": [
    "df = df[df[\"NumOfOrders\"] > 0]"
   ]
  },
  {
   "cell_type": "code",
   "execution_count": 84,
   "metadata": {},
   "outputs": [],
   "source": [
    "# df.drop(\n",
    "#     columns=[\n",
    "#         \"TotalExecutedQuantity\",\n",
    "#         \"TotalQuantity\",\n",
    "#         \"LastOrderDateAcrossAccounts\",\n",
    "#         \"AvgOrderRate_Start\",\n",
    "#         \"AvgOrderRate_End\",\n",
    "#         \"AvgQuantityOrderedRate_Start\",\n",
    "#         \"AvgQuantityOrderedRate_End\",\n",
    "#         \"AvgQuantityPerAccount_Start\",\n",
    "#         \"AvgQuantityPerAccount_End\",\n",
    "#         \"AvgQuantityPerAccount_Difference\",\n",
    "#         \"NumOfClosedAccounts\",\n",
    "#         \"NumOfAccounts\",\n",
    "#         \"NumOfSuspendedAccounts\",\n",
    "#         \"NumOfOrders\",\n",
    "#         \"NumOfCompletedOrders\",\n",
    "#         \"NumOfCanceledOrders\",\n",
    "#     ],\n",
    "#     inplace=True,\n",
    "# )"
   ]
  },
  {
   "cell_type": "code",
   "execution_count": 85,
   "metadata": {},
   "outputs": [
    {
     "data": {
      "text/html": [
       "<div>\n",
       "<style scoped>\n",
       "    .dataframe tbody tr th:only-of-type {\n",
       "        vertical-align: middle;\n",
       "    }\n",
       "\n",
       "    .dataframe tbody tr th {\n",
       "        vertical-align: top;\n",
       "    }\n",
       "\n",
       "    .dataframe thead th {\n",
       "        text-align: right;\n",
       "    }\n",
       "</style>\n",
       "<table border=\"1\" class=\"dataframe\">\n",
       "  <thead>\n",
       "    <tr style=\"text-align: right;\">\n",
       "      <th></th>\n",
       "      <th>ClientID</th>\n",
       "      <th>Gender</th>\n",
       "      <th>Age</th>\n",
       "      <th>RiskRate</th>\n",
       "      <th>NumOfAccounts</th>\n",
       "      <th>NumOfClosedAccounts</th>\n",
       "      <th>NumOfSuspendedAccounts</th>\n",
       "      <th>NumOfOrders</th>\n",
       "      <th>NumOfCompletedOrders</th>\n",
       "      <th>NumOfCanceledOrders</th>\n",
       "      <th>...</th>\n",
       "      <th>AvgOrderRate_Difference</th>\n",
       "      <th>AvgQuantityOrderedRate_Start</th>\n",
       "      <th>AvgQuantityOrderedRate_End</th>\n",
       "      <th>AvgQuantityOrderedRate_Difference</th>\n",
       "      <th>AvgQuantityPerAccount_Start</th>\n",
       "      <th>AvgQuantityPerAccount_End</th>\n",
       "      <th>AvgQuantityPerAccount_Difference</th>\n",
       "      <th>AvgExecutedQuantityRatio</th>\n",
       "      <th>ClosedAccountsRatio</th>\n",
       "      <th>SuspendedAccountsRatio</th>\n",
       "    </tr>\n",
       "  </thead>\n",
       "  <tbody>\n",
       "    <tr>\n",
       "      <th>2</th>\n",
       "      <td>2</td>\n",
       "      <td>Male</td>\n",
       "      <td>53</td>\n",
       "      <td>Low</td>\n",
       "      <td>1</td>\n",
       "      <td>0</td>\n",
       "      <td>0</td>\n",
       "      <td>21</td>\n",
       "      <td>17</td>\n",
       "      <td>2</td>\n",
       "      <td>...</td>\n",
       "      <td>0.011064</td>\n",
       "      <td>0.00</td>\n",
       "      <td>72.389357</td>\n",
       "      <td>72.389357</td>\n",
       "      <td>0.00</td>\n",
       "      <td>6542.619048</td>\n",
       "      <td>6542.619048</td>\n",
       "      <td>0.901743</td>\n",
       "      <td>0.0</td>\n",
       "      <td>0.0</td>\n",
       "    </tr>\n",
       "    <tr>\n",
       "      <th>3</th>\n",
       "      <td>3</td>\n",
       "      <td>Male</td>\n",
       "      <td>71</td>\n",
       "      <td>Low</td>\n",
       "      <td>1</td>\n",
       "      <td>0</td>\n",
       "      <td>0</td>\n",
       "      <td>87</td>\n",
       "      <td>64</td>\n",
       "      <td>11</td>\n",
       "      <td>...</td>\n",
       "      <td>0.045838</td>\n",
       "      <td>0.00</td>\n",
       "      <td>478.650158</td>\n",
       "      <td>478.650158</td>\n",
       "      <td>0.00</td>\n",
       "      <td>10442.275862</td>\n",
       "      <td>10442.275862</td>\n",
       "      <td>0.751298</td>\n",
       "      <td>0.0</td>\n",
       "      <td>0.0</td>\n",
       "    </tr>\n",
       "    <tr>\n",
       "      <th>4</th>\n",
       "      <td>4</td>\n",
       "      <td>Male</td>\n",
       "      <td>48</td>\n",
       "      <td>Low</td>\n",
       "      <td>2</td>\n",
       "      <td>0</td>\n",
       "      <td>0</td>\n",
       "      <td>30</td>\n",
       "      <td>8</td>\n",
       "      <td>10</td>\n",
       "      <td>...</td>\n",
       "      <td>0.008954</td>\n",
       "      <td>0.00</td>\n",
       "      <td>166.156078</td>\n",
       "      <td>166.156078</td>\n",
       "      <td>0.00</td>\n",
       "      <td>14400.383333</td>\n",
       "      <td>14400.383333</td>\n",
       "      <td>0.799760</td>\n",
       "      <td>0.0</td>\n",
       "      <td>0.0</td>\n",
       "    </tr>\n",
       "    <tr>\n",
       "      <th>7</th>\n",
       "      <td>7</td>\n",
       "      <td>Male</td>\n",
       "      <td>70</td>\n",
       "      <td>Not Assigned</td>\n",
       "      <td>1</td>\n",
       "      <td>0</td>\n",
       "      <td>0</td>\n",
       "      <td>28</td>\n",
       "      <td>19</td>\n",
       "      <td>6</td>\n",
       "      <td>...</td>\n",
       "      <td>-0.333333</td>\n",
       "      <td>348.25</td>\n",
       "      <td>0.000000</td>\n",
       "      <td>-348.250000</td>\n",
       "      <td>1044.75</td>\n",
       "      <td>0.000000</td>\n",
       "      <td>-1044.750000</td>\n",
       "      <td>0.632585</td>\n",
       "      <td>0.0</td>\n",
       "      <td>0.0</td>\n",
       "    </tr>\n",
       "    <tr>\n",
       "      <th>8</th>\n",
       "      <td>8</td>\n",
       "      <td>Male</td>\n",
       "      <td>38</td>\n",
       "      <td>Medium</td>\n",
       "      <td>3</td>\n",
       "      <td>0</td>\n",
       "      <td>0</td>\n",
       "      <td>65</td>\n",
       "      <td>35</td>\n",
       "      <td>7</td>\n",
       "      <td>...</td>\n",
       "      <td>0.000000</td>\n",
       "      <td>0.00</td>\n",
       "      <td>0.000000</td>\n",
       "      <td>0.000000</td>\n",
       "      <td>0.00</td>\n",
       "      <td>0.000000</td>\n",
       "      <td>0.000000</td>\n",
       "      <td>0.858656</td>\n",
       "      <td>0.0</td>\n",
       "      <td>0.0</td>\n",
       "    </tr>\n",
       "  </tbody>\n",
       "</table>\n",
       "<p>5 rows × 56 columns</p>\n",
       "</div>"
      ],
      "text/plain": [
       "   ClientID Gender  Age      RiskRate  NumOfAccounts  NumOfClosedAccounts  \\\n",
       "2         2   Male   53           Low              1                    0   \n",
       "3         3   Male   71           Low              1                    0   \n",
       "4         4   Male   48           Low              2                    0   \n",
       "7         7   Male   70  Not Assigned              1                    0   \n",
       "8         8   Male   38        Medium              3                    0   \n",
       "\n",
       "   NumOfSuspendedAccounts  NumOfOrders  NumOfCompletedOrders  \\\n",
       "2                       0           21                    17   \n",
       "3                       0           87                    64   \n",
       "4                       0           30                     8   \n",
       "7                       0           28                    19   \n",
       "8                       0           65                    35   \n",
       "\n",
       "   NumOfCanceledOrders  ...  AvgOrderRate_Difference  \\\n",
       "2                    2  ...                 0.011064   \n",
       "3                   11  ...                 0.045838   \n",
       "4                   10  ...                 0.008954   \n",
       "7                    6  ...                -0.333333   \n",
       "8                    7  ...                 0.000000   \n",
       "\n",
       "   AvgQuantityOrderedRate_Start  AvgQuantityOrderedRate_End  \\\n",
       "2                          0.00                   72.389357   \n",
       "3                          0.00                  478.650158   \n",
       "4                          0.00                  166.156078   \n",
       "7                        348.25                    0.000000   \n",
       "8                          0.00                    0.000000   \n",
       "\n",
       "   AvgQuantityOrderedRate_Difference  AvgQuantityPerAccount_Start  \\\n",
       "2                          72.389357                         0.00   \n",
       "3                         478.650158                         0.00   \n",
       "4                         166.156078                         0.00   \n",
       "7                        -348.250000                      1044.75   \n",
       "8                           0.000000                         0.00   \n",
       "\n",
       "   AvgQuantityPerAccount_End  AvgQuantityPerAccount_Difference  \\\n",
       "2                6542.619048                       6542.619048   \n",
       "3               10442.275862                      10442.275862   \n",
       "4               14400.383333                      14400.383333   \n",
       "7                   0.000000                      -1044.750000   \n",
       "8                   0.000000                          0.000000   \n",
       "\n",
       "   AvgExecutedQuantityRatio  ClosedAccountsRatio  SuspendedAccountsRatio  \n",
       "2                  0.901743                  0.0                     0.0  \n",
       "3                  0.751298                  0.0                     0.0  \n",
       "4                  0.799760                  0.0                     0.0  \n",
       "7                  0.632585                  0.0                     0.0  \n",
       "8                  0.858656                  0.0                     0.0  \n",
       "\n",
       "[5 rows x 56 columns]"
      ]
     },
     "execution_count": 85,
     "metadata": {},
     "output_type": "execute_result"
    }
   ],
   "source": [
    "df.head()"
   ]
  },
  {
   "cell_type": "code",
   "execution_count": 86,
   "metadata": {},
   "outputs": [
    {
     "name": "stdout",
     "output_type": "stream",
     "text": [
      "<class 'pandas.core.frame.DataFrame'>\n",
      "Index: 4826 entries, 2 to 8788\n",
      "Data columns (total 56 columns):\n",
      " #   Column                                Non-Null Count  Dtype         \n",
      "---  ------                                --------------  -----         \n",
      " 0   ClientID                              4826 non-null   int64         \n",
      " 1   Gender                                4826 non-null   object        \n",
      " 2   Age                                   4826 non-null   int64         \n",
      " 3   RiskRate                              4826 non-null   object        \n",
      " 4   NumOfAccounts                         4826 non-null   int64         \n",
      " 5   NumOfClosedAccounts                   4826 non-null   int64         \n",
      " 6   NumOfSuspendedAccounts                4826 non-null   int64         \n",
      " 7   NumOfOrders                           4826 non-null   int64         \n",
      " 8   NumOfCompletedOrders                  4826 non-null   int64         \n",
      " 9   NumOfCanceledOrders                   4826 non-null   int64         \n",
      " 10  CompletedOrdersRatio                  4826 non-null   float64       \n",
      " 11  CanceledOrdersRatio                   4826 non-null   float64       \n",
      " 12  TotalExecutedQuantity                 4826 non-null   int64         \n",
      " 13  TotalQuantity                         4826 non-null   int64         \n",
      " 14  AvgPrice                              4826 non-null   float64       \n",
      " 15  OrderType_Buy                         4826 non-null   float64       \n",
      " 16  OrderType_Sell                        4826 non-null   float64       \n",
      " 17  ExecutionStatus_Executed              4826 non-null   float64       \n",
      " 18  ExecutionStatus_NotExecuted           4826 non-null   float64       \n",
      " 19  ExecutionStatus_PartiallyExecuted     4826 non-null   float64       \n",
      " 20  SectorName_RealEstate                 4826 non-null   float64       \n",
      " 21  SectorName_Financials                 4826 non-null   float64       \n",
      " 22  SectorName_Materials                  4826 non-null   float64       \n",
      " 23  SectorName_ConsumerDiscretionary      4826 non-null   float64       \n",
      " 24  SectorName_Industries                 4826 non-null   float64       \n",
      " 25  SectorName_HealthCare                 4826 non-null   float64       \n",
      " 26  SectorName_InformationTechnology      4826 non-null   float64       \n",
      " 27  SectorName_ConsumerStaples            4826 non-null   float64       \n",
      " 28  SectorName_INDUSTRIAL                 4826 non-null   float64       \n",
      " 29  SectorName_SERVICES                   4826 non-null   float64       \n",
      " 30  SectorName_Energy                     4826 non-null   float64       \n",
      " 31  SectorName_BasicMaterials             4826 non-null   float64       \n",
      " 32  SectorName_INVESTMENT                 4826 non-null   float64       \n",
      " 33  SectorName_TelecommunicationServices  4826 non-null   float64       \n",
      " 34  SectorName_REALESTATE                 4826 non-null   float64       \n",
      " 35  SectorName_Telecommunications         4826 non-null   float64       \n",
      " 36  SectorName_FOOD                       4826 non-null   float64       \n",
      " 37  SectorName_Others                     4826 non-null   float64       \n",
      " 38  SectorName_Tourism                    4826 non-null   float64       \n",
      " 39  SectorName_ConsumerServices           4826 non-null   float64       \n",
      " 40  SectorName_Utilities                  4826 non-null   float64       \n",
      " 41  SectorName_PharmaceuticalIndustries   4826 non-null   float64       \n",
      " 42  LastOrderDateAcrossAccounts           4826 non-null   datetime64[ns]\n",
      " 43  IsDormant                             4826 non-null   int64         \n",
      " 44  AvgOrderRate_Start                    4826 non-null   float64       \n",
      " 45  AvgOrderRate_End                      4826 non-null   float64       \n",
      " 46  AvgOrderRate_Difference               4826 non-null   float64       \n",
      " 47  AvgQuantityOrderedRate_Start          4826 non-null   float64       \n",
      " 48  AvgQuantityOrderedRate_End            4826 non-null   float64       \n",
      " 49  AvgQuantityOrderedRate_Difference     4826 non-null   float64       \n",
      " 50  AvgQuantityPerAccount_Start           4826 non-null   float64       \n",
      " 51  AvgQuantityPerAccount_End             4826 non-null   float64       \n",
      " 52  AvgQuantityPerAccount_Difference      4826 non-null   float64       \n",
      " 53  AvgExecutedQuantityRatio              4826 non-null   float64       \n",
      " 54  ClosedAccountsRatio                   4826 non-null   float64       \n",
      " 55  SuspendedAccountsRatio                4826 non-null   float64       \n",
      "dtypes: datetime64[ns](1), float64(42), int64(11), object(2)\n",
      "memory usage: 2.1+ MB\n"
     ]
    }
   ],
   "source": [
    "df.info(verbose=True)"
   ]
  },
  {
   "cell_type": "markdown",
   "metadata": {},
   "source": [
    "## Binning\n"
   ]
  },
  {
   "cell_type": "markdown",
   "metadata": {},
   "source": [
    "Columns to be binned:\n",
    "\n",
    "-   AvgOrderRate_Difference\n",
    "-   AvgQuantityOrderedRate_Difference\n",
    "-   CompletedOrdersRatio\n",
    "-   CanceledOrdersRatio\n",
    "-   ClosedAccountsRatio\n"
   ]
  },
  {
   "cell_type": "markdown",
   "metadata": {},
   "source": [
    "### AvgOrderRate_Difference\n"
   ]
  },
  {
   "cell_type": "code",
   "execution_count": 87,
   "metadata": {},
   "outputs": [
    {
     "name": "stdout",
     "output_type": "stream",
     "text": [
      "Difference is < 0: 1039\n",
      "Difference is 0: 1527\n",
      "Difference > 0: 2260\n"
     ]
    }
   ],
   "source": [
    "print(f\"Difference is < 0: {len(df[df[\"AvgOrderRate_Difference\"] < 0])}\")\n",
    "print(f\"Difference is 0: {len(df[df[\"AvgOrderRate_Difference\"] == 0])}\")\n",
    "print(f\"Difference > 0: {len(df[df[\"AvgOrderRate_Difference\"] > 0])}\")"
   ]
  },
  {
   "cell_type": "code",
   "execution_count": 103,
   "metadata": {},
   "outputs": [
    {
     "data": {
      "text/plain": [
       "<Axes: xlabel='AvgOrderRate_Difference', ylabel='Count'>"
      ]
     },
     "execution_count": 103,
     "metadata": {},
     "output_type": "execute_result"
    },
    {
     "data": {
      "image/png": "[encoded data removed]",
      "text/plain": [
       "<Figure size 640x480 with 1 Axes>"
      ]
     },
     "metadata": {},
     "output_type": "display_data"
    }
   ],
   "source": [
    "sns.histplot(data=df, x=\"AvgOrderRate_Difference\", log_scale=True)"
   ]
  },
  {
   "cell_type": "code",
   "execution_count": 89,
   "metadata": {},
   "outputs": [],
   "source": [
    "def bin_AvgOrderRate_Difference(value):\n",
    "    if value < 0:\n",
    "        return \"Decreased\"\n",
    "    elif value == 0:\n",
    "        return \"Constant\"\n",
    "    else:\n",
    "        return \"Increased\""
   ]
  },
  {
   "cell_type": "code",
   "execution_count": 90,
   "metadata": {},
   "outputs": [],
   "source": [
    "df[\"AvgOrderRate_Difference\"] = df[\"AvgOrderRate_Difference\"].apply(\n",
    "    bin_AvgOrderRate_Difference\n",
    ")"
   ]
  },
  {
   "cell_type": "markdown",
   "metadata": {},
   "source": [
    "### AvgQuantityOrderedRate_Difference\n"
   ]
  },
  {
   "cell_type": "code",
   "execution_count": 91,
   "metadata": {},
   "outputs": [
    {
     "name": "stdout",
     "output_type": "stream",
     "text": [
      "Difference is < 0: 1022\n",
      "Difference is 0: 1521\n",
      "Difference > 0: 2283\n"
     ]
    }
   ],
   "source": [
    "print(f\"Difference is < 0: {len(df[df[\"AvgQuantityOrderedRate_Difference\"] < 0])}\")\n",
    "print(f\"Difference is 0: {len(df[df[\"AvgQuantityOrderedRate_Difference\"] == 0])}\")\n",
    "print(f\"Difference > 0: {len(df[df[\"AvgQuantityOrderedRate_Difference\"] > 0])}\")"
   ]
  },
  {
   "cell_type": "code",
   "execution_count": 92,
   "metadata": {},
   "outputs": [
    {
     "data": {
      "text/plain": [
       "<Axes: xlabel='AvgQuantityOrderedRate_Difference', ylabel='Count'>"
      ]
     },
     "execution_count": 92,
     "metadata": {},
     "output_type": "execute_result"
    },
    {
     "data": {
      "image/png": "[encoded data removed]",
      "text/plain": [
       "<Figure size 640x480 with 1 Axes>"
      ]
     },
     "metadata": {},
     "output_type": "display_data"
    }
   ],
   "source": [
    "sns.histplot(data=df, x=\"AvgQuantityOrderedRate_Difference\", log_scale=True)"
   ]
  },
  {
   "cell_type": "code",
   "execution_count": 93,
   "metadata": {},
   "outputs": [],
   "source": [
    "def bin_AvgQuantityOrderedRate_Difference(value):\n",
    "    if value < 0:\n",
    "        return \"Lower\"\n",
    "    elif value == 0:\n",
    "        return \"Constant\"\n",
    "    else:\n",
    "        return \"Higher\""
   ]
  },
  {
   "cell_type": "code",
   "execution_count": 94,
   "metadata": {},
   "outputs": [],
   "source": [
    "df[\"AvgQuantityOrderedRate_Difference\"] = df[\"AvgQuantityOrderedRate_Difference\"].apply(\n",
    "    bin_AvgQuantityOrderedRate_Difference\n",
    ")"
   ]
  },
  {
   "cell_type": "markdown",
   "metadata": {},
   "source": [
    "### CompletedOrdersRatio\n"
   ]
  },
  {
   "cell_type": "code",
   "execution_count": 95,
   "metadata": {},
   "outputs": [
    {
     "data": {
      "text/plain": [
       "<Axes: xlabel='CompletedOrdersRatio', ylabel='Count'>"
      ]
     },
     "execution_count": 95,
     "metadata": {},
     "output_type": "execute_result"
    },
    {
     "data": {
      "image/png": "[encoded data removed]",
      "text/plain": [
       "<Figure size 640x480 with 1 Axes>"
      ]
     },
     "metadata": {},
     "output_type": "display_data"
    }
   ],
   "source": [
    "sns.histplot(data=df, x=\"CompletedOrdersRatio\", log_scale=False)"
   ]
  },
  {
   "cell_type": "code",
   "execution_count": 96,
   "metadata": {},
   "outputs": [],
   "source": [
    "def bin_CompletedOrdersRatio(value):\n",
    "    if value == 0:\n",
    "        return \"None\"\n",
    "    elif value > 0 and value < 0.5:\n",
    "        return \"Little\"\n",
    "    elif value >= 0.5 and value < 1:\n",
    "        return \"Most\"\n",
    "    else:\n",
    "        return \"All\""
   ]
  },
  {
   "cell_type": "code",
   "execution_count": 97,
   "metadata": {},
   "outputs": [],
   "source": [
    "df[\"CompletedOrdersRatio\"] = df[\"CompletedOrdersRatio\"].apply(bin_CompletedOrdersRatio)"
   ]
  },
  {
   "cell_type": "markdown",
   "metadata": {},
   "source": [
    "### CanceledOrdersRatio\n"
   ]
  },
  {
   "cell_type": "code",
   "execution_count": 98,
   "metadata": {},
   "outputs": [
    {
     "data": {
      "text/plain": [
       "<Axes: xlabel='CanceledOrdersRatio', ylabel='Count'>"
      ]
     },
     "execution_count": 98,
     "metadata": {},
     "output_type": "execute_result"
    },
    {
     "data": {
      "image/png": "[encoded data removed]",
      "text/plain": [
       "<Figure size 640x480 with 1 Axes>"
      ]
     },
     "metadata": {},
     "output_type": "display_data"
    }
   ],
   "source": [
    "sns.histplot(data=df, x=\"CanceledOrdersRatio\", log_scale=False)"
   ]
  },
  {
   "cell_type": "code",
   "execution_count": 99,
   "metadata": {},
   "outputs": [],
   "source": [
    "def bin_CanceledOrdersRatio(value):\n",
    "    if value == 0:\n",
    "        return \"None\"\n",
    "    elif 0 < value <= 0.1:\n",
    "        return \"Little\"\n",
    "    elif 0.1 < value <= 0.3:\n",
    "        return \"Moderate\"\n",
    "    elif 0.3 < value < 1:\n",
    "        return \"Most\"\n",
    "    elif value == 1:\n",
    "        return \"All\""
   ]
  },
  {
   "cell_type": "code",
   "execution_count": 100,
   "metadata": {},
   "outputs": [],
   "source": [
    "df[\"CanceledOrdersRatio\"] = df[\"CanceledOrdersRatio\"].apply(bin_CanceledOrdersRatio)"
   ]
  },
  {
   "cell_type": "markdown",
   "metadata": {},
   "source": [
    "### ClosedAccountsRatio\n"
   ]
  },
  {
   "cell_type": "code",
   "execution_count": 104,
   "metadata": {},
   "outputs": [
    {
     "data": {
      "text/plain": [
       "780"
      ]
     },
     "execution_count": 104,
     "metadata": {},
     "output_type": "execute_result"
    }
   ],
   "source": [
    "len(df[df[\"SuspendedAccountsRatio\"] == 1])"
   ]
  },
  {
   "cell_type": "code",
   "execution_count": 101,
   "metadata": {},
   "outputs": [
    {
     "data": {
      "text/plain": [
       "<Axes: xlabel='SuspendedAccountsRatio', ylabel='Count'>"
      ]
     },
     "execution_count": 101,
     "metadata": {},
     "output_type": "execute_result"
    },
    {
     "data": {
      "image/png": "[encoded data removed]",
      "text/plain": [
       "<Figure size 640x480 with 1 Axes>"
      ]
     },
     "metadata": {},
     "output_type": "display_data"
    }
   ],
   "source": [
    "sns.histplot(data=df, x=\"SuspendedAccountsRatio\", log_scale=False)"
   ]
  },
  {
   "cell_type": "code",
   "execution_count": 101,
   "metadata": {},
   "outputs": [
    {
     "data": {
      "text/plain": [
       "<Axes: xlabel='ClosedAccountsRatio', ylabel='Count'>"
      ]
     },
     "execution_count": 101,
     "metadata": {},
     "output_type": "execute_result"
    },
    {
     "data": {
      "image/png": "[encoded data removed]",
      "text/plain": [
       "<Figure size 640x480 with 1 Axes>"
      ]
     },
     "metadata": {},
     "output_type": "display_data"
    }
   ],
   "source": [
    "sns.histplot(data=df, x=\"ClosedAccountsRatio\", log_scale=False)"
   ]
  },
  {
   "cell_type": "code",
   "execution_count": 102,
   "metadata": {},
   "outputs": [],
   "source": [
    "def bin_ClosedAccountsRatio(value):\n",
    "    if value == 0:\n",
    "        return \"None\"\n",
    "    elif 0 < value <= 0.5:\n",
    "        return \"Some\"\n",
    "    elif 0.5 < value < 1:\n",
    "        return \"Many\"\n",
    "    elif value == 1:\n",
    "        return \"All\""
   ]
  },
  {
   "cell_type": "code",
   "execution_count": 103,
   "metadata": {},
   "outputs": [],
   "source": [
    "df[\"ClosedAccountsRatio\"] = df[\"ClosedAccountsRatio\"].apply(bin_ClosedAccountsRatio)"
   ]
  },
  {
   "cell_type": "markdown",
   "metadata": {},
   "source": [
    "## Defining The Label\n"
   ]
  },
  {
   "cell_type": "markdown",
   "metadata": {},
   "source": [
    "**_We defined our label to be a combination of multiple features_**\n"
   ]
  },
  {
   "cell_type": "markdown",
   "metadata": {},
   "source": [
    "Create the label\n"
   ]
  },
  {
   "cell_type": "code",
   "execution_count": 104,
   "metadata": {},
   "outputs": [],
   "source": [
    "df[\"Churned\"] = (df[\"IsDormant\"] == 1) | (df[\"SuspendedAccountsRatio\"] >= 0.5)\n",
    "\n",
    "df = df.replace({True: 1, False: 0})\n",
    "\n",
    "df[\"Churned\"] = df[\"Churned\"].astype(int)"
   ]
  },
  {
   "cell_type": "code",
   "execution_count": 105,
   "metadata": {},
   "outputs": [
    {
     "name": "stdout",
     "output_type": "stream",
     "text": [
      "0.4778284293410692\n",
      "0.5221715706589308\n"
     ]
    }
   ],
   "source": [
    "print(len(df[df[\"Churned\"] == 1]) / len(df))\n",
    "print(len(df[df[\"Churned\"] == 0]) / len(df))"
   ]
  },
  {
   "cell_type": "code",
   "execution_count": 106,
   "metadata": {},
   "outputs": [
    {
     "name": "stdout",
     "output_type": "stream",
     "text": [
      "<class 'pandas.core.frame.DataFrame'>\n",
      "Index: 4826 entries, 2 to 8788\n",
      "Data columns (total 57 columns):\n",
      " #   Column                                Non-Null Count  Dtype         \n",
      "---  ------                                --------------  -----         \n",
      " 0   ClientID                              4826 non-null   int64         \n",
      " 1   Gender                                4826 non-null   object        \n",
      " 2   Age                                   4826 non-null   int64         \n",
      " 3   RiskRate                              4826 non-null   object        \n",
      " 4   NumOfAccounts                         4826 non-null   int64         \n",
      " 5   NumOfClosedAccounts                   4826 non-null   int64         \n",
      " 6   NumOfSuspendedAccounts                4826 non-null   int64         \n",
      " 7   NumOfOrders                           4826 non-null   int64         \n",
      " 8   NumOfCompletedOrders                  4826 non-null   int64         \n",
      " 9   NumOfCanceledOrders                   4826 non-null   int64         \n",
      " 10  CompletedOrdersRatio                  4826 non-null   object        \n",
      " 11  CanceledOrdersRatio                   4826 non-null   object        \n",
      " 12  TotalExecutedQuantity                 4826 non-null   int64         \n",
      " 13  TotalQuantity                         4826 non-null   int64         \n",
      " 14  AvgPrice                              4826 non-null   float64       \n",
      " 15  OrderType_Buy                         4826 non-null   float64       \n",
      " 16  OrderType_Sell                        4826 non-null   float64       \n",
      " 17  ExecutionStatus_Executed              4826 non-null   float64       \n",
      " 18  ExecutionStatus_NotExecuted           4826 non-null   float64       \n",
      " 19  ExecutionStatus_PartiallyExecuted     4826 non-null   float64       \n",
      " 20  SectorName_RealEstate                 4826 non-null   float64       \n",
      " 21  SectorName_Financials                 4826 non-null   float64       \n",
      " 22  SectorName_Materials                  4826 non-null   float64       \n",
      " 23  SectorName_ConsumerDiscretionary      4826 non-null   float64       \n",
      " 24  SectorName_Industries                 4826 non-null   float64       \n",
      " 25  SectorName_HealthCare                 4826 non-null   float64       \n",
      " 26  SectorName_InformationTechnology      4826 non-null   float64       \n",
      " 27  SectorName_ConsumerStaples            4826 non-null   float64       \n",
      " 28  SectorName_INDUSTRIAL                 4826 non-null   float64       \n",
      " 29  SectorName_SERVICES                   4826 non-null   float64       \n",
      " 30  SectorName_Energy                     4826 non-null   float64       \n",
      " 31  SectorName_BasicMaterials             4826 non-null   float64       \n",
      " 32  SectorName_INVESTMENT                 4826 non-null   float64       \n",
      " 33  SectorName_TelecommunicationServices  4826 non-null   float64       \n",
      " 34  SectorName_REALESTATE                 4826 non-null   float64       \n",
      " 35  SectorName_Telecommunications         4826 non-null   float64       \n",
      " 36  SectorName_FOOD                       4826 non-null   float64       \n",
      " 37  SectorName_Others                     4826 non-null   float64       \n",
      " 38  SectorName_Tourism                    4826 non-null   float64       \n",
      " 39  SectorName_ConsumerServices           4826 non-null   float64       \n",
      " 40  SectorName_Utilities                  4826 non-null   float64       \n",
      " 41  SectorName_PharmaceuticalIndustries   4826 non-null   float64       \n",
      " 42  LastOrderDateAcrossAccounts           4826 non-null   datetime64[ns]\n",
      " 43  IsDormant                             4826 non-null   int64         \n",
      " 44  AvgOrderRate_Start                    4826 non-null   float64       \n",
      " 45  AvgOrderRate_End                      4826 non-null   float64       \n",
      " 46  AvgOrderRate_Difference               4826 non-null   object        \n",
      " 47  AvgQuantityOrderedRate_Start          4826 non-null   float64       \n",
      " 48  AvgQuantityOrderedRate_End            4826 non-null   float64       \n",
      " 49  AvgQuantityOrderedRate_Difference     4826 non-null   object        \n",
      " 50  AvgQuantityPerAccount_Start           4826 non-null   float64       \n",
      " 51  AvgQuantityPerAccount_End             4826 non-null   float64       \n",
      " 52  AvgQuantityPerAccount_Difference      4826 non-null   float64       \n",
      " 53  AvgExecutedQuantityRatio              4826 non-null   float64       \n",
      " 54  ClosedAccountsRatio                   4826 non-null   object        \n",
      " 55  SuspendedAccountsRatio                4826 non-null   float64       \n",
      " 56  Churned                               4826 non-null   int64         \n",
      "dtypes: datetime64[ns](1), float64(37), int64(12), object(7)\n",
      "memory usage: 2.1+ MB\n"
     ]
    }
   ],
   "source": [
    "df.info()"
   ]
  },
  {
   "cell_type": "code",
   "execution_count": 107,
   "metadata": {},
   "outputs": [],
   "source": [
    "df.to_csv(\"../Data/visualization_data.csv\", index=False)"
   ]
  },
  {
   "cell_type": "markdown",
   "metadata": {},
   "source": [
    "## OHE\n"
   ]
  },
  {
   "cell_type": "markdown",
   "metadata": {},
   "source": [
    "The columns to be one-hot encoded\n"
   ]
  },
  {
   "cell_type": "code",
   "execution_count": 108,
   "metadata": {},
   "outputs": [],
   "source": [
    "columns = [\n",
    "    \"Gender\",\n",
    "    \"RiskRate\",\n",
    "    \"AvgOrderRate_Difference\",\n",
    "    \"AvgQuantityOrderedRate_Difference\",\n",
    "    \"CompletedOrdersRatio\",\n",
    "    \"CanceledOrdersRatio\",\n",
    "    \"ClosedAccountsRatio\",\n",
    "]"
   ]
  },
  {
   "cell_type": "markdown",
   "metadata": {},
   "source": [
    "OHE these columns\n"
   ]
  },
  {
   "cell_type": "code",
   "execution_count": 109,
   "metadata": {},
   "outputs": [],
   "source": [
    "df = pd.get_dummies(\n",
    "    df,\n",
    "    columns=columns,\n",
    "    dtype=int,\n",
    ")"
   ]
  },
  {
   "cell_type": "markdown",
   "metadata": {},
   "source": [
    "Drop the columns used for creating the label to remove bias, also drop the unnecessary columns\n"
   ]
  },
  {
   "cell_type": "code",
   "execution_count": 110,
   "metadata": {},
   "outputs": [],
   "source": [
    "df.drop(\n",
    "    columns=[\n",
    "        \"IsDormant\",\n",
    "        \"SuspendedAccountsRatio\",\n",
    "        \"TotalExecutedQuantity\",\n",
    "        \"TotalQuantity\",\n",
    "        \"LastOrderDateAcrossAccounts\",\n",
    "        \"AvgOrderRate_Start\",\n",
    "        \"AvgOrderRate_End\",\n",
    "        \"AvgQuantityOrderedRate_Start\",\n",
    "        \"AvgQuantityOrderedRate_End\",\n",
    "        \"AvgQuantityPerAccount_Start\",\n",
    "        \"AvgQuantityPerAccount_End\",\n",
    "        \"AvgQuantityPerAccount_Difference\",\n",
    "        \"NumOfClosedAccounts\",\n",
    "        \"NumOfAccounts\",\n",
    "        \"NumOfSuspendedAccounts\",\n",
    "        \"NumOfOrders\",\n",
    "        \"NumOfCompletedOrders\",\n",
    "        \"NumOfCanceledOrders\",\n",
    "    ],\n",
    "    inplace=True,\n",
    ")"
   ]
  },
  {
   "cell_type": "markdown",
   "metadata": {},
   "source": [
    "Remove all whitespaces in the column names\n"
   ]
  },
  {
   "cell_type": "code",
   "execution_count": 111,
   "metadata": {},
   "outputs": [],
   "source": [
    "df.rename(columns=lambda x: x.replace(\" \", \"\"), inplace=True)"
   ]
  },
  {
   "cell_type": "code",
   "execution_count": 112,
   "metadata": {},
   "outputs": [
    {
     "name": "stdout",
     "output_type": "stream",
     "text": [
      "<class 'pandas.core.frame.DataFrame'>\n",
      "Index: 4826 entries, 2 to 8788\n",
      "Data columns (total 57 columns):\n",
      " #   Column                                      Non-Null Count  Dtype  \n",
      "---  ------                                      --------------  -----  \n",
      " 0   ClientID                                    4826 non-null   int64  \n",
      " 1   Age                                         4826 non-null   int64  \n",
      " 2   AvgPrice                                    4826 non-null   float64\n",
      " 3   OrderType_Buy                               4826 non-null   float64\n",
      " 4   OrderType_Sell                              4826 non-null   float64\n",
      " 5   ExecutionStatus_Executed                    4826 non-null   float64\n",
      " 6   ExecutionStatus_NotExecuted                 4826 non-null   float64\n",
      " 7   ExecutionStatus_PartiallyExecuted           4826 non-null   float64\n",
      " 8   SectorName_RealEstate                       4826 non-null   float64\n",
      " 9   SectorName_Financials                       4826 non-null   float64\n",
      " 10  SectorName_Materials                        4826 non-null   float64\n",
      " 11  SectorName_ConsumerDiscretionary            4826 non-null   float64\n",
      " 12  SectorName_Industries                       4826 non-null   float64\n",
      " 13  SectorName_HealthCare                       4826 non-null   float64\n",
      " 14  SectorName_InformationTechnology            4826 non-null   float64\n",
      " 15  SectorName_ConsumerStaples                  4826 non-null   float64\n",
      " 16  SectorName_INDUSTRIAL                       4826 non-null   float64\n",
      " 17  SectorName_SERVICES                         4826 non-null   float64\n",
      " 18  SectorName_Energy                           4826 non-null   float64\n",
      " 19  SectorName_BasicMaterials                   4826 non-null   float64\n",
      " 20  SectorName_INVESTMENT                       4826 non-null   float64\n",
      " 21  SectorName_TelecommunicationServices        4826 non-null   float64\n",
      " 22  SectorName_REALESTATE                       4826 non-null   float64\n",
      " 23  SectorName_Telecommunications               4826 non-null   float64\n",
      " 24  SectorName_FOOD                             4826 non-null   float64\n",
      " 25  SectorName_Others                           4826 non-null   float64\n",
      " 26  SectorName_Tourism                          4826 non-null   float64\n",
      " 27  SectorName_ConsumerServices                 4826 non-null   float64\n",
      " 28  SectorName_Utilities                        4826 non-null   float64\n",
      " 29  SectorName_PharmaceuticalIndustries         4826 non-null   float64\n",
      " 30  AvgExecutedQuantityRatio                    4826 non-null   float64\n",
      " 31  Churned                                     4826 non-null   int64  \n",
      " 32  Gender_Female                               4826 non-null   int64  \n",
      " 33  Gender_Male                                 4826 non-null   int64  \n",
      " 34  RiskRate_High                               4826 non-null   int64  \n",
      " 35  RiskRate_Low                                4826 non-null   int64  \n",
      " 36  RiskRate_Medium                             4826 non-null   int64  \n",
      " 37  RiskRate_NotAssigned                        4826 non-null   int64  \n",
      " 38  AvgOrderRate_Difference_Constant            4826 non-null   int64  \n",
      " 39  AvgOrderRate_Difference_Decreased           4826 non-null   int64  \n",
      " 40  AvgOrderRate_Difference_Increased           4826 non-null   int64  \n",
      " 41  AvgQuantityOrderedRate_Difference_Constant  4826 non-null   int64  \n",
      " 42  AvgQuantityOrderedRate_Difference_Higher    4826 non-null   int64  \n",
      " 43  AvgQuantityOrderedRate_Difference_Lower     4826 non-null   int64  \n",
      " 44  CompletedOrdersRatio_All                    4826 non-null   int64  \n",
      " 45  CompletedOrdersRatio_Little                 4826 non-null   int64  \n",
      " 46  CompletedOrdersRatio_Most                   4826 non-null   int64  \n",
      " 47  CompletedOrdersRatio_None                   4826 non-null   int64  \n",
      " 48  CanceledOrdersRatio_All                     4826 non-null   int64  \n",
      " 49  CanceledOrdersRatio_Little                  4826 non-null   int64  \n",
      " 50  CanceledOrdersRatio_Moderate                4826 non-null   int64  \n",
      " 51  CanceledOrdersRatio_Most                    4826 non-null   int64  \n",
      " 52  CanceledOrdersRatio_None                    4826 non-null   int64  \n",
      " 53  ClosedAccountsRatio_All                     4826 non-null   int64  \n",
      " 54  ClosedAccountsRatio_Many                    4826 non-null   int64  \n",
      " 55  ClosedAccountsRatio_None                    4826 non-null   int64  \n",
      " 56  ClosedAccountsRatio_Some                    4826 non-null   int64  \n",
      "dtypes: float64(29), int64(28)\n",
      "memory usage: 2.1 MB\n"
     ]
    }
   ],
   "source": [
    "df.info()"
   ]
  },
  {
   "cell_type": "markdown",
   "metadata": {},
   "source": [
    "## Normalization\n"
   ]
  },
  {
   "cell_type": "markdown",
   "metadata": {},
   "source": [
    "The columns to be normalized\n"
   ]
  },
  {
   "cell_type": "code",
   "execution_count": 113,
   "metadata": {},
   "outputs": [],
   "source": [
    "columns = [\n",
    "    \"Age\",\n",
    "    \"AvgPrice\",\n",
    "]"
   ]
  },
  {
   "cell_type": "markdown",
   "metadata": {},
   "source": [
    "Define a function to normalize the data based on a distribution\n"
   ]
  },
  {
   "cell_type": "code",
   "execution_count": 114,
   "metadata": {},
   "outputs": [],
   "source": [
    "def get_normalized_data(data, dist):\n",
    "    if dist == \"uniform\":\n",
    "        return MinMaxScaler().fit_transform(data)\n",
    "    elif dist == \"norm\":\n",
    "        return StandardScaler().fit_transform(data)\n",
    "    elif dist == \"cauchy\":\n",
    "        ranked = stats.rankdata(data, method=\"average\")\n",
    "        # Convert ranks to percentiles\n",
    "        percentiles = 100.0 * (ranked - 1) / (len(data) - 1)\n",
    "        # Get the quantiles\n",
    "        return np.percentile(data, percentiles)\n",
    "    else:\n",
    "        return np.log(np.abs(data.flatten()) + 1)"
   ]
  },
  {
   "cell_type": "markdown",
   "metadata": {},
   "source": [
    "Define a function to get the best distribution that fits the data\n"
   ]
  },
  {
   "cell_type": "code",
   "execution_count": 115,
   "metadata": {},
   "outputs": [],
   "source": [
    "def get_best_distribution(columns, df):\n",
    "    columns_distributions_dict = {column: \"\" for column in columns}\n",
    "\n",
    "    for column in columns:\n",
    "        print(\"###### \" + column + \" ######\")\n",
    "\n",
    "        data = df[column].values\n",
    "\n",
    "        f = Fitter(\n",
    "            data,\n",
    "            distributions=get_common_distributions(),\n",
    "        )\n",
    "        f.fit()\n",
    "        f.summary(plot=False)\n",
    "        dist = f.get_best(method=\"sumsquare_error\")\n",
    "        best_dist = \"\"\n",
    "        for key in dist.keys():\n",
    "            best_dist = key\n",
    "\n",
    "        columns_distributions_dict[column] = str(best_dist)\n",
    "        print(column)\n",
    "        print(f\"Best Distribution: {best_dist}\")\n",
    "        print()\n",
    "\n",
    "    return columns_distributions_dict"
   ]
  },
  {
   "cell_type": "markdown",
   "metadata": {},
   "source": [
    "Define a function to normalize the data based on its best distribution\n"
   ]
  },
  {
   "cell_type": "code",
   "execution_count": 116,
   "metadata": {},
   "outputs": [],
   "source": [
    "def normalize(columns, df):\n",
    "    columns_distributions_dict = get_best_distribution(columns, df)\n",
    "\n",
    "    for column in columns_distributions_dict.keys():\n",
    "        data = np.array(df[column]).reshape(-1, 1)\n",
    "        df[column] = get_normalized_data(\n",
    "            data=data, dist=columns_distributions_dict[column]\n",
    "        )\n",
    "    return columns_distributions_dict"
   ]
  },
  {
   "cell_type": "markdown",
   "metadata": {},
   "source": [
    "Normalize the data\n"
   ]
  },
  {
   "cell_type": "code",
   "execution_count": 117,
   "metadata": {},
   "outputs": [
    {
     "name": "stdout",
     "output_type": "stream",
     "text": [
      "###### Age ######\n"
     ]
    },
    {
     "name": "stderr",
     "output_type": "stream",
     "text": [
      "\u001b[32m2024-07-10 03:40:49.142\u001b[0m | \u001b[1mINFO    \u001b[0m | \u001b[36mfitter.fitter\u001b[0m:\u001b[36m_fit_single_distribution\u001b[0m:\u001b[36m337\u001b[0m - \u001b[1mFitted norm distribution with error=0.020593)\u001b[0m\n",
      "\u001b[32m2024-07-10 03:40:49.157\u001b[0m | \u001b[1mINFO    \u001b[0m | \u001b[36mfitter.fitter\u001b[0m:\u001b[36m_fit_single_distribution\u001b[0m:\u001b[36m337\u001b[0m - \u001b[1mFitted expon distribution with error=0.029074)\u001b[0m\n",
      "\u001b[32m2024-07-10 03:40:49.184\u001b[0m | \u001b[1mINFO    \u001b[0m | \u001b[36mfitter.fitter\u001b[0m:\u001b[36m_fit_single_distribution\u001b[0m:\u001b[36m337\u001b[0m - \u001b[1mFitted uniform distribution with error=0.019508)\u001b[0m\n",
      "\u001b[32m2024-07-10 03:40:49.191\u001b[0m | \u001b[1mINFO    \u001b[0m | \u001b[36mfitter.fitter\u001b[0m:\u001b[36m_fit_single_distribution\u001b[0m:\u001b[36m337\u001b[0m - \u001b[1mFitted rayleigh distribution with error=0.020012)\u001b[0m\n",
      "\u001b[32m2024-07-10 03:40:49.204\u001b[0m | \u001b[1mINFO    \u001b[0m | \u001b[36mfitter.fitter\u001b[0m:\u001b[36m_fit_single_distribution\u001b[0m:\u001b[36m337\u001b[0m - \u001b[1mFitted powerlaw distribution with error=0.018662)\u001b[0m\n",
      "\u001b[32m2024-07-10 03:40:49.250\u001b[0m | \u001b[1mINFO    \u001b[0m | \u001b[36mfitter.fitter\u001b[0m:\u001b[36m_fit_single_distribution\u001b[0m:\u001b[36m337\u001b[0m - \u001b[1mFitted cauchy distribution with error=0.023789)\u001b[0m\n",
      "\u001b[32m2024-07-10 03:40:49.267\u001b[0m | \u001b[1mINFO    \u001b[0m | \u001b[36mfitter.fitter\u001b[0m:\u001b[36m_fit_single_distribution\u001b[0m:\u001b[36m337\u001b[0m - \u001b[1mFitted lognorm distribution with error=0.020593)\u001b[0m\n",
      "\u001b[32m2024-07-10 03:40:49.385\u001b[0m | \u001b[1mINFO    \u001b[0m | \u001b[36mfitter.fitter\u001b[0m:\u001b[36m_fit_single_distribution\u001b[0m:\u001b[36m337\u001b[0m - \u001b[1mFitted gamma distribution with error=0.020583)\u001b[0m\n",
      "\u001b[32m2024-07-10 03:40:49.395\u001b[0m | \u001b[1mINFO    \u001b[0m | \u001b[36mfitter.fitter\u001b[0m:\u001b[36m_fit_single_distribution\u001b[0m:\u001b[36m337\u001b[0m - \u001b[1mFitted chi2 distribution with error=0.020492)\u001b[0m\n",
      "\u001b[32m2024-07-10 03:40:49.430\u001b[0m | \u001b[1mINFO    \u001b[0m | \u001b[36mfitter.fitter\u001b[0m:\u001b[36m_fit_single_distribution\u001b[0m:\u001b[36m337\u001b[0m - \u001b[1mFitted exponpow distribution with error=0.086028)\u001b[0m\n",
      "\u001b[32m2024-07-10 03:40:49.464\u001b[0m | \u001b[1mINFO    \u001b[0m | \u001b[36mfitter.fitter\u001b[0m:\u001b[36m_fit_single_distribution\u001b[0m:\u001b[36m337\u001b[0m - \u001b[1mFitted expon distribution with error=3.1e-05)\u001b[0m\n",
      "\u001b[32m2024-07-10 03:40:49.480\u001b[0m | \u001b[1mINFO    \u001b[0m | \u001b[36mfitter.fitter\u001b[0m:\u001b[36m_fit_single_distribution\u001b[0m:\u001b[36m337\u001b[0m - \u001b[1mFitted norm distribution with error=0.000811)\u001b[0m\n",
      "\u001b[32m2024-07-10 03:40:49.540\u001b[0m | \u001b[1mINFO    \u001b[0m | \u001b[36mfitter.fitter\u001b[0m:\u001b[36m_fit_single_distribution\u001b[0m:\u001b[36m337\u001b[0m - \u001b[1mFitted rayleigh distribution with error=0.000625)\u001b[0m\n",
      "\u001b[32m2024-07-10 03:40:49.585\u001b[0m | \u001b[1mINFO    \u001b[0m | \u001b[36mfitter.fitter\u001b[0m:\u001b[36m_fit_single_distribution\u001b[0m:\u001b[36m337\u001b[0m - \u001b[1mFitted uniform distribution with error=0.001441)\u001b[0m\n",
      "\u001b[32m2024-07-10 03:40:49.612\u001b[0m | \u001b[1mINFO    \u001b[0m | \u001b[36mfitter.fitter\u001b[0m:\u001b[36m_fit_single_distribution\u001b[0m:\u001b[36m337\u001b[0m - \u001b[1mFitted lognorm distribution with error=1e-05)\u001b[0m\n"
     ]
    },
    {
     "name": "stdout",
     "output_type": "stream",
     "text": [
      "Age\n",
      "Best Distribution: powerlaw\n",
      "\n",
      "###### AvgPrice ######\n"
     ]
    },
    {
     "name": "stderr",
     "output_type": "stream",
     "text": [
      "\u001b[32m2024-07-10 03:40:49.654\u001b[0m | \u001b[1mINFO    \u001b[0m | \u001b[36mfitter.fitter\u001b[0m:\u001b[36m_fit_single_distribution\u001b[0m:\u001b[36m337\u001b[0m - \u001b[1mFitted powerlaw distribution with error=0.000969)\u001b[0m\n",
      "\u001b[32m2024-07-10 03:40:49.665\u001b[0m | \u001b[1mINFO    \u001b[0m | \u001b[36mfitter.fitter\u001b[0m:\u001b[36m_fit_single_distribution\u001b[0m:\u001b[36m337\u001b[0m - \u001b[1mFitted cauchy distribution with error=0.000164)\u001b[0m\n",
      "\u001b[32m2024-07-10 03:40:49.778\u001b[0m | \u001b[1mINFO    \u001b[0m | \u001b[36mfitter.fitter\u001b[0m:\u001b[36m_fit_single_distribution\u001b[0m:\u001b[36m337\u001b[0m - \u001b[1mFitted gamma distribution with error=0.001464)\u001b[0m\n",
      "\u001b[32m2024-07-10 03:40:49.787\u001b[0m | \u001b[1mINFO    \u001b[0m | \u001b[36mfitter.fitter\u001b[0m:\u001b[36m_fit_single_distribution\u001b[0m:\u001b[36m337\u001b[0m - \u001b[1mFitted chi2 distribution with error=0.000456)\u001b[0m\n",
      "\u001b[32m2024-07-10 03:40:49.827\u001b[0m | \u001b[1mINFO    \u001b[0m | \u001b[36mfitter.fitter\u001b[0m:\u001b[36m_fit_single_distribution\u001b[0m:\u001b[36m337\u001b[0m - \u001b[1mFitted exponpow distribution with error=0.000338)\u001b[0m\n"
     ]
    },
    {
     "name": "stdout",
     "output_type": "stream",
     "text": [
      "AvgPrice\n",
      "Best Distribution: lognorm\n",
      "\n",
      "{'Age': 'powerlaw', 'AvgPrice': 'lognorm'}\n"
     ]
    }
   ],
   "source": [
    "print(normalize(columns, df))"
   ]
  },
  {
   "cell_type": "markdown",
   "metadata": {},
   "source": [
    "## Saving\n"
   ]
  },
  {
   "cell_type": "markdown",
   "metadata": {},
   "source": [
    "Make the Churned column to be the last column\n"
   ]
  },
  {
   "cell_type": "code",
   "execution_count": 118,
   "metadata": {},
   "outputs": [],
   "source": [
    "cols = list(df.columns)\n",
    "cols.append(cols.pop(cols.index(\"Churned\")))\n",
    "df = df[cols]"
   ]
  },
  {
   "cell_type": "markdown",
   "metadata": {},
   "source": [
    "Display the head of the dataframe\n"
   ]
  },
  {
   "cell_type": "code",
   "execution_count": 119,
   "metadata": {},
   "outputs": [
    {
     "data": {
      "text/html": [
       "<div>\n",
       "<style scoped>\n",
       "    .dataframe tbody tr th:only-of-type {\n",
       "        vertical-align: middle;\n",
       "    }\n",
       "\n",
       "    .dataframe tbody tr th {\n",
       "        vertical-align: top;\n",
       "    }\n",
       "\n",
       "    .dataframe thead th {\n",
       "        text-align: right;\n",
       "    }\n",
       "</style>\n",
       "<table border=\"1\" class=\"dataframe\">\n",
       "  <thead>\n",
       "    <tr style=\"text-align: right;\">\n",
       "      <th></th>\n",
       "      <th>ClientID</th>\n",
       "      <th>Age</th>\n",
       "      <th>AvgPrice</th>\n",
       "      <th>OrderType_Buy</th>\n",
       "      <th>OrderType_Sell</th>\n",
       "      <th>ExecutionStatus_Executed</th>\n",
       "      <th>ExecutionStatus_NotExecuted</th>\n",
       "      <th>ExecutionStatus_PartiallyExecuted</th>\n",
       "      <th>SectorName_RealEstate</th>\n",
       "      <th>SectorName_Financials</th>\n",
       "      <th>...</th>\n",
       "      <th>CanceledOrdersRatio_All</th>\n",
       "      <th>CanceledOrdersRatio_Little</th>\n",
       "      <th>CanceledOrdersRatio_Moderate</th>\n",
       "      <th>CanceledOrdersRatio_Most</th>\n",
       "      <th>CanceledOrdersRatio_None</th>\n",
       "      <th>ClosedAccountsRatio_All</th>\n",
       "      <th>ClosedAccountsRatio_Many</th>\n",
       "      <th>ClosedAccountsRatio_None</th>\n",
       "      <th>ClosedAccountsRatio_Some</th>\n",
       "      <th>Churned</th>\n",
       "    </tr>\n",
       "  </thead>\n",
       "  <tbody>\n",
       "    <tr>\n",
       "      <th>2</th>\n",
       "      <td>2</td>\n",
       "      <td>3.988984</td>\n",
       "      <td>2.157868</td>\n",
       "      <td>0.857143</td>\n",
       "      <td>0.142857</td>\n",
       "      <td>0.809524</td>\n",
       "      <td>0.190476</td>\n",
       "      <td>0.0</td>\n",
       "      <td>0.047619</td>\n",
       "      <td>0.047619</td>\n",
       "      <td>...</td>\n",
       "      <td>0</td>\n",
       "      <td>1</td>\n",
       "      <td>0</td>\n",
       "      <td>0</td>\n",
       "      <td>0</td>\n",
       "      <td>0</td>\n",
       "      <td>0</td>\n",
       "      <td>1</td>\n",
       "      <td>0</td>\n",
       "      <td>0</td>\n",
       "    </tr>\n",
       "    <tr>\n",
       "      <th>3</th>\n",
       "      <td>3</td>\n",
       "      <td>4.276666</td>\n",
       "      <td>4.289201</td>\n",
       "      <td>0.471264</td>\n",
       "      <td>0.528736</td>\n",
       "      <td>0.735632</td>\n",
       "      <td>0.264368</td>\n",
       "      <td>0.0</td>\n",
       "      <td>0.068966</td>\n",
       "      <td>0.436782</td>\n",
       "      <td>...</td>\n",
       "      <td>0</td>\n",
       "      <td>0</td>\n",
       "      <td>1</td>\n",
       "      <td>0</td>\n",
       "      <td>0</td>\n",
       "      <td>0</td>\n",
       "      <td>0</td>\n",
       "      <td>1</td>\n",
       "      <td>0</td>\n",
       "      <td>0</td>\n",
       "    </tr>\n",
       "    <tr>\n",
       "      <th>4</th>\n",
       "      <td>4</td>\n",
       "      <td>3.891820</td>\n",
       "      <td>0.885061</td>\n",
       "      <td>0.033333</td>\n",
       "      <td>0.466667</td>\n",
       "      <td>0.133333</td>\n",
       "      <td>0.366667</td>\n",
       "      <td>0.0</td>\n",
       "      <td>0.000000</td>\n",
       "      <td>0.416667</td>\n",
       "      <td>...</td>\n",
       "      <td>0</td>\n",
       "      <td>0</td>\n",
       "      <td>0</td>\n",
       "      <td>1</td>\n",
       "      <td>0</td>\n",
       "      <td>0</td>\n",
       "      <td>0</td>\n",
       "      <td>1</td>\n",
       "      <td>0</td>\n",
       "      <td>0</td>\n",
       "    </tr>\n",
       "    <tr>\n",
       "      <th>7</th>\n",
       "      <td>7</td>\n",
       "      <td>4.262680</td>\n",
       "      <td>3.917124</td>\n",
       "      <td>0.750000</td>\n",
       "      <td>0.250000</td>\n",
       "      <td>0.678571</td>\n",
       "      <td>0.321429</td>\n",
       "      <td>0.0</td>\n",
       "      <td>0.178571</td>\n",
       "      <td>0.321429</td>\n",
       "      <td>...</td>\n",
       "      <td>0</td>\n",
       "      <td>0</td>\n",
       "      <td>1</td>\n",
       "      <td>0</td>\n",
       "      <td>0</td>\n",
       "      <td>0</td>\n",
       "      <td>0</td>\n",
       "      <td>1</td>\n",
       "      <td>0</td>\n",
       "      <td>0</td>\n",
       "    </tr>\n",
       "    <tr>\n",
       "      <th>8</th>\n",
       "      <td>8</td>\n",
       "      <td>3.663562</td>\n",
       "      <td>2.489104</td>\n",
       "      <td>0.117949</td>\n",
       "      <td>0.215385</td>\n",
       "      <td>0.179487</td>\n",
       "      <td>0.153846</td>\n",
       "      <td>0.0</td>\n",
       "      <td>0.107692</td>\n",
       "      <td>0.041026</td>\n",
       "      <td>...</td>\n",
       "      <td>0</td>\n",
       "      <td>0</td>\n",
       "      <td>1</td>\n",
       "      <td>0</td>\n",
       "      <td>0</td>\n",
       "      <td>0</td>\n",
       "      <td>0</td>\n",
       "      <td>1</td>\n",
       "      <td>0</td>\n",
       "      <td>0</td>\n",
       "    </tr>\n",
       "  </tbody>\n",
       "</table>\n",
       "<p>5 rows × 57 columns</p>\n",
       "</div>"
      ],
      "text/plain": [
       "   ClientID       Age  AvgPrice  OrderType_Buy  OrderType_Sell  \\\n",
       "2         2  3.988984  2.157868       0.857143        0.142857   \n",
       "3         3  4.276666  4.289201       0.471264        0.528736   \n",
       "4         4  3.891820  0.885061       0.033333        0.466667   \n",
       "7         7  4.262680  3.917124       0.750000        0.250000   \n",
       "8         8  3.663562  2.489104       0.117949        0.215385   \n",
       "\n",
       "   ExecutionStatus_Executed  ExecutionStatus_NotExecuted  \\\n",
       "2                  0.809524                     0.190476   \n",
       "3                  0.735632                     0.264368   \n",
       "4                  0.133333                     0.366667   \n",
       "7                  0.678571                     0.321429   \n",
       "8                  0.179487                     0.153846   \n",
       "\n",
       "   ExecutionStatus_PartiallyExecuted  SectorName_RealEstate  \\\n",
       "2                                0.0               0.047619   \n",
       "3                                0.0               0.068966   \n",
       "4                                0.0               0.000000   \n",
       "7                                0.0               0.178571   \n",
       "8                                0.0               0.107692   \n",
       "\n",
       "   SectorName_Financials  ...  CanceledOrdersRatio_All  \\\n",
       "2               0.047619  ...                        0   \n",
       "3               0.436782  ...                        0   \n",
       "4               0.416667  ...                        0   \n",
       "7               0.321429  ...                        0   \n",
       "8               0.041026  ...                        0   \n",
       "\n",
       "   CanceledOrdersRatio_Little  CanceledOrdersRatio_Moderate  \\\n",
       "2                           1                             0   \n",
       "3                           0                             1   \n",
       "4                           0                             0   \n",
       "7                           0                             1   \n",
       "8                           0                             1   \n",
       "\n",
       "   CanceledOrdersRatio_Most  CanceledOrdersRatio_None  \\\n",
       "2                         0                         0   \n",
       "3                         0                         0   \n",
       "4                         1                         0   \n",
       "7                         0                         0   \n",
       "8                         0                         0   \n",
       "\n",
       "   ClosedAccountsRatio_All  ClosedAccountsRatio_Many  \\\n",
       "2                        0                         0   \n",
       "3                        0                         0   \n",
       "4                        0                         0   \n",
       "7                        0                         0   \n",
       "8                        0                         0   \n",
       "\n",
       "   ClosedAccountsRatio_None  ClosedAccountsRatio_Some  Churned  \n",
       "2                         1                         0        0  \n",
       "3                         1                         0        0  \n",
       "4                         1                         0        0  \n",
       "7                         1                         0        0  \n",
       "8                         1                         0        0  \n",
       "\n",
       "[5 rows x 57 columns]"
      ]
     },
     "execution_count": 119,
     "metadata": {},
     "output_type": "execute_result"
    }
   ],
   "source": [
    "df.head()"
   ]
  },
  {
   "cell_type": "markdown",
   "metadata": {},
   "source": [
    "Display the info of the dataframe\n"
   ]
  },
  {
   "cell_type": "code",
   "execution_count": 120,
   "metadata": {},
   "outputs": [
    {
     "name": "stdout",
     "output_type": "stream",
     "text": [
      "<class 'pandas.core.frame.DataFrame'>\n",
      "Index: 4826 entries, 2 to 8788\n",
      "Data columns (total 57 columns):\n",
      " #   Column                                      Non-Null Count  Dtype  \n",
      "---  ------                                      --------------  -----  \n",
      " 0   ClientID                                    4826 non-null   int64  \n",
      " 1   Age                                         4826 non-null   float64\n",
      " 2   AvgPrice                                    4826 non-null   float64\n",
      " 3   OrderType_Buy                               4826 non-null   float64\n",
      " 4   OrderType_Sell                              4826 non-null   float64\n",
      " 5   ExecutionStatus_Executed                    4826 non-null   float64\n",
      " 6   ExecutionStatus_NotExecuted                 4826 non-null   float64\n",
      " 7   ExecutionStatus_PartiallyExecuted           4826 non-null   float64\n",
      " 8   SectorName_RealEstate                       4826 non-null   float64\n",
      " 9   SectorName_Financials                       4826 non-null   float64\n",
      " 10  SectorName_Materials                        4826 non-null   float64\n",
      " 11  SectorName_ConsumerDiscretionary            4826 non-null   float64\n",
      " 12  SectorName_Industries                       4826 non-null   float64\n",
      " 13  SectorName_HealthCare                       4826 non-null   float64\n",
      " 14  SectorName_InformationTechnology            4826 non-null   float64\n",
      " 15  SectorName_ConsumerStaples                  4826 non-null   float64\n",
      " 16  SectorName_INDUSTRIAL                       4826 non-null   float64\n",
      " 17  SectorName_SERVICES                         4826 non-null   float64\n",
      " 18  SectorName_Energy                           4826 non-null   float64\n",
      " 19  SectorName_BasicMaterials                   4826 non-null   float64\n",
      " 20  SectorName_INVESTMENT                       4826 non-null   float64\n",
      " 21  SectorName_TelecommunicationServices        4826 non-null   float64\n",
      " 22  SectorName_REALESTATE                       4826 non-null   float64\n",
      " 23  SectorName_Telecommunications               4826 non-null   float64\n",
      " 24  SectorName_FOOD                             4826 non-null   float64\n",
      " 25  SectorName_Others                           4826 non-null   float64\n",
      " 26  SectorName_Tourism                          4826 non-null   float64\n",
      " 27  SectorName_ConsumerServices                 4826 non-null   float64\n",
      " 28  SectorName_Utilities                        4826 non-null   float64\n",
      " 29  SectorName_PharmaceuticalIndustries         4826 non-null   float64\n",
      " 30  AvgExecutedQuantityRatio                    4826 non-null   float64\n",
      " 31  Gender_Female                               4826 non-null   int64  \n",
      " 32  Gender_Male                                 4826 non-null   int64  \n",
      " 33  RiskRate_High                               4826 non-null   int64  \n",
      " 34  RiskRate_Low                                4826 non-null   int64  \n",
      " 35  RiskRate_Medium                             4826 non-null   int64  \n",
      " 36  RiskRate_NotAssigned                        4826 non-null   int64  \n",
      " 37  AvgOrderRate_Difference_Constant            4826 non-null   int64  \n",
      " 38  AvgOrderRate_Difference_Decreased           4826 non-null   int64  \n",
      " 39  AvgOrderRate_Difference_Increased           4826 non-null   int64  \n",
      " 40  AvgQuantityOrderedRate_Difference_Constant  4826 non-null   int64  \n",
      " 41  AvgQuantityOrderedRate_Difference_Higher    4826 non-null   int64  \n",
      " 42  AvgQuantityOrderedRate_Difference_Lower     4826 non-null   int64  \n",
      " 43  CompletedOrdersRatio_All                    4826 non-null   int64  \n",
      " 44  CompletedOrdersRatio_Little                 4826 non-null   int64  \n",
      " 45  CompletedOrdersRatio_Most                   4826 non-null   int64  \n",
      " 46  CompletedOrdersRatio_None                   4826 non-null   int64  \n",
      " 47  CanceledOrdersRatio_All                     4826 non-null   int64  \n",
      " 48  CanceledOrdersRatio_Little                  4826 non-null   int64  \n",
      " 49  CanceledOrdersRatio_Moderate                4826 non-null   int64  \n",
      " 50  CanceledOrdersRatio_Most                    4826 non-null   int64  \n",
      " 51  CanceledOrdersRatio_None                    4826 non-null   int64  \n",
      " 52  ClosedAccountsRatio_All                     4826 non-null   int64  \n",
      " 53  ClosedAccountsRatio_Many                    4826 non-null   int64  \n",
      " 54  ClosedAccountsRatio_None                    4826 non-null   int64  \n",
      " 55  ClosedAccountsRatio_Some                    4826 non-null   int64  \n",
      " 56  Churned                                     4826 non-null   int64  \n",
      "dtypes: float64(30), int64(27)\n",
      "memory usage: 2.1 MB\n"
     ]
    }
   ],
   "source": [
    "df.info(verbose=True)"
   ]
  },
  {
   "cell_type": "markdown",
   "metadata": {},
   "source": [
    "Save the dataframe into a csv \"cleaned_dataset.csv\"\n"
   ]
  },
  {
   "cell_type": "code",
   "execution_count": 121,
   "metadata": {},
   "outputs": [],
   "source": [
    "df.to_csv(\"../Data/cleaned_dataset.csv\", index=False)"
   ]
  }
 ],
 "metadata": {
  "kernelspec": {
   "display_name": "Python 3",
   "language": "python",
   "name": "python3"
  },
  "language_info": {
   "codemirror_mode": {
    "name": "ipython",
    "version": 3
   },
   "file_extension": ".py",
   "mimetype": "text/x-python",
   "name": "python",
   "nbconvert_exporter": "python",
   "pygments_lexer": "ipython3",
   "version": "3.12.0"
  }
 },
 "nbformat": 4,
 "nbformat_minor": 2
}
