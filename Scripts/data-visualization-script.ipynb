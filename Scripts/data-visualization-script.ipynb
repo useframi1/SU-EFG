{
 "cells": [
  {
   "cell_type": "code",
   "execution_count": 21,
   "metadata": {},
   "outputs": [],
   "source": [
    "import pandas as pd\n",
    "import numpy as np\n",
    "import matplotlib.pyplot as plt\n",
    "import seaborn as sns"
   ]
  },
  {
   "cell_type": "code",
   "execution_count": 22,
   "metadata": {},
   "outputs": [],
   "source": [
    "df = pd.read_csv(\"../Data/visualization_data.csv\")"
   ]
  },
  {
   "cell_type": "code",
   "execution_count": 23,
   "metadata": {},
   "outputs": [
    {
     "data": {
      "text/html": [
       "<div>\n",
       "<style scoped>\n",
       "    .dataframe tbody tr th:only-of-type {\n",
       "        vertical-align: middle;\n",
       "    }\n",
       "\n",
       "    .dataframe tbody tr th {\n",
       "        vertical-align: top;\n",
       "    }\n",
       "\n",
       "    .dataframe thead th {\n",
       "        text-align: right;\n",
       "    }\n",
       "</style>\n",
       "<table border=\"1\" class=\"dataframe\">\n",
       "  <thead>\n",
       "    <tr style=\"text-align: right;\">\n",
       "      <th></th>\n",
       "      <th>ClientID</th>\n",
       "      <th>AccountID</th>\n",
       "      <th>Gender</th>\n",
       "      <th>RiskRate</th>\n",
       "      <th>CompanyName</th>\n",
       "      <th>IsClosed</th>\n",
       "      <th>IsDormant</th>\n",
       "      <th>IsProfileSuspended</th>\n",
       "      <th>IsClientSuspended</th>\n",
       "      <th>ClientTypeName</th>\n",
       "      <th>...</th>\n",
       "      <th>Age</th>\n",
       "      <th>NumOfOrders</th>\n",
       "      <th>LastOrder_Month</th>\n",
       "      <th>LastOrder_Year</th>\n",
       "      <th>NumOfCompleted</th>\n",
       "      <th>NumOfCanceled</th>\n",
       "      <th>AvgPrice</th>\n",
       "      <th>TotalExecutedQuantity</th>\n",
       "      <th>TotalQuantity</th>\n",
       "      <th>Churned</th>\n",
       "    </tr>\n",
       "  </thead>\n",
       "  <tbody>\n",
       "    <tr>\n",
       "      <th>0</th>\n",
       "      <td>0</td>\n",
       "      <td>0</td>\n",
       "      <td>Male</td>\n",
       "      <td>Low</td>\n",
       "      <td>HSB</td>\n",
       "      <td>0</td>\n",
       "      <td>1</td>\n",
       "      <td>0</td>\n",
       "      <td>0</td>\n",
       "      <td>Individuals</td>\n",
       "      <td>...</td>\n",
       "      <td>33</td>\n",
       "      <td>2</td>\n",
       "      <td>10</td>\n",
       "      <td>2022</td>\n",
       "      <td>2</td>\n",
       "      <td>0</td>\n",
       "      <td>1.210000</td>\n",
       "      <td>12000</td>\n",
       "      <td>12000</td>\n",
       "      <td>1</td>\n",
       "    </tr>\n",
       "    <tr>\n",
       "      <th>1</th>\n",
       "      <td>1</td>\n",
       "      <td>1</td>\n",
       "      <td>Female</td>\n",
       "      <td>Low</td>\n",
       "      <td>HSB</td>\n",
       "      <td>0</td>\n",
       "      <td>1</td>\n",
       "      <td>1</td>\n",
       "      <td>0</td>\n",
       "      <td>Individuals</td>\n",
       "      <td>...</td>\n",
       "      <td>60</td>\n",
       "      <td>7</td>\n",
       "      <td>9</td>\n",
       "      <td>2022</td>\n",
       "      <td>6</td>\n",
       "      <td>1</td>\n",
       "      <td>1.982429</td>\n",
       "      <td>4347</td>\n",
       "      <td>4529</td>\n",
       "      <td>1</td>\n",
       "    </tr>\n",
       "    <tr>\n",
       "      <th>2</th>\n",
       "      <td>2</td>\n",
       "      <td>2</td>\n",
       "      <td>Male</td>\n",
       "      <td>Low</td>\n",
       "      <td>HSB</td>\n",
       "      <td>0</td>\n",
       "      <td>0</td>\n",
       "      <td>0</td>\n",
       "      <td>0</td>\n",
       "      <td>Individuals</td>\n",
       "      <td>...</td>\n",
       "      <td>52</td>\n",
       "      <td>21</td>\n",
       "      <td>2</td>\n",
       "      <td>2024</td>\n",
       "      <td>17</td>\n",
       "      <td>2</td>\n",
       "      <td>7.652667</td>\n",
       "      <td>123895</td>\n",
       "      <td>137395</td>\n",
       "      <td>0</td>\n",
       "    </tr>\n",
       "    <tr>\n",
       "      <th>3</th>\n",
       "      <td>3</td>\n",
       "      <td>3</td>\n",
       "      <td>Male</td>\n",
       "      <td>Low</td>\n",
       "      <td>HSB</td>\n",
       "      <td>0</td>\n",
       "      <td>0</td>\n",
       "      <td>0</td>\n",
       "      <td>0</td>\n",
       "      <td>Individuals</td>\n",
       "      <td>...</td>\n",
       "      <td>71</td>\n",
       "      <td>88</td>\n",
       "      <td>3</td>\n",
       "      <td>2024</td>\n",
       "      <td>64</td>\n",
       "      <td>11</td>\n",
       "      <td>72.059886</td>\n",
       "      <td>682538</td>\n",
       "      <td>911078</td>\n",
       "      <td>0</td>\n",
       "    </tr>\n",
       "    <tr>\n",
       "      <th>4</th>\n",
       "      <td>4</td>\n",
       "      <td>4</td>\n",
       "      <td>Male</td>\n",
       "      <td>Low</td>\n",
       "      <td>HSB</td>\n",
       "      <td>0</td>\n",
       "      <td>0</td>\n",
       "      <td>0</td>\n",
       "      <td>0</td>\n",
       "      <td>Individuals</td>\n",
       "      <td>...</td>\n",
       "      <td>47</td>\n",
       "      <td>30</td>\n",
       "      <td>2</td>\n",
       "      <td>2024</td>\n",
       "      <td>8</td>\n",
       "      <td>10</td>\n",
       "      <td>2.846267</td>\n",
       "      <td>356686</td>\n",
       "      <td>594953</td>\n",
       "      <td>0</td>\n",
       "    </tr>\n",
       "  </tbody>\n",
       "</table>\n",
       "<p>5 rows × 22 columns</p>\n",
       "</div>"
      ],
      "text/plain": [
       "   ClientID  AccountID  Gender RiskRate CompanyName  IsClosed  IsDormant  \\\n",
       "0         0          0    Male      Low         HSB         0          1   \n",
       "1         1          1  Female      Low         HSB         0          1   \n",
       "2         2          2    Male      Low         HSB         0          0   \n",
       "3         3          3    Male      Low         HSB         0          0   \n",
       "4         4          4    Male      Low         HSB         0          0   \n",
       "\n",
       "   IsProfileSuspended  IsClientSuspended ClientTypeName  ...  Age  \\\n",
       "0                   0                  0    Individuals  ...   33   \n",
       "1                   1                  0    Individuals  ...   60   \n",
       "2                   0                  0    Individuals  ...   52   \n",
       "3                   0                  0    Individuals  ...   71   \n",
       "4                   0                  0    Individuals  ...   47   \n",
       "\n",
       "   NumOfOrders  LastOrder_Month  LastOrder_Year  NumOfCompleted  \\\n",
       "0            2               10            2022               2   \n",
       "1            7                9            2022               6   \n",
       "2           21                2            2024              17   \n",
       "3           88                3            2024              64   \n",
       "4           30                2            2024               8   \n",
       "\n",
       "   NumOfCanceled   AvgPrice  TotalExecutedQuantity  TotalQuantity  Churned  \n",
       "0              0   1.210000                  12000          12000        1  \n",
       "1              1   1.982429                   4347           4529        1  \n",
       "2              2   7.652667                 123895         137395        0  \n",
       "3             11  72.059886                 682538         911078        0  \n",
       "4             10   2.846267                 356686         594953        0  \n",
       "\n",
       "[5 rows x 22 columns]"
      ]
     },
     "execution_count": 23,
     "metadata": {},
     "output_type": "execute_result"
    }
   ],
   "source": [
    "df.head()"
   ]
  },
  {
   "cell_type": "code",
   "execution_count": 24,
   "metadata": {},
   "outputs": [
    {
     "name": "stdout",
     "output_type": "stream",
     "text": [
      "<class 'pandas.core.frame.DataFrame'>\n",
      "RangeIndex: 13523 entries, 0 to 13522\n",
      "Data columns (total 22 columns):\n",
      " #   Column                 Non-Null Count  Dtype  \n",
      "---  ------                 --------------  -----  \n",
      " 0   ClientID               13523 non-null  int64  \n",
      " 1   AccountID              13523 non-null  int64  \n",
      " 2   Gender                 13523 non-null  object \n",
      " 3   RiskRate               13523 non-null  object \n",
      " 4   CompanyName            13523 non-null  object \n",
      " 5   IsClosed               13523 non-null  int64  \n",
      " 6   IsDormant              13523 non-null  int64  \n",
      " 7   IsProfileSuspended     13523 non-null  int64  \n",
      " 8   IsClientSuspended      13523 non-null  int64  \n",
      " 9   ClientTypeName         13523 non-null  object \n",
      " 10  OpenDate_Month         13523 non-null  int64  \n",
      " 11  OpenDate_Year          13523 non-null  int64  \n",
      " 12  Age                    13523 non-null  int64  \n",
      " 13  NumOfOrders            13523 non-null  int64  \n",
      " 14  LastOrder_Month        13523 non-null  int64  \n",
      " 15  LastOrder_Year         13523 non-null  int64  \n",
      " 16  NumOfCompleted         13523 non-null  int64  \n",
      " 17  NumOfCanceled          13523 non-null  int64  \n",
      " 18  AvgPrice               13523 non-null  float64\n",
      " 19  TotalExecutedQuantity  13523 non-null  int64  \n",
      " 20  TotalQuantity          13523 non-null  int64  \n",
      " 21  Churned                13523 non-null  int64  \n",
      "dtypes: float64(1), int64(17), object(4)\n",
      "memory usage: 2.3+ MB\n"
     ]
    }
   ],
   "source": [
    "df.info()"
   ]
  },
  {
   "cell_type": "code",
   "execution_count": 31,
   "metadata": {},
   "outputs": [],
   "source": [
    "churned_df = df[df[\"Churned\"] == 1]"
   ]
  },
  {
   "cell_type": "code",
   "execution_count": 35,
   "metadata": {},
   "outputs": [
    {
     "name": "stdout",
     "output_type": "stream",
     "text": [
      "0.26521611290796826\n"
     ]
    }
   ],
   "source": [
    "x = churned_df.groupby(\"ClientID\").size().to_list()\n",
    "count = 0\n",
    "for y in x:\n",
    "    if y > 1:\n",
    "        count += 1\n",
    "\n",
    "print(count / len(x))"
   ]
  },
  {
   "cell_type": "code",
   "execution_count": 11,
   "metadata": {},
   "outputs": [],
   "source": [
    "categorical_features = [\n",
    "    \"Gender\",\n",
    "    \"RiskRate\",\n",
    "    \"CompanyName\",\n",
    "    \"IsClosed\",\n",
    "    \"IsDormant\",\n",
    "    \"IsProfileSuspended\",\n",
    "    \"IsClientSuspended\",\n",
    "    \"ClientTypeName\",\n",
    "    \"OpenDate_Month\",\n",
    "    \"OpenDate_Year\",\n",
    "    \"BirthDate_Month\",\n",
    "    \"BirthDate_Year\",\n",
    "    \"LastOrder_Month\",\n",
    "    \"LastOrder_Year\",\n",
    "]"
   ]
  },
  {
   "cell_type": "code",
   "execution_count": null,
   "metadata": {},
   "outputs": [],
   "source": [
    "for i in range(len(categorical_features)):\n",
    "    plt.figure(i, figsize=(25, 10))\n",
    "    sns.countplot(data=df, x=categorical_features[i], hue=\"Churned\")\n",
    "\n",
    "plt.tight_layout()"
   ]
  },
  {
   "cell_type": "code",
   "execution_count": 5,
   "metadata": {},
   "outputs": [],
   "source": [
    "new_df1_target0 = df.loc[df[\"Churned\"] == 0]\n",
    "new_df1_target1 = df.loc[df[\"Churned\"] == 1]"
   ]
  },
  {
   "cell_type": "code",
   "execution_count": 8,
   "metadata": {},
   "outputs": [],
   "source": [
    "def uniplot(df, col, title, hue=None):\n",
    "\n",
    "    sns.set_style(\"whitegrid\")\n",
    "    sns.set_context(\"talk\")\n",
    "    plt.rcParams[\"axes.labelsize\"] = 20\n",
    "    plt.rcParams[\"axes.titlesize\"] = 22\n",
    "    plt.rcParams[\"axes.titlepad\"] = 30\n",
    "\n",
    "    temp = pd.Series(data=hue)\n",
    "    fig, ax = plt.subplots()\n",
    "    width = len(df[col].unique()) + 7 + 4 * len(temp.unique())\n",
    "    fig.set_size_inches(width, 8)\n",
    "    plt.xticks(rotation=45)\n",
    "    # plt.yscale(\"log\")\n",
    "    plt.title(title)\n",
    "    ax = sns.countplot(\n",
    "        data=df, x=col, order=df[col].value_counts().index, hue=hue, palette=\"bright\"\n",
    "    )\n",
    "\n",
    "    plt.show()"
   ]
  },
  {
   "cell_type": "code",
   "execution_count": null,
   "metadata": {},
   "outputs": [],
   "source": [
    "uniplot(\n",
    "    new_df1_target1,\n",
    "    col=\"Gender\",\n",
    "    title=\"Distribution of Gender for Churned Customers\",\n",
    "    hue=\"ClientTypeName\",\n",
    ")"
   ]
  },
  {
   "cell_type": "code",
   "execution_count": 20,
   "metadata": {},
   "outputs": [
    {
     "data": {
      "text/plain": [
       "Text(0.5, 1.0, 'Average price by churn')"
      ]
     },
     "execution_count": 20,
     "metadata": {},
     "output_type": "execute_result"
    },
    {
     "data": {
      "image/png": "[encoded data removed]",
      "text/plain": [
       "<Figure size 640x480 with 1 Axes>"
      ]
     },
     "metadata": {},
     "output_type": "display_data"
    }
   ],
   "source": [
    "Mth = sns.kdeplot(\n",
    "    df.NumOfOrders[(df[\"Churned\"] == 0)],\n",
    "    color=\"Red\",\n",
    "    fill=True,\n",
    ")\n",
    "Mth = sns.kdeplot(\n",
    "    df.NumOfOrders[(df[\"Churned\"] == 1)],\n",
    "    ax=Mth,\n",
    "    color=\"Blue\",\n",
    "    fill=True,\n",
    ")\n",
    "Mth.legend([\"No Churn\", \"Churn\"], loc=\"upper right\")\n",
    "Mth.set_ylabel(\"Density\")\n",
    "Mth.set_xlabel(\"Average price\")\n",
    "Mth.set_title(\"Average price by churn\")"
   ]
  }
 ],
 "metadata": {
  "kernelspec": {
   "display_name": "Python 3",
   "language": "python",
   "name": "python3"
  },
  "language_info": {
   "codemirror_mode": {
    "name": "ipython",
    "version": 3
   },
   "file_extension": ".py",
   "mimetype": "text/x-python",
   "name": "python",
   "nbconvert_exporter": "python",
   "pygments_lexer": "ipython3",
   "version": "3.12.0"
  }
 },
 "nbformat": 4,
 "nbformat_minor": 2
}
