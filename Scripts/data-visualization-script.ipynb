{
 "cells": [
  {
   "cell_type": "code",
   "execution_count": 1,
   "metadata": {},
   "outputs": [],
   "source": [
    "import pandas as pd\n",
    "import numpy as np\n",
    "import matplotlib.pyplot as plt\n",
    "import seaborn as sns\n",
    "from sklearn.preprocessing import MinMaxScaler, StandardScaler"
   ]
  },
  {
   "cell_type": "code",
   "execution_count": 2,
   "metadata": {},
   "outputs": [],
   "source": [
    "df = pd.read_csv(\"../Data/visualization_data.csv\")"
   ]
  },
  {
   "cell_type": "code",
   "execution_count": 3,
   "metadata": {},
   "outputs": [],
   "source": [
    "df.drop(columns=[\"CompanyName\"], inplace=True)"
   ]
  },
  {
   "cell_type": "code",
   "execution_count": 4,
   "metadata": {},
   "outputs": [
    {
     "data": {
      "text/html": [
       "<div>\n",
       "<style scoped>\n",
       "    .dataframe tbody tr th:only-of-type {\n",
       "        vertical-align: middle;\n",
       "    }\n",
       "\n",
       "    .dataframe tbody tr th {\n",
       "        vertical-align: top;\n",
       "    }\n",
       "\n",
       "    .dataframe thead th {\n",
       "        text-align: right;\n",
       "    }\n",
       "</style>\n",
       "<table border=\"1\" class=\"dataframe\">\n",
       "  <thead>\n",
       "    <tr style=\"text-align: right;\">\n",
       "      <th></th>\n",
       "      <th>ClientID</th>\n",
       "      <th>AccountID</th>\n",
       "      <th>Gender</th>\n",
       "      <th>RiskRate</th>\n",
       "      <th>IsClosed</th>\n",
       "      <th>IsDormant</th>\n",
       "      <th>IsProfileSuspended</th>\n",
       "      <th>IsClientSuspended</th>\n",
       "      <th>ClientTypeName</th>\n",
       "      <th>OpenDate_Month</th>\n",
       "      <th>...</th>\n",
       "      <th>SectorName_REALESTATE</th>\n",
       "      <th>SectorName_Telecommunications</th>\n",
       "      <th>SectorName_FOOD</th>\n",
       "      <th>SectorName_Others</th>\n",
       "      <th>SectorName_Tourism</th>\n",
       "      <th>SectorName_ConsumerServices</th>\n",
       "      <th>SectorName_Utilities</th>\n",
       "      <th>SectorName_Trade</th>\n",
       "      <th>SectorName_PharmaceuticalIndustries</th>\n",
       "      <th>Churned</th>\n",
       "    </tr>\n",
       "  </thead>\n",
       "  <tbody>\n",
       "    <tr>\n",
       "      <th>0</th>\n",
       "      <td>0</td>\n",
       "      <td>0</td>\n",
       "      <td>Male</td>\n",
       "      <td>Low</td>\n",
       "      <td>0</td>\n",
       "      <td>1</td>\n",
       "      <td>0</td>\n",
       "      <td>0</td>\n",
       "      <td>Individuals</td>\n",
       "      <td>2</td>\n",
       "      <td>...</td>\n",
       "      <td>0.0</td>\n",
       "      <td>0.0</td>\n",
       "      <td>0.000000</td>\n",
       "      <td>0.0</td>\n",
       "      <td>0.0</td>\n",
       "      <td>0.0</td>\n",
       "      <td>0.0</td>\n",
       "      <td>0.0</td>\n",
       "      <td>0.0</td>\n",
       "      <td>1</td>\n",
       "    </tr>\n",
       "    <tr>\n",
       "      <th>1</th>\n",
       "      <td>1</td>\n",
       "      <td>1</td>\n",
       "      <td>Female</td>\n",
       "      <td>Low</td>\n",
       "      <td>0</td>\n",
       "      <td>1</td>\n",
       "      <td>1</td>\n",
       "      <td>0</td>\n",
       "      <td>Individuals</td>\n",
       "      <td>2</td>\n",
       "      <td>...</td>\n",
       "      <td>0.0</td>\n",
       "      <td>0.0</td>\n",
       "      <td>2.797573</td>\n",
       "      <td>0.0</td>\n",
       "      <td>0.0</td>\n",
       "      <td>0.0</td>\n",
       "      <td>0.0</td>\n",
       "      <td>0.0</td>\n",
       "      <td>0.0</td>\n",
       "      <td>1</td>\n",
       "    </tr>\n",
       "    <tr>\n",
       "      <th>2</th>\n",
       "      <td>2</td>\n",
       "      <td>2</td>\n",
       "      <td>Male</td>\n",
       "      <td>Low</td>\n",
       "      <td>0</td>\n",
       "      <td>0</td>\n",
       "      <td>0</td>\n",
       "      <td>0</td>\n",
       "      <td>Individuals</td>\n",
       "      <td>2</td>\n",
       "      <td>...</td>\n",
       "      <td>0.0</td>\n",
       "      <td>0.0</td>\n",
       "      <td>0.000000</td>\n",
       "      <td>0.0</td>\n",
       "      <td>0.0</td>\n",
       "      <td>0.0</td>\n",
       "      <td>0.0</td>\n",
       "      <td>0.0</td>\n",
       "      <td>0.0</td>\n",
       "      <td>0</td>\n",
       "    </tr>\n",
       "    <tr>\n",
       "      <th>3</th>\n",
       "      <td>3</td>\n",
       "      <td>3</td>\n",
       "      <td>Male</td>\n",
       "      <td>Low</td>\n",
       "      <td>0</td>\n",
       "      <td>0</td>\n",
       "      <td>0</td>\n",
       "      <td>0</td>\n",
       "      <td>Individuals</td>\n",
       "      <td>2</td>\n",
       "      <td>...</td>\n",
       "      <td>0.0</td>\n",
       "      <td>0.0</td>\n",
       "      <td>0.000000</td>\n",
       "      <td>0.0</td>\n",
       "      <td>0.0</td>\n",
       "      <td>0.0</td>\n",
       "      <td>0.0</td>\n",
       "      <td>0.0</td>\n",
       "      <td>0.0</td>\n",
       "      <td>0</td>\n",
       "    </tr>\n",
       "    <tr>\n",
       "      <th>4</th>\n",
       "      <td>4</td>\n",
       "      <td>4</td>\n",
       "      <td>Male</td>\n",
       "      <td>Low</td>\n",
       "      <td>0</td>\n",
       "      <td>0</td>\n",
       "      <td>0</td>\n",
       "      <td>0</td>\n",
       "      <td>Individuals</td>\n",
       "      <td>2</td>\n",
       "      <td>...</td>\n",
       "      <td>0.0</td>\n",
       "      <td>0.0</td>\n",
       "      <td>0.000000</td>\n",
       "      <td>0.0</td>\n",
       "      <td>0.0</td>\n",
       "      <td>0.0</td>\n",
       "      <td>0.0</td>\n",
       "      <td>0.0</td>\n",
       "      <td>0.0</td>\n",
       "      <td>0</td>\n",
       "    </tr>\n",
       "  </tbody>\n",
       "</table>\n",
       "<p>5 rows × 388 columns</p>\n",
       "</div>"
      ],
      "text/plain": [
       "   ClientID  AccountID  Gender RiskRate  IsClosed  IsDormant  \\\n",
       "0         0          0    Male      Low         0          1   \n",
       "1         1          1  Female      Low         0          1   \n",
       "2         2          2    Male      Low         0          0   \n",
       "3         3          3    Male      Low         0          0   \n",
       "4         4          4    Male      Low         0          0   \n",
       "\n",
       "   IsProfileSuspended  IsClientSuspended ClientTypeName  OpenDate_Month  ...  \\\n",
       "0                   0                  0    Individuals               2  ...   \n",
       "1                   1                  0    Individuals               2  ...   \n",
       "2                   0                  0    Individuals               2  ...   \n",
       "3                   0                  0    Individuals               2  ...   \n",
       "4                   0                  0    Individuals               2  ...   \n",
       "\n",
       "   SectorName_REALESTATE  SectorName_Telecommunications  SectorName_FOOD  \\\n",
       "0                    0.0                            0.0         0.000000   \n",
       "1                    0.0                            0.0         2.797573   \n",
       "2                    0.0                            0.0         0.000000   \n",
       "3                    0.0                            0.0         0.000000   \n",
       "4                    0.0                            0.0         0.000000   \n",
       "\n",
       "   SectorName_Others  SectorName_Tourism  SectorName_ConsumerServices  \\\n",
       "0                0.0                 0.0                          0.0   \n",
       "1                0.0                 0.0                          0.0   \n",
       "2                0.0                 0.0                          0.0   \n",
       "3                0.0                 0.0                          0.0   \n",
       "4                0.0                 0.0                          0.0   \n",
       "\n",
       "   SectorName_Utilities  SectorName_Trade  \\\n",
       "0                   0.0               0.0   \n",
       "1                   0.0               0.0   \n",
       "2                   0.0               0.0   \n",
       "3                   0.0               0.0   \n",
       "4                   0.0               0.0   \n",
       "\n",
       "   SectorName_PharmaceuticalIndustries  Churned  \n",
       "0                                  0.0        1  \n",
       "1                                  0.0        1  \n",
       "2                                  0.0        0  \n",
       "3                                  0.0        0  \n",
       "4                                  0.0        0  \n",
       "\n",
       "[5 rows x 388 columns]"
      ]
     },
     "execution_count": 4,
     "metadata": {},
     "output_type": "execute_result"
    }
   ],
   "source": [
    "df.head()"
   ]
  },
  {
   "cell_type": "code",
   "execution_count": 5,
   "metadata": {},
   "outputs": [
    {
     "name": "stdout",
     "output_type": "stream",
     "text": [
      "<class 'pandas.core.frame.DataFrame'>\n",
      "RangeIndex: 13523 entries, 0 to 13522\n",
      "Columns: 388 entries, ClientID to Churned\n",
      "dtypes: float64(368), int64(17), object(3)\n",
      "memory usage: 40.0+ MB\n"
     ]
    }
   ],
   "source": [
    "df.info()"
   ]
  },
  {
   "cell_type": "code",
   "execution_count": 6,
   "metadata": {},
   "outputs": [],
   "source": [
    "agg_accounts = pd.DataFrame()"
   ]
  },
  {
   "cell_type": "code",
   "execution_count": 7,
   "metadata": {},
   "outputs": [],
   "source": [
    "agg_accounts = (\n",
    "    df.groupby(\"ClientID\")\n",
    "    .agg(\n",
    "        {\n",
    "            \"Gender\": \"first\",\n",
    "            \"Age\": \"first\",\n",
    "            \"IsClientSuspended\": \"first\",\n",
    "            \"ClientTypeName\": \"first\",\n",
    "            \"RiskRate\": \"first\",\n",
    "        },\n",
    "    )\n",
    "    .reset_index()\n",
    ")"
   ]
  },
  {
   "cell_type": "code",
   "execution_count": 8,
   "metadata": {},
   "outputs": [],
   "source": [
    "agg_accounts[\"NumOfAccounts\"] = df.groupby(\"ClientID\").size()"
   ]
  },
  {
   "cell_type": "code",
   "execution_count": 9,
   "metadata": {},
   "outputs": [],
   "source": [
    "agg_accounts[\"NumOfClosedAccounts\"] = df.groupby(\"ClientID\")[\"IsClosed\"].sum()"
   ]
  },
  {
   "cell_type": "code",
   "execution_count": 10,
   "metadata": {},
   "outputs": [],
   "source": [
    "agg_accounts[\"NumOfDormantAccounts\"] = df.groupby(\"ClientID\")[\"IsDormant\"].sum()"
   ]
  },
  {
   "cell_type": "code",
   "execution_count": 11,
   "metadata": {},
   "outputs": [],
   "source": [
    "agg_accounts[\"NumOfSuspendedAccounts\"] = df.groupby(\"ClientID\")[\n",
    "    \"IsProfileSuspended\"\n",
    "].sum()"
   ]
  },
  {
   "cell_type": "code",
   "execution_count": 12,
   "metadata": {},
   "outputs": [],
   "source": [
    "agg_accounts[\"NumOfOrders\"] = df.groupby(\"ClientID\")[\"NumOfOrders\"].sum()"
   ]
  },
  {
   "cell_type": "code",
   "execution_count": 13,
   "metadata": {},
   "outputs": [],
   "source": [
    "agg_accounts[\"NumOfCompletedOrders\"] = df.groupby(\"ClientID\")[\"NumOfCompleted\"].sum()"
   ]
  },
  {
   "cell_type": "code",
   "execution_count": 14,
   "metadata": {},
   "outputs": [],
   "source": [
    "agg_accounts[\"NumOfCanceledOrders\"] = df.groupby(\"ClientID\")[\"NumOfCanceled\"].sum()"
   ]
  },
  {
   "cell_type": "code",
   "execution_count": 15,
   "metadata": {},
   "outputs": [],
   "source": [
    "agg_accounts[\"TotalExecutedQuantity\"] = df.groupby(\"ClientID\")[\n",
    "    \"TotalExecutedQuantity\"\n",
    "].sum()"
   ]
  },
  {
   "cell_type": "code",
   "execution_count": 16,
   "metadata": {},
   "outputs": [],
   "source": [
    "agg_accounts[\"TotalQuantity\"] = df.groupby(\"ClientID\")[\"TotalQuantity\"].sum()"
   ]
  },
  {
   "cell_type": "code",
   "execution_count": 17,
   "metadata": {},
   "outputs": [],
   "source": [
    "agg_accounts[\"AvgPrice\"] = (\n",
    "    df.groupby(\"ClientID\")[\"AvgPrice\"].sum() / df.groupby(\"ClientID\").size()\n",
    ")"
   ]
  },
  {
   "cell_type": "code",
   "execution_count": 18,
   "metadata": {},
   "outputs": [],
   "source": [
    "agg_dict = {}\n",
    "\n",
    "for col in df.columns:\n",
    "    if (\n",
    "        \"OrderType\" in col\n",
    "        or \"SecurityID\" in col\n",
    "        or \"OrderVia\" in col\n",
    "        or \"ExecutionStatus\" in col\n",
    "        or \"SectorName\" in col\n",
    "    ):\n",
    "        agg_dict[col] = (\n",
    "            df.groupby(\"ClientID\")[col].sum() / df.groupby(\"ClientID\").size()\n",
    "        )\n",
    "\n",
    "agg_accounts = pd.concat([agg_accounts, pd.DataFrame(agg_dict)], axis=1)"
   ]
  },
  {
   "cell_type": "code",
   "execution_count": 19,
   "metadata": {},
   "outputs": [],
   "source": [
    "df[\"OpenedDate\"] = pd.to_datetime(\n",
    "    df[\"OpenDate_Year\"].astype(str) + \"-\" + df[\"OpenDate_Month\"].astype(str) + \"-01\"\n",
    ")"
   ]
  },
  {
   "cell_type": "code",
   "execution_count": 20,
   "metadata": {},
   "outputs": [],
   "source": [
    "agg_accounts[\"LastOpenedAccountDate\"] = df.groupby(\"ClientID\")[\"OpenedDate\"].max()"
   ]
  },
  {
   "cell_type": "code",
   "execution_count": 21,
   "metadata": {},
   "outputs": [],
   "source": [
    "df[\"LastOrderDate\"] = pd.to_datetime(\n",
    "    df[\"LastOrder_Year\"].astype(str) + \"-\" + df[\"LastOrder_Month\"].astype(str) + \"-01\",\n",
    "    errors=\"coerce\",\n",
    ")"
   ]
  },
  {
   "cell_type": "code",
   "execution_count": 22,
   "metadata": {},
   "outputs": [],
   "source": [
    "agg_accounts[\"LastOrderDateAccrossAccounts\"] = df.groupby(\"ClientID\")[\n",
    "    \"OpenedDate\"\n",
    "].max()"
   ]
  },
  {
   "cell_type": "code",
   "execution_count": 51,
   "metadata": {},
   "outputs": [],
   "source": [
    "# max_numOfAccounts = np.average(agg_accounts[\"NumOfAccounts\"])\n",
    "# data = np.array(agg_accounts[\"NumOfAccounts\"]).reshape(-1, 1)\n",
    "# scaled_accounts = MinMaxScaler().fit_transform(data)\n",
    "\n",
    "# if df.groupby(\"ClientID\")[\"Churned\"].sum():\n",
    "#     agg_accounts[\"ChurnedProbability\"]\n",
    "# agg_accounts[\"ChurnedProbability\"] = (df.groupby(\"ClientID\")[\"Churned\"].sum() + 1) / (\n",
    "#     agg_accounts[\"NumOfAccounts\"] + 2\n",
    "# )"
   ]
  },
  {
   "cell_type": "code",
   "execution_count": 48,
   "metadata": {},
   "outputs": [
    {
     "data": {
      "text/html": [
       "<div>\n",
       "<style scoped>\n",
       "    .dataframe tbody tr th:only-of-type {\n",
       "        vertical-align: middle;\n",
       "    }\n",
       "\n",
       "    .dataframe tbody tr th {\n",
       "        vertical-align: top;\n",
       "    }\n",
       "\n",
       "    .dataframe thead th {\n",
       "        text-align: right;\n",
       "    }\n",
       "</style>\n",
       "<table border=\"1\" class=\"dataframe\">\n",
       "  <thead>\n",
       "    <tr style=\"text-align: right;\">\n",
       "      <th></th>\n",
       "      <th>ClientID</th>\n",
       "      <th>Gender</th>\n",
       "      <th>Age</th>\n",
       "      <th>IsClientSuspended</th>\n",
       "      <th>ClientTypeName</th>\n",
       "      <th>RiskRate</th>\n",
       "      <th>NumOfAccounts</th>\n",
       "      <th>NumOfClosedAccounts</th>\n",
       "      <th>NumOfDormantAccounts</th>\n",
       "      <th>NumOfSuspendedAccounts</th>\n",
       "      <th>...</th>\n",
       "      <th>SectorName_FOOD</th>\n",
       "      <th>SectorName_Others</th>\n",
       "      <th>SectorName_Tourism</th>\n",
       "      <th>SectorName_ConsumerServices</th>\n",
       "      <th>SectorName_Utilities</th>\n",
       "      <th>SectorName_Trade</th>\n",
       "      <th>SectorName_PharmaceuticalIndustries</th>\n",
       "      <th>LastOpenedAccountDate</th>\n",
       "      <th>LastOrderDateAccrossAccounts</th>\n",
       "      <th>ChurnedProbability</th>\n",
       "    </tr>\n",
       "  </thead>\n",
       "  <tbody>\n",
       "  </tbody>\n",
       "</table>\n",
       "<p>0 rows × 386 columns</p>\n",
       "</div>"
      ],
      "text/plain": [
       "Empty DataFrame\n",
       "Columns: [ClientID, Gender, Age, IsClientSuspended, ClientTypeName, RiskRate, NumOfAccounts, NumOfClosedAccounts, NumOfDormantAccounts, NumOfSuspendedAccounts, NumOfOrders, NumOfCompletedOrders, NumOfCanceledOrders, TotalExecutedQuantity, TotalQuantity, AvgPrice, OrderType_Buy, OrderType_Sell, SecurityID_0, SecurityID_1, SecurityID_2, SecurityID_3, SecurityID_4, SecurityID_5, SecurityID_6, SecurityID_7, SecurityID_8, SecurityID_9, SecurityID_10, SecurityID_11, SecurityID_12, SecurityID_13, SecurityID_14, SecurityID_15, SecurityID_16, SecurityID_17, SecurityID_18, SecurityID_19, SecurityID_20, SecurityID_21, SecurityID_22, SecurityID_23, SecurityID_24, SecurityID_25, SecurityID_26, SecurityID_27, SecurityID_28, SecurityID_29, SecurityID_30, SecurityID_31, SecurityID_32, SecurityID_33, SecurityID_34, SecurityID_35, SecurityID_36, SecurityID_37, SecurityID_38, SecurityID_39, SecurityID_40, SecurityID_41, SecurityID_42, SecurityID_43, SecurityID_44, SecurityID_45, SecurityID_46, SecurityID_47, SecurityID_48, SecurityID_49, SecurityID_50, SecurityID_51, SecurityID_52, SecurityID_53, SecurityID_54, SecurityID_55, SecurityID_56, SecurityID_57, SecurityID_58, SecurityID_59, SecurityID_60, SecurityID_61, SecurityID_62, SecurityID_63, SecurityID_64, SecurityID_65, SecurityID_66, SecurityID_67, SecurityID_68, SecurityID_69, SecurityID_70, SecurityID_71, SecurityID_72, SecurityID_73, SecurityID_74, SecurityID_75, SecurityID_76, SecurityID_77, SecurityID_78, SecurityID_79, SecurityID_80, SecurityID_81, ...]\n",
       "Index: []\n",
       "\n",
       "[0 rows x 386 columns]"
      ]
     },
     "execution_count": 48,
     "metadata": {},
     "output_type": "execute_result"
    }
   ],
   "source": [
    "agg_accounts[agg_accounts[\"ChurnedProbability\"] == 0]"
   ]
  }
 ],
 "metadata": {
  "kernelspec": {
   "display_name": "Python 3",
   "language": "python",
   "name": "python3"
  },
  "language_info": {
   "codemirror_mode": {
    "name": "ipython",
    "version": 3
   },
   "file_extension": ".py",
   "mimetype": "text/x-python",
   "name": "python",
   "nbconvert_exporter": "python",
   "pygments_lexer": "ipython3",
   "version": "3.12.0"
  }
 },
 "nbformat": 4,
 "nbformat_minor": 2
}
