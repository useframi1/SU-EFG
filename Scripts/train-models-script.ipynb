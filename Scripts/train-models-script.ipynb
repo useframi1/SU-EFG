{
 "cells": [
  {
   "cell_type": "markdown",
   "id": "4d603111",
   "metadata": {},
   "source": [
    "# Training Models\n"
   ]
  },
  {
   "cell_type": "markdown",
   "id": "1b4fcd24",
   "metadata": {},
   "source": [
    "Imports\n"
   ]
  },
  {
   "cell_type": "code",
   "execution_count": 1,
   "id": "initial_id",
   "metadata": {
    "ExecuteTime": {
     "end_time": "2024-04-01T23:18:02.668553Z",
     "start_time": "2024-04-01T23:18:02.660261Z"
    },
    "collapsed": true
   },
   "outputs": [],
   "source": [
    "import numpy as np\n",
    "import pandas as pd\n",
    "from sklearn.naive_bayes import GaussianNB\n",
    "from sklearn.model_selection import GridSearchCV, KFold, train_test_split\n",
    "from sklearn.metrics import (\n",
    "    classification_report,\n",
    "    precision_score,\n",
    "    recall_score,\n",
    "    accuracy_score,\n",
    "    f1_score,\n",
    ")\n",
    "from sklearn.neighbors import KNeighborsClassifier\n",
    "from sklearn.tree import DecisionTreeClassifier\n",
    "from sklearn.ensemble import RandomForestClassifier\n",
    "from sklearn.linear_model import LogisticRegression\n",
    "from sklearn.svm import SVC\n",
    "from keras.callbacks import EarlyStopping\n",
    "from keras.models import Sequential\n",
    "from keras.layers import Dense, Dropout\n",
    "from imblearn.over_sampling import SMOTE"
   ]
  },
  {
   "cell_type": "code",
   "execution_count": 2,
   "id": "a916951a",
   "metadata": {},
   "outputs": [],
   "source": [
    "df = pd.read_csv(\"../Data/cleaned_dataset.csv\")"
   ]
  },
  {
   "cell_type": "code",
   "execution_count": 3,
   "id": "0defea7e",
   "metadata": {},
   "outputs": [],
   "source": [
    "X = df.iloc[:, 2:-1]\n",
    "y = df.iloc[:, -1]"
   ]
  },
  {
   "cell_type": "code",
   "execution_count": 4,
   "id": "ee4691e5",
   "metadata": {},
   "outputs": [],
   "source": [
    "sm = SMOTE()"
   ]
  },
  {
   "cell_type": "code",
   "execution_count": 5,
   "id": "fe554473",
   "metadata": {},
   "outputs": [],
   "source": [
    "X_res, y_res = sm.fit_resample(X, y)"
   ]
  },
  {
   "cell_type": "code",
   "execution_count": 6,
   "id": "62d6ecb3",
   "metadata": {},
   "outputs": [],
   "source": [
    "df = pd.concat([X_res, y_res], axis=1)"
   ]
  },
  {
   "cell_type": "code",
   "execution_count": 7,
   "id": "d36238e5",
   "metadata": {},
   "outputs": [],
   "source": [
    "train_df, test_df = train_test_split(df, test_size=0.2)"
   ]
  },
  {
   "cell_type": "markdown",
   "id": "87de432b",
   "metadata": {},
   "source": [
    "Get the training features and label\n"
   ]
  },
  {
   "cell_type": "code",
   "execution_count": 8,
   "id": "5a01b36e",
   "metadata": {},
   "outputs": [],
   "source": [
    "X_train = train_df.iloc[:, :-1].to_numpy()\n",
    "y_train = train_df.iloc[:, -1].to_numpy()"
   ]
  },
  {
   "cell_type": "markdown",
   "id": "5fcb1cb4",
   "metadata": {},
   "source": [
    "Get the testing features and label\n"
   ]
  },
  {
   "cell_type": "code",
   "execution_count": 9,
   "id": "295ca88a",
   "metadata": {},
   "outputs": [],
   "source": [
    "X_test = test_df.iloc[:, :-1].to_numpy()\n",
    "y_test = test_df.iloc[:, -1].to_numpy()"
   ]
  },
  {
   "cell_type": "markdown",
   "id": "a4d6b52c",
   "metadata": {},
   "source": [
    "Initialize a 5-fold cross-validation object\n"
   ]
  },
  {
   "cell_type": "code",
   "execution_count": 10,
   "id": "9afe1cc9",
   "metadata": {},
   "outputs": [],
   "source": [
    "KF = KFold(n_splits=5)"
   ]
  },
  {
   "cell_type": "markdown",
   "id": "fecf83ec7649e441",
   "metadata": {
    "collapsed": false
   },
   "source": [
    "## KNN\n"
   ]
  },
  {
   "cell_type": "code",
   "execution_count": 11,
   "id": "1b4d9558",
   "metadata": {},
   "outputs": [],
   "source": [
    "KNN = KNeighborsClassifier()"
   ]
  },
  {
   "cell_type": "code",
   "execution_count": 12,
   "id": "d35586d3",
   "metadata": {},
   "outputs": [],
   "source": [
    "param_grid = {\"n_neighbors\": list(range(1, int(np.sqrt(len(X_train))), 2))}"
   ]
  },
  {
   "cell_type": "code",
   "execution_count": 13,
   "id": "e702281a",
   "metadata": {},
   "outputs": [],
   "source": [
    "grid_search = GridSearchCV(estimator=KNN, param_grid=param_grid, cv=KF, verbose=2)"
   ]
  },
  {
   "cell_type": "code",
   "execution_count": 14,
   "id": "402a2814",
   "metadata": {},
   "outputs": [
    {
     "name": "stdout",
     "output_type": "stream",
     "text": [
      "Fitting 5 folds for each of 58 candidates, totalling 290 fits\n",
      "[CV] END ......................................n_neighbors=1; total time=   0.2s\n",
      "[CV] END ......................................n_neighbors=1; total time=   0.2s\n",
      "[CV] END ......................................n_neighbors=1; total time=   0.3s\n",
      "[CV] END ......................................n_neighbors=1; total time=   0.2s\n",
      "[CV] END ......................................n_neighbors=1; total time=   0.2s\n",
      "[CV] END ......................................n_neighbors=3; total time=   0.2s\n",
      "[CV] END ......................................n_neighbors=3; total time=   0.2s\n",
      "[CV] END ......................................n_neighbors=3; total time=   0.2s\n",
      "[CV] END ......................................n_neighbors=3; total time=   0.2s\n",
      "[CV] END ......................................n_neighbors=3; total time=   0.2s\n",
      "[CV] END ......................................n_neighbors=5; total time=   0.2s\n",
      "[CV] END ......................................n_neighbors=5; total time=   0.2s\n",
      "[CV] END ......................................n_neighbors=5; total time=   0.2s\n",
      "[CV] END ......................................n_neighbors=5; total time=   0.2s\n",
      "[CV] END ......................................n_neighbors=5; total time=   0.2s\n",
      "[CV] END ......................................n_neighbors=7; total time=   0.2s\n",
      "[CV] END ......................................n_neighbors=7; total time=   0.2s\n",
      "[CV] END ......................................n_neighbors=7; total time=   0.1s\n",
      "[CV] END ......................................n_neighbors=7; total time=   0.2s\n",
      "[CV] END ......................................n_neighbors=7; total time=   0.2s\n",
      "[CV] END ......................................n_neighbors=9; total time=   0.2s\n",
      "[CV] END ......................................n_neighbors=9; total time=   0.2s\n",
      "[CV] END ......................................n_neighbors=9; total time=   0.2s\n",
      "[CV] END ......................................n_neighbors=9; total time=   0.2s\n",
      "[CV] END ......................................n_neighbors=9; total time=   0.2s\n",
      "[CV] END .....................................n_neighbors=11; total time=   0.2s\n",
      "[CV] END .....................................n_neighbors=11; total time=   0.2s\n",
      "[CV] END .....................................n_neighbors=11; total time=   0.2s\n",
      "[CV] END .....................................n_neighbors=11; total time=   0.2s\n",
      "[CV] END .....................................n_neighbors=11; total time=   0.2s\n",
      "[CV] END .....................................n_neighbors=13; total time=   0.2s\n",
      "[CV] END .....................................n_neighbors=13; total time=   0.2s\n",
      "[CV] END .....................................n_neighbors=13; total time=   0.2s\n",
      "[CV] END .....................................n_neighbors=13; total time=   0.2s\n",
      "[CV] END .....................................n_neighbors=13; total time=   0.2s\n",
      "[CV] END .....................................n_neighbors=15; total time=   0.2s\n",
      "[CV] END .....................................n_neighbors=15; total time=   0.2s\n",
      "[CV] END .....................................n_neighbors=15; total time=   0.2s\n",
      "[CV] END .....................................n_neighbors=15; total time=   0.2s\n",
      "[CV] END .....................................n_neighbors=15; total time=   0.2s\n",
      "[CV] END .....................................n_neighbors=17; total time=   0.2s\n",
      "[CV] END .....................................n_neighbors=17; total time=   0.2s\n",
      "[CV] END .....................................n_neighbors=17; total time=   0.2s\n",
      "[CV] END .....................................n_neighbors=17; total time=   0.2s\n",
      "[CV] END .....................................n_neighbors=17; total time=   0.2s\n",
      "[CV] END .....................................n_neighbors=19; total time=   0.2s\n",
      "[CV] END .....................................n_neighbors=19; total time=   0.2s\n",
      "[CV] END .....................................n_neighbors=19; total time=   0.2s\n",
      "[CV] END .....................................n_neighbors=19; total time=   0.2s\n",
      "[CV] END .....................................n_neighbors=19; total time=   0.2s\n",
      "[CV] END .....................................n_neighbors=21; total time=   0.2s\n",
      "[CV] END .....................................n_neighbors=21; total time=   0.2s\n",
      "[CV] END .....................................n_neighbors=21; total time=   0.2s\n",
      "[CV] END .....................................n_neighbors=21; total time=   0.2s\n",
      "[CV] END .....................................n_neighbors=21; total time=   0.2s\n",
      "[CV] END .....................................n_neighbors=23; total time=   0.2s\n",
      "[CV] END .....................................n_neighbors=23; total time=   0.2s\n",
      "[CV] END .....................................n_neighbors=23; total time=   0.2s\n",
      "[CV] END .....................................n_neighbors=23; total time=   0.2s\n",
      "[CV] END .....................................n_neighbors=23; total time=   0.2s\n",
      "[CV] END .....................................n_neighbors=25; total time=   0.2s\n",
      "[CV] END .....................................n_neighbors=25; total time=   0.2s\n",
      "[CV] END .....................................n_neighbors=25; total time=   0.2s\n",
      "[CV] END .....................................n_neighbors=25; total time=   0.2s\n",
      "[CV] END .....................................n_neighbors=25; total time=   0.2s\n",
      "[CV] END .....................................n_neighbors=27; total time=   0.2s\n",
      "[CV] END .....................................n_neighbors=27; total time=   0.2s\n",
      "[CV] END .....................................n_neighbors=27; total time=   0.2s\n",
      "[CV] END .....................................n_neighbors=27; total time=   0.2s\n",
      "[CV] END .....................................n_neighbors=27; total time=   0.2s\n",
      "[CV] END .....................................n_neighbors=29; total time=   0.2s\n",
      "[CV] END .....................................n_neighbors=29; total time=   0.2s\n",
      "[CV] END .....................................n_neighbors=29; total time=   0.2s\n",
      "[CV] END .....................................n_neighbors=29; total time=   0.2s\n",
      "[CV] END .....................................n_neighbors=29; total time=   0.2s\n",
      "[CV] END .....................................n_neighbors=31; total time=   0.2s\n",
      "[CV] END .....................................n_neighbors=31; total time=   0.2s\n",
      "[CV] END .....................................n_neighbors=31; total time=   0.2s\n",
      "[CV] END .....................................n_neighbors=31; total time=   0.2s\n",
      "[CV] END .....................................n_neighbors=31; total time=   0.2s\n",
      "[CV] END .....................................n_neighbors=33; total time=   0.2s\n",
      "[CV] END .....................................n_neighbors=33; total time=   0.2s\n",
      "[CV] END .....................................n_neighbors=33; total time=   0.2s\n",
      "[CV] END .....................................n_neighbors=33; total time=   0.2s\n",
      "[CV] END .....................................n_neighbors=33; total time=   0.2s\n",
      "[CV] END .....................................n_neighbors=35; total time=   0.2s\n",
      "[CV] END .....................................n_neighbors=35; total time=   0.3s\n",
      "[CV] END .....................................n_neighbors=35; total time=   0.2s\n",
      "[CV] END .....................................n_neighbors=35; total time=   0.2s\n",
      "[CV] END .....................................n_neighbors=35; total time=   0.2s\n",
      "[CV] END .....................................n_neighbors=37; total time=   0.2s\n",
      "[CV] END .....................................n_neighbors=37; total time=   0.2s\n",
      "[CV] END .....................................n_neighbors=37; total time=   0.2s\n",
      "[CV] END .....................................n_neighbors=37; total time=   0.2s\n",
      "[CV] END .....................................n_neighbors=37; total time=   0.2s\n",
      "[CV] END .....................................n_neighbors=39; total time=   0.2s\n",
      "[CV] END .....................................n_neighbors=39; total time=   0.2s\n",
      "[CV] END .....................................n_neighbors=39; total time=   0.2s\n",
      "[CV] END .....................................n_neighbors=39; total time=   0.2s\n",
      "[CV] END .....................................n_neighbors=39; total time=   0.2s\n",
      "[CV] END .....................................n_neighbors=41; total time=   0.2s\n",
      "[CV] END .....................................n_neighbors=41; total time=   0.2s\n",
      "[CV] END .....................................n_neighbors=41; total time=   0.2s\n",
      "[CV] END .....................................n_neighbors=41; total time=   0.2s\n",
      "[CV] END .....................................n_neighbors=41; total time=   0.2s\n",
      "[CV] END .....................................n_neighbors=43; total time=   0.2s\n",
      "[CV] END .....................................n_neighbors=43; total time=   0.2s\n",
      "[CV] END .....................................n_neighbors=43; total time=   0.2s\n",
      "[CV] END .....................................n_neighbors=43; total time=   0.2s\n",
      "[CV] END .....................................n_neighbors=43; total time=   0.2s\n",
      "[CV] END .....................................n_neighbors=45; total time=   0.2s\n",
      "[CV] END .....................................n_neighbors=45; total time=   0.2s\n",
      "[CV] END .....................................n_neighbors=45; total time=   0.2s\n",
      "[CV] END .....................................n_neighbors=45; total time=   0.2s\n",
      "[CV] END .....................................n_neighbors=45; total time=   0.2s\n",
      "[CV] END .....................................n_neighbors=47; total time=   0.2s\n",
      "[CV] END .....................................n_neighbors=47; total time=   0.2s\n",
      "[CV] END .....................................n_neighbors=47; total time=   0.2s\n",
      "[CV] END .....................................n_neighbors=47; total time=   0.2s\n",
      "[CV] END .....................................n_neighbors=47; total time=   0.2s\n",
      "[CV] END .....................................n_neighbors=49; total time=   0.2s\n",
      "[CV] END .....................................n_neighbors=49; total time=   0.2s\n",
      "[CV] END .....................................n_neighbors=49; total time=   0.2s\n",
      "[CV] END .....................................n_neighbors=49; total time=   0.2s\n",
      "[CV] END .....................................n_neighbors=49; total time=   0.2s\n",
      "[CV] END .....................................n_neighbors=51; total time=   0.2s\n",
      "[CV] END .....................................n_neighbors=51; total time=   0.2s\n",
      "[CV] END .....................................n_neighbors=51; total time=   0.2s\n",
      "[CV] END .....................................n_neighbors=51; total time=   0.2s\n",
      "[CV] END .....................................n_neighbors=51; total time=   0.2s\n",
      "[CV] END .....................................n_neighbors=53; total time=   0.2s\n",
      "[CV] END .....................................n_neighbors=53; total time=   0.3s\n",
      "[CV] END .....................................n_neighbors=53; total time=   0.2s\n",
      "[CV] END .....................................n_neighbors=53; total time=   0.2s\n",
      "[CV] END .....................................n_neighbors=53; total time=   0.2s\n",
      "[CV] END .....................................n_neighbors=55; total time=   0.2s\n",
      "[CV] END .....................................n_neighbors=55; total time=   0.2s\n",
      "[CV] END .....................................n_neighbors=55; total time=   0.2s\n",
      "[CV] END .....................................n_neighbors=55; total time=   0.2s\n",
      "[CV] END .....................................n_neighbors=55; total time=   0.2s\n",
      "[CV] END .....................................n_neighbors=57; total time=   0.2s\n",
      "[CV] END .....................................n_neighbors=57; total time=   0.2s\n",
      "[CV] END .....................................n_neighbors=57; total time=   0.2s\n",
      "[CV] END .....................................n_neighbors=57; total time=   0.2s\n",
      "[CV] END .....................................n_neighbors=57; total time=   0.2s\n",
      "[CV] END .....................................n_neighbors=59; total time=   0.2s\n",
      "[CV] END .....................................n_neighbors=59; total time=   0.2s\n",
      "[CV] END .....................................n_neighbors=59; total time=   0.2s\n",
      "[CV] END .....................................n_neighbors=59; total time=   0.2s\n",
      "[CV] END .....................................n_neighbors=59; total time=   0.2s\n",
      "[CV] END .....................................n_neighbors=61; total time=   0.2s\n",
      "[CV] END .....................................n_neighbors=61; total time=   0.2s\n",
      "[CV] END .....................................n_neighbors=61; total time=   0.2s\n",
      "[CV] END .....................................n_neighbors=61; total time=   0.2s\n",
      "[CV] END .....................................n_neighbors=61; total time=   0.2s\n",
      "[CV] END .....................................n_neighbors=63; total time=   0.2s\n",
      "[CV] END .....................................n_neighbors=63; total time=   0.2s\n",
      "[CV] END .....................................n_neighbors=63; total time=   0.2s\n",
      "[CV] END .....................................n_neighbors=63; total time=   0.2s\n",
      "[CV] END .....................................n_neighbors=63; total time=   0.2s\n",
      "[CV] END .....................................n_neighbors=65; total time=   0.3s\n",
      "[CV] END .....................................n_neighbors=65; total time=   0.2s\n",
      "[CV] END .....................................n_neighbors=65; total time=   0.2s\n",
      "[CV] END .....................................n_neighbors=65; total time=   0.2s\n",
      "[CV] END .....................................n_neighbors=65; total time=   0.2s\n",
      "[CV] END .....................................n_neighbors=67; total time=   0.2s\n",
      "[CV] END .....................................n_neighbors=67; total time=   0.2s\n",
      "[CV] END .....................................n_neighbors=67; total time=   0.2s\n",
      "[CV] END .....................................n_neighbors=67; total time=   0.2s\n",
      "[CV] END .....................................n_neighbors=67; total time=   0.2s\n",
      "[CV] END .....................................n_neighbors=69; total time=   0.2s\n",
      "[CV] END .....................................n_neighbors=69; total time=   0.2s\n",
      "[CV] END .....................................n_neighbors=69; total time=   0.2s\n",
      "[CV] END .....................................n_neighbors=69; total time=   0.2s\n",
      "[CV] END .....................................n_neighbors=69; total time=   0.2s\n",
      "[CV] END .....................................n_neighbors=71; total time=   0.2s\n",
      "[CV] END .....................................n_neighbors=71; total time=   0.2s\n",
      "[CV] END .....................................n_neighbors=71; total time=   0.2s\n",
      "[CV] END .....................................n_neighbors=71; total time=   0.2s\n",
      "[CV] END .....................................n_neighbors=71; total time=   0.2s\n",
      "[CV] END .....................................n_neighbors=73; total time=   0.2s\n",
      "[CV] END .....................................n_neighbors=73; total time=   0.3s\n",
      "[CV] END .....................................n_neighbors=73; total time=   0.2s\n",
      "[CV] END .....................................n_neighbors=73; total time=   0.2s\n",
      "[CV] END .....................................n_neighbors=73; total time=   0.2s\n",
      "[CV] END .....................................n_neighbors=75; total time=   0.2s\n",
      "[CV] END .....................................n_neighbors=75; total time=   0.2s\n",
      "[CV] END .....................................n_neighbors=75; total time=   0.3s\n",
      "[CV] END .....................................n_neighbors=75; total time=   0.2s\n",
      "[CV] END .....................................n_neighbors=75; total time=   0.2s\n",
      "[CV] END .....................................n_neighbors=77; total time=   0.2s\n",
      "[CV] END .....................................n_neighbors=77; total time=   0.2s\n",
      "[CV] END .....................................n_neighbors=77; total time=   0.2s\n",
      "[CV] END .....................................n_neighbors=77; total time=   0.2s\n",
      "[CV] END .....................................n_neighbors=77; total time=   0.2s\n",
      "[CV] END .....................................n_neighbors=79; total time=   0.2s\n",
      "[CV] END .....................................n_neighbors=79; total time=   0.2s\n",
      "[CV] END .....................................n_neighbors=79; total time=   0.2s\n",
      "[CV] END .....................................n_neighbors=79; total time=   0.2s\n",
      "[CV] END .....................................n_neighbors=79; total time=   0.2s\n",
      "[CV] END .....................................n_neighbors=81; total time=   0.2s\n",
      "[CV] END .....................................n_neighbors=81; total time=   0.3s\n",
      "[CV] END .....................................n_neighbors=81; total time=   0.2s\n",
      "[CV] END .....................................n_neighbors=81; total time=   0.2s\n",
      "[CV] END .....................................n_neighbors=81; total time=   0.2s\n",
      "[CV] END .....................................n_neighbors=83; total time=   0.2s\n",
      "[CV] END .....................................n_neighbors=83; total time=   0.2s\n",
      "[CV] END .....................................n_neighbors=83; total time=   0.2s\n",
      "[CV] END .....................................n_neighbors=83; total time=   0.2s\n",
      "[CV] END .....................................n_neighbors=83; total time=   0.2s\n",
      "[CV] END .....................................n_neighbors=85; total time=   0.2s\n",
      "[CV] END .....................................n_neighbors=85; total time=   0.2s\n",
      "[CV] END .....................................n_neighbors=85; total time=   0.2s\n",
      "[CV] END .....................................n_neighbors=85; total time=   0.2s\n",
      "[CV] END .....................................n_neighbors=85; total time=   0.2s\n",
      "[CV] END .....................................n_neighbors=87; total time=   0.2s\n",
      "[CV] END .....................................n_neighbors=87; total time=   0.2s\n",
      "[CV] END .....................................n_neighbors=87; total time=   0.2s\n",
      "[CV] END .....................................n_neighbors=87; total time=   0.2s\n",
      "[CV] END .....................................n_neighbors=87; total time=   0.2s\n",
      "[CV] END .....................................n_neighbors=89; total time=   0.2s\n",
      "[CV] END .....................................n_neighbors=89; total time=   0.2s\n",
      "[CV] END .....................................n_neighbors=89; total time=   0.2s\n",
      "[CV] END .....................................n_neighbors=89; total time=   0.2s\n",
      "[CV] END .....................................n_neighbors=89; total time=   0.2s\n",
      "[CV] END .....................................n_neighbors=91; total time=   0.2s\n",
      "[CV] END .....................................n_neighbors=91; total time=   0.2s\n",
      "[CV] END .....................................n_neighbors=91; total time=   0.2s\n",
      "[CV] END .....................................n_neighbors=91; total time=   0.2s\n",
      "[CV] END .....................................n_neighbors=91; total time=   0.2s\n",
      "[CV] END .....................................n_neighbors=93; total time=   0.3s\n",
      "[CV] END .....................................n_neighbors=93; total time=   0.4s\n",
      "[CV] END .....................................n_neighbors=93; total time=   0.2s\n",
      "[CV] END .....................................n_neighbors=93; total time=   0.2s\n",
      "[CV] END .....................................n_neighbors=93; total time=   0.2s\n",
      "[CV] END .....................................n_neighbors=95; total time=   0.2s\n",
      "[CV] END .....................................n_neighbors=95; total time=   0.2s\n",
      "[CV] END .....................................n_neighbors=95; total time=   0.2s\n",
      "[CV] END .....................................n_neighbors=95; total time=   0.2s\n",
      "[CV] END .....................................n_neighbors=95; total time=   0.2s\n",
      "[CV] END .....................................n_neighbors=97; total time=   0.2s\n",
      "[CV] END .....................................n_neighbors=97; total time=   0.2s\n",
      "[CV] END .....................................n_neighbors=97; total time=   0.2s\n",
      "[CV] END .....................................n_neighbors=97; total time=   0.2s\n",
      "[CV] END .....................................n_neighbors=97; total time=   0.2s\n",
      "[CV] END .....................................n_neighbors=99; total time=   0.2s\n",
      "[CV] END .....................................n_neighbors=99; total time=   0.2s\n",
      "[CV] END .....................................n_neighbors=99; total time=   0.2s\n",
      "[CV] END .....................................n_neighbors=99; total time=   0.2s\n",
      "[CV] END .....................................n_neighbors=99; total time=   0.2s\n",
      "[CV] END ....................................n_neighbors=101; total time=   0.2s\n",
      "[CV] END ....................................n_neighbors=101; total time=   0.2s\n",
      "[CV] END ....................................n_neighbors=101; total time=   0.2s\n",
      "[CV] END ....................................n_neighbors=101; total time=   0.2s\n",
      "[CV] END ....................................n_neighbors=101; total time=   0.2s\n",
      "[CV] END ....................................n_neighbors=103; total time=   0.2s\n",
      "[CV] END ....................................n_neighbors=103; total time=   0.2s\n",
      "[CV] END ....................................n_neighbors=103; total time=   0.2s\n",
      "[CV] END ....................................n_neighbors=103; total time=   0.2s\n",
      "[CV] END ....................................n_neighbors=103; total time=   0.2s\n",
      "[CV] END ....................................n_neighbors=105; total time=   0.2s\n",
      "[CV] END ....................................n_neighbors=105; total time=   0.2s\n",
      "[CV] END ....................................n_neighbors=105; total time=   0.2s\n",
      "[CV] END ....................................n_neighbors=105; total time=   0.2s\n",
      "[CV] END ....................................n_neighbors=105; total time=   0.2s\n",
      "[CV] END ....................................n_neighbors=107; total time=   0.2s\n",
      "[CV] END ....................................n_neighbors=107; total time=   0.2s\n",
      "[CV] END ....................................n_neighbors=107; total time=   0.2s\n",
      "[CV] END ....................................n_neighbors=107; total time=   0.2s\n",
      "[CV] END ....................................n_neighbors=107; total time=   0.2s\n",
      "[CV] END ....................................n_neighbors=109; total time=   0.2s\n",
      "[CV] END ....................................n_neighbors=109; total time=   0.2s\n",
      "[CV] END ....................................n_neighbors=109; total time=   0.2s\n",
      "[CV] END ....................................n_neighbors=109; total time=   0.2s\n",
      "[CV] END ....................................n_neighbors=109; total time=   0.2s\n",
      "[CV] END ....................................n_neighbors=111; total time=   0.2s\n",
      "[CV] END ....................................n_neighbors=111; total time=   0.2s\n",
      "[CV] END ....................................n_neighbors=111; total time=   0.2s\n",
      "[CV] END ....................................n_neighbors=111; total time=   0.2s\n",
      "[CV] END ....................................n_neighbors=111; total time=   0.2s\n",
      "[CV] END ....................................n_neighbors=113; total time=   0.2s\n",
      "[CV] END ....................................n_neighbors=113; total time=   0.2s\n",
      "[CV] END ....................................n_neighbors=113; total time=   0.2s\n",
      "[CV] END ....................................n_neighbors=113; total time=   0.2s\n",
      "[CV] END ....................................n_neighbors=113; total time=   0.2s\n",
      "[CV] END ....................................n_neighbors=115; total time=   0.2s\n",
      "[CV] END ....................................n_neighbors=115; total time=   0.2s\n",
      "[CV] END ....................................n_neighbors=115; total time=   0.2s\n",
      "[CV] END ....................................n_neighbors=115; total time=   0.2s\n",
      "[CV] END ....................................n_neighbors=115; total time=   0.2s\n"
     ]
    },
    {
     "data": {
      "text/html": [
       "<style>#sk-container-id-1 {\n",
       "  /* Definition of color scheme common for light and dark mode */\n",
       "  --sklearn-color-text: black;\n",
       "  --sklearn-color-line: gray;\n",
       "  /* Definition of color scheme for unfitted estimators */\n",
       "  --sklearn-color-unfitted-level-0: #fff5e6;\n",
       "  --sklearn-color-unfitted-level-1: #f6e4d2;\n",
       "  --sklearn-color-unfitted-level-2: #ffe0b3;\n",
       "  --sklearn-color-unfitted-level-3: chocolate;\n",
       "  /* Definition of color scheme for fitted estimators */\n",
       "  --sklearn-color-fitted-level-0: #f0f8ff;\n",
       "  --sklearn-color-fitted-level-1: #d4ebff;\n",
       "  --sklearn-color-fitted-level-2: #b3dbfd;\n",
       "  --sklearn-color-fitted-level-3: cornflowerblue;\n",
       "\n",
       "  /* Specific color for light theme */\n",
       "  --sklearn-color-text-on-default-background: var(--sg-text-color, var(--theme-code-foreground, var(--jp-content-font-color1, black)));\n",
       "  --sklearn-color-background: var(--sg-background-color, var(--theme-background, var(--jp-layout-color0, white)));\n",
       "  --sklearn-color-border-box: var(--sg-text-color, var(--theme-code-foreground, var(--jp-content-font-color1, black)));\n",
       "  --sklearn-color-icon: #696969;\n",
       "\n",
       "  @media (prefers-color-scheme: dark) {\n",
       "    /* Redefinition of color scheme for dark theme */\n",
       "    --sklearn-color-text-on-default-background: var(--sg-text-color, var(--theme-code-foreground, var(--jp-content-font-color1, white)));\n",
       "    --sklearn-color-background: var(--sg-background-color, var(--theme-background, var(--jp-layout-color0, #111)));\n",
       "    --sklearn-color-border-box: var(--sg-text-color, var(--theme-code-foreground, var(--jp-content-font-color1, white)));\n",
       "    --sklearn-color-icon: #878787;\n",
       "  }\n",
       "}\n",
       "\n",
       "#sk-container-id-1 {\n",
       "  color: var(--sklearn-color-text);\n",
       "}\n",
       "\n",
       "#sk-container-id-1 pre {\n",
       "  padding: 0;\n",
       "}\n",
       "\n",
       "#sk-container-id-1 input.sk-hidden--visually {\n",
       "  border: 0;\n",
       "  clip: rect(1px 1px 1px 1px);\n",
       "  clip: rect(1px, 1px, 1px, 1px);\n",
       "  height: 1px;\n",
       "  margin: -1px;\n",
       "  overflow: hidden;\n",
       "  padding: 0;\n",
       "  position: absolute;\n",
       "  width: 1px;\n",
       "}\n",
       "\n",
       "#sk-container-id-1 div.sk-dashed-wrapped {\n",
       "  border: 1px dashed var(--sklearn-color-line);\n",
       "  margin: 0 0.4em 0.5em 0.4em;\n",
       "  box-sizing: border-box;\n",
       "  padding-bottom: 0.4em;\n",
       "  background-color: var(--sklearn-color-background);\n",
       "}\n",
       "\n",
       "#sk-container-id-1 div.sk-container {\n",
       "  /* jupyter's `normalize.less` sets `[hidden] { display: none; }`\n",
       "     but bootstrap.min.css set `[hidden] { display: none !important; }`\n",
       "     so we also need the `!important` here to be able to override the\n",
       "     default hidden behavior on the sphinx rendered scikit-learn.org.\n",
       "     See: https://github.com/scikit-learn/scikit-learn/issues/21755 */\n",
       "  display: inline-block !important;\n",
       "  position: relative;\n",
       "}\n",
       "\n",
       "#sk-container-id-1 div.sk-text-repr-fallback {\n",
       "  display: none;\n",
       "}\n",
       "\n",
       "div.sk-parallel-item,\n",
       "div.sk-serial,\n",
       "div.sk-item {\n",
       "  /* draw centered vertical line to link estimators */\n",
       "  background-image: linear-gradient(var(--sklearn-color-text-on-default-background), var(--sklearn-color-text-on-default-background));\n",
       "  background-size: 2px 100%;\n",
       "  background-repeat: no-repeat;\n",
       "  background-position: center center;\n",
       "}\n",
       "\n",
       "/* Parallel-specific style estimator block */\n",
       "\n",
       "#sk-container-id-1 div.sk-parallel-item::after {\n",
       "  content: \"\";\n",
       "  width: 100%;\n",
       "  border-bottom: 2px solid var(--sklearn-color-text-on-default-background);\n",
       "  flex-grow: 1;\n",
       "}\n",
       "\n",
       "#sk-container-id-1 div.sk-parallel {\n",
       "  display: flex;\n",
       "  align-items: stretch;\n",
       "  justify-content: center;\n",
       "  background-color: var(--sklearn-color-background);\n",
       "  position: relative;\n",
       "}\n",
       "\n",
       "#sk-container-id-1 div.sk-parallel-item {\n",
       "  display: flex;\n",
       "  flex-direction: column;\n",
       "}\n",
       "\n",
       "#sk-container-id-1 div.sk-parallel-item:first-child::after {\n",
       "  align-self: flex-end;\n",
       "  width: 50%;\n",
       "}\n",
       "\n",
       "#sk-container-id-1 div.sk-parallel-item:last-child::after {\n",
       "  align-self: flex-start;\n",
       "  width: 50%;\n",
       "}\n",
       "\n",
       "#sk-container-id-1 div.sk-parallel-item:only-child::after {\n",
       "  width: 0;\n",
       "}\n",
       "\n",
       "/* Serial-specific style estimator block */\n",
       "\n",
       "#sk-container-id-1 div.sk-serial {\n",
       "  display: flex;\n",
       "  flex-direction: column;\n",
       "  align-items: center;\n",
       "  background-color: var(--sklearn-color-background);\n",
       "  padding-right: 1em;\n",
       "  padding-left: 1em;\n",
       "}\n",
       "\n",
       "\n",
       "/* Toggleable style: style used for estimator/Pipeline/ColumnTransformer box that is\n",
       "clickable and can be expanded/collapsed.\n",
       "- Pipeline and ColumnTransformer use this feature and define the default style\n",
       "- Estimators will overwrite some part of the style using the `sk-estimator` class\n",
       "*/\n",
       "\n",
       "/* Pipeline and ColumnTransformer style (default) */\n",
       "\n",
       "#sk-container-id-1 div.sk-toggleable {\n",
       "  /* Default theme specific background. It is overwritten whether we have a\n",
       "  specific estimator or a Pipeline/ColumnTransformer */\n",
       "  background-color: var(--sklearn-color-background);\n",
       "}\n",
       "\n",
       "/* Toggleable label */\n",
       "#sk-container-id-1 label.sk-toggleable__label {\n",
       "  cursor: pointer;\n",
       "  display: block;\n",
       "  width: 100%;\n",
       "  margin-bottom: 0;\n",
       "  padding: 0.5em;\n",
       "  box-sizing: border-box;\n",
       "  text-align: center;\n",
       "}\n",
       "\n",
       "#sk-container-id-1 label.sk-toggleable__label-arrow:before {\n",
       "  /* Arrow on the left of the label */\n",
       "  content: \"▸\";\n",
       "  float: left;\n",
       "  margin-right: 0.25em;\n",
       "  color: var(--sklearn-color-icon);\n",
       "}\n",
       "\n",
       "#sk-container-id-1 label.sk-toggleable__label-arrow:hover:before {\n",
       "  color: var(--sklearn-color-text);\n",
       "}\n",
       "\n",
       "/* Toggleable content - dropdown */\n",
       "\n",
       "#sk-container-id-1 div.sk-toggleable__content {\n",
       "  max-height: 0;\n",
       "  max-width: 0;\n",
       "  overflow: hidden;\n",
       "  text-align: left;\n",
       "  /* unfitted */\n",
       "  background-color: var(--sklearn-color-unfitted-level-0);\n",
       "}\n",
       "\n",
       "#sk-container-id-1 div.sk-toggleable__content.fitted {\n",
       "  /* fitted */\n",
       "  background-color: var(--sklearn-color-fitted-level-0);\n",
       "}\n",
       "\n",
       "#sk-container-id-1 div.sk-toggleable__content pre {\n",
       "  margin: 0.2em;\n",
       "  border-radius: 0.25em;\n",
       "  color: var(--sklearn-color-text);\n",
       "  /* unfitted */\n",
       "  background-color: var(--sklearn-color-unfitted-level-0);\n",
       "}\n",
       "\n",
       "#sk-container-id-1 div.sk-toggleable__content.fitted pre {\n",
       "  /* unfitted */\n",
       "  background-color: var(--sklearn-color-fitted-level-0);\n",
       "}\n",
       "\n",
       "#sk-container-id-1 input.sk-toggleable__control:checked~div.sk-toggleable__content {\n",
       "  /* Expand drop-down */\n",
       "  max-height: 200px;\n",
       "  max-width: 100%;\n",
       "  overflow: auto;\n",
       "}\n",
       "\n",
       "#sk-container-id-1 input.sk-toggleable__control:checked~label.sk-toggleable__label-arrow:before {\n",
       "  content: \"▾\";\n",
       "}\n",
       "\n",
       "/* Pipeline/ColumnTransformer-specific style */\n",
       "\n",
       "#sk-container-id-1 div.sk-label input.sk-toggleable__control:checked~label.sk-toggleable__label {\n",
       "  color: var(--sklearn-color-text);\n",
       "  background-color: var(--sklearn-color-unfitted-level-2);\n",
       "}\n",
       "\n",
       "#sk-container-id-1 div.sk-label.fitted input.sk-toggleable__control:checked~label.sk-toggleable__label {\n",
       "  background-color: var(--sklearn-color-fitted-level-2);\n",
       "}\n",
       "\n",
       "/* Estimator-specific style */\n",
       "\n",
       "/* Colorize estimator box */\n",
       "#sk-container-id-1 div.sk-estimator input.sk-toggleable__control:checked~label.sk-toggleable__label {\n",
       "  /* unfitted */\n",
       "  background-color: var(--sklearn-color-unfitted-level-2);\n",
       "}\n",
       "\n",
       "#sk-container-id-1 div.sk-estimator.fitted input.sk-toggleable__control:checked~label.sk-toggleable__label {\n",
       "  /* fitted */\n",
       "  background-color: var(--sklearn-color-fitted-level-2);\n",
       "}\n",
       "\n",
       "#sk-container-id-1 div.sk-label label.sk-toggleable__label,\n",
       "#sk-container-id-1 div.sk-label label {\n",
       "  /* The background is the default theme color */\n",
       "  color: var(--sklearn-color-text-on-default-background);\n",
       "}\n",
       "\n",
       "/* On hover, darken the color of the background */\n",
       "#sk-container-id-1 div.sk-label:hover label.sk-toggleable__label {\n",
       "  color: var(--sklearn-color-text);\n",
       "  background-color: var(--sklearn-color-unfitted-level-2);\n",
       "}\n",
       "\n",
       "/* Label box, darken color on hover, fitted */\n",
       "#sk-container-id-1 div.sk-label.fitted:hover label.sk-toggleable__label.fitted {\n",
       "  color: var(--sklearn-color-text);\n",
       "  background-color: var(--sklearn-color-fitted-level-2);\n",
       "}\n",
       "\n",
       "/* Estimator label */\n",
       "\n",
       "#sk-container-id-1 div.sk-label label {\n",
       "  font-family: monospace;\n",
       "  font-weight: bold;\n",
       "  display: inline-block;\n",
       "  line-height: 1.2em;\n",
       "}\n",
       "\n",
       "#sk-container-id-1 div.sk-label-container {\n",
       "  text-align: center;\n",
       "}\n",
       "\n",
       "/* Estimator-specific */\n",
       "#sk-container-id-1 div.sk-estimator {\n",
       "  font-family: monospace;\n",
       "  border: 1px dotted var(--sklearn-color-border-box);\n",
       "  border-radius: 0.25em;\n",
       "  box-sizing: border-box;\n",
       "  margin-bottom: 0.5em;\n",
       "  /* unfitted */\n",
       "  background-color: var(--sklearn-color-unfitted-level-0);\n",
       "}\n",
       "\n",
       "#sk-container-id-1 div.sk-estimator.fitted {\n",
       "  /* fitted */\n",
       "  background-color: var(--sklearn-color-fitted-level-0);\n",
       "}\n",
       "\n",
       "/* on hover */\n",
       "#sk-container-id-1 div.sk-estimator:hover {\n",
       "  /* unfitted */\n",
       "  background-color: var(--sklearn-color-unfitted-level-2);\n",
       "}\n",
       "\n",
       "#sk-container-id-1 div.sk-estimator.fitted:hover {\n",
       "  /* fitted */\n",
       "  background-color: var(--sklearn-color-fitted-level-2);\n",
       "}\n",
       "\n",
       "/* Specification for estimator info (e.g. \"i\" and \"?\") */\n",
       "\n",
       "/* Common style for \"i\" and \"?\" */\n",
       "\n",
       ".sk-estimator-doc-link,\n",
       "a:link.sk-estimator-doc-link,\n",
       "a:visited.sk-estimator-doc-link {\n",
       "  float: right;\n",
       "  font-size: smaller;\n",
       "  line-height: 1em;\n",
       "  font-family: monospace;\n",
       "  background-color: var(--sklearn-color-background);\n",
       "  border-radius: 1em;\n",
       "  height: 1em;\n",
       "  width: 1em;\n",
       "  text-decoration: none !important;\n",
       "  margin-left: 1ex;\n",
       "  /* unfitted */\n",
       "  border: var(--sklearn-color-unfitted-level-1) 1pt solid;\n",
       "  color: var(--sklearn-color-unfitted-level-1);\n",
       "}\n",
       "\n",
       ".sk-estimator-doc-link.fitted,\n",
       "a:link.sk-estimator-doc-link.fitted,\n",
       "a:visited.sk-estimator-doc-link.fitted {\n",
       "  /* fitted */\n",
       "  border: var(--sklearn-color-fitted-level-1) 1pt solid;\n",
       "  color: var(--sklearn-color-fitted-level-1);\n",
       "}\n",
       "\n",
       "/* On hover */\n",
       "div.sk-estimator:hover .sk-estimator-doc-link:hover,\n",
       ".sk-estimator-doc-link:hover,\n",
       "div.sk-label-container:hover .sk-estimator-doc-link:hover,\n",
       ".sk-estimator-doc-link:hover {\n",
       "  /* unfitted */\n",
       "  background-color: var(--sklearn-color-unfitted-level-3);\n",
       "  color: var(--sklearn-color-background);\n",
       "  text-decoration: none;\n",
       "}\n",
       "\n",
       "div.sk-estimator.fitted:hover .sk-estimator-doc-link.fitted:hover,\n",
       ".sk-estimator-doc-link.fitted:hover,\n",
       "div.sk-label-container:hover .sk-estimator-doc-link.fitted:hover,\n",
       ".sk-estimator-doc-link.fitted:hover {\n",
       "  /* fitted */\n",
       "  background-color: var(--sklearn-color-fitted-level-3);\n",
       "  color: var(--sklearn-color-background);\n",
       "  text-decoration: none;\n",
       "}\n",
       "\n",
       "/* Span, style for the box shown on hovering the info icon */\n",
       ".sk-estimator-doc-link span {\n",
       "  display: none;\n",
       "  z-index: 9999;\n",
       "  position: relative;\n",
       "  font-weight: normal;\n",
       "  right: .2ex;\n",
       "  padding: .5ex;\n",
       "  margin: .5ex;\n",
       "  width: min-content;\n",
       "  min-width: 20ex;\n",
       "  max-width: 50ex;\n",
       "  color: var(--sklearn-color-text);\n",
       "  box-shadow: 2pt 2pt 4pt #999;\n",
       "  /* unfitted */\n",
       "  background: var(--sklearn-color-unfitted-level-0);\n",
       "  border: .5pt solid var(--sklearn-color-unfitted-level-3);\n",
       "}\n",
       "\n",
       ".sk-estimator-doc-link.fitted span {\n",
       "  /* fitted */\n",
       "  background: var(--sklearn-color-fitted-level-0);\n",
       "  border: var(--sklearn-color-fitted-level-3);\n",
       "}\n",
       "\n",
       ".sk-estimator-doc-link:hover span {\n",
       "  display: block;\n",
       "}\n",
       "\n",
       "/* \"?\"-specific style due to the `<a>` HTML tag */\n",
       "\n",
       "#sk-container-id-1 a.estimator_doc_link {\n",
       "  float: right;\n",
       "  font-size: 1rem;\n",
       "  line-height: 1em;\n",
       "  font-family: monospace;\n",
       "  background-color: var(--sklearn-color-background);\n",
       "  border-radius: 1rem;\n",
       "  height: 1rem;\n",
       "  width: 1rem;\n",
       "  text-decoration: none;\n",
       "  /* unfitted */\n",
       "  color: var(--sklearn-color-unfitted-level-1);\n",
       "  border: var(--sklearn-color-unfitted-level-1) 1pt solid;\n",
       "}\n",
       "\n",
       "#sk-container-id-1 a.estimator_doc_link.fitted {\n",
       "  /* fitted */\n",
       "  border: var(--sklearn-color-fitted-level-1) 1pt solid;\n",
       "  color: var(--sklearn-color-fitted-level-1);\n",
       "}\n",
       "\n",
       "/* On hover */\n",
       "#sk-container-id-1 a.estimator_doc_link:hover {\n",
       "  /* unfitted */\n",
       "  background-color: var(--sklearn-color-unfitted-level-3);\n",
       "  color: var(--sklearn-color-background);\n",
       "  text-decoration: none;\n",
       "}\n",
       "\n",
       "#sk-container-id-1 a.estimator_doc_link.fitted:hover {\n",
       "  /* fitted */\n",
       "  background-color: var(--sklearn-color-fitted-level-3);\n",
       "}\n",
       "</style><div id=\"sk-container-id-1\" class=\"sk-top-container\"><div class=\"sk-text-repr-fallback\"><pre>GridSearchCV(cv=KFold(n_splits=5, random_state=None, shuffle=False),\n",
       "             estimator=KNeighborsClassifier(),\n",
       "             param_grid={&#x27;n_neighbors&#x27;: [1, 3, 5, 7, 9, 11, 13, 15, 17, 19, 21,\n",
       "                                         23, 25, 27, 29, 31, 33, 35, 37, 39, 41,\n",
       "                                         43, 45, 47, 49, 51, 53, 55, 57, 59, ...]},\n",
       "             verbose=2)</pre><b>In a Jupyter environment, please rerun this cell to show the HTML representation or trust the notebook. <br />On GitHub, the HTML representation is unable to render, please try loading this page with nbviewer.org.</b></div><div class=\"sk-container\" hidden><div class=\"sk-item sk-dashed-wrapped\"><div class=\"sk-label-container\"><div class=\"sk-label fitted sk-toggleable\"><input class=\"sk-toggleable__control sk-hidden--visually\" id=\"sk-estimator-id-1\" type=\"checkbox\" ><label for=\"sk-estimator-id-1\" class=\"sk-toggleable__label fitted sk-toggleable__label-arrow fitted\">&nbsp;&nbsp;GridSearchCV<a class=\"sk-estimator-doc-link fitted\" rel=\"noreferrer\" target=\"_blank\" href=\"https://scikit-learn.org/1.4/modules/generated/sklearn.model_selection.GridSearchCV.html\">?<span>Documentation for GridSearchCV</span></a><span class=\"sk-estimator-doc-link fitted\">i<span>Fitted</span></span></label><div class=\"sk-toggleable__content fitted\"><pre>GridSearchCV(cv=KFold(n_splits=5, random_state=None, shuffle=False),\n",
       "             estimator=KNeighborsClassifier(),\n",
       "             param_grid={&#x27;n_neighbors&#x27;: [1, 3, 5, 7, 9, 11, 13, 15, 17, 19, 21,\n",
       "                                         23, 25, 27, 29, 31, 33, 35, 37, 39, 41,\n",
       "                                         43, 45, 47, 49, 51, 53, 55, 57, 59, ...]},\n",
       "             verbose=2)</pre></div> </div></div><div class=\"sk-parallel\"><div class=\"sk-parallel-item\"><div class=\"sk-item\"><div class=\"sk-label-container\"><div class=\"sk-label fitted sk-toggleable\"><input class=\"sk-toggleable__control sk-hidden--visually\" id=\"sk-estimator-id-2\" type=\"checkbox\" ><label for=\"sk-estimator-id-2\" class=\"sk-toggleable__label fitted sk-toggleable__label-arrow fitted\">estimator: KNeighborsClassifier</label><div class=\"sk-toggleable__content fitted\"><pre>KNeighborsClassifier()</pre></div> </div></div><div class=\"sk-serial\"><div class=\"sk-item\"><div class=\"sk-estimator fitted sk-toggleable\"><input class=\"sk-toggleable__control sk-hidden--visually\" id=\"sk-estimator-id-3\" type=\"checkbox\" ><label for=\"sk-estimator-id-3\" class=\"sk-toggleable__label fitted sk-toggleable__label-arrow fitted\">&nbsp;KNeighborsClassifier<a class=\"sk-estimator-doc-link fitted\" rel=\"noreferrer\" target=\"_blank\" href=\"https://scikit-learn.org/1.4/modules/generated/sklearn.neighbors.KNeighborsClassifier.html\">?<span>Documentation for KNeighborsClassifier</span></a></label><div class=\"sk-toggleable__content fitted\"><pre>KNeighborsClassifier()</pre></div> </div></div></div></div></div></div></div></div></div>"
      ],
      "text/plain": [
       "GridSearchCV(cv=KFold(n_splits=5, random_state=None, shuffle=False),\n",
       "             estimator=KNeighborsClassifier(),\n",
       "             param_grid={'n_neighbors': [1, 3, 5, 7, 9, 11, 13, 15, 17, 19, 21,\n",
       "                                         23, 25, 27, 29, 31, 33, 35, 37, 39, 41,\n",
       "                                         43, 45, 47, 49, 51, 53, 55, 57, 59, ...]},\n",
       "             verbose=2)"
      ]
     },
     "execution_count": 14,
     "metadata": {},
     "output_type": "execute_result"
    }
   ],
   "source": [
    "grid_search.fit(X_train, y_train)"
   ]
  },
  {
   "cell_type": "code",
   "execution_count": 15,
   "id": "3c4c2394",
   "metadata": {},
   "outputs": [
    {
     "name": "stdout",
     "output_type": "stream",
     "text": [
      "{'n_neighbors': 1}\n"
     ]
    }
   ],
   "source": [
    "best_params = grid_search.best_params_\n",
    "print(best_params)"
   ]
  },
  {
   "cell_type": "code",
   "execution_count": 16,
   "id": "0c64ab0f",
   "metadata": {},
   "outputs": [],
   "source": [
    "KNN_best = KNeighborsClassifier(**best_params)"
   ]
  },
  {
   "cell_type": "code",
   "execution_count": 17,
   "id": "b143ad72",
   "metadata": {},
   "outputs": [
    {
     "data": {
      "text/html": [
       "<style>#sk-container-id-2 {\n",
       "  /* Definition of color scheme common for light and dark mode */\n",
       "  --sklearn-color-text: black;\n",
       "  --sklearn-color-line: gray;\n",
       "  /* Definition of color scheme for unfitted estimators */\n",
       "  --sklearn-color-unfitted-level-0: #fff5e6;\n",
       "  --sklearn-color-unfitted-level-1: #f6e4d2;\n",
       "  --sklearn-color-unfitted-level-2: #ffe0b3;\n",
       "  --sklearn-color-unfitted-level-3: chocolate;\n",
       "  /* Definition of color scheme for fitted estimators */\n",
       "  --sklearn-color-fitted-level-0: #f0f8ff;\n",
       "  --sklearn-color-fitted-level-1: #d4ebff;\n",
       "  --sklearn-color-fitted-level-2: #b3dbfd;\n",
       "  --sklearn-color-fitted-level-3: cornflowerblue;\n",
       "\n",
       "  /* Specific color for light theme */\n",
       "  --sklearn-color-text-on-default-background: var(--sg-text-color, var(--theme-code-foreground, var(--jp-content-font-color1, black)));\n",
       "  --sklearn-color-background: var(--sg-background-color, var(--theme-background, var(--jp-layout-color0, white)));\n",
       "  --sklearn-color-border-box: var(--sg-text-color, var(--theme-code-foreground, var(--jp-content-font-color1, black)));\n",
       "  --sklearn-color-icon: #696969;\n",
       "\n",
       "  @media (prefers-color-scheme: dark) {\n",
       "    /* Redefinition of color scheme for dark theme */\n",
       "    --sklearn-color-text-on-default-background: var(--sg-text-color, var(--theme-code-foreground, var(--jp-content-font-color1, white)));\n",
       "    --sklearn-color-background: var(--sg-background-color, var(--theme-background, var(--jp-layout-color0, #111)));\n",
       "    --sklearn-color-border-box: var(--sg-text-color, var(--theme-code-foreground, var(--jp-content-font-color1, white)));\n",
       "    --sklearn-color-icon: #878787;\n",
       "  }\n",
       "}\n",
       "\n",
       "#sk-container-id-2 {\n",
       "  color: var(--sklearn-color-text);\n",
       "}\n",
       "\n",
       "#sk-container-id-2 pre {\n",
       "  padding: 0;\n",
       "}\n",
       "\n",
       "#sk-container-id-2 input.sk-hidden--visually {\n",
       "  border: 0;\n",
       "  clip: rect(1px 1px 1px 1px);\n",
       "  clip: rect(1px, 1px, 1px, 1px);\n",
       "  height: 1px;\n",
       "  margin: -1px;\n",
       "  overflow: hidden;\n",
       "  padding: 0;\n",
       "  position: absolute;\n",
       "  width: 1px;\n",
       "}\n",
       "\n",
       "#sk-container-id-2 div.sk-dashed-wrapped {\n",
       "  border: 1px dashed var(--sklearn-color-line);\n",
       "  margin: 0 0.4em 0.5em 0.4em;\n",
       "  box-sizing: border-box;\n",
       "  padding-bottom: 0.4em;\n",
       "  background-color: var(--sklearn-color-background);\n",
       "}\n",
       "\n",
       "#sk-container-id-2 div.sk-container {\n",
       "  /* jupyter's `normalize.less` sets `[hidden] { display: none; }`\n",
       "     but bootstrap.min.css set `[hidden] { display: none !important; }`\n",
       "     so we also need the `!important` here to be able to override the\n",
       "     default hidden behavior on the sphinx rendered scikit-learn.org.\n",
       "     See: https://github.com/scikit-learn/scikit-learn/issues/21755 */\n",
       "  display: inline-block !important;\n",
       "  position: relative;\n",
       "}\n",
       "\n",
       "#sk-container-id-2 div.sk-text-repr-fallback {\n",
       "  display: none;\n",
       "}\n",
       "\n",
       "div.sk-parallel-item,\n",
       "div.sk-serial,\n",
       "div.sk-item {\n",
       "  /* draw centered vertical line to link estimators */\n",
       "  background-image: linear-gradient(var(--sklearn-color-text-on-default-background), var(--sklearn-color-text-on-default-background));\n",
       "  background-size: 2px 100%;\n",
       "  background-repeat: no-repeat;\n",
       "  background-position: center center;\n",
       "}\n",
       "\n",
       "/* Parallel-specific style estimator block */\n",
       "\n",
       "#sk-container-id-2 div.sk-parallel-item::after {\n",
       "  content: \"\";\n",
       "  width: 100%;\n",
       "  border-bottom: 2px solid var(--sklearn-color-text-on-default-background);\n",
       "  flex-grow: 1;\n",
       "}\n",
       "\n",
       "#sk-container-id-2 div.sk-parallel {\n",
       "  display: flex;\n",
       "  align-items: stretch;\n",
       "  justify-content: center;\n",
       "  background-color: var(--sklearn-color-background);\n",
       "  position: relative;\n",
       "}\n",
       "\n",
       "#sk-container-id-2 div.sk-parallel-item {\n",
       "  display: flex;\n",
       "  flex-direction: column;\n",
       "}\n",
       "\n",
       "#sk-container-id-2 div.sk-parallel-item:first-child::after {\n",
       "  align-self: flex-end;\n",
       "  width: 50%;\n",
       "}\n",
       "\n",
       "#sk-container-id-2 div.sk-parallel-item:last-child::after {\n",
       "  align-self: flex-start;\n",
       "  width: 50%;\n",
       "}\n",
       "\n",
       "#sk-container-id-2 div.sk-parallel-item:only-child::after {\n",
       "  width: 0;\n",
       "}\n",
       "\n",
       "/* Serial-specific style estimator block */\n",
       "\n",
       "#sk-container-id-2 div.sk-serial {\n",
       "  display: flex;\n",
       "  flex-direction: column;\n",
       "  align-items: center;\n",
       "  background-color: var(--sklearn-color-background);\n",
       "  padding-right: 1em;\n",
       "  padding-left: 1em;\n",
       "}\n",
       "\n",
       "\n",
       "/* Toggleable style: style used for estimator/Pipeline/ColumnTransformer box that is\n",
       "clickable and can be expanded/collapsed.\n",
       "- Pipeline and ColumnTransformer use this feature and define the default style\n",
       "- Estimators will overwrite some part of the style using the `sk-estimator` class\n",
       "*/\n",
       "\n",
       "/* Pipeline and ColumnTransformer style (default) */\n",
       "\n",
       "#sk-container-id-2 div.sk-toggleable {\n",
       "  /* Default theme specific background. It is overwritten whether we have a\n",
       "  specific estimator or a Pipeline/ColumnTransformer */\n",
       "  background-color: var(--sklearn-color-background);\n",
       "}\n",
       "\n",
       "/* Toggleable label */\n",
       "#sk-container-id-2 label.sk-toggleable__label {\n",
       "  cursor: pointer;\n",
       "  display: block;\n",
       "  width: 100%;\n",
       "  margin-bottom: 0;\n",
       "  padding: 0.5em;\n",
       "  box-sizing: border-box;\n",
       "  text-align: center;\n",
       "}\n",
       "\n",
       "#sk-container-id-2 label.sk-toggleable__label-arrow:before {\n",
       "  /* Arrow on the left of the label */\n",
       "  content: \"▸\";\n",
       "  float: left;\n",
       "  margin-right: 0.25em;\n",
       "  color: var(--sklearn-color-icon);\n",
       "}\n",
       "\n",
       "#sk-container-id-2 label.sk-toggleable__label-arrow:hover:before {\n",
       "  color: var(--sklearn-color-text);\n",
       "}\n",
       "\n",
       "/* Toggleable content - dropdown */\n",
       "\n",
       "#sk-container-id-2 div.sk-toggleable__content {\n",
       "  max-height: 0;\n",
       "  max-width: 0;\n",
       "  overflow: hidden;\n",
       "  text-align: left;\n",
       "  /* unfitted */\n",
       "  background-color: var(--sklearn-color-unfitted-level-0);\n",
       "}\n",
       "\n",
       "#sk-container-id-2 div.sk-toggleable__content.fitted {\n",
       "  /* fitted */\n",
       "  background-color: var(--sklearn-color-fitted-level-0);\n",
       "}\n",
       "\n",
       "#sk-container-id-2 div.sk-toggleable__content pre {\n",
       "  margin: 0.2em;\n",
       "  border-radius: 0.25em;\n",
       "  color: var(--sklearn-color-text);\n",
       "  /* unfitted */\n",
       "  background-color: var(--sklearn-color-unfitted-level-0);\n",
       "}\n",
       "\n",
       "#sk-container-id-2 div.sk-toggleable__content.fitted pre {\n",
       "  /* unfitted */\n",
       "  background-color: var(--sklearn-color-fitted-level-0);\n",
       "}\n",
       "\n",
       "#sk-container-id-2 input.sk-toggleable__control:checked~div.sk-toggleable__content {\n",
       "  /* Expand drop-down */\n",
       "  max-height: 200px;\n",
       "  max-width: 100%;\n",
       "  overflow: auto;\n",
       "}\n",
       "\n",
       "#sk-container-id-2 input.sk-toggleable__control:checked~label.sk-toggleable__label-arrow:before {\n",
       "  content: \"▾\";\n",
       "}\n",
       "\n",
       "/* Pipeline/ColumnTransformer-specific style */\n",
       "\n",
       "#sk-container-id-2 div.sk-label input.sk-toggleable__control:checked~label.sk-toggleable__label {\n",
       "  color: var(--sklearn-color-text);\n",
       "  background-color: var(--sklearn-color-unfitted-level-2);\n",
       "}\n",
       "\n",
       "#sk-container-id-2 div.sk-label.fitted input.sk-toggleable__control:checked~label.sk-toggleable__label {\n",
       "  background-color: var(--sklearn-color-fitted-level-2);\n",
       "}\n",
       "\n",
       "/* Estimator-specific style */\n",
       "\n",
       "/* Colorize estimator box */\n",
       "#sk-container-id-2 div.sk-estimator input.sk-toggleable__control:checked~label.sk-toggleable__label {\n",
       "  /* unfitted */\n",
       "  background-color: var(--sklearn-color-unfitted-level-2);\n",
       "}\n",
       "\n",
       "#sk-container-id-2 div.sk-estimator.fitted input.sk-toggleable__control:checked~label.sk-toggleable__label {\n",
       "  /* fitted */\n",
       "  background-color: var(--sklearn-color-fitted-level-2);\n",
       "}\n",
       "\n",
       "#sk-container-id-2 div.sk-label label.sk-toggleable__label,\n",
       "#sk-container-id-2 div.sk-label label {\n",
       "  /* The background is the default theme color */\n",
       "  color: var(--sklearn-color-text-on-default-background);\n",
       "}\n",
       "\n",
       "/* On hover, darken the color of the background */\n",
       "#sk-container-id-2 div.sk-label:hover label.sk-toggleable__label {\n",
       "  color: var(--sklearn-color-text);\n",
       "  background-color: var(--sklearn-color-unfitted-level-2);\n",
       "}\n",
       "\n",
       "/* Label box, darken color on hover, fitted */\n",
       "#sk-container-id-2 div.sk-label.fitted:hover label.sk-toggleable__label.fitted {\n",
       "  color: var(--sklearn-color-text);\n",
       "  background-color: var(--sklearn-color-fitted-level-2);\n",
       "}\n",
       "\n",
       "/* Estimator label */\n",
       "\n",
       "#sk-container-id-2 div.sk-label label {\n",
       "  font-family: monospace;\n",
       "  font-weight: bold;\n",
       "  display: inline-block;\n",
       "  line-height: 1.2em;\n",
       "}\n",
       "\n",
       "#sk-container-id-2 div.sk-label-container {\n",
       "  text-align: center;\n",
       "}\n",
       "\n",
       "/* Estimator-specific */\n",
       "#sk-container-id-2 div.sk-estimator {\n",
       "  font-family: monospace;\n",
       "  border: 1px dotted var(--sklearn-color-border-box);\n",
       "  border-radius: 0.25em;\n",
       "  box-sizing: border-box;\n",
       "  margin-bottom: 0.5em;\n",
       "  /* unfitted */\n",
       "  background-color: var(--sklearn-color-unfitted-level-0);\n",
       "}\n",
       "\n",
       "#sk-container-id-2 div.sk-estimator.fitted {\n",
       "  /* fitted */\n",
       "  background-color: var(--sklearn-color-fitted-level-0);\n",
       "}\n",
       "\n",
       "/* on hover */\n",
       "#sk-container-id-2 div.sk-estimator:hover {\n",
       "  /* unfitted */\n",
       "  background-color: var(--sklearn-color-unfitted-level-2);\n",
       "}\n",
       "\n",
       "#sk-container-id-2 div.sk-estimator.fitted:hover {\n",
       "  /* fitted */\n",
       "  background-color: var(--sklearn-color-fitted-level-2);\n",
       "}\n",
       "\n",
       "/* Specification for estimator info (e.g. \"i\" and \"?\") */\n",
       "\n",
       "/* Common style for \"i\" and \"?\" */\n",
       "\n",
       ".sk-estimator-doc-link,\n",
       "a:link.sk-estimator-doc-link,\n",
       "a:visited.sk-estimator-doc-link {\n",
       "  float: right;\n",
       "  font-size: smaller;\n",
       "  line-height: 1em;\n",
       "  font-family: monospace;\n",
       "  background-color: var(--sklearn-color-background);\n",
       "  border-radius: 1em;\n",
       "  height: 1em;\n",
       "  width: 1em;\n",
       "  text-decoration: none !important;\n",
       "  margin-left: 1ex;\n",
       "  /* unfitted */\n",
       "  border: var(--sklearn-color-unfitted-level-1) 1pt solid;\n",
       "  color: var(--sklearn-color-unfitted-level-1);\n",
       "}\n",
       "\n",
       ".sk-estimator-doc-link.fitted,\n",
       "a:link.sk-estimator-doc-link.fitted,\n",
       "a:visited.sk-estimator-doc-link.fitted {\n",
       "  /* fitted */\n",
       "  border: var(--sklearn-color-fitted-level-1) 1pt solid;\n",
       "  color: var(--sklearn-color-fitted-level-1);\n",
       "}\n",
       "\n",
       "/* On hover */\n",
       "div.sk-estimator:hover .sk-estimator-doc-link:hover,\n",
       ".sk-estimator-doc-link:hover,\n",
       "div.sk-label-container:hover .sk-estimator-doc-link:hover,\n",
       ".sk-estimator-doc-link:hover {\n",
       "  /* unfitted */\n",
       "  background-color: var(--sklearn-color-unfitted-level-3);\n",
       "  color: var(--sklearn-color-background);\n",
       "  text-decoration: none;\n",
       "}\n",
       "\n",
       "div.sk-estimator.fitted:hover .sk-estimator-doc-link.fitted:hover,\n",
       ".sk-estimator-doc-link.fitted:hover,\n",
       "div.sk-label-container:hover .sk-estimator-doc-link.fitted:hover,\n",
       ".sk-estimator-doc-link.fitted:hover {\n",
       "  /* fitted */\n",
       "  background-color: var(--sklearn-color-fitted-level-3);\n",
       "  color: var(--sklearn-color-background);\n",
       "  text-decoration: none;\n",
       "}\n",
       "\n",
       "/* Span, style for the box shown on hovering the info icon */\n",
       ".sk-estimator-doc-link span {\n",
       "  display: none;\n",
       "  z-index: 9999;\n",
       "  position: relative;\n",
       "  font-weight: normal;\n",
       "  right: .2ex;\n",
       "  padding: .5ex;\n",
       "  margin: .5ex;\n",
       "  width: min-content;\n",
       "  min-width: 20ex;\n",
       "  max-width: 50ex;\n",
       "  color: var(--sklearn-color-text);\n",
       "  box-shadow: 2pt 2pt 4pt #999;\n",
       "  /* unfitted */\n",
       "  background: var(--sklearn-color-unfitted-level-0);\n",
       "  border: .5pt solid var(--sklearn-color-unfitted-level-3);\n",
       "}\n",
       "\n",
       ".sk-estimator-doc-link.fitted span {\n",
       "  /* fitted */\n",
       "  background: var(--sklearn-color-fitted-level-0);\n",
       "  border: var(--sklearn-color-fitted-level-3);\n",
       "}\n",
       "\n",
       ".sk-estimator-doc-link:hover span {\n",
       "  display: block;\n",
       "}\n",
       "\n",
       "/* \"?\"-specific style due to the `<a>` HTML tag */\n",
       "\n",
       "#sk-container-id-2 a.estimator_doc_link {\n",
       "  float: right;\n",
       "  font-size: 1rem;\n",
       "  line-height: 1em;\n",
       "  font-family: monospace;\n",
       "  background-color: var(--sklearn-color-background);\n",
       "  border-radius: 1rem;\n",
       "  height: 1rem;\n",
       "  width: 1rem;\n",
       "  text-decoration: none;\n",
       "  /* unfitted */\n",
       "  color: var(--sklearn-color-unfitted-level-1);\n",
       "  border: var(--sklearn-color-unfitted-level-1) 1pt solid;\n",
       "}\n",
       "\n",
       "#sk-container-id-2 a.estimator_doc_link.fitted {\n",
       "  /* fitted */\n",
       "  border: var(--sklearn-color-fitted-level-1) 1pt solid;\n",
       "  color: var(--sklearn-color-fitted-level-1);\n",
       "}\n",
       "\n",
       "/* On hover */\n",
       "#sk-container-id-2 a.estimator_doc_link:hover {\n",
       "  /* unfitted */\n",
       "  background-color: var(--sklearn-color-unfitted-level-3);\n",
       "  color: var(--sklearn-color-background);\n",
       "  text-decoration: none;\n",
       "}\n",
       "\n",
       "#sk-container-id-2 a.estimator_doc_link.fitted:hover {\n",
       "  /* fitted */\n",
       "  background-color: var(--sklearn-color-fitted-level-3);\n",
       "}\n",
       "</style><div id=\"sk-container-id-2\" class=\"sk-top-container\"><div class=\"sk-text-repr-fallback\"><pre>KNeighborsClassifier(n_neighbors=1)</pre><b>In a Jupyter environment, please rerun this cell to show the HTML representation or trust the notebook. <br />On GitHub, the HTML representation is unable to render, please try loading this page with nbviewer.org.</b></div><div class=\"sk-container\" hidden><div class=\"sk-item\"><div class=\"sk-estimator fitted sk-toggleable\"><input class=\"sk-toggleable__control sk-hidden--visually\" id=\"sk-estimator-id-4\" type=\"checkbox\" checked><label for=\"sk-estimator-id-4\" class=\"sk-toggleable__label fitted sk-toggleable__label-arrow fitted\">&nbsp;&nbsp;KNeighborsClassifier<a class=\"sk-estimator-doc-link fitted\" rel=\"noreferrer\" target=\"_blank\" href=\"https://scikit-learn.org/1.4/modules/generated/sklearn.neighbors.KNeighborsClassifier.html\">?<span>Documentation for KNeighborsClassifier</span></a><span class=\"sk-estimator-doc-link fitted\">i<span>Fitted</span></span></label><div class=\"sk-toggleable__content fitted\"><pre>KNeighborsClassifier(n_neighbors=1)</pre></div> </div></div></div></div>"
      ],
      "text/plain": [
       "KNeighborsClassifier(n_neighbors=1)"
      ]
     },
     "execution_count": 17,
     "metadata": {},
     "output_type": "execute_result"
    }
   ],
   "source": [
    "KNN_best.fit(X_train, y_train)"
   ]
  },
  {
   "cell_type": "code",
   "execution_count": 18,
   "id": "d533f587",
   "metadata": {},
   "outputs": [],
   "source": [
    "predictions = KNN_best.predict(X_test)"
   ]
  },
  {
   "cell_type": "code",
   "execution_count": 19,
   "id": "42366a07",
   "metadata": {},
   "outputs": [
    {
     "name": "stdout",
     "output_type": "stream",
     "text": [
      "              precision    recall  f1-score   support\n",
      "\n",
      "           0       0.90      0.80      0.85      1704\n",
      "           1       0.82      0.91      0.86      1670\n",
      "\n",
      "    accuracy                           0.86      3374\n",
      "   macro avg       0.86      0.86      0.86      3374\n",
      "weighted avg       0.86      0.86      0.86      3374\n",
      "\n"
     ]
    }
   ],
   "source": [
    "print(classification_report(y_true=y_test, y_pred=predictions, zero_division=0))"
   ]
  },
  {
   "cell_type": "markdown",
   "id": "7ad5c9a880d58569",
   "metadata": {
    "collapsed": false
   },
   "source": [
    "## Naive Bayes\n"
   ]
  },
  {
   "cell_type": "code",
   "execution_count": 20,
   "id": "8d6f0972b2344568",
   "metadata": {
    "ExecuteTime": {
     "end_time": "2024-04-01T15:22:23.549631Z",
     "start_time": "2024-04-01T15:22:16.970028Z"
    },
    "collapsed": false
   },
   "outputs": [],
   "source": [
    "NB = GaussianNB()"
   ]
  },
  {
   "cell_type": "code",
   "execution_count": 21,
   "id": "07ca1f00",
   "metadata": {},
   "outputs": [],
   "source": [
    "precisions = []\n",
    "recalls = []\n",
    "accuracies = []\n",
    "f1_scores = []"
   ]
  },
  {
   "cell_type": "code",
   "execution_count": 22,
   "id": "372b3fad",
   "metadata": {},
   "outputs": [
    {
     "name": "stdout",
     "output_type": "stream",
     "text": [
      "##### FOLD: 1 #####\n",
      "Precision = 0.759998164409735\n",
      "Recall = 0.6795109299740645\n",
      "Accuracy = 0.6795109299740645\n",
      "F1 score = 0.6525732561653239\n",
      "\n",
      "##### FOLD: 2 #####\n",
      "Precision = 0.7581739186885681\n",
      "Recall = 0.6676546869210819\n",
      "Accuracy = 0.6676546869210819\n",
      "F1 score = 0.6340714745053027\n",
      "\n",
      "##### FOLD: 3 #####\n",
      "Precision = 0.7645022102893884\n",
      "Recall = 0.6738324684951816\n",
      "Accuracy = 0.6738324684951816\n",
      "F1 score = 0.6423329762504331\n",
      "\n",
      "##### FOLD: 4 #####\n",
      "Precision = 0.7502061100247954\n",
      "Recall = 0.6734618235730171\n",
      "Accuracy = 0.6734618235730171\n",
      "F1 score = 0.6437107831921597\n",
      "\n",
      "##### FOLD: 5 #####\n",
      "Precision = 0.75455228101848\n",
      "Recall = 0.6730911786508524\n",
      "Accuracy = 0.6730911786508524\n",
      "F1 score = 0.6477599805640614\n",
      "\n"
     ]
    }
   ],
   "source": [
    "fold = 1\n",
    "for train, test in KF.split(X_train, y_train):\n",
    "    print(f\"##### FOLD: {fold} #####\")\n",
    "\n",
    "    # Fit the model\n",
    "    NB.fit(X_train[train], y_train[train])\n",
    "\n",
    "    # Predict on the test set\n",
    "    predictions = NB.predict(X_train[test])\n",
    "\n",
    "    # Evaluate the model\n",
    "    precision = precision_score(\n",
    "        y_true=y_train[test],\n",
    "        y_pred=predictions,\n",
    "        zero_division=0,\n",
    "        average=\"weighted\",\n",
    "    )\n",
    "    recall = recall_score(\n",
    "        y_true=y_train[test],\n",
    "        y_pred=predictions,\n",
    "        zero_division=0,\n",
    "        average=\"weighted\",\n",
    "    )\n",
    "    accuracy = accuracy_score(y_true=y_train[test], y_pred=predictions)\n",
    "    f1 = f1_score(\n",
    "        y_true=y_train[test],\n",
    "        y_pred=predictions,\n",
    "        zero_division=0,\n",
    "        average=\"weighted\",\n",
    "    )\n",
    "\n",
    "    # Store the result\n",
    "    precisions.append(precision)\n",
    "    recalls.append(recall)\n",
    "    accuracies.append(accuracy)\n",
    "    f1_scores.append(f1)\n",
    "\n",
    "    # Print the scores for each fold\n",
    "    print(f\"Precision = {precision}\")\n",
    "    print(f\"Recall = {recall}\")\n",
    "    print(f\"Accuracy = {accuracy}\")\n",
    "    print(f\"F1 score = {f1}\\n\")\n",
    "\n",
    "    fold += 1"
   ]
  },
  {
   "cell_type": "code",
   "execution_count": 23,
   "id": "1a0e1294",
   "metadata": {},
   "outputs": [
    {
     "name": "stdout",
     "output_type": "stream",
     "text": [
      "Mean Scores:\n",
      "Mean Precision = 0.7574865368861934\n",
      "Mean Recall = 0.6735102175228395\n",
      "Mean Accuracy = 0.6735102175228395\n",
      "Mean F1 score = 0.6440896941354561\n"
     ]
    }
   ],
   "source": [
    "print(\"Mean Scores:\")\n",
    "print(f\"Mean Precision = {np.mean(precisions)}\")\n",
    "print(f\"Mean Recall = {np.mean(recalls)}\")\n",
    "print(f\"Mean Accuracy = {np.mean(accuracies)}\")\n",
    "print(f\"Mean F1 score = {np.mean(f1_scores)}\")"
   ]
  },
  {
   "cell_type": "code",
   "execution_count": 24,
   "id": "509fb017",
   "metadata": {},
   "outputs": [],
   "source": [
    "predictions = NB.predict(X_test)"
   ]
  },
  {
   "cell_type": "code",
   "execution_count": 25,
   "id": "457c6198",
   "metadata": {},
   "outputs": [
    {
     "name": "stdout",
     "output_type": "stream",
     "text": [
      "              precision    recall  f1-score   support\n",
      "\n",
      "           0       0.90      0.42      0.57      1704\n",
      "           1       0.62      0.95      0.75      1670\n",
      "\n",
      "    accuracy                           0.68      3374\n",
      "   macro avg       0.76      0.69      0.66      3374\n",
      "weighted avg       0.76      0.68      0.66      3374\n",
      "\n"
     ]
    }
   ],
   "source": [
    "print(classification_report(y_test, predictions, zero_division=0))"
   ]
  },
  {
   "cell_type": "markdown",
   "id": "a08cc4fc3b5bc7f8",
   "metadata": {
    "collapsed": false
   },
   "source": [
    "## CART\n"
   ]
  },
  {
   "cell_type": "code",
   "execution_count": 26,
   "id": "e5925c589fa5cdce",
   "metadata": {
    "ExecuteTime": {
     "end_time": "2024-04-01T15:30:08.437962Z",
     "start_time": "2024-04-01T15:26:19.079883Z"
    },
    "collapsed": false
   },
   "outputs": [],
   "source": [
    "Cart = DecisionTreeClassifier()"
   ]
  },
  {
   "cell_type": "code",
   "execution_count": 27,
   "id": "d3f96593",
   "metadata": {},
   "outputs": [],
   "source": [
    "param_grid = {\n",
    "    \"max_depth\": [None, 10, 20, 30],\n",
    "    \"class_weight\": [\n",
    "        None,\n",
    "        {0: 1, 1: 2},\n",
    "        {0: 1, 1: 3},\n",
    "        {0: 1.5, 1: 2.5},\n",
    "        {0: 1.5, 1: 3},\n",
    "    ],\n",
    "    \"ccp_alpha\": [0, 1, 0.01, 0.001],\n",
    "    \"min_samples_split\": [2, 3, 4],\n",
    "}"
   ]
  },
  {
   "cell_type": "code",
   "execution_count": 28,
   "id": "7d7a16ab",
   "metadata": {},
   "outputs": [],
   "source": [
    "grid_search = GridSearchCV(estimator=Cart, param_grid=param_grid, cv=KF, verbose=2)"
   ]
  },
  {
   "cell_type": "code",
   "execution_count": 29,
   "id": "077b8585",
   "metadata": {},
   "outputs": [
    {
     "name": "stdout",
     "output_type": "stream",
     "text": [
      "Fitting 5 folds for each of 240 candidates, totalling 1200 fits\n",
      "[CV] END ccp_alpha=0, class_weight=None, max_depth=None, min_samples_split=2; total time=   0.3s\n",
      "[CV] END ccp_alpha=0, class_weight=None, max_depth=None, min_samples_split=2; total time=   0.3s\n",
      "[CV] END ccp_alpha=0, class_weight=None, max_depth=None, min_samples_split=2; total time=   0.3s\n",
      "[CV] END ccp_alpha=0, class_weight=None, max_depth=None, min_samples_split=2; total time=   0.3s\n",
      "[CV] END ccp_alpha=0, class_weight=None, max_depth=None, min_samples_split=2; total time=   0.3s\n",
      "[CV] END ccp_alpha=0, class_weight=None, max_depth=None, min_samples_split=3; total time=   0.3s\n",
      "[CV] END ccp_alpha=0, class_weight=None, max_depth=None, min_samples_split=3; total time=   0.3s\n",
      "[CV] END ccp_alpha=0, class_weight=None, max_depth=None, min_samples_split=3; total time=   0.3s\n",
      "[CV] END ccp_alpha=0, class_weight=None, max_depth=None, min_samples_split=3; total time=   0.3s\n",
      "[CV] END ccp_alpha=0, class_weight=None, max_depth=None, min_samples_split=3; total time=   0.3s\n",
      "[CV] END ccp_alpha=0, class_weight=None, max_depth=None, min_samples_split=4; total time=   0.3s\n",
      "[CV] END ccp_alpha=0, class_weight=None, max_depth=None, min_samples_split=4; total time=   0.3s\n",
      "[CV] END ccp_alpha=0, class_weight=None, max_depth=None, min_samples_split=4; total time=   0.3s\n",
      "[CV] END ccp_alpha=0, class_weight=None, max_depth=None, min_samples_split=4; total time=   0.3s\n",
      "[CV] END ccp_alpha=0, class_weight=None, max_depth=None, min_samples_split=4; total time=   0.3s\n",
      "[CV] END ccp_alpha=0, class_weight=None, max_depth=10, min_samples_split=2; total time=   0.2s\n",
      "[CV] END ccp_alpha=0, class_weight=None, max_depth=10, min_samples_split=2; total time=   0.2s\n",
      "[CV] END ccp_alpha=0, class_weight=None, max_depth=10, min_samples_split=2; total time=   0.2s\n",
      "[CV] END ccp_alpha=0, class_weight=None, max_depth=10, min_samples_split=2; total time=   0.2s\n",
      "[CV] END ccp_alpha=0, class_weight=None, max_depth=10, min_samples_split=2; total time=   0.2s\n",
      "[CV] END ccp_alpha=0, class_weight=None, max_depth=10, min_samples_split=3; total time=   0.2s\n",
      "[CV] END ccp_alpha=0, class_weight=None, max_depth=10, min_samples_split=3; total time=   0.2s\n",
      "[CV] END ccp_alpha=0, class_weight=None, max_depth=10, min_samples_split=3; total time=   0.2s\n",
      "[CV] END ccp_alpha=0, class_weight=None, max_depth=10, min_samples_split=3; total time=   0.2s\n",
      "[CV] END ccp_alpha=0, class_weight=None, max_depth=10, min_samples_split=3; total time=   0.2s\n",
      "[CV] END ccp_alpha=0, class_weight=None, max_depth=10, min_samples_split=4; total time=   0.2s\n",
      "[CV] END ccp_alpha=0, class_weight=None, max_depth=10, min_samples_split=4; total time=   0.2s\n",
      "[CV] END ccp_alpha=0, class_weight=None, max_depth=10, min_samples_split=4; total time=   0.2s\n",
      "[CV] END ccp_alpha=0, class_weight=None, max_depth=10, min_samples_split=4; total time=   0.2s\n",
      "[CV] END ccp_alpha=0, class_weight=None, max_depth=10, min_samples_split=4; total time=   0.2s\n",
      "[CV] END ccp_alpha=0, class_weight=None, max_depth=20, min_samples_split=2; total time=   0.3s\n",
      "[CV] END ccp_alpha=0, class_weight=None, max_depth=20, min_samples_split=2; total time=   0.2s\n",
      "[CV] END ccp_alpha=0, class_weight=None, max_depth=20, min_samples_split=2; total time=   0.3s\n",
      "[CV] END ccp_alpha=0, class_weight=None, max_depth=20, min_samples_split=2; total time=   0.3s\n",
      "[CV] END ccp_alpha=0, class_weight=None, max_depth=20, min_samples_split=2; total time=   0.2s\n",
      "[CV] END ccp_alpha=0, class_weight=None, max_depth=20, min_samples_split=3; total time=   0.3s\n",
      "[CV] END ccp_alpha=0, class_weight=None, max_depth=20, min_samples_split=3; total time=   0.2s\n",
      "[CV] END ccp_alpha=0, class_weight=None, max_depth=20, min_samples_split=3; total time=   0.3s\n",
      "[CV] END ccp_alpha=0, class_weight=None, max_depth=20, min_samples_split=3; total time=   0.2s\n",
      "[CV] END ccp_alpha=0, class_weight=None, max_depth=20, min_samples_split=3; total time=   0.2s\n",
      "[CV] END ccp_alpha=0, class_weight=None, max_depth=20, min_samples_split=4; total time=   0.3s\n",
      "[CV] END ccp_alpha=0, class_weight=None, max_depth=20, min_samples_split=4; total time=   0.2s\n",
      "[CV] END ccp_alpha=0, class_weight=None, max_depth=20, min_samples_split=4; total time=   0.3s\n",
      "[CV] END ccp_alpha=0, class_weight=None, max_depth=20, min_samples_split=4; total time=   0.2s\n",
      "[CV] END ccp_alpha=0, class_weight=None, max_depth=20, min_samples_split=4; total time=   0.2s\n",
      "[CV] END ccp_alpha=0, class_weight=None, max_depth=30, min_samples_split=2; total time=   0.3s\n",
      "[CV] END ccp_alpha=0, class_weight=None, max_depth=30, min_samples_split=2; total time=   0.3s\n",
      "[CV] END ccp_alpha=0, class_weight=None, max_depth=30, min_samples_split=2; total time=   0.3s\n",
      "[CV] END ccp_alpha=0, class_weight=None, max_depth=30, min_samples_split=2; total time=   0.3s\n",
      "[CV] END ccp_alpha=0, class_weight=None, max_depth=30, min_samples_split=2; total time=   0.3s\n",
      "[CV] END ccp_alpha=0, class_weight=None, max_depth=30, min_samples_split=3; total time=   0.3s\n",
      "[CV] END ccp_alpha=0, class_weight=None, max_depth=30, min_samples_split=3; total time=   0.3s\n",
      "[CV] END ccp_alpha=0, class_weight=None, max_depth=30, min_samples_split=3; total time=   0.3s\n",
      "[CV] END ccp_alpha=0, class_weight=None, max_depth=30, min_samples_split=3; total time=   0.3s\n",
      "[CV] END ccp_alpha=0, class_weight=None, max_depth=30, min_samples_split=3; total time=   0.3s\n",
      "[CV] END ccp_alpha=0, class_weight=None, max_depth=30, min_samples_split=4; total time=   0.3s\n",
      "[CV] END ccp_alpha=0, class_weight=None, max_depth=30, min_samples_split=4; total time=   0.3s\n",
      "[CV] END ccp_alpha=0, class_weight=None, max_depth=30, min_samples_split=4; total time=   0.3s\n",
      "[CV] END ccp_alpha=0, class_weight=None, max_depth=30, min_samples_split=4; total time=   0.3s\n",
      "[CV] END ccp_alpha=0, class_weight=None, max_depth=30, min_samples_split=4; total time=   0.3s\n",
      "[CV] END ccp_alpha=0, class_weight={0: 1, 1: 2}, max_depth=None, min_samples_split=2; total time=   0.3s\n",
      "[CV] END ccp_alpha=0, class_weight={0: 1, 1: 2}, max_depth=None, min_samples_split=2; total time=   0.3s\n",
      "[CV] END ccp_alpha=0, class_weight={0: 1, 1: 2}, max_depth=None, min_samples_split=2; total time=   0.3s\n",
      "[CV] END ccp_alpha=0, class_weight={0: 1, 1: 2}, max_depth=None, min_samples_split=2; total time=   0.3s\n",
      "[CV] END ccp_alpha=0, class_weight={0: 1, 1: 2}, max_depth=None, min_samples_split=2; total time=   0.3s\n",
      "[CV] END ccp_alpha=0, class_weight={0: 1, 1: 2}, max_depth=None, min_samples_split=3; total time=   0.3s\n",
      "[CV] END ccp_alpha=0, class_weight={0: 1, 1: 2}, max_depth=None, min_samples_split=3; total time=   0.3s\n",
      "[CV] END ccp_alpha=0, class_weight={0: 1, 1: 2}, max_depth=None, min_samples_split=3; total time=   0.3s\n",
      "[CV] END ccp_alpha=0, class_weight={0: 1, 1: 2}, max_depth=None, min_samples_split=3; total time=   0.3s\n",
      "[CV] END ccp_alpha=0, class_weight={0: 1, 1: 2}, max_depth=None, min_samples_split=3; total time=   0.3s\n",
      "[CV] END ccp_alpha=0, class_weight={0: 1, 1: 2}, max_depth=None, min_samples_split=4; total time=   0.3s\n",
      "[CV] END ccp_alpha=0, class_weight={0: 1, 1: 2}, max_depth=None, min_samples_split=4; total time=   0.3s\n",
      "[CV] END ccp_alpha=0, class_weight={0: 1, 1: 2}, max_depth=None, min_samples_split=4; total time=   0.3s\n",
      "[CV] END ccp_alpha=0, class_weight={0: 1, 1: 2}, max_depth=None, min_samples_split=4; total time=   0.3s\n",
      "[CV] END ccp_alpha=0, class_weight={0: 1, 1: 2}, max_depth=None, min_samples_split=4; total time=   0.3s\n",
      "[CV] END ccp_alpha=0, class_weight={0: 1, 1: 2}, max_depth=10, min_samples_split=2; total time=   0.2s\n",
      "[CV] END ccp_alpha=0, class_weight={0: 1, 1: 2}, max_depth=10, min_samples_split=2; total time=   0.2s\n",
      "[CV] END ccp_alpha=0, class_weight={0: 1, 1: 2}, max_depth=10, min_samples_split=2; total time=   0.2s\n",
      "[CV] END ccp_alpha=0, class_weight={0: 1, 1: 2}, max_depth=10, min_samples_split=2; total time=   0.2s\n",
      "[CV] END ccp_alpha=0, class_weight={0: 1, 1: 2}, max_depth=10, min_samples_split=2; total time=   0.2s\n",
      "[CV] END ccp_alpha=0, class_weight={0: 1, 1: 2}, max_depth=10, min_samples_split=3; total time=   0.2s\n",
      "[CV] END ccp_alpha=0, class_weight={0: 1, 1: 2}, max_depth=10, min_samples_split=3; total time=   0.2s\n",
      "[CV] END ccp_alpha=0, class_weight={0: 1, 1: 2}, max_depth=10, min_samples_split=3; total time=   0.2s\n",
      "[CV] END ccp_alpha=0, class_weight={0: 1, 1: 2}, max_depth=10, min_samples_split=3; total time=   0.2s\n",
      "[CV] END ccp_alpha=0, class_weight={0: 1, 1: 2}, max_depth=10, min_samples_split=3; total time=   0.2s\n",
      "[CV] END ccp_alpha=0, class_weight={0: 1, 1: 2}, max_depth=10, min_samples_split=4; total time=   0.2s\n",
      "[CV] END ccp_alpha=0, class_weight={0: 1, 1: 2}, max_depth=10, min_samples_split=4; total time=   0.2s\n",
      "[CV] END ccp_alpha=0, class_weight={0: 1, 1: 2}, max_depth=10, min_samples_split=4; total time=   0.2s\n",
      "[CV] END ccp_alpha=0, class_weight={0: 1, 1: 2}, max_depth=10, min_samples_split=4; total time=   0.2s\n",
      "[CV] END ccp_alpha=0, class_weight={0: 1, 1: 2}, max_depth=10, min_samples_split=4; total time=   0.2s\n",
      "[CV] END ccp_alpha=0, class_weight={0: 1, 1: 2}, max_depth=20, min_samples_split=2; total time=   0.2s\n",
      "[CV] END ccp_alpha=0, class_weight={0: 1, 1: 2}, max_depth=20, min_samples_split=2; total time=   0.2s\n",
      "[CV] END ccp_alpha=0, class_weight={0: 1, 1: 2}, max_depth=20, min_samples_split=2; total time=   0.3s\n",
      "[CV] END ccp_alpha=0, class_weight={0: 1, 1: 2}, max_depth=20, min_samples_split=2; total time=   0.2s\n",
      "[CV] END ccp_alpha=0, class_weight={0: 1, 1: 2}, max_depth=20, min_samples_split=2; total time=   0.2s\n",
      "[CV] END ccp_alpha=0, class_weight={0: 1, 1: 2}, max_depth=20, min_samples_split=3; total time=   0.2s\n",
      "[CV] END ccp_alpha=0, class_weight={0: 1, 1: 2}, max_depth=20, min_samples_split=3; total time=   0.2s\n",
      "[CV] END ccp_alpha=0, class_weight={0: 1, 1: 2}, max_depth=20, min_samples_split=3; total time=   0.3s\n",
      "[CV] END ccp_alpha=0, class_weight={0: 1, 1: 2}, max_depth=20, min_samples_split=3; total time=   0.2s\n",
      "[CV] END ccp_alpha=0, class_weight={0: 1, 1: 2}, max_depth=20, min_samples_split=3; total time=   0.2s\n",
      "[CV] END ccp_alpha=0, class_weight={0: 1, 1: 2}, max_depth=20, min_samples_split=4; total time=   0.2s\n",
      "[CV] END ccp_alpha=0, class_weight={0: 1, 1: 2}, max_depth=20, min_samples_split=4; total time=   0.2s\n",
      "[CV] END ccp_alpha=0, class_weight={0: 1, 1: 2}, max_depth=20, min_samples_split=4; total time=   0.3s\n",
      "[CV] END ccp_alpha=0, class_weight={0: 1, 1: 2}, max_depth=20, min_samples_split=4; total time=   0.2s\n",
      "[CV] END ccp_alpha=0, class_weight={0: 1, 1: 2}, max_depth=20, min_samples_split=4; total time=   0.2s\n",
      "[CV] END ccp_alpha=0, class_weight={0: 1, 1: 2}, max_depth=30, min_samples_split=2; total time=   0.3s\n",
      "[CV] END ccp_alpha=0, class_weight={0: 1, 1: 2}, max_depth=30, min_samples_split=2; total time=   0.3s\n",
      "[CV] END ccp_alpha=0, class_weight={0: 1, 1: 2}, max_depth=30, min_samples_split=2; total time=   0.3s\n",
      "[CV] END ccp_alpha=0, class_weight={0: 1, 1: 2}, max_depth=30, min_samples_split=2; total time=   0.3s\n",
      "[CV] END ccp_alpha=0, class_weight={0: 1, 1: 2}, max_depth=30, min_samples_split=2; total time=   0.3s\n",
      "[CV] END ccp_alpha=0, class_weight={0: 1, 1: 2}, max_depth=30, min_samples_split=3; total time=   0.3s\n",
      "[CV] END ccp_alpha=0, class_weight={0: 1, 1: 2}, max_depth=30, min_samples_split=3; total time=   0.3s\n",
      "[CV] END ccp_alpha=0, class_weight={0: 1, 1: 2}, max_depth=30, min_samples_split=3; total time=   0.3s\n",
      "[CV] END ccp_alpha=0, class_weight={0: 1, 1: 2}, max_depth=30, min_samples_split=3; total time=   0.3s\n",
      "[CV] END ccp_alpha=0, class_weight={0: 1, 1: 2}, max_depth=30, min_samples_split=3; total time=   0.3s\n",
      "[CV] END ccp_alpha=0, class_weight={0: 1, 1: 2}, max_depth=30, min_samples_split=4; total time=   0.3s\n",
      "[CV] END ccp_alpha=0, class_weight={0: 1, 1: 2}, max_depth=30, min_samples_split=4; total time=   0.3s\n",
      "[CV] END ccp_alpha=0, class_weight={0: 1, 1: 2}, max_depth=30, min_samples_split=4; total time=   0.3s\n",
      "[CV] END ccp_alpha=0, class_weight={0: 1, 1: 2}, max_depth=30, min_samples_split=4; total time=   0.3s\n",
      "[CV] END ccp_alpha=0, class_weight={0: 1, 1: 2}, max_depth=30, min_samples_split=4; total time=   0.3s\n",
      "[CV] END ccp_alpha=0, class_weight={0: 1, 1: 3}, max_depth=None, min_samples_split=2; total time=   0.3s\n",
      "[CV] END ccp_alpha=0, class_weight={0: 1, 1: 3}, max_depth=None, min_samples_split=2; total time=   0.3s\n",
      "[CV] END ccp_alpha=0, class_weight={0: 1, 1: 3}, max_depth=None, min_samples_split=2; total time=   0.3s\n",
      "[CV] END ccp_alpha=0, class_weight={0: 1, 1: 3}, max_depth=None, min_samples_split=2; total time=   0.3s\n",
      "[CV] END ccp_alpha=0, class_weight={0: 1, 1: 3}, max_depth=None, min_samples_split=2; total time=   0.3s\n",
      "[CV] END ccp_alpha=0, class_weight={0: 1, 1: 3}, max_depth=None, min_samples_split=3; total time=   0.3s\n",
      "[CV] END ccp_alpha=0, class_weight={0: 1, 1: 3}, max_depth=None, min_samples_split=3; total time=   0.3s\n",
      "[CV] END ccp_alpha=0, class_weight={0: 1, 1: 3}, max_depth=None, min_samples_split=3; total time=   0.3s\n",
      "[CV] END ccp_alpha=0, class_weight={0: 1, 1: 3}, max_depth=None, min_samples_split=3; total time=   0.3s\n",
      "[CV] END ccp_alpha=0, class_weight={0: 1, 1: 3}, max_depth=None, min_samples_split=3; total time=   0.3s\n",
      "[CV] END ccp_alpha=0, class_weight={0: 1, 1: 3}, max_depth=None, min_samples_split=4; total time=   0.3s\n",
      "[CV] END ccp_alpha=0, class_weight={0: 1, 1: 3}, max_depth=None, min_samples_split=4; total time=   0.3s\n",
      "[CV] END ccp_alpha=0, class_weight={0: 1, 1: 3}, max_depth=None, min_samples_split=4; total time=   0.3s\n",
      "[CV] END ccp_alpha=0, class_weight={0: 1, 1: 3}, max_depth=None, min_samples_split=4; total time=   0.3s\n",
      "[CV] END ccp_alpha=0, class_weight={0: 1, 1: 3}, max_depth=None, min_samples_split=4; total time=   0.3s\n",
      "[CV] END ccp_alpha=0, class_weight={0: 1, 1: 3}, max_depth=10, min_samples_split=2; total time=   0.2s\n",
      "[CV] END ccp_alpha=0, class_weight={0: 1, 1: 3}, max_depth=10, min_samples_split=2; total time=   0.2s\n",
      "[CV] END ccp_alpha=0, class_weight={0: 1, 1: 3}, max_depth=10, min_samples_split=2; total time=   0.2s\n",
      "[CV] END ccp_alpha=0, class_weight={0: 1, 1: 3}, max_depth=10, min_samples_split=2; total time=   0.2s\n",
      "[CV] END ccp_alpha=0, class_weight={0: 1, 1: 3}, max_depth=10, min_samples_split=2; total time=   0.2s\n",
      "[CV] END ccp_alpha=0, class_weight={0: 1, 1: 3}, max_depth=10, min_samples_split=3; total time=   0.2s\n",
      "[CV] END ccp_alpha=0, class_weight={0: 1, 1: 3}, max_depth=10, min_samples_split=3; total time=   0.2s\n",
      "[CV] END ccp_alpha=0, class_weight={0: 1, 1: 3}, max_depth=10, min_samples_split=3; total time=   0.2s\n",
      "[CV] END ccp_alpha=0, class_weight={0: 1, 1: 3}, max_depth=10, min_samples_split=3; total time=   0.2s\n",
      "[CV] END ccp_alpha=0, class_weight={0: 1, 1: 3}, max_depth=10, min_samples_split=3; total time=   0.2s\n",
      "[CV] END ccp_alpha=0, class_weight={0: 1, 1: 3}, max_depth=10, min_samples_split=4; total time=   0.2s\n",
      "[CV] END ccp_alpha=0, class_weight={0: 1, 1: 3}, max_depth=10, min_samples_split=4; total time=   0.2s\n",
      "[CV] END ccp_alpha=0, class_weight={0: 1, 1: 3}, max_depth=10, min_samples_split=4; total time=   0.2s\n",
      "[CV] END ccp_alpha=0, class_weight={0: 1, 1: 3}, max_depth=10, min_samples_split=4; total time=   0.2s\n",
      "[CV] END ccp_alpha=0, class_weight={0: 1, 1: 3}, max_depth=10, min_samples_split=4; total time=   0.2s\n",
      "[CV] END ccp_alpha=0, class_weight={0: 1, 1: 3}, max_depth=20, min_samples_split=2; total time=   0.2s\n",
      "[CV] END ccp_alpha=0, class_weight={0: 1, 1: 3}, max_depth=20, min_samples_split=2; total time=   0.2s\n",
      "[CV] END ccp_alpha=0, class_weight={0: 1, 1: 3}, max_depth=20, min_samples_split=2; total time=   0.2s\n",
      "[CV] END ccp_alpha=0, class_weight={0: 1, 1: 3}, max_depth=20, min_samples_split=2; total time=   0.2s\n",
      "[CV] END ccp_alpha=0, class_weight={0: 1, 1: 3}, max_depth=20, min_samples_split=2; total time=   0.2s\n",
      "[CV] END ccp_alpha=0, class_weight={0: 1, 1: 3}, max_depth=20, min_samples_split=3; total time=   0.2s\n",
      "[CV] END ccp_alpha=0, class_weight={0: 1, 1: 3}, max_depth=20, min_samples_split=3; total time=   0.2s\n",
      "[CV] END ccp_alpha=0, class_weight={0: 1, 1: 3}, max_depth=20, min_samples_split=3; total time=   0.2s\n",
      "[CV] END ccp_alpha=0, class_weight={0: 1, 1: 3}, max_depth=20, min_samples_split=3; total time=   0.2s\n",
      "[CV] END ccp_alpha=0, class_weight={0: 1, 1: 3}, max_depth=20, min_samples_split=3; total time=   0.2s\n",
      "[CV] END ccp_alpha=0, class_weight={0: 1, 1: 3}, max_depth=20, min_samples_split=4; total time=   0.3s\n",
      "[CV] END ccp_alpha=0, class_weight={0: 1, 1: 3}, max_depth=20, min_samples_split=4; total time=   0.3s\n",
      "[CV] END ccp_alpha=0, class_weight={0: 1, 1: 3}, max_depth=20, min_samples_split=4; total time=   0.2s\n",
      "[CV] END ccp_alpha=0, class_weight={0: 1, 1: 3}, max_depth=20, min_samples_split=4; total time=   0.2s\n",
      "[CV] END ccp_alpha=0, class_weight={0: 1, 1: 3}, max_depth=20, min_samples_split=4; total time=   0.2s\n",
      "[CV] END ccp_alpha=0, class_weight={0: 1, 1: 3}, max_depth=30, min_samples_split=2; total time=   0.3s\n",
      "[CV] END ccp_alpha=0, class_weight={0: 1, 1: 3}, max_depth=30, min_samples_split=2; total time=   0.3s\n",
      "[CV] END ccp_alpha=0, class_weight={0: 1, 1: 3}, max_depth=30, min_samples_split=2; total time=   0.3s\n",
      "[CV] END ccp_alpha=0, class_weight={0: 1, 1: 3}, max_depth=30, min_samples_split=2; total time=   0.3s\n",
      "[CV] END ccp_alpha=0, class_weight={0: 1, 1: 3}, max_depth=30, min_samples_split=2; total time=   0.3s\n",
      "[CV] END ccp_alpha=0, class_weight={0: 1, 1: 3}, max_depth=30, min_samples_split=3; total time=   0.3s\n",
      "[CV] END ccp_alpha=0, class_weight={0: 1, 1: 3}, max_depth=30, min_samples_split=3; total time=   0.3s\n",
      "[CV] END ccp_alpha=0, class_weight={0: 1, 1: 3}, max_depth=30, min_samples_split=3; total time=   0.3s\n",
      "[CV] END ccp_alpha=0, class_weight={0: 1, 1: 3}, max_depth=30, min_samples_split=3; total time=   0.3s\n",
      "[CV] END ccp_alpha=0, class_weight={0: 1, 1: 3}, max_depth=30, min_samples_split=3; total time=   0.3s\n",
      "[CV] END ccp_alpha=0, class_weight={0: 1, 1: 3}, max_depth=30, min_samples_split=4; total time=   0.3s\n",
      "[CV] END ccp_alpha=0, class_weight={0: 1, 1: 3}, max_depth=30, min_samples_split=4; total time=   0.3s\n",
      "[CV] END ccp_alpha=0, class_weight={0: 1, 1: 3}, max_depth=30, min_samples_split=4; total time=   0.3s\n",
      "[CV] END ccp_alpha=0, class_weight={0: 1, 1: 3}, max_depth=30, min_samples_split=4; total time=   0.3s\n",
      "[CV] END ccp_alpha=0, class_weight={0: 1, 1: 3}, max_depth=30, min_samples_split=4; total time=   0.3s\n",
      "[CV] END ccp_alpha=0, class_weight={0: 1.5, 1: 2.5}, max_depth=None, min_samples_split=2; total time=   0.3s\n",
      "[CV] END ccp_alpha=0, class_weight={0: 1.5, 1: 2.5}, max_depth=None, min_samples_split=2; total time=   0.3s\n",
      "[CV] END ccp_alpha=0, class_weight={0: 1.5, 1: 2.5}, max_depth=None, min_samples_split=2; total time=   0.3s\n",
      "[CV] END ccp_alpha=0, class_weight={0: 1.5, 1: 2.5}, max_depth=None, min_samples_split=2; total time=   0.3s\n",
      "[CV] END ccp_alpha=0, class_weight={0: 1.5, 1: 2.5}, max_depth=None, min_samples_split=2; total time=   0.3s\n",
      "[CV] END ccp_alpha=0, class_weight={0: 1.5, 1: 2.5}, max_depth=None, min_samples_split=3; total time=   0.3s\n",
      "[CV] END ccp_alpha=0, class_weight={0: 1.5, 1: 2.5}, max_depth=None, min_samples_split=3; total time=   0.3s\n",
      "[CV] END ccp_alpha=0, class_weight={0: 1.5, 1: 2.5}, max_depth=None, min_samples_split=3; total time=   0.3s\n",
      "[CV] END ccp_alpha=0, class_weight={0: 1.5, 1: 2.5}, max_depth=None, min_samples_split=3; total time=   0.3s\n",
      "[CV] END ccp_alpha=0, class_weight={0: 1.5, 1: 2.5}, max_depth=None, min_samples_split=3; total time=   0.3s\n",
      "[CV] END ccp_alpha=0, class_weight={0: 1.5, 1: 2.5}, max_depth=None, min_samples_split=4; total time=   0.3s\n",
      "[CV] END ccp_alpha=0, class_weight={0: 1.5, 1: 2.5}, max_depth=None, min_samples_split=4; total time=   0.3s\n",
      "[CV] END ccp_alpha=0, class_weight={0: 1.5, 1: 2.5}, max_depth=None, min_samples_split=4; total time=   0.3s\n",
      "[CV] END ccp_alpha=0, class_weight={0: 1.5, 1: 2.5}, max_depth=None, min_samples_split=4; total time=   0.3s\n",
      "[CV] END ccp_alpha=0, class_weight={0: 1.5, 1: 2.5}, max_depth=None, min_samples_split=4; total time=   0.3s\n",
      "[CV] END ccp_alpha=0, class_weight={0: 1.5, 1: 2.5}, max_depth=10, min_samples_split=2; total time=   0.2s\n",
      "[CV] END ccp_alpha=0, class_weight={0: 1.5, 1: 2.5}, max_depth=10, min_samples_split=2; total time=   0.2s\n",
      "[CV] END ccp_alpha=0, class_weight={0: 1.5, 1: 2.5}, max_depth=10, min_samples_split=2; total time=   0.2s\n",
      "[CV] END ccp_alpha=0, class_weight={0: 1.5, 1: 2.5}, max_depth=10, min_samples_split=2; total time=   0.2s\n",
      "[CV] END ccp_alpha=0, class_weight={0: 1.5, 1: 2.5}, max_depth=10, min_samples_split=2; total time=   0.2s\n",
      "[CV] END ccp_alpha=0, class_weight={0: 1.5, 1: 2.5}, max_depth=10, min_samples_split=3; total time=   0.2s\n",
      "[CV] END ccp_alpha=0, class_weight={0: 1.5, 1: 2.5}, max_depth=10, min_samples_split=3; total time=   0.2s\n",
      "[CV] END ccp_alpha=0, class_weight={0: 1.5, 1: 2.5}, max_depth=10, min_samples_split=3; total time=   0.2s\n",
      "[CV] END ccp_alpha=0, class_weight={0: 1.5, 1: 2.5}, max_depth=10, min_samples_split=3; total time=   0.2s\n",
      "[CV] END ccp_alpha=0, class_weight={0: 1.5, 1: 2.5}, max_depth=10, min_samples_split=3; total time=   0.2s\n",
      "[CV] END ccp_alpha=0, class_weight={0: 1.5, 1: 2.5}, max_depth=10, min_samples_split=4; total time=   0.2s\n",
      "[CV] END ccp_alpha=0, class_weight={0: 1.5, 1: 2.5}, max_depth=10, min_samples_split=4; total time=   0.2s\n",
      "[CV] END ccp_alpha=0, class_weight={0: 1.5, 1: 2.5}, max_depth=10, min_samples_split=4; total time=   0.2s\n",
      "[CV] END ccp_alpha=0, class_weight={0: 1.5, 1: 2.5}, max_depth=10, min_samples_split=4; total time=   0.2s\n",
      "[CV] END ccp_alpha=0, class_weight={0: 1.5, 1: 2.5}, max_depth=10, min_samples_split=4; total time=   0.2s\n",
      "[CV] END ccp_alpha=0, class_weight={0: 1.5, 1: 2.5}, max_depth=20, min_samples_split=2; total time=   0.2s\n",
      "[CV] END ccp_alpha=0, class_weight={0: 1.5, 1: 2.5}, max_depth=20, min_samples_split=2; total time=   0.2s\n",
      "[CV] END ccp_alpha=0, class_weight={0: 1.5, 1: 2.5}, max_depth=20, min_samples_split=2; total time=   0.3s\n",
      "[CV] END ccp_alpha=0, class_weight={0: 1.5, 1: 2.5}, max_depth=20, min_samples_split=2; total time=   0.2s\n",
      "[CV] END ccp_alpha=0, class_weight={0: 1.5, 1: 2.5}, max_depth=20, min_samples_split=2; total time=   0.2s\n",
      "[CV] END ccp_alpha=0, class_weight={0: 1.5, 1: 2.5}, max_depth=20, min_samples_split=3; total time=   0.2s\n",
      "[CV] END ccp_alpha=0, class_weight={0: 1.5, 1: 2.5}, max_depth=20, min_samples_split=3; total time=   0.2s\n",
      "[CV] END ccp_alpha=0, class_weight={0: 1.5, 1: 2.5}, max_depth=20, min_samples_split=3; total time=   0.3s\n",
      "[CV] END ccp_alpha=0, class_weight={0: 1.5, 1: 2.5}, max_depth=20, min_samples_split=3; total time=   0.2s\n",
      "[CV] END ccp_alpha=0, class_weight={0: 1.5, 1: 2.5}, max_depth=20, min_samples_split=3; total time=   0.2s\n",
      "[CV] END ccp_alpha=0, class_weight={0: 1.5, 1: 2.5}, max_depth=20, min_samples_split=4; total time=   0.2s\n",
      "[CV] END ccp_alpha=0, class_weight={0: 1.5, 1: 2.5}, max_depth=20, min_samples_split=4; total time=   0.2s\n",
      "[CV] END ccp_alpha=0, class_weight={0: 1.5, 1: 2.5}, max_depth=20, min_samples_split=4; total time=   0.3s\n",
      "[CV] END ccp_alpha=0, class_weight={0: 1.5, 1: 2.5}, max_depth=20, min_samples_split=4; total time=   0.3s\n",
      "[CV] END ccp_alpha=0, class_weight={0: 1.5, 1: 2.5}, max_depth=20, min_samples_split=4; total time=   0.2s\n",
      "[CV] END ccp_alpha=0, class_weight={0: 1.5, 1: 2.5}, max_depth=30, min_samples_split=2; total time=   0.3s\n",
      "[CV] END ccp_alpha=0, class_weight={0: 1.5, 1: 2.5}, max_depth=30, min_samples_split=2; total time=   0.3s\n",
      "[CV] END ccp_alpha=0, class_weight={0: 1.5, 1: 2.5}, max_depth=30, min_samples_split=2; total time=   0.3s\n",
      "[CV] END ccp_alpha=0, class_weight={0: 1.5, 1: 2.5}, max_depth=30, min_samples_split=2; total time=   0.3s\n",
      "[CV] END ccp_alpha=0, class_weight={0: 1.5, 1: 2.5}, max_depth=30, min_samples_split=2; total time=   0.3s\n",
      "[CV] END ccp_alpha=0, class_weight={0: 1.5, 1: 2.5}, max_depth=30, min_samples_split=3; total time=   0.3s\n",
      "[CV] END ccp_alpha=0, class_weight={0: 1.5, 1: 2.5}, max_depth=30, min_samples_split=3; total time=   0.3s\n",
      "[CV] END ccp_alpha=0, class_weight={0: 1.5, 1: 2.5}, max_depth=30, min_samples_split=3; total time=   0.3s\n",
      "[CV] END ccp_alpha=0, class_weight={0: 1.5, 1: 2.5}, max_depth=30, min_samples_split=3; total time=   0.3s\n",
      "[CV] END ccp_alpha=0, class_weight={0: 1.5, 1: 2.5}, max_depth=30, min_samples_split=3; total time=   0.3s\n",
      "[CV] END ccp_alpha=0, class_weight={0: 1.5, 1: 2.5}, max_depth=30, min_samples_split=4; total time=   0.3s\n",
      "[CV] END ccp_alpha=0, class_weight={0: 1.5, 1: 2.5}, max_depth=30, min_samples_split=4; total time=   0.3s\n",
      "[CV] END ccp_alpha=0, class_weight={0: 1.5, 1: 2.5}, max_depth=30, min_samples_split=4; total time=   0.3s\n",
      "[CV] END ccp_alpha=0, class_weight={0: 1.5, 1: 2.5}, max_depth=30, min_samples_split=4; total time=   0.3s\n",
      "[CV] END ccp_alpha=0, class_weight={0: 1.5, 1: 2.5}, max_depth=30, min_samples_split=4; total time=   0.3s\n",
      "[CV] END ccp_alpha=0, class_weight={0: 1.5, 1: 3}, max_depth=None, min_samples_split=2; total time=   0.3s\n",
      "[CV] END ccp_alpha=0, class_weight={0: 1.5, 1: 3}, max_depth=None, min_samples_split=2; total time=   0.3s\n",
      "[CV] END ccp_alpha=0, class_weight={0: 1.5, 1: 3}, max_depth=None, min_samples_split=2; total time=   0.3s\n",
      "[CV] END ccp_alpha=0, class_weight={0: 1.5, 1: 3}, max_depth=None, min_samples_split=2; total time=   0.3s\n",
      "[CV] END ccp_alpha=0, class_weight={0: 1.5, 1: 3}, max_depth=None, min_samples_split=2; total time=   0.3s\n",
      "[CV] END ccp_alpha=0, class_weight={0: 1.5, 1: 3}, max_depth=None, min_samples_split=3; total time=   0.3s\n",
      "[CV] END ccp_alpha=0, class_weight={0: 1.5, 1: 3}, max_depth=None, min_samples_split=3; total time=   0.3s\n",
      "[CV] END ccp_alpha=0, class_weight={0: 1.5, 1: 3}, max_depth=None, min_samples_split=3; total time=   0.3s\n",
      "[CV] END ccp_alpha=0, class_weight={0: 1.5, 1: 3}, max_depth=None, min_samples_split=3; total time=   0.3s\n",
      "[CV] END ccp_alpha=0, class_weight={0: 1.5, 1: 3}, max_depth=None, min_samples_split=3; total time=   0.3s\n",
      "[CV] END ccp_alpha=0, class_weight={0: 1.5, 1: 3}, max_depth=None, min_samples_split=4; total time=   0.3s\n",
      "[CV] END ccp_alpha=0, class_weight={0: 1.5, 1: 3}, max_depth=None, min_samples_split=4; total time=   0.3s\n",
      "[CV] END ccp_alpha=0, class_weight={0: 1.5, 1: 3}, max_depth=None, min_samples_split=4; total time=   0.3s\n",
      "[CV] END ccp_alpha=0, class_weight={0: 1.5, 1: 3}, max_depth=None, min_samples_split=4; total time=   0.3s\n",
      "[CV] END ccp_alpha=0, class_weight={0: 1.5, 1: 3}, max_depth=None, min_samples_split=4; total time=   0.3s\n",
      "[CV] END ccp_alpha=0, class_weight={0: 1.5, 1: 3}, max_depth=10, min_samples_split=2; total time=   0.2s\n",
      "[CV] END ccp_alpha=0, class_weight={0: 1.5, 1: 3}, max_depth=10, min_samples_split=2; total time=   0.2s\n",
      "[CV] END ccp_alpha=0, class_weight={0: 1.5, 1: 3}, max_depth=10, min_samples_split=2; total time=   0.2s\n",
      "[CV] END ccp_alpha=0, class_weight={0: 1.5, 1: 3}, max_depth=10, min_samples_split=2; total time=   0.2s\n",
      "[CV] END ccp_alpha=0, class_weight={0: 1.5, 1: 3}, max_depth=10, min_samples_split=2; total time=   0.2s\n",
      "[CV] END ccp_alpha=0, class_weight={0: 1.5, 1: 3}, max_depth=10, min_samples_split=3; total time=   0.2s\n",
      "[CV] END ccp_alpha=0, class_weight={0: 1.5, 1: 3}, max_depth=10, min_samples_split=3; total time=   0.2s\n",
      "[CV] END ccp_alpha=0, class_weight={0: 1.5, 1: 3}, max_depth=10, min_samples_split=3; total time=   0.2s\n",
      "[CV] END ccp_alpha=0, class_weight={0: 1.5, 1: 3}, max_depth=10, min_samples_split=3; total time=   0.2s\n",
      "[CV] END ccp_alpha=0, class_weight={0: 1.5, 1: 3}, max_depth=10, min_samples_split=3; total time=   0.2s\n",
      "[CV] END ccp_alpha=0, class_weight={0: 1.5, 1: 3}, max_depth=10, min_samples_split=4; total time=   0.2s\n",
      "[CV] END ccp_alpha=0, class_weight={0: 1.5, 1: 3}, max_depth=10, min_samples_split=4; total time=   0.2s\n",
      "[CV] END ccp_alpha=0, class_weight={0: 1.5, 1: 3}, max_depth=10, min_samples_split=4; total time=   0.2s\n",
      "[CV] END ccp_alpha=0, class_weight={0: 1.5, 1: 3}, max_depth=10, min_samples_split=4; total time=   0.2s\n",
      "[CV] END ccp_alpha=0, class_weight={0: 1.5, 1: 3}, max_depth=10, min_samples_split=4; total time=   0.2s\n",
      "[CV] END ccp_alpha=0, class_weight={0: 1.5, 1: 3}, max_depth=20, min_samples_split=2; total time=   0.2s\n",
      "[CV] END ccp_alpha=0, class_weight={0: 1.5, 1: 3}, max_depth=20, min_samples_split=2; total time=   0.2s\n",
      "[CV] END ccp_alpha=0, class_weight={0: 1.5, 1: 3}, max_depth=20, min_samples_split=2; total time=   0.3s\n",
      "[CV] END ccp_alpha=0, class_weight={0: 1.5, 1: 3}, max_depth=20, min_samples_split=2; total time=   0.2s\n",
      "[CV] END ccp_alpha=0, class_weight={0: 1.5, 1: 3}, max_depth=20, min_samples_split=2; total time=   0.2s\n",
      "[CV] END ccp_alpha=0, class_weight={0: 1.5, 1: 3}, max_depth=20, min_samples_split=3; total time=   0.2s\n",
      "[CV] END ccp_alpha=0, class_weight={0: 1.5, 1: 3}, max_depth=20, min_samples_split=3; total time=   0.2s\n",
      "[CV] END ccp_alpha=0, class_weight={0: 1.5, 1: 3}, max_depth=20, min_samples_split=3; total time=   0.3s\n",
      "[CV] END ccp_alpha=0, class_weight={0: 1.5, 1: 3}, max_depth=20, min_samples_split=3; total time=   0.2s\n",
      "[CV] END ccp_alpha=0, class_weight={0: 1.5, 1: 3}, max_depth=20, min_samples_split=3; total time=   0.2s\n",
      "[CV] END ccp_alpha=0, class_weight={0: 1.5, 1: 3}, max_depth=20, min_samples_split=4; total time=   0.2s\n",
      "[CV] END ccp_alpha=0, class_weight={0: 1.5, 1: 3}, max_depth=20, min_samples_split=4; total time=   0.2s\n",
      "[CV] END ccp_alpha=0, class_weight={0: 1.5, 1: 3}, max_depth=20, min_samples_split=4; total time=   0.3s\n",
      "[CV] END ccp_alpha=0, class_weight={0: 1.5, 1: 3}, max_depth=20, min_samples_split=4; total time=   0.2s\n",
      "[CV] END ccp_alpha=0, class_weight={0: 1.5, 1: 3}, max_depth=20, min_samples_split=4; total time=   0.2s\n",
      "[CV] END ccp_alpha=0, class_weight={0: 1.5, 1: 3}, max_depth=30, min_samples_split=2; total time=   0.3s\n",
      "[CV] END ccp_alpha=0, class_weight={0: 1.5, 1: 3}, max_depth=30, min_samples_split=2; total time=   0.3s\n",
      "[CV] END ccp_alpha=0, class_weight={0: 1.5, 1: 3}, max_depth=30, min_samples_split=2; total time=   0.3s\n",
      "[CV] END ccp_alpha=0, class_weight={0: 1.5, 1: 3}, max_depth=30, min_samples_split=2; total time=   0.3s\n",
      "[CV] END ccp_alpha=0, class_weight={0: 1.5, 1: 3}, max_depth=30, min_samples_split=2; total time=   0.3s\n",
      "[CV] END ccp_alpha=0, class_weight={0: 1.5, 1: 3}, max_depth=30, min_samples_split=3; total time=   0.3s\n",
      "[CV] END ccp_alpha=0, class_weight={0: 1.5, 1: 3}, max_depth=30, min_samples_split=3; total time=   0.3s\n",
      "[CV] END ccp_alpha=0, class_weight={0: 1.5, 1: 3}, max_depth=30, min_samples_split=3; total time=   0.3s\n",
      "[CV] END ccp_alpha=0, class_weight={0: 1.5, 1: 3}, max_depth=30, min_samples_split=3; total time=   0.3s\n",
      "[CV] END ccp_alpha=0, class_weight={0: 1.5, 1: 3}, max_depth=30, min_samples_split=3; total time=   0.3s\n",
      "[CV] END ccp_alpha=0, class_weight={0: 1.5, 1: 3}, max_depth=30, min_samples_split=4; total time=   0.3s\n",
      "[CV] END ccp_alpha=0, class_weight={0: 1.5, 1: 3}, max_depth=30, min_samples_split=4; total time=   0.3s\n",
      "[CV] END ccp_alpha=0, class_weight={0: 1.5, 1: 3}, max_depth=30, min_samples_split=4; total time=   0.3s\n",
      "[CV] END ccp_alpha=0, class_weight={0: 1.5, 1: 3}, max_depth=30, min_samples_split=4; total time=   0.3s\n",
      "[CV] END ccp_alpha=0, class_weight={0: 1.5, 1: 3}, max_depth=30, min_samples_split=4; total time=   0.3s\n",
      "[CV] END ccp_alpha=1, class_weight=None, max_depth=None, min_samples_split=2; total time=   0.3s\n",
      "[CV] END ccp_alpha=1, class_weight=None, max_depth=None, min_samples_split=2; total time=   0.3s\n",
      "[CV] END ccp_alpha=1, class_weight=None, max_depth=None, min_samples_split=2; total time=   0.3s\n",
      "[CV] END ccp_alpha=1, class_weight=None, max_depth=None, min_samples_split=2; total time=   0.3s\n",
      "[CV] END ccp_alpha=1, class_weight=None, max_depth=None, min_samples_split=2; total time=   0.3s\n",
      "[CV] END ccp_alpha=1, class_weight=None, max_depth=None, min_samples_split=3; total time=   0.3s\n",
      "[CV] END ccp_alpha=1, class_weight=None, max_depth=None, min_samples_split=3; total time=   0.3s\n",
      "[CV] END ccp_alpha=1, class_weight=None, max_depth=None, min_samples_split=3; total time=   0.3s\n",
      "[CV] END ccp_alpha=1, class_weight=None, max_depth=None, min_samples_split=3; total time=   0.3s\n",
      "[CV] END ccp_alpha=1, class_weight=None, max_depth=None, min_samples_split=3; total time=   0.3s\n",
      "[CV] END ccp_alpha=1, class_weight=None, max_depth=None, min_samples_split=4; total time=   0.3s\n",
      "[CV] END ccp_alpha=1, class_weight=None, max_depth=None, min_samples_split=4; total time=   0.3s\n",
      "[CV] END ccp_alpha=1, class_weight=None, max_depth=None, min_samples_split=4; total time=   0.3s\n",
      "[CV] END ccp_alpha=1, class_weight=None, max_depth=None, min_samples_split=4; total time=   0.3s\n",
      "[CV] END ccp_alpha=1, class_weight=None, max_depth=None, min_samples_split=4; total time=   0.3s\n",
      "[CV] END ccp_alpha=1, class_weight=None, max_depth=10, min_samples_split=2; total time=   0.2s\n",
      "[CV] END ccp_alpha=1, class_weight=None, max_depth=10, min_samples_split=2; total time=   0.2s\n",
      "[CV] END ccp_alpha=1, class_weight=None, max_depth=10, min_samples_split=2; total time=   0.2s\n",
      "[CV] END ccp_alpha=1, class_weight=None, max_depth=10, min_samples_split=2; total time=   0.2s\n",
      "[CV] END ccp_alpha=1, class_weight=None, max_depth=10, min_samples_split=2; total time=   0.2s\n",
      "[CV] END ccp_alpha=1, class_weight=None, max_depth=10, min_samples_split=3; total time=   0.2s\n",
      "[CV] END ccp_alpha=1, class_weight=None, max_depth=10, min_samples_split=3; total time=   0.2s\n",
      "[CV] END ccp_alpha=1, class_weight=None, max_depth=10, min_samples_split=3; total time=   0.2s\n",
      "[CV] END ccp_alpha=1, class_weight=None, max_depth=10, min_samples_split=3; total time=   0.2s\n",
      "[CV] END ccp_alpha=1, class_weight=None, max_depth=10, min_samples_split=3; total time=   0.2s\n",
      "[CV] END ccp_alpha=1, class_weight=None, max_depth=10, min_samples_split=4; total time=   0.2s\n",
      "[CV] END ccp_alpha=1, class_weight=None, max_depth=10, min_samples_split=4; total time=   0.2s\n",
      "[CV] END ccp_alpha=1, class_weight=None, max_depth=10, min_samples_split=4; total time=   0.2s\n",
      "[CV] END ccp_alpha=1, class_weight=None, max_depth=10, min_samples_split=4; total time=   0.2s\n",
      "[CV] END ccp_alpha=1, class_weight=None, max_depth=10, min_samples_split=4; total time=   0.2s\n",
      "[CV] END ccp_alpha=1, class_weight=None, max_depth=20, min_samples_split=2; total time=   0.3s\n",
      "[CV] END ccp_alpha=1, class_weight=None, max_depth=20, min_samples_split=2; total time=   0.2s\n",
      "[CV] END ccp_alpha=1, class_weight=None, max_depth=20, min_samples_split=2; total time=   0.3s\n",
      "[CV] END ccp_alpha=1, class_weight=None, max_depth=20, min_samples_split=2; total time=   0.3s\n",
      "[CV] END ccp_alpha=1, class_weight=None, max_depth=20, min_samples_split=2; total time=   0.3s\n",
      "[CV] END ccp_alpha=1, class_weight=None, max_depth=20, min_samples_split=3; total time=   0.3s\n",
      "[CV] END ccp_alpha=1, class_weight=None, max_depth=20, min_samples_split=3; total time=   0.2s\n",
      "[CV] END ccp_alpha=1, class_weight=None, max_depth=20, min_samples_split=3; total time=   0.2s\n",
      "[CV] END ccp_alpha=1, class_weight=None, max_depth=20, min_samples_split=3; total time=   0.3s\n",
      "[CV] END ccp_alpha=1, class_weight=None, max_depth=20, min_samples_split=3; total time=   0.3s\n",
      "[CV] END ccp_alpha=1, class_weight=None, max_depth=20, min_samples_split=4; total time=   0.3s\n",
      "[CV] END ccp_alpha=1, class_weight=None, max_depth=20, min_samples_split=4; total time=   0.2s\n",
      "[CV] END ccp_alpha=1, class_weight=None, max_depth=20, min_samples_split=4; total time=   0.2s\n",
      "[CV] END ccp_alpha=1, class_weight=None, max_depth=20, min_samples_split=4; total time=   0.2s\n",
      "[CV] END ccp_alpha=1, class_weight=None, max_depth=20, min_samples_split=4; total time=   0.2s\n",
      "[CV] END ccp_alpha=1, class_weight=None, max_depth=30, min_samples_split=2; total time=   0.3s\n",
      "[CV] END ccp_alpha=1, class_weight=None, max_depth=30, min_samples_split=2; total time=   0.3s\n",
      "[CV] END ccp_alpha=1, class_weight=None, max_depth=30, min_samples_split=2; total time=   0.3s\n",
      "[CV] END ccp_alpha=1, class_weight=None, max_depth=30, min_samples_split=2; total time=   0.3s\n",
      "[CV] END ccp_alpha=1, class_weight=None, max_depth=30, min_samples_split=2; total time=   0.3s\n",
      "[CV] END ccp_alpha=1, class_weight=None, max_depth=30, min_samples_split=3; total time=   0.3s\n",
      "[CV] END ccp_alpha=1, class_weight=None, max_depth=30, min_samples_split=3; total time=   0.3s\n",
      "[CV] END ccp_alpha=1, class_weight=None, max_depth=30, min_samples_split=3; total time=   0.3s\n",
      "[CV] END ccp_alpha=1, class_weight=None, max_depth=30, min_samples_split=3; total time=   0.3s\n",
      "[CV] END ccp_alpha=1, class_weight=None, max_depth=30, min_samples_split=3; total time=   0.3s\n",
      "[CV] END ccp_alpha=1, class_weight=None, max_depth=30, min_samples_split=4; total time=   0.3s\n",
      "[CV] END ccp_alpha=1, class_weight=None, max_depth=30, min_samples_split=4; total time=   0.3s\n",
      "[CV] END ccp_alpha=1, class_weight=None, max_depth=30, min_samples_split=4; total time=   0.3s\n",
      "[CV] END ccp_alpha=1, class_weight=None, max_depth=30, min_samples_split=4; total time=   0.3s\n",
      "[CV] END ccp_alpha=1, class_weight=None, max_depth=30, min_samples_split=4; total time=   0.3s\n",
      "[CV] END ccp_alpha=1, class_weight={0: 1, 1: 2}, max_depth=None, min_samples_split=2; total time=   0.3s\n",
      "[CV] END ccp_alpha=1, class_weight={0: 1, 1: 2}, max_depth=None, min_samples_split=2; total time=   0.3s\n",
      "[CV] END ccp_alpha=1, class_weight={0: 1, 1: 2}, max_depth=None, min_samples_split=2; total time=   0.3s\n",
      "[CV] END ccp_alpha=1, class_weight={0: 1, 1: 2}, max_depth=None, min_samples_split=2; total time=   0.3s\n",
      "[CV] END ccp_alpha=1, class_weight={0: 1, 1: 2}, max_depth=None, min_samples_split=2; total time=   0.3s\n",
      "[CV] END ccp_alpha=1, class_weight={0: 1, 1: 2}, max_depth=None, min_samples_split=3; total time=   0.3s\n",
      "[CV] END ccp_alpha=1, class_weight={0: 1, 1: 2}, max_depth=None, min_samples_split=3; total time=   0.3s\n",
      "[CV] END ccp_alpha=1, class_weight={0: 1, 1: 2}, max_depth=None, min_samples_split=3; total time=   0.3s\n",
      "[CV] END ccp_alpha=1, class_weight={0: 1, 1: 2}, max_depth=None, min_samples_split=3; total time=   0.3s\n",
      "[CV] END ccp_alpha=1, class_weight={0: 1, 1: 2}, max_depth=None, min_samples_split=3; total time=   0.3s\n",
      "[CV] END ccp_alpha=1, class_weight={0: 1, 1: 2}, max_depth=None, min_samples_split=4; total time=   0.3s\n",
      "[CV] END ccp_alpha=1, class_weight={0: 1, 1: 2}, max_depth=None, min_samples_split=4; total time=   0.3s\n",
      "[CV] END ccp_alpha=1, class_weight={0: 1, 1: 2}, max_depth=None, min_samples_split=4; total time=   0.3s\n",
      "[CV] END ccp_alpha=1, class_weight={0: 1, 1: 2}, max_depth=None, min_samples_split=4; total time=   0.3s\n",
      "[CV] END ccp_alpha=1, class_weight={0: 1, 1: 2}, max_depth=None, min_samples_split=4; total time=   0.3s\n",
      "[CV] END ccp_alpha=1, class_weight={0: 1, 1: 2}, max_depth=10, min_samples_split=2; total time=   0.2s\n",
      "[CV] END ccp_alpha=1, class_weight={0: 1, 1: 2}, max_depth=10, min_samples_split=2; total time=   0.2s\n",
      "[CV] END ccp_alpha=1, class_weight={0: 1, 1: 2}, max_depth=10, min_samples_split=2; total time=   0.2s\n",
      "[CV] END ccp_alpha=1, class_weight={0: 1, 1: 2}, max_depth=10, min_samples_split=2; total time=   0.2s\n",
      "[CV] END ccp_alpha=1, class_weight={0: 1, 1: 2}, max_depth=10, min_samples_split=2; total time=   0.2s\n",
      "[CV] END ccp_alpha=1, class_weight={0: 1, 1: 2}, max_depth=10, min_samples_split=3; total time=   0.2s\n",
      "[CV] END ccp_alpha=1, class_weight={0: 1, 1: 2}, max_depth=10, min_samples_split=3; total time=   0.2s\n",
      "[CV] END ccp_alpha=1, class_weight={0: 1, 1: 2}, max_depth=10, min_samples_split=3; total time=   0.2s\n",
      "[CV] END ccp_alpha=1, class_weight={0: 1, 1: 2}, max_depth=10, min_samples_split=3; total time=   0.2s\n",
      "[CV] END ccp_alpha=1, class_weight={0: 1, 1: 2}, max_depth=10, min_samples_split=3; total time=   0.2s\n",
      "[CV] END ccp_alpha=1, class_weight={0: 1, 1: 2}, max_depth=10, min_samples_split=4; total time=   0.2s\n",
      "[CV] END ccp_alpha=1, class_weight={0: 1, 1: 2}, max_depth=10, min_samples_split=4; total time=   0.2s\n",
      "[CV] END ccp_alpha=1, class_weight={0: 1, 1: 2}, max_depth=10, min_samples_split=4; total time=   0.2s\n",
      "[CV] END ccp_alpha=1, class_weight={0: 1, 1: 2}, max_depth=10, min_samples_split=4; total time=   0.2s\n",
      "[CV] END ccp_alpha=1, class_weight={0: 1, 1: 2}, max_depth=10, min_samples_split=4; total time=   0.2s\n",
      "[CV] END ccp_alpha=1, class_weight={0: 1, 1: 2}, max_depth=20, min_samples_split=2; total time=   0.2s\n",
      "[CV] END ccp_alpha=1, class_weight={0: 1, 1: 2}, max_depth=20, min_samples_split=2; total time=   0.2s\n",
      "[CV] END ccp_alpha=1, class_weight={0: 1, 1: 2}, max_depth=20, min_samples_split=2; total time=   0.3s\n",
      "[CV] END ccp_alpha=1, class_weight={0: 1, 1: 2}, max_depth=20, min_samples_split=2; total time=   0.2s\n",
      "[CV] END ccp_alpha=1, class_weight={0: 1, 1: 2}, max_depth=20, min_samples_split=2; total time=   0.2s\n",
      "[CV] END ccp_alpha=1, class_weight={0: 1, 1: 2}, max_depth=20, min_samples_split=3; total time=   0.2s\n",
      "[CV] END ccp_alpha=1, class_weight={0: 1, 1: 2}, max_depth=20, min_samples_split=3; total time=   0.2s\n",
      "[CV] END ccp_alpha=1, class_weight={0: 1, 1: 2}, max_depth=20, min_samples_split=3; total time=   0.3s\n",
      "[CV] END ccp_alpha=1, class_weight={0: 1, 1: 2}, max_depth=20, min_samples_split=3; total time=   0.2s\n",
      "[CV] END ccp_alpha=1, class_weight={0: 1, 1: 2}, max_depth=20, min_samples_split=3; total time=   0.2s\n",
      "[CV] END ccp_alpha=1, class_weight={0: 1, 1: 2}, max_depth=20, min_samples_split=4; total time=   0.2s\n",
      "[CV] END ccp_alpha=1, class_weight={0: 1, 1: 2}, max_depth=20, min_samples_split=4; total time=   0.2s\n",
      "[CV] END ccp_alpha=1, class_weight={0: 1, 1: 2}, max_depth=20, min_samples_split=4; total time=   0.3s\n",
      "[CV] END ccp_alpha=1, class_weight={0: 1, 1: 2}, max_depth=20, min_samples_split=4; total time=   0.2s\n",
      "[CV] END ccp_alpha=1, class_weight={0: 1, 1: 2}, max_depth=20, min_samples_split=4; total time=   0.2s\n",
      "[CV] END ccp_alpha=1, class_weight={0: 1, 1: 2}, max_depth=30, min_samples_split=2; total time=   0.3s\n",
      "[CV] END ccp_alpha=1, class_weight={0: 1, 1: 2}, max_depth=30, min_samples_split=2; total time=   0.3s\n",
      "[CV] END ccp_alpha=1, class_weight={0: 1, 1: 2}, max_depth=30, min_samples_split=2; total time=   0.3s\n",
      "[CV] END ccp_alpha=1, class_weight={0: 1, 1: 2}, max_depth=30, min_samples_split=2; total time=   0.3s\n",
      "[CV] END ccp_alpha=1, class_weight={0: 1, 1: 2}, max_depth=30, min_samples_split=2; total time=   0.3s\n",
      "[CV] END ccp_alpha=1, class_weight={0: 1, 1: 2}, max_depth=30, min_samples_split=3; total time=   0.3s\n",
      "[CV] END ccp_alpha=1, class_weight={0: 1, 1: 2}, max_depth=30, min_samples_split=3; total time=   0.3s\n",
      "[CV] END ccp_alpha=1, class_weight={0: 1, 1: 2}, max_depth=30, min_samples_split=3; total time=   0.3s\n",
      "[CV] END ccp_alpha=1, class_weight={0: 1, 1: 2}, max_depth=30, min_samples_split=3; total time=   0.3s\n",
      "[CV] END ccp_alpha=1, class_weight={0: 1, 1: 2}, max_depth=30, min_samples_split=3; total time=   0.3s\n",
      "[CV] END ccp_alpha=1, class_weight={0: 1, 1: 2}, max_depth=30, min_samples_split=4; total time=   0.3s\n",
      "[CV] END ccp_alpha=1, class_weight={0: 1, 1: 2}, max_depth=30, min_samples_split=4; total time=   0.3s\n",
      "[CV] END ccp_alpha=1, class_weight={0: 1, 1: 2}, max_depth=30, min_samples_split=4; total time=   0.3s\n",
      "[CV] END ccp_alpha=1, class_weight={0: 1, 1: 2}, max_depth=30, min_samples_split=4; total time=   0.3s\n",
      "[CV] END ccp_alpha=1, class_weight={0: 1, 1: 2}, max_depth=30, min_samples_split=4; total time=   0.3s\n",
      "[CV] END ccp_alpha=1, class_weight={0: 1, 1: 3}, max_depth=None, min_samples_split=2; total time=   0.3s\n",
      "[CV] END ccp_alpha=1, class_weight={0: 1, 1: 3}, max_depth=None, min_samples_split=2; total time=   0.3s\n",
      "[CV] END ccp_alpha=1, class_weight={0: 1, 1: 3}, max_depth=None, min_samples_split=2; total time=   0.3s\n",
      "[CV] END ccp_alpha=1, class_weight={0: 1, 1: 3}, max_depth=None, min_samples_split=2; total time=   0.3s\n",
      "[CV] END ccp_alpha=1, class_weight={0: 1, 1: 3}, max_depth=None, min_samples_split=2; total time=   0.3s\n",
      "[CV] END ccp_alpha=1, class_weight={0: 1, 1: 3}, max_depth=None, min_samples_split=3; total time=   0.4s\n",
      "[CV] END ccp_alpha=1, class_weight={0: 1, 1: 3}, max_depth=None, min_samples_split=3; total time=   0.3s\n",
      "[CV] END ccp_alpha=1, class_weight={0: 1, 1: 3}, max_depth=None, min_samples_split=3; total time=   0.3s\n",
      "[CV] END ccp_alpha=1, class_weight={0: 1, 1: 3}, max_depth=None, min_samples_split=3; total time=   0.3s\n",
      "[CV] END ccp_alpha=1, class_weight={0: 1, 1: 3}, max_depth=None, min_samples_split=3; total time=   0.3s\n",
      "[CV] END ccp_alpha=1, class_weight={0: 1, 1: 3}, max_depth=None, min_samples_split=4; total time=   0.3s\n",
      "[CV] END ccp_alpha=1, class_weight={0: 1, 1: 3}, max_depth=None, min_samples_split=4; total time=   0.3s\n",
      "[CV] END ccp_alpha=1, class_weight={0: 1, 1: 3}, max_depth=None, min_samples_split=4; total time=   0.3s\n",
      "[CV] END ccp_alpha=1, class_weight={0: 1, 1: 3}, max_depth=None, min_samples_split=4; total time=   0.3s\n",
      "[CV] END ccp_alpha=1, class_weight={0: 1, 1: 3}, max_depth=None, min_samples_split=4; total time=   0.3s\n",
      "[CV] END ccp_alpha=1, class_weight={0: 1, 1: 3}, max_depth=10, min_samples_split=2; total time=   0.2s\n",
      "[CV] END ccp_alpha=1, class_weight={0: 1, 1: 3}, max_depth=10, min_samples_split=2; total time=   0.2s\n",
      "[CV] END ccp_alpha=1, class_weight={0: 1, 1: 3}, max_depth=10, min_samples_split=2; total time=   0.2s\n",
      "[CV] END ccp_alpha=1, class_weight={0: 1, 1: 3}, max_depth=10, min_samples_split=2; total time=   0.2s\n",
      "[CV] END ccp_alpha=1, class_weight={0: 1, 1: 3}, max_depth=10, min_samples_split=2; total time=   0.2s\n",
      "[CV] END ccp_alpha=1, class_weight={0: 1, 1: 3}, max_depth=10, min_samples_split=3; total time=   0.2s\n",
      "[CV] END ccp_alpha=1, class_weight={0: 1, 1: 3}, max_depth=10, min_samples_split=3; total time=   0.2s\n",
      "[CV] END ccp_alpha=1, class_weight={0: 1, 1: 3}, max_depth=10, min_samples_split=3; total time=   0.2s\n",
      "[CV] END ccp_alpha=1, class_weight={0: 1, 1: 3}, max_depth=10, min_samples_split=3; total time=   0.2s\n",
      "[CV] END ccp_alpha=1, class_weight={0: 1, 1: 3}, max_depth=10, min_samples_split=3; total time=   0.2s\n",
      "[CV] END ccp_alpha=1, class_weight={0: 1, 1: 3}, max_depth=10, min_samples_split=4; total time=   0.2s\n",
      "[CV] END ccp_alpha=1, class_weight={0: 1, 1: 3}, max_depth=10, min_samples_split=4; total time=   0.2s\n",
      "[CV] END ccp_alpha=1, class_weight={0: 1, 1: 3}, max_depth=10, min_samples_split=4; total time=   0.2s\n",
      "[CV] END ccp_alpha=1, class_weight={0: 1, 1: 3}, max_depth=10, min_samples_split=4; total time=   0.2s\n",
      "[CV] END ccp_alpha=1, class_weight={0: 1, 1: 3}, max_depth=10, min_samples_split=4; total time=   0.2s\n",
      "[CV] END ccp_alpha=1, class_weight={0: 1, 1: 3}, max_depth=20, min_samples_split=2; total time=   0.3s\n",
      "[CV] END ccp_alpha=1, class_weight={0: 1, 1: 3}, max_depth=20, min_samples_split=2; total time=   0.3s\n",
      "[CV] END ccp_alpha=1, class_weight={0: 1, 1: 3}, max_depth=20, min_samples_split=2; total time=   0.2s\n",
      "[CV] END ccp_alpha=1, class_weight={0: 1, 1: 3}, max_depth=20, min_samples_split=2; total time=   0.2s\n",
      "[CV] END ccp_alpha=1, class_weight={0: 1, 1: 3}, max_depth=20, min_samples_split=2; total time=   0.2s\n",
      "[CV] END ccp_alpha=1, class_weight={0: 1, 1: 3}, max_depth=20, min_samples_split=3; total time=   0.2s\n",
      "[CV] END ccp_alpha=1, class_weight={0: 1, 1: 3}, max_depth=20, min_samples_split=3; total time=   0.2s\n",
      "[CV] END ccp_alpha=1, class_weight={0: 1, 1: 3}, max_depth=20, min_samples_split=3; total time=   0.2s\n",
      "[CV] END ccp_alpha=1, class_weight={0: 1, 1: 3}, max_depth=20, min_samples_split=3; total time=   0.2s\n",
      "[CV] END ccp_alpha=1, class_weight={0: 1, 1: 3}, max_depth=20, min_samples_split=3; total time=   0.2s\n",
      "[CV] END ccp_alpha=1, class_weight={0: 1, 1: 3}, max_depth=20, min_samples_split=4; total time=   0.2s\n",
      "[CV] END ccp_alpha=1, class_weight={0: 1, 1: 3}, max_depth=20, min_samples_split=4; total time=   0.3s\n",
      "[CV] END ccp_alpha=1, class_weight={0: 1, 1: 3}, max_depth=20, min_samples_split=4; total time=   0.2s\n",
      "[CV] END ccp_alpha=1, class_weight={0: 1, 1: 3}, max_depth=20, min_samples_split=4; total time=   0.2s\n",
      "[CV] END ccp_alpha=1, class_weight={0: 1, 1: 3}, max_depth=20, min_samples_split=4; total time=   0.2s\n",
      "[CV] END ccp_alpha=1, class_weight={0: 1, 1: 3}, max_depth=30, min_samples_split=2; total time=   0.3s\n",
      "[CV] END ccp_alpha=1, class_weight={0: 1, 1: 3}, max_depth=30, min_samples_split=2; total time=   0.3s\n",
      "[CV] END ccp_alpha=1, class_weight={0: 1, 1: 3}, max_depth=30, min_samples_split=2; total time=   0.3s\n",
      "[CV] END ccp_alpha=1, class_weight={0: 1, 1: 3}, max_depth=30, min_samples_split=2; total time=   0.3s\n",
      "[CV] END ccp_alpha=1, class_weight={0: 1, 1: 3}, max_depth=30, min_samples_split=2; total time=   0.3s\n",
      "[CV] END ccp_alpha=1, class_weight={0: 1, 1: 3}, max_depth=30, min_samples_split=3; total time=   0.3s\n",
      "[CV] END ccp_alpha=1, class_weight={0: 1, 1: 3}, max_depth=30, min_samples_split=3; total time=   0.3s\n",
      "[CV] END ccp_alpha=1, class_weight={0: 1, 1: 3}, max_depth=30, min_samples_split=3; total time=   0.3s\n",
      "[CV] END ccp_alpha=1, class_weight={0: 1, 1: 3}, max_depth=30, min_samples_split=3; total time=   0.3s\n",
      "[CV] END ccp_alpha=1, class_weight={0: 1, 1: 3}, max_depth=30, min_samples_split=3; total time=   0.3s\n",
      "[CV] END ccp_alpha=1, class_weight={0: 1, 1: 3}, max_depth=30, min_samples_split=4; total time=   0.3s\n",
      "[CV] END ccp_alpha=1, class_weight={0: 1, 1: 3}, max_depth=30, min_samples_split=4; total time=   0.3s\n",
      "[CV] END ccp_alpha=1, class_weight={0: 1, 1: 3}, max_depth=30, min_samples_split=4; total time=   0.3s\n",
      "[CV] END ccp_alpha=1, class_weight={0: 1, 1: 3}, max_depth=30, min_samples_split=4; total time=   0.3s\n",
      "[CV] END ccp_alpha=1, class_weight={0: 1, 1: 3}, max_depth=30, min_samples_split=4; total time=   0.3s\n",
      "[CV] END ccp_alpha=1, class_weight={0: 1.5, 1: 2.5}, max_depth=None, min_samples_split=2; total time=   0.3s\n",
      "[CV] END ccp_alpha=1, class_weight={0: 1.5, 1: 2.5}, max_depth=None, min_samples_split=2; total time=   0.3s\n",
      "[CV] END ccp_alpha=1, class_weight={0: 1.5, 1: 2.5}, max_depth=None, min_samples_split=2; total time=   0.3s\n",
      "[CV] END ccp_alpha=1, class_weight={0: 1.5, 1: 2.5}, max_depth=None, min_samples_split=2; total time=   0.3s\n",
      "[CV] END ccp_alpha=1, class_weight={0: 1.5, 1: 2.5}, max_depth=None, min_samples_split=2; total time=   0.3s\n",
      "[CV] END ccp_alpha=1, class_weight={0: 1.5, 1: 2.5}, max_depth=None, min_samples_split=3; total time=   0.3s\n",
      "[CV] END ccp_alpha=1, class_weight={0: 1.5, 1: 2.5}, max_depth=None, min_samples_split=3; total time=   0.3s\n",
      "[CV] END ccp_alpha=1, class_weight={0: 1.5, 1: 2.5}, max_depth=None, min_samples_split=3; total time=   0.3s\n",
      "[CV] END ccp_alpha=1, class_weight={0: 1.5, 1: 2.5}, max_depth=None, min_samples_split=3; total time=   0.3s\n",
      "[CV] END ccp_alpha=1, class_weight={0: 1.5, 1: 2.5}, max_depth=None, min_samples_split=3; total time=   0.3s\n",
      "[CV] END ccp_alpha=1, class_weight={0: 1.5, 1: 2.5}, max_depth=None, min_samples_split=4; total time=   0.3s\n",
      "[CV] END ccp_alpha=1, class_weight={0: 1.5, 1: 2.5}, max_depth=None, min_samples_split=4; total time=   0.3s\n",
      "[CV] END ccp_alpha=1, class_weight={0: 1.5, 1: 2.5}, max_depth=None, min_samples_split=4; total time=   0.3s\n",
      "[CV] END ccp_alpha=1, class_weight={0: 1.5, 1: 2.5}, max_depth=None, min_samples_split=4; total time=   0.3s\n",
      "[CV] END ccp_alpha=1, class_weight={0: 1.5, 1: 2.5}, max_depth=None, min_samples_split=4; total time=   0.3s\n",
      "[CV] END ccp_alpha=1, class_weight={0: 1.5, 1: 2.5}, max_depth=10, min_samples_split=2; total time=   0.2s\n",
      "[CV] END ccp_alpha=1, class_weight={0: 1.5, 1: 2.5}, max_depth=10, min_samples_split=2; total time=   0.2s\n",
      "[CV] END ccp_alpha=1, class_weight={0: 1.5, 1: 2.5}, max_depth=10, min_samples_split=2; total time=   0.2s\n",
      "[CV] END ccp_alpha=1, class_weight={0: 1.5, 1: 2.5}, max_depth=10, min_samples_split=2; total time=   0.2s\n",
      "[CV] END ccp_alpha=1, class_weight={0: 1.5, 1: 2.5}, max_depth=10, min_samples_split=2; total time=   0.2s\n",
      "[CV] END ccp_alpha=1, class_weight={0: 1.5, 1: 2.5}, max_depth=10, min_samples_split=3; total time=   0.2s\n",
      "[CV] END ccp_alpha=1, class_weight={0: 1.5, 1: 2.5}, max_depth=10, min_samples_split=3; total time=   0.2s\n",
      "[CV] END ccp_alpha=1, class_weight={0: 1.5, 1: 2.5}, max_depth=10, min_samples_split=3; total time=   0.2s\n",
      "[CV] END ccp_alpha=1, class_weight={0: 1.5, 1: 2.5}, max_depth=10, min_samples_split=3; total time=   0.2s\n",
      "[CV] END ccp_alpha=1, class_weight={0: 1.5, 1: 2.5}, max_depth=10, min_samples_split=3; total time=   0.2s\n",
      "[CV] END ccp_alpha=1, class_weight={0: 1.5, 1: 2.5}, max_depth=10, min_samples_split=4; total time=   0.2s\n",
      "[CV] END ccp_alpha=1, class_weight={0: 1.5, 1: 2.5}, max_depth=10, min_samples_split=4; total time=   0.2s\n",
      "[CV] END ccp_alpha=1, class_weight={0: 1.5, 1: 2.5}, max_depth=10, min_samples_split=4; total time=   0.2s\n",
      "[CV] END ccp_alpha=1, class_weight={0: 1.5, 1: 2.5}, max_depth=10, min_samples_split=4; total time=   0.2s\n",
      "[CV] END ccp_alpha=1, class_weight={0: 1.5, 1: 2.5}, max_depth=10, min_samples_split=4; total time=   0.2s\n",
      "[CV] END ccp_alpha=1, class_weight={0: 1.5, 1: 2.5}, max_depth=20, min_samples_split=2; total time=   0.2s\n",
      "[CV] END ccp_alpha=1, class_weight={0: 1.5, 1: 2.5}, max_depth=20, min_samples_split=2; total time=   0.2s\n",
      "[CV] END ccp_alpha=1, class_weight={0: 1.5, 1: 2.5}, max_depth=20, min_samples_split=2; total time=   0.3s\n",
      "[CV] END ccp_alpha=1, class_weight={0: 1.5, 1: 2.5}, max_depth=20, min_samples_split=2; total time=   0.3s\n",
      "[CV] END ccp_alpha=1, class_weight={0: 1.5, 1: 2.5}, max_depth=20, min_samples_split=2; total time=   0.2s\n",
      "[CV] END ccp_alpha=1, class_weight={0: 1.5, 1: 2.5}, max_depth=20, min_samples_split=3; total time=   0.2s\n",
      "[CV] END ccp_alpha=1, class_weight={0: 1.5, 1: 2.5}, max_depth=20, min_samples_split=3; total time=   0.2s\n",
      "[CV] END ccp_alpha=1, class_weight={0: 1.5, 1: 2.5}, max_depth=20, min_samples_split=3; total time=   0.3s\n",
      "[CV] END ccp_alpha=1, class_weight={0: 1.5, 1: 2.5}, max_depth=20, min_samples_split=3; total time=   0.2s\n",
      "[CV] END ccp_alpha=1, class_weight={0: 1.5, 1: 2.5}, max_depth=20, min_samples_split=3; total time=   0.3s\n",
      "[CV] END ccp_alpha=1, class_weight={0: 1.5, 1: 2.5}, max_depth=20, min_samples_split=4; total time=   0.3s\n",
      "[CV] END ccp_alpha=1, class_weight={0: 1.5, 1: 2.5}, max_depth=20, min_samples_split=4; total time=   0.2s\n",
      "[CV] END ccp_alpha=1, class_weight={0: 1.5, 1: 2.5}, max_depth=20, min_samples_split=4; total time=   0.3s\n",
      "[CV] END ccp_alpha=1, class_weight={0: 1.5, 1: 2.5}, max_depth=20, min_samples_split=4; total time=   0.2s\n",
      "[CV] END ccp_alpha=1, class_weight={0: 1.5, 1: 2.5}, max_depth=20, min_samples_split=4; total time=   0.2s\n",
      "[CV] END ccp_alpha=1, class_weight={0: 1.5, 1: 2.5}, max_depth=30, min_samples_split=2; total time=   0.3s\n",
      "[CV] END ccp_alpha=1, class_weight={0: 1.5, 1: 2.5}, max_depth=30, min_samples_split=2; total time=   0.3s\n",
      "[CV] END ccp_alpha=1, class_weight={0: 1.5, 1: 2.5}, max_depth=30, min_samples_split=2; total time=   0.3s\n",
      "[CV] END ccp_alpha=1, class_weight={0: 1.5, 1: 2.5}, max_depth=30, min_samples_split=2; total time=   0.3s\n",
      "[CV] END ccp_alpha=1, class_weight={0: 1.5, 1: 2.5}, max_depth=30, min_samples_split=2; total time=   0.3s\n",
      "[CV] END ccp_alpha=1, class_weight={0: 1.5, 1: 2.5}, max_depth=30, min_samples_split=3; total time=   0.3s\n",
      "[CV] END ccp_alpha=1, class_weight={0: 1.5, 1: 2.5}, max_depth=30, min_samples_split=3; total time=   0.3s\n",
      "[CV] END ccp_alpha=1, class_weight={0: 1.5, 1: 2.5}, max_depth=30, min_samples_split=3; total time=   0.3s\n",
      "[CV] END ccp_alpha=1, class_weight={0: 1.5, 1: 2.5}, max_depth=30, min_samples_split=3; total time=   0.3s\n",
      "[CV] END ccp_alpha=1, class_weight={0: 1.5, 1: 2.5}, max_depth=30, min_samples_split=3; total time=   0.3s\n",
      "[CV] END ccp_alpha=1, class_weight={0: 1.5, 1: 2.5}, max_depth=30, min_samples_split=4; total time=   0.3s\n",
      "[CV] END ccp_alpha=1, class_weight={0: 1.5, 1: 2.5}, max_depth=30, min_samples_split=4; total time=   0.3s\n",
      "[CV] END ccp_alpha=1, class_weight={0: 1.5, 1: 2.5}, max_depth=30, min_samples_split=4; total time=   0.3s\n",
      "[CV] END ccp_alpha=1, class_weight={0: 1.5, 1: 2.5}, max_depth=30, min_samples_split=4; total time=   0.3s\n",
      "[CV] END ccp_alpha=1, class_weight={0: 1.5, 1: 2.5}, max_depth=30, min_samples_split=4; total time=   0.3s\n",
      "[CV] END ccp_alpha=1, class_weight={0: 1.5, 1: 3}, max_depth=None, min_samples_split=2; total time=   0.3s\n",
      "[CV] END ccp_alpha=1, class_weight={0: 1.5, 1: 3}, max_depth=None, min_samples_split=2; total time=   0.3s\n",
      "[CV] END ccp_alpha=1, class_weight={0: 1.5, 1: 3}, max_depth=None, min_samples_split=2; total time=   0.3s\n",
      "[CV] END ccp_alpha=1, class_weight={0: 1.5, 1: 3}, max_depth=None, min_samples_split=2; total time=   0.3s\n",
      "[CV] END ccp_alpha=1, class_weight={0: 1.5, 1: 3}, max_depth=None, min_samples_split=2; total time=   0.3s\n",
      "[CV] END ccp_alpha=1, class_weight={0: 1.5, 1: 3}, max_depth=None, min_samples_split=3; total time=   0.3s\n",
      "[CV] END ccp_alpha=1, class_weight={0: 1.5, 1: 3}, max_depth=None, min_samples_split=3; total time=   0.3s\n",
      "[CV] END ccp_alpha=1, class_weight={0: 1.5, 1: 3}, max_depth=None, min_samples_split=3; total time=   0.3s\n",
      "[CV] END ccp_alpha=1, class_weight={0: 1.5, 1: 3}, max_depth=None, min_samples_split=3; total time=   0.3s\n",
      "[CV] END ccp_alpha=1, class_weight={0: 1.5, 1: 3}, max_depth=None, min_samples_split=3; total time=   0.3s\n",
      "[CV] END ccp_alpha=1, class_weight={0: 1.5, 1: 3}, max_depth=None, min_samples_split=4; total time=   0.3s\n",
      "[CV] END ccp_alpha=1, class_weight={0: 1.5, 1: 3}, max_depth=None, min_samples_split=4; total time=   0.3s\n",
      "[CV] END ccp_alpha=1, class_weight={0: 1.5, 1: 3}, max_depth=None, min_samples_split=4; total time=   0.3s\n",
      "[CV] END ccp_alpha=1, class_weight={0: 1.5, 1: 3}, max_depth=None, min_samples_split=4; total time=   0.3s\n",
      "[CV] END ccp_alpha=1, class_weight={0: 1.5, 1: 3}, max_depth=None, min_samples_split=4; total time=   0.3s\n",
      "[CV] END ccp_alpha=1, class_weight={0: 1.5, 1: 3}, max_depth=10, min_samples_split=2; total time=   0.2s\n",
      "[CV] END ccp_alpha=1, class_weight={0: 1.5, 1: 3}, max_depth=10, min_samples_split=2; total time=   0.2s\n",
      "[CV] END ccp_alpha=1, class_weight={0: 1.5, 1: 3}, max_depth=10, min_samples_split=2; total time=   0.2s\n",
      "[CV] END ccp_alpha=1, class_weight={0: 1.5, 1: 3}, max_depth=10, min_samples_split=2; total time=   0.2s\n",
      "[CV] END ccp_alpha=1, class_weight={0: 1.5, 1: 3}, max_depth=10, min_samples_split=2; total time=   0.2s\n",
      "[CV] END ccp_alpha=1, class_weight={0: 1.5, 1: 3}, max_depth=10, min_samples_split=3; total time=   0.2s\n",
      "[CV] END ccp_alpha=1, class_weight={0: 1.5, 1: 3}, max_depth=10, min_samples_split=3; total time=   0.2s\n",
      "[CV] END ccp_alpha=1, class_weight={0: 1.5, 1: 3}, max_depth=10, min_samples_split=3; total time=   0.2s\n",
      "[CV] END ccp_alpha=1, class_weight={0: 1.5, 1: 3}, max_depth=10, min_samples_split=3; total time=   0.2s\n",
      "[CV] END ccp_alpha=1, class_weight={0: 1.5, 1: 3}, max_depth=10, min_samples_split=3; total time=   0.2s\n",
      "[CV] END ccp_alpha=1, class_weight={0: 1.5, 1: 3}, max_depth=10, min_samples_split=4; total time=   0.2s\n",
      "[CV] END ccp_alpha=1, class_weight={0: 1.5, 1: 3}, max_depth=10, min_samples_split=4; total time=   0.2s\n",
      "[CV] END ccp_alpha=1, class_weight={0: 1.5, 1: 3}, max_depth=10, min_samples_split=4; total time=   0.2s\n",
      "[CV] END ccp_alpha=1, class_weight={0: 1.5, 1: 3}, max_depth=10, min_samples_split=4; total time=   0.2s\n",
      "[CV] END ccp_alpha=1, class_weight={0: 1.5, 1: 3}, max_depth=10, min_samples_split=4; total time=   0.2s\n",
      "[CV] END ccp_alpha=1, class_weight={0: 1.5, 1: 3}, max_depth=20, min_samples_split=2; total time=   0.2s\n",
      "[CV] END ccp_alpha=1, class_weight={0: 1.5, 1: 3}, max_depth=20, min_samples_split=2; total time=   0.2s\n",
      "[CV] END ccp_alpha=1, class_weight={0: 1.5, 1: 3}, max_depth=20, min_samples_split=2; total time=   0.3s\n",
      "[CV] END ccp_alpha=1, class_weight={0: 1.5, 1: 3}, max_depth=20, min_samples_split=2; total time=   0.2s\n",
      "[CV] END ccp_alpha=1, class_weight={0: 1.5, 1: 3}, max_depth=20, min_samples_split=2; total time=   0.2s\n",
      "[CV] END ccp_alpha=1, class_weight={0: 1.5, 1: 3}, max_depth=20, min_samples_split=3; total time=   0.2s\n",
      "[CV] END ccp_alpha=1, class_weight={0: 1.5, 1: 3}, max_depth=20, min_samples_split=3; total time=   0.2s\n",
      "[CV] END ccp_alpha=1, class_weight={0: 1.5, 1: 3}, max_depth=20, min_samples_split=3; total time=   0.3s\n",
      "[CV] END ccp_alpha=1, class_weight={0: 1.5, 1: 3}, max_depth=20, min_samples_split=3; total time=   0.3s\n",
      "[CV] END ccp_alpha=1, class_weight={0: 1.5, 1: 3}, max_depth=20, min_samples_split=3; total time=   0.3s\n",
      "[CV] END ccp_alpha=1, class_weight={0: 1.5, 1: 3}, max_depth=20, min_samples_split=4; total time=   0.2s\n",
      "[CV] END ccp_alpha=1, class_weight={0: 1.5, 1: 3}, max_depth=20, min_samples_split=4; total time=   0.2s\n",
      "[CV] END ccp_alpha=1, class_weight={0: 1.5, 1: 3}, max_depth=20, min_samples_split=4; total time=   0.3s\n",
      "[CV] END ccp_alpha=1, class_weight={0: 1.5, 1: 3}, max_depth=20, min_samples_split=4; total time=   0.3s\n",
      "[CV] END ccp_alpha=1, class_weight={0: 1.5, 1: 3}, max_depth=20, min_samples_split=4; total time=   0.2s\n",
      "[CV] END ccp_alpha=1, class_weight={0: 1.5, 1: 3}, max_depth=30, min_samples_split=2; total time=   0.3s\n",
      "[CV] END ccp_alpha=1, class_weight={0: 1.5, 1: 3}, max_depth=30, min_samples_split=2; total time=   0.3s\n",
      "[CV] END ccp_alpha=1, class_weight={0: 1.5, 1: 3}, max_depth=30, min_samples_split=2; total time=   0.3s\n",
      "[CV] END ccp_alpha=1, class_weight={0: 1.5, 1: 3}, max_depth=30, min_samples_split=2; total time=   0.3s\n",
      "[CV] END ccp_alpha=1, class_weight={0: 1.5, 1: 3}, max_depth=30, min_samples_split=2; total time=   0.3s\n",
      "[CV] END ccp_alpha=1, class_weight={0: 1.5, 1: 3}, max_depth=30, min_samples_split=3; total time=   0.3s\n",
      "[CV] END ccp_alpha=1, class_weight={0: 1.5, 1: 3}, max_depth=30, min_samples_split=3; total time=   0.3s\n",
      "[CV] END ccp_alpha=1, class_weight={0: 1.5, 1: 3}, max_depth=30, min_samples_split=3; total time=   0.3s\n",
      "[CV] END ccp_alpha=1, class_weight={0: 1.5, 1: 3}, max_depth=30, min_samples_split=3; total time=   0.3s\n",
      "[CV] END ccp_alpha=1, class_weight={0: 1.5, 1: 3}, max_depth=30, min_samples_split=3; total time=   0.3s\n",
      "[CV] END ccp_alpha=1, class_weight={0: 1.5, 1: 3}, max_depth=30, min_samples_split=4; total time=   0.3s\n",
      "[CV] END ccp_alpha=1, class_weight={0: 1.5, 1: 3}, max_depth=30, min_samples_split=4; total time=   0.3s\n",
      "[CV] END ccp_alpha=1, class_weight={0: 1.5, 1: 3}, max_depth=30, min_samples_split=4; total time=   0.3s\n",
      "[CV] END ccp_alpha=1, class_weight={0: 1.5, 1: 3}, max_depth=30, min_samples_split=4; total time=   0.3s\n",
      "[CV] END ccp_alpha=1, class_weight={0: 1.5, 1: 3}, max_depth=30, min_samples_split=4; total time=   0.3s\n",
      "[CV] END ccp_alpha=0.01, class_weight=None, max_depth=None, min_samples_split=2; total time=   0.3s\n",
      "[CV] END ccp_alpha=0.01, class_weight=None, max_depth=None, min_samples_split=2; total time=   0.3s\n",
      "[CV] END ccp_alpha=0.01, class_weight=None, max_depth=None, min_samples_split=2; total time=   0.3s\n",
      "[CV] END ccp_alpha=0.01, class_weight=None, max_depth=None, min_samples_split=2; total time=   0.3s\n",
      "[CV] END ccp_alpha=0.01, class_weight=None, max_depth=None, min_samples_split=2; total time=   0.3s\n",
      "[CV] END ccp_alpha=0.01, class_weight=None, max_depth=None, min_samples_split=3; total time=   0.3s\n",
      "[CV] END ccp_alpha=0.01, class_weight=None, max_depth=None, min_samples_split=3; total time=   0.3s\n",
      "[CV] END ccp_alpha=0.01, class_weight=None, max_depth=None, min_samples_split=3; total time=   0.3s\n",
      "[CV] END ccp_alpha=0.01, class_weight=None, max_depth=None, min_samples_split=3; total time=   0.3s\n",
      "[CV] END ccp_alpha=0.01, class_weight=None, max_depth=None, min_samples_split=3; total time=   0.3s\n",
      "[CV] END ccp_alpha=0.01, class_weight=None, max_depth=None, min_samples_split=4; total time=   0.3s\n",
      "[CV] END ccp_alpha=0.01, class_weight=None, max_depth=None, min_samples_split=4; total time=   0.3s\n",
      "[CV] END ccp_alpha=0.01, class_weight=None, max_depth=None, min_samples_split=4; total time=   0.3s\n",
      "[CV] END ccp_alpha=0.01, class_weight=None, max_depth=None, min_samples_split=4; total time=   0.3s\n",
      "[CV] END ccp_alpha=0.01, class_weight=None, max_depth=None, min_samples_split=4; total time=   0.3s\n",
      "[CV] END ccp_alpha=0.01, class_weight=None, max_depth=10, min_samples_split=2; total time=   0.2s\n",
      "[CV] END ccp_alpha=0.01, class_weight=None, max_depth=10, min_samples_split=2; total time=   0.2s\n",
      "[CV] END ccp_alpha=0.01, class_weight=None, max_depth=10, min_samples_split=2; total time=   0.2s\n",
      "[CV] END ccp_alpha=0.01, class_weight=None, max_depth=10, min_samples_split=2; total time=   0.2s\n",
      "[CV] END ccp_alpha=0.01, class_weight=None, max_depth=10, min_samples_split=2; total time=   0.2s\n",
      "[CV] END ccp_alpha=0.01, class_weight=None, max_depth=10, min_samples_split=3; total time=   0.2s\n",
      "[CV] END ccp_alpha=0.01, class_weight=None, max_depth=10, min_samples_split=3; total time=   0.2s\n",
      "[CV] END ccp_alpha=0.01, class_weight=None, max_depth=10, min_samples_split=3; total time=   0.2s\n",
      "[CV] END ccp_alpha=0.01, class_weight=None, max_depth=10, min_samples_split=3; total time=   0.2s\n",
      "[CV] END ccp_alpha=0.01, class_weight=None, max_depth=10, min_samples_split=3; total time=   0.2s\n",
      "[CV] END ccp_alpha=0.01, class_weight=None, max_depth=10, min_samples_split=4; total time=   0.2s\n",
      "[CV] END ccp_alpha=0.01, class_weight=None, max_depth=10, min_samples_split=4; total time=   0.2s\n",
      "[CV] END ccp_alpha=0.01, class_weight=None, max_depth=10, min_samples_split=4; total time=   0.2s\n",
      "[CV] END ccp_alpha=0.01, class_weight=None, max_depth=10, min_samples_split=4; total time=   0.2s\n",
      "[CV] END ccp_alpha=0.01, class_weight=None, max_depth=10, min_samples_split=4; total time=   0.2s\n",
      "[CV] END ccp_alpha=0.01, class_weight=None, max_depth=20, min_samples_split=2; total time=   0.3s\n",
      "[CV] END ccp_alpha=0.01, class_weight=None, max_depth=20, min_samples_split=2; total time=   0.3s\n",
      "[CV] END ccp_alpha=0.01, class_weight=None, max_depth=20, min_samples_split=2; total time=   0.3s\n",
      "[CV] END ccp_alpha=0.01, class_weight=None, max_depth=20, min_samples_split=2; total time=   0.3s\n",
      "[CV] END ccp_alpha=0.01, class_weight=None, max_depth=20, min_samples_split=2; total time=   0.3s\n",
      "[CV] END ccp_alpha=0.01, class_weight=None, max_depth=20, min_samples_split=3; total time=   0.3s\n",
      "[CV] END ccp_alpha=0.01, class_weight=None, max_depth=20, min_samples_split=3; total time=   0.3s\n",
      "[CV] END ccp_alpha=0.01, class_weight=None, max_depth=20, min_samples_split=3; total time=   0.3s\n",
      "[CV] END ccp_alpha=0.01, class_weight=None, max_depth=20, min_samples_split=3; total time=   0.2s\n",
      "[CV] END ccp_alpha=0.01, class_weight=None, max_depth=20, min_samples_split=3; total time=   0.3s\n",
      "[CV] END ccp_alpha=0.01, class_weight=None, max_depth=20, min_samples_split=4; total time=   0.3s\n",
      "[CV] END ccp_alpha=0.01, class_weight=None, max_depth=20, min_samples_split=4; total time=   0.3s\n",
      "[CV] END ccp_alpha=0.01, class_weight=None, max_depth=20, min_samples_split=4; total time=   0.3s\n",
      "[CV] END ccp_alpha=0.01, class_weight=None, max_depth=20, min_samples_split=4; total time=   0.3s\n",
      "[CV] END ccp_alpha=0.01, class_weight=None, max_depth=20, min_samples_split=4; total time=   0.3s\n",
      "[CV] END ccp_alpha=0.01, class_weight=None, max_depth=30, min_samples_split=2; total time=   0.3s\n",
      "[CV] END ccp_alpha=0.01, class_weight=None, max_depth=30, min_samples_split=2; total time=   0.3s\n",
      "[CV] END ccp_alpha=0.01, class_weight=None, max_depth=30, min_samples_split=2; total time=   0.3s\n",
      "[CV] END ccp_alpha=0.01, class_weight=None, max_depth=30, min_samples_split=2; total time=   0.3s\n",
      "[CV] END ccp_alpha=0.01, class_weight=None, max_depth=30, min_samples_split=2; total time=   0.3s\n",
      "[CV] END ccp_alpha=0.01, class_weight=None, max_depth=30, min_samples_split=3; total time=   0.3s\n",
      "[CV] END ccp_alpha=0.01, class_weight=None, max_depth=30, min_samples_split=3; total time=   0.3s\n",
      "[CV] END ccp_alpha=0.01, class_weight=None, max_depth=30, min_samples_split=3; total time=   0.3s\n",
      "[CV] END ccp_alpha=0.01, class_weight=None, max_depth=30, min_samples_split=3; total time=   0.3s\n",
      "[CV] END ccp_alpha=0.01, class_weight=None, max_depth=30, min_samples_split=3; total time=   0.3s\n",
      "[CV] END ccp_alpha=0.01, class_weight=None, max_depth=30, min_samples_split=4; total time=   0.3s\n",
      "[CV] END ccp_alpha=0.01, class_weight=None, max_depth=30, min_samples_split=4; total time=   0.3s\n",
      "[CV] END ccp_alpha=0.01, class_weight=None, max_depth=30, min_samples_split=4; total time=   0.3s\n",
      "[CV] END ccp_alpha=0.01, class_weight=None, max_depth=30, min_samples_split=4; total time=   0.3s\n",
      "[CV] END ccp_alpha=0.01, class_weight=None, max_depth=30, min_samples_split=4; total time=   0.3s\n",
      "[CV] END ccp_alpha=0.01, class_weight={0: 1, 1: 2}, max_depth=None, min_samples_split=2; total time=   0.3s\n",
      "[CV] END ccp_alpha=0.01, class_weight={0: 1, 1: 2}, max_depth=None, min_samples_split=2; total time=   0.3s\n",
      "[CV] END ccp_alpha=0.01, class_weight={0: 1, 1: 2}, max_depth=None, min_samples_split=2; total time=   0.3s\n",
      "[CV] END ccp_alpha=0.01, class_weight={0: 1, 1: 2}, max_depth=None, min_samples_split=2; total time=   0.3s\n",
      "[CV] END ccp_alpha=0.01, class_weight={0: 1, 1: 2}, max_depth=None, min_samples_split=2; total time=   0.3s\n",
      "[CV] END ccp_alpha=0.01, class_weight={0: 1, 1: 2}, max_depth=None, min_samples_split=3; total time=   0.3s\n",
      "[CV] END ccp_alpha=0.01, class_weight={0: 1, 1: 2}, max_depth=None, min_samples_split=3; total time=   0.3s\n",
      "[CV] END ccp_alpha=0.01, class_weight={0: 1, 1: 2}, max_depth=None, min_samples_split=3; total time=   0.3s\n",
      "[CV] END ccp_alpha=0.01, class_weight={0: 1, 1: 2}, max_depth=None, min_samples_split=3; total time=   0.3s\n",
      "[CV] END ccp_alpha=0.01, class_weight={0: 1, 1: 2}, max_depth=None, min_samples_split=3; total time=   0.3s\n",
      "[CV] END ccp_alpha=0.01, class_weight={0: 1, 1: 2}, max_depth=None, min_samples_split=4; total time=   0.3s\n",
      "[CV] END ccp_alpha=0.01, class_weight={0: 1, 1: 2}, max_depth=None, min_samples_split=4; total time=   0.3s\n",
      "[CV] END ccp_alpha=0.01, class_weight={0: 1, 1: 2}, max_depth=None, min_samples_split=4; total time=   0.3s\n",
      "[CV] END ccp_alpha=0.01, class_weight={0: 1, 1: 2}, max_depth=None, min_samples_split=4; total time=   0.3s\n",
      "[CV] END ccp_alpha=0.01, class_weight={0: 1, 1: 2}, max_depth=None, min_samples_split=4; total time=   0.3s\n",
      "[CV] END ccp_alpha=0.01, class_weight={0: 1, 1: 2}, max_depth=10, min_samples_split=2; total time=   0.2s\n",
      "[CV] END ccp_alpha=0.01, class_weight={0: 1, 1: 2}, max_depth=10, min_samples_split=2; total time=   0.2s\n",
      "[CV] END ccp_alpha=0.01, class_weight={0: 1, 1: 2}, max_depth=10, min_samples_split=2; total time=   0.2s\n",
      "[CV] END ccp_alpha=0.01, class_weight={0: 1, 1: 2}, max_depth=10, min_samples_split=2; total time=   0.2s\n",
      "[CV] END ccp_alpha=0.01, class_weight={0: 1, 1: 2}, max_depth=10, min_samples_split=2; total time=   0.2s\n",
      "[CV] END ccp_alpha=0.01, class_weight={0: 1, 1: 2}, max_depth=10, min_samples_split=3; total time=   0.2s\n",
      "[CV] END ccp_alpha=0.01, class_weight={0: 1, 1: 2}, max_depth=10, min_samples_split=3; total time=   0.2s\n",
      "[CV] END ccp_alpha=0.01, class_weight={0: 1, 1: 2}, max_depth=10, min_samples_split=3; total time=   0.2s\n",
      "[CV] END ccp_alpha=0.01, class_weight={0: 1, 1: 2}, max_depth=10, min_samples_split=3; total time=   0.2s\n",
      "[CV] END ccp_alpha=0.01, class_weight={0: 1, 1: 2}, max_depth=10, min_samples_split=3; total time=   0.2s\n",
      "[CV] END ccp_alpha=0.01, class_weight={0: 1, 1: 2}, max_depth=10, min_samples_split=4; total time=   0.2s\n",
      "[CV] END ccp_alpha=0.01, class_weight={0: 1, 1: 2}, max_depth=10, min_samples_split=4; total time=   0.2s\n",
      "[CV] END ccp_alpha=0.01, class_weight={0: 1, 1: 2}, max_depth=10, min_samples_split=4; total time=   0.2s\n",
      "[CV] END ccp_alpha=0.01, class_weight={0: 1, 1: 2}, max_depth=10, min_samples_split=4; total time=   0.2s\n",
      "[CV] END ccp_alpha=0.01, class_weight={0: 1, 1: 2}, max_depth=10, min_samples_split=4; total time=   0.2s\n",
      "[CV] END ccp_alpha=0.01, class_weight={0: 1, 1: 2}, max_depth=20, min_samples_split=2; total time=   0.2s\n",
      "[CV] END ccp_alpha=0.01, class_weight={0: 1, 1: 2}, max_depth=20, min_samples_split=2; total time=   0.2s\n",
      "[CV] END ccp_alpha=0.01, class_weight={0: 1, 1: 2}, max_depth=20, min_samples_split=2; total time=   0.3s\n",
      "[CV] END ccp_alpha=0.01, class_weight={0: 1, 1: 2}, max_depth=20, min_samples_split=2; total time=   0.2s\n",
      "[CV] END ccp_alpha=0.01, class_weight={0: 1, 1: 2}, max_depth=20, min_samples_split=2; total time=   0.2s\n",
      "[CV] END ccp_alpha=0.01, class_weight={0: 1, 1: 2}, max_depth=20, min_samples_split=3; total time=   0.2s\n",
      "[CV] END ccp_alpha=0.01, class_weight={0: 1, 1: 2}, max_depth=20, min_samples_split=3; total time=   0.2s\n",
      "[CV] END ccp_alpha=0.01, class_weight={0: 1, 1: 2}, max_depth=20, min_samples_split=3; total time=   0.3s\n",
      "[CV] END ccp_alpha=0.01, class_weight={0: 1, 1: 2}, max_depth=20, min_samples_split=3; total time=   0.2s\n",
      "[CV] END ccp_alpha=0.01, class_weight={0: 1, 1: 2}, max_depth=20, min_samples_split=3; total time=   0.2s\n",
      "[CV] END ccp_alpha=0.01, class_weight={0: 1, 1: 2}, max_depth=20, min_samples_split=4; total time=   0.2s\n",
      "[CV] END ccp_alpha=0.01, class_weight={0: 1, 1: 2}, max_depth=20, min_samples_split=4; total time=   0.2s\n",
      "[CV] END ccp_alpha=0.01, class_weight={0: 1, 1: 2}, max_depth=20, min_samples_split=4; total time=   0.3s\n",
      "[CV] END ccp_alpha=0.01, class_weight={0: 1, 1: 2}, max_depth=20, min_samples_split=4; total time=   0.2s\n",
      "[CV] END ccp_alpha=0.01, class_weight={0: 1, 1: 2}, max_depth=20, min_samples_split=4; total time=   0.2s\n",
      "[CV] END ccp_alpha=0.01, class_weight={0: 1, 1: 2}, max_depth=30, min_samples_split=2; total time=   0.3s\n",
      "[CV] END ccp_alpha=0.01, class_weight={0: 1, 1: 2}, max_depth=30, min_samples_split=2; total time=   0.3s\n",
      "[CV] END ccp_alpha=0.01, class_weight={0: 1, 1: 2}, max_depth=30, min_samples_split=2; total time=   0.3s\n",
      "[CV] END ccp_alpha=0.01, class_weight={0: 1, 1: 2}, max_depth=30, min_samples_split=2; total time=   0.3s\n",
      "[CV] END ccp_alpha=0.01, class_weight={0: 1, 1: 2}, max_depth=30, min_samples_split=2; total time=   0.3s\n",
      "[CV] END ccp_alpha=0.01, class_weight={0: 1, 1: 2}, max_depth=30, min_samples_split=3; total time=   0.3s\n",
      "[CV] END ccp_alpha=0.01, class_weight={0: 1, 1: 2}, max_depth=30, min_samples_split=3; total time=   0.3s\n",
      "[CV] END ccp_alpha=0.01, class_weight={0: 1, 1: 2}, max_depth=30, min_samples_split=3; total time=   0.3s\n",
      "[CV] END ccp_alpha=0.01, class_weight={0: 1, 1: 2}, max_depth=30, min_samples_split=3; total time=   0.3s\n",
      "[CV] END ccp_alpha=0.01, class_weight={0: 1, 1: 2}, max_depth=30, min_samples_split=3; total time=   0.3s\n",
      "[CV] END ccp_alpha=0.01, class_weight={0: 1, 1: 2}, max_depth=30, min_samples_split=4; total time=   0.3s\n",
      "[CV] END ccp_alpha=0.01, class_weight={0: 1, 1: 2}, max_depth=30, min_samples_split=4; total time=   0.3s\n",
      "[CV] END ccp_alpha=0.01, class_weight={0: 1, 1: 2}, max_depth=30, min_samples_split=4; total time=   0.3s\n",
      "[CV] END ccp_alpha=0.01, class_weight={0: 1, 1: 2}, max_depth=30, min_samples_split=4; total time=   0.3s\n",
      "[CV] END ccp_alpha=0.01, class_weight={0: 1, 1: 2}, max_depth=30, min_samples_split=4; total time=   0.3s\n",
      "[CV] END ccp_alpha=0.01, class_weight={0: 1, 1: 3}, max_depth=None, min_samples_split=2; total time=   0.3s\n",
      "[CV] END ccp_alpha=0.01, class_weight={0: 1, 1: 3}, max_depth=None, min_samples_split=2; total time=   0.3s\n",
      "[CV] END ccp_alpha=0.01, class_weight={0: 1, 1: 3}, max_depth=None, min_samples_split=2; total time=   0.3s\n",
      "[CV] END ccp_alpha=0.01, class_weight={0: 1, 1: 3}, max_depth=None, min_samples_split=2; total time=   0.3s\n",
      "[CV] END ccp_alpha=0.01, class_weight={0: 1, 1: 3}, max_depth=None, min_samples_split=2; total time=   0.3s\n",
      "[CV] END ccp_alpha=0.01, class_weight={0: 1, 1: 3}, max_depth=None, min_samples_split=3; total time=   0.3s\n",
      "[CV] END ccp_alpha=0.01, class_weight={0: 1, 1: 3}, max_depth=None, min_samples_split=3; total time=   0.3s\n",
      "[CV] END ccp_alpha=0.01, class_weight={0: 1, 1: 3}, max_depth=None, min_samples_split=3; total time=   0.3s\n",
      "[CV] END ccp_alpha=0.01, class_weight={0: 1, 1: 3}, max_depth=None, min_samples_split=3; total time=   0.4s\n",
      "[CV] END ccp_alpha=0.01, class_weight={0: 1, 1: 3}, max_depth=None, min_samples_split=3; total time=   0.3s\n",
      "[CV] END ccp_alpha=0.01, class_weight={0: 1, 1: 3}, max_depth=None, min_samples_split=4; total time=   0.3s\n",
      "[CV] END ccp_alpha=0.01, class_weight={0: 1, 1: 3}, max_depth=None, min_samples_split=4; total time=   0.3s\n",
      "[CV] END ccp_alpha=0.01, class_weight={0: 1, 1: 3}, max_depth=None, min_samples_split=4; total time=   0.3s\n",
      "[CV] END ccp_alpha=0.01, class_weight={0: 1, 1: 3}, max_depth=None, min_samples_split=4; total time=   0.3s\n",
      "[CV] END ccp_alpha=0.01, class_weight={0: 1, 1: 3}, max_depth=None, min_samples_split=4; total time=   0.3s\n",
      "[CV] END ccp_alpha=0.01, class_weight={0: 1, 1: 3}, max_depth=10, min_samples_split=2; total time=   0.2s\n",
      "[CV] END ccp_alpha=0.01, class_weight={0: 1, 1: 3}, max_depth=10, min_samples_split=2; total time=   0.2s\n",
      "[CV] END ccp_alpha=0.01, class_weight={0: 1, 1: 3}, max_depth=10, min_samples_split=2; total time=   0.2s\n",
      "[CV] END ccp_alpha=0.01, class_weight={0: 1, 1: 3}, max_depth=10, min_samples_split=2; total time=   0.2s\n",
      "[CV] END ccp_alpha=0.01, class_weight={0: 1, 1: 3}, max_depth=10, min_samples_split=2; total time=   0.2s\n",
      "[CV] END ccp_alpha=0.01, class_weight={0: 1, 1: 3}, max_depth=10, min_samples_split=3; total time=   0.2s\n",
      "[CV] END ccp_alpha=0.01, class_weight={0: 1, 1: 3}, max_depth=10, min_samples_split=3; total time=   0.2s\n",
      "[CV] END ccp_alpha=0.01, class_weight={0: 1, 1: 3}, max_depth=10, min_samples_split=3; total time=   0.2s\n",
      "[CV] END ccp_alpha=0.01, class_weight={0: 1, 1: 3}, max_depth=10, min_samples_split=3; total time=   0.2s\n",
      "[CV] END ccp_alpha=0.01, class_weight={0: 1, 1: 3}, max_depth=10, min_samples_split=3; total time=   0.2s\n",
      "[CV] END ccp_alpha=0.01, class_weight={0: 1, 1: 3}, max_depth=10, min_samples_split=4; total time=   0.2s\n",
      "[CV] END ccp_alpha=0.01, class_weight={0: 1, 1: 3}, max_depth=10, min_samples_split=4; total time=   0.2s\n",
      "[CV] END ccp_alpha=0.01, class_weight={0: 1, 1: 3}, max_depth=10, min_samples_split=4; total time=   0.2s\n",
      "[CV] END ccp_alpha=0.01, class_weight={0: 1, 1: 3}, max_depth=10, min_samples_split=4; total time=   0.2s\n",
      "[CV] END ccp_alpha=0.01, class_weight={0: 1, 1: 3}, max_depth=10, min_samples_split=4; total time=   0.2s\n",
      "[CV] END ccp_alpha=0.01, class_weight={0: 1, 1: 3}, max_depth=20, min_samples_split=2; total time=   0.2s\n",
      "[CV] END ccp_alpha=0.01, class_weight={0: 1, 1: 3}, max_depth=20, min_samples_split=2; total time=   0.2s\n",
      "[CV] END ccp_alpha=0.01, class_weight={0: 1, 1: 3}, max_depth=20, min_samples_split=2; total time=   0.2s\n",
      "[CV] END ccp_alpha=0.01, class_weight={0: 1, 1: 3}, max_depth=20, min_samples_split=2; total time=   0.2s\n",
      "[CV] END ccp_alpha=0.01, class_weight={0: 1, 1: 3}, max_depth=20, min_samples_split=2; total time=   0.2s\n",
      "[CV] END ccp_alpha=0.01, class_weight={0: 1, 1: 3}, max_depth=20, min_samples_split=3; total time=   0.2s\n",
      "[CV] END ccp_alpha=0.01, class_weight={0: 1, 1: 3}, max_depth=20, min_samples_split=3; total time=   0.2s\n",
      "[CV] END ccp_alpha=0.01, class_weight={0: 1, 1: 3}, max_depth=20, min_samples_split=3; total time=   0.2s\n",
      "[CV] END ccp_alpha=0.01, class_weight={0: 1, 1: 3}, max_depth=20, min_samples_split=3; total time=   0.2s\n",
      "[CV] END ccp_alpha=0.01, class_weight={0: 1, 1: 3}, max_depth=20, min_samples_split=3; total time=   0.2s\n",
      "[CV] END ccp_alpha=0.01, class_weight={0: 1, 1: 3}, max_depth=20, min_samples_split=4; total time=   0.2s\n",
      "[CV] END ccp_alpha=0.01, class_weight={0: 1, 1: 3}, max_depth=20, min_samples_split=4; total time=   0.2s\n",
      "[CV] END ccp_alpha=0.01, class_weight={0: 1, 1: 3}, max_depth=20, min_samples_split=4; total time=   0.2s\n",
      "[CV] END ccp_alpha=0.01, class_weight={0: 1, 1: 3}, max_depth=20, min_samples_split=4; total time=   0.2s\n",
      "[CV] END ccp_alpha=0.01, class_weight={0: 1, 1: 3}, max_depth=20, min_samples_split=4; total time=   0.2s\n",
      "[CV] END ccp_alpha=0.01, class_weight={0: 1, 1: 3}, max_depth=30, min_samples_split=2; total time=   0.3s\n",
      "[CV] END ccp_alpha=0.01, class_weight={0: 1, 1: 3}, max_depth=30, min_samples_split=2; total time=   0.3s\n",
      "[CV] END ccp_alpha=0.01, class_weight={0: 1, 1: 3}, max_depth=30, min_samples_split=2; total time=   0.3s\n",
      "[CV] END ccp_alpha=0.01, class_weight={0: 1, 1: 3}, max_depth=30, min_samples_split=2; total time=   0.3s\n",
      "[CV] END ccp_alpha=0.01, class_weight={0: 1, 1: 3}, max_depth=30, min_samples_split=2; total time=   0.3s\n",
      "[CV] END ccp_alpha=0.01, class_weight={0: 1, 1: 3}, max_depth=30, min_samples_split=3; total time=   0.3s\n",
      "[CV] END ccp_alpha=0.01, class_weight={0: 1, 1: 3}, max_depth=30, min_samples_split=3; total time=   0.3s\n",
      "[CV] END ccp_alpha=0.01, class_weight={0: 1, 1: 3}, max_depth=30, min_samples_split=3; total time=   0.3s\n",
      "[CV] END ccp_alpha=0.01, class_weight={0: 1, 1: 3}, max_depth=30, min_samples_split=3; total time=   0.3s\n",
      "[CV] END ccp_alpha=0.01, class_weight={0: 1, 1: 3}, max_depth=30, min_samples_split=3; total time=   0.3s\n",
      "[CV] END ccp_alpha=0.01, class_weight={0: 1, 1: 3}, max_depth=30, min_samples_split=4; total time=   0.3s\n",
      "[CV] END ccp_alpha=0.01, class_weight={0: 1, 1: 3}, max_depth=30, min_samples_split=4; total time=   0.3s\n",
      "[CV] END ccp_alpha=0.01, class_weight={0: 1, 1: 3}, max_depth=30, min_samples_split=4; total time=   0.3s\n",
      "[CV] END ccp_alpha=0.01, class_weight={0: 1, 1: 3}, max_depth=30, min_samples_split=4; total time=   0.3s\n",
      "[CV] END ccp_alpha=0.01, class_weight={0: 1, 1: 3}, max_depth=30, min_samples_split=4; total time=   0.3s\n",
      "[CV] END ccp_alpha=0.01, class_weight={0: 1.5, 1: 2.5}, max_depth=None, min_samples_split=2; total time=   0.3s\n",
      "[CV] END ccp_alpha=0.01, class_weight={0: 1.5, 1: 2.5}, max_depth=None, min_samples_split=2; total time=   0.3s\n",
      "[CV] END ccp_alpha=0.01, class_weight={0: 1.5, 1: 2.5}, max_depth=None, min_samples_split=2; total time=   0.3s\n",
      "[CV] END ccp_alpha=0.01, class_weight={0: 1.5, 1: 2.5}, max_depth=None, min_samples_split=2; total time=   0.3s\n",
      "[CV] END ccp_alpha=0.01, class_weight={0: 1.5, 1: 2.5}, max_depth=None, min_samples_split=2; total time=   0.3s\n",
      "[CV] END ccp_alpha=0.01, class_weight={0: 1.5, 1: 2.5}, max_depth=None, min_samples_split=3; total time=   0.3s\n",
      "[CV] END ccp_alpha=0.01, class_weight={0: 1.5, 1: 2.5}, max_depth=None, min_samples_split=3; total time=   0.3s\n",
      "[CV] END ccp_alpha=0.01, class_weight={0: 1.5, 1: 2.5}, max_depth=None, min_samples_split=3; total time=   0.3s\n",
      "[CV] END ccp_alpha=0.01, class_weight={0: 1.5, 1: 2.5}, max_depth=None, min_samples_split=3; total time=   0.3s\n",
      "[CV] END ccp_alpha=0.01, class_weight={0: 1.5, 1: 2.5}, max_depth=None, min_samples_split=3; total time=   0.3s\n",
      "[CV] END ccp_alpha=0.01, class_weight={0: 1.5, 1: 2.5}, max_depth=None, min_samples_split=4; total time=   0.3s\n",
      "[CV] END ccp_alpha=0.01, class_weight={0: 1.5, 1: 2.5}, max_depth=None, min_samples_split=4; total time=   0.3s\n",
      "[CV] END ccp_alpha=0.01, class_weight={0: 1.5, 1: 2.5}, max_depth=None, min_samples_split=4; total time=   0.3s\n",
      "[CV] END ccp_alpha=0.01, class_weight={0: 1.5, 1: 2.5}, max_depth=None, min_samples_split=4; total time=   0.3s\n",
      "[CV] END ccp_alpha=0.01, class_weight={0: 1.5, 1: 2.5}, max_depth=None, min_samples_split=4; total time=   0.3s\n",
      "[CV] END ccp_alpha=0.01, class_weight={0: 1.5, 1: 2.5}, max_depth=10, min_samples_split=2; total time=   0.2s\n",
      "[CV] END ccp_alpha=0.01, class_weight={0: 1.5, 1: 2.5}, max_depth=10, min_samples_split=2; total time=   0.2s\n",
      "[CV] END ccp_alpha=0.01, class_weight={0: 1.5, 1: 2.5}, max_depth=10, min_samples_split=2; total time=   0.2s\n",
      "[CV] END ccp_alpha=0.01, class_weight={0: 1.5, 1: 2.5}, max_depth=10, min_samples_split=2; total time=   0.2s\n",
      "[CV] END ccp_alpha=0.01, class_weight={0: 1.5, 1: 2.5}, max_depth=10, min_samples_split=2; total time=   0.2s\n",
      "[CV] END ccp_alpha=0.01, class_weight={0: 1.5, 1: 2.5}, max_depth=10, min_samples_split=3; total time=   0.2s\n",
      "[CV] END ccp_alpha=0.01, class_weight={0: 1.5, 1: 2.5}, max_depth=10, min_samples_split=3; total time=   0.2s\n",
      "[CV] END ccp_alpha=0.01, class_weight={0: 1.5, 1: 2.5}, max_depth=10, min_samples_split=3; total time=   0.2s\n",
      "[CV] END ccp_alpha=0.01, class_weight={0: 1.5, 1: 2.5}, max_depth=10, min_samples_split=3; total time=   0.2s\n",
      "[CV] END ccp_alpha=0.01, class_weight={0: 1.5, 1: 2.5}, max_depth=10, min_samples_split=3; total time=   0.2s\n",
      "[CV] END ccp_alpha=0.01, class_weight={0: 1.5, 1: 2.5}, max_depth=10, min_samples_split=4; total time=   0.2s\n",
      "[CV] END ccp_alpha=0.01, class_weight={0: 1.5, 1: 2.5}, max_depth=10, min_samples_split=4; total time=   0.2s\n",
      "[CV] END ccp_alpha=0.01, class_weight={0: 1.5, 1: 2.5}, max_depth=10, min_samples_split=4; total time=   0.2s\n",
      "[CV] END ccp_alpha=0.01, class_weight={0: 1.5, 1: 2.5}, max_depth=10, min_samples_split=4; total time=   0.2s\n",
      "[CV] END ccp_alpha=0.01, class_weight={0: 1.5, 1: 2.5}, max_depth=10, min_samples_split=4; total time=   0.2s\n",
      "[CV] END ccp_alpha=0.01, class_weight={0: 1.5, 1: 2.5}, max_depth=20, min_samples_split=2; total time=   0.2s\n",
      "[CV] END ccp_alpha=0.01, class_weight={0: 1.5, 1: 2.5}, max_depth=20, min_samples_split=2; total time=   0.2s\n",
      "[CV] END ccp_alpha=0.01, class_weight={0: 1.5, 1: 2.5}, max_depth=20, min_samples_split=2; total time=   0.3s\n",
      "[CV] END ccp_alpha=0.01, class_weight={0: 1.5, 1: 2.5}, max_depth=20, min_samples_split=2; total time=   0.2s\n",
      "[CV] END ccp_alpha=0.01, class_weight={0: 1.5, 1: 2.5}, max_depth=20, min_samples_split=2; total time=   0.2s\n",
      "[CV] END ccp_alpha=0.01, class_weight={0: 1.5, 1: 2.5}, max_depth=20, min_samples_split=3; total time=   0.2s\n",
      "[CV] END ccp_alpha=0.01, class_weight={0: 1.5, 1: 2.5}, max_depth=20, min_samples_split=3; total time=   0.2s\n",
      "[CV] END ccp_alpha=0.01, class_weight={0: 1.5, 1: 2.5}, max_depth=20, min_samples_split=3; total time=   0.3s\n",
      "[CV] END ccp_alpha=0.01, class_weight={0: 1.5, 1: 2.5}, max_depth=20, min_samples_split=3; total time=   0.2s\n",
      "[CV] END ccp_alpha=0.01, class_weight={0: 1.5, 1: 2.5}, max_depth=20, min_samples_split=3; total time=   0.2s\n",
      "[CV] END ccp_alpha=0.01, class_weight={0: 1.5, 1: 2.5}, max_depth=20, min_samples_split=4; total time=   0.2s\n",
      "[CV] END ccp_alpha=0.01, class_weight={0: 1.5, 1: 2.5}, max_depth=20, min_samples_split=4; total time=   0.2s\n",
      "[CV] END ccp_alpha=0.01, class_weight={0: 1.5, 1: 2.5}, max_depth=20, min_samples_split=4; total time=   0.3s\n",
      "[CV] END ccp_alpha=0.01, class_weight={0: 1.5, 1: 2.5}, max_depth=20, min_samples_split=4; total time=   0.2s\n",
      "[CV] END ccp_alpha=0.01, class_weight={0: 1.5, 1: 2.5}, max_depth=20, min_samples_split=4; total time=   0.2s\n",
      "[CV] END ccp_alpha=0.01, class_weight={0: 1.5, 1: 2.5}, max_depth=30, min_samples_split=2; total time=   0.3s\n",
      "[CV] END ccp_alpha=0.01, class_weight={0: 1.5, 1: 2.5}, max_depth=30, min_samples_split=2; total time=   0.3s\n",
      "[CV] END ccp_alpha=0.01, class_weight={0: 1.5, 1: 2.5}, max_depth=30, min_samples_split=2; total time=   0.3s\n",
      "[CV] END ccp_alpha=0.01, class_weight={0: 1.5, 1: 2.5}, max_depth=30, min_samples_split=2; total time=   0.3s\n",
      "[CV] END ccp_alpha=0.01, class_weight={0: 1.5, 1: 2.5}, max_depth=30, min_samples_split=2; total time=   0.3s\n",
      "[CV] END ccp_alpha=0.01, class_weight={0: 1.5, 1: 2.5}, max_depth=30, min_samples_split=3; total time=   0.3s\n",
      "[CV] END ccp_alpha=0.01, class_weight={0: 1.5, 1: 2.5}, max_depth=30, min_samples_split=3; total time=   0.3s\n",
      "[CV] END ccp_alpha=0.01, class_weight={0: 1.5, 1: 2.5}, max_depth=30, min_samples_split=3; total time=   0.3s\n",
      "[CV] END ccp_alpha=0.01, class_weight={0: 1.5, 1: 2.5}, max_depth=30, min_samples_split=3; total time=   0.3s\n",
      "[CV] END ccp_alpha=0.01, class_weight={0: 1.5, 1: 2.5}, max_depth=30, min_samples_split=3; total time=   0.3s\n",
      "[CV] END ccp_alpha=0.01, class_weight={0: 1.5, 1: 2.5}, max_depth=30, min_samples_split=4; total time=   0.3s\n",
      "[CV] END ccp_alpha=0.01, class_weight={0: 1.5, 1: 2.5}, max_depth=30, min_samples_split=4; total time=   0.3s\n",
      "[CV] END ccp_alpha=0.01, class_weight={0: 1.5, 1: 2.5}, max_depth=30, min_samples_split=4; total time=   0.3s\n",
      "[CV] END ccp_alpha=0.01, class_weight={0: 1.5, 1: 2.5}, max_depth=30, min_samples_split=4; total time=   0.3s\n",
      "[CV] END ccp_alpha=0.01, class_weight={0: 1.5, 1: 2.5}, max_depth=30, min_samples_split=4; total time=   0.3s\n",
      "[CV] END ccp_alpha=0.01, class_weight={0: 1.5, 1: 3}, max_depth=None, min_samples_split=2; total time=   0.3s\n",
      "[CV] END ccp_alpha=0.01, class_weight={0: 1.5, 1: 3}, max_depth=None, min_samples_split=2; total time=   0.3s\n",
      "[CV] END ccp_alpha=0.01, class_weight={0: 1.5, 1: 3}, max_depth=None, min_samples_split=2; total time=   0.3s\n",
      "[CV] END ccp_alpha=0.01, class_weight={0: 1.5, 1: 3}, max_depth=None, min_samples_split=2; total time=   0.3s\n",
      "[CV] END ccp_alpha=0.01, class_weight={0: 1.5, 1: 3}, max_depth=None, min_samples_split=2; total time=   0.3s\n",
      "[CV] END ccp_alpha=0.01, class_weight={0: 1.5, 1: 3}, max_depth=None, min_samples_split=3; total time=   0.3s\n",
      "[CV] END ccp_alpha=0.01, class_weight={0: 1.5, 1: 3}, max_depth=None, min_samples_split=3; total time=   0.3s\n",
      "[CV] END ccp_alpha=0.01, class_weight={0: 1.5, 1: 3}, max_depth=None, min_samples_split=3; total time=   0.3s\n",
      "[CV] END ccp_alpha=0.01, class_weight={0: 1.5, 1: 3}, max_depth=None, min_samples_split=3; total time=   0.3s\n",
      "[CV] END ccp_alpha=0.01, class_weight={0: 1.5, 1: 3}, max_depth=None, min_samples_split=3; total time=   0.3s\n",
      "[CV] END ccp_alpha=0.01, class_weight={0: 1.5, 1: 3}, max_depth=None, min_samples_split=4; total time=   0.3s\n",
      "[CV] END ccp_alpha=0.01, class_weight={0: 1.5, 1: 3}, max_depth=None, min_samples_split=4; total time=   0.3s\n",
      "[CV] END ccp_alpha=0.01, class_weight={0: 1.5, 1: 3}, max_depth=None, min_samples_split=4; total time=   0.3s\n",
      "[CV] END ccp_alpha=0.01, class_weight={0: 1.5, 1: 3}, max_depth=None, min_samples_split=4; total time=   0.3s\n",
      "[CV] END ccp_alpha=0.01, class_weight={0: 1.5, 1: 3}, max_depth=None, min_samples_split=4; total time=   0.3s\n",
      "[CV] END ccp_alpha=0.01, class_weight={0: 1.5, 1: 3}, max_depth=10, min_samples_split=2; total time=   0.2s\n",
      "[CV] END ccp_alpha=0.01, class_weight={0: 1.5, 1: 3}, max_depth=10, min_samples_split=2; total time=   0.2s\n",
      "[CV] END ccp_alpha=0.01, class_weight={0: 1.5, 1: 3}, max_depth=10, min_samples_split=2; total time=   0.2s\n",
      "[CV] END ccp_alpha=0.01, class_weight={0: 1.5, 1: 3}, max_depth=10, min_samples_split=2; total time=   0.2s\n",
      "[CV] END ccp_alpha=0.01, class_weight={0: 1.5, 1: 3}, max_depth=10, min_samples_split=2; total time=   0.2s\n",
      "[CV] END ccp_alpha=0.01, class_weight={0: 1.5, 1: 3}, max_depth=10, min_samples_split=3; total time=   0.2s\n",
      "[CV] END ccp_alpha=0.01, class_weight={0: 1.5, 1: 3}, max_depth=10, min_samples_split=3; total time=   0.2s\n",
      "[CV] END ccp_alpha=0.01, class_weight={0: 1.5, 1: 3}, max_depth=10, min_samples_split=3; total time=   0.2s\n",
      "[CV] END ccp_alpha=0.01, class_weight={0: 1.5, 1: 3}, max_depth=10, min_samples_split=3; total time=   0.2s\n",
      "[CV] END ccp_alpha=0.01, class_weight={0: 1.5, 1: 3}, max_depth=10, min_samples_split=3; total time=   0.2s\n",
      "[CV] END ccp_alpha=0.01, class_weight={0: 1.5, 1: 3}, max_depth=10, min_samples_split=4; total time=   0.2s\n",
      "[CV] END ccp_alpha=0.01, class_weight={0: 1.5, 1: 3}, max_depth=10, min_samples_split=4; total time=   0.2s\n",
      "[CV] END ccp_alpha=0.01, class_weight={0: 1.5, 1: 3}, max_depth=10, min_samples_split=4; total time=   0.2s\n",
      "[CV] END ccp_alpha=0.01, class_weight={0: 1.5, 1: 3}, max_depth=10, min_samples_split=4; total time=   0.2s\n",
      "[CV] END ccp_alpha=0.01, class_weight={0: 1.5, 1: 3}, max_depth=10, min_samples_split=4; total time=   0.2s\n",
      "[CV] END ccp_alpha=0.01, class_weight={0: 1.5, 1: 3}, max_depth=20, min_samples_split=2; total time=   0.2s\n",
      "[CV] END ccp_alpha=0.01, class_weight={0: 1.5, 1: 3}, max_depth=20, min_samples_split=2; total time=   0.2s\n",
      "[CV] END ccp_alpha=0.01, class_weight={0: 1.5, 1: 3}, max_depth=20, min_samples_split=2; total time=   0.3s\n",
      "[CV] END ccp_alpha=0.01, class_weight={0: 1.5, 1: 3}, max_depth=20, min_samples_split=2; total time=   0.2s\n",
      "[CV] END ccp_alpha=0.01, class_weight={0: 1.5, 1: 3}, max_depth=20, min_samples_split=2; total time=   0.2s\n",
      "[CV] END ccp_alpha=0.01, class_weight={0: 1.5, 1: 3}, max_depth=20, min_samples_split=3; total time=   0.2s\n",
      "[CV] END ccp_alpha=0.01, class_weight={0: 1.5, 1: 3}, max_depth=20, min_samples_split=3; total time=   0.2s\n",
      "[CV] END ccp_alpha=0.01, class_weight={0: 1.5, 1: 3}, max_depth=20, min_samples_split=3; total time=   0.3s\n",
      "[CV] END ccp_alpha=0.01, class_weight={0: 1.5, 1: 3}, max_depth=20, min_samples_split=3; total time=   0.2s\n",
      "[CV] END ccp_alpha=0.01, class_weight={0: 1.5, 1: 3}, max_depth=20, min_samples_split=3; total time=   0.2s\n",
      "[CV] END ccp_alpha=0.01, class_weight={0: 1.5, 1: 3}, max_depth=20, min_samples_split=4; total time=   0.2s\n",
      "[CV] END ccp_alpha=0.01, class_weight={0: 1.5, 1: 3}, max_depth=20, min_samples_split=4; total time=   0.2s\n",
      "[CV] END ccp_alpha=0.01, class_weight={0: 1.5, 1: 3}, max_depth=20, min_samples_split=4; total time=   0.3s\n",
      "[CV] END ccp_alpha=0.01, class_weight={0: 1.5, 1: 3}, max_depth=20, min_samples_split=4; total time=   0.2s\n",
      "[CV] END ccp_alpha=0.01, class_weight={0: 1.5, 1: 3}, max_depth=20, min_samples_split=4; total time=   0.2s\n",
      "[CV] END ccp_alpha=0.01, class_weight={0: 1.5, 1: 3}, max_depth=30, min_samples_split=2; total time=   0.3s\n",
      "[CV] END ccp_alpha=0.01, class_weight={0: 1.5, 1: 3}, max_depth=30, min_samples_split=2; total time=   0.3s\n",
      "[CV] END ccp_alpha=0.01, class_weight={0: 1.5, 1: 3}, max_depth=30, min_samples_split=2; total time=   0.3s\n",
      "[CV] END ccp_alpha=0.01, class_weight={0: 1.5, 1: 3}, max_depth=30, min_samples_split=2; total time=   0.3s\n",
      "[CV] END ccp_alpha=0.01, class_weight={0: 1.5, 1: 3}, max_depth=30, min_samples_split=2; total time=   0.3s\n",
      "[CV] END ccp_alpha=0.01, class_weight={0: 1.5, 1: 3}, max_depth=30, min_samples_split=3; total time=   0.3s\n",
      "[CV] END ccp_alpha=0.01, class_weight={0: 1.5, 1: 3}, max_depth=30, min_samples_split=3; total time=   0.3s\n",
      "[CV] END ccp_alpha=0.01, class_weight={0: 1.5, 1: 3}, max_depth=30, min_samples_split=3; total time=   0.3s\n",
      "[CV] END ccp_alpha=0.01, class_weight={0: 1.5, 1: 3}, max_depth=30, min_samples_split=3; total time=   0.3s\n",
      "[CV] END ccp_alpha=0.01, class_weight={0: 1.5, 1: 3}, max_depth=30, min_samples_split=3; total time=   0.3s\n",
      "[CV] END ccp_alpha=0.01, class_weight={0: 1.5, 1: 3}, max_depth=30, min_samples_split=4; total time=   0.3s\n",
      "[CV] END ccp_alpha=0.01, class_weight={0: 1.5, 1: 3}, max_depth=30, min_samples_split=4; total time=   0.3s\n",
      "[CV] END ccp_alpha=0.01, class_weight={0: 1.5, 1: 3}, max_depth=30, min_samples_split=4; total time=   0.3s\n",
      "[CV] END ccp_alpha=0.01, class_weight={0: 1.5, 1: 3}, max_depth=30, min_samples_split=4; total time=   0.3s\n",
      "[CV] END ccp_alpha=0.01, class_weight={0: 1.5, 1: 3}, max_depth=30, min_samples_split=4; total time=   0.3s\n",
      "[CV] END ccp_alpha=0.001, class_weight=None, max_depth=None, min_samples_split=2; total time=   0.3s\n",
      "[CV] END ccp_alpha=0.001, class_weight=None, max_depth=None, min_samples_split=2; total time=   0.3s\n",
      "[CV] END ccp_alpha=0.001, class_weight=None, max_depth=None, min_samples_split=2; total time=   0.3s\n",
      "[CV] END ccp_alpha=0.001, class_weight=None, max_depth=None, min_samples_split=2; total time=   0.3s\n",
      "[CV] END ccp_alpha=0.001, class_weight=None, max_depth=None, min_samples_split=2; total time=   0.3s\n",
      "[CV] END ccp_alpha=0.001, class_weight=None, max_depth=None, min_samples_split=3; total time=   0.3s\n",
      "[CV] END ccp_alpha=0.001, class_weight=None, max_depth=None, min_samples_split=3; total time=   0.3s\n",
      "[CV] END ccp_alpha=0.001, class_weight=None, max_depth=None, min_samples_split=3; total time=   0.3s\n",
      "[CV] END ccp_alpha=0.001, class_weight=None, max_depth=None, min_samples_split=3; total time=   0.3s\n",
      "[CV] END ccp_alpha=0.001, class_weight=None, max_depth=None, min_samples_split=3; total time=   0.3s\n",
      "[CV] END ccp_alpha=0.001, class_weight=None, max_depth=None, min_samples_split=4; total time=   0.3s\n",
      "[CV] END ccp_alpha=0.001, class_weight=None, max_depth=None, min_samples_split=4; total time=   0.3s\n",
      "[CV] END ccp_alpha=0.001, class_weight=None, max_depth=None, min_samples_split=4; total time=   0.3s\n",
      "[CV] END ccp_alpha=0.001, class_weight=None, max_depth=None, min_samples_split=4; total time=   0.3s\n",
      "[CV] END ccp_alpha=0.001, class_weight=None, max_depth=None, min_samples_split=4; total time=   0.3s\n",
      "[CV] END ccp_alpha=0.001, class_weight=None, max_depth=10, min_samples_split=2; total time=   0.2s\n",
      "[CV] END ccp_alpha=0.001, class_weight=None, max_depth=10, min_samples_split=2; total time=   0.2s\n",
      "[CV] END ccp_alpha=0.001, class_weight=None, max_depth=10, min_samples_split=2; total time=   0.2s\n",
      "[CV] END ccp_alpha=0.001, class_weight=None, max_depth=10, min_samples_split=2; total time=   0.2s\n",
      "[CV] END ccp_alpha=0.001, class_weight=None, max_depth=10, min_samples_split=2; total time=   0.2s\n",
      "[CV] END ccp_alpha=0.001, class_weight=None, max_depth=10, min_samples_split=3; total time=   0.2s\n",
      "[CV] END ccp_alpha=0.001, class_weight=None, max_depth=10, min_samples_split=3; total time=   0.2s\n",
      "[CV] END ccp_alpha=0.001, class_weight=None, max_depth=10, min_samples_split=3; total time=   0.2s\n",
      "[CV] END ccp_alpha=0.001, class_weight=None, max_depth=10, min_samples_split=3; total time=   0.2s\n",
      "[CV] END ccp_alpha=0.001, class_weight=None, max_depth=10, min_samples_split=3; total time=   0.2s\n",
      "[CV] END ccp_alpha=0.001, class_weight=None, max_depth=10, min_samples_split=4; total time=   0.2s\n",
      "[CV] END ccp_alpha=0.001, class_weight=None, max_depth=10, min_samples_split=4; total time=   0.2s\n",
      "[CV] END ccp_alpha=0.001, class_weight=None, max_depth=10, min_samples_split=4; total time=   0.2s\n",
      "[CV] END ccp_alpha=0.001, class_weight=None, max_depth=10, min_samples_split=4; total time=   0.2s\n",
      "[CV] END ccp_alpha=0.001, class_weight=None, max_depth=10, min_samples_split=4; total time=   0.2s\n",
      "[CV] END ccp_alpha=0.001, class_weight=None, max_depth=20, min_samples_split=2; total time=   0.2s\n",
      "[CV] END ccp_alpha=0.001, class_weight=None, max_depth=20, min_samples_split=2; total time=   0.2s\n",
      "[CV] END ccp_alpha=0.001, class_weight=None, max_depth=20, min_samples_split=2; total time=   0.3s\n",
      "[CV] END ccp_alpha=0.001, class_weight=None, max_depth=20, min_samples_split=2; total time=   0.3s\n",
      "[CV] END ccp_alpha=0.001, class_weight=None, max_depth=20, min_samples_split=2; total time=   0.2s\n",
      "[CV] END ccp_alpha=0.001, class_weight=None, max_depth=20, min_samples_split=3; total time=   0.3s\n",
      "[CV] END ccp_alpha=0.001, class_weight=None, max_depth=20, min_samples_split=3; total time=   0.2s\n",
      "[CV] END ccp_alpha=0.001, class_weight=None, max_depth=20, min_samples_split=3; total time=   0.2s\n",
      "[CV] END ccp_alpha=0.001, class_weight=None, max_depth=20, min_samples_split=3; total time=   0.3s\n",
      "[CV] END ccp_alpha=0.001, class_weight=None, max_depth=20, min_samples_split=3; total time=   0.2s\n",
      "[CV] END ccp_alpha=0.001, class_weight=None, max_depth=20, min_samples_split=4; total time=   0.3s\n",
      "[CV] END ccp_alpha=0.001, class_weight=None, max_depth=20, min_samples_split=4; total time=   0.3s\n",
      "[CV] END ccp_alpha=0.001, class_weight=None, max_depth=20, min_samples_split=4; total time=   0.2s\n",
      "[CV] END ccp_alpha=0.001, class_weight=None, max_depth=20, min_samples_split=4; total time=   0.2s\n",
      "[CV] END ccp_alpha=0.001, class_weight=None, max_depth=20, min_samples_split=4; total time=   0.2s\n",
      "[CV] END ccp_alpha=0.001, class_weight=None, max_depth=30, min_samples_split=2; total time=   0.3s\n",
      "[CV] END ccp_alpha=0.001, class_weight=None, max_depth=30, min_samples_split=2; total time=   0.3s\n",
      "[CV] END ccp_alpha=0.001, class_weight=None, max_depth=30, min_samples_split=2; total time=   0.3s\n",
      "[CV] END ccp_alpha=0.001, class_weight=None, max_depth=30, min_samples_split=2; total time=   0.3s\n",
      "[CV] END ccp_alpha=0.001, class_weight=None, max_depth=30, min_samples_split=2; total time=   0.3s\n",
      "[CV] END ccp_alpha=0.001, class_weight=None, max_depth=30, min_samples_split=3; total time=   0.3s\n",
      "[CV] END ccp_alpha=0.001, class_weight=None, max_depth=30, min_samples_split=3; total time=   0.3s\n",
      "[CV] END ccp_alpha=0.001, class_weight=None, max_depth=30, min_samples_split=3; total time=   0.3s\n",
      "[CV] END ccp_alpha=0.001, class_weight=None, max_depth=30, min_samples_split=3; total time=   0.3s\n",
      "[CV] END ccp_alpha=0.001, class_weight=None, max_depth=30, min_samples_split=3; total time=   0.3s\n",
      "[CV] END ccp_alpha=0.001, class_weight=None, max_depth=30, min_samples_split=4; total time=   0.3s\n",
      "[CV] END ccp_alpha=0.001, class_weight=None, max_depth=30, min_samples_split=4; total time=   0.3s\n",
      "[CV] END ccp_alpha=0.001, class_weight=None, max_depth=30, min_samples_split=4; total time=   0.3s\n",
      "[CV] END ccp_alpha=0.001, class_weight=None, max_depth=30, min_samples_split=4; total time=   0.3s\n",
      "[CV] END ccp_alpha=0.001, class_weight=None, max_depth=30, min_samples_split=4; total time=   0.3s\n",
      "[CV] END ccp_alpha=0.001, class_weight={0: 1, 1: 2}, max_depth=None, min_samples_split=2; total time=   0.3s\n",
      "[CV] END ccp_alpha=0.001, class_weight={0: 1, 1: 2}, max_depth=None, min_samples_split=2; total time=   0.3s\n",
      "[CV] END ccp_alpha=0.001, class_weight={0: 1, 1: 2}, max_depth=None, min_samples_split=2; total time=   0.3s\n",
      "[CV] END ccp_alpha=0.001, class_weight={0: 1, 1: 2}, max_depth=None, min_samples_split=2; total time=   0.3s\n",
      "[CV] END ccp_alpha=0.001, class_weight={0: 1, 1: 2}, max_depth=None, min_samples_split=2; total time=   0.3s\n",
      "[CV] END ccp_alpha=0.001, class_weight={0: 1, 1: 2}, max_depth=None, min_samples_split=3; total time=   0.3s\n",
      "[CV] END ccp_alpha=0.001, class_weight={0: 1, 1: 2}, max_depth=None, min_samples_split=3; total time=   0.3s\n",
      "[CV] END ccp_alpha=0.001, class_weight={0: 1, 1: 2}, max_depth=None, min_samples_split=3; total time=   0.3s\n",
      "[CV] END ccp_alpha=0.001, class_weight={0: 1, 1: 2}, max_depth=None, min_samples_split=3; total time=   0.3s\n",
      "[CV] END ccp_alpha=0.001, class_weight={0: 1, 1: 2}, max_depth=None, min_samples_split=3; total time=   0.3s\n",
      "[CV] END ccp_alpha=0.001, class_weight={0: 1, 1: 2}, max_depth=None, min_samples_split=4; total time=   0.3s\n",
      "[CV] END ccp_alpha=0.001, class_weight={0: 1, 1: 2}, max_depth=None, min_samples_split=4; total time=   0.3s\n",
      "[CV] END ccp_alpha=0.001, class_weight={0: 1, 1: 2}, max_depth=None, min_samples_split=4; total time=   0.3s\n",
      "[CV] END ccp_alpha=0.001, class_weight={0: 1, 1: 2}, max_depth=None, min_samples_split=4; total time=   0.3s\n",
      "[CV] END ccp_alpha=0.001, class_weight={0: 1, 1: 2}, max_depth=None, min_samples_split=4; total time=   0.3s\n",
      "[CV] END ccp_alpha=0.001, class_weight={0: 1, 1: 2}, max_depth=10, min_samples_split=2; total time=   0.2s\n",
      "[CV] END ccp_alpha=0.001, class_weight={0: 1, 1: 2}, max_depth=10, min_samples_split=2; total time=   0.2s\n",
      "[CV] END ccp_alpha=0.001, class_weight={0: 1, 1: 2}, max_depth=10, min_samples_split=2; total time=   0.2s\n",
      "[CV] END ccp_alpha=0.001, class_weight={0: 1, 1: 2}, max_depth=10, min_samples_split=2; total time=   0.2s\n",
      "[CV] END ccp_alpha=0.001, class_weight={0: 1, 1: 2}, max_depth=10, min_samples_split=2; total time=   0.2s\n",
      "[CV] END ccp_alpha=0.001, class_weight={0: 1, 1: 2}, max_depth=10, min_samples_split=3; total time=   0.2s\n",
      "[CV] END ccp_alpha=0.001, class_weight={0: 1, 1: 2}, max_depth=10, min_samples_split=3; total time=   0.2s\n",
      "[CV] END ccp_alpha=0.001, class_weight={0: 1, 1: 2}, max_depth=10, min_samples_split=3; total time=   0.2s\n",
      "[CV] END ccp_alpha=0.001, class_weight={0: 1, 1: 2}, max_depth=10, min_samples_split=3; total time=   0.2s\n",
      "[CV] END ccp_alpha=0.001, class_weight={0: 1, 1: 2}, max_depth=10, min_samples_split=3; total time=   0.2s\n",
      "[CV] END ccp_alpha=0.001, class_weight={0: 1, 1: 2}, max_depth=10, min_samples_split=4; total time=   0.2s\n",
      "[CV] END ccp_alpha=0.001, class_weight={0: 1, 1: 2}, max_depth=10, min_samples_split=4; total time=   0.2s\n",
      "[CV] END ccp_alpha=0.001, class_weight={0: 1, 1: 2}, max_depth=10, min_samples_split=4; total time=   0.2s\n",
      "[CV] END ccp_alpha=0.001, class_weight={0: 1, 1: 2}, max_depth=10, min_samples_split=4; total time=   0.2s\n",
      "[CV] END ccp_alpha=0.001, class_weight={0: 1, 1: 2}, max_depth=10, min_samples_split=4; total time=   0.2s\n",
      "[CV] END ccp_alpha=0.001, class_weight={0: 1, 1: 2}, max_depth=20, min_samples_split=2; total time=   0.2s\n",
      "[CV] END ccp_alpha=0.001, class_weight={0: 1, 1: 2}, max_depth=20, min_samples_split=2; total time=   0.2s\n",
      "[CV] END ccp_alpha=0.001, class_weight={0: 1, 1: 2}, max_depth=20, min_samples_split=2; total time=   0.3s\n",
      "[CV] END ccp_alpha=0.001, class_weight={0: 1, 1: 2}, max_depth=20, min_samples_split=2; total time=   0.2s\n",
      "[CV] END ccp_alpha=0.001, class_weight={0: 1, 1: 2}, max_depth=20, min_samples_split=2; total time=   0.2s\n",
      "[CV] END ccp_alpha=0.001, class_weight={0: 1, 1: 2}, max_depth=20, min_samples_split=3; total time=   0.2s\n",
      "[CV] END ccp_alpha=0.001, class_weight={0: 1, 1: 2}, max_depth=20, min_samples_split=3; total time=   0.2s\n",
      "[CV] END ccp_alpha=0.001, class_weight={0: 1, 1: 2}, max_depth=20, min_samples_split=3; total time=   0.3s\n",
      "[CV] END ccp_alpha=0.001, class_weight={0: 1, 1: 2}, max_depth=20, min_samples_split=3; total time=   0.2s\n",
      "[CV] END ccp_alpha=0.001, class_weight={0: 1, 1: 2}, max_depth=20, min_samples_split=3; total time=   0.2s\n",
      "[CV] END ccp_alpha=0.001, class_weight={0: 1, 1: 2}, max_depth=20, min_samples_split=4; total time=   0.2s\n",
      "[CV] END ccp_alpha=0.001, class_weight={0: 1, 1: 2}, max_depth=20, min_samples_split=4; total time=   0.2s\n",
      "[CV] END ccp_alpha=0.001, class_weight={0: 1, 1: 2}, max_depth=20, min_samples_split=4; total time=   0.3s\n",
      "[CV] END ccp_alpha=0.001, class_weight={0: 1, 1: 2}, max_depth=20, min_samples_split=4; total time=   0.2s\n",
      "[CV] END ccp_alpha=0.001, class_weight={0: 1, 1: 2}, max_depth=20, min_samples_split=4; total time=   0.2s\n",
      "[CV] END ccp_alpha=0.001, class_weight={0: 1, 1: 2}, max_depth=30, min_samples_split=2; total time=   0.3s\n",
      "[CV] END ccp_alpha=0.001, class_weight={0: 1, 1: 2}, max_depth=30, min_samples_split=2; total time=   0.3s\n",
      "[CV] END ccp_alpha=0.001, class_weight={0: 1, 1: 2}, max_depth=30, min_samples_split=2; total time=   0.3s\n",
      "[CV] END ccp_alpha=0.001, class_weight={0: 1, 1: 2}, max_depth=30, min_samples_split=2; total time=   0.3s\n",
      "[CV] END ccp_alpha=0.001, class_weight={0: 1, 1: 2}, max_depth=30, min_samples_split=2; total time=   0.3s\n",
      "[CV] END ccp_alpha=0.001, class_weight={0: 1, 1: 2}, max_depth=30, min_samples_split=3; total time=   0.3s\n",
      "[CV] END ccp_alpha=0.001, class_weight={0: 1, 1: 2}, max_depth=30, min_samples_split=3; total time=   0.3s\n",
      "[CV] END ccp_alpha=0.001, class_weight={0: 1, 1: 2}, max_depth=30, min_samples_split=3; total time=   0.3s\n",
      "[CV] END ccp_alpha=0.001, class_weight={0: 1, 1: 2}, max_depth=30, min_samples_split=3; total time=   0.3s\n",
      "[CV] END ccp_alpha=0.001, class_weight={0: 1, 1: 2}, max_depth=30, min_samples_split=3; total time=   0.3s\n",
      "[CV] END ccp_alpha=0.001, class_weight={0: 1, 1: 2}, max_depth=30, min_samples_split=4; total time=   0.3s\n",
      "[CV] END ccp_alpha=0.001, class_weight={0: 1, 1: 2}, max_depth=30, min_samples_split=4; total time=   0.3s\n",
      "[CV] END ccp_alpha=0.001, class_weight={0: 1, 1: 2}, max_depth=30, min_samples_split=4; total time=   0.3s\n",
      "[CV] END ccp_alpha=0.001, class_weight={0: 1, 1: 2}, max_depth=30, min_samples_split=4; total time=   0.3s\n",
      "[CV] END ccp_alpha=0.001, class_weight={0: 1, 1: 2}, max_depth=30, min_samples_split=4; total time=   0.3s\n",
      "[CV] END ccp_alpha=0.001, class_weight={0: 1, 1: 3}, max_depth=None, min_samples_split=2; total time=   0.3s\n",
      "[CV] END ccp_alpha=0.001, class_weight={0: 1, 1: 3}, max_depth=None, min_samples_split=2; total time=   0.3s\n",
      "[CV] END ccp_alpha=0.001, class_weight={0: 1, 1: 3}, max_depth=None, min_samples_split=2; total time=   0.3s\n",
      "[CV] END ccp_alpha=0.001, class_weight={0: 1, 1: 3}, max_depth=None, min_samples_split=2; total time=   0.3s\n",
      "[CV] END ccp_alpha=0.001, class_weight={0: 1, 1: 3}, max_depth=None, min_samples_split=2; total time=   0.3s\n",
      "[CV] END ccp_alpha=0.001, class_weight={0: 1, 1: 3}, max_depth=None, min_samples_split=3; total time=   0.3s\n",
      "[CV] END ccp_alpha=0.001, class_weight={0: 1, 1: 3}, max_depth=None, min_samples_split=3; total time=   0.3s\n",
      "[CV] END ccp_alpha=0.001, class_weight={0: 1, 1: 3}, max_depth=None, min_samples_split=3; total time=   0.3s\n",
      "[CV] END ccp_alpha=0.001, class_weight={0: 1, 1: 3}, max_depth=None, min_samples_split=3; total time=   0.3s\n",
      "[CV] END ccp_alpha=0.001, class_weight={0: 1, 1: 3}, max_depth=None, min_samples_split=3; total time=   0.3s\n",
      "[CV] END ccp_alpha=0.001, class_weight={0: 1, 1: 3}, max_depth=None, min_samples_split=4; total time=   0.3s\n",
      "[CV] END ccp_alpha=0.001, class_weight={0: 1, 1: 3}, max_depth=None, min_samples_split=4; total time=   0.3s\n",
      "[CV] END ccp_alpha=0.001, class_weight={0: 1, 1: 3}, max_depth=None, min_samples_split=4; total time=   0.3s\n",
      "[CV] END ccp_alpha=0.001, class_weight={0: 1, 1: 3}, max_depth=None, min_samples_split=4; total time=   0.3s\n",
      "[CV] END ccp_alpha=0.001, class_weight={0: 1, 1: 3}, max_depth=None, min_samples_split=4; total time=   0.3s\n",
      "[CV] END ccp_alpha=0.001, class_weight={0: 1, 1: 3}, max_depth=10, min_samples_split=2; total time=   0.2s\n",
      "[CV] END ccp_alpha=0.001, class_weight={0: 1, 1: 3}, max_depth=10, min_samples_split=2; total time=   0.2s\n",
      "[CV] END ccp_alpha=0.001, class_weight={0: 1, 1: 3}, max_depth=10, min_samples_split=2; total time=   0.2s\n",
      "[CV] END ccp_alpha=0.001, class_weight={0: 1, 1: 3}, max_depth=10, min_samples_split=2; total time=   0.2s\n",
      "[CV] END ccp_alpha=0.001, class_weight={0: 1, 1: 3}, max_depth=10, min_samples_split=2; total time=   0.2s\n",
      "[CV] END ccp_alpha=0.001, class_weight={0: 1, 1: 3}, max_depth=10, min_samples_split=3; total time=   0.2s\n",
      "[CV] END ccp_alpha=0.001, class_weight={0: 1, 1: 3}, max_depth=10, min_samples_split=3; total time=   0.2s\n",
      "[CV] END ccp_alpha=0.001, class_weight={0: 1, 1: 3}, max_depth=10, min_samples_split=3; total time=   0.2s\n",
      "[CV] END ccp_alpha=0.001, class_weight={0: 1, 1: 3}, max_depth=10, min_samples_split=3; total time=   0.2s\n",
      "[CV] END ccp_alpha=0.001, class_weight={0: 1, 1: 3}, max_depth=10, min_samples_split=3; total time=   0.2s\n",
      "[CV] END ccp_alpha=0.001, class_weight={0: 1, 1: 3}, max_depth=10, min_samples_split=4; total time=   0.2s\n",
      "[CV] END ccp_alpha=0.001, class_weight={0: 1, 1: 3}, max_depth=10, min_samples_split=4; total time=   0.2s\n",
      "[CV] END ccp_alpha=0.001, class_weight={0: 1, 1: 3}, max_depth=10, min_samples_split=4; total time=   0.2s\n",
      "[CV] END ccp_alpha=0.001, class_weight={0: 1, 1: 3}, max_depth=10, min_samples_split=4; total time=   0.2s\n",
      "[CV] END ccp_alpha=0.001, class_weight={0: 1, 1: 3}, max_depth=10, min_samples_split=4; total time=   0.2s\n",
      "[CV] END ccp_alpha=0.001, class_weight={0: 1, 1: 3}, max_depth=20, min_samples_split=2; total time=   0.2s\n",
      "[CV] END ccp_alpha=0.001, class_weight={0: 1, 1: 3}, max_depth=20, min_samples_split=2; total time=   0.3s\n",
      "[CV] END ccp_alpha=0.001, class_weight={0: 1, 1: 3}, max_depth=20, min_samples_split=2; total time=   0.2s\n",
      "[CV] END ccp_alpha=0.001, class_weight={0: 1, 1: 3}, max_depth=20, min_samples_split=2; total time=   0.2s\n",
      "[CV] END ccp_alpha=0.001, class_weight={0: 1, 1: 3}, max_depth=20, min_samples_split=2; total time=   0.2s\n",
      "[CV] END ccp_alpha=0.001, class_weight={0: 1, 1: 3}, max_depth=20, min_samples_split=3; total time=   0.2s\n",
      "[CV] END ccp_alpha=0.001, class_weight={0: 1, 1: 3}, max_depth=20, min_samples_split=3; total time=   0.2s\n",
      "[CV] END ccp_alpha=0.001, class_weight={0: 1, 1: 3}, max_depth=20, min_samples_split=3; total time=   0.2s\n",
      "[CV] END ccp_alpha=0.001, class_weight={0: 1, 1: 3}, max_depth=20, min_samples_split=3; total time=   0.2s\n",
      "[CV] END ccp_alpha=0.001, class_weight={0: 1, 1: 3}, max_depth=20, min_samples_split=3; total time=   0.2s\n",
      "[CV] END ccp_alpha=0.001, class_weight={0: 1, 1: 3}, max_depth=20, min_samples_split=4; total time=   0.3s\n",
      "[CV] END ccp_alpha=0.001, class_weight={0: 1, 1: 3}, max_depth=20, min_samples_split=4; total time=   0.2s\n",
      "[CV] END ccp_alpha=0.001, class_weight={0: 1, 1: 3}, max_depth=20, min_samples_split=4; total time=   0.2s\n",
      "[CV] END ccp_alpha=0.001, class_weight={0: 1, 1: 3}, max_depth=20, min_samples_split=4; total time=   0.2s\n",
      "[CV] END ccp_alpha=0.001, class_weight={0: 1, 1: 3}, max_depth=20, min_samples_split=4; total time=   0.2s\n",
      "[CV] END ccp_alpha=0.001, class_weight={0: 1, 1: 3}, max_depth=30, min_samples_split=2; total time=   0.3s\n",
      "[CV] END ccp_alpha=0.001, class_weight={0: 1, 1: 3}, max_depth=30, min_samples_split=2; total time=   0.3s\n",
      "[CV] END ccp_alpha=0.001, class_weight={0: 1, 1: 3}, max_depth=30, min_samples_split=2; total time=   0.3s\n",
      "[CV] END ccp_alpha=0.001, class_weight={0: 1, 1: 3}, max_depth=30, min_samples_split=2; total time=   0.3s\n",
      "[CV] END ccp_alpha=0.001, class_weight={0: 1, 1: 3}, max_depth=30, min_samples_split=2; total time=   0.3s\n",
      "[CV] END ccp_alpha=0.001, class_weight={0: 1, 1: 3}, max_depth=30, min_samples_split=3; total time=   0.3s\n",
      "[CV] END ccp_alpha=0.001, class_weight={0: 1, 1: 3}, max_depth=30, min_samples_split=3; total time=   0.3s\n",
      "[CV] END ccp_alpha=0.001, class_weight={0: 1, 1: 3}, max_depth=30, min_samples_split=3; total time=   0.3s\n",
      "[CV] END ccp_alpha=0.001, class_weight={0: 1, 1: 3}, max_depth=30, min_samples_split=3; total time=   0.3s\n",
      "[CV] END ccp_alpha=0.001, class_weight={0: 1, 1: 3}, max_depth=30, min_samples_split=3; total time=   0.3s\n",
      "[CV] END ccp_alpha=0.001, class_weight={0: 1, 1: 3}, max_depth=30, min_samples_split=4; total time=   0.3s\n",
      "[CV] END ccp_alpha=0.001, class_weight={0: 1, 1: 3}, max_depth=30, min_samples_split=4; total time=   0.3s\n",
      "[CV] END ccp_alpha=0.001, class_weight={0: 1, 1: 3}, max_depth=30, min_samples_split=4; total time=   0.3s\n",
      "[CV] END ccp_alpha=0.001, class_weight={0: 1, 1: 3}, max_depth=30, min_samples_split=4; total time=   0.3s\n",
      "[CV] END ccp_alpha=0.001, class_weight={0: 1, 1: 3}, max_depth=30, min_samples_split=4; total time=   0.3s\n",
      "[CV] END ccp_alpha=0.001, class_weight={0: 1.5, 1: 2.5}, max_depth=None, min_samples_split=2; total time=   0.3s\n",
      "[CV] END ccp_alpha=0.001, class_weight={0: 1.5, 1: 2.5}, max_depth=None, min_samples_split=2; total time=   0.3s\n",
      "[CV] END ccp_alpha=0.001, class_weight={0: 1.5, 1: 2.5}, max_depth=None, min_samples_split=2; total time=   0.3s\n",
      "[CV] END ccp_alpha=0.001, class_weight={0: 1.5, 1: 2.5}, max_depth=None, min_samples_split=2; total time=   0.3s\n",
      "[CV] END ccp_alpha=0.001, class_weight={0: 1.5, 1: 2.5}, max_depth=None, min_samples_split=2; total time=   0.3s\n",
      "[CV] END ccp_alpha=0.001, class_weight={0: 1.5, 1: 2.5}, max_depth=None, min_samples_split=3; total time=   0.3s\n",
      "[CV] END ccp_alpha=0.001, class_weight={0: 1.5, 1: 2.5}, max_depth=None, min_samples_split=3; total time=   0.3s\n",
      "[CV] END ccp_alpha=0.001, class_weight={0: 1.5, 1: 2.5}, max_depth=None, min_samples_split=3; total time=   0.3s\n",
      "[CV] END ccp_alpha=0.001, class_weight={0: 1.5, 1: 2.5}, max_depth=None, min_samples_split=3; total time=   0.3s\n",
      "[CV] END ccp_alpha=0.001, class_weight={0: 1.5, 1: 2.5}, max_depth=None, min_samples_split=3; total time=   0.3s\n",
      "[CV] END ccp_alpha=0.001, class_weight={0: 1.5, 1: 2.5}, max_depth=None, min_samples_split=4; total time=   0.3s\n",
      "[CV] END ccp_alpha=0.001, class_weight={0: 1.5, 1: 2.5}, max_depth=None, min_samples_split=4; total time=   0.3s\n",
      "[CV] END ccp_alpha=0.001, class_weight={0: 1.5, 1: 2.5}, max_depth=None, min_samples_split=4; total time=   0.3s\n",
      "[CV] END ccp_alpha=0.001, class_weight={0: 1.5, 1: 2.5}, max_depth=None, min_samples_split=4; total time=   0.3s\n",
      "[CV] END ccp_alpha=0.001, class_weight={0: 1.5, 1: 2.5}, max_depth=None, min_samples_split=4; total time=   0.3s\n",
      "[CV] END ccp_alpha=0.001, class_weight={0: 1.5, 1: 2.5}, max_depth=10, min_samples_split=2; total time=   0.2s\n",
      "[CV] END ccp_alpha=0.001, class_weight={0: 1.5, 1: 2.5}, max_depth=10, min_samples_split=2; total time=   0.2s\n",
      "[CV] END ccp_alpha=0.001, class_weight={0: 1.5, 1: 2.5}, max_depth=10, min_samples_split=2; total time=   0.2s\n",
      "[CV] END ccp_alpha=0.001, class_weight={0: 1.5, 1: 2.5}, max_depth=10, min_samples_split=2; total time=   0.2s\n",
      "[CV] END ccp_alpha=0.001, class_weight={0: 1.5, 1: 2.5}, max_depth=10, min_samples_split=2; total time=   0.2s\n",
      "[CV] END ccp_alpha=0.001, class_weight={0: 1.5, 1: 2.5}, max_depth=10, min_samples_split=3; total time=   0.2s\n",
      "[CV] END ccp_alpha=0.001, class_weight={0: 1.5, 1: 2.5}, max_depth=10, min_samples_split=3; total time=   0.2s\n",
      "[CV] END ccp_alpha=0.001, class_weight={0: 1.5, 1: 2.5}, max_depth=10, min_samples_split=3; total time=   0.2s\n",
      "[CV] END ccp_alpha=0.001, class_weight={0: 1.5, 1: 2.5}, max_depth=10, min_samples_split=3; total time=   0.2s\n",
      "[CV] END ccp_alpha=0.001, class_weight={0: 1.5, 1: 2.5}, max_depth=10, min_samples_split=3; total time=   0.2s\n",
      "[CV] END ccp_alpha=0.001, class_weight={0: 1.5, 1: 2.5}, max_depth=10, min_samples_split=4; total time=   0.2s\n",
      "[CV] END ccp_alpha=0.001, class_weight={0: 1.5, 1: 2.5}, max_depth=10, min_samples_split=4; total time=   0.2s\n",
      "[CV] END ccp_alpha=0.001, class_weight={0: 1.5, 1: 2.5}, max_depth=10, min_samples_split=4; total time=   0.2s\n",
      "[CV] END ccp_alpha=0.001, class_weight={0: 1.5, 1: 2.5}, max_depth=10, min_samples_split=4; total time=   0.2s\n",
      "[CV] END ccp_alpha=0.001, class_weight={0: 1.5, 1: 2.5}, max_depth=10, min_samples_split=4; total time=   0.2s\n",
      "[CV] END ccp_alpha=0.001, class_weight={0: 1.5, 1: 2.5}, max_depth=20, min_samples_split=2; total time=   0.2s\n",
      "[CV] END ccp_alpha=0.001, class_weight={0: 1.5, 1: 2.5}, max_depth=20, min_samples_split=2; total time=   0.2s\n",
      "[CV] END ccp_alpha=0.001, class_weight={0: 1.5, 1: 2.5}, max_depth=20, min_samples_split=2; total time=   0.3s\n",
      "[CV] END ccp_alpha=0.001, class_weight={0: 1.5, 1: 2.5}, max_depth=20, min_samples_split=2; total time=   0.2s\n",
      "[CV] END ccp_alpha=0.001, class_weight={0: 1.5, 1: 2.5}, max_depth=20, min_samples_split=2; total time=   0.2s\n",
      "[CV] END ccp_alpha=0.001, class_weight={0: 1.5, 1: 2.5}, max_depth=20, min_samples_split=3; total time=   0.2s\n",
      "[CV] END ccp_alpha=0.001, class_weight={0: 1.5, 1: 2.5}, max_depth=20, min_samples_split=3; total time=   0.2s\n",
      "[CV] END ccp_alpha=0.001, class_weight={0: 1.5, 1: 2.5}, max_depth=20, min_samples_split=3; total time=   0.3s\n",
      "[CV] END ccp_alpha=0.001, class_weight={0: 1.5, 1: 2.5}, max_depth=20, min_samples_split=3; total time=   0.2s\n",
      "[CV] END ccp_alpha=0.001, class_weight={0: 1.5, 1: 2.5}, max_depth=20, min_samples_split=3; total time=   0.2s\n",
      "[CV] END ccp_alpha=0.001, class_weight={0: 1.5, 1: 2.5}, max_depth=20, min_samples_split=4; total time=   0.2s\n",
      "[CV] END ccp_alpha=0.001, class_weight={0: 1.5, 1: 2.5}, max_depth=20, min_samples_split=4; total time=   0.2s\n",
      "[CV] END ccp_alpha=0.001, class_weight={0: 1.5, 1: 2.5}, max_depth=20, min_samples_split=4; total time=   0.3s\n",
      "[CV] END ccp_alpha=0.001, class_weight={0: 1.5, 1: 2.5}, max_depth=20, min_samples_split=4; total time=   0.2s\n",
      "[CV] END ccp_alpha=0.001, class_weight={0: 1.5, 1: 2.5}, max_depth=20, min_samples_split=4; total time=   0.2s\n",
      "[CV] END ccp_alpha=0.001, class_weight={0: 1.5, 1: 2.5}, max_depth=30, min_samples_split=2; total time=   0.3s\n",
      "[CV] END ccp_alpha=0.001, class_weight={0: 1.5, 1: 2.5}, max_depth=30, min_samples_split=2; total time=   0.3s\n",
      "[CV] END ccp_alpha=0.001, class_weight={0: 1.5, 1: 2.5}, max_depth=30, min_samples_split=2; total time=   0.3s\n",
      "[CV] END ccp_alpha=0.001, class_weight={0: 1.5, 1: 2.5}, max_depth=30, min_samples_split=2; total time=   0.3s\n",
      "[CV] END ccp_alpha=0.001, class_weight={0: 1.5, 1: 2.5}, max_depth=30, min_samples_split=2; total time=   0.3s\n",
      "[CV] END ccp_alpha=0.001, class_weight={0: 1.5, 1: 2.5}, max_depth=30, min_samples_split=3; total time=   0.3s\n",
      "[CV] END ccp_alpha=0.001, class_weight={0: 1.5, 1: 2.5}, max_depth=30, min_samples_split=3; total time=   0.3s\n",
      "[CV] END ccp_alpha=0.001, class_weight={0: 1.5, 1: 2.5}, max_depth=30, min_samples_split=3; total time=   0.3s\n",
      "[CV] END ccp_alpha=0.001, class_weight={0: 1.5, 1: 2.5}, max_depth=30, min_samples_split=3; total time=   0.3s\n",
      "[CV] END ccp_alpha=0.001, class_weight={0: 1.5, 1: 2.5}, max_depth=30, min_samples_split=3; total time=   0.3s\n",
      "[CV] END ccp_alpha=0.001, class_weight={0: 1.5, 1: 2.5}, max_depth=30, min_samples_split=4; total time=   0.3s\n",
      "[CV] END ccp_alpha=0.001, class_weight={0: 1.5, 1: 2.5}, max_depth=30, min_samples_split=4; total time=   0.3s\n",
      "[CV] END ccp_alpha=0.001, class_weight={0: 1.5, 1: 2.5}, max_depth=30, min_samples_split=4; total time=   0.3s\n",
      "[CV] END ccp_alpha=0.001, class_weight={0: 1.5, 1: 2.5}, max_depth=30, min_samples_split=4; total time=   0.3s\n",
      "[CV] END ccp_alpha=0.001, class_weight={0: 1.5, 1: 2.5}, max_depth=30, min_samples_split=4; total time=   0.3s\n",
      "[CV] END ccp_alpha=0.001, class_weight={0: 1.5, 1: 3}, max_depth=None, min_samples_split=2; total time=   0.3s\n",
      "[CV] END ccp_alpha=0.001, class_weight={0: 1.5, 1: 3}, max_depth=None, min_samples_split=2; total time=   0.3s\n",
      "[CV] END ccp_alpha=0.001, class_weight={0: 1.5, 1: 3}, max_depth=None, min_samples_split=2; total time=   0.3s\n",
      "[CV] END ccp_alpha=0.001, class_weight={0: 1.5, 1: 3}, max_depth=None, min_samples_split=2; total time=   0.3s\n",
      "[CV] END ccp_alpha=0.001, class_weight={0: 1.5, 1: 3}, max_depth=None, min_samples_split=2; total time=   0.3s\n",
      "[CV] END ccp_alpha=0.001, class_weight={0: 1.5, 1: 3}, max_depth=None, min_samples_split=3; total time=   0.3s\n",
      "[CV] END ccp_alpha=0.001, class_weight={0: 1.5, 1: 3}, max_depth=None, min_samples_split=3; total time=   0.3s\n",
      "[CV] END ccp_alpha=0.001, class_weight={0: 1.5, 1: 3}, max_depth=None, min_samples_split=3; total time=   0.3s\n",
      "[CV] END ccp_alpha=0.001, class_weight={0: 1.5, 1: 3}, max_depth=None, min_samples_split=3; total time=   0.3s\n",
      "[CV] END ccp_alpha=0.001, class_weight={0: 1.5, 1: 3}, max_depth=None, min_samples_split=3; total time=   0.3s\n",
      "[CV] END ccp_alpha=0.001, class_weight={0: 1.5, 1: 3}, max_depth=None, min_samples_split=4; total time=   0.3s\n",
      "[CV] END ccp_alpha=0.001, class_weight={0: 1.5, 1: 3}, max_depth=None, min_samples_split=4; total time=   0.3s\n",
      "[CV] END ccp_alpha=0.001, class_weight={0: 1.5, 1: 3}, max_depth=None, min_samples_split=4; total time=   0.3s\n",
      "[CV] END ccp_alpha=0.001, class_weight={0: 1.5, 1: 3}, max_depth=None, min_samples_split=4; total time=   0.3s\n",
      "[CV] END ccp_alpha=0.001, class_weight={0: 1.5, 1: 3}, max_depth=None, min_samples_split=4; total time=   0.3s\n",
      "[CV] END ccp_alpha=0.001, class_weight={0: 1.5, 1: 3}, max_depth=10, min_samples_split=2; total time=   0.2s\n",
      "[CV] END ccp_alpha=0.001, class_weight={0: 1.5, 1: 3}, max_depth=10, min_samples_split=2; total time=   0.2s\n",
      "[CV] END ccp_alpha=0.001, class_weight={0: 1.5, 1: 3}, max_depth=10, min_samples_split=2; total time=   0.2s\n",
      "[CV] END ccp_alpha=0.001, class_weight={0: 1.5, 1: 3}, max_depth=10, min_samples_split=2; total time=   0.2s\n",
      "[CV] END ccp_alpha=0.001, class_weight={0: 1.5, 1: 3}, max_depth=10, min_samples_split=2; total time=   0.2s\n",
      "[CV] END ccp_alpha=0.001, class_weight={0: 1.5, 1: 3}, max_depth=10, min_samples_split=3; total time=   0.2s\n",
      "[CV] END ccp_alpha=0.001, class_weight={0: 1.5, 1: 3}, max_depth=10, min_samples_split=3; total time=   0.2s\n",
      "[CV] END ccp_alpha=0.001, class_weight={0: 1.5, 1: 3}, max_depth=10, min_samples_split=3; total time=   0.2s\n",
      "[CV] END ccp_alpha=0.001, class_weight={0: 1.5, 1: 3}, max_depth=10, min_samples_split=3; total time=   0.2s\n",
      "[CV] END ccp_alpha=0.001, class_weight={0: 1.5, 1: 3}, max_depth=10, min_samples_split=3; total time=   0.2s\n",
      "[CV] END ccp_alpha=0.001, class_weight={0: 1.5, 1: 3}, max_depth=10, min_samples_split=4; total time=   0.2s\n",
      "[CV] END ccp_alpha=0.001, class_weight={0: 1.5, 1: 3}, max_depth=10, min_samples_split=4; total time=   0.2s\n",
      "[CV] END ccp_alpha=0.001, class_weight={0: 1.5, 1: 3}, max_depth=10, min_samples_split=4; total time=   0.2s\n",
      "[CV] END ccp_alpha=0.001, class_weight={0: 1.5, 1: 3}, max_depth=10, min_samples_split=4; total time=   0.2s\n",
      "[CV] END ccp_alpha=0.001, class_weight={0: 1.5, 1: 3}, max_depth=10, min_samples_split=4; total time=   0.2s\n",
      "[CV] END ccp_alpha=0.001, class_weight={0: 1.5, 1: 3}, max_depth=20, min_samples_split=2; total time=   0.2s\n",
      "[CV] END ccp_alpha=0.001, class_weight={0: 1.5, 1: 3}, max_depth=20, min_samples_split=2; total time=   0.2s\n",
      "[CV] END ccp_alpha=0.001, class_weight={0: 1.5, 1: 3}, max_depth=20, min_samples_split=2; total time=   0.3s\n",
      "[CV] END ccp_alpha=0.001, class_weight={0: 1.5, 1: 3}, max_depth=20, min_samples_split=2; total time=   0.3s\n",
      "[CV] END ccp_alpha=0.001, class_weight={0: 1.5, 1: 3}, max_depth=20, min_samples_split=2; total time=   0.2s\n",
      "[CV] END ccp_alpha=0.001, class_weight={0: 1.5, 1: 3}, max_depth=20, min_samples_split=3; total time=   0.2s\n",
      "[CV] END ccp_alpha=0.001, class_weight={0: 1.5, 1: 3}, max_depth=20, min_samples_split=3; total time=   0.2s\n",
      "[CV] END ccp_alpha=0.001, class_weight={0: 1.5, 1: 3}, max_depth=20, min_samples_split=3; total time=   0.3s\n",
      "[CV] END ccp_alpha=0.001, class_weight={0: 1.5, 1: 3}, max_depth=20, min_samples_split=3; total time=   0.2s\n",
      "[CV] END ccp_alpha=0.001, class_weight={0: 1.5, 1: 3}, max_depth=20, min_samples_split=3; total time=   0.2s\n",
      "[CV] END ccp_alpha=0.001, class_weight={0: 1.5, 1: 3}, max_depth=20, min_samples_split=4; total time=   0.2s\n",
      "[CV] END ccp_alpha=0.001, class_weight={0: 1.5, 1: 3}, max_depth=20, min_samples_split=4; total time=   0.2s\n",
      "[CV] END ccp_alpha=0.001, class_weight={0: 1.5, 1: 3}, max_depth=20, min_samples_split=4; total time=   0.3s\n",
      "[CV] END ccp_alpha=0.001, class_weight={0: 1.5, 1: 3}, max_depth=20, min_samples_split=4; total time=   0.2s\n",
      "[CV] END ccp_alpha=0.001, class_weight={0: 1.5, 1: 3}, max_depth=20, min_samples_split=4; total time=   0.2s\n",
      "[CV] END ccp_alpha=0.001, class_weight={0: 1.5, 1: 3}, max_depth=30, min_samples_split=2; total time=   0.3s\n",
      "[CV] END ccp_alpha=0.001, class_weight={0: 1.5, 1: 3}, max_depth=30, min_samples_split=2; total time=   0.3s\n",
      "[CV] END ccp_alpha=0.001, class_weight={0: 1.5, 1: 3}, max_depth=30, min_samples_split=2; total time=   0.3s\n",
      "[CV] END ccp_alpha=0.001, class_weight={0: 1.5, 1: 3}, max_depth=30, min_samples_split=2; total time=   0.3s\n",
      "[CV] END ccp_alpha=0.001, class_weight={0: 1.5, 1: 3}, max_depth=30, min_samples_split=2; total time=   0.3s\n",
      "[CV] END ccp_alpha=0.001, class_weight={0: 1.5, 1: 3}, max_depth=30, min_samples_split=3; total time=   0.3s\n",
      "[CV] END ccp_alpha=0.001, class_weight={0: 1.5, 1: 3}, max_depth=30, min_samples_split=3; total time=   0.3s\n",
      "[CV] END ccp_alpha=0.001, class_weight={0: 1.5, 1: 3}, max_depth=30, min_samples_split=3; total time=   0.3s\n",
      "[CV] END ccp_alpha=0.001, class_weight={0: 1.5, 1: 3}, max_depth=30, min_samples_split=3; total time=   0.3s\n",
      "[CV] END ccp_alpha=0.001, class_weight={0: 1.5, 1: 3}, max_depth=30, min_samples_split=3; total time=   0.3s\n",
      "[CV] END ccp_alpha=0.001, class_weight={0: 1.5, 1: 3}, max_depth=30, min_samples_split=4; total time=   0.3s\n",
      "[CV] END ccp_alpha=0.001, class_weight={0: 1.5, 1: 3}, max_depth=30, min_samples_split=4; total time=   0.3s\n",
      "[CV] END ccp_alpha=0.001, class_weight={0: 1.5, 1: 3}, max_depth=30, min_samples_split=4; total time=   0.3s\n",
      "[CV] END ccp_alpha=0.001, class_weight={0: 1.5, 1: 3}, max_depth=30, min_samples_split=4; total time=   0.3s\n",
      "[CV] END ccp_alpha=0.001, class_weight={0: 1.5, 1: 3}, max_depth=30, min_samples_split=4; total time=   0.3s\n"
     ]
    },
    {
     "data": {
      "text/html": [
       "<style>#sk-container-id-3 {\n",
       "  /* Definition of color scheme common for light and dark mode */\n",
       "  --sklearn-color-text: black;\n",
       "  --sklearn-color-line: gray;\n",
       "  /* Definition of color scheme for unfitted estimators */\n",
       "  --sklearn-color-unfitted-level-0: #fff5e6;\n",
       "  --sklearn-color-unfitted-level-1: #f6e4d2;\n",
       "  --sklearn-color-unfitted-level-2: #ffe0b3;\n",
       "  --sklearn-color-unfitted-level-3: chocolate;\n",
       "  /* Definition of color scheme for fitted estimators */\n",
       "  --sklearn-color-fitted-level-0: #f0f8ff;\n",
       "  --sklearn-color-fitted-level-1: #d4ebff;\n",
       "  --sklearn-color-fitted-level-2: #b3dbfd;\n",
       "  --sklearn-color-fitted-level-3: cornflowerblue;\n",
       "\n",
       "  /* Specific color for light theme */\n",
       "  --sklearn-color-text-on-default-background: var(--sg-text-color, var(--theme-code-foreground, var(--jp-content-font-color1, black)));\n",
       "  --sklearn-color-background: var(--sg-background-color, var(--theme-background, var(--jp-layout-color0, white)));\n",
       "  --sklearn-color-border-box: var(--sg-text-color, var(--theme-code-foreground, var(--jp-content-font-color1, black)));\n",
       "  --sklearn-color-icon: #696969;\n",
       "\n",
       "  @media (prefers-color-scheme: dark) {\n",
       "    /* Redefinition of color scheme for dark theme */\n",
       "    --sklearn-color-text-on-default-background: var(--sg-text-color, var(--theme-code-foreground, var(--jp-content-font-color1, white)));\n",
       "    --sklearn-color-background: var(--sg-background-color, var(--theme-background, var(--jp-layout-color0, #111)));\n",
       "    --sklearn-color-border-box: var(--sg-text-color, var(--theme-code-foreground, var(--jp-content-font-color1, white)));\n",
       "    --sklearn-color-icon: #878787;\n",
       "  }\n",
       "}\n",
       "\n",
       "#sk-container-id-3 {\n",
       "  color: var(--sklearn-color-text);\n",
       "}\n",
       "\n",
       "#sk-container-id-3 pre {\n",
       "  padding: 0;\n",
       "}\n",
       "\n",
       "#sk-container-id-3 input.sk-hidden--visually {\n",
       "  border: 0;\n",
       "  clip: rect(1px 1px 1px 1px);\n",
       "  clip: rect(1px, 1px, 1px, 1px);\n",
       "  height: 1px;\n",
       "  margin: -1px;\n",
       "  overflow: hidden;\n",
       "  padding: 0;\n",
       "  position: absolute;\n",
       "  width: 1px;\n",
       "}\n",
       "\n",
       "#sk-container-id-3 div.sk-dashed-wrapped {\n",
       "  border: 1px dashed var(--sklearn-color-line);\n",
       "  margin: 0 0.4em 0.5em 0.4em;\n",
       "  box-sizing: border-box;\n",
       "  padding-bottom: 0.4em;\n",
       "  background-color: var(--sklearn-color-background);\n",
       "}\n",
       "\n",
       "#sk-container-id-3 div.sk-container {\n",
       "  /* jupyter's `normalize.less` sets `[hidden] { display: none; }`\n",
       "     but bootstrap.min.css set `[hidden] { display: none !important; }`\n",
       "     so we also need the `!important` here to be able to override the\n",
       "     default hidden behavior on the sphinx rendered scikit-learn.org.\n",
       "     See: https://github.com/scikit-learn/scikit-learn/issues/21755 */\n",
       "  display: inline-block !important;\n",
       "  position: relative;\n",
       "}\n",
       "\n",
       "#sk-container-id-3 div.sk-text-repr-fallback {\n",
       "  display: none;\n",
       "}\n",
       "\n",
       "div.sk-parallel-item,\n",
       "div.sk-serial,\n",
       "div.sk-item {\n",
       "  /* draw centered vertical line to link estimators */\n",
       "  background-image: linear-gradient(var(--sklearn-color-text-on-default-background), var(--sklearn-color-text-on-default-background));\n",
       "  background-size: 2px 100%;\n",
       "  background-repeat: no-repeat;\n",
       "  background-position: center center;\n",
       "}\n",
       "\n",
       "/* Parallel-specific style estimator block */\n",
       "\n",
       "#sk-container-id-3 div.sk-parallel-item::after {\n",
       "  content: \"\";\n",
       "  width: 100%;\n",
       "  border-bottom: 2px solid var(--sklearn-color-text-on-default-background);\n",
       "  flex-grow: 1;\n",
       "}\n",
       "\n",
       "#sk-container-id-3 div.sk-parallel {\n",
       "  display: flex;\n",
       "  align-items: stretch;\n",
       "  justify-content: center;\n",
       "  background-color: var(--sklearn-color-background);\n",
       "  position: relative;\n",
       "}\n",
       "\n",
       "#sk-container-id-3 div.sk-parallel-item {\n",
       "  display: flex;\n",
       "  flex-direction: column;\n",
       "}\n",
       "\n",
       "#sk-container-id-3 div.sk-parallel-item:first-child::after {\n",
       "  align-self: flex-end;\n",
       "  width: 50%;\n",
       "}\n",
       "\n",
       "#sk-container-id-3 div.sk-parallel-item:last-child::after {\n",
       "  align-self: flex-start;\n",
       "  width: 50%;\n",
       "}\n",
       "\n",
       "#sk-container-id-3 div.sk-parallel-item:only-child::after {\n",
       "  width: 0;\n",
       "}\n",
       "\n",
       "/* Serial-specific style estimator block */\n",
       "\n",
       "#sk-container-id-3 div.sk-serial {\n",
       "  display: flex;\n",
       "  flex-direction: column;\n",
       "  align-items: center;\n",
       "  background-color: var(--sklearn-color-background);\n",
       "  padding-right: 1em;\n",
       "  padding-left: 1em;\n",
       "}\n",
       "\n",
       "\n",
       "/* Toggleable style: style used for estimator/Pipeline/ColumnTransformer box that is\n",
       "clickable and can be expanded/collapsed.\n",
       "- Pipeline and ColumnTransformer use this feature and define the default style\n",
       "- Estimators will overwrite some part of the style using the `sk-estimator` class\n",
       "*/\n",
       "\n",
       "/* Pipeline and ColumnTransformer style (default) */\n",
       "\n",
       "#sk-container-id-3 div.sk-toggleable {\n",
       "  /* Default theme specific background. It is overwritten whether we have a\n",
       "  specific estimator or a Pipeline/ColumnTransformer */\n",
       "  background-color: var(--sklearn-color-background);\n",
       "}\n",
       "\n",
       "/* Toggleable label */\n",
       "#sk-container-id-3 label.sk-toggleable__label {\n",
       "  cursor: pointer;\n",
       "  display: block;\n",
       "  width: 100%;\n",
       "  margin-bottom: 0;\n",
       "  padding: 0.5em;\n",
       "  box-sizing: border-box;\n",
       "  text-align: center;\n",
       "}\n",
       "\n",
       "#sk-container-id-3 label.sk-toggleable__label-arrow:before {\n",
       "  /* Arrow on the left of the label */\n",
       "  content: \"▸\";\n",
       "  float: left;\n",
       "  margin-right: 0.25em;\n",
       "  color: var(--sklearn-color-icon);\n",
       "}\n",
       "\n",
       "#sk-container-id-3 label.sk-toggleable__label-arrow:hover:before {\n",
       "  color: var(--sklearn-color-text);\n",
       "}\n",
       "\n",
       "/* Toggleable content - dropdown */\n",
       "\n",
       "#sk-container-id-3 div.sk-toggleable__content {\n",
       "  max-height: 0;\n",
       "  max-width: 0;\n",
       "  overflow: hidden;\n",
       "  text-align: left;\n",
       "  /* unfitted */\n",
       "  background-color: var(--sklearn-color-unfitted-level-0);\n",
       "}\n",
       "\n",
       "#sk-container-id-3 div.sk-toggleable__content.fitted {\n",
       "  /* fitted */\n",
       "  background-color: var(--sklearn-color-fitted-level-0);\n",
       "}\n",
       "\n",
       "#sk-container-id-3 div.sk-toggleable__content pre {\n",
       "  margin: 0.2em;\n",
       "  border-radius: 0.25em;\n",
       "  color: var(--sklearn-color-text);\n",
       "  /* unfitted */\n",
       "  background-color: var(--sklearn-color-unfitted-level-0);\n",
       "}\n",
       "\n",
       "#sk-container-id-3 div.sk-toggleable__content.fitted pre {\n",
       "  /* unfitted */\n",
       "  background-color: var(--sklearn-color-fitted-level-0);\n",
       "}\n",
       "\n",
       "#sk-container-id-3 input.sk-toggleable__control:checked~div.sk-toggleable__content {\n",
       "  /* Expand drop-down */\n",
       "  max-height: 200px;\n",
       "  max-width: 100%;\n",
       "  overflow: auto;\n",
       "}\n",
       "\n",
       "#sk-container-id-3 input.sk-toggleable__control:checked~label.sk-toggleable__label-arrow:before {\n",
       "  content: \"▾\";\n",
       "}\n",
       "\n",
       "/* Pipeline/ColumnTransformer-specific style */\n",
       "\n",
       "#sk-container-id-3 div.sk-label input.sk-toggleable__control:checked~label.sk-toggleable__label {\n",
       "  color: var(--sklearn-color-text);\n",
       "  background-color: var(--sklearn-color-unfitted-level-2);\n",
       "}\n",
       "\n",
       "#sk-container-id-3 div.sk-label.fitted input.sk-toggleable__control:checked~label.sk-toggleable__label {\n",
       "  background-color: var(--sklearn-color-fitted-level-2);\n",
       "}\n",
       "\n",
       "/* Estimator-specific style */\n",
       "\n",
       "/* Colorize estimator box */\n",
       "#sk-container-id-3 div.sk-estimator input.sk-toggleable__control:checked~label.sk-toggleable__label {\n",
       "  /* unfitted */\n",
       "  background-color: var(--sklearn-color-unfitted-level-2);\n",
       "}\n",
       "\n",
       "#sk-container-id-3 div.sk-estimator.fitted input.sk-toggleable__control:checked~label.sk-toggleable__label {\n",
       "  /* fitted */\n",
       "  background-color: var(--sklearn-color-fitted-level-2);\n",
       "}\n",
       "\n",
       "#sk-container-id-3 div.sk-label label.sk-toggleable__label,\n",
       "#sk-container-id-3 div.sk-label label {\n",
       "  /* The background is the default theme color */\n",
       "  color: var(--sklearn-color-text-on-default-background);\n",
       "}\n",
       "\n",
       "/* On hover, darken the color of the background */\n",
       "#sk-container-id-3 div.sk-label:hover label.sk-toggleable__label {\n",
       "  color: var(--sklearn-color-text);\n",
       "  background-color: var(--sklearn-color-unfitted-level-2);\n",
       "}\n",
       "\n",
       "/* Label box, darken color on hover, fitted */\n",
       "#sk-container-id-3 div.sk-label.fitted:hover label.sk-toggleable__label.fitted {\n",
       "  color: var(--sklearn-color-text);\n",
       "  background-color: var(--sklearn-color-fitted-level-2);\n",
       "}\n",
       "\n",
       "/* Estimator label */\n",
       "\n",
       "#sk-container-id-3 div.sk-label label {\n",
       "  font-family: monospace;\n",
       "  font-weight: bold;\n",
       "  display: inline-block;\n",
       "  line-height: 1.2em;\n",
       "}\n",
       "\n",
       "#sk-container-id-3 div.sk-label-container {\n",
       "  text-align: center;\n",
       "}\n",
       "\n",
       "/* Estimator-specific */\n",
       "#sk-container-id-3 div.sk-estimator {\n",
       "  font-family: monospace;\n",
       "  border: 1px dotted var(--sklearn-color-border-box);\n",
       "  border-radius: 0.25em;\n",
       "  box-sizing: border-box;\n",
       "  margin-bottom: 0.5em;\n",
       "  /* unfitted */\n",
       "  background-color: var(--sklearn-color-unfitted-level-0);\n",
       "}\n",
       "\n",
       "#sk-container-id-3 div.sk-estimator.fitted {\n",
       "  /* fitted */\n",
       "  background-color: var(--sklearn-color-fitted-level-0);\n",
       "}\n",
       "\n",
       "/* on hover */\n",
       "#sk-container-id-3 div.sk-estimator:hover {\n",
       "  /* unfitted */\n",
       "  background-color: var(--sklearn-color-unfitted-level-2);\n",
       "}\n",
       "\n",
       "#sk-container-id-3 div.sk-estimator.fitted:hover {\n",
       "  /* fitted */\n",
       "  background-color: var(--sklearn-color-fitted-level-2);\n",
       "}\n",
       "\n",
       "/* Specification for estimator info (e.g. \"i\" and \"?\") */\n",
       "\n",
       "/* Common style for \"i\" and \"?\" */\n",
       "\n",
       ".sk-estimator-doc-link,\n",
       "a:link.sk-estimator-doc-link,\n",
       "a:visited.sk-estimator-doc-link {\n",
       "  float: right;\n",
       "  font-size: smaller;\n",
       "  line-height: 1em;\n",
       "  font-family: monospace;\n",
       "  background-color: var(--sklearn-color-background);\n",
       "  border-radius: 1em;\n",
       "  height: 1em;\n",
       "  width: 1em;\n",
       "  text-decoration: none !important;\n",
       "  margin-left: 1ex;\n",
       "  /* unfitted */\n",
       "  border: var(--sklearn-color-unfitted-level-1) 1pt solid;\n",
       "  color: var(--sklearn-color-unfitted-level-1);\n",
       "}\n",
       "\n",
       ".sk-estimator-doc-link.fitted,\n",
       "a:link.sk-estimator-doc-link.fitted,\n",
       "a:visited.sk-estimator-doc-link.fitted {\n",
       "  /* fitted */\n",
       "  border: var(--sklearn-color-fitted-level-1) 1pt solid;\n",
       "  color: var(--sklearn-color-fitted-level-1);\n",
       "}\n",
       "\n",
       "/* On hover */\n",
       "div.sk-estimator:hover .sk-estimator-doc-link:hover,\n",
       ".sk-estimator-doc-link:hover,\n",
       "div.sk-label-container:hover .sk-estimator-doc-link:hover,\n",
       ".sk-estimator-doc-link:hover {\n",
       "  /* unfitted */\n",
       "  background-color: var(--sklearn-color-unfitted-level-3);\n",
       "  color: var(--sklearn-color-background);\n",
       "  text-decoration: none;\n",
       "}\n",
       "\n",
       "div.sk-estimator.fitted:hover .sk-estimator-doc-link.fitted:hover,\n",
       ".sk-estimator-doc-link.fitted:hover,\n",
       "div.sk-label-container:hover .sk-estimator-doc-link.fitted:hover,\n",
       ".sk-estimator-doc-link.fitted:hover {\n",
       "  /* fitted */\n",
       "  background-color: var(--sklearn-color-fitted-level-3);\n",
       "  color: var(--sklearn-color-background);\n",
       "  text-decoration: none;\n",
       "}\n",
       "\n",
       "/* Span, style for the box shown on hovering the info icon */\n",
       ".sk-estimator-doc-link span {\n",
       "  display: none;\n",
       "  z-index: 9999;\n",
       "  position: relative;\n",
       "  font-weight: normal;\n",
       "  right: .2ex;\n",
       "  padding: .5ex;\n",
       "  margin: .5ex;\n",
       "  width: min-content;\n",
       "  min-width: 20ex;\n",
       "  max-width: 50ex;\n",
       "  color: var(--sklearn-color-text);\n",
       "  box-shadow: 2pt 2pt 4pt #999;\n",
       "  /* unfitted */\n",
       "  background: var(--sklearn-color-unfitted-level-0);\n",
       "  border: .5pt solid var(--sklearn-color-unfitted-level-3);\n",
       "}\n",
       "\n",
       ".sk-estimator-doc-link.fitted span {\n",
       "  /* fitted */\n",
       "  background: var(--sklearn-color-fitted-level-0);\n",
       "  border: var(--sklearn-color-fitted-level-3);\n",
       "}\n",
       "\n",
       ".sk-estimator-doc-link:hover span {\n",
       "  display: block;\n",
       "}\n",
       "\n",
       "/* \"?\"-specific style due to the `<a>` HTML tag */\n",
       "\n",
       "#sk-container-id-3 a.estimator_doc_link {\n",
       "  float: right;\n",
       "  font-size: 1rem;\n",
       "  line-height: 1em;\n",
       "  font-family: monospace;\n",
       "  background-color: var(--sklearn-color-background);\n",
       "  border-radius: 1rem;\n",
       "  height: 1rem;\n",
       "  width: 1rem;\n",
       "  text-decoration: none;\n",
       "  /* unfitted */\n",
       "  color: var(--sklearn-color-unfitted-level-1);\n",
       "  border: var(--sklearn-color-unfitted-level-1) 1pt solid;\n",
       "}\n",
       "\n",
       "#sk-container-id-3 a.estimator_doc_link.fitted {\n",
       "  /* fitted */\n",
       "  border: var(--sklearn-color-fitted-level-1) 1pt solid;\n",
       "  color: var(--sklearn-color-fitted-level-1);\n",
       "}\n",
       "\n",
       "/* On hover */\n",
       "#sk-container-id-3 a.estimator_doc_link:hover {\n",
       "  /* unfitted */\n",
       "  background-color: var(--sklearn-color-unfitted-level-3);\n",
       "  color: var(--sklearn-color-background);\n",
       "  text-decoration: none;\n",
       "}\n",
       "\n",
       "#sk-container-id-3 a.estimator_doc_link.fitted:hover {\n",
       "  /* fitted */\n",
       "  background-color: var(--sklearn-color-fitted-level-3);\n",
       "}\n",
       "</style><div id=\"sk-container-id-3\" class=\"sk-top-container\"><div class=\"sk-text-repr-fallback\"><pre>GridSearchCV(cv=KFold(n_splits=5, random_state=None, shuffle=False),\n",
       "             estimator=DecisionTreeClassifier(),\n",
       "             param_grid={&#x27;ccp_alpha&#x27;: [0, 1, 0.01, 0.001],\n",
       "                         &#x27;class_weight&#x27;: [None, {0: 1, 1: 2}, {0: 1, 1: 3},\n",
       "                                          {0: 1.5, 1: 2.5}, {0: 1.5, 1: 3}],\n",
       "                         &#x27;max_depth&#x27;: [None, 10, 20, 30],\n",
       "                         &#x27;min_samples_split&#x27;: [2, 3, 4]},\n",
       "             verbose=2)</pre><b>In a Jupyter environment, please rerun this cell to show the HTML representation or trust the notebook. <br />On GitHub, the HTML representation is unable to render, please try loading this page with nbviewer.org.</b></div><div class=\"sk-container\" hidden><div class=\"sk-item sk-dashed-wrapped\"><div class=\"sk-label-container\"><div class=\"sk-label fitted sk-toggleable\"><input class=\"sk-toggleable__control sk-hidden--visually\" id=\"sk-estimator-id-5\" type=\"checkbox\" ><label for=\"sk-estimator-id-5\" class=\"sk-toggleable__label fitted sk-toggleable__label-arrow fitted\">&nbsp;&nbsp;GridSearchCV<a class=\"sk-estimator-doc-link fitted\" rel=\"noreferrer\" target=\"_blank\" href=\"https://scikit-learn.org/1.4/modules/generated/sklearn.model_selection.GridSearchCV.html\">?<span>Documentation for GridSearchCV</span></a><span class=\"sk-estimator-doc-link fitted\">i<span>Fitted</span></span></label><div class=\"sk-toggleable__content fitted\"><pre>GridSearchCV(cv=KFold(n_splits=5, random_state=None, shuffle=False),\n",
       "             estimator=DecisionTreeClassifier(),\n",
       "             param_grid={&#x27;ccp_alpha&#x27;: [0, 1, 0.01, 0.001],\n",
       "                         &#x27;class_weight&#x27;: [None, {0: 1, 1: 2}, {0: 1, 1: 3},\n",
       "                                          {0: 1.5, 1: 2.5}, {0: 1.5, 1: 3}],\n",
       "                         &#x27;max_depth&#x27;: [None, 10, 20, 30],\n",
       "                         &#x27;min_samples_split&#x27;: [2, 3, 4]},\n",
       "             verbose=2)</pre></div> </div></div><div class=\"sk-parallel\"><div class=\"sk-parallel-item\"><div class=\"sk-item\"><div class=\"sk-label-container\"><div class=\"sk-label fitted sk-toggleable\"><input class=\"sk-toggleable__control sk-hidden--visually\" id=\"sk-estimator-id-6\" type=\"checkbox\" ><label for=\"sk-estimator-id-6\" class=\"sk-toggleable__label fitted sk-toggleable__label-arrow fitted\">estimator: DecisionTreeClassifier</label><div class=\"sk-toggleable__content fitted\"><pre>DecisionTreeClassifier()</pre></div> </div></div><div class=\"sk-serial\"><div class=\"sk-item\"><div class=\"sk-estimator fitted sk-toggleable\"><input class=\"sk-toggleable__control sk-hidden--visually\" id=\"sk-estimator-id-7\" type=\"checkbox\" ><label for=\"sk-estimator-id-7\" class=\"sk-toggleable__label fitted sk-toggleable__label-arrow fitted\">&nbsp;DecisionTreeClassifier<a class=\"sk-estimator-doc-link fitted\" rel=\"noreferrer\" target=\"_blank\" href=\"https://scikit-learn.org/1.4/modules/generated/sklearn.tree.DecisionTreeClassifier.html\">?<span>Documentation for DecisionTreeClassifier</span></a></label><div class=\"sk-toggleable__content fitted\"><pre>DecisionTreeClassifier()</pre></div> </div></div></div></div></div></div></div></div></div>"
      ],
      "text/plain": [
       "GridSearchCV(cv=KFold(n_splits=5, random_state=None, shuffle=False),\n",
       "             estimator=DecisionTreeClassifier(),\n",
       "             param_grid={'ccp_alpha': [0, 1, 0.01, 0.001],\n",
       "                         'class_weight': [None, {0: 1, 1: 2}, {0: 1, 1: 3},\n",
       "                                          {0: 1.5, 1: 2.5}, {0: 1.5, 1: 3}],\n",
       "                         'max_depth': [None, 10, 20, 30],\n",
       "                         'min_samples_split': [2, 3, 4]},\n",
       "             verbose=2)"
      ]
     },
     "execution_count": 29,
     "metadata": {},
     "output_type": "execute_result"
    }
   ],
   "source": [
    "grid_search.fit(X_train, y_train)"
   ]
  },
  {
   "cell_type": "code",
   "execution_count": 30,
   "id": "51052610",
   "metadata": {},
   "outputs": [
    {
     "name": "stdout",
     "output_type": "stream",
     "text": [
      "{'ccp_alpha': 0, 'class_weight': None, 'max_depth': 10, 'min_samples_split': 3}\n"
     ]
    }
   ],
   "source": [
    "best_params = grid_search.best_params_\n",
    "print(best_params)"
   ]
  },
  {
   "cell_type": "code",
   "execution_count": 31,
   "id": "d7e6bf90",
   "metadata": {},
   "outputs": [],
   "source": [
    "Cart_best = DecisionTreeClassifier(**best_params)"
   ]
  },
  {
   "cell_type": "code",
   "execution_count": 32,
   "id": "fb969c04",
   "metadata": {},
   "outputs": [
    {
     "data": {
      "text/html": [
       "<style>#sk-container-id-4 {\n",
       "  /* Definition of color scheme common for light and dark mode */\n",
       "  --sklearn-color-text: black;\n",
       "  --sklearn-color-line: gray;\n",
       "  /* Definition of color scheme for unfitted estimators */\n",
       "  --sklearn-color-unfitted-level-0: #fff5e6;\n",
       "  --sklearn-color-unfitted-level-1: #f6e4d2;\n",
       "  --sklearn-color-unfitted-level-2: #ffe0b3;\n",
       "  --sklearn-color-unfitted-level-3: chocolate;\n",
       "  /* Definition of color scheme for fitted estimators */\n",
       "  --sklearn-color-fitted-level-0: #f0f8ff;\n",
       "  --sklearn-color-fitted-level-1: #d4ebff;\n",
       "  --sklearn-color-fitted-level-2: #b3dbfd;\n",
       "  --sklearn-color-fitted-level-3: cornflowerblue;\n",
       "\n",
       "  /* Specific color for light theme */\n",
       "  --sklearn-color-text-on-default-background: var(--sg-text-color, var(--theme-code-foreground, var(--jp-content-font-color1, black)));\n",
       "  --sklearn-color-background: var(--sg-background-color, var(--theme-background, var(--jp-layout-color0, white)));\n",
       "  --sklearn-color-border-box: var(--sg-text-color, var(--theme-code-foreground, var(--jp-content-font-color1, black)));\n",
       "  --sklearn-color-icon: #696969;\n",
       "\n",
       "  @media (prefers-color-scheme: dark) {\n",
       "    /* Redefinition of color scheme for dark theme */\n",
       "    --sklearn-color-text-on-default-background: var(--sg-text-color, var(--theme-code-foreground, var(--jp-content-font-color1, white)));\n",
       "    --sklearn-color-background: var(--sg-background-color, var(--theme-background, var(--jp-layout-color0, #111)));\n",
       "    --sklearn-color-border-box: var(--sg-text-color, var(--theme-code-foreground, var(--jp-content-font-color1, white)));\n",
       "    --sklearn-color-icon: #878787;\n",
       "  }\n",
       "}\n",
       "\n",
       "#sk-container-id-4 {\n",
       "  color: var(--sklearn-color-text);\n",
       "}\n",
       "\n",
       "#sk-container-id-4 pre {\n",
       "  padding: 0;\n",
       "}\n",
       "\n",
       "#sk-container-id-4 input.sk-hidden--visually {\n",
       "  border: 0;\n",
       "  clip: rect(1px 1px 1px 1px);\n",
       "  clip: rect(1px, 1px, 1px, 1px);\n",
       "  height: 1px;\n",
       "  margin: -1px;\n",
       "  overflow: hidden;\n",
       "  padding: 0;\n",
       "  position: absolute;\n",
       "  width: 1px;\n",
       "}\n",
       "\n",
       "#sk-container-id-4 div.sk-dashed-wrapped {\n",
       "  border: 1px dashed var(--sklearn-color-line);\n",
       "  margin: 0 0.4em 0.5em 0.4em;\n",
       "  box-sizing: border-box;\n",
       "  padding-bottom: 0.4em;\n",
       "  background-color: var(--sklearn-color-background);\n",
       "}\n",
       "\n",
       "#sk-container-id-4 div.sk-container {\n",
       "  /* jupyter's `normalize.less` sets `[hidden] { display: none; }`\n",
       "     but bootstrap.min.css set `[hidden] { display: none !important; }`\n",
       "     so we also need the `!important` here to be able to override the\n",
       "     default hidden behavior on the sphinx rendered scikit-learn.org.\n",
       "     See: https://github.com/scikit-learn/scikit-learn/issues/21755 */\n",
       "  display: inline-block !important;\n",
       "  position: relative;\n",
       "}\n",
       "\n",
       "#sk-container-id-4 div.sk-text-repr-fallback {\n",
       "  display: none;\n",
       "}\n",
       "\n",
       "div.sk-parallel-item,\n",
       "div.sk-serial,\n",
       "div.sk-item {\n",
       "  /* draw centered vertical line to link estimators */\n",
       "  background-image: linear-gradient(var(--sklearn-color-text-on-default-background), var(--sklearn-color-text-on-default-background));\n",
       "  background-size: 2px 100%;\n",
       "  background-repeat: no-repeat;\n",
       "  background-position: center center;\n",
       "}\n",
       "\n",
       "/* Parallel-specific style estimator block */\n",
       "\n",
       "#sk-container-id-4 div.sk-parallel-item::after {\n",
       "  content: \"\";\n",
       "  width: 100%;\n",
       "  border-bottom: 2px solid var(--sklearn-color-text-on-default-background);\n",
       "  flex-grow: 1;\n",
       "}\n",
       "\n",
       "#sk-container-id-4 div.sk-parallel {\n",
       "  display: flex;\n",
       "  align-items: stretch;\n",
       "  justify-content: center;\n",
       "  background-color: var(--sklearn-color-background);\n",
       "  position: relative;\n",
       "}\n",
       "\n",
       "#sk-container-id-4 div.sk-parallel-item {\n",
       "  display: flex;\n",
       "  flex-direction: column;\n",
       "}\n",
       "\n",
       "#sk-container-id-4 div.sk-parallel-item:first-child::after {\n",
       "  align-self: flex-end;\n",
       "  width: 50%;\n",
       "}\n",
       "\n",
       "#sk-container-id-4 div.sk-parallel-item:last-child::after {\n",
       "  align-self: flex-start;\n",
       "  width: 50%;\n",
       "}\n",
       "\n",
       "#sk-container-id-4 div.sk-parallel-item:only-child::after {\n",
       "  width: 0;\n",
       "}\n",
       "\n",
       "/* Serial-specific style estimator block */\n",
       "\n",
       "#sk-container-id-4 div.sk-serial {\n",
       "  display: flex;\n",
       "  flex-direction: column;\n",
       "  align-items: center;\n",
       "  background-color: var(--sklearn-color-background);\n",
       "  padding-right: 1em;\n",
       "  padding-left: 1em;\n",
       "}\n",
       "\n",
       "\n",
       "/* Toggleable style: style used for estimator/Pipeline/ColumnTransformer box that is\n",
       "clickable and can be expanded/collapsed.\n",
       "- Pipeline and ColumnTransformer use this feature and define the default style\n",
       "- Estimators will overwrite some part of the style using the `sk-estimator` class\n",
       "*/\n",
       "\n",
       "/* Pipeline and ColumnTransformer style (default) */\n",
       "\n",
       "#sk-container-id-4 div.sk-toggleable {\n",
       "  /* Default theme specific background. It is overwritten whether we have a\n",
       "  specific estimator or a Pipeline/ColumnTransformer */\n",
       "  background-color: var(--sklearn-color-background);\n",
       "}\n",
       "\n",
       "/* Toggleable label */\n",
       "#sk-container-id-4 label.sk-toggleable__label {\n",
       "  cursor: pointer;\n",
       "  display: block;\n",
       "  width: 100%;\n",
       "  margin-bottom: 0;\n",
       "  padding: 0.5em;\n",
       "  box-sizing: border-box;\n",
       "  text-align: center;\n",
       "}\n",
       "\n",
       "#sk-container-id-4 label.sk-toggleable__label-arrow:before {\n",
       "  /* Arrow on the left of the label */\n",
       "  content: \"▸\";\n",
       "  float: left;\n",
       "  margin-right: 0.25em;\n",
       "  color: var(--sklearn-color-icon);\n",
       "}\n",
       "\n",
       "#sk-container-id-4 label.sk-toggleable__label-arrow:hover:before {\n",
       "  color: var(--sklearn-color-text);\n",
       "}\n",
       "\n",
       "/* Toggleable content - dropdown */\n",
       "\n",
       "#sk-container-id-4 div.sk-toggleable__content {\n",
       "  max-height: 0;\n",
       "  max-width: 0;\n",
       "  overflow: hidden;\n",
       "  text-align: left;\n",
       "  /* unfitted */\n",
       "  background-color: var(--sklearn-color-unfitted-level-0);\n",
       "}\n",
       "\n",
       "#sk-container-id-4 div.sk-toggleable__content.fitted {\n",
       "  /* fitted */\n",
       "  background-color: var(--sklearn-color-fitted-level-0);\n",
       "}\n",
       "\n",
       "#sk-container-id-4 div.sk-toggleable__content pre {\n",
       "  margin: 0.2em;\n",
       "  border-radius: 0.25em;\n",
       "  color: var(--sklearn-color-text);\n",
       "  /* unfitted */\n",
       "  background-color: var(--sklearn-color-unfitted-level-0);\n",
       "}\n",
       "\n",
       "#sk-container-id-4 div.sk-toggleable__content.fitted pre {\n",
       "  /* unfitted */\n",
       "  background-color: var(--sklearn-color-fitted-level-0);\n",
       "}\n",
       "\n",
       "#sk-container-id-4 input.sk-toggleable__control:checked~div.sk-toggleable__content {\n",
       "  /* Expand drop-down */\n",
       "  max-height: 200px;\n",
       "  max-width: 100%;\n",
       "  overflow: auto;\n",
       "}\n",
       "\n",
       "#sk-container-id-4 input.sk-toggleable__control:checked~label.sk-toggleable__label-arrow:before {\n",
       "  content: \"▾\";\n",
       "}\n",
       "\n",
       "/* Pipeline/ColumnTransformer-specific style */\n",
       "\n",
       "#sk-container-id-4 div.sk-label input.sk-toggleable__control:checked~label.sk-toggleable__label {\n",
       "  color: var(--sklearn-color-text);\n",
       "  background-color: var(--sklearn-color-unfitted-level-2);\n",
       "}\n",
       "\n",
       "#sk-container-id-4 div.sk-label.fitted input.sk-toggleable__control:checked~label.sk-toggleable__label {\n",
       "  background-color: var(--sklearn-color-fitted-level-2);\n",
       "}\n",
       "\n",
       "/* Estimator-specific style */\n",
       "\n",
       "/* Colorize estimator box */\n",
       "#sk-container-id-4 div.sk-estimator input.sk-toggleable__control:checked~label.sk-toggleable__label {\n",
       "  /* unfitted */\n",
       "  background-color: var(--sklearn-color-unfitted-level-2);\n",
       "}\n",
       "\n",
       "#sk-container-id-4 div.sk-estimator.fitted input.sk-toggleable__control:checked~label.sk-toggleable__label {\n",
       "  /* fitted */\n",
       "  background-color: var(--sklearn-color-fitted-level-2);\n",
       "}\n",
       "\n",
       "#sk-container-id-4 div.sk-label label.sk-toggleable__label,\n",
       "#sk-container-id-4 div.sk-label label {\n",
       "  /* The background is the default theme color */\n",
       "  color: var(--sklearn-color-text-on-default-background);\n",
       "}\n",
       "\n",
       "/* On hover, darken the color of the background */\n",
       "#sk-container-id-4 div.sk-label:hover label.sk-toggleable__label {\n",
       "  color: var(--sklearn-color-text);\n",
       "  background-color: var(--sklearn-color-unfitted-level-2);\n",
       "}\n",
       "\n",
       "/* Label box, darken color on hover, fitted */\n",
       "#sk-container-id-4 div.sk-label.fitted:hover label.sk-toggleable__label.fitted {\n",
       "  color: var(--sklearn-color-text);\n",
       "  background-color: var(--sklearn-color-fitted-level-2);\n",
       "}\n",
       "\n",
       "/* Estimator label */\n",
       "\n",
       "#sk-container-id-4 div.sk-label label {\n",
       "  font-family: monospace;\n",
       "  font-weight: bold;\n",
       "  display: inline-block;\n",
       "  line-height: 1.2em;\n",
       "}\n",
       "\n",
       "#sk-container-id-4 div.sk-label-container {\n",
       "  text-align: center;\n",
       "}\n",
       "\n",
       "/* Estimator-specific */\n",
       "#sk-container-id-4 div.sk-estimator {\n",
       "  font-family: monospace;\n",
       "  border: 1px dotted var(--sklearn-color-border-box);\n",
       "  border-radius: 0.25em;\n",
       "  box-sizing: border-box;\n",
       "  margin-bottom: 0.5em;\n",
       "  /* unfitted */\n",
       "  background-color: var(--sklearn-color-unfitted-level-0);\n",
       "}\n",
       "\n",
       "#sk-container-id-4 div.sk-estimator.fitted {\n",
       "  /* fitted */\n",
       "  background-color: var(--sklearn-color-fitted-level-0);\n",
       "}\n",
       "\n",
       "/* on hover */\n",
       "#sk-container-id-4 div.sk-estimator:hover {\n",
       "  /* unfitted */\n",
       "  background-color: var(--sklearn-color-unfitted-level-2);\n",
       "}\n",
       "\n",
       "#sk-container-id-4 div.sk-estimator.fitted:hover {\n",
       "  /* fitted */\n",
       "  background-color: var(--sklearn-color-fitted-level-2);\n",
       "}\n",
       "\n",
       "/* Specification for estimator info (e.g. \"i\" and \"?\") */\n",
       "\n",
       "/* Common style for \"i\" and \"?\" */\n",
       "\n",
       ".sk-estimator-doc-link,\n",
       "a:link.sk-estimator-doc-link,\n",
       "a:visited.sk-estimator-doc-link {\n",
       "  float: right;\n",
       "  font-size: smaller;\n",
       "  line-height: 1em;\n",
       "  font-family: monospace;\n",
       "  background-color: var(--sklearn-color-background);\n",
       "  border-radius: 1em;\n",
       "  height: 1em;\n",
       "  width: 1em;\n",
       "  text-decoration: none !important;\n",
       "  margin-left: 1ex;\n",
       "  /* unfitted */\n",
       "  border: var(--sklearn-color-unfitted-level-1) 1pt solid;\n",
       "  color: var(--sklearn-color-unfitted-level-1);\n",
       "}\n",
       "\n",
       ".sk-estimator-doc-link.fitted,\n",
       "a:link.sk-estimator-doc-link.fitted,\n",
       "a:visited.sk-estimator-doc-link.fitted {\n",
       "  /* fitted */\n",
       "  border: var(--sklearn-color-fitted-level-1) 1pt solid;\n",
       "  color: var(--sklearn-color-fitted-level-1);\n",
       "}\n",
       "\n",
       "/* On hover */\n",
       "div.sk-estimator:hover .sk-estimator-doc-link:hover,\n",
       ".sk-estimator-doc-link:hover,\n",
       "div.sk-label-container:hover .sk-estimator-doc-link:hover,\n",
       ".sk-estimator-doc-link:hover {\n",
       "  /* unfitted */\n",
       "  background-color: var(--sklearn-color-unfitted-level-3);\n",
       "  color: var(--sklearn-color-background);\n",
       "  text-decoration: none;\n",
       "}\n",
       "\n",
       "div.sk-estimator.fitted:hover .sk-estimator-doc-link.fitted:hover,\n",
       ".sk-estimator-doc-link.fitted:hover,\n",
       "div.sk-label-container:hover .sk-estimator-doc-link.fitted:hover,\n",
       ".sk-estimator-doc-link.fitted:hover {\n",
       "  /* fitted */\n",
       "  background-color: var(--sklearn-color-fitted-level-3);\n",
       "  color: var(--sklearn-color-background);\n",
       "  text-decoration: none;\n",
       "}\n",
       "\n",
       "/* Span, style for the box shown on hovering the info icon */\n",
       ".sk-estimator-doc-link span {\n",
       "  display: none;\n",
       "  z-index: 9999;\n",
       "  position: relative;\n",
       "  font-weight: normal;\n",
       "  right: .2ex;\n",
       "  padding: .5ex;\n",
       "  margin: .5ex;\n",
       "  width: min-content;\n",
       "  min-width: 20ex;\n",
       "  max-width: 50ex;\n",
       "  color: var(--sklearn-color-text);\n",
       "  box-shadow: 2pt 2pt 4pt #999;\n",
       "  /* unfitted */\n",
       "  background: var(--sklearn-color-unfitted-level-0);\n",
       "  border: .5pt solid var(--sklearn-color-unfitted-level-3);\n",
       "}\n",
       "\n",
       ".sk-estimator-doc-link.fitted span {\n",
       "  /* fitted */\n",
       "  background: var(--sklearn-color-fitted-level-0);\n",
       "  border: var(--sklearn-color-fitted-level-3);\n",
       "}\n",
       "\n",
       ".sk-estimator-doc-link:hover span {\n",
       "  display: block;\n",
       "}\n",
       "\n",
       "/* \"?\"-specific style due to the `<a>` HTML tag */\n",
       "\n",
       "#sk-container-id-4 a.estimator_doc_link {\n",
       "  float: right;\n",
       "  font-size: 1rem;\n",
       "  line-height: 1em;\n",
       "  font-family: monospace;\n",
       "  background-color: var(--sklearn-color-background);\n",
       "  border-radius: 1rem;\n",
       "  height: 1rem;\n",
       "  width: 1rem;\n",
       "  text-decoration: none;\n",
       "  /* unfitted */\n",
       "  color: var(--sklearn-color-unfitted-level-1);\n",
       "  border: var(--sklearn-color-unfitted-level-1) 1pt solid;\n",
       "}\n",
       "\n",
       "#sk-container-id-4 a.estimator_doc_link.fitted {\n",
       "  /* fitted */\n",
       "  border: var(--sklearn-color-fitted-level-1) 1pt solid;\n",
       "  color: var(--sklearn-color-fitted-level-1);\n",
       "}\n",
       "\n",
       "/* On hover */\n",
       "#sk-container-id-4 a.estimator_doc_link:hover {\n",
       "  /* unfitted */\n",
       "  background-color: var(--sklearn-color-unfitted-level-3);\n",
       "  color: var(--sklearn-color-background);\n",
       "  text-decoration: none;\n",
       "}\n",
       "\n",
       "#sk-container-id-4 a.estimator_doc_link.fitted:hover {\n",
       "  /* fitted */\n",
       "  background-color: var(--sklearn-color-fitted-level-3);\n",
       "}\n",
       "</style><div id=\"sk-container-id-4\" class=\"sk-top-container\"><div class=\"sk-text-repr-fallback\"><pre>DecisionTreeClassifier(ccp_alpha=0, max_depth=10, min_samples_split=3)</pre><b>In a Jupyter environment, please rerun this cell to show the HTML representation or trust the notebook. <br />On GitHub, the HTML representation is unable to render, please try loading this page with nbviewer.org.</b></div><div class=\"sk-container\" hidden><div class=\"sk-item\"><div class=\"sk-estimator fitted sk-toggleable\"><input class=\"sk-toggleable__control sk-hidden--visually\" id=\"sk-estimator-id-8\" type=\"checkbox\" checked><label for=\"sk-estimator-id-8\" class=\"sk-toggleable__label fitted sk-toggleable__label-arrow fitted\">&nbsp;&nbsp;DecisionTreeClassifier<a class=\"sk-estimator-doc-link fitted\" rel=\"noreferrer\" target=\"_blank\" href=\"https://scikit-learn.org/1.4/modules/generated/sklearn.tree.DecisionTreeClassifier.html\">?<span>Documentation for DecisionTreeClassifier</span></a><span class=\"sk-estimator-doc-link fitted\">i<span>Fitted</span></span></label><div class=\"sk-toggleable__content fitted\"><pre>DecisionTreeClassifier(ccp_alpha=0, max_depth=10, min_samples_split=3)</pre></div> </div></div></div></div>"
      ],
      "text/plain": [
       "DecisionTreeClassifier(ccp_alpha=0, max_depth=10, min_samples_split=3)"
      ]
     },
     "execution_count": 32,
     "metadata": {},
     "output_type": "execute_result"
    }
   ],
   "source": [
    "Cart_best.fit(X_train, y_train)"
   ]
  },
  {
   "cell_type": "code",
   "execution_count": 33,
   "id": "b9a71c17",
   "metadata": {},
   "outputs": [],
   "source": [
    "predictions = Cart_best.predict(X_test)"
   ]
  },
  {
   "cell_type": "code",
   "execution_count": 34,
   "id": "32523e37",
   "metadata": {},
   "outputs": [
    {
     "name": "stdout",
     "output_type": "stream",
     "text": [
      "              precision    recall  f1-score   support\n",
      "\n",
      "           0       0.86      0.86      0.86      1704\n",
      "           1       0.86      0.85      0.86      1670\n",
      "\n",
      "    accuracy                           0.86      3374\n",
      "   macro avg       0.86      0.86      0.86      3374\n",
      "weighted avg       0.86      0.86      0.86      3374\n",
      "\n"
     ]
    }
   ],
   "source": [
    "print(classification_report(y_true=y_test, y_pred=predictions, zero_division=0))"
   ]
  },
  {
   "cell_type": "markdown",
   "id": "b403d57301d2c426",
   "metadata": {
    "collapsed": false
   },
   "source": [
    "## Random Forest\n"
   ]
  },
  {
   "cell_type": "code",
   "execution_count": 35,
   "id": "448dfe6d",
   "metadata": {},
   "outputs": [],
   "source": [
    "RF = RandomForestClassifier(n_jobs=5)"
   ]
  },
  {
   "cell_type": "code",
   "execution_count": 36,
   "id": "062196b4",
   "metadata": {},
   "outputs": [],
   "source": [
    "param_grid = {\n",
    "    \"n_estimators\": [50, 100, 200, 300, 400],\n",
    "    \"max_depth\": [None, 10, 20, 30],\n",
    "    \"class_weight\": [\n",
    "        None,\n",
    "        \"balanced\",\n",
    "        \"balanced_subsample\",\n",
    "        {0: 1, 1: 2},\n",
    "        {0: 1, 1: 3},\n",
    "        {0: 1.5, 1: 2.5},\n",
    "        {0: 1.5, 1: 3},\n",
    "    ],\n",
    "    \"ccp_alpha\": [0, 1, 0.01, 0.001],\n",
    "}"
   ]
  },
  {
   "cell_type": "code",
   "execution_count": 37,
   "id": "9d905700",
   "metadata": {},
   "outputs": [],
   "source": [
    "grid_search = GridSearchCV(estimator=RF, param_grid=param_grid, cv=KF, verbose=2)"
   ]
  },
  {
   "cell_type": "code",
   "execution_count": 38,
   "id": "e2a8ae59",
   "metadata": {},
   "outputs": [
    {
     "name": "stdout",
     "output_type": "stream",
     "text": [
      "Fitting 5 folds for each of 560 candidates, totalling 2800 fits\n",
      "[CV] END ccp_alpha=0, class_weight=None, max_depth=None, n_estimators=50; total time=   0.2s\n",
      "[CV] END ccp_alpha=0, class_weight=None, max_depth=None, n_estimators=50; total time=   0.2s\n",
      "[CV] END ccp_alpha=0, class_weight=None, max_depth=None, n_estimators=50; total time=   0.2s\n",
      "[CV] END ccp_alpha=0, class_weight=None, max_depth=None, n_estimators=50; total time=   0.2s\n",
      "[CV] END ccp_alpha=0, class_weight=None, max_depth=None, n_estimators=50; total time=   0.2s\n",
      "[CV] END ccp_alpha=0, class_weight=None, max_depth=None, n_estimators=100; total time=   0.4s\n",
      "[CV] END ccp_alpha=0, class_weight=None, max_depth=None, n_estimators=100; total time=   0.4s\n",
      "[CV] END ccp_alpha=0, class_weight=None, max_depth=None, n_estimators=100; total time=   0.4s\n",
      "[CV] END ccp_alpha=0, class_weight=None, max_depth=None, n_estimators=100; total time=   0.3s\n",
      "[CV] END ccp_alpha=0, class_weight=None, max_depth=None, n_estimators=100; total time=   0.3s\n",
      "[CV] END ccp_alpha=0, class_weight=None, max_depth=None, n_estimators=200; total time=   0.6s\n",
      "[CV] END ccp_alpha=0, class_weight=None, max_depth=None, n_estimators=200; total time=   0.6s\n",
      "[CV] END ccp_alpha=0, class_weight=None, max_depth=None, n_estimators=200; total time=   0.6s\n",
      "[CV] END ccp_alpha=0, class_weight=None, max_depth=None, n_estimators=200; total time=   0.6s\n",
      "[CV] END ccp_alpha=0, class_weight=None, max_depth=None, n_estimators=200; total time=   0.6s\n",
      "[CV] END ccp_alpha=0, class_weight=None, max_depth=None, n_estimators=300; total time=   0.9s\n",
      "[CV] END ccp_alpha=0, class_weight=None, max_depth=None, n_estimators=300; total time=   0.9s\n",
      "[CV] END ccp_alpha=0, class_weight=None, max_depth=None, n_estimators=300; total time=   0.9s\n",
      "[CV] END ccp_alpha=0, class_weight=None, max_depth=None, n_estimators=300; total time=   0.9s\n",
      "[CV] END ccp_alpha=0, class_weight=None, max_depth=None, n_estimators=300; total time=   0.9s\n",
      "[CV] END ccp_alpha=0, class_weight=None, max_depth=None, n_estimators=400; total time=   1.3s\n",
      "[CV] END ccp_alpha=0, class_weight=None, max_depth=None, n_estimators=400; total time=   1.3s\n",
      "[CV] END ccp_alpha=0, class_weight=None, max_depth=None, n_estimators=400; total time=   1.3s\n",
      "[CV] END ccp_alpha=0, class_weight=None, max_depth=None, n_estimators=400; total time=   1.3s\n",
      "[CV] END ccp_alpha=0, class_weight=None, max_depth=None, n_estimators=400; total time=   1.2s\n",
      "[CV] END ccp_alpha=0, class_weight=None, max_depth=10, n_estimators=50; total time=   0.1s\n",
      "[CV] END ccp_alpha=0, class_weight=None, max_depth=10, n_estimators=50; total time=   0.1s\n",
      "[CV] END ccp_alpha=0, class_weight=None, max_depth=10, n_estimators=50; total time=   0.1s\n",
      "[CV] END ccp_alpha=0, class_weight=None, max_depth=10, n_estimators=50; total time=   0.1s\n",
      "[CV] END ccp_alpha=0, class_weight=None, max_depth=10, n_estimators=50; total time=   0.1s\n",
      "[CV] END ccp_alpha=0, class_weight=None, max_depth=10, n_estimators=100; total time=   0.2s\n",
      "[CV] END ccp_alpha=0, class_weight=None, max_depth=10, n_estimators=100; total time=   0.2s\n",
      "[CV] END ccp_alpha=0, class_weight=None, max_depth=10, n_estimators=100; total time=   0.3s\n",
      "[CV] END ccp_alpha=0, class_weight=None, max_depth=10, n_estimators=100; total time=   0.2s\n",
      "[CV] END ccp_alpha=0, class_weight=None, max_depth=10, n_estimators=100; total time=   0.2s\n",
      "[CV] END ccp_alpha=0, class_weight=None, max_depth=10, n_estimators=200; total time=   0.4s\n",
      "[CV] END ccp_alpha=0, class_weight=None, max_depth=10, n_estimators=200; total time=   0.5s\n",
      "[CV] END ccp_alpha=0, class_weight=None, max_depth=10, n_estimators=200; total time=   0.5s\n",
      "[CV] END ccp_alpha=0, class_weight=None, max_depth=10, n_estimators=200; total time=   0.5s\n",
      "[CV] END ccp_alpha=0, class_weight=None, max_depth=10, n_estimators=200; total time=   0.5s\n",
      "[CV] END ccp_alpha=0, class_weight=None, max_depth=10, n_estimators=300; total time=   0.6s\n",
      "[CV] END ccp_alpha=0, class_weight=None, max_depth=10, n_estimators=300; total time=   0.7s\n",
      "[CV] END ccp_alpha=0, class_weight=None, max_depth=10, n_estimators=300; total time=   0.6s\n",
      "[CV] END ccp_alpha=0, class_weight=None, max_depth=10, n_estimators=300; total time=   0.6s\n",
      "[CV] END ccp_alpha=0, class_weight=None, max_depth=10, n_estimators=300; total time=   0.6s\n",
      "[CV] END ccp_alpha=0, class_weight=None, max_depth=10, n_estimators=400; total time=   0.9s\n",
      "[CV] END ccp_alpha=0, class_weight=None, max_depth=10, n_estimators=400; total time=   1.0s\n",
      "[CV] END ccp_alpha=0, class_weight=None, max_depth=10, n_estimators=400; total time=   1.0s\n",
      "[CV] END ccp_alpha=0, class_weight=None, max_depth=10, n_estimators=400; total time=   1.0s\n",
      "[CV] END ccp_alpha=0, class_weight=None, max_depth=10, n_estimators=400; total time=   1.0s\n",
      "[CV] END ccp_alpha=0, class_weight=None, max_depth=20, n_estimators=50; total time=   0.2s\n",
      "[CV] END ccp_alpha=0, class_weight=None, max_depth=20, n_estimators=50; total time=   0.2s\n",
      "[CV] END ccp_alpha=0, class_weight=None, max_depth=20, n_estimators=50; total time=   0.2s\n",
      "[CV] END ccp_alpha=0, class_weight=None, max_depth=20, n_estimators=50; total time=   0.2s\n",
      "[CV] END ccp_alpha=0, class_weight=None, max_depth=20, n_estimators=50; total time=   0.2s\n",
      "[CV] END ccp_alpha=0, class_weight=None, max_depth=20, n_estimators=100; total time=   0.3s\n",
      "[CV] END ccp_alpha=0, class_weight=None, max_depth=20, n_estimators=100; total time=   0.4s\n",
      "[CV] END ccp_alpha=0, class_weight=None, max_depth=20, n_estimators=100; total time=   0.4s\n",
      "[CV] END ccp_alpha=0, class_weight=None, max_depth=20, n_estimators=100; total time=   0.3s\n",
      "[CV] END ccp_alpha=0, class_weight=None, max_depth=20, n_estimators=100; total time=   0.3s\n",
      "[CV] END ccp_alpha=0, class_weight=None, max_depth=20, n_estimators=200; total time=   0.6s\n",
      "[CV] END ccp_alpha=0, class_weight=None, max_depth=20, n_estimators=200; total time=   0.5s\n",
      "[CV] END ccp_alpha=0, class_weight=None, max_depth=20, n_estimators=200; total time=   0.5s\n",
      "[CV] END ccp_alpha=0, class_weight=None, max_depth=20, n_estimators=200; total time=   0.5s\n",
      "[CV] END ccp_alpha=0, class_weight=None, max_depth=20, n_estimators=200; total time=   0.5s\n",
      "[CV] END ccp_alpha=0, class_weight=None, max_depth=20, n_estimators=300; total time=   0.8s\n",
      "[CV] END ccp_alpha=0, class_weight=None, max_depth=20, n_estimators=300; total time=   0.8s\n",
      "[CV] END ccp_alpha=0, class_weight=None, max_depth=20, n_estimators=300; total time=   0.8s\n",
      "[CV] END ccp_alpha=0, class_weight=None, max_depth=20, n_estimators=300; total time=   0.8s\n",
      "[CV] END ccp_alpha=0, class_weight=None, max_depth=20, n_estimators=300; total time=   0.8s\n",
      "[CV] END ccp_alpha=0, class_weight=None, max_depth=20, n_estimators=400; total time=   1.1s\n",
      "[CV] END ccp_alpha=0, class_weight=None, max_depth=20, n_estimators=400; total time=   1.3s\n",
      "[CV] END ccp_alpha=0, class_weight=None, max_depth=20, n_estimators=400; total time=   1.1s\n",
      "[CV] END ccp_alpha=0, class_weight=None, max_depth=20, n_estimators=400; total time=   1.1s\n",
      "[CV] END ccp_alpha=0, class_weight=None, max_depth=20, n_estimators=400; total time=   1.2s\n",
      "[CV] END ccp_alpha=0, class_weight=None, max_depth=30, n_estimators=50; total time=   0.2s\n",
      "[CV] END ccp_alpha=0, class_weight=None, max_depth=30, n_estimators=50; total time=   0.2s\n",
      "[CV] END ccp_alpha=0, class_weight=None, max_depth=30, n_estimators=50; total time=   0.2s\n",
      "[CV] END ccp_alpha=0, class_weight=None, max_depth=30, n_estimators=50; total time=   0.2s\n",
      "[CV] END ccp_alpha=0, class_weight=None, max_depth=30, n_estimators=50; total time=   0.2s\n",
      "[CV] END ccp_alpha=0, class_weight=None, max_depth=30, n_estimators=100; total time=   0.3s\n",
      "[CV] END ccp_alpha=0, class_weight=None, max_depth=30, n_estimators=100; total time=   0.3s\n",
      "[CV] END ccp_alpha=0, class_weight=None, max_depth=30, n_estimators=100; total time=   0.4s\n",
      "[CV] END ccp_alpha=0, class_weight=None, max_depth=30, n_estimators=100; total time=   0.4s\n",
      "[CV] END ccp_alpha=0, class_weight=None, max_depth=30, n_estimators=100; total time=   0.4s\n",
      "[CV] END ccp_alpha=0, class_weight=None, max_depth=30, n_estimators=200; total time=   0.7s\n",
      "[CV] END ccp_alpha=0, class_weight=None, max_depth=30, n_estimators=200; total time=   0.7s\n",
      "[CV] END ccp_alpha=0, class_weight=None, max_depth=30, n_estimators=200; total time=   0.6s\n",
      "[CV] END ccp_alpha=0, class_weight=None, max_depth=30, n_estimators=200; total time=   0.6s\n",
      "[CV] END ccp_alpha=0, class_weight=None, max_depth=30, n_estimators=200; total time=   0.6s\n",
      "[CV] END ccp_alpha=0, class_weight=None, max_depth=30, n_estimators=300; total time=   0.9s\n",
      "[CV] END ccp_alpha=0, class_weight=None, max_depth=30, n_estimators=300; total time=   0.9s\n",
      "[CV] END ccp_alpha=0, class_weight=None, max_depth=30, n_estimators=300; total time=   0.9s\n",
      "[CV] END ccp_alpha=0, class_weight=None, max_depth=30, n_estimators=300; total time=   0.9s\n",
      "[CV] END ccp_alpha=0, class_weight=None, max_depth=30, n_estimators=300; total time=   0.9s\n",
      "[CV] END ccp_alpha=0, class_weight=None, max_depth=30, n_estimators=400; total time=   1.4s\n",
      "[CV] END ccp_alpha=0, class_weight=None, max_depth=30, n_estimators=400; total time=   1.3s\n",
      "[CV] END ccp_alpha=0, class_weight=None, max_depth=30, n_estimators=400; total time=   1.2s\n",
      "[CV] END ccp_alpha=0, class_weight=None, max_depth=30, n_estimators=400; total time=   1.2s\n",
      "[CV] END ccp_alpha=0, class_weight=None, max_depth=30, n_estimators=400; total time=   1.3s\n",
      "[CV] END ccp_alpha=0, class_weight=balanced, max_depth=None, n_estimators=50; total time=   0.2s\n",
      "[CV] END ccp_alpha=0, class_weight=balanced, max_depth=None, n_estimators=50; total time=   0.2s\n",
      "[CV] END ccp_alpha=0, class_weight=balanced, max_depth=None, n_estimators=50; total time=   0.2s\n",
      "[CV] END ccp_alpha=0, class_weight=balanced, max_depth=None, n_estimators=50; total time=   0.2s\n",
      "[CV] END ccp_alpha=0, class_weight=balanced, max_depth=None, n_estimators=50; total time=   0.2s\n",
      "[CV] END ccp_alpha=0, class_weight=balanced, max_depth=None, n_estimators=100; total time=   0.4s\n",
      "[CV] END ccp_alpha=0, class_weight=balanced, max_depth=None, n_estimators=100; total time=   0.4s\n",
      "[CV] END ccp_alpha=0, class_weight=balanced, max_depth=None, n_estimators=100; total time=   0.4s\n",
      "[CV] END ccp_alpha=0, class_weight=balanced, max_depth=None, n_estimators=100; total time=   0.3s\n",
      "[CV] END ccp_alpha=0, class_weight=balanced, max_depth=None, n_estimators=100; total time=   0.3s\n",
      "[CV] END ccp_alpha=0, class_weight=balanced, max_depth=None, n_estimators=200; total time=   0.6s\n",
      "[CV] END ccp_alpha=0, class_weight=balanced, max_depth=None, n_estimators=200; total time=   0.7s\n",
      "[CV] END ccp_alpha=0, class_weight=balanced, max_depth=None, n_estimators=200; total time=   0.6s\n",
      "[CV] END ccp_alpha=0, class_weight=balanced, max_depth=None, n_estimators=200; total time=   0.7s\n",
      "[CV] END ccp_alpha=0, class_weight=balanced, max_depth=None, n_estimators=200; total time=   0.6s\n",
      "[CV] END ccp_alpha=0, class_weight=balanced, max_depth=None, n_estimators=300; total time=   1.0s\n",
      "[CV] END ccp_alpha=0, class_weight=balanced, max_depth=None, n_estimators=300; total time=   0.9s\n",
      "[CV] END ccp_alpha=0, class_weight=balanced, max_depth=None, n_estimators=300; total time=   0.9s\n",
      "[CV] END ccp_alpha=0, class_weight=balanced, max_depth=None, n_estimators=300; total time=   0.9s\n",
      "[CV] END ccp_alpha=0, class_weight=balanced, max_depth=None, n_estimators=300; total time=   0.9s\n",
      "[CV] END ccp_alpha=0, class_weight=balanced, max_depth=None, n_estimators=400; total time=   1.3s\n",
      "[CV] END ccp_alpha=0, class_weight=balanced, max_depth=None, n_estimators=400; total time=   1.2s\n",
      "[CV] END ccp_alpha=0, class_weight=balanced, max_depth=None, n_estimators=400; total time=   1.2s\n",
      "[CV] END ccp_alpha=0, class_weight=balanced, max_depth=None, n_estimators=400; total time=   1.2s\n",
      "[CV] END ccp_alpha=0, class_weight=balanced, max_depth=None, n_estimators=400; total time=   1.2s\n",
      "[CV] END ccp_alpha=0, class_weight=balanced, max_depth=10, n_estimators=50; total time=   0.1s\n",
      "[CV] END ccp_alpha=0, class_weight=balanced, max_depth=10, n_estimators=50; total time=   0.1s\n",
      "[CV] END ccp_alpha=0, class_weight=balanced, max_depth=10, n_estimators=50; total time=   0.1s\n",
      "[CV] END ccp_alpha=0, class_weight=balanced, max_depth=10, n_estimators=50; total time=   0.1s\n",
      "[CV] END ccp_alpha=0, class_weight=balanced, max_depth=10, n_estimators=50; total time=   0.1s\n",
      "[CV] END ccp_alpha=0, class_weight=balanced, max_depth=10, n_estimators=100; total time=   0.2s\n",
      "[CV] END ccp_alpha=0, class_weight=balanced, max_depth=10, n_estimators=100; total time=   0.2s\n",
      "[CV] END ccp_alpha=0, class_weight=balanced, max_depth=10, n_estimators=100; total time=   0.2s\n",
      "[CV] END ccp_alpha=0, class_weight=balanced, max_depth=10, n_estimators=100; total time=   0.2s\n",
      "[CV] END ccp_alpha=0, class_weight=balanced, max_depth=10, n_estimators=100; total time=   0.2s\n",
      "[CV] END ccp_alpha=0, class_weight=balanced, max_depth=10, n_estimators=200; total time=   0.5s\n",
      "[CV] END ccp_alpha=0, class_weight=balanced, max_depth=10, n_estimators=200; total time=   0.5s\n",
      "[CV] END ccp_alpha=0, class_weight=balanced, max_depth=10, n_estimators=200; total time=   0.4s\n",
      "[CV] END ccp_alpha=0, class_weight=balanced, max_depth=10, n_estimators=200; total time=   0.4s\n",
      "[CV] END ccp_alpha=0, class_weight=balanced, max_depth=10, n_estimators=200; total time=   0.4s\n",
      "[CV] END ccp_alpha=0, class_weight=balanced, max_depth=10, n_estimators=300; total time=   0.6s\n",
      "[CV] END ccp_alpha=0, class_weight=balanced, max_depth=10, n_estimators=300; total time=   0.6s\n",
      "[CV] END ccp_alpha=0, class_weight=balanced, max_depth=10, n_estimators=300; total time=   0.6s\n",
      "[CV] END ccp_alpha=0, class_weight=balanced, max_depth=10, n_estimators=300; total time=   0.6s\n",
      "[CV] END ccp_alpha=0, class_weight=balanced, max_depth=10, n_estimators=300; total time=   0.6s\n",
      "[CV] END ccp_alpha=0, class_weight=balanced, max_depth=10, n_estimators=400; total time=   0.9s\n",
      "[CV] END ccp_alpha=0, class_weight=balanced, max_depth=10, n_estimators=400; total time=   1.0s\n",
      "[CV] END ccp_alpha=0, class_weight=balanced, max_depth=10, n_estimators=400; total time=   0.9s\n",
      "[CV] END ccp_alpha=0, class_weight=balanced, max_depth=10, n_estimators=400; total time=   0.9s\n",
      "[CV] END ccp_alpha=0, class_weight=balanced, max_depth=10, n_estimators=400; total time=   0.8s\n",
      "[CV] END ccp_alpha=0, class_weight=balanced, max_depth=20, n_estimators=50; total time=   0.2s\n",
      "[CV] END ccp_alpha=0, class_weight=balanced, max_depth=20, n_estimators=50; total time=   0.2s\n",
      "[CV] END ccp_alpha=0, class_weight=balanced, max_depth=20, n_estimators=50; total time=   0.2s\n",
      "[CV] END ccp_alpha=0, class_weight=balanced, max_depth=20, n_estimators=50; total time=   0.2s\n",
      "[CV] END ccp_alpha=0, class_weight=balanced, max_depth=20, n_estimators=50; total time=   0.2s\n",
      "[CV] END ccp_alpha=0, class_weight=balanced, max_depth=20, n_estimators=100; total time=   0.3s\n",
      "[CV] END ccp_alpha=0, class_weight=balanced, max_depth=20, n_estimators=100; total time=   0.3s\n",
      "[CV] END ccp_alpha=0, class_weight=balanced, max_depth=20, n_estimators=100; total time=   0.3s\n",
      "[CV] END ccp_alpha=0, class_weight=balanced, max_depth=20, n_estimators=100; total time=   0.3s\n",
      "[CV] END ccp_alpha=0, class_weight=balanced, max_depth=20, n_estimators=100; total time=   0.3s\n",
      "[CV] END ccp_alpha=0, class_weight=balanced, max_depth=20, n_estimators=200; total time=   0.6s\n",
      "[CV] END ccp_alpha=0, class_weight=balanced, max_depth=20, n_estimators=200; total time=   0.6s\n",
      "[CV] END ccp_alpha=0, class_weight=balanced, max_depth=20, n_estimators=200; total time=   0.6s\n",
      "[CV] END ccp_alpha=0, class_weight=balanced, max_depth=20, n_estimators=200; total time=   0.5s\n",
      "[CV] END ccp_alpha=0, class_weight=balanced, max_depth=20, n_estimators=200; total time=   0.6s\n",
      "[CV] END ccp_alpha=0, class_weight=balanced, max_depth=20, n_estimators=300; total time=   0.8s\n",
      "[CV] END ccp_alpha=0, class_weight=balanced, max_depth=20, n_estimators=300; total time=   0.8s\n",
      "[CV] END ccp_alpha=0, class_weight=balanced, max_depth=20, n_estimators=300; total time=   0.9s\n",
      "[CV] END ccp_alpha=0, class_weight=balanced, max_depth=20, n_estimators=300; total time=   0.8s\n",
      "[CV] END ccp_alpha=0, class_weight=balanced, max_depth=20, n_estimators=300; total time=   0.8s\n",
      "[CV] END ccp_alpha=0, class_weight=balanced, max_depth=20, n_estimators=400; total time=   1.2s\n",
      "[CV] END ccp_alpha=0, class_weight=balanced, max_depth=20, n_estimators=400; total time=   1.1s\n",
      "[CV] END ccp_alpha=0, class_weight=balanced, max_depth=20, n_estimators=400; total time=   1.1s\n",
      "[CV] END ccp_alpha=0, class_weight=balanced, max_depth=20, n_estimators=400; total time=   1.0s\n",
      "[CV] END ccp_alpha=0, class_weight=balanced, max_depth=20, n_estimators=400; total time=   1.1s\n",
      "[CV] END ccp_alpha=0, class_weight=balanced, max_depth=30, n_estimators=50; total time=   0.2s\n",
      "[CV] END ccp_alpha=0, class_weight=balanced, max_depth=30, n_estimators=50; total time=   0.2s\n",
      "[CV] END ccp_alpha=0, class_weight=balanced, max_depth=30, n_estimators=50; total time=   0.2s\n",
      "[CV] END ccp_alpha=0, class_weight=balanced, max_depth=30, n_estimators=50; total time=   0.2s\n",
      "[CV] END ccp_alpha=0, class_weight=balanced, max_depth=30, n_estimators=50; total time=   0.2s\n",
      "[CV] END ccp_alpha=0, class_weight=balanced, max_depth=30, n_estimators=100; total time=   0.3s\n",
      "[CV] END ccp_alpha=0, class_weight=balanced, max_depth=30, n_estimators=100; total time=   0.3s\n",
      "[CV] END ccp_alpha=0, class_weight=balanced, max_depth=30, n_estimators=100; total time=   0.3s\n",
      "[CV] END ccp_alpha=0, class_weight=balanced, max_depth=30, n_estimators=100; total time=   0.3s\n",
      "[CV] END ccp_alpha=0, class_weight=balanced, max_depth=30, n_estimators=100; total time=   0.3s\n",
      "[CV] END ccp_alpha=0, class_weight=balanced, max_depth=30, n_estimators=200; total time=   0.6s\n",
      "[CV] END ccp_alpha=0, class_weight=balanced, max_depth=30, n_estimators=200; total time=   0.6s\n",
      "[CV] END ccp_alpha=0, class_weight=balanced, max_depth=30, n_estimators=200; total time=   0.6s\n",
      "[CV] END ccp_alpha=0, class_weight=balanced, max_depth=30, n_estimators=200; total time=   0.6s\n",
      "[CV] END ccp_alpha=0, class_weight=balanced, max_depth=30, n_estimators=200; total time=   0.6s\n",
      "[CV] END ccp_alpha=0, class_weight=balanced, max_depth=30, n_estimators=300; total time=   0.9s\n",
      "[CV] END ccp_alpha=0, class_weight=balanced, max_depth=30, n_estimators=300; total time=   0.9s\n",
      "[CV] END ccp_alpha=0, class_weight=balanced, max_depth=30, n_estimators=300; total time=   0.9s\n",
      "[CV] END ccp_alpha=0, class_weight=balanced, max_depth=30, n_estimators=300; total time=   0.9s\n",
      "[CV] END ccp_alpha=0, class_weight=balanced, max_depth=30, n_estimators=300; total time=   0.9s\n",
      "[CV] END ccp_alpha=0, class_weight=balanced, max_depth=30, n_estimators=400; total time=   1.2s\n",
      "[CV] END ccp_alpha=0, class_weight=balanced, max_depth=30, n_estimators=400; total time=   1.2s\n",
      "[CV] END ccp_alpha=0, class_weight=balanced, max_depth=30, n_estimators=400; total time=   1.2s\n",
      "[CV] END ccp_alpha=0, class_weight=balanced, max_depth=30, n_estimators=400; total time=   1.2s\n",
      "[CV] END ccp_alpha=0, class_weight=balanced, max_depth=30, n_estimators=400; total time=   1.2s\n",
      "[CV] END ccp_alpha=0, class_weight=balanced_subsample, max_depth=None, n_estimators=50; total time=   0.2s\n",
      "[CV] END ccp_alpha=0, class_weight=balanced_subsample, max_depth=None, n_estimators=50; total time=   0.2s\n",
      "[CV] END ccp_alpha=0, class_weight=balanced_subsample, max_depth=None, n_estimators=50; total time=   0.2s\n",
      "[CV] END ccp_alpha=0, class_weight=balanced_subsample, max_depth=None, n_estimators=50; total time=   0.2s\n",
      "[CV] END ccp_alpha=0, class_weight=balanced_subsample, max_depth=None, n_estimators=50; total time=   0.2s\n",
      "[CV] END ccp_alpha=0, class_weight=balanced_subsample, max_depth=None, n_estimators=100; total time=   0.4s\n",
      "[CV] END ccp_alpha=0, class_weight=balanced_subsample, max_depth=None, n_estimators=100; total time=   0.4s\n",
      "[CV] END ccp_alpha=0, class_weight=balanced_subsample, max_depth=None, n_estimators=100; total time=   0.4s\n",
      "[CV] END ccp_alpha=0, class_weight=balanced_subsample, max_depth=None, n_estimators=100; total time=   0.4s\n",
      "[CV] END ccp_alpha=0, class_weight=balanced_subsample, max_depth=None, n_estimators=100; total time=   0.4s\n",
      "[CV] END ccp_alpha=0, class_weight=balanced_subsample, max_depth=None, n_estimators=200; total time=   0.8s\n",
      "[CV] END ccp_alpha=0, class_weight=balanced_subsample, max_depth=None, n_estimators=200; total time=   0.8s\n",
      "[CV] END ccp_alpha=0, class_weight=balanced_subsample, max_depth=None, n_estimators=200; total time=   0.8s\n",
      "[CV] END ccp_alpha=0, class_weight=balanced_subsample, max_depth=None, n_estimators=200; total time=   0.9s\n",
      "[CV] END ccp_alpha=0, class_weight=balanced_subsample, max_depth=None, n_estimators=200; total time=   0.8s\n",
      "[CV] END ccp_alpha=0, class_weight=balanced_subsample, max_depth=None, n_estimators=300; total time=   1.1s\n",
      "[CV] END ccp_alpha=0, class_weight=balanced_subsample, max_depth=None, n_estimators=300; total time=   1.1s\n",
      "[CV] END ccp_alpha=0, class_weight=balanced_subsample, max_depth=None, n_estimators=300; total time=   1.2s\n",
      "[CV] END ccp_alpha=0, class_weight=balanced_subsample, max_depth=None, n_estimators=300; total time=   1.3s\n",
      "[CV] END ccp_alpha=0, class_weight=balanced_subsample, max_depth=None, n_estimators=300; total time=   1.3s\n",
      "[CV] END ccp_alpha=0, class_weight=balanced_subsample, max_depth=None, n_estimators=400; total time=   1.6s\n",
      "[CV] END ccp_alpha=0, class_weight=balanced_subsample, max_depth=None, n_estimators=400; total time=   1.6s\n",
      "[CV] END ccp_alpha=0, class_weight=balanced_subsample, max_depth=None, n_estimators=400; total time=   1.5s\n",
      "[CV] END ccp_alpha=0, class_weight=balanced_subsample, max_depth=None, n_estimators=400; total time=   1.4s\n",
      "[CV] END ccp_alpha=0, class_weight=balanced_subsample, max_depth=None, n_estimators=400; total time=   1.5s\n",
      "[CV] END ccp_alpha=0, class_weight=balanced_subsample, max_depth=10, n_estimators=50; total time=   0.2s\n",
      "[CV] END ccp_alpha=0, class_weight=balanced_subsample, max_depth=10, n_estimators=50; total time=   0.2s\n",
      "[CV] END ccp_alpha=0, class_weight=balanced_subsample, max_depth=10, n_estimators=50; total time=   0.2s\n",
      "[CV] END ccp_alpha=0, class_weight=balanced_subsample, max_depth=10, n_estimators=50; total time=   0.2s\n",
      "[CV] END ccp_alpha=0, class_weight=balanced_subsample, max_depth=10, n_estimators=50; total time=   0.2s\n",
      "[CV] END ccp_alpha=0, class_weight=balanced_subsample, max_depth=10, n_estimators=100; total time=   0.3s\n",
      "[CV] END ccp_alpha=0, class_weight=balanced_subsample, max_depth=10, n_estimators=100; total time=   0.3s\n",
      "[CV] END ccp_alpha=0, class_weight=balanced_subsample, max_depth=10, n_estimators=100; total time=   0.3s\n",
      "[CV] END ccp_alpha=0, class_weight=balanced_subsample, max_depth=10, n_estimators=100; total time=   0.3s\n",
      "[CV] END ccp_alpha=0, class_weight=balanced_subsample, max_depth=10, n_estimators=100; total time=   0.3s\n",
      "[CV] END ccp_alpha=0, class_weight=balanced_subsample, max_depth=10, n_estimators=200; total time=   0.6s\n",
      "[CV] END ccp_alpha=0, class_weight=balanced_subsample, max_depth=10, n_estimators=200; total time=   0.6s\n",
      "[CV] END ccp_alpha=0, class_weight=balanced_subsample, max_depth=10, n_estimators=200; total time=   0.6s\n",
      "[CV] END ccp_alpha=0, class_weight=balanced_subsample, max_depth=10, n_estimators=200; total time=   0.6s\n",
      "[CV] END ccp_alpha=0, class_weight=balanced_subsample, max_depth=10, n_estimators=200; total time=   0.6s\n",
      "[CV] END ccp_alpha=0, class_weight=balanced_subsample, max_depth=10, n_estimators=300; total time=   0.9s\n",
      "[CV] END ccp_alpha=0, class_weight=balanced_subsample, max_depth=10, n_estimators=300; total time=   0.9s\n",
      "[CV] END ccp_alpha=0, class_weight=balanced_subsample, max_depth=10, n_estimators=300; total time=   0.8s\n",
      "[CV] END ccp_alpha=0, class_weight=balanced_subsample, max_depth=10, n_estimators=300; total time=   0.9s\n",
      "[CV] END ccp_alpha=0, class_weight=balanced_subsample, max_depth=10, n_estimators=300; total time=   0.9s\n",
      "[CV] END ccp_alpha=0, class_weight=balanced_subsample, max_depth=10, n_estimators=400; total time=   1.2s\n",
      "[CV] END ccp_alpha=0, class_weight=balanced_subsample, max_depth=10, n_estimators=400; total time=   1.1s\n",
      "[CV] END ccp_alpha=0, class_weight=balanced_subsample, max_depth=10, n_estimators=400; total time=   1.3s\n",
      "[CV] END ccp_alpha=0, class_weight=balanced_subsample, max_depth=10, n_estimators=400; total time=   1.2s\n",
      "[CV] END ccp_alpha=0, class_weight=balanced_subsample, max_depth=10, n_estimators=400; total time=   1.2s\n",
      "[CV] END ccp_alpha=0, class_weight=balanced_subsample, max_depth=20, n_estimators=50; total time=   0.2s\n",
      "[CV] END ccp_alpha=0, class_weight=balanced_subsample, max_depth=20, n_estimators=50; total time=   0.2s\n",
      "[CV] END ccp_alpha=0, class_weight=balanced_subsample, max_depth=20, n_estimators=50; total time=   0.2s\n",
      "[CV] END ccp_alpha=0, class_weight=balanced_subsample, max_depth=20, n_estimators=50; total time=   0.2s\n",
      "[CV] END ccp_alpha=0, class_weight=balanced_subsample, max_depth=20, n_estimators=50; total time=   0.2s\n",
      "[CV] END ccp_alpha=0, class_weight=balanced_subsample, max_depth=20, n_estimators=100; total time=   0.4s\n",
      "[CV] END ccp_alpha=0, class_weight=balanced_subsample, max_depth=20, n_estimators=100; total time=   0.4s\n",
      "[CV] END ccp_alpha=0, class_weight=balanced_subsample, max_depth=20, n_estimators=100; total time=   0.4s\n",
      "[CV] END ccp_alpha=0, class_weight=balanced_subsample, max_depth=20, n_estimators=100; total time=   0.4s\n",
      "[CV] END ccp_alpha=0, class_weight=balanced_subsample, max_depth=20, n_estimators=100; total time=   0.4s\n",
      "[CV] END ccp_alpha=0, class_weight=balanced_subsample, max_depth=20, n_estimators=200; total time=   0.7s\n",
      "[CV] END ccp_alpha=0, class_weight=balanced_subsample, max_depth=20, n_estimators=200; total time=   0.7s\n",
      "[CV] END ccp_alpha=0, class_weight=balanced_subsample, max_depth=20, n_estimators=200; total time=   0.7s\n",
      "[CV] END ccp_alpha=0, class_weight=balanced_subsample, max_depth=20, n_estimators=200; total time=   0.7s\n",
      "[CV] END ccp_alpha=0, class_weight=balanced_subsample, max_depth=20, n_estimators=200; total time=   0.7s\n",
      "[CV] END ccp_alpha=0, class_weight=balanced_subsample, max_depth=20, n_estimators=300; total time=   1.1s\n",
      "[CV] END ccp_alpha=0, class_weight=balanced_subsample, max_depth=20, n_estimators=300; total time=   1.0s\n",
      "[CV] END ccp_alpha=0, class_weight=balanced_subsample, max_depth=20, n_estimators=300; total time=   1.0s\n",
      "[CV] END ccp_alpha=0, class_weight=balanced_subsample, max_depth=20, n_estimators=300; total time=   1.0s\n",
      "[CV] END ccp_alpha=0, class_weight=balanced_subsample, max_depth=20, n_estimators=300; total time=   1.1s\n",
      "[CV] END ccp_alpha=0, class_weight=balanced_subsample, max_depth=20, n_estimators=400; total time=   1.4s\n",
      "[CV] END ccp_alpha=0, class_weight=balanced_subsample, max_depth=20, n_estimators=400; total time=   1.4s\n",
      "[CV] END ccp_alpha=0, class_weight=balanced_subsample, max_depth=20, n_estimators=400; total time=   1.3s\n",
      "[CV] END ccp_alpha=0, class_weight=balanced_subsample, max_depth=20, n_estimators=400; total time=   1.3s\n",
      "[CV] END ccp_alpha=0, class_weight=balanced_subsample, max_depth=20, n_estimators=400; total time=   1.4s\n",
      "[CV] END ccp_alpha=0, class_weight=balanced_subsample, max_depth=30, n_estimators=50; total time=   0.2s\n",
      "[CV] END ccp_alpha=0, class_weight=balanced_subsample, max_depth=30, n_estimators=50; total time=   0.2s\n",
      "[CV] END ccp_alpha=0, class_weight=balanced_subsample, max_depth=30, n_estimators=50; total time=   0.2s\n",
      "[CV] END ccp_alpha=0, class_weight=balanced_subsample, max_depth=30, n_estimators=50; total time=   0.2s\n",
      "[CV] END ccp_alpha=0, class_weight=balanced_subsample, max_depth=30, n_estimators=50; total time=   0.2s\n",
      "[CV] END ccp_alpha=0, class_weight=balanced_subsample, max_depth=30, n_estimators=100; total time=   0.4s\n",
      "[CV] END ccp_alpha=0, class_weight=balanced_subsample, max_depth=30, n_estimators=100; total time=   0.4s\n",
      "[CV] END ccp_alpha=0, class_weight=balanced_subsample, max_depth=30, n_estimators=100; total time=   0.4s\n",
      "[CV] END ccp_alpha=0, class_weight=balanced_subsample, max_depth=30, n_estimators=100; total time=   0.4s\n",
      "[CV] END ccp_alpha=0, class_weight=balanced_subsample, max_depth=30, n_estimators=100; total time=   0.4s\n",
      "[CV] END ccp_alpha=0, class_weight=balanced_subsample, max_depth=30, n_estimators=200; total time=   0.7s\n",
      "[CV] END ccp_alpha=0, class_weight=balanced_subsample, max_depth=30, n_estimators=200; total time=   0.8s\n",
      "[CV] END ccp_alpha=0, class_weight=balanced_subsample, max_depth=30, n_estimators=200; total time=   0.8s\n",
      "[CV] END ccp_alpha=0, class_weight=balanced_subsample, max_depth=30, n_estimators=200; total time=   0.7s\n",
      "[CV] END ccp_alpha=0, class_weight=balanced_subsample, max_depth=30, n_estimators=200; total time=   0.7s\n",
      "[CV] END ccp_alpha=0, class_weight=balanced_subsample, max_depth=30, n_estimators=300; total time=   1.1s\n",
      "[CV] END ccp_alpha=0, class_weight=balanced_subsample, max_depth=30, n_estimators=300; total time=   1.2s\n",
      "[CV] END ccp_alpha=0, class_weight=balanced_subsample, max_depth=30, n_estimators=300; total time=   1.3s\n",
      "[CV] END ccp_alpha=0, class_weight=balanced_subsample, max_depth=30, n_estimators=300; total time=   1.2s\n",
      "[CV] END ccp_alpha=0, class_weight=balanced_subsample, max_depth=30, n_estimators=300; total time=   1.1s\n",
      "[CV] END ccp_alpha=0, class_weight=balanced_subsample, max_depth=30, n_estimators=400; total time=   1.5s\n",
      "[CV] END ccp_alpha=0, class_weight=balanced_subsample, max_depth=30, n_estimators=400; total time=   1.5s\n",
      "[CV] END ccp_alpha=0, class_weight=balanced_subsample, max_depth=30, n_estimators=400; total time=   1.5s\n",
      "[CV] END ccp_alpha=0, class_weight=balanced_subsample, max_depth=30, n_estimators=400; total time=   1.6s\n",
      "[CV] END ccp_alpha=0, class_weight=balanced_subsample, max_depth=30, n_estimators=400; total time=   1.4s\n",
      "[CV] END ccp_alpha=0, class_weight={0: 1, 1: 2}, max_depth=None, n_estimators=50; total time=   0.2s\n",
      "[CV] END ccp_alpha=0, class_weight={0: 1, 1: 2}, max_depth=None, n_estimators=50; total time=   0.2s\n",
      "[CV] END ccp_alpha=0, class_weight={0: 1, 1: 2}, max_depth=None, n_estimators=50; total time=   0.2s\n",
      "[CV] END ccp_alpha=0, class_weight={0: 1, 1: 2}, max_depth=None, n_estimators=50; total time=   0.2s\n",
      "[CV] END ccp_alpha=0, class_weight={0: 1, 1: 2}, max_depth=None, n_estimators=50; total time=   0.2s\n",
      "[CV] END ccp_alpha=0, class_weight={0: 1, 1: 2}, max_depth=None, n_estimators=100; total time=   0.3s\n",
      "[CV] END ccp_alpha=0, class_weight={0: 1, 1: 2}, max_depth=None, n_estimators=100; total time=   0.4s\n",
      "[CV] END ccp_alpha=0, class_weight={0: 1, 1: 2}, max_depth=None, n_estimators=100; total time=   0.4s\n",
      "[CV] END ccp_alpha=0, class_weight={0: 1, 1: 2}, max_depth=None, n_estimators=100; total time=   0.4s\n",
      "[CV] END ccp_alpha=0, class_weight={0: 1, 1: 2}, max_depth=None, n_estimators=100; total time=   0.3s\n",
      "[CV] END ccp_alpha=0, class_weight={0: 1, 1: 2}, max_depth=None, n_estimators=200; total time=   0.6s\n",
      "[CV] END ccp_alpha=0, class_weight={0: 1, 1: 2}, max_depth=None, n_estimators=200; total time=   0.7s\n",
      "[CV] END ccp_alpha=0, class_weight={0: 1, 1: 2}, max_depth=None, n_estimators=200; total time=   0.6s\n",
      "[CV] END ccp_alpha=0, class_weight={0: 1, 1: 2}, max_depth=None, n_estimators=200; total time=   0.7s\n",
      "[CV] END ccp_alpha=0, class_weight={0: 1, 1: 2}, max_depth=None, n_estimators=200; total time=   0.7s\n",
      "[CV] END ccp_alpha=0, class_weight={0: 1, 1: 2}, max_depth=None, n_estimators=300; total time=   1.0s\n",
      "[CV] END ccp_alpha=0, class_weight={0: 1, 1: 2}, max_depth=None, n_estimators=300; total time=   1.0s\n",
      "[CV] END ccp_alpha=0, class_weight={0: 1, 1: 2}, max_depth=None, n_estimators=300; total time=   1.0s\n",
      "[CV] END ccp_alpha=0, class_weight={0: 1, 1: 2}, max_depth=None, n_estimators=300; total time=   1.0s\n",
      "[CV] END ccp_alpha=0, class_weight={0: 1, 1: 2}, max_depth=None, n_estimators=300; total time=   0.9s\n",
      "[CV] END ccp_alpha=0, class_weight={0: 1, 1: 2}, max_depth=None, n_estimators=400; total time=   1.5s\n",
      "[CV] END ccp_alpha=0, class_weight={0: 1, 1: 2}, max_depth=None, n_estimators=400; total time=   1.3s\n",
      "[CV] END ccp_alpha=0, class_weight={0: 1, 1: 2}, max_depth=None, n_estimators=400; total time=   1.3s\n",
      "[CV] END ccp_alpha=0, class_weight={0: 1, 1: 2}, max_depth=None, n_estimators=400; total time=   1.4s\n",
      "[CV] END ccp_alpha=0, class_weight={0: 1, 1: 2}, max_depth=None, n_estimators=400; total time=   1.4s\n",
      "[CV] END ccp_alpha=0, class_weight={0: 1, 1: 2}, max_depth=10, n_estimators=50; total time=   0.2s\n",
      "[CV] END ccp_alpha=0, class_weight={0: 1, 1: 2}, max_depth=10, n_estimators=50; total time=   0.2s\n",
      "[CV] END ccp_alpha=0, class_weight={0: 1, 1: 2}, max_depth=10, n_estimators=50; total time=   0.1s\n",
      "[CV] END ccp_alpha=0, class_weight={0: 1, 1: 2}, max_depth=10, n_estimators=50; total time=   0.1s\n",
      "[CV] END ccp_alpha=0, class_weight={0: 1, 1: 2}, max_depth=10, n_estimators=50; total time=   0.1s\n",
      "[CV] END ccp_alpha=0, class_weight={0: 1, 1: 2}, max_depth=10, n_estimators=100; total time=   0.3s\n",
      "[CV] END ccp_alpha=0, class_weight={0: 1, 1: 2}, max_depth=10, n_estimators=100; total time=   0.2s\n",
      "[CV] END ccp_alpha=0, class_weight={0: 1, 1: 2}, max_depth=10, n_estimators=100; total time=   0.3s\n",
      "[CV] END ccp_alpha=0, class_weight={0: 1, 1: 2}, max_depth=10, n_estimators=100; total time=   0.3s\n",
      "[CV] END ccp_alpha=0, class_weight={0: 1, 1: 2}, max_depth=10, n_estimators=100; total time=   0.2s\n",
      "[CV] END ccp_alpha=0, class_weight={0: 1, 1: 2}, max_depth=10, n_estimators=200; total time=   0.4s\n",
      "[CV] END ccp_alpha=0, class_weight={0: 1, 1: 2}, max_depth=10, n_estimators=200; total time=   0.4s\n",
      "[CV] END ccp_alpha=0, class_weight={0: 1, 1: 2}, max_depth=10, n_estimators=200; total time=   0.4s\n",
      "[CV] END ccp_alpha=0, class_weight={0: 1, 1: 2}, max_depth=10, n_estimators=200; total time=   0.4s\n",
      "[CV] END ccp_alpha=0, class_weight={0: 1, 1: 2}, max_depth=10, n_estimators=200; total time=   0.4s\n",
      "[CV] END ccp_alpha=0, class_weight={0: 1, 1: 2}, max_depth=10, n_estimators=300; total time=   0.7s\n",
      "[CV] END ccp_alpha=0, class_weight={0: 1, 1: 2}, max_depth=10, n_estimators=300; total time=   0.6s\n",
      "[CV] END ccp_alpha=0, class_weight={0: 1, 1: 2}, max_depth=10, n_estimators=300; total time=   0.6s\n",
      "[CV] END ccp_alpha=0, class_weight={0: 1, 1: 2}, max_depth=10, n_estimators=300; total time=   0.6s\n",
      "[CV] END ccp_alpha=0, class_weight={0: 1, 1: 2}, max_depth=10, n_estimators=300; total time=   0.6s\n",
      "[CV] END ccp_alpha=0, class_weight={0: 1, 1: 2}, max_depth=10, n_estimators=400; total time=   0.8s\n",
      "[CV] END ccp_alpha=0, class_weight={0: 1, 1: 2}, max_depth=10, n_estimators=400; total time=   0.8s\n",
      "[CV] END ccp_alpha=0, class_weight={0: 1, 1: 2}, max_depth=10, n_estimators=400; total time=   0.8s\n",
      "[CV] END ccp_alpha=0, class_weight={0: 1, 1: 2}, max_depth=10, n_estimators=400; total time=   0.8s\n",
      "[CV] END ccp_alpha=0, class_weight={0: 1, 1: 2}, max_depth=10, n_estimators=400; total time=   0.8s\n",
      "[CV] END ccp_alpha=0, class_weight={0: 1, 1: 2}, max_depth=20, n_estimators=50; total time=   0.2s\n",
      "[CV] END ccp_alpha=0, class_weight={0: 1, 1: 2}, max_depth=20, n_estimators=50; total time=   0.2s\n",
      "[CV] END ccp_alpha=0, class_weight={0: 1, 1: 2}, max_depth=20, n_estimators=50; total time=   0.2s\n",
      "[CV] END ccp_alpha=0, class_weight={0: 1, 1: 2}, max_depth=20, n_estimators=50; total time=   0.2s\n",
      "[CV] END ccp_alpha=0, class_weight={0: 1, 1: 2}, max_depth=20, n_estimators=50; total time=   0.2s\n",
      "[CV] END ccp_alpha=0, class_weight={0: 1, 1: 2}, max_depth=20, n_estimators=100; total time=   0.3s\n",
      "[CV] END ccp_alpha=0, class_weight={0: 1, 1: 2}, max_depth=20, n_estimators=100; total time=   0.3s\n",
      "[CV] END ccp_alpha=0, class_weight={0: 1, 1: 2}, max_depth=20, n_estimators=100; total time=   0.3s\n",
      "[CV] END ccp_alpha=0, class_weight={0: 1, 1: 2}, max_depth=20, n_estimators=100; total time=   0.3s\n",
      "[CV] END ccp_alpha=0, class_weight={0: 1, 1: 2}, max_depth=20, n_estimators=100; total time=   0.3s\n",
      "[CV] END ccp_alpha=0, class_weight={0: 1, 1: 2}, max_depth=20, n_estimators=200; total time=   0.5s\n",
      "[CV] END ccp_alpha=0, class_weight={0: 1, 1: 2}, max_depth=20, n_estimators=200; total time=   0.5s\n",
      "[CV] END ccp_alpha=0, class_weight={0: 1, 1: 2}, max_depth=20, n_estimators=200; total time=   0.5s\n",
      "[CV] END ccp_alpha=0, class_weight={0: 1, 1: 2}, max_depth=20, n_estimators=200; total time=   0.5s\n",
      "[CV] END ccp_alpha=0, class_weight={0: 1, 1: 2}, max_depth=20, n_estimators=200; total time=   0.5s\n",
      "[CV] END ccp_alpha=0, class_weight={0: 1, 1: 2}, max_depth=20, n_estimators=300; total time=   0.8s\n",
      "[CV] END ccp_alpha=0, class_weight={0: 1, 1: 2}, max_depth=20, n_estimators=300; total time=   0.8s\n",
      "[CV] END ccp_alpha=0, class_weight={0: 1, 1: 2}, max_depth=20, n_estimators=300; total time=   0.8s\n",
      "[CV] END ccp_alpha=0, class_weight={0: 1, 1: 2}, max_depth=20, n_estimators=300; total time=   0.8s\n",
      "[CV] END ccp_alpha=0, class_weight={0: 1, 1: 2}, max_depth=20, n_estimators=300; total time=   0.8s\n",
      "[CV] END ccp_alpha=0, class_weight={0: 1, 1: 2}, max_depth=20, n_estimators=400; total time=   1.0s\n",
      "[CV] END ccp_alpha=0, class_weight={0: 1, 1: 2}, max_depth=20, n_estimators=400; total time=   1.0s\n",
      "[CV] END ccp_alpha=0, class_weight={0: 1, 1: 2}, max_depth=20, n_estimators=400; total time=   1.0s\n",
      "[CV] END ccp_alpha=0, class_weight={0: 1, 1: 2}, max_depth=20, n_estimators=400; total time=   1.0s\n",
      "[CV] END ccp_alpha=0, class_weight={0: 1, 1: 2}, max_depth=20, n_estimators=400; total time=   1.0s\n",
      "[CV] END ccp_alpha=0, class_weight={0: 1, 1: 2}, max_depth=30, n_estimators=50; total time=   0.2s\n",
      "[CV] END ccp_alpha=0, class_weight={0: 1, 1: 2}, max_depth=30, n_estimators=50; total time=   0.2s\n",
      "[CV] END ccp_alpha=0, class_weight={0: 1, 1: 2}, max_depth=30, n_estimators=50; total time=   0.2s\n",
      "[CV] END ccp_alpha=0, class_weight={0: 1, 1: 2}, max_depth=30, n_estimators=50; total time=   0.2s\n",
      "[CV] END ccp_alpha=0, class_weight={0: 1, 1: 2}, max_depth=30, n_estimators=50; total time=   0.2s\n",
      "[CV] END ccp_alpha=0, class_weight={0: 1, 1: 2}, max_depth=30, n_estimators=100; total time=   0.3s\n",
      "[CV] END ccp_alpha=0, class_weight={0: 1, 1: 2}, max_depth=30, n_estimators=100; total time=   0.3s\n",
      "[CV] END ccp_alpha=0, class_weight={0: 1, 1: 2}, max_depth=30, n_estimators=100; total time=   0.3s\n",
      "[CV] END ccp_alpha=0, class_weight={0: 1, 1: 2}, max_depth=30, n_estimators=100; total time=   0.3s\n",
      "[CV] END ccp_alpha=0, class_weight={0: 1, 1: 2}, max_depth=30, n_estimators=100; total time=   0.3s\n",
      "[CV] END ccp_alpha=0, class_weight={0: 1, 1: 2}, max_depth=30, n_estimators=200; total time=   0.6s\n",
      "[CV] END ccp_alpha=0, class_weight={0: 1, 1: 2}, max_depth=30, n_estimators=200; total time=   0.6s\n",
      "[CV] END ccp_alpha=0, class_weight={0: 1, 1: 2}, max_depth=30, n_estimators=200; total time=   0.6s\n",
      "[CV] END ccp_alpha=0, class_weight={0: 1, 1: 2}, max_depth=30, n_estimators=200; total time=   0.6s\n",
      "[CV] END ccp_alpha=0, class_weight={0: 1, 1: 2}, max_depth=30, n_estimators=200; total time=   0.6s\n",
      "[CV] END ccp_alpha=0, class_weight={0: 1, 1: 2}, max_depth=30, n_estimators=300; total time=   0.8s\n",
      "[CV] END ccp_alpha=0, class_weight={0: 1, 1: 2}, max_depth=30, n_estimators=300; total time=   0.9s\n",
      "[CV] END ccp_alpha=0, class_weight={0: 1, 1: 2}, max_depth=30, n_estimators=300; total time=   0.9s\n",
      "[CV] END ccp_alpha=0, class_weight={0: 1, 1: 2}, max_depth=30, n_estimators=300; total time=   0.9s\n",
      "[CV] END ccp_alpha=0, class_weight={0: 1, 1: 2}, max_depth=30, n_estimators=300; total time=   0.9s\n",
      "[CV] END ccp_alpha=0, class_weight={0: 1, 1: 2}, max_depth=30, n_estimators=400; total time=   1.1s\n",
      "[CV] END ccp_alpha=0, class_weight={0: 1, 1: 2}, max_depth=30, n_estimators=400; total time=   1.1s\n",
      "[CV] END ccp_alpha=0, class_weight={0: 1, 1: 2}, max_depth=30, n_estimators=400; total time=   1.1s\n",
      "[CV] END ccp_alpha=0, class_weight={0: 1, 1: 2}, max_depth=30, n_estimators=400; total time=   1.2s\n",
      "[CV] END ccp_alpha=0, class_weight={0: 1, 1: 2}, max_depth=30, n_estimators=400; total time=   1.2s\n",
      "[CV] END ccp_alpha=0, class_weight={0: 1, 1: 3}, max_depth=None, n_estimators=50; total time=   0.2s\n",
      "[CV] END ccp_alpha=0, class_weight={0: 1, 1: 3}, max_depth=None, n_estimators=50; total time=   0.2s\n",
      "[CV] END ccp_alpha=0, class_weight={0: 1, 1: 3}, max_depth=None, n_estimators=50; total time=   0.2s\n",
      "[CV] END ccp_alpha=0, class_weight={0: 1, 1: 3}, max_depth=None, n_estimators=50; total time=   0.2s\n",
      "[CV] END ccp_alpha=0, class_weight={0: 1, 1: 3}, max_depth=None, n_estimators=50; total time=   0.2s\n",
      "[CV] END ccp_alpha=0, class_weight={0: 1, 1: 3}, max_depth=None, n_estimators=100; total time=   0.3s\n",
      "[CV] END ccp_alpha=0, class_weight={0: 1, 1: 3}, max_depth=None, n_estimators=100; total time=   0.3s\n",
      "[CV] END ccp_alpha=0, class_weight={0: 1, 1: 3}, max_depth=None, n_estimators=100; total time=   0.3s\n",
      "[CV] END ccp_alpha=0, class_weight={0: 1, 1: 3}, max_depth=None, n_estimators=100; total time=   0.3s\n",
      "[CV] END ccp_alpha=0, class_weight={0: 1, 1: 3}, max_depth=None, n_estimators=100; total time=   0.3s\n",
      "[CV] END ccp_alpha=0, class_weight={0: 1, 1: 3}, max_depth=None, n_estimators=200; total time=   0.6s\n",
      "[CV] END ccp_alpha=0, class_weight={0: 1, 1: 3}, max_depth=None, n_estimators=200; total time=   0.6s\n",
      "[CV] END ccp_alpha=0, class_weight={0: 1, 1: 3}, max_depth=None, n_estimators=200; total time=   0.6s\n",
      "[CV] END ccp_alpha=0, class_weight={0: 1, 1: 3}, max_depth=None, n_estimators=200; total time=   0.6s\n",
      "[CV] END ccp_alpha=0, class_weight={0: 1, 1: 3}, max_depth=None, n_estimators=200; total time=   0.6s\n",
      "[CV] END ccp_alpha=0, class_weight={0: 1, 1: 3}, max_depth=None, n_estimators=300; total time=   0.9s\n",
      "[CV] END ccp_alpha=0, class_weight={0: 1, 1: 3}, max_depth=None, n_estimators=300; total time=   0.9s\n",
      "[CV] END ccp_alpha=0, class_weight={0: 1, 1: 3}, max_depth=None, n_estimators=300; total time=   0.9s\n",
      "[CV] END ccp_alpha=0, class_weight={0: 1, 1: 3}, max_depth=None, n_estimators=300; total time=   0.9s\n",
      "[CV] END ccp_alpha=0, class_weight={0: 1, 1: 3}, max_depth=None, n_estimators=300; total time=   0.9s\n",
      "[CV] END ccp_alpha=0, class_weight={0: 1, 1: 3}, max_depth=None, n_estimators=400; total time=   1.2s\n",
      "[CV] END ccp_alpha=0, class_weight={0: 1, 1: 3}, max_depth=None, n_estimators=400; total time=   1.2s\n",
      "[CV] END ccp_alpha=0, class_weight={0: 1, 1: 3}, max_depth=None, n_estimators=400; total time=   1.2s\n",
      "[CV] END ccp_alpha=0, class_weight={0: 1, 1: 3}, max_depth=None, n_estimators=400; total time=   1.2s\n",
      "[CV] END ccp_alpha=0, class_weight={0: 1, 1: 3}, max_depth=None, n_estimators=400; total time=   1.2s\n",
      "[CV] END ccp_alpha=0, class_weight={0: 1, 1: 3}, max_depth=10, n_estimators=50; total time=   0.1s\n",
      "[CV] END ccp_alpha=0, class_weight={0: 1, 1: 3}, max_depth=10, n_estimators=50; total time=   0.1s\n",
      "[CV] END ccp_alpha=0, class_weight={0: 1, 1: 3}, max_depth=10, n_estimators=50; total time=   0.1s\n",
      "[CV] END ccp_alpha=0, class_weight={0: 1, 1: 3}, max_depth=10, n_estimators=50; total time=   0.1s\n",
      "[CV] END ccp_alpha=0, class_weight={0: 1, 1: 3}, max_depth=10, n_estimators=50; total time=   0.1s\n",
      "[CV] END ccp_alpha=0, class_weight={0: 1, 1: 3}, max_depth=10, n_estimators=100; total time=   0.2s\n",
      "[CV] END ccp_alpha=0, class_weight={0: 1, 1: 3}, max_depth=10, n_estimators=100; total time=   0.2s\n",
      "[CV] END ccp_alpha=0, class_weight={0: 1, 1: 3}, max_depth=10, n_estimators=100; total time=   0.2s\n",
      "[CV] END ccp_alpha=0, class_weight={0: 1, 1: 3}, max_depth=10, n_estimators=100; total time=   0.2s\n",
      "[CV] END ccp_alpha=0, class_weight={0: 1, 1: 3}, max_depth=10, n_estimators=100; total time=   0.2s\n",
      "[CV] END ccp_alpha=0, class_weight={0: 1, 1: 3}, max_depth=10, n_estimators=200; total time=   0.4s\n",
      "[CV] END ccp_alpha=0, class_weight={0: 1, 1: 3}, max_depth=10, n_estimators=200; total time=   0.4s\n",
      "[CV] END ccp_alpha=0, class_weight={0: 1, 1: 3}, max_depth=10, n_estimators=200; total time=   0.4s\n",
      "[CV] END ccp_alpha=0, class_weight={0: 1, 1: 3}, max_depth=10, n_estimators=200; total time=   0.4s\n",
      "[CV] END ccp_alpha=0, class_weight={0: 1, 1: 3}, max_depth=10, n_estimators=200; total time=   0.4s\n",
      "[CV] END ccp_alpha=0, class_weight={0: 1, 1: 3}, max_depth=10, n_estimators=300; total time=   0.6s\n",
      "[CV] END ccp_alpha=0, class_weight={0: 1, 1: 3}, max_depth=10, n_estimators=300; total time=   0.6s\n",
      "[CV] END ccp_alpha=0, class_weight={0: 1, 1: 3}, max_depth=10, n_estimators=300; total time=   0.6s\n",
      "[CV] END ccp_alpha=0, class_weight={0: 1, 1: 3}, max_depth=10, n_estimators=300; total time=   0.7s\n",
      "[CV] END ccp_alpha=0, class_weight={0: 1, 1: 3}, max_depth=10, n_estimators=300; total time=   0.6s\n",
      "[CV] END ccp_alpha=0, class_weight={0: 1, 1: 3}, max_depth=10, n_estimators=400; total time=   0.8s\n",
      "[CV] END ccp_alpha=0, class_weight={0: 1, 1: 3}, max_depth=10, n_estimators=400; total time=   0.8s\n",
      "[CV] END ccp_alpha=0, class_weight={0: 1, 1: 3}, max_depth=10, n_estimators=400; total time=   0.8s\n",
      "[CV] END ccp_alpha=0, class_weight={0: 1, 1: 3}, max_depth=10, n_estimators=400; total time=   0.8s\n",
      "[CV] END ccp_alpha=0, class_weight={0: 1, 1: 3}, max_depth=10, n_estimators=400; total time=   0.8s\n",
      "[CV] END ccp_alpha=0, class_weight={0: 1, 1: 3}, max_depth=20, n_estimators=50; total time=   0.2s\n",
      "[CV] END ccp_alpha=0, class_weight={0: 1, 1: 3}, max_depth=20, n_estimators=50; total time=   0.2s\n",
      "[CV] END ccp_alpha=0, class_weight={0: 1, 1: 3}, max_depth=20, n_estimators=50; total time=   0.2s\n",
      "[CV] END ccp_alpha=0, class_weight={0: 1, 1: 3}, max_depth=20, n_estimators=50; total time=   0.2s\n",
      "[CV] END ccp_alpha=0, class_weight={0: 1, 1: 3}, max_depth=20, n_estimators=50; total time=   0.2s\n",
      "[CV] END ccp_alpha=0, class_weight={0: 1, 1: 3}, max_depth=20, n_estimators=100; total time=   0.3s\n",
      "[CV] END ccp_alpha=0, class_weight={0: 1, 1: 3}, max_depth=20, n_estimators=100; total time=   0.3s\n",
      "[CV] END ccp_alpha=0, class_weight={0: 1, 1: 3}, max_depth=20, n_estimators=100; total time=   0.3s\n",
      "[CV] END ccp_alpha=0, class_weight={0: 1, 1: 3}, max_depth=20, n_estimators=100; total time=   0.3s\n",
      "[CV] END ccp_alpha=0, class_weight={0: 1, 1: 3}, max_depth=20, n_estimators=100; total time=   0.3s\n",
      "[CV] END ccp_alpha=0, class_weight={0: 1, 1: 3}, max_depth=20, n_estimators=200; total time=   0.5s\n",
      "[CV] END ccp_alpha=0, class_weight={0: 1, 1: 3}, max_depth=20, n_estimators=200; total time=   0.5s\n",
      "[CV] END ccp_alpha=0, class_weight={0: 1, 1: 3}, max_depth=20, n_estimators=200; total time=   0.5s\n",
      "[CV] END ccp_alpha=0, class_weight={0: 1, 1: 3}, max_depth=20, n_estimators=200; total time=   0.5s\n",
      "[CV] END ccp_alpha=0, class_weight={0: 1, 1: 3}, max_depth=20, n_estimators=200; total time=   0.5s\n",
      "[CV] END ccp_alpha=0, class_weight={0: 1, 1: 3}, max_depth=20, n_estimators=300; total time=   0.8s\n",
      "[CV] END ccp_alpha=0, class_weight={0: 1, 1: 3}, max_depth=20, n_estimators=300; total time=   0.8s\n",
      "[CV] END ccp_alpha=0, class_weight={0: 1, 1: 3}, max_depth=20, n_estimators=300; total time=   0.8s\n",
      "[CV] END ccp_alpha=0, class_weight={0: 1, 1: 3}, max_depth=20, n_estimators=300; total time=   0.8s\n",
      "[CV] END ccp_alpha=0, class_weight={0: 1, 1: 3}, max_depth=20, n_estimators=300; total time=   0.8s\n",
      "[CV] END ccp_alpha=0, class_weight={0: 1, 1: 3}, max_depth=20, n_estimators=400; total time=   1.0s\n",
      "[CV] END ccp_alpha=0, class_weight={0: 1, 1: 3}, max_depth=20, n_estimators=400; total time=   1.0s\n",
      "[CV] END ccp_alpha=0, class_weight={0: 1, 1: 3}, max_depth=20, n_estimators=400; total time=   1.0s\n",
      "[CV] END ccp_alpha=0, class_weight={0: 1, 1: 3}, max_depth=20, n_estimators=400; total time=   1.2s\n",
      "[CV] END ccp_alpha=0, class_weight={0: 1, 1: 3}, max_depth=20, n_estimators=400; total time=   1.1s\n",
      "[CV] END ccp_alpha=0, class_weight={0: 1, 1: 3}, max_depth=30, n_estimators=50; total time=   0.2s\n",
      "[CV] END ccp_alpha=0, class_weight={0: 1, 1: 3}, max_depth=30, n_estimators=50; total time=   0.2s\n",
      "[CV] END ccp_alpha=0, class_weight={0: 1, 1: 3}, max_depth=30, n_estimators=50; total time=   0.2s\n",
      "[CV] END ccp_alpha=0, class_weight={0: 1, 1: 3}, max_depth=30, n_estimators=50; total time=   0.2s\n",
      "[CV] END ccp_alpha=0, class_weight={0: 1, 1: 3}, max_depth=30, n_estimators=50; total time=   0.2s\n",
      "[CV] END ccp_alpha=0, class_weight={0: 1, 1: 3}, max_depth=30, n_estimators=100; total time=   0.3s\n",
      "[CV] END ccp_alpha=0, class_weight={0: 1, 1: 3}, max_depth=30, n_estimators=100; total time=   0.3s\n",
      "[CV] END ccp_alpha=0, class_weight={0: 1, 1: 3}, max_depth=30, n_estimators=100; total time=   0.3s\n",
      "[CV] END ccp_alpha=0, class_weight={0: 1, 1: 3}, max_depth=30, n_estimators=100; total time=   0.3s\n",
      "[CV] END ccp_alpha=0, class_weight={0: 1, 1: 3}, max_depth=30, n_estimators=100; total time=   0.3s\n",
      "[CV] END ccp_alpha=0, class_weight={0: 1, 1: 3}, max_depth=30, n_estimators=200; total time=   0.6s\n",
      "[CV] END ccp_alpha=0, class_weight={0: 1, 1: 3}, max_depth=30, n_estimators=200; total time=   0.6s\n",
      "[CV] END ccp_alpha=0, class_weight={0: 1, 1: 3}, max_depth=30, n_estimators=200; total time=   0.6s\n",
      "[CV] END ccp_alpha=0, class_weight={0: 1, 1: 3}, max_depth=30, n_estimators=200; total time=   0.7s\n",
      "[CV] END ccp_alpha=0, class_weight={0: 1, 1: 3}, max_depth=30, n_estimators=200; total time=   0.7s\n",
      "[CV] END ccp_alpha=0, class_weight={0: 1, 1: 3}, max_depth=30, n_estimators=300; total time=   1.0s\n",
      "[CV] END ccp_alpha=0, class_weight={0: 1, 1: 3}, max_depth=30, n_estimators=300; total time=   0.9s\n",
      "[CV] END ccp_alpha=0, class_weight={0: 1, 1: 3}, max_depth=30, n_estimators=300; total time=   0.9s\n",
      "[CV] END ccp_alpha=0, class_weight={0: 1, 1: 3}, max_depth=30, n_estimators=300; total time=   0.9s\n",
      "[CV] END ccp_alpha=0, class_weight={0: 1, 1: 3}, max_depth=30, n_estimators=300; total time=   0.9s\n",
      "[CV] END ccp_alpha=0, class_weight={0: 1, 1: 3}, max_depth=30, n_estimators=400; total time=   1.2s\n",
      "[CV] END ccp_alpha=0, class_weight={0: 1, 1: 3}, max_depth=30, n_estimators=400; total time=   1.2s\n",
      "[CV] END ccp_alpha=0, class_weight={0: 1, 1: 3}, max_depth=30, n_estimators=400; total time=   1.2s\n",
      "[CV] END ccp_alpha=0, class_weight={0: 1, 1: 3}, max_depth=30, n_estimators=400; total time=   1.2s\n",
      "[CV] END ccp_alpha=0, class_weight={0: 1, 1: 3}, max_depth=30, n_estimators=400; total time=   1.2s\n",
      "[CV] END ccp_alpha=0, class_weight={0: 1.5, 1: 2.5}, max_depth=None, n_estimators=50; total time=   0.2s\n",
      "[CV] END ccp_alpha=0, class_weight={0: 1.5, 1: 2.5}, max_depth=None, n_estimators=50; total time=   0.2s\n",
      "[CV] END ccp_alpha=0, class_weight={0: 1.5, 1: 2.5}, max_depth=None, n_estimators=50; total time=   0.2s\n",
      "[CV] END ccp_alpha=0, class_weight={0: 1.5, 1: 2.5}, max_depth=None, n_estimators=50; total time=   0.2s\n",
      "[CV] END ccp_alpha=0, class_weight={0: 1.5, 1: 2.5}, max_depth=None, n_estimators=50; total time=   0.2s\n",
      "[CV] END ccp_alpha=0, class_weight={0: 1.5, 1: 2.5}, max_depth=None, n_estimators=100; total time=   0.3s\n",
      "[CV] END ccp_alpha=0, class_weight={0: 1.5, 1: 2.5}, max_depth=None, n_estimators=100; total time=   0.3s\n",
      "[CV] END ccp_alpha=0, class_weight={0: 1.5, 1: 2.5}, max_depth=None, n_estimators=100; total time=   0.3s\n",
      "[CV] END ccp_alpha=0, class_weight={0: 1.5, 1: 2.5}, max_depth=None, n_estimators=100; total time=   0.3s\n",
      "[CV] END ccp_alpha=0, class_weight={0: 1.5, 1: 2.5}, max_depth=None, n_estimators=100; total time=   0.3s\n",
      "[CV] END ccp_alpha=0, class_weight={0: 1.5, 1: 2.5}, max_depth=None, n_estimators=200; total time=   0.6s\n",
      "[CV] END ccp_alpha=0, class_weight={0: 1.5, 1: 2.5}, max_depth=None, n_estimators=200; total time=   0.6s\n",
      "[CV] END ccp_alpha=0, class_weight={0: 1.5, 1: 2.5}, max_depth=None, n_estimators=200; total time=   0.6s\n",
      "[CV] END ccp_alpha=0, class_weight={0: 1.5, 1: 2.5}, max_depth=None, n_estimators=200; total time=   0.6s\n",
      "[CV] END ccp_alpha=0, class_weight={0: 1.5, 1: 2.5}, max_depth=None, n_estimators=200; total time=   0.6s\n",
      "[CV] END ccp_alpha=0, class_weight={0: 1.5, 1: 2.5}, max_depth=None, n_estimators=300; total time=   0.9s\n",
      "[CV] END ccp_alpha=0, class_weight={0: 1.5, 1: 2.5}, max_depth=None, n_estimators=300; total time=   0.9s\n",
      "[CV] END ccp_alpha=0, class_weight={0: 1.5, 1: 2.5}, max_depth=None, n_estimators=300; total time=   0.9s\n",
      "[CV] END ccp_alpha=0, class_weight={0: 1.5, 1: 2.5}, max_depth=None, n_estimators=300; total time=   0.9s\n",
      "[CV] END ccp_alpha=0, class_weight={0: 1.5, 1: 2.5}, max_depth=None, n_estimators=300; total time=   0.9s\n",
      "[CV] END ccp_alpha=0, class_weight={0: 1.5, 1: 2.5}, max_depth=None, n_estimators=400; total time=   1.2s\n",
      "[CV] END ccp_alpha=0, class_weight={0: 1.5, 1: 2.5}, max_depth=None, n_estimators=400; total time=   1.2s\n",
      "[CV] END ccp_alpha=0, class_weight={0: 1.5, 1: 2.5}, max_depth=None, n_estimators=400; total time=   1.2s\n",
      "[CV] END ccp_alpha=0, class_weight={0: 1.5, 1: 2.5}, max_depth=None, n_estimators=400; total time=   1.2s\n",
      "[CV] END ccp_alpha=0, class_weight={0: 1.5, 1: 2.5}, max_depth=None, n_estimators=400; total time=   1.2s\n",
      "[CV] END ccp_alpha=0, class_weight={0: 1.5, 1: 2.5}, max_depth=10, n_estimators=50; total time=   0.1s\n",
      "[CV] END ccp_alpha=0, class_weight={0: 1.5, 1: 2.5}, max_depth=10, n_estimators=50; total time=   0.1s\n",
      "[CV] END ccp_alpha=0, class_weight={0: 1.5, 1: 2.5}, max_depth=10, n_estimators=50; total time=   0.1s\n",
      "[CV] END ccp_alpha=0, class_weight={0: 1.5, 1: 2.5}, max_depth=10, n_estimators=50; total time=   0.1s\n",
      "[CV] END ccp_alpha=0, class_weight={0: 1.5, 1: 2.5}, max_depth=10, n_estimators=50; total time=   0.1s\n",
      "[CV] END ccp_alpha=0, class_weight={0: 1.5, 1: 2.5}, max_depth=10, n_estimators=100; total time=   0.2s\n",
      "[CV] END ccp_alpha=0, class_weight={0: 1.5, 1: 2.5}, max_depth=10, n_estimators=100; total time=   0.2s\n",
      "[CV] END ccp_alpha=0, class_weight={0: 1.5, 1: 2.5}, max_depth=10, n_estimators=100; total time=   0.2s\n",
      "[CV] END ccp_alpha=0, class_weight={0: 1.5, 1: 2.5}, max_depth=10, n_estimators=100; total time=   0.2s\n",
      "[CV] END ccp_alpha=0, class_weight={0: 1.5, 1: 2.5}, max_depth=10, n_estimators=100; total time=   0.2s\n",
      "[CV] END ccp_alpha=0, class_weight={0: 1.5, 1: 2.5}, max_depth=10, n_estimators=200; total time=   0.4s\n",
      "[CV] END ccp_alpha=0, class_weight={0: 1.5, 1: 2.5}, max_depth=10, n_estimators=200; total time=   0.5s\n",
      "[CV] END ccp_alpha=0, class_weight={0: 1.5, 1: 2.5}, max_depth=10, n_estimators=200; total time=   0.4s\n",
      "[CV] END ccp_alpha=0, class_weight={0: 1.5, 1: 2.5}, max_depth=10, n_estimators=200; total time=   0.5s\n",
      "[CV] END ccp_alpha=0, class_weight={0: 1.5, 1: 2.5}, max_depth=10, n_estimators=200; total time=   0.4s\n",
      "[CV] END ccp_alpha=0, class_weight={0: 1.5, 1: 2.5}, max_depth=10, n_estimators=300; total time=   0.6s\n",
      "[CV] END ccp_alpha=0, class_weight={0: 1.5, 1: 2.5}, max_depth=10, n_estimators=300; total time=   0.6s\n",
      "[CV] END ccp_alpha=0, class_weight={0: 1.5, 1: 2.5}, max_depth=10, n_estimators=300; total time=   0.6s\n",
      "[CV] END ccp_alpha=0, class_weight={0: 1.5, 1: 2.5}, max_depth=10, n_estimators=300; total time=   0.6s\n",
      "[CV] END ccp_alpha=0, class_weight={0: 1.5, 1: 2.5}, max_depth=10, n_estimators=300; total time=   0.6s\n",
      "[CV] END ccp_alpha=0, class_weight={0: 1.5, 1: 2.5}, max_depth=10, n_estimators=400; total time=   0.8s\n",
      "[CV] END ccp_alpha=0, class_weight={0: 1.5, 1: 2.5}, max_depth=10, n_estimators=400; total time=   0.8s\n",
      "[CV] END ccp_alpha=0, class_weight={0: 1.5, 1: 2.5}, max_depth=10, n_estimators=400; total time=   0.8s\n",
      "[CV] END ccp_alpha=0, class_weight={0: 1.5, 1: 2.5}, max_depth=10, n_estimators=400; total time=   0.8s\n",
      "[CV] END ccp_alpha=0, class_weight={0: 1.5, 1: 2.5}, max_depth=10, n_estimators=400; total time=   0.8s\n",
      "[CV] END ccp_alpha=0, class_weight={0: 1.5, 1: 2.5}, max_depth=20, n_estimators=50; total time=   0.2s\n",
      "[CV] END ccp_alpha=0, class_weight={0: 1.5, 1: 2.5}, max_depth=20, n_estimators=50; total time=   0.2s\n",
      "[CV] END ccp_alpha=0, class_weight={0: 1.5, 1: 2.5}, max_depth=20, n_estimators=50; total time=   0.2s\n",
      "[CV] END ccp_alpha=0, class_weight={0: 1.5, 1: 2.5}, max_depth=20, n_estimators=50; total time=   0.2s\n",
      "[CV] END ccp_alpha=0, class_weight={0: 1.5, 1: 2.5}, max_depth=20, n_estimators=50; total time=   0.2s\n",
      "[CV] END ccp_alpha=0, class_weight={0: 1.5, 1: 2.5}, max_depth=20, n_estimators=100; total time=   0.3s\n",
      "[CV] END ccp_alpha=0, class_weight={0: 1.5, 1: 2.5}, max_depth=20, n_estimators=100; total time=   0.3s\n",
      "[CV] END ccp_alpha=0, class_weight={0: 1.5, 1: 2.5}, max_depth=20, n_estimators=100; total time=   0.3s\n",
      "[CV] END ccp_alpha=0, class_weight={0: 1.5, 1: 2.5}, max_depth=20, n_estimators=100; total time=   0.3s\n",
      "[CV] END ccp_alpha=0, class_weight={0: 1.5, 1: 2.5}, max_depth=20, n_estimators=100; total time=   0.3s\n",
      "[CV] END ccp_alpha=0, class_weight={0: 1.5, 1: 2.5}, max_depth=20, n_estimators=200; total time=   0.5s\n",
      "[CV] END ccp_alpha=0, class_weight={0: 1.5, 1: 2.5}, max_depth=20, n_estimators=200; total time=   0.5s\n",
      "[CV] END ccp_alpha=0, class_weight={0: 1.5, 1: 2.5}, max_depth=20, n_estimators=200; total time=   0.5s\n",
      "[CV] END ccp_alpha=0, class_weight={0: 1.5, 1: 2.5}, max_depth=20, n_estimators=200; total time=   0.5s\n",
      "[CV] END ccp_alpha=0, class_weight={0: 1.5, 1: 2.5}, max_depth=20, n_estimators=200; total time=   0.5s\n",
      "[CV] END ccp_alpha=0, class_weight={0: 1.5, 1: 2.5}, max_depth=20, n_estimators=300; total time=   0.8s\n",
      "[CV] END ccp_alpha=0, class_weight={0: 1.5, 1: 2.5}, max_depth=20, n_estimators=300; total time=   0.8s\n",
      "[CV] END ccp_alpha=0, class_weight={0: 1.5, 1: 2.5}, max_depth=20, n_estimators=300; total time=   0.8s\n",
      "[CV] END ccp_alpha=0, class_weight={0: 1.5, 1: 2.5}, max_depth=20, n_estimators=300; total time=   0.8s\n",
      "[CV] END ccp_alpha=0, class_weight={0: 1.5, 1: 2.5}, max_depth=20, n_estimators=300; total time=   0.8s\n",
      "[CV] END ccp_alpha=0, class_weight={0: 1.5, 1: 2.5}, max_depth=20, n_estimators=400; total time=   1.0s\n",
      "[CV] END ccp_alpha=0, class_weight={0: 1.5, 1: 2.5}, max_depth=20, n_estimators=400; total time=   1.0s\n",
      "[CV] END ccp_alpha=0, class_weight={0: 1.5, 1: 2.5}, max_depth=20, n_estimators=400; total time=   1.0s\n",
      "[CV] END ccp_alpha=0, class_weight={0: 1.5, 1: 2.5}, max_depth=20, n_estimators=400; total time=   1.0s\n",
      "[CV] END ccp_alpha=0, class_weight={0: 1.5, 1: 2.5}, max_depth=20, n_estimators=400; total time=   1.0s\n",
      "[CV] END ccp_alpha=0, class_weight={0: 1.5, 1: 2.5}, max_depth=30, n_estimators=50; total time=   0.2s\n",
      "[CV] END ccp_alpha=0, class_weight={0: 1.5, 1: 2.5}, max_depth=30, n_estimators=50; total time=   0.2s\n",
      "[CV] END ccp_alpha=0, class_weight={0: 1.5, 1: 2.5}, max_depth=30, n_estimators=50; total time=   0.2s\n",
      "[CV] END ccp_alpha=0, class_weight={0: 1.5, 1: 2.5}, max_depth=30, n_estimators=50; total time=   0.2s\n",
      "[CV] END ccp_alpha=0, class_weight={0: 1.5, 1: 2.5}, max_depth=30, n_estimators=50; total time=   0.2s\n",
      "[CV] END ccp_alpha=0, class_weight={0: 1.5, 1: 2.5}, max_depth=30, n_estimators=100; total time=   0.3s\n",
      "[CV] END ccp_alpha=0, class_weight={0: 1.5, 1: 2.5}, max_depth=30, n_estimators=100; total time=   0.3s\n",
      "[CV] END ccp_alpha=0, class_weight={0: 1.5, 1: 2.5}, max_depth=30, n_estimators=100; total time=   0.3s\n",
      "[CV] END ccp_alpha=0, class_weight={0: 1.5, 1: 2.5}, max_depth=30, n_estimators=100; total time=   0.3s\n",
      "[CV] END ccp_alpha=0, class_weight={0: 1.5, 1: 2.5}, max_depth=30, n_estimators=100; total time=   0.3s\n",
      "[CV] END ccp_alpha=0, class_weight={0: 1.5, 1: 2.5}, max_depth=30, n_estimators=200; total time=   0.6s\n",
      "[CV] END ccp_alpha=0, class_weight={0: 1.5, 1: 2.5}, max_depth=30, n_estimators=200; total time=   0.6s\n",
      "[CV] END ccp_alpha=0, class_weight={0: 1.5, 1: 2.5}, max_depth=30, n_estimators=200; total time=   0.6s\n",
      "[CV] END ccp_alpha=0, class_weight={0: 1.5, 1: 2.5}, max_depth=30, n_estimators=200; total time=   0.6s\n",
      "[CV] END ccp_alpha=0, class_weight={0: 1.5, 1: 2.5}, max_depth=30, n_estimators=200; total time=   0.6s\n",
      "[CV] END ccp_alpha=0, class_weight={0: 1.5, 1: 2.5}, max_depth=30, n_estimators=300; total time=   0.9s\n",
      "[CV] END ccp_alpha=0, class_weight={0: 1.5, 1: 2.5}, max_depth=30, n_estimators=300; total time=   0.9s\n",
      "[CV] END ccp_alpha=0, class_weight={0: 1.5, 1: 2.5}, max_depth=30, n_estimators=300; total time=   0.9s\n",
      "[CV] END ccp_alpha=0, class_weight={0: 1.5, 1: 2.5}, max_depth=30, n_estimators=300; total time=   1.0s\n",
      "[CV] END ccp_alpha=0, class_weight={0: 1.5, 1: 2.5}, max_depth=30, n_estimators=300; total time=   0.9s\n",
      "[CV] END ccp_alpha=0, class_weight={0: 1.5, 1: 2.5}, max_depth=30, n_estimators=400; total time=   1.1s\n",
      "[CV] END ccp_alpha=0, class_weight={0: 1.5, 1: 2.5}, max_depth=30, n_estimators=400; total time=   1.2s\n",
      "[CV] END ccp_alpha=0, class_weight={0: 1.5, 1: 2.5}, max_depth=30, n_estimators=400; total time=   1.1s\n",
      "[CV] END ccp_alpha=0, class_weight={0: 1.5, 1: 2.5}, max_depth=30, n_estimators=400; total time=   1.2s\n",
      "[CV] END ccp_alpha=0, class_weight={0: 1.5, 1: 2.5}, max_depth=30, n_estimators=400; total time=   1.1s\n",
      "[CV] END ccp_alpha=0, class_weight={0: 1.5, 1: 3}, max_depth=None, n_estimators=50; total time=   0.2s\n",
      "[CV] END ccp_alpha=0, class_weight={0: 1.5, 1: 3}, max_depth=None, n_estimators=50; total time=   0.2s\n",
      "[CV] END ccp_alpha=0, class_weight={0: 1.5, 1: 3}, max_depth=None, n_estimators=50; total time=   0.2s\n",
      "[CV] END ccp_alpha=0, class_weight={0: 1.5, 1: 3}, max_depth=None, n_estimators=50; total time=   0.2s\n",
      "[CV] END ccp_alpha=0, class_weight={0: 1.5, 1: 3}, max_depth=None, n_estimators=50; total time=   0.2s\n",
      "[CV] END ccp_alpha=0, class_weight={0: 1.5, 1: 3}, max_depth=None, n_estimators=100; total time=   0.3s\n",
      "[CV] END ccp_alpha=0, class_weight={0: 1.5, 1: 3}, max_depth=None, n_estimators=100; total time=   0.3s\n",
      "[CV] END ccp_alpha=0, class_weight={0: 1.5, 1: 3}, max_depth=None, n_estimators=100; total time=   0.3s\n",
      "[CV] END ccp_alpha=0, class_weight={0: 1.5, 1: 3}, max_depth=None, n_estimators=100; total time=   0.3s\n",
      "[CV] END ccp_alpha=0, class_weight={0: 1.5, 1: 3}, max_depth=None, n_estimators=100; total time=   0.3s\n",
      "[CV] END ccp_alpha=0, class_weight={0: 1.5, 1: 3}, max_depth=None, n_estimators=200; total time=   0.6s\n",
      "[CV] END ccp_alpha=0, class_weight={0: 1.5, 1: 3}, max_depth=None, n_estimators=200; total time=   0.6s\n",
      "[CV] END ccp_alpha=0, class_weight={0: 1.5, 1: 3}, max_depth=None, n_estimators=200; total time=   0.6s\n",
      "[CV] END ccp_alpha=0, class_weight={0: 1.5, 1: 3}, max_depth=None, n_estimators=200; total time=   0.6s\n",
      "[CV] END ccp_alpha=0, class_weight={0: 1.5, 1: 3}, max_depth=None, n_estimators=200; total time=   0.6s\n",
      "[CV] END ccp_alpha=0, class_weight={0: 1.5, 1: 3}, max_depth=None, n_estimators=300; total time=   0.9s\n",
      "[CV] END ccp_alpha=0, class_weight={0: 1.5, 1: 3}, max_depth=None, n_estimators=300; total time=   0.9s\n",
      "[CV] END ccp_alpha=0, class_weight={0: 1.5, 1: 3}, max_depth=None, n_estimators=300; total time=   0.9s\n",
      "[CV] END ccp_alpha=0, class_weight={0: 1.5, 1: 3}, max_depth=None, n_estimators=300; total time=   0.9s\n",
      "[CV] END ccp_alpha=0, class_weight={0: 1.5, 1: 3}, max_depth=None, n_estimators=300; total time=   0.9s\n",
      "[CV] END ccp_alpha=0, class_weight={0: 1.5, 1: 3}, max_depth=None, n_estimators=400; total time=   1.2s\n",
      "[CV] END ccp_alpha=0, class_weight={0: 1.5, 1: 3}, max_depth=None, n_estimators=400; total time=   1.2s\n",
      "[CV] END ccp_alpha=0, class_weight={0: 1.5, 1: 3}, max_depth=None, n_estimators=400; total time=   1.2s\n",
      "[CV] END ccp_alpha=0, class_weight={0: 1.5, 1: 3}, max_depth=None, n_estimators=400; total time=   1.2s\n",
      "[CV] END ccp_alpha=0, class_weight={0: 1.5, 1: 3}, max_depth=None, n_estimators=400; total time=   1.2s\n",
      "[CV] END ccp_alpha=0, class_weight={0: 1.5, 1: 3}, max_depth=10, n_estimators=50; total time=   0.2s\n",
      "[CV] END ccp_alpha=0, class_weight={0: 1.5, 1: 3}, max_depth=10, n_estimators=50; total time=   0.1s\n",
      "[CV] END ccp_alpha=0, class_weight={0: 1.5, 1: 3}, max_depth=10, n_estimators=50; total time=   0.1s\n",
      "[CV] END ccp_alpha=0, class_weight={0: 1.5, 1: 3}, max_depth=10, n_estimators=50; total time=   0.1s\n",
      "[CV] END ccp_alpha=0, class_weight={0: 1.5, 1: 3}, max_depth=10, n_estimators=50; total time=   0.1s\n",
      "[CV] END ccp_alpha=0, class_weight={0: 1.5, 1: 3}, max_depth=10, n_estimators=100; total time=   0.2s\n",
      "[CV] END ccp_alpha=0, class_weight={0: 1.5, 1: 3}, max_depth=10, n_estimators=100; total time=   0.2s\n",
      "[CV] END ccp_alpha=0, class_weight={0: 1.5, 1: 3}, max_depth=10, n_estimators=100; total time=   0.2s\n",
      "[CV] END ccp_alpha=0, class_weight={0: 1.5, 1: 3}, max_depth=10, n_estimators=100; total time=   0.2s\n",
      "[CV] END ccp_alpha=0, class_weight={0: 1.5, 1: 3}, max_depth=10, n_estimators=100; total time=   0.2s\n",
      "[CV] END ccp_alpha=0, class_weight={0: 1.5, 1: 3}, max_depth=10, n_estimators=200; total time=   0.4s\n",
      "[CV] END ccp_alpha=0, class_weight={0: 1.5, 1: 3}, max_depth=10, n_estimators=200; total time=   0.4s\n",
      "[CV] END ccp_alpha=0, class_weight={0: 1.5, 1: 3}, max_depth=10, n_estimators=200; total time=   0.4s\n",
      "[CV] END ccp_alpha=0, class_weight={0: 1.5, 1: 3}, max_depth=10, n_estimators=200; total time=   0.4s\n",
      "[CV] END ccp_alpha=0, class_weight={0: 1.5, 1: 3}, max_depth=10, n_estimators=200; total time=   0.4s\n",
      "[CV] END ccp_alpha=0, class_weight={0: 1.5, 1: 3}, max_depth=10, n_estimators=300; total time=   0.6s\n",
      "[CV] END ccp_alpha=0, class_weight={0: 1.5, 1: 3}, max_depth=10, n_estimators=300; total time=   0.6s\n",
      "[CV] END ccp_alpha=0, class_weight={0: 1.5, 1: 3}, max_depth=10, n_estimators=300; total time=   0.6s\n",
      "[CV] END ccp_alpha=0, class_weight={0: 1.5, 1: 3}, max_depth=10, n_estimators=300; total time=   0.6s\n",
      "[CV] END ccp_alpha=0, class_weight={0: 1.5, 1: 3}, max_depth=10, n_estimators=300; total time=   0.6s\n",
      "[CV] END ccp_alpha=0, class_weight={0: 1.5, 1: 3}, max_depth=10, n_estimators=400; total time=   0.8s\n",
      "[CV] END ccp_alpha=0, class_weight={0: 1.5, 1: 3}, max_depth=10, n_estimators=400; total time=   0.8s\n",
      "[CV] END ccp_alpha=0, class_weight={0: 1.5, 1: 3}, max_depth=10, n_estimators=400; total time=   0.8s\n",
      "[CV] END ccp_alpha=0, class_weight={0: 1.5, 1: 3}, max_depth=10, n_estimators=400; total time=   0.8s\n",
      "[CV] END ccp_alpha=0, class_weight={0: 1.5, 1: 3}, max_depth=10, n_estimators=400; total time=   0.9s\n",
      "[CV] END ccp_alpha=0, class_weight={0: 1.5, 1: 3}, max_depth=20, n_estimators=50; total time=   0.2s\n",
      "[CV] END ccp_alpha=0, class_weight={0: 1.5, 1: 3}, max_depth=20, n_estimators=50; total time=   0.2s\n",
      "[CV] END ccp_alpha=0, class_weight={0: 1.5, 1: 3}, max_depth=20, n_estimators=50; total time=   0.2s\n",
      "[CV] END ccp_alpha=0, class_weight={0: 1.5, 1: 3}, max_depth=20, n_estimators=50; total time=   0.2s\n",
      "[CV] END ccp_alpha=0, class_weight={0: 1.5, 1: 3}, max_depth=20, n_estimators=50; total time=   0.2s\n",
      "[CV] END ccp_alpha=0, class_weight={0: 1.5, 1: 3}, max_depth=20, n_estimators=100; total time=   0.3s\n",
      "[CV] END ccp_alpha=0, class_weight={0: 1.5, 1: 3}, max_depth=20, n_estimators=100; total time=   0.3s\n",
      "[CV] END ccp_alpha=0, class_weight={0: 1.5, 1: 3}, max_depth=20, n_estimators=100; total time=   0.3s\n",
      "[CV] END ccp_alpha=0, class_weight={0: 1.5, 1: 3}, max_depth=20, n_estimators=100; total time=   0.3s\n",
      "[CV] END ccp_alpha=0, class_weight={0: 1.5, 1: 3}, max_depth=20, n_estimators=100; total time=   0.3s\n",
      "[CV] END ccp_alpha=0, class_weight={0: 1.5, 1: 3}, max_depth=20, n_estimators=200; total time=   0.5s\n",
      "[CV] END ccp_alpha=0, class_weight={0: 1.5, 1: 3}, max_depth=20, n_estimators=200; total time=   0.5s\n",
      "[CV] END ccp_alpha=0, class_weight={0: 1.5, 1: 3}, max_depth=20, n_estimators=200; total time=   0.5s\n",
      "[CV] END ccp_alpha=0, class_weight={0: 1.5, 1: 3}, max_depth=20, n_estimators=200; total time=   0.5s\n",
      "[CV] END ccp_alpha=0, class_weight={0: 1.5, 1: 3}, max_depth=20, n_estimators=200; total time=   0.6s\n",
      "[CV] END ccp_alpha=0, class_weight={0: 1.5, 1: 3}, max_depth=20, n_estimators=300; total time=   0.8s\n",
      "[CV] END ccp_alpha=0, class_weight={0: 1.5, 1: 3}, max_depth=20, n_estimators=300; total time=   0.8s\n",
      "[CV] END ccp_alpha=0, class_weight={0: 1.5, 1: 3}, max_depth=20, n_estimators=300; total time=   0.8s\n",
      "[CV] END ccp_alpha=0, class_weight={0: 1.5, 1: 3}, max_depth=20, n_estimators=300; total time=   0.8s\n",
      "[CV] END ccp_alpha=0, class_weight={0: 1.5, 1: 3}, max_depth=20, n_estimators=300; total time=   0.8s\n",
      "[CV] END ccp_alpha=0, class_weight={0: 1.5, 1: 3}, max_depth=20, n_estimators=400; total time=   1.0s\n",
      "[CV] END ccp_alpha=0, class_weight={0: 1.5, 1: 3}, max_depth=20, n_estimators=400; total time=   1.1s\n",
      "[CV] END ccp_alpha=0, class_weight={0: 1.5, 1: 3}, max_depth=20, n_estimators=400; total time=   1.0s\n",
      "[CV] END ccp_alpha=0, class_weight={0: 1.5, 1: 3}, max_depth=20, n_estimators=400; total time=   1.0s\n",
      "[CV] END ccp_alpha=0, class_weight={0: 1.5, 1: 3}, max_depth=20, n_estimators=400; total time=   1.0s\n",
      "[CV] END ccp_alpha=0, class_weight={0: 1.5, 1: 3}, max_depth=30, n_estimators=50; total time=   0.2s\n",
      "[CV] END ccp_alpha=0, class_weight={0: 1.5, 1: 3}, max_depth=30, n_estimators=50; total time=   0.2s\n",
      "[CV] END ccp_alpha=0, class_weight={0: 1.5, 1: 3}, max_depth=30, n_estimators=50; total time=   0.2s\n",
      "[CV] END ccp_alpha=0, class_weight={0: 1.5, 1: 3}, max_depth=30, n_estimators=50; total time=   0.2s\n",
      "[CV] END ccp_alpha=0, class_weight={0: 1.5, 1: 3}, max_depth=30, n_estimators=50; total time=   0.2s\n",
      "[CV] END ccp_alpha=0, class_weight={0: 1.5, 1: 3}, max_depth=30, n_estimators=100; total time=   0.3s\n",
      "[CV] END ccp_alpha=0, class_weight={0: 1.5, 1: 3}, max_depth=30, n_estimators=100; total time=   0.3s\n",
      "[CV] END ccp_alpha=0, class_weight={0: 1.5, 1: 3}, max_depth=30, n_estimators=100; total time=   0.3s\n",
      "[CV] END ccp_alpha=0, class_weight={0: 1.5, 1: 3}, max_depth=30, n_estimators=100; total time=   0.3s\n",
      "[CV] END ccp_alpha=0, class_weight={0: 1.5, 1: 3}, max_depth=30, n_estimators=100; total time=   0.3s\n",
      "[CV] END ccp_alpha=0, class_weight={0: 1.5, 1: 3}, max_depth=30, n_estimators=200; total time=   0.6s\n",
      "[CV] END ccp_alpha=0, class_weight={0: 1.5, 1: 3}, max_depth=30, n_estimators=200; total time=   0.6s\n",
      "[CV] END ccp_alpha=0, class_weight={0: 1.5, 1: 3}, max_depth=30, n_estimators=200; total time=   0.6s\n",
      "[CV] END ccp_alpha=0, class_weight={0: 1.5, 1: 3}, max_depth=30, n_estimators=200; total time=   0.6s\n",
      "[CV] END ccp_alpha=0, class_weight={0: 1.5, 1: 3}, max_depth=30, n_estimators=200; total time=   0.6s\n",
      "[CV] END ccp_alpha=0, class_weight={0: 1.5, 1: 3}, max_depth=30, n_estimators=300; total time=   0.9s\n",
      "[CV] END ccp_alpha=0, class_weight={0: 1.5, 1: 3}, max_depth=30, n_estimators=300; total time=   0.9s\n",
      "[CV] END ccp_alpha=0, class_weight={0: 1.5, 1: 3}, max_depth=30, n_estimators=300; total time=   0.9s\n",
      "[CV] END ccp_alpha=0, class_weight={0: 1.5, 1: 3}, max_depth=30, n_estimators=300; total time=   0.9s\n",
      "[CV] END ccp_alpha=0, class_weight={0: 1.5, 1: 3}, max_depth=30, n_estimators=300; total time=   0.9s\n",
      "[CV] END ccp_alpha=0, class_weight={0: 1.5, 1: 3}, max_depth=30, n_estimators=400; total time=   1.2s\n",
      "[CV] END ccp_alpha=0, class_weight={0: 1.5, 1: 3}, max_depth=30, n_estimators=400; total time=   1.1s\n",
      "[CV] END ccp_alpha=0, class_weight={0: 1.5, 1: 3}, max_depth=30, n_estimators=400; total time=   1.1s\n",
      "[CV] END ccp_alpha=0, class_weight={0: 1.5, 1: 3}, max_depth=30, n_estimators=400; total time=   1.2s\n",
      "[CV] END ccp_alpha=0, class_weight={0: 1.5, 1: 3}, max_depth=30, n_estimators=400; total time=   1.2s\n",
      "[CV] END ccp_alpha=1, class_weight=None, max_depth=None, n_estimators=50; total time=   0.2s\n",
      "[CV] END ccp_alpha=1, class_weight=None, max_depth=None, n_estimators=50; total time=   0.2s\n",
      "[CV] END ccp_alpha=1, class_weight=None, max_depth=None, n_estimators=50; total time=   0.2s\n",
      "[CV] END ccp_alpha=1, class_weight=None, max_depth=None, n_estimators=50; total time=   0.2s\n",
      "[CV] END ccp_alpha=1, class_weight=None, max_depth=None, n_estimators=50; total time=   0.2s\n",
      "[CV] END ccp_alpha=1, class_weight=None, max_depth=None, n_estimators=100; total time=   0.4s\n",
      "[CV] END ccp_alpha=1, class_weight=None, max_depth=None, n_estimators=100; total time=   0.4s\n",
      "[CV] END ccp_alpha=1, class_weight=None, max_depth=None, n_estimators=100; total time=   0.4s\n",
      "[CV] END ccp_alpha=1, class_weight=None, max_depth=None, n_estimators=100; total time=   0.4s\n",
      "[CV] END ccp_alpha=1, class_weight=None, max_depth=None, n_estimators=100; total time=   0.4s\n",
      "[CV] END ccp_alpha=1, class_weight=None, max_depth=None, n_estimators=200; total time=   0.7s\n",
      "[CV] END ccp_alpha=1, class_weight=None, max_depth=None, n_estimators=200; total time=   0.7s\n",
      "[CV] END ccp_alpha=1, class_weight=None, max_depth=None, n_estimators=200; total time=   0.7s\n",
      "[CV] END ccp_alpha=1, class_weight=None, max_depth=None, n_estimators=200; total time=   0.7s\n",
      "[CV] END ccp_alpha=1, class_weight=None, max_depth=None, n_estimators=200; total time=   0.7s\n",
      "[CV] END ccp_alpha=1, class_weight=None, max_depth=None, n_estimators=300; total time=   1.0s\n",
      "[CV] END ccp_alpha=1, class_weight=None, max_depth=None, n_estimators=300; total time=   1.0s\n",
      "[CV] END ccp_alpha=1, class_weight=None, max_depth=None, n_estimators=300; total time=   1.0s\n",
      "[CV] END ccp_alpha=1, class_weight=None, max_depth=None, n_estimators=300; total time=   1.0s\n",
      "[CV] END ccp_alpha=1, class_weight=None, max_depth=None, n_estimators=300; total time=   1.0s\n",
      "[CV] END ccp_alpha=1, class_weight=None, max_depth=None, n_estimators=400; total time=   1.4s\n",
      "[CV] END ccp_alpha=1, class_weight=None, max_depth=None, n_estimators=400; total time=   1.3s\n",
      "[CV] END ccp_alpha=1, class_weight=None, max_depth=None, n_estimators=400; total time=   1.3s\n",
      "[CV] END ccp_alpha=1, class_weight=None, max_depth=None, n_estimators=400; total time=   1.3s\n",
      "[CV] END ccp_alpha=1, class_weight=None, max_depth=None, n_estimators=400; total time=   1.4s\n",
      "[CV] END ccp_alpha=1, class_weight=None, max_depth=10, n_estimators=50; total time=   0.1s\n",
      "[CV] END ccp_alpha=1, class_weight=None, max_depth=10, n_estimators=50; total time=   0.1s\n",
      "[CV] END ccp_alpha=1, class_weight=None, max_depth=10, n_estimators=50; total time=   0.1s\n",
      "[CV] END ccp_alpha=1, class_weight=None, max_depth=10, n_estimators=50; total time=   0.1s\n",
      "[CV] END ccp_alpha=1, class_weight=None, max_depth=10, n_estimators=50; total time=   0.1s\n",
      "[CV] END ccp_alpha=1, class_weight=None, max_depth=10, n_estimators=100; total time=   0.2s\n",
      "[CV] END ccp_alpha=1, class_weight=None, max_depth=10, n_estimators=100; total time=   0.2s\n",
      "[CV] END ccp_alpha=1, class_weight=None, max_depth=10, n_estimators=100; total time=   0.2s\n",
      "[CV] END ccp_alpha=1, class_weight=None, max_depth=10, n_estimators=100; total time=   0.2s\n",
      "[CV] END ccp_alpha=1, class_weight=None, max_depth=10, n_estimators=100; total time=   0.2s\n",
      "[CV] END ccp_alpha=1, class_weight=None, max_depth=10, n_estimators=200; total time=   0.4s\n",
      "[CV] END ccp_alpha=1, class_weight=None, max_depth=10, n_estimators=200; total time=   0.4s\n",
      "[CV] END ccp_alpha=1, class_weight=None, max_depth=10, n_estimators=200; total time=   0.4s\n",
      "[CV] END ccp_alpha=1, class_weight=None, max_depth=10, n_estimators=200; total time=   0.4s\n",
      "[CV] END ccp_alpha=1, class_weight=None, max_depth=10, n_estimators=200; total time=   0.4s\n",
      "[CV] END ccp_alpha=1, class_weight=None, max_depth=10, n_estimators=300; total time=   0.6s\n",
      "[CV] END ccp_alpha=1, class_weight=None, max_depth=10, n_estimators=300; total time=   0.6s\n",
      "[CV] END ccp_alpha=1, class_weight=None, max_depth=10, n_estimators=300; total time=   0.6s\n",
      "[CV] END ccp_alpha=1, class_weight=None, max_depth=10, n_estimators=300; total time=   0.6s\n",
      "[CV] END ccp_alpha=1, class_weight=None, max_depth=10, n_estimators=300; total time=   0.6s\n",
      "[CV] END ccp_alpha=1, class_weight=None, max_depth=10, n_estimators=400; total time=   0.8s\n",
      "[CV] END ccp_alpha=1, class_weight=None, max_depth=10, n_estimators=400; total time=   0.9s\n",
      "[CV] END ccp_alpha=1, class_weight=None, max_depth=10, n_estimators=400; total time=   0.8s\n",
      "[CV] END ccp_alpha=1, class_weight=None, max_depth=10, n_estimators=400; total time=   0.8s\n",
      "[CV] END ccp_alpha=1, class_weight=None, max_depth=10, n_estimators=400; total time=   0.8s\n",
      "[CV] END ccp_alpha=1, class_weight=None, max_depth=20, n_estimators=50; total time=   0.2s\n",
      "[CV] END ccp_alpha=1, class_weight=None, max_depth=20, n_estimators=50; total time=   0.2s\n",
      "[CV] END ccp_alpha=1, class_weight=None, max_depth=20, n_estimators=50; total time=   0.2s\n",
      "[CV] END ccp_alpha=1, class_weight=None, max_depth=20, n_estimators=50; total time=   0.2s\n",
      "[CV] END ccp_alpha=1, class_weight=None, max_depth=20, n_estimators=50; total time=   0.2s\n",
      "[CV] END ccp_alpha=1, class_weight=None, max_depth=20, n_estimators=100; total time=   0.3s\n",
      "[CV] END ccp_alpha=1, class_weight=None, max_depth=20, n_estimators=100; total time=   0.3s\n",
      "[CV] END ccp_alpha=1, class_weight=None, max_depth=20, n_estimators=100; total time=   0.3s\n",
      "[CV] END ccp_alpha=1, class_weight=None, max_depth=20, n_estimators=100; total time=   0.3s\n",
      "[CV] END ccp_alpha=1, class_weight=None, max_depth=20, n_estimators=100; total time=   0.3s\n",
      "[CV] END ccp_alpha=1, class_weight=None, max_depth=20, n_estimators=200; total time=   0.6s\n",
      "[CV] END ccp_alpha=1, class_weight=None, max_depth=20, n_estimators=200; total time=   0.6s\n",
      "[CV] END ccp_alpha=1, class_weight=None, max_depth=20, n_estimators=200; total time=   0.6s\n",
      "[CV] END ccp_alpha=1, class_weight=None, max_depth=20, n_estimators=200; total time=   0.6s\n",
      "[CV] END ccp_alpha=1, class_weight=None, max_depth=20, n_estimators=200; total time=   0.6s\n",
      "[CV] END ccp_alpha=1, class_weight=None, max_depth=20, n_estimators=300; total time=   0.9s\n",
      "[CV] END ccp_alpha=1, class_weight=None, max_depth=20, n_estimators=300; total time=   0.9s\n",
      "[CV] END ccp_alpha=1, class_weight=None, max_depth=20, n_estimators=300; total time=   0.8s\n",
      "[CV] END ccp_alpha=1, class_weight=None, max_depth=20, n_estimators=300; total time=   0.9s\n",
      "[CV] END ccp_alpha=1, class_weight=None, max_depth=20, n_estimators=300; total time=   0.9s\n",
      "[CV] END ccp_alpha=1, class_weight=None, max_depth=20, n_estimators=400; total time=   1.1s\n",
      "[CV] END ccp_alpha=1, class_weight=None, max_depth=20, n_estimators=400; total time=   1.2s\n",
      "[CV] END ccp_alpha=1, class_weight=None, max_depth=20, n_estimators=400; total time=   1.1s\n",
      "[CV] END ccp_alpha=1, class_weight=None, max_depth=20, n_estimators=400; total time=   1.2s\n",
      "[CV] END ccp_alpha=1, class_weight=None, max_depth=20, n_estimators=400; total time=   1.2s\n",
      "[CV] END ccp_alpha=1, class_weight=None, max_depth=30, n_estimators=50; total time=   0.2s\n",
      "[CV] END ccp_alpha=1, class_weight=None, max_depth=30, n_estimators=50; total time=   0.2s\n",
      "[CV] END ccp_alpha=1, class_weight=None, max_depth=30, n_estimators=50; total time=   0.2s\n",
      "[CV] END ccp_alpha=1, class_weight=None, max_depth=30, n_estimators=50; total time=   0.2s\n",
      "[CV] END ccp_alpha=1, class_weight=None, max_depth=30, n_estimators=50; total time=   0.2s\n",
      "[CV] END ccp_alpha=1, class_weight=None, max_depth=30, n_estimators=100; total time=   0.3s\n",
      "[CV] END ccp_alpha=1, class_weight=None, max_depth=30, n_estimators=100; total time=   0.4s\n",
      "[CV] END ccp_alpha=1, class_weight=None, max_depth=30, n_estimators=100; total time=   0.3s\n",
      "[CV] END ccp_alpha=1, class_weight=None, max_depth=30, n_estimators=100; total time=   0.3s\n",
      "[CV] END ccp_alpha=1, class_weight=None, max_depth=30, n_estimators=100; total time=   0.3s\n",
      "[CV] END ccp_alpha=1, class_weight=None, max_depth=30, n_estimators=200; total time=   0.7s\n",
      "[CV] END ccp_alpha=1, class_weight=None, max_depth=30, n_estimators=200; total time=   0.7s\n",
      "[CV] END ccp_alpha=1, class_weight=None, max_depth=30, n_estimators=200; total time=   0.7s\n",
      "[CV] END ccp_alpha=1, class_weight=None, max_depth=30, n_estimators=200; total time=   0.7s\n",
      "[CV] END ccp_alpha=1, class_weight=None, max_depth=30, n_estimators=200; total time=   0.7s\n",
      "[CV] END ccp_alpha=1, class_weight=None, max_depth=30, n_estimators=300; total time=   1.0s\n",
      "[CV] END ccp_alpha=1, class_weight=None, max_depth=30, n_estimators=300; total time=   1.0s\n",
      "[CV] END ccp_alpha=1, class_weight=None, max_depth=30, n_estimators=300; total time=   1.0s\n",
      "[CV] END ccp_alpha=1, class_weight=None, max_depth=30, n_estimators=300; total time=   1.0s\n",
      "[CV] END ccp_alpha=1, class_weight=None, max_depth=30, n_estimators=300; total time=   1.0s\n",
      "[CV] END ccp_alpha=1, class_weight=None, max_depth=30, n_estimators=400; total time=   1.3s\n",
      "[CV] END ccp_alpha=1, class_weight=None, max_depth=30, n_estimators=400; total time=   1.3s\n",
      "[CV] END ccp_alpha=1, class_weight=None, max_depth=30, n_estimators=400; total time=   1.3s\n",
      "[CV] END ccp_alpha=1, class_weight=None, max_depth=30, n_estimators=400; total time=   1.3s\n",
      "[CV] END ccp_alpha=1, class_weight=None, max_depth=30, n_estimators=400; total time=   1.3s\n",
      "[CV] END ccp_alpha=1, class_weight=balanced, max_depth=None, n_estimators=50; total time=   0.2s\n",
      "[CV] END ccp_alpha=1, class_weight=balanced, max_depth=None, n_estimators=50; total time=   0.2s\n",
      "[CV] END ccp_alpha=1, class_weight=balanced, max_depth=None, n_estimators=50; total time=   0.2s\n",
      "[CV] END ccp_alpha=1, class_weight=balanced, max_depth=None, n_estimators=50; total time=   0.2s\n",
      "[CV] END ccp_alpha=1, class_weight=balanced, max_depth=None, n_estimators=50; total time=   0.2s\n",
      "[CV] END ccp_alpha=1, class_weight=balanced, max_depth=None, n_estimators=100; total time=   0.4s\n",
      "[CV] END ccp_alpha=1, class_weight=balanced, max_depth=None, n_estimators=100; total time=   0.4s\n",
      "[CV] END ccp_alpha=1, class_weight=balanced, max_depth=None, n_estimators=100; total time=   0.4s\n",
      "[CV] END ccp_alpha=1, class_weight=balanced, max_depth=None, n_estimators=100; total time=   0.4s\n",
      "[CV] END ccp_alpha=1, class_weight=balanced, max_depth=None, n_estimators=100; total time=   0.4s\n",
      "[CV] END ccp_alpha=1, class_weight=balanced, max_depth=None, n_estimators=200; total time=   0.7s\n",
      "[CV] END ccp_alpha=1, class_weight=balanced, max_depth=None, n_estimators=200; total time=   0.7s\n",
      "[CV] END ccp_alpha=1, class_weight=balanced, max_depth=None, n_estimators=200; total time=   0.7s\n",
      "[CV] END ccp_alpha=1, class_weight=balanced, max_depth=None, n_estimators=200; total time=   0.7s\n",
      "[CV] END ccp_alpha=1, class_weight=balanced, max_depth=None, n_estimators=200; total time=   0.7s\n",
      "[CV] END ccp_alpha=1, class_weight=balanced, max_depth=None, n_estimators=300; total time=   1.0s\n",
      "[CV] END ccp_alpha=1, class_weight=balanced, max_depth=None, n_estimators=300; total time=   1.1s\n",
      "[CV] END ccp_alpha=1, class_weight=balanced, max_depth=None, n_estimators=300; total time=   1.0s\n",
      "[CV] END ccp_alpha=1, class_weight=balanced, max_depth=None, n_estimators=300; total time=   1.1s\n",
      "[CV] END ccp_alpha=1, class_weight=balanced, max_depth=None, n_estimators=300; total time=   1.0s\n",
      "[CV] END ccp_alpha=1, class_weight=balanced, max_depth=None, n_estimators=400; total time=   1.4s\n",
      "[CV] END ccp_alpha=1, class_weight=balanced, max_depth=None, n_estimators=400; total time=   1.4s\n",
      "[CV] END ccp_alpha=1, class_weight=balanced, max_depth=None, n_estimators=400; total time=   1.4s\n",
      "[CV] END ccp_alpha=1, class_weight=balanced, max_depth=None, n_estimators=400; total time=   1.3s\n",
      "[CV] END ccp_alpha=1, class_weight=balanced, max_depth=None, n_estimators=400; total time=   1.4s\n",
      "[CV] END ccp_alpha=1, class_weight=balanced, max_depth=10, n_estimators=50; total time=   0.1s\n",
      "[CV] END ccp_alpha=1, class_weight=balanced, max_depth=10, n_estimators=50; total time=   0.1s\n",
      "[CV] END ccp_alpha=1, class_weight=balanced, max_depth=10, n_estimators=50; total time=   0.1s\n",
      "[CV] END ccp_alpha=1, class_weight=balanced, max_depth=10, n_estimators=50; total time=   0.1s\n",
      "[CV] END ccp_alpha=1, class_weight=balanced, max_depth=10, n_estimators=50; total time=   0.1s\n",
      "[CV] END ccp_alpha=1, class_weight=balanced, max_depth=10, n_estimators=100; total time=   0.2s\n",
      "[CV] END ccp_alpha=1, class_weight=balanced, max_depth=10, n_estimators=100; total time=   0.2s\n",
      "[CV] END ccp_alpha=1, class_weight=balanced, max_depth=10, n_estimators=100; total time=   0.2s\n",
      "[CV] END ccp_alpha=1, class_weight=balanced, max_depth=10, n_estimators=100; total time=   0.2s\n",
      "[CV] END ccp_alpha=1, class_weight=balanced, max_depth=10, n_estimators=100; total time=   0.2s\n",
      "[CV] END ccp_alpha=1, class_weight=balanced, max_depth=10, n_estimators=200; total time=   0.4s\n",
      "[CV] END ccp_alpha=1, class_weight=balanced, max_depth=10, n_estimators=200; total time=   0.4s\n",
      "[CV] END ccp_alpha=1, class_weight=balanced, max_depth=10, n_estimators=200; total time=   0.4s\n",
      "[CV] END ccp_alpha=1, class_weight=balanced, max_depth=10, n_estimators=200; total time=   0.5s\n",
      "[CV] END ccp_alpha=1, class_weight=balanced, max_depth=10, n_estimators=200; total time=   0.4s\n",
      "[CV] END ccp_alpha=1, class_weight=balanced, max_depth=10, n_estimators=300; total time=   0.6s\n",
      "[CV] END ccp_alpha=1, class_weight=balanced, max_depth=10, n_estimators=300; total time=   0.6s\n",
      "[CV] END ccp_alpha=1, class_weight=balanced, max_depth=10, n_estimators=300; total time=   0.6s\n",
      "[CV] END ccp_alpha=1, class_weight=balanced, max_depth=10, n_estimators=300; total time=   0.6s\n",
      "[CV] END ccp_alpha=1, class_weight=balanced, max_depth=10, n_estimators=300; total time=   0.6s\n",
      "[CV] END ccp_alpha=1, class_weight=balanced, max_depth=10, n_estimators=400; total time=   0.8s\n",
      "[CV] END ccp_alpha=1, class_weight=balanced, max_depth=10, n_estimators=400; total time=   0.8s\n",
      "[CV] END ccp_alpha=1, class_weight=balanced, max_depth=10, n_estimators=400; total time=   0.8s\n",
      "[CV] END ccp_alpha=1, class_weight=balanced, max_depth=10, n_estimators=400; total time=   0.8s\n",
      "[CV] END ccp_alpha=1, class_weight=balanced, max_depth=10, n_estimators=400; total time=   0.9s\n",
      "[CV] END ccp_alpha=1, class_weight=balanced, max_depth=20, n_estimators=50; total time=   0.2s\n",
      "[CV] END ccp_alpha=1, class_weight=balanced, max_depth=20, n_estimators=50; total time=   0.2s\n",
      "[CV] END ccp_alpha=1, class_weight=balanced, max_depth=20, n_estimators=50; total time=   0.2s\n",
      "[CV] END ccp_alpha=1, class_weight=balanced, max_depth=20, n_estimators=50; total time=   0.2s\n",
      "[CV] END ccp_alpha=1, class_weight=balanced, max_depth=20, n_estimators=50; total time=   0.2s\n",
      "[CV] END ccp_alpha=1, class_weight=balanced, max_depth=20, n_estimators=100; total time=   0.3s\n",
      "[CV] END ccp_alpha=1, class_weight=balanced, max_depth=20, n_estimators=100; total time=   0.3s\n",
      "[CV] END ccp_alpha=1, class_weight=balanced, max_depth=20, n_estimators=100; total time=   0.3s\n",
      "[CV] END ccp_alpha=1, class_weight=balanced, max_depth=20, n_estimators=100; total time=   0.3s\n",
      "[CV] END ccp_alpha=1, class_weight=balanced, max_depth=20, n_estimators=100; total time=   0.3s\n",
      "[CV] END ccp_alpha=1, class_weight=balanced, max_depth=20, n_estimators=200; total time=   0.6s\n",
      "[CV] END ccp_alpha=1, class_weight=balanced, max_depth=20, n_estimators=200; total time=   0.6s\n",
      "[CV] END ccp_alpha=1, class_weight=balanced, max_depth=20, n_estimators=200; total time=   0.6s\n",
      "[CV] END ccp_alpha=1, class_weight=balanced, max_depth=20, n_estimators=200; total time=   0.6s\n",
      "[CV] END ccp_alpha=1, class_weight=balanced, max_depth=20, n_estimators=200; total time=   0.6s\n",
      "[CV] END ccp_alpha=1, class_weight=balanced, max_depth=20, n_estimators=300; total time=   0.9s\n",
      "[CV] END ccp_alpha=1, class_weight=balanced, max_depth=20, n_estimators=300; total time=   0.9s\n",
      "[CV] END ccp_alpha=1, class_weight=balanced, max_depth=20, n_estimators=300; total time=   0.9s\n",
      "[CV] END ccp_alpha=1, class_weight=balanced, max_depth=20, n_estimators=300; total time=   0.9s\n",
      "[CV] END ccp_alpha=1, class_weight=balanced, max_depth=20, n_estimators=300; total time=   0.9s\n",
      "[CV] END ccp_alpha=1, class_weight=balanced, max_depth=20, n_estimators=400; total time=   1.2s\n",
      "[CV] END ccp_alpha=1, class_weight=balanced, max_depth=20, n_estimators=400; total time=   1.2s\n",
      "[CV] END ccp_alpha=1, class_weight=balanced, max_depth=20, n_estimators=400; total time=   1.2s\n",
      "[CV] END ccp_alpha=1, class_weight=balanced, max_depth=20, n_estimators=400; total time=   1.2s\n",
      "[CV] END ccp_alpha=1, class_weight=balanced, max_depth=20, n_estimators=400; total time=   1.2s\n",
      "[CV] END ccp_alpha=1, class_weight=balanced, max_depth=30, n_estimators=50; total time=   0.2s\n",
      "[CV] END ccp_alpha=1, class_weight=balanced, max_depth=30, n_estimators=50; total time=   0.2s\n",
      "[CV] END ccp_alpha=1, class_weight=balanced, max_depth=30, n_estimators=50; total time=   0.2s\n",
      "[CV] END ccp_alpha=1, class_weight=balanced, max_depth=30, n_estimators=50; total time=   0.2s\n",
      "[CV] END ccp_alpha=1, class_weight=balanced, max_depth=30, n_estimators=50; total time=   0.2s\n",
      "[CV] END ccp_alpha=1, class_weight=balanced, max_depth=30, n_estimators=100; total time=   0.4s\n",
      "[CV] END ccp_alpha=1, class_weight=balanced, max_depth=30, n_estimators=100; total time=   0.4s\n",
      "[CV] END ccp_alpha=1, class_weight=balanced, max_depth=30, n_estimators=100; total time=   0.4s\n",
      "[CV] END ccp_alpha=1, class_weight=balanced, max_depth=30, n_estimators=100; total time=   0.4s\n",
      "[CV] END ccp_alpha=1, class_weight=balanced, max_depth=30, n_estimators=100; total time=   0.4s\n",
      "[CV] END ccp_alpha=1, class_weight=balanced, max_depth=30, n_estimators=200; total time=   0.7s\n",
      "[CV] END ccp_alpha=1, class_weight=balanced, max_depth=30, n_estimators=200; total time=   0.7s\n",
      "[CV] END ccp_alpha=1, class_weight=balanced, max_depth=30, n_estimators=200; total time=   0.7s\n",
      "[CV] END ccp_alpha=1, class_weight=balanced, max_depth=30, n_estimators=200; total time=   0.7s\n",
      "[CV] END ccp_alpha=1, class_weight=balanced, max_depth=30, n_estimators=200; total time=   0.7s\n",
      "[CV] END ccp_alpha=1, class_weight=balanced, max_depth=30, n_estimators=300; total time=   1.0s\n",
      "[CV] END ccp_alpha=1, class_weight=balanced, max_depth=30, n_estimators=300; total time=   1.0s\n",
      "[CV] END ccp_alpha=1, class_weight=balanced, max_depth=30, n_estimators=300; total time=   1.0s\n",
      "[CV] END ccp_alpha=1, class_weight=balanced, max_depth=30, n_estimators=300; total time=   1.0s\n",
      "[CV] END ccp_alpha=1, class_weight=balanced, max_depth=30, n_estimators=300; total time=   1.0s\n",
      "[CV] END ccp_alpha=1, class_weight=balanced, max_depth=30, n_estimators=400; total time=   1.4s\n",
      "[CV] END ccp_alpha=1, class_weight=balanced, max_depth=30, n_estimators=400; total time=   1.3s\n",
      "[CV] END ccp_alpha=1, class_weight=balanced, max_depth=30, n_estimators=400; total time=   1.4s\n",
      "[CV] END ccp_alpha=1, class_weight=balanced, max_depth=30, n_estimators=400; total time=   1.3s\n",
      "[CV] END ccp_alpha=1, class_weight=balanced, max_depth=30, n_estimators=400; total time=   1.3s\n",
      "[CV] END ccp_alpha=1, class_weight=balanced_subsample, max_depth=None, n_estimators=50; total time=   0.2s\n",
      "[CV] END ccp_alpha=1, class_weight=balanced_subsample, max_depth=None, n_estimators=50; total time=   0.3s\n",
      "[CV] END ccp_alpha=1, class_weight=balanced_subsample, max_depth=None, n_estimators=50; total time=   0.2s\n",
      "[CV] END ccp_alpha=1, class_weight=balanced_subsample, max_depth=None, n_estimators=50; total time=   0.3s\n",
      "[CV] END ccp_alpha=1, class_weight=balanced_subsample, max_depth=None, n_estimators=50; total time=   0.3s\n",
      "[CV] END ccp_alpha=1, class_weight=balanced_subsample, max_depth=None, n_estimators=100; total time=   0.4s\n",
      "[CV] END ccp_alpha=1, class_weight=balanced_subsample, max_depth=None, n_estimators=100; total time=   0.5s\n",
      "[CV] END ccp_alpha=1, class_weight=balanced_subsample, max_depth=None, n_estimators=100; total time=   0.5s\n",
      "[CV] END ccp_alpha=1, class_weight=balanced_subsample, max_depth=None, n_estimators=100; total time=   0.5s\n",
      "[CV] END ccp_alpha=1, class_weight=balanced_subsample, max_depth=None, n_estimators=100; total time=   0.4s\n",
      "[CV] END ccp_alpha=1, class_weight=balanced_subsample, max_depth=None, n_estimators=200; total time=   0.9s\n",
      "[CV] END ccp_alpha=1, class_weight=balanced_subsample, max_depth=None, n_estimators=200; total time=   0.9s\n",
      "[CV] END ccp_alpha=1, class_weight=balanced_subsample, max_depth=None, n_estimators=200; total time=   0.8s\n",
      "[CV] END ccp_alpha=1, class_weight=balanced_subsample, max_depth=None, n_estimators=200; total time=   0.9s\n",
      "[CV] END ccp_alpha=1, class_weight=balanced_subsample, max_depth=None, n_estimators=200; total time=   0.8s\n",
      "[CV] END ccp_alpha=1, class_weight=balanced_subsample, max_depth=None, n_estimators=300; total time=   1.3s\n",
      "[CV] END ccp_alpha=1, class_weight=balanced_subsample, max_depth=None, n_estimators=300; total time=   1.2s\n",
      "[CV] END ccp_alpha=1, class_weight=balanced_subsample, max_depth=None, n_estimators=300; total time=   1.3s\n",
      "[CV] END ccp_alpha=1, class_weight=balanced_subsample, max_depth=None, n_estimators=300; total time=   1.2s\n",
      "[CV] END ccp_alpha=1, class_weight=balanced_subsample, max_depth=None, n_estimators=300; total time=   1.3s\n",
      "[CV] END ccp_alpha=1, class_weight=balanced_subsample, max_depth=None, n_estimators=400; total time=   1.7s\n",
      "[CV] END ccp_alpha=1, class_weight=balanced_subsample, max_depth=None, n_estimators=400; total time=   1.7s\n",
      "[CV] END ccp_alpha=1, class_weight=balanced_subsample, max_depth=None, n_estimators=400; total time=   1.6s\n",
      "[CV] END ccp_alpha=1, class_weight=balanced_subsample, max_depth=None, n_estimators=400; total time=   1.6s\n",
      "[CV] END ccp_alpha=1, class_weight=balanced_subsample, max_depth=None, n_estimators=400; total time=   1.6s\n",
      "[CV] END ccp_alpha=1, class_weight=balanced_subsample, max_depth=10, n_estimators=50; total time=   0.2s\n",
      "[CV] END ccp_alpha=1, class_weight=balanced_subsample, max_depth=10, n_estimators=50; total time=   0.2s\n",
      "[CV] END ccp_alpha=1, class_weight=balanced_subsample, max_depth=10, n_estimators=50; total time=   0.2s\n",
      "[CV] END ccp_alpha=1, class_weight=balanced_subsample, max_depth=10, n_estimators=50; total time=   0.2s\n",
      "[CV] END ccp_alpha=1, class_weight=balanced_subsample, max_depth=10, n_estimators=50; total time=   0.2s\n",
      "[CV] END ccp_alpha=1, class_weight=balanced_subsample, max_depth=10, n_estimators=100; total time=   0.3s\n",
      "[CV] END ccp_alpha=1, class_weight=balanced_subsample, max_depth=10, n_estimators=100; total time=   0.3s\n",
      "[CV] END ccp_alpha=1, class_weight=balanced_subsample, max_depth=10, n_estimators=100; total time=   0.4s\n",
      "[CV] END ccp_alpha=1, class_weight=balanced_subsample, max_depth=10, n_estimators=100; total time=   0.4s\n",
      "[CV] END ccp_alpha=1, class_weight=balanced_subsample, max_depth=10, n_estimators=100; total time=   0.3s\n",
      "[CV] END ccp_alpha=1, class_weight=balanced_subsample, max_depth=10, n_estimators=200; total time=   0.6s\n",
      "[CV] END ccp_alpha=1, class_weight=balanced_subsample, max_depth=10, n_estimators=200; total time=   0.6s\n",
      "[CV] END ccp_alpha=1, class_weight=balanced_subsample, max_depth=10, n_estimators=200; total time=   0.6s\n",
      "[CV] END ccp_alpha=1, class_weight=balanced_subsample, max_depth=10, n_estimators=200; total time=   0.6s\n",
      "[CV] END ccp_alpha=1, class_weight=balanced_subsample, max_depth=10, n_estimators=200; total time=   0.6s\n",
      "[CV] END ccp_alpha=1, class_weight=balanced_subsample, max_depth=10, n_estimators=300; total time=   0.9s\n",
      "[CV] END ccp_alpha=1, class_weight=balanced_subsample, max_depth=10, n_estimators=300; total time=   0.9s\n",
      "[CV] END ccp_alpha=1, class_weight=balanced_subsample, max_depth=10, n_estimators=300; total time=   0.9s\n",
      "[CV] END ccp_alpha=1, class_weight=balanced_subsample, max_depth=10, n_estimators=300; total time=   0.9s\n",
      "[CV] END ccp_alpha=1, class_weight=balanced_subsample, max_depth=10, n_estimators=300; total time=   0.9s\n",
      "[CV] END ccp_alpha=1, class_weight=balanced_subsample, max_depth=10, n_estimators=400; total time=   1.1s\n",
      "[CV] END ccp_alpha=1, class_weight=balanced_subsample, max_depth=10, n_estimators=400; total time=   1.2s\n",
      "[CV] END ccp_alpha=1, class_weight=balanced_subsample, max_depth=10, n_estimators=400; total time=   1.2s\n",
      "[CV] END ccp_alpha=1, class_weight=balanced_subsample, max_depth=10, n_estimators=400; total time=   1.3s\n",
      "[CV] END ccp_alpha=1, class_weight=balanced_subsample, max_depth=10, n_estimators=400; total time=   1.1s\n",
      "[CV] END ccp_alpha=1, class_weight=balanced_subsample, max_depth=20, n_estimators=50; total time=   0.3s\n",
      "[CV] END ccp_alpha=1, class_weight=balanced_subsample, max_depth=20, n_estimators=50; total time=   0.2s\n",
      "[CV] END ccp_alpha=1, class_weight=balanced_subsample, max_depth=20, n_estimators=50; total time=   0.2s\n",
      "[CV] END ccp_alpha=1, class_weight=balanced_subsample, max_depth=20, n_estimators=50; total time=   0.2s\n",
      "[CV] END ccp_alpha=1, class_weight=balanced_subsample, max_depth=20, n_estimators=50; total time=   0.2s\n",
      "[CV] END ccp_alpha=1, class_weight=balanced_subsample, max_depth=20, n_estimators=100; total time=   0.4s\n",
      "[CV] END ccp_alpha=1, class_weight=balanced_subsample, max_depth=20, n_estimators=100; total time=   0.4s\n",
      "[CV] END ccp_alpha=1, class_weight=balanced_subsample, max_depth=20, n_estimators=100; total time=   0.4s\n",
      "[CV] END ccp_alpha=1, class_weight=balanced_subsample, max_depth=20, n_estimators=100; total time=   0.4s\n",
      "[CV] END ccp_alpha=1, class_weight=balanced_subsample, max_depth=20, n_estimators=100; total time=   0.4s\n",
      "[CV] END ccp_alpha=1, class_weight=balanced_subsample, max_depth=20, n_estimators=200; total time=   0.8s\n",
      "[CV] END ccp_alpha=1, class_weight=balanced_subsample, max_depth=20, n_estimators=200; total time=   0.8s\n",
      "[CV] END ccp_alpha=1, class_weight=balanced_subsample, max_depth=20, n_estimators=200; total time=   0.8s\n",
      "[CV] END ccp_alpha=1, class_weight=balanced_subsample, max_depth=20, n_estimators=200; total time=   0.8s\n",
      "[CV] END ccp_alpha=1, class_weight=balanced_subsample, max_depth=20, n_estimators=200; total time=   0.7s\n",
      "[CV] END ccp_alpha=1, class_weight=balanced_subsample, max_depth=20, n_estimators=300; total time=   1.0s\n",
      "[CV] END ccp_alpha=1, class_weight=balanced_subsample, max_depth=20, n_estimators=300; total time=   1.1s\n",
      "[CV] END ccp_alpha=1, class_weight=balanced_subsample, max_depth=20, n_estimators=300; total time=   1.1s\n",
      "[CV] END ccp_alpha=1, class_weight=balanced_subsample, max_depth=20, n_estimators=300; total time=   1.1s\n",
      "[CV] END ccp_alpha=1, class_weight=balanced_subsample, max_depth=20, n_estimators=300; total time=   1.1s\n",
      "[CV] END ccp_alpha=1, class_weight=balanced_subsample, max_depth=20, n_estimators=400; total time=   1.5s\n",
      "[CV] END ccp_alpha=1, class_weight=balanced_subsample, max_depth=20, n_estimators=400; total time=   1.5s\n",
      "[CV] END ccp_alpha=1, class_weight=balanced_subsample, max_depth=20, n_estimators=400; total time=   1.5s\n",
      "[CV] END ccp_alpha=1, class_weight=balanced_subsample, max_depth=20, n_estimators=400; total time=   1.5s\n",
      "[CV] END ccp_alpha=1, class_weight=balanced_subsample, max_depth=20, n_estimators=400; total time=   1.4s\n",
      "[CV] END ccp_alpha=1, class_weight=balanced_subsample, max_depth=30, n_estimators=50; total time=   0.3s\n",
      "[CV] END ccp_alpha=1, class_weight=balanced_subsample, max_depth=30, n_estimators=50; total time=   0.3s\n",
      "[CV] END ccp_alpha=1, class_weight=balanced_subsample, max_depth=30, n_estimators=50; total time=   0.2s\n",
      "[CV] END ccp_alpha=1, class_weight=balanced_subsample, max_depth=30, n_estimators=50; total time=   0.3s\n",
      "[CV] END ccp_alpha=1, class_weight=balanced_subsample, max_depth=30, n_estimators=50; total time=   0.3s\n",
      "[CV] END ccp_alpha=1, class_weight=balanced_subsample, max_depth=30, n_estimators=100; total time=   0.4s\n",
      "[CV] END ccp_alpha=1, class_weight=balanced_subsample, max_depth=30, n_estimators=100; total time=   0.5s\n",
      "[CV] END ccp_alpha=1, class_weight=balanced_subsample, max_depth=30, n_estimators=100; total time=   0.5s\n",
      "[CV] END ccp_alpha=1, class_weight=balanced_subsample, max_depth=30, n_estimators=100; total time=   0.5s\n",
      "[CV] END ccp_alpha=1, class_weight=balanced_subsample, max_depth=30, n_estimators=100; total time=   0.5s\n",
      "[CV] END ccp_alpha=1, class_weight=balanced_subsample, max_depth=30, n_estimators=200; total time=   0.9s\n",
      "[CV] END ccp_alpha=1, class_weight=balanced_subsample, max_depth=30, n_estimators=200; total time=   0.9s\n",
      "[CV] END ccp_alpha=1, class_weight=balanced_subsample, max_depth=30, n_estimators=200; total time=   0.9s\n",
      "[CV] END ccp_alpha=1, class_weight=balanced_subsample, max_depth=30, n_estimators=200; total time=   0.9s\n",
      "[CV] END ccp_alpha=1, class_weight=balanced_subsample, max_depth=30, n_estimators=200; total time=   0.8s\n",
      "[CV] END ccp_alpha=1, class_weight=balanced_subsample, max_depth=30, n_estimators=300; total time=   1.3s\n",
      "[CV] END ccp_alpha=1, class_weight=balanced_subsample, max_depth=30, n_estimators=300; total time=   1.2s\n",
      "[CV] END ccp_alpha=1, class_weight=balanced_subsample, max_depth=30, n_estimators=300; total time=   1.2s\n",
      "[CV] END ccp_alpha=1, class_weight=balanced_subsample, max_depth=30, n_estimators=300; total time=   1.2s\n",
      "[CV] END ccp_alpha=1, class_weight=balanced_subsample, max_depth=30, n_estimators=300; total time=   1.3s\n",
      "[CV] END ccp_alpha=1, class_weight=balanced_subsample, max_depth=30, n_estimators=400; total time=   1.6s\n",
      "[CV] END ccp_alpha=1, class_weight=balanced_subsample, max_depth=30, n_estimators=400; total time=   1.6s\n",
      "[CV] END ccp_alpha=1, class_weight=balanced_subsample, max_depth=30, n_estimators=400; total time=   1.6s\n",
      "[CV] END ccp_alpha=1, class_weight=balanced_subsample, max_depth=30, n_estimators=400; total time=   1.6s\n",
      "[CV] END ccp_alpha=1, class_weight=balanced_subsample, max_depth=30, n_estimators=400; total time=   1.6s\n",
      "[CV] END ccp_alpha=1, class_weight={0: 1, 1: 2}, max_depth=None, n_estimators=50; total time=   0.2s\n",
      "[CV] END ccp_alpha=1, class_weight={0: 1, 1: 2}, max_depth=None, n_estimators=50; total time=   0.2s\n",
      "[CV] END ccp_alpha=1, class_weight={0: 1, 1: 2}, max_depth=None, n_estimators=50; total time=   0.2s\n",
      "[CV] END ccp_alpha=1, class_weight={0: 1, 1: 2}, max_depth=None, n_estimators=50; total time=   0.2s\n",
      "[CV] END ccp_alpha=1, class_weight={0: 1, 1: 2}, max_depth=None, n_estimators=50; total time=   0.2s\n",
      "[CV] END ccp_alpha=1, class_weight={0: 1, 1: 2}, max_depth=None, n_estimators=100; total time=   0.4s\n",
      "[CV] END ccp_alpha=1, class_weight={0: 1, 1: 2}, max_depth=None, n_estimators=100; total time=   0.4s\n",
      "[CV] END ccp_alpha=1, class_weight={0: 1, 1: 2}, max_depth=None, n_estimators=100; total time=   0.4s\n",
      "[CV] END ccp_alpha=1, class_weight={0: 1, 1: 2}, max_depth=None, n_estimators=100; total time=   0.4s\n",
      "[CV] END ccp_alpha=1, class_weight={0: 1, 1: 2}, max_depth=None, n_estimators=100; total time=   0.4s\n",
      "[CV] END ccp_alpha=1, class_weight={0: 1, 1: 2}, max_depth=None, n_estimators=200; total time=   0.7s\n",
      "[CV] END ccp_alpha=1, class_weight={0: 1, 1: 2}, max_depth=None, n_estimators=200; total time=   0.7s\n",
      "[CV] END ccp_alpha=1, class_weight={0: 1, 1: 2}, max_depth=None, n_estimators=200; total time=   0.7s\n",
      "[CV] END ccp_alpha=1, class_weight={0: 1, 1: 2}, max_depth=None, n_estimators=200; total time=   0.7s\n",
      "[CV] END ccp_alpha=1, class_weight={0: 1, 1: 2}, max_depth=None, n_estimators=200; total time=   0.7s\n",
      "[CV] END ccp_alpha=1, class_weight={0: 1, 1: 2}, max_depth=None, n_estimators=300; total time=   1.0s\n",
      "[CV] END ccp_alpha=1, class_weight={0: 1, 1: 2}, max_depth=None, n_estimators=300; total time=   1.1s\n",
      "[CV] END ccp_alpha=1, class_weight={0: 1, 1: 2}, max_depth=None, n_estimators=300; total time=   1.0s\n",
      "[CV] END ccp_alpha=1, class_weight={0: 1, 1: 2}, max_depth=None, n_estimators=300; total time=   1.1s\n",
      "[CV] END ccp_alpha=1, class_weight={0: 1, 1: 2}, max_depth=None, n_estimators=300; total time=   1.0s\n",
      "[CV] END ccp_alpha=1, class_weight={0: 1, 1: 2}, max_depth=None, n_estimators=400; total time=   1.3s\n",
      "[CV] END ccp_alpha=1, class_weight={0: 1, 1: 2}, max_depth=None, n_estimators=400; total time=   1.4s\n",
      "[CV] END ccp_alpha=1, class_weight={0: 1, 1: 2}, max_depth=None, n_estimators=400; total time=   1.3s\n",
      "[CV] END ccp_alpha=1, class_weight={0: 1, 1: 2}, max_depth=None, n_estimators=400; total time=   1.4s\n",
      "[CV] END ccp_alpha=1, class_weight={0: 1, 1: 2}, max_depth=None, n_estimators=400; total time=   1.4s\n",
      "[CV] END ccp_alpha=1, class_weight={0: 1, 1: 2}, max_depth=10, n_estimators=50; total time=   0.1s\n",
      "[CV] END ccp_alpha=1, class_weight={0: 1, 1: 2}, max_depth=10, n_estimators=50; total time=   0.1s\n",
      "[CV] END ccp_alpha=1, class_weight={0: 1, 1: 2}, max_depth=10, n_estimators=50; total time=   0.1s\n",
      "[CV] END ccp_alpha=1, class_weight={0: 1, 1: 2}, max_depth=10, n_estimators=50; total time=   0.1s\n",
      "[CV] END ccp_alpha=1, class_weight={0: 1, 1: 2}, max_depth=10, n_estimators=50; total time=   0.1s\n",
      "[CV] END ccp_alpha=1, class_weight={0: 1, 1: 2}, max_depth=10, n_estimators=100; total time=   0.2s\n",
      "[CV] END ccp_alpha=1, class_weight={0: 1, 1: 2}, max_depth=10, n_estimators=100; total time=   0.2s\n",
      "[CV] END ccp_alpha=1, class_weight={0: 1, 1: 2}, max_depth=10, n_estimators=100; total time=   0.2s\n",
      "[CV] END ccp_alpha=1, class_weight={0: 1, 1: 2}, max_depth=10, n_estimators=100; total time=   0.2s\n",
      "[CV] END ccp_alpha=1, class_weight={0: 1, 1: 2}, max_depth=10, n_estimators=100; total time=   0.2s\n",
      "[CV] END ccp_alpha=1, class_weight={0: 1, 1: 2}, max_depth=10, n_estimators=200; total time=   0.4s\n",
      "[CV] END ccp_alpha=1, class_weight={0: 1, 1: 2}, max_depth=10, n_estimators=200; total time=   0.5s\n",
      "[CV] END ccp_alpha=1, class_weight={0: 1, 1: 2}, max_depth=10, n_estimators=200; total time=   0.5s\n",
      "[CV] END ccp_alpha=1, class_weight={0: 1, 1: 2}, max_depth=10, n_estimators=200; total time=   0.4s\n",
      "[CV] END ccp_alpha=1, class_weight={0: 1, 1: 2}, max_depth=10, n_estimators=200; total time=   0.5s\n",
      "[CV] END ccp_alpha=1, class_weight={0: 1, 1: 2}, max_depth=10, n_estimators=300; total time=   0.6s\n",
      "[CV] END ccp_alpha=1, class_weight={0: 1, 1: 2}, max_depth=10, n_estimators=300; total time=   0.7s\n",
      "[CV] END ccp_alpha=1, class_weight={0: 1, 1: 2}, max_depth=10, n_estimators=300; total time=   0.6s\n",
      "[CV] END ccp_alpha=1, class_weight={0: 1, 1: 2}, max_depth=10, n_estimators=300; total time=   0.6s\n",
      "[CV] END ccp_alpha=1, class_weight={0: 1, 1: 2}, max_depth=10, n_estimators=300; total time=   0.6s\n",
      "[CV] END ccp_alpha=1, class_weight={0: 1, 1: 2}, max_depth=10, n_estimators=400; total time=   0.8s\n",
      "[CV] END ccp_alpha=1, class_weight={0: 1, 1: 2}, max_depth=10, n_estimators=400; total time=   0.8s\n",
      "[CV] END ccp_alpha=1, class_weight={0: 1, 1: 2}, max_depth=10, n_estimators=400; total time=   0.8s\n",
      "[CV] END ccp_alpha=1, class_weight={0: 1, 1: 2}, max_depth=10, n_estimators=400; total time=   0.8s\n",
      "[CV] END ccp_alpha=1, class_weight={0: 1, 1: 2}, max_depth=10, n_estimators=400; total time=   0.8s\n",
      "[CV] END ccp_alpha=1, class_weight={0: 1, 1: 2}, max_depth=20, n_estimators=50; total time=   0.2s\n",
      "[CV] END ccp_alpha=1, class_weight={0: 1, 1: 2}, max_depth=20, n_estimators=50; total time=   0.2s\n",
      "[CV] END ccp_alpha=1, class_weight={0: 1, 1: 2}, max_depth=20, n_estimators=50; total time=   0.2s\n",
      "[CV] END ccp_alpha=1, class_weight={0: 1, 1: 2}, max_depth=20, n_estimators=50; total time=   0.2s\n",
      "[CV] END ccp_alpha=1, class_weight={0: 1, 1: 2}, max_depth=20, n_estimators=50; total time=   0.2s\n",
      "[CV] END ccp_alpha=1, class_weight={0: 1, 1: 2}, max_depth=20, n_estimators=100; total time=   0.3s\n",
      "[CV] END ccp_alpha=1, class_weight={0: 1, 1: 2}, max_depth=20, n_estimators=100; total time=   0.3s\n",
      "[CV] END ccp_alpha=1, class_weight={0: 1, 1: 2}, max_depth=20, n_estimators=100; total time=   0.3s\n",
      "[CV] END ccp_alpha=1, class_weight={0: 1, 1: 2}, max_depth=20, n_estimators=100; total time=   0.3s\n",
      "[CV] END ccp_alpha=1, class_weight={0: 1, 1: 2}, max_depth=20, n_estimators=100; total time=   0.3s\n",
      "[CV] END ccp_alpha=1, class_weight={0: 1, 1: 2}, max_depth=20, n_estimators=200; total time=   0.6s\n",
      "[CV] END ccp_alpha=1, class_weight={0: 1, 1: 2}, max_depth=20, n_estimators=200; total time=   0.6s\n",
      "[CV] END ccp_alpha=1, class_weight={0: 1, 1: 2}, max_depth=20, n_estimators=200; total time=   0.6s\n",
      "[CV] END ccp_alpha=1, class_weight={0: 1, 1: 2}, max_depth=20, n_estimators=200; total time=   0.6s\n",
      "[CV] END ccp_alpha=1, class_weight={0: 1, 1: 2}, max_depth=20, n_estimators=200; total time=   0.6s\n",
      "[CV] END ccp_alpha=1, class_weight={0: 1, 1: 2}, max_depth=20, n_estimators=300; total time=   0.9s\n",
      "[CV] END ccp_alpha=1, class_weight={0: 1, 1: 2}, max_depth=20, n_estimators=300; total time=   0.8s\n",
      "[CV] END ccp_alpha=1, class_weight={0: 1, 1: 2}, max_depth=20, n_estimators=300; total time=   0.9s\n",
      "[CV] END ccp_alpha=1, class_weight={0: 1, 1: 2}, max_depth=20, n_estimators=300; total time=   0.8s\n",
      "[CV] END ccp_alpha=1, class_weight={0: 1, 1: 2}, max_depth=20, n_estimators=300; total time=   0.9s\n",
      "[CV] END ccp_alpha=1, class_weight={0: 1, 1: 2}, max_depth=20, n_estimators=400; total time=   1.1s\n",
      "[CV] END ccp_alpha=1, class_weight={0: 1, 1: 2}, max_depth=20, n_estimators=400; total time=   1.1s\n",
      "[CV] END ccp_alpha=1, class_weight={0: 1, 1: 2}, max_depth=20, n_estimators=400; total time=   1.1s\n",
      "[CV] END ccp_alpha=1, class_weight={0: 1, 1: 2}, max_depth=20, n_estimators=400; total time=   1.1s\n",
      "[CV] END ccp_alpha=1, class_weight={0: 1, 1: 2}, max_depth=20, n_estimators=400; total time=   1.1s\n",
      "[CV] END ccp_alpha=1, class_weight={0: 1, 1: 2}, max_depth=30, n_estimators=50; total time=   0.2s\n",
      "[CV] END ccp_alpha=1, class_weight={0: 1, 1: 2}, max_depth=30, n_estimators=50; total time=   0.2s\n",
      "[CV] END ccp_alpha=1, class_weight={0: 1, 1: 2}, max_depth=30, n_estimators=50; total time=   0.2s\n",
      "[CV] END ccp_alpha=1, class_weight={0: 1, 1: 2}, max_depth=30, n_estimators=50; total time=   0.2s\n",
      "[CV] END ccp_alpha=1, class_weight={0: 1, 1: 2}, max_depth=30, n_estimators=50; total time=   0.2s\n",
      "[CV] END ccp_alpha=1, class_weight={0: 1, 1: 2}, max_depth=30, n_estimators=100; total time=   0.3s\n",
      "[CV] END ccp_alpha=1, class_weight={0: 1, 1: 2}, max_depth=30, n_estimators=100; total time=   0.4s\n",
      "[CV] END ccp_alpha=1, class_weight={0: 1, 1: 2}, max_depth=30, n_estimators=100; total time=   0.4s\n",
      "[CV] END ccp_alpha=1, class_weight={0: 1, 1: 2}, max_depth=30, n_estimators=100; total time=   0.3s\n",
      "[CV] END ccp_alpha=1, class_weight={0: 1, 1: 2}, max_depth=30, n_estimators=100; total time=   0.4s\n",
      "[CV] END ccp_alpha=1, class_weight={0: 1, 1: 2}, max_depth=30, n_estimators=200; total time=   0.6s\n",
      "[CV] END ccp_alpha=1, class_weight={0: 1, 1: 2}, max_depth=30, n_estimators=200; total time=   0.7s\n",
      "[CV] END ccp_alpha=1, class_weight={0: 1, 1: 2}, max_depth=30, n_estimators=200; total time=   0.6s\n",
      "[CV] END ccp_alpha=1, class_weight={0: 1, 1: 2}, max_depth=30, n_estimators=200; total time=   0.6s\n",
      "[CV] END ccp_alpha=1, class_weight={0: 1, 1: 2}, max_depth=30, n_estimators=200; total time=   0.7s\n",
      "[CV] END ccp_alpha=1, class_weight={0: 1, 1: 2}, max_depth=30, n_estimators=300; total time=   1.0s\n",
      "[CV] END ccp_alpha=1, class_weight={0: 1, 1: 2}, max_depth=30, n_estimators=300; total time=   1.0s\n",
      "[CV] END ccp_alpha=1, class_weight={0: 1, 1: 2}, max_depth=30, n_estimators=300; total time=   1.0s\n",
      "[CV] END ccp_alpha=1, class_weight={0: 1, 1: 2}, max_depth=30, n_estimators=300; total time=   0.9s\n",
      "[CV] END ccp_alpha=1, class_weight={0: 1, 1: 2}, max_depth=30, n_estimators=300; total time=   1.0s\n",
      "[CV] END ccp_alpha=1, class_weight={0: 1, 1: 2}, max_depth=30, n_estimators=400; total time=   1.3s\n",
      "[CV] END ccp_alpha=1, class_weight={0: 1, 1: 2}, max_depth=30, n_estimators=400; total time=   1.3s\n",
      "[CV] END ccp_alpha=1, class_weight={0: 1, 1: 2}, max_depth=30, n_estimators=400; total time=   1.3s\n",
      "[CV] END ccp_alpha=1, class_weight={0: 1, 1: 2}, max_depth=30, n_estimators=400; total time=   1.3s\n",
      "[CV] END ccp_alpha=1, class_weight={0: 1, 1: 2}, max_depth=30, n_estimators=400; total time=   1.4s\n",
      "[CV] END ccp_alpha=1, class_weight={0: 1, 1: 3}, max_depth=None, n_estimators=50; total time=   0.2s\n",
      "[CV] END ccp_alpha=1, class_weight={0: 1, 1: 3}, max_depth=None, n_estimators=50; total time=   0.2s\n",
      "[CV] END ccp_alpha=1, class_weight={0: 1, 1: 3}, max_depth=None, n_estimators=50; total time=   0.2s\n",
      "[CV] END ccp_alpha=1, class_weight={0: 1, 1: 3}, max_depth=None, n_estimators=50; total time=   0.2s\n",
      "[CV] END ccp_alpha=1, class_weight={0: 1, 1: 3}, max_depth=None, n_estimators=50; total time=   0.2s\n",
      "[CV] END ccp_alpha=1, class_weight={0: 1, 1: 3}, max_depth=None, n_estimators=100; total time=   0.4s\n",
      "[CV] END ccp_alpha=1, class_weight={0: 1, 1: 3}, max_depth=None, n_estimators=100; total time=   0.4s\n",
      "[CV] END ccp_alpha=1, class_weight={0: 1, 1: 3}, max_depth=None, n_estimators=100; total time=   0.4s\n",
      "[CV] END ccp_alpha=1, class_weight={0: 1, 1: 3}, max_depth=None, n_estimators=100; total time=   0.4s\n",
      "[CV] END ccp_alpha=1, class_weight={0: 1, 1: 3}, max_depth=None, n_estimators=100; total time=   0.4s\n",
      "[CV] END ccp_alpha=1, class_weight={0: 1, 1: 3}, max_depth=None, n_estimators=200; total time=   0.7s\n",
      "[CV] END ccp_alpha=1, class_weight={0: 1, 1: 3}, max_depth=None, n_estimators=200; total time=   0.7s\n",
      "[CV] END ccp_alpha=1, class_weight={0: 1, 1: 3}, max_depth=None, n_estimators=200; total time=   0.7s\n",
      "[CV] END ccp_alpha=1, class_weight={0: 1, 1: 3}, max_depth=None, n_estimators=200; total time=   0.7s\n",
      "[CV] END ccp_alpha=1, class_weight={0: 1, 1: 3}, max_depth=None, n_estimators=200; total time=   0.7s\n",
      "[CV] END ccp_alpha=1, class_weight={0: 1, 1: 3}, max_depth=None, n_estimators=300; total time=   1.0s\n",
      "[CV] END ccp_alpha=1, class_weight={0: 1, 1: 3}, max_depth=None, n_estimators=300; total time=   1.0s\n",
      "[CV] END ccp_alpha=1, class_weight={0: 1, 1: 3}, max_depth=None, n_estimators=300; total time=   1.1s\n",
      "[CV] END ccp_alpha=1, class_weight={0: 1, 1: 3}, max_depth=None, n_estimators=300; total time=   1.0s\n",
      "[CV] END ccp_alpha=1, class_weight={0: 1, 1: 3}, max_depth=None, n_estimators=300; total time=   1.1s\n",
      "[CV] END ccp_alpha=1, class_weight={0: 1, 1: 3}, max_depth=None, n_estimators=400; total time=   1.4s\n",
      "[CV] END ccp_alpha=1, class_weight={0: 1, 1: 3}, max_depth=None, n_estimators=400; total time=   1.4s\n",
      "[CV] END ccp_alpha=1, class_weight={0: 1, 1: 3}, max_depth=None, n_estimators=400; total time=   1.4s\n",
      "[CV] END ccp_alpha=1, class_weight={0: 1, 1: 3}, max_depth=None, n_estimators=400; total time=   1.4s\n",
      "[CV] END ccp_alpha=1, class_weight={0: 1, 1: 3}, max_depth=None, n_estimators=400; total time=   1.4s\n",
      "[CV] END ccp_alpha=1, class_weight={0: 1, 1: 3}, max_depth=10, n_estimators=50; total time=   0.1s\n",
      "[CV] END ccp_alpha=1, class_weight={0: 1, 1: 3}, max_depth=10, n_estimators=50; total time=   0.1s\n",
      "[CV] END ccp_alpha=1, class_weight={0: 1, 1: 3}, max_depth=10, n_estimators=50; total time=   0.1s\n",
      "[CV] END ccp_alpha=1, class_weight={0: 1, 1: 3}, max_depth=10, n_estimators=50; total time=   0.1s\n",
      "[CV] END ccp_alpha=1, class_weight={0: 1, 1: 3}, max_depth=10, n_estimators=50; total time=   0.1s\n",
      "[CV] END ccp_alpha=1, class_weight={0: 1, 1: 3}, max_depth=10, n_estimators=100; total time=   0.3s\n",
      "[CV] END ccp_alpha=1, class_weight={0: 1, 1: 3}, max_depth=10, n_estimators=100; total time=   0.2s\n",
      "[CV] END ccp_alpha=1, class_weight={0: 1, 1: 3}, max_depth=10, n_estimators=100; total time=   0.2s\n",
      "[CV] END ccp_alpha=1, class_weight={0: 1, 1: 3}, max_depth=10, n_estimators=100; total time=   0.2s\n",
      "[CV] END ccp_alpha=1, class_weight={0: 1, 1: 3}, max_depth=10, n_estimators=100; total time=   0.3s\n",
      "[CV] END ccp_alpha=1, class_weight={0: 1, 1: 3}, max_depth=10, n_estimators=200; total time=   0.4s\n",
      "[CV] END ccp_alpha=1, class_weight={0: 1, 1: 3}, max_depth=10, n_estimators=200; total time=   0.4s\n",
      "[CV] END ccp_alpha=1, class_weight={0: 1, 1: 3}, max_depth=10, n_estimators=200; total time=   0.4s\n",
      "[CV] END ccp_alpha=1, class_weight={0: 1, 1: 3}, max_depth=10, n_estimators=200; total time=   0.5s\n",
      "[CV] END ccp_alpha=1, class_weight={0: 1, 1: 3}, max_depth=10, n_estimators=200; total time=   0.4s\n",
      "[CV] END ccp_alpha=1, class_weight={0: 1, 1: 3}, max_depth=10, n_estimators=300; total time=   0.6s\n",
      "[CV] END ccp_alpha=1, class_weight={0: 1, 1: 3}, max_depth=10, n_estimators=300; total time=   0.6s\n",
      "[CV] END ccp_alpha=1, class_weight={0: 1, 1: 3}, max_depth=10, n_estimators=300; total time=   0.6s\n",
      "[CV] END ccp_alpha=1, class_weight={0: 1, 1: 3}, max_depth=10, n_estimators=300; total time=   0.7s\n",
      "[CV] END ccp_alpha=1, class_weight={0: 1, 1: 3}, max_depth=10, n_estimators=300; total time=   0.7s\n",
      "[CV] END ccp_alpha=1, class_weight={0: 1, 1: 3}, max_depth=10, n_estimators=400; total time=   0.8s\n",
      "[CV] END ccp_alpha=1, class_weight={0: 1, 1: 3}, max_depth=10, n_estimators=400; total time=   0.8s\n",
      "[CV] END ccp_alpha=1, class_weight={0: 1, 1: 3}, max_depth=10, n_estimators=400; total time=   0.8s\n",
      "[CV] END ccp_alpha=1, class_weight={0: 1, 1: 3}, max_depth=10, n_estimators=400; total time=   0.8s\n",
      "[CV] END ccp_alpha=1, class_weight={0: 1, 1: 3}, max_depth=10, n_estimators=400; total time=   0.8s\n",
      "[CV] END ccp_alpha=1, class_weight={0: 1, 1: 3}, max_depth=20, n_estimators=50; total time=   0.2s\n",
      "[CV] END ccp_alpha=1, class_weight={0: 1, 1: 3}, max_depth=20, n_estimators=50; total time=   0.2s\n",
      "[CV] END ccp_alpha=1, class_weight={0: 1, 1: 3}, max_depth=20, n_estimators=50; total time=   0.2s\n",
      "[CV] END ccp_alpha=1, class_weight={0: 1, 1: 3}, max_depth=20, n_estimators=50; total time=   0.2s\n",
      "[CV] END ccp_alpha=1, class_weight={0: 1, 1: 3}, max_depth=20, n_estimators=50; total time=   0.2s\n",
      "[CV] END ccp_alpha=1, class_weight={0: 1, 1: 3}, max_depth=20, n_estimators=100; total time=   0.3s\n",
      "[CV] END ccp_alpha=1, class_weight={0: 1, 1: 3}, max_depth=20, n_estimators=100; total time=   0.3s\n",
      "[CV] END ccp_alpha=1, class_weight={0: 1, 1: 3}, max_depth=20, n_estimators=100; total time=   0.3s\n",
      "[CV] END ccp_alpha=1, class_weight={0: 1, 1: 3}, max_depth=20, n_estimators=100; total time=   0.3s\n",
      "[CV] END ccp_alpha=1, class_weight={0: 1, 1: 3}, max_depth=20, n_estimators=100; total time=   0.3s\n",
      "[CV] END ccp_alpha=1, class_weight={0: 1, 1: 3}, max_depth=20, n_estimators=200; total time=   0.6s\n",
      "[CV] END ccp_alpha=1, class_weight={0: 1, 1: 3}, max_depth=20, n_estimators=200; total time=   0.6s\n",
      "[CV] END ccp_alpha=1, class_weight={0: 1, 1: 3}, max_depth=20, n_estimators=200; total time=   0.6s\n",
      "[CV] END ccp_alpha=1, class_weight={0: 1, 1: 3}, max_depth=20, n_estimators=200; total time=   0.6s\n",
      "[CV] END ccp_alpha=1, class_weight={0: 1, 1: 3}, max_depth=20, n_estimators=200; total time=   0.6s\n",
      "[CV] END ccp_alpha=1, class_weight={0: 1, 1: 3}, max_depth=20, n_estimators=300; total time=   0.8s\n",
      "[CV] END ccp_alpha=1, class_weight={0: 1, 1: 3}, max_depth=20, n_estimators=300; total time=   0.9s\n",
      "[CV] END ccp_alpha=1, class_weight={0: 1, 1: 3}, max_depth=20, n_estimators=300; total time=   0.9s\n",
      "[CV] END ccp_alpha=1, class_weight={0: 1, 1: 3}, max_depth=20, n_estimators=300; total time=   0.9s\n",
      "[CV] END ccp_alpha=1, class_weight={0: 1, 1: 3}, max_depth=20, n_estimators=300; total time=   0.9s\n",
      "[CV] END ccp_alpha=1, class_weight={0: 1, 1: 3}, max_depth=20, n_estimators=400; total time=   1.1s\n",
      "[CV] END ccp_alpha=1, class_weight={0: 1, 1: 3}, max_depth=20, n_estimators=400; total time=   1.1s\n",
      "[CV] END ccp_alpha=1, class_weight={0: 1, 1: 3}, max_depth=20, n_estimators=400; total time=   1.1s\n",
      "[CV] END ccp_alpha=1, class_weight={0: 1, 1: 3}, max_depth=20, n_estimators=400; total time=   1.1s\n",
      "[CV] END ccp_alpha=1, class_weight={0: 1, 1: 3}, max_depth=20, n_estimators=400; total time=   1.1s\n",
      "[CV] END ccp_alpha=1, class_weight={0: 1, 1: 3}, max_depth=30, n_estimators=50; total time=   0.2s\n",
      "[CV] END ccp_alpha=1, class_weight={0: 1, 1: 3}, max_depth=30, n_estimators=50; total time=   0.2s\n",
      "[CV] END ccp_alpha=1, class_weight={0: 1, 1: 3}, max_depth=30, n_estimators=50; total time=   0.2s\n",
      "[CV] END ccp_alpha=1, class_weight={0: 1, 1: 3}, max_depth=30, n_estimators=50; total time=   0.2s\n",
      "[CV] END ccp_alpha=1, class_weight={0: 1, 1: 3}, max_depth=30, n_estimators=50; total time=   0.2s\n",
      "[CV] END ccp_alpha=1, class_weight={0: 1, 1: 3}, max_depth=30, n_estimators=100; total time=   0.4s\n",
      "[CV] END ccp_alpha=1, class_weight={0: 1, 1: 3}, max_depth=30, n_estimators=100; total time=   0.4s\n",
      "[CV] END ccp_alpha=1, class_weight={0: 1, 1: 3}, max_depth=30, n_estimators=100; total time=   0.3s\n",
      "[CV] END ccp_alpha=1, class_weight={0: 1, 1: 3}, max_depth=30, n_estimators=100; total time=   0.4s\n",
      "[CV] END ccp_alpha=1, class_weight={0: 1, 1: 3}, max_depth=30, n_estimators=100; total time=   0.4s\n",
      "[CV] END ccp_alpha=1, class_weight={0: 1, 1: 3}, max_depth=30, n_estimators=200; total time=   0.6s\n",
      "[CV] END ccp_alpha=1, class_weight={0: 1, 1: 3}, max_depth=30, n_estimators=200; total time=   0.6s\n",
      "[CV] END ccp_alpha=1, class_weight={0: 1, 1: 3}, max_depth=30, n_estimators=200; total time=   0.6s\n",
      "[CV] END ccp_alpha=1, class_weight={0: 1, 1: 3}, max_depth=30, n_estimators=200; total time=   0.7s\n",
      "[CV] END ccp_alpha=1, class_weight={0: 1, 1: 3}, max_depth=30, n_estimators=200; total time=   0.6s\n",
      "[CV] END ccp_alpha=1, class_weight={0: 1, 1: 3}, max_depth=30, n_estimators=300; total time=   1.0s\n",
      "[CV] END ccp_alpha=1, class_weight={0: 1, 1: 3}, max_depth=30, n_estimators=300; total time=   0.9s\n",
      "[CV] END ccp_alpha=1, class_weight={0: 1, 1: 3}, max_depth=30, n_estimators=300; total time=   1.0s\n",
      "[CV] END ccp_alpha=1, class_weight={0: 1, 1: 3}, max_depth=30, n_estimators=300; total time=   0.9s\n",
      "[CV] END ccp_alpha=1, class_weight={0: 1, 1: 3}, max_depth=30, n_estimators=300; total time=   0.9s\n",
      "[CV] END ccp_alpha=1, class_weight={0: 1, 1: 3}, max_depth=30, n_estimators=400; total time=   1.3s\n",
      "[CV] END ccp_alpha=1, class_weight={0: 1, 1: 3}, max_depth=30, n_estimators=400; total time=   1.3s\n",
      "[CV] END ccp_alpha=1, class_weight={0: 1, 1: 3}, max_depth=30, n_estimators=400; total time=   1.3s\n",
      "[CV] END ccp_alpha=1, class_weight={0: 1, 1: 3}, max_depth=30, n_estimators=400; total time=   1.3s\n",
      "[CV] END ccp_alpha=1, class_weight={0: 1, 1: 3}, max_depth=30, n_estimators=400; total time=   1.2s\n",
      "[CV] END ccp_alpha=1, class_weight={0: 1.5, 1: 2.5}, max_depth=None, n_estimators=50; total time=   0.2s\n",
      "[CV] END ccp_alpha=1, class_weight={0: 1.5, 1: 2.5}, max_depth=None, n_estimators=50; total time=   0.2s\n",
      "[CV] END ccp_alpha=1, class_weight={0: 1.5, 1: 2.5}, max_depth=None, n_estimators=50; total time=   0.2s\n",
      "[CV] END ccp_alpha=1, class_weight={0: 1.5, 1: 2.5}, max_depth=None, n_estimators=50; total time=   0.2s\n",
      "[CV] END ccp_alpha=1, class_weight={0: 1.5, 1: 2.5}, max_depth=None, n_estimators=50; total time=   0.2s\n",
      "[CV] END ccp_alpha=1, class_weight={0: 1.5, 1: 2.5}, max_depth=None, n_estimators=100; total time=   0.4s\n",
      "[CV] END ccp_alpha=1, class_weight={0: 1.5, 1: 2.5}, max_depth=None, n_estimators=100; total time=   0.4s\n",
      "[CV] END ccp_alpha=1, class_weight={0: 1.5, 1: 2.5}, max_depth=None, n_estimators=100; total time=   0.4s\n",
      "[CV] END ccp_alpha=1, class_weight={0: 1.5, 1: 2.5}, max_depth=None, n_estimators=100; total time=   0.4s\n",
      "[CV] END ccp_alpha=1, class_weight={0: 1.5, 1: 2.5}, max_depth=None, n_estimators=100; total time=   0.4s\n",
      "[CV] END ccp_alpha=1, class_weight={0: 1.5, 1: 2.5}, max_depth=None, n_estimators=200; total time=   0.7s\n",
      "[CV] END ccp_alpha=1, class_weight={0: 1.5, 1: 2.5}, max_depth=None, n_estimators=200; total time=   0.7s\n",
      "[CV] END ccp_alpha=1, class_weight={0: 1.5, 1: 2.5}, max_depth=None, n_estimators=200; total time=   0.7s\n",
      "[CV] END ccp_alpha=1, class_weight={0: 1.5, 1: 2.5}, max_depth=None, n_estimators=200; total time=   0.7s\n",
      "[CV] END ccp_alpha=1, class_weight={0: 1.5, 1: 2.5}, max_depth=None, n_estimators=200; total time=   0.7s\n",
      "[CV] END ccp_alpha=1, class_weight={0: 1.5, 1: 2.5}, max_depth=None, n_estimators=300; total time=   1.0s\n",
      "[CV] END ccp_alpha=1, class_weight={0: 1.5, 1: 2.5}, max_depth=None, n_estimators=300; total time=   1.0s\n",
      "[CV] END ccp_alpha=1, class_weight={0: 1.5, 1: 2.5}, max_depth=None, n_estimators=300; total time=   1.0s\n",
      "[CV] END ccp_alpha=1, class_weight={0: 1.5, 1: 2.5}, max_depth=None, n_estimators=300; total time=   1.0s\n",
      "[CV] END ccp_alpha=1, class_weight={0: 1.5, 1: 2.5}, max_depth=None, n_estimators=300; total time=   1.0s\n",
      "[CV] END ccp_alpha=1, class_weight={0: 1.5, 1: 2.5}, max_depth=None, n_estimators=400; total time=   1.3s\n",
      "[CV] END ccp_alpha=1, class_weight={0: 1.5, 1: 2.5}, max_depth=None, n_estimators=400; total time=   1.3s\n",
      "[CV] END ccp_alpha=1, class_weight={0: 1.5, 1: 2.5}, max_depth=None, n_estimators=400; total time=   1.3s\n",
      "[CV] END ccp_alpha=1, class_weight={0: 1.5, 1: 2.5}, max_depth=None, n_estimators=400; total time=   1.3s\n",
      "[CV] END ccp_alpha=1, class_weight={0: 1.5, 1: 2.5}, max_depth=None, n_estimators=400; total time=   1.3s\n",
      "[CV] END ccp_alpha=1, class_weight={0: 1.5, 1: 2.5}, max_depth=10, n_estimators=50; total time=   0.1s\n",
      "[CV] END ccp_alpha=1, class_weight={0: 1.5, 1: 2.5}, max_depth=10, n_estimators=50; total time=   0.1s\n",
      "[CV] END ccp_alpha=1, class_weight={0: 1.5, 1: 2.5}, max_depth=10, n_estimators=50; total time=   0.2s\n",
      "[CV] END ccp_alpha=1, class_weight={0: 1.5, 1: 2.5}, max_depth=10, n_estimators=50; total time=   0.1s\n",
      "[CV] END ccp_alpha=1, class_weight={0: 1.5, 1: 2.5}, max_depth=10, n_estimators=50; total time=   0.1s\n",
      "[CV] END ccp_alpha=1, class_weight={0: 1.5, 1: 2.5}, max_depth=10, n_estimators=100; total time=   0.2s\n",
      "[CV] END ccp_alpha=1, class_weight={0: 1.5, 1: 2.5}, max_depth=10, n_estimators=100; total time=   0.2s\n",
      "[CV] END ccp_alpha=1, class_weight={0: 1.5, 1: 2.5}, max_depth=10, n_estimators=100; total time=   0.2s\n",
      "[CV] END ccp_alpha=1, class_weight={0: 1.5, 1: 2.5}, max_depth=10, n_estimators=100; total time=   0.2s\n",
      "[CV] END ccp_alpha=1, class_weight={0: 1.5, 1: 2.5}, max_depth=10, n_estimators=100; total time=   0.2s\n",
      "[CV] END ccp_alpha=1, class_weight={0: 1.5, 1: 2.5}, max_depth=10, n_estimators=200; total time=   0.4s\n",
      "[CV] END ccp_alpha=1, class_weight={0: 1.5, 1: 2.5}, max_depth=10, n_estimators=200; total time=   0.4s\n",
      "[CV] END ccp_alpha=1, class_weight={0: 1.5, 1: 2.5}, max_depth=10, n_estimators=200; total time=   0.4s\n",
      "[CV] END ccp_alpha=1, class_weight={0: 1.5, 1: 2.5}, max_depth=10, n_estimators=200; total time=   0.4s\n",
      "[CV] END ccp_alpha=1, class_weight={0: 1.5, 1: 2.5}, max_depth=10, n_estimators=200; total time=   0.4s\n",
      "[CV] END ccp_alpha=1, class_weight={0: 1.5, 1: 2.5}, max_depth=10, n_estimators=300; total time=   0.6s\n",
      "[CV] END ccp_alpha=1, class_weight={0: 1.5, 1: 2.5}, max_depth=10, n_estimators=300; total time=   0.6s\n",
      "[CV] END ccp_alpha=1, class_weight={0: 1.5, 1: 2.5}, max_depth=10, n_estimators=300; total time=   0.6s\n",
      "[CV] END ccp_alpha=1, class_weight={0: 1.5, 1: 2.5}, max_depth=10, n_estimators=300; total time=   0.6s\n",
      "[CV] END ccp_alpha=1, class_weight={0: 1.5, 1: 2.5}, max_depth=10, n_estimators=300; total time=   0.6s\n",
      "[CV] END ccp_alpha=1, class_weight={0: 1.5, 1: 2.5}, max_depth=10, n_estimators=400; total time=   0.8s\n",
      "[CV] END ccp_alpha=1, class_weight={0: 1.5, 1: 2.5}, max_depth=10, n_estimators=400; total time=   0.8s\n",
      "[CV] END ccp_alpha=1, class_weight={0: 1.5, 1: 2.5}, max_depth=10, n_estimators=400; total time=   0.9s\n",
      "[CV] END ccp_alpha=1, class_weight={0: 1.5, 1: 2.5}, max_depth=10, n_estimators=400; total time=   0.8s\n",
      "[CV] END ccp_alpha=1, class_weight={0: 1.5, 1: 2.5}, max_depth=10, n_estimators=400; total time=   0.8s\n",
      "[CV] END ccp_alpha=1, class_weight={0: 1.5, 1: 2.5}, max_depth=20, n_estimators=50; total time=   0.2s\n",
      "[CV] END ccp_alpha=1, class_weight={0: 1.5, 1: 2.5}, max_depth=20, n_estimators=50; total time=   0.2s\n",
      "[CV] END ccp_alpha=1, class_weight={0: 1.5, 1: 2.5}, max_depth=20, n_estimators=50; total time=   0.2s\n",
      "[CV] END ccp_alpha=1, class_weight={0: 1.5, 1: 2.5}, max_depth=20, n_estimators=50; total time=   0.2s\n",
      "[CV] END ccp_alpha=1, class_weight={0: 1.5, 1: 2.5}, max_depth=20, n_estimators=50; total time=   0.2s\n",
      "[CV] END ccp_alpha=1, class_weight={0: 1.5, 1: 2.5}, max_depth=20, n_estimators=100; total time=   0.3s\n",
      "[CV] END ccp_alpha=1, class_weight={0: 1.5, 1: 2.5}, max_depth=20, n_estimators=100; total time=   0.3s\n",
      "[CV] END ccp_alpha=1, class_weight={0: 1.5, 1: 2.5}, max_depth=20, n_estimators=100; total time=   0.3s\n",
      "[CV] END ccp_alpha=1, class_weight={0: 1.5, 1: 2.5}, max_depth=20, n_estimators=100; total time=   0.3s\n",
      "[CV] END ccp_alpha=1, class_weight={0: 1.5, 1: 2.5}, max_depth=20, n_estimators=100; total time=   0.3s\n",
      "[CV] END ccp_alpha=1, class_weight={0: 1.5, 1: 2.5}, max_depth=20, n_estimators=200; total time=   0.6s\n",
      "[CV] END ccp_alpha=1, class_weight={0: 1.5, 1: 2.5}, max_depth=20, n_estimators=200; total time=   0.6s\n",
      "[CV] END ccp_alpha=1, class_weight={0: 1.5, 1: 2.5}, max_depth=20, n_estimators=200; total time=   0.6s\n",
      "[CV] END ccp_alpha=1, class_weight={0: 1.5, 1: 2.5}, max_depth=20, n_estimators=200; total time=   0.6s\n",
      "[CV] END ccp_alpha=1, class_weight={0: 1.5, 1: 2.5}, max_depth=20, n_estimators=200; total time=   0.6s\n",
      "[CV] END ccp_alpha=1, class_weight={0: 1.5, 1: 2.5}, max_depth=20, n_estimators=300; total time=   0.9s\n",
      "[CV] END ccp_alpha=1, class_weight={0: 1.5, 1: 2.5}, max_depth=20, n_estimators=300; total time=   0.8s\n",
      "[CV] END ccp_alpha=1, class_weight={0: 1.5, 1: 2.5}, max_depth=20, n_estimators=300; total time=   0.9s\n",
      "[CV] END ccp_alpha=1, class_weight={0: 1.5, 1: 2.5}, max_depth=20, n_estimators=300; total time=   0.9s\n",
      "[CV] END ccp_alpha=1, class_weight={0: 1.5, 1: 2.5}, max_depth=20, n_estimators=300; total time=   0.9s\n",
      "[CV] END ccp_alpha=1, class_weight={0: 1.5, 1: 2.5}, max_depth=20, n_estimators=400; total time=   1.2s\n",
      "[CV] END ccp_alpha=1, class_weight={0: 1.5, 1: 2.5}, max_depth=20, n_estimators=400; total time=   1.1s\n",
      "[CV] END ccp_alpha=1, class_weight={0: 1.5, 1: 2.5}, max_depth=20, n_estimators=400; total time=   1.2s\n",
      "[CV] END ccp_alpha=1, class_weight={0: 1.5, 1: 2.5}, max_depth=20, n_estimators=400; total time=   1.1s\n",
      "[CV] END ccp_alpha=1, class_weight={0: 1.5, 1: 2.5}, max_depth=20, n_estimators=400; total time=   1.2s\n",
      "[CV] END ccp_alpha=1, class_weight={0: 1.5, 1: 2.5}, max_depth=30, n_estimators=50; total time=   0.2s\n",
      "[CV] END ccp_alpha=1, class_weight={0: 1.5, 1: 2.5}, max_depth=30, n_estimators=50; total time=   0.2s\n",
      "[CV] END ccp_alpha=1, class_weight={0: 1.5, 1: 2.5}, max_depth=30, n_estimators=50; total time=   0.2s\n",
      "[CV] END ccp_alpha=1, class_weight={0: 1.5, 1: 2.5}, max_depth=30, n_estimators=50; total time=   0.2s\n",
      "[CV] END ccp_alpha=1, class_weight={0: 1.5, 1: 2.5}, max_depth=30, n_estimators=50; total time=   0.2s\n",
      "[CV] END ccp_alpha=1, class_weight={0: 1.5, 1: 2.5}, max_depth=30, n_estimators=100; total time=   0.4s\n",
      "[CV] END ccp_alpha=1, class_weight={0: 1.5, 1: 2.5}, max_depth=30, n_estimators=100; total time=   0.4s\n",
      "[CV] END ccp_alpha=1, class_weight={0: 1.5, 1: 2.5}, max_depth=30, n_estimators=100; total time=   0.3s\n",
      "[CV] END ccp_alpha=1, class_weight={0: 1.5, 1: 2.5}, max_depth=30, n_estimators=100; total time=   0.3s\n",
      "[CV] END ccp_alpha=1, class_weight={0: 1.5, 1: 2.5}, max_depth=30, n_estimators=100; total time=   0.4s\n",
      "[CV] END ccp_alpha=1, class_weight={0: 1.5, 1: 2.5}, max_depth=30, n_estimators=200; total time=   0.7s\n",
      "[CV] END ccp_alpha=1, class_weight={0: 1.5, 1: 2.5}, max_depth=30, n_estimators=200; total time=   0.7s\n",
      "[CV] END ccp_alpha=1, class_weight={0: 1.5, 1: 2.5}, max_depth=30, n_estimators=200; total time=   0.7s\n",
      "[CV] END ccp_alpha=1, class_weight={0: 1.5, 1: 2.5}, max_depth=30, n_estimators=200; total time=   0.7s\n",
      "[CV] END ccp_alpha=1, class_weight={0: 1.5, 1: 2.5}, max_depth=30, n_estimators=200; total time=   0.7s\n",
      "[CV] END ccp_alpha=1, class_weight={0: 1.5, 1: 2.5}, max_depth=30, n_estimators=300; total time=   1.0s\n",
      "[CV] END ccp_alpha=1, class_weight={0: 1.5, 1: 2.5}, max_depth=30, n_estimators=300; total time=   1.0s\n",
      "[CV] END ccp_alpha=1, class_weight={0: 1.5, 1: 2.5}, max_depth=30, n_estimators=300; total time=   1.0s\n",
      "[CV] END ccp_alpha=1, class_weight={0: 1.5, 1: 2.5}, max_depth=30, n_estimators=300; total time=   1.0s\n",
      "[CV] END ccp_alpha=1, class_weight={0: 1.5, 1: 2.5}, max_depth=30, n_estimators=300; total time=   1.0s\n",
      "[CV] END ccp_alpha=1, class_weight={0: 1.5, 1: 2.5}, max_depth=30, n_estimators=400; total time=   1.3s\n",
      "[CV] END ccp_alpha=1, class_weight={0: 1.5, 1: 2.5}, max_depth=30, n_estimators=400; total time=   1.3s\n",
      "[CV] END ccp_alpha=1, class_weight={0: 1.5, 1: 2.5}, max_depth=30, n_estimators=400; total time=   1.3s\n",
      "[CV] END ccp_alpha=1, class_weight={0: 1.5, 1: 2.5}, max_depth=30, n_estimators=400; total time=   1.3s\n",
      "[CV] END ccp_alpha=1, class_weight={0: 1.5, 1: 2.5}, max_depth=30, n_estimators=400; total time=   1.3s\n",
      "[CV] END ccp_alpha=1, class_weight={0: 1.5, 1: 3}, max_depth=None, n_estimators=50; total time=   0.2s\n",
      "[CV] END ccp_alpha=1, class_weight={0: 1.5, 1: 3}, max_depth=None, n_estimators=50; total time=   0.2s\n",
      "[CV] END ccp_alpha=1, class_weight={0: 1.5, 1: 3}, max_depth=None, n_estimators=50; total time=   0.2s\n",
      "[CV] END ccp_alpha=1, class_weight={0: 1.5, 1: 3}, max_depth=None, n_estimators=50; total time=   0.2s\n",
      "[CV] END ccp_alpha=1, class_weight={0: 1.5, 1: 3}, max_depth=None, n_estimators=50; total time=   0.2s\n",
      "[CV] END ccp_alpha=1, class_weight={0: 1.5, 1: 3}, max_depth=None, n_estimators=100; total time=   0.4s\n",
      "[CV] END ccp_alpha=1, class_weight={0: 1.5, 1: 3}, max_depth=None, n_estimators=100; total time=   0.4s\n",
      "[CV] END ccp_alpha=1, class_weight={0: 1.5, 1: 3}, max_depth=None, n_estimators=100; total time=   0.4s\n",
      "[CV] END ccp_alpha=1, class_weight={0: 1.5, 1: 3}, max_depth=None, n_estimators=100; total time=   0.4s\n",
      "[CV] END ccp_alpha=1, class_weight={0: 1.5, 1: 3}, max_depth=None, n_estimators=100; total time=   0.4s\n",
      "[CV] END ccp_alpha=1, class_weight={0: 1.5, 1: 3}, max_depth=None, n_estimators=200; total time=   0.7s\n",
      "[CV] END ccp_alpha=1, class_weight={0: 1.5, 1: 3}, max_depth=None, n_estimators=200; total time=   0.7s\n",
      "[CV] END ccp_alpha=1, class_weight={0: 1.5, 1: 3}, max_depth=None, n_estimators=200; total time=   0.7s\n",
      "[CV] END ccp_alpha=1, class_weight={0: 1.5, 1: 3}, max_depth=None, n_estimators=200; total time=   0.7s\n",
      "[CV] END ccp_alpha=1, class_weight={0: 1.5, 1: 3}, max_depth=None, n_estimators=200; total time=   0.7s\n",
      "[CV] END ccp_alpha=1, class_weight={0: 1.5, 1: 3}, max_depth=None, n_estimators=300; total time=   1.0s\n",
      "[CV] END ccp_alpha=1, class_weight={0: 1.5, 1: 3}, max_depth=None, n_estimators=300; total time=   1.0s\n",
      "[CV] END ccp_alpha=1, class_weight={0: 1.5, 1: 3}, max_depth=None, n_estimators=300; total time=   1.0s\n",
      "[CV] END ccp_alpha=1, class_weight={0: 1.5, 1: 3}, max_depth=None, n_estimators=300; total time=   1.0s\n",
      "[CV] END ccp_alpha=1, class_weight={0: 1.5, 1: 3}, max_depth=None, n_estimators=300; total time=   1.0s\n",
      "[CV] END ccp_alpha=1, class_weight={0: 1.5, 1: 3}, max_depth=None, n_estimators=400; total time=   1.4s\n",
      "[CV] END ccp_alpha=1, class_weight={0: 1.5, 1: 3}, max_depth=None, n_estimators=400; total time=   1.4s\n",
      "[CV] END ccp_alpha=1, class_weight={0: 1.5, 1: 3}, max_depth=None, n_estimators=400; total time=   1.4s\n",
      "[CV] END ccp_alpha=1, class_weight={0: 1.5, 1: 3}, max_depth=None, n_estimators=400; total time=   1.3s\n",
      "[CV] END ccp_alpha=1, class_weight={0: 1.5, 1: 3}, max_depth=None, n_estimators=400; total time=   1.3s\n",
      "[CV] END ccp_alpha=1, class_weight={0: 1.5, 1: 3}, max_depth=10, n_estimators=50; total time=   0.1s\n",
      "[CV] END ccp_alpha=1, class_weight={0: 1.5, 1: 3}, max_depth=10, n_estimators=50; total time=   0.1s\n",
      "[CV] END ccp_alpha=1, class_weight={0: 1.5, 1: 3}, max_depth=10, n_estimators=50; total time=   0.1s\n",
      "[CV] END ccp_alpha=1, class_weight={0: 1.5, 1: 3}, max_depth=10, n_estimators=50; total time=   0.1s\n",
      "[CV] END ccp_alpha=1, class_weight={0: 1.5, 1: 3}, max_depth=10, n_estimators=50; total time=   0.2s\n",
      "[CV] END ccp_alpha=1, class_weight={0: 1.5, 1: 3}, max_depth=10, n_estimators=100; total time=   0.2s\n",
      "[CV] END ccp_alpha=1, class_weight={0: 1.5, 1: 3}, max_depth=10, n_estimators=100; total time=   0.2s\n",
      "[CV] END ccp_alpha=1, class_weight={0: 1.5, 1: 3}, max_depth=10, n_estimators=100; total time=   0.2s\n",
      "[CV] END ccp_alpha=1, class_weight={0: 1.5, 1: 3}, max_depth=10, n_estimators=100; total time=   0.2s\n",
      "[CV] END ccp_alpha=1, class_weight={0: 1.5, 1: 3}, max_depth=10, n_estimators=100; total time=   0.2s\n",
      "[CV] END ccp_alpha=1, class_weight={0: 1.5, 1: 3}, max_depth=10, n_estimators=200; total time=   0.4s\n",
      "[CV] END ccp_alpha=1, class_weight={0: 1.5, 1: 3}, max_depth=10, n_estimators=200; total time=   0.5s\n",
      "[CV] END ccp_alpha=1, class_weight={0: 1.5, 1: 3}, max_depth=10, n_estimators=200; total time=   0.4s\n",
      "[CV] END ccp_alpha=1, class_weight={0: 1.5, 1: 3}, max_depth=10, n_estimators=200; total time=   0.4s\n",
      "[CV] END ccp_alpha=1, class_weight={0: 1.5, 1: 3}, max_depth=10, n_estimators=200; total time=   0.4s\n",
      "[CV] END ccp_alpha=1, class_weight={0: 1.5, 1: 3}, max_depth=10, n_estimators=300; total time=   0.7s\n",
      "[CV] END ccp_alpha=1, class_weight={0: 1.5, 1: 3}, max_depth=10, n_estimators=300; total time=   0.6s\n",
      "[CV] END ccp_alpha=1, class_weight={0: 1.5, 1: 3}, max_depth=10, n_estimators=300; total time=   0.7s\n",
      "[CV] END ccp_alpha=1, class_weight={0: 1.5, 1: 3}, max_depth=10, n_estimators=300; total time=   0.7s\n",
      "[CV] END ccp_alpha=1, class_weight={0: 1.5, 1: 3}, max_depth=10, n_estimators=300; total time=   0.6s\n",
      "[CV] END ccp_alpha=1, class_weight={0: 1.5, 1: 3}, max_depth=10, n_estimators=400; total time=   0.8s\n",
      "[CV] END ccp_alpha=1, class_weight={0: 1.5, 1: 3}, max_depth=10, n_estimators=400; total time=   0.9s\n",
      "[CV] END ccp_alpha=1, class_weight={0: 1.5, 1: 3}, max_depth=10, n_estimators=400; total time=   0.8s\n",
      "[CV] END ccp_alpha=1, class_weight={0: 1.5, 1: 3}, max_depth=10, n_estimators=400; total time=   0.8s\n",
      "[CV] END ccp_alpha=1, class_weight={0: 1.5, 1: 3}, max_depth=10, n_estimators=400; total time=   0.9s\n",
      "[CV] END ccp_alpha=1, class_weight={0: 1.5, 1: 3}, max_depth=20, n_estimators=50; total time=   0.2s\n",
      "[CV] END ccp_alpha=1, class_weight={0: 1.5, 1: 3}, max_depth=20, n_estimators=50; total time=   0.2s\n",
      "[CV] END ccp_alpha=1, class_weight={0: 1.5, 1: 3}, max_depth=20, n_estimators=50; total time=   0.2s\n",
      "[CV] END ccp_alpha=1, class_weight={0: 1.5, 1: 3}, max_depth=20, n_estimators=50; total time=   0.2s\n",
      "[CV] END ccp_alpha=1, class_weight={0: 1.5, 1: 3}, max_depth=20, n_estimators=50; total time=   0.2s\n",
      "[CV] END ccp_alpha=1, class_weight={0: 1.5, 1: 3}, max_depth=20, n_estimators=100; total time=   0.3s\n",
      "[CV] END ccp_alpha=1, class_weight={0: 1.5, 1: 3}, max_depth=20, n_estimators=100; total time=   0.3s\n",
      "[CV] END ccp_alpha=1, class_weight={0: 1.5, 1: 3}, max_depth=20, n_estimators=100; total time=   0.3s\n",
      "[CV] END ccp_alpha=1, class_weight={0: 1.5, 1: 3}, max_depth=20, n_estimators=100; total time=   0.3s\n",
      "[CV] END ccp_alpha=1, class_weight={0: 1.5, 1: 3}, max_depth=20, n_estimators=100; total time=   0.3s\n",
      "[CV] END ccp_alpha=1, class_weight={0: 1.5, 1: 3}, max_depth=20, n_estimators=200; total time=   0.6s\n",
      "[CV] END ccp_alpha=1, class_weight={0: 1.5, 1: 3}, max_depth=20, n_estimators=200; total time=   0.6s\n",
      "[CV] END ccp_alpha=1, class_weight={0: 1.5, 1: 3}, max_depth=20, n_estimators=200; total time=   0.6s\n",
      "[CV] END ccp_alpha=1, class_weight={0: 1.5, 1: 3}, max_depth=20, n_estimators=200; total time=   0.6s\n",
      "[CV] END ccp_alpha=1, class_weight={0: 1.5, 1: 3}, max_depth=20, n_estimators=200; total time=   0.6s\n",
      "[CV] END ccp_alpha=1, class_weight={0: 1.5, 1: 3}, max_depth=20, n_estimators=300; total time=   0.8s\n",
      "[CV] END ccp_alpha=1, class_weight={0: 1.5, 1: 3}, max_depth=20, n_estimators=300; total time=   0.9s\n",
      "[CV] END ccp_alpha=1, class_weight={0: 1.5, 1: 3}, max_depth=20, n_estimators=300; total time=   0.9s\n",
      "[CV] END ccp_alpha=1, class_weight={0: 1.5, 1: 3}, max_depth=20, n_estimators=300; total time=   0.9s\n",
      "[CV] END ccp_alpha=1, class_weight={0: 1.5, 1: 3}, max_depth=20, n_estimators=300; total time=   0.9s\n",
      "[CV] END ccp_alpha=1, class_weight={0: 1.5, 1: 3}, max_depth=20, n_estimators=400; total time=   1.1s\n",
      "[CV] END ccp_alpha=1, class_weight={0: 1.5, 1: 3}, max_depth=20, n_estimators=400; total time=   1.2s\n",
      "[CV] END ccp_alpha=1, class_weight={0: 1.5, 1: 3}, max_depth=20, n_estimators=400; total time=   1.1s\n",
      "[CV] END ccp_alpha=1, class_weight={0: 1.5, 1: 3}, max_depth=20, n_estimators=400; total time=   1.1s\n",
      "[CV] END ccp_alpha=1, class_weight={0: 1.5, 1: 3}, max_depth=20, n_estimators=400; total time=   1.1s\n",
      "[CV] END ccp_alpha=1, class_weight={0: 1.5, 1: 3}, max_depth=30, n_estimators=50; total time=   0.2s\n",
      "[CV] END ccp_alpha=1, class_weight={0: 1.5, 1: 3}, max_depth=30, n_estimators=50; total time=   0.2s\n",
      "[CV] END ccp_alpha=1, class_weight={0: 1.5, 1: 3}, max_depth=30, n_estimators=50; total time=   0.2s\n",
      "[CV] END ccp_alpha=1, class_weight={0: 1.5, 1: 3}, max_depth=30, n_estimators=50; total time=   0.2s\n",
      "[CV] END ccp_alpha=1, class_weight={0: 1.5, 1: 3}, max_depth=30, n_estimators=50; total time=   0.2s\n",
      "[CV] END ccp_alpha=1, class_weight={0: 1.5, 1: 3}, max_depth=30, n_estimators=100; total time=   0.4s\n",
      "[CV] END ccp_alpha=1, class_weight={0: 1.5, 1: 3}, max_depth=30, n_estimators=100; total time=   0.4s\n",
      "[CV] END ccp_alpha=1, class_weight={0: 1.5, 1: 3}, max_depth=30, n_estimators=100; total time=   0.4s\n",
      "[CV] END ccp_alpha=1, class_weight={0: 1.5, 1: 3}, max_depth=30, n_estimators=100; total time=   0.4s\n",
      "[CV] END ccp_alpha=1, class_weight={0: 1.5, 1: 3}, max_depth=30, n_estimators=100; total time=   0.3s\n",
      "[CV] END ccp_alpha=1, class_weight={0: 1.5, 1: 3}, max_depth=30, n_estimators=200; total time=   0.6s\n",
      "[CV] END ccp_alpha=1, class_weight={0: 1.5, 1: 3}, max_depth=30, n_estimators=200; total time=   0.7s\n",
      "[CV] END ccp_alpha=1, class_weight={0: 1.5, 1: 3}, max_depth=30, n_estimators=200; total time=   0.7s\n",
      "[CV] END ccp_alpha=1, class_weight={0: 1.5, 1: 3}, max_depth=30, n_estimators=200; total time=   0.7s\n",
      "[CV] END ccp_alpha=1, class_weight={0: 1.5, 1: 3}, max_depth=30, n_estimators=200; total time=   0.7s\n",
      "[CV] END ccp_alpha=1, class_weight={0: 1.5, 1: 3}, max_depth=30, n_estimators=300; total time=   1.0s\n",
      "[CV] END ccp_alpha=1, class_weight={0: 1.5, 1: 3}, max_depth=30, n_estimators=300; total time=   1.0s\n",
      "[CV] END ccp_alpha=1, class_weight={0: 1.5, 1: 3}, max_depth=30, n_estimators=300; total time=   1.0s\n",
      "[CV] END ccp_alpha=1, class_weight={0: 1.5, 1: 3}, max_depth=30, n_estimators=300; total time=   1.0s\n",
      "[CV] END ccp_alpha=1, class_weight={0: 1.5, 1: 3}, max_depth=30, n_estimators=300; total time=   1.0s\n",
      "[CV] END ccp_alpha=1, class_weight={0: 1.5, 1: 3}, max_depth=30, n_estimators=400; total time=   1.3s\n",
      "[CV] END ccp_alpha=1, class_weight={0: 1.5, 1: 3}, max_depth=30, n_estimators=400; total time=   1.3s\n",
      "[CV] END ccp_alpha=1, class_weight={0: 1.5, 1: 3}, max_depth=30, n_estimators=400; total time=   1.3s\n",
      "[CV] END ccp_alpha=1, class_weight={0: 1.5, 1: 3}, max_depth=30, n_estimators=400; total time=   1.3s\n",
      "[CV] END ccp_alpha=1, class_weight={0: 1.5, 1: 3}, max_depth=30, n_estimators=400; total time=   1.3s\n",
      "[CV] END ccp_alpha=0.01, class_weight=None, max_depth=None, n_estimators=50; total time=   0.2s\n",
      "[CV] END ccp_alpha=0.01, class_weight=None, max_depth=None, n_estimators=50; total time=   0.2s\n",
      "[CV] END ccp_alpha=0.01, class_weight=None, max_depth=None, n_estimators=50; total time=   0.2s\n",
      "[CV] END ccp_alpha=0.01, class_weight=None, max_depth=None, n_estimators=50; total time=   0.2s\n",
      "[CV] END ccp_alpha=0.01, class_weight=None, max_depth=None, n_estimators=50; total time=   0.2s\n",
      "[CV] END ccp_alpha=0.01, class_weight=None, max_depth=None, n_estimators=100; total time=   0.4s\n",
      "[CV] END ccp_alpha=0.01, class_weight=None, max_depth=None, n_estimators=100; total time=   0.4s\n",
      "[CV] END ccp_alpha=0.01, class_weight=None, max_depth=None, n_estimators=100; total time=   0.4s\n",
      "[CV] END ccp_alpha=0.01, class_weight=None, max_depth=None, n_estimators=100; total time=   0.4s\n",
      "[CV] END ccp_alpha=0.01, class_weight=None, max_depth=None, n_estimators=100; total time=   0.4s\n",
      "[CV] END ccp_alpha=0.01, class_weight=None, max_depth=None, n_estimators=200; total time=   0.7s\n",
      "[CV] END ccp_alpha=0.01, class_weight=None, max_depth=None, n_estimators=200; total time=   0.7s\n",
      "[CV] END ccp_alpha=0.01, class_weight=None, max_depth=None, n_estimators=200; total time=   0.7s\n",
      "[CV] END ccp_alpha=0.01, class_weight=None, max_depth=None, n_estimators=200; total time=   0.7s\n",
      "[CV] END ccp_alpha=0.01, class_weight=None, max_depth=None, n_estimators=200; total time=   0.7s\n",
      "[CV] END ccp_alpha=0.01, class_weight=None, max_depth=None, n_estimators=300; total time=   1.0s\n",
      "[CV] END ccp_alpha=0.01, class_weight=None, max_depth=None, n_estimators=300; total time=   1.0s\n",
      "[CV] END ccp_alpha=0.01, class_weight=None, max_depth=None, n_estimators=300; total time=   1.0s\n",
      "[CV] END ccp_alpha=0.01, class_weight=None, max_depth=None, n_estimators=300; total time=   1.1s\n",
      "[CV] END ccp_alpha=0.01, class_weight=None, max_depth=None, n_estimators=300; total time=   1.0s\n",
      "[CV] END ccp_alpha=0.01, class_weight=None, max_depth=None, n_estimators=400; total time=   1.4s\n",
      "[CV] END ccp_alpha=0.01, class_weight=None, max_depth=None, n_estimators=400; total time=   1.4s\n",
      "[CV] END ccp_alpha=0.01, class_weight=None, max_depth=None, n_estimators=400; total time=   1.3s\n",
      "[CV] END ccp_alpha=0.01, class_weight=None, max_depth=None, n_estimators=400; total time=   1.4s\n",
      "[CV] END ccp_alpha=0.01, class_weight=None, max_depth=None, n_estimators=400; total time=   1.4s\n",
      "[CV] END ccp_alpha=0.01, class_weight=None, max_depth=10, n_estimators=50; total time=   0.1s\n",
      "[CV] END ccp_alpha=0.01, class_weight=None, max_depth=10, n_estimators=50; total time=   0.2s\n",
      "[CV] END ccp_alpha=0.01, class_weight=None, max_depth=10, n_estimators=50; total time=   0.2s\n",
      "[CV] END ccp_alpha=0.01, class_weight=None, max_depth=10, n_estimators=50; total time=   0.1s\n",
      "[CV] END ccp_alpha=0.01, class_weight=None, max_depth=10, n_estimators=50; total time=   0.1s\n",
      "[CV] END ccp_alpha=0.01, class_weight=None, max_depth=10, n_estimators=100; total time=   0.2s\n",
      "[CV] END ccp_alpha=0.01, class_weight=None, max_depth=10, n_estimators=100; total time=   0.3s\n",
      "[CV] END ccp_alpha=0.01, class_weight=None, max_depth=10, n_estimators=100; total time=   0.3s\n",
      "[CV] END ccp_alpha=0.01, class_weight=None, max_depth=10, n_estimators=100; total time=   0.2s\n",
      "[CV] END ccp_alpha=0.01, class_weight=None, max_depth=10, n_estimators=100; total time=   0.2s\n",
      "[CV] END ccp_alpha=0.01, class_weight=None, max_depth=10, n_estimators=200; total time=   0.5s\n",
      "[CV] END ccp_alpha=0.01, class_weight=None, max_depth=10, n_estimators=200; total time=   0.4s\n",
      "[CV] END ccp_alpha=0.01, class_weight=None, max_depth=10, n_estimators=200; total time=   0.5s\n",
      "[CV] END ccp_alpha=0.01, class_weight=None, max_depth=10, n_estimators=200; total time=   0.5s\n",
      "[CV] END ccp_alpha=0.01, class_weight=None, max_depth=10, n_estimators=200; total time=   0.5s\n",
      "[CV] END ccp_alpha=0.01, class_weight=None, max_depth=10, n_estimators=300; total time=   0.7s\n",
      "[CV] END ccp_alpha=0.01, class_weight=None, max_depth=10, n_estimators=300; total time=   0.7s\n",
      "[CV] END ccp_alpha=0.01, class_weight=None, max_depth=10, n_estimators=300; total time=   0.6s\n",
      "[CV] END ccp_alpha=0.01, class_weight=None, max_depth=10, n_estimators=300; total time=   0.7s\n",
      "[CV] END ccp_alpha=0.01, class_weight=None, max_depth=10, n_estimators=300; total time=   0.7s\n",
      "[CV] END ccp_alpha=0.01, class_weight=None, max_depth=10, n_estimators=400; total time=   0.8s\n",
      "[CV] END ccp_alpha=0.01, class_weight=None, max_depth=10, n_estimators=400; total time=   0.9s\n",
      "[CV] END ccp_alpha=0.01, class_weight=None, max_depth=10, n_estimators=400; total time=   0.9s\n",
      "[CV] END ccp_alpha=0.01, class_weight=None, max_depth=10, n_estimators=400; total time=   0.9s\n",
      "[CV] END ccp_alpha=0.01, class_weight=None, max_depth=10, n_estimators=400; total time=   0.8s\n",
      "[CV] END ccp_alpha=0.01, class_weight=None, max_depth=20, n_estimators=50; total time=   0.2s\n",
      "[CV] END ccp_alpha=0.01, class_weight=None, max_depth=20, n_estimators=50; total time=   0.2s\n",
      "[CV] END ccp_alpha=0.01, class_weight=None, max_depth=20, n_estimators=50; total time=   0.2s\n",
      "[CV] END ccp_alpha=0.01, class_weight=None, max_depth=20, n_estimators=50; total time=   0.2s\n",
      "[CV] END ccp_alpha=0.01, class_weight=None, max_depth=20, n_estimators=50; total time=   0.2s\n",
      "[CV] END ccp_alpha=0.01, class_weight=None, max_depth=20, n_estimators=100; total time=   0.3s\n",
      "[CV] END ccp_alpha=0.01, class_weight=None, max_depth=20, n_estimators=100; total time=   0.3s\n",
      "[CV] END ccp_alpha=0.01, class_weight=None, max_depth=20, n_estimators=100; total time=   0.3s\n",
      "[CV] END ccp_alpha=0.01, class_weight=None, max_depth=20, n_estimators=100; total time=   0.3s\n",
      "[CV] END ccp_alpha=0.01, class_weight=None, max_depth=20, n_estimators=100; total time=   0.3s\n",
      "[CV] END ccp_alpha=0.01, class_weight=None, max_depth=20, n_estimators=200; total time=   0.6s\n",
      "[CV] END ccp_alpha=0.01, class_weight=None, max_depth=20, n_estimators=200; total time=   0.6s\n",
      "[CV] END ccp_alpha=0.01, class_weight=None, max_depth=20, n_estimators=200; total time=   0.6s\n",
      "[CV] END ccp_alpha=0.01, class_weight=None, max_depth=20, n_estimators=200; total time=   0.6s\n",
      "[CV] END ccp_alpha=0.01, class_weight=None, max_depth=20, n_estimators=200; total time=   0.6s\n",
      "[CV] END ccp_alpha=0.01, class_weight=None, max_depth=20, n_estimators=300; total time=   0.9s\n",
      "[CV] END ccp_alpha=0.01, class_weight=None, max_depth=20, n_estimators=300; total time=   0.9s\n",
      "[CV] END ccp_alpha=0.01, class_weight=None, max_depth=20, n_estimators=300; total time=   0.9s\n",
      "[CV] END ccp_alpha=0.01, class_weight=None, max_depth=20, n_estimators=300; total time=   0.9s\n",
      "[CV] END ccp_alpha=0.01, class_weight=None, max_depth=20, n_estimators=300; total time=   0.9s\n",
      "[CV] END ccp_alpha=0.01, class_weight=None, max_depth=20, n_estimators=400; total time=   1.2s\n",
      "[CV] END ccp_alpha=0.01, class_weight=None, max_depth=20, n_estimators=400; total time=   1.2s\n",
      "[CV] END ccp_alpha=0.01, class_weight=None, max_depth=20, n_estimators=400; total time=   1.2s\n",
      "[CV] END ccp_alpha=0.01, class_weight=None, max_depth=20, n_estimators=400; total time=   1.2s\n",
      "[CV] END ccp_alpha=0.01, class_weight=None, max_depth=20, n_estimators=400; total time=   1.2s\n",
      "[CV] END ccp_alpha=0.01, class_weight=None, max_depth=30, n_estimators=50; total time=   0.2s\n",
      "[CV] END ccp_alpha=0.01, class_weight=None, max_depth=30, n_estimators=50; total time=   0.2s\n",
      "[CV] END ccp_alpha=0.01, class_weight=None, max_depth=30, n_estimators=50; total time=   0.2s\n",
      "[CV] END ccp_alpha=0.01, class_weight=None, max_depth=30, n_estimators=50; total time=   0.2s\n",
      "[CV] END ccp_alpha=0.01, class_weight=None, max_depth=30, n_estimators=50; total time=   0.2s\n",
      "[CV] END ccp_alpha=0.01, class_weight=None, max_depth=30, n_estimators=100; total time=   0.3s\n",
      "[CV] END ccp_alpha=0.01, class_weight=None, max_depth=30, n_estimators=100; total time=   0.4s\n",
      "[CV] END ccp_alpha=0.01, class_weight=None, max_depth=30, n_estimators=100; total time=   0.4s\n",
      "[CV] END ccp_alpha=0.01, class_weight=None, max_depth=30, n_estimators=100; total time=   0.4s\n",
      "[CV] END ccp_alpha=0.01, class_weight=None, max_depth=30, n_estimators=100; total time=   0.4s\n",
      "[CV] END ccp_alpha=0.01, class_weight=None, max_depth=30, n_estimators=200; total time=   0.7s\n",
      "[CV] END ccp_alpha=0.01, class_weight=None, max_depth=30, n_estimators=200; total time=   0.7s\n",
      "[CV] END ccp_alpha=0.01, class_weight=None, max_depth=30, n_estimators=200; total time=   0.7s\n",
      "[CV] END ccp_alpha=0.01, class_weight=None, max_depth=30, n_estimators=200; total time=   0.7s\n",
      "[CV] END ccp_alpha=0.01, class_weight=None, max_depth=30, n_estimators=200; total time=   0.7s\n",
      "[CV] END ccp_alpha=0.01, class_weight=None, max_depth=30, n_estimators=300; total time=   1.0s\n",
      "[CV] END ccp_alpha=0.01, class_weight=None, max_depth=30, n_estimators=300; total time=   1.0s\n",
      "[CV] END ccp_alpha=0.01, class_weight=None, max_depth=30, n_estimators=300; total time=   1.0s\n",
      "[CV] END ccp_alpha=0.01, class_weight=None, max_depth=30, n_estimators=300; total time=   1.0s\n",
      "[CV] END ccp_alpha=0.01, class_weight=None, max_depth=30, n_estimators=300; total time=   1.0s\n",
      "[CV] END ccp_alpha=0.01, class_weight=None, max_depth=30, n_estimators=400; total time=   1.3s\n",
      "[CV] END ccp_alpha=0.01, class_weight=None, max_depth=30, n_estimators=400; total time=   1.3s\n",
      "[CV] END ccp_alpha=0.01, class_weight=None, max_depth=30, n_estimators=400; total time=   1.3s\n",
      "[CV] END ccp_alpha=0.01, class_weight=None, max_depth=30, n_estimators=400; total time=   1.3s\n",
      "[CV] END ccp_alpha=0.01, class_weight=None, max_depth=30, n_estimators=400; total time=   1.3s\n",
      "[CV] END ccp_alpha=0.01, class_weight=balanced, max_depth=None, n_estimators=50; total time=   0.2s\n",
      "[CV] END ccp_alpha=0.01, class_weight=balanced, max_depth=None, n_estimators=50; total time=   0.2s\n",
      "[CV] END ccp_alpha=0.01, class_weight=balanced, max_depth=None, n_estimators=50; total time=   0.2s\n",
      "[CV] END ccp_alpha=0.01, class_weight=balanced, max_depth=None, n_estimators=50; total time=   0.2s\n",
      "[CV] END ccp_alpha=0.01, class_weight=balanced, max_depth=None, n_estimators=50; total time=   0.2s\n",
      "[CV] END ccp_alpha=0.01, class_weight=balanced, max_depth=None, n_estimators=100; total time=   0.4s\n",
      "[CV] END ccp_alpha=0.01, class_weight=balanced, max_depth=None, n_estimators=100; total time=   0.4s\n",
      "[CV] END ccp_alpha=0.01, class_weight=balanced, max_depth=None, n_estimators=100; total time=   0.4s\n",
      "[CV] END ccp_alpha=0.01, class_weight=balanced, max_depth=None, n_estimators=100; total time=   0.4s\n",
      "[CV] END ccp_alpha=0.01, class_weight=balanced, max_depth=None, n_estimators=100; total time=   0.4s\n",
      "[CV] END ccp_alpha=0.01, class_weight=balanced, max_depth=None, n_estimators=200; total time=   0.7s\n",
      "[CV] END ccp_alpha=0.01, class_weight=balanced, max_depth=None, n_estimators=200; total time=   0.7s\n",
      "[CV] END ccp_alpha=0.01, class_weight=balanced, max_depth=None, n_estimators=200; total time=   0.7s\n",
      "[CV] END ccp_alpha=0.01, class_weight=balanced, max_depth=None, n_estimators=200; total time=   0.7s\n",
      "[CV] END ccp_alpha=0.01, class_weight=balanced, max_depth=None, n_estimators=200; total time=   0.7s\n",
      "[CV] END ccp_alpha=0.01, class_weight=balanced, max_depth=None, n_estimators=300; total time=   1.0s\n",
      "[CV] END ccp_alpha=0.01, class_weight=balanced, max_depth=None, n_estimators=300; total time=   1.1s\n",
      "[CV] END ccp_alpha=0.01, class_weight=balanced, max_depth=None, n_estimators=300; total time=   1.1s\n",
      "[CV] END ccp_alpha=0.01, class_weight=balanced, max_depth=None, n_estimators=300; total time=   1.0s\n",
      "[CV] END ccp_alpha=0.01, class_weight=balanced, max_depth=None, n_estimators=300; total time=   1.0s\n",
      "[CV] END ccp_alpha=0.01, class_weight=balanced, max_depth=None, n_estimators=400; total time=   1.4s\n",
      "[CV] END ccp_alpha=0.01, class_weight=balanced, max_depth=None, n_estimators=400; total time=   1.4s\n",
      "[CV] END ccp_alpha=0.01, class_weight=balanced, max_depth=None, n_estimators=400; total time=   1.4s\n",
      "[CV] END ccp_alpha=0.01, class_weight=balanced, max_depth=None, n_estimators=400; total time=   1.4s\n",
      "[CV] END ccp_alpha=0.01, class_weight=balanced, max_depth=None, n_estimators=400; total time=   1.4s\n",
      "[CV] END ccp_alpha=0.01, class_weight=balanced, max_depth=10, n_estimators=50; total time=   0.1s\n",
      "[CV] END ccp_alpha=0.01, class_weight=balanced, max_depth=10, n_estimators=50; total time=   0.1s\n",
      "[CV] END ccp_alpha=0.01, class_weight=balanced, max_depth=10, n_estimators=50; total time=   0.2s\n",
      "[CV] END ccp_alpha=0.01, class_weight=balanced, max_depth=10, n_estimators=50; total time=   0.1s\n",
      "[CV] END ccp_alpha=0.01, class_weight=balanced, max_depth=10, n_estimators=50; total time=   0.1s\n",
      "[CV] END ccp_alpha=0.01, class_weight=balanced, max_depth=10, n_estimators=100; total time=   0.3s\n",
      "[CV] END ccp_alpha=0.01, class_weight=balanced, max_depth=10, n_estimators=100; total time=   0.2s\n",
      "[CV] END ccp_alpha=0.01, class_weight=balanced, max_depth=10, n_estimators=100; total time=   0.2s\n",
      "[CV] END ccp_alpha=0.01, class_weight=balanced, max_depth=10, n_estimators=100; total time=   0.2s\n",
      "[CV] END ccp_alpha=0.01, class_weight=balanced, max_depth=10, n_estimators=100; total time=   0.2s\n",
      "[CV] END ccp_alpha=0.01, class_weight=balanced, max_depth=10, n_estimators=200; total time=   0.4s\n",
      "[CV] END ccp_alpha=0.01, class_weight=balanced, max_depth=10, n_estimators=200; total time=   0.4s\n",
      "[CV] END ccp_alpha=0.01, class_weight=balanced, max_depth=10, n_estimators=200; total time=   0.4s\n",
      "[CV] END ccp_alpha=0.01, class_weight=balanced, max_depth=10, n_estimators=200; total time=   0.5s\n",
      "[CV] END ccp_alpha=0.01, class_weight=balanced, max_depth=10, n_estimators=200; total time=   0.4s\n",
      "[CV] END ccp_alpha=0.01, class_weight=balanced, max_depth=10, n_estimators=300; total time=   0.7s\n",
      "[CV] END ccp_alpha=0.01, class_weight=balanced, max_depth=10, n_estimators=300; total time=   0.7s\n",
      "[CV] END ccp_alpha=0.01, class_weight=balanced, max_depth=10, n_estimators=300; total time=   0.6s\n",
      "[CV] END ccp_alpha=0.01, class_weight=balanced, max_depth=10, n_estimators=300; total time=   0.7s\n",
      "[CV] END ccp_alpha=0.01, class_weight=balanced, max_depth=10, n_estimators=300; total time=   0.6s\n",
      "[CV] END ccp_alpha=0.01, class_weight=balanced, max_depth=10, n_estimators=400; total time=   0.9s\n",
      "[CV] END ccp_alpha=0.01, class_weight=balanced, max_depth=10, n_estimators=400; total time=   0.9s\n",
      "[CV] END ccp_alpha=0.01, class_weight=balanced, max_depth=10, n_estimators=400; total time=   0.9s\n",
      "[CV] END ccp_alpha=0.01, class_weight=balanced, max_depth=10, n_estimators=400; total time=   0.9s\n",
      "[CV] END ccp_alpha=0.01, class_weight=balanced, max_depth=10, n_estimators=400; total time=   0.8s\n",
      "[CV] END ccp_alpha=0.01, class_weight=balanced, max_depth=20, n_estimators=50; total time=   0.2s\n",
      "[CV] END ccp_alpha=0.01, class_weight=balanced, max_depth=20, n_estimators=50; total time=   0.2s\n",
      "[CV] END ccp_alpha=0.01, class_weight=balanced, max_depth=20, n_estimators=50; total time=   0.2s\n",
      "[CV] END ccp_alpha=0.01, class_weight=balanced, max_depth=20, n_estimators=50; total time=   0.2s\n",
      "[CV] END ccp_alpha=0.01, class_weight=balanced, max_depth=20, n_estimators=50; total time=   0.2s\n",
      "[CV] END ccp_alpha=0.01, class_weight=balanced, max_depth=20, n_estimators=100; total time=   0.3s\n",
      "[CV] END ccp_alpha=0.01, class_weight=balanced, max_depth=20, n_estimators=100; total time=   0.3s\n",
      "[CV] END ccp_alpha=0.01, class_weight=balanced, max_depth=20, n_estimators=100; total time=   0.3s\n",
      "[CV] END ccp_alpha=0.01, class_weight=balanced, max_depth=20, n_estimators=100; total time=   0.3s\n",
      "[CV] END ccp_alpha=0.01, class_weight=balanced, max_depth=20, n_estimators=100; total time=   0.3s\n",
      "[CV] END ccp_alpha=0.01, class_weight=balanced, max_depth=20, n_estimators=200; total time=   0.6s\n",
      "[CV] END ccp_alpha=0.01, class_weight=balanced, max_depth=20, n_estimators=200; total time=   0.6s\n",
      "[CV] END ccp_alpha=0.01, class_weight=balanced, max_depth=20, n_estimators=200; total time=   0.6s\n",
      "[CV] END ccp_alpha=0.01, class_weight=balanced, max_depth=20, n_estimators=200; total time=   0.6s\n",
      "[CV] END ccp_alpha=0.01, class_weight=balanced, max_depth=20, n_estimators=200; total time=   0.6s\n",
      "[CV] END ccp_alpha=0.01, class_weight=balanced, max_depth=20, n_estimators=300; total time=   0.9s\n",
      "[CV] END ccp_alpha=0.01, class_weight=balanced, max_depth=20, n_estimators=300; total time=   0.9s\n",
      "[CV] END ccp_alpha=0.01, class_weight=balanced, max_depth=20, n_estimators=300; total time=   0.9s\n",
      "[CV] END ccp_alpha=0.01, class_weight=balanced, max_depth=20, n_estimators=300; total time=   0.9s\n",
      "[CV] END ccp_alpha=0.01, class_weight=balanced, max_depth=20, n_estimators=300; total time=   0.9s\n",
      "[CV] END ccp_alpha=0.01, class_weight=balanced, max_depth=20, n_estimators=400; total time=   1.2s\n",
      "[CV] END ccp_alpha=0.01, class_weight=balanced, max_depth=20, n_estimators=400; total time=   1.2s\n",
      "[CV] END ccp_alpha=0.01, class_weight=balanced, max_depth=20, n_estimators=400; total time=   1.2s\n",
      "[CV] END ccp_alpha=0.01, class_weight=balanced, max_depth=20, n_estimators=400; total time=   1.2s\n",
      "[CV] END ccp_alpha=0.01, class_weight=balanced, max_depth=20, n_estimators=400; total time=   1.2s\n",
      "[CV] END ccp_alpha=0.01, class_weight=balanced, max_depth=30, n_estimators=50; total time=   0.2s\n",
      "[CV] END ccp_alpha=0.01, class_weight=balanced, max_depth=30, n_estimators=50; total time=   0.2s\n",
      "[CV] END ccp_alpha=0.01, class_weight=balanced, max_depth=30, n_estimators=50; total time=   0.2s\n",
      "[CV] END ccp_alpha=0.01, class_weight=balanced, max_depth=30, n_estimators=50; total time=   0.2s\n",
      "[CV] END ccp_alpha=0.01, class_weight=balanced, max_depth=30, n_estimators=50; total time=   0.2s\n",
      "[CV] END ccp_alpha=0.01, class_weight=balanced, max_depth=30, n_estimators=100; total time=   0.4s\n",
      "[CV] END ccp_alpha=0.01, class_weight=balanced, max_depth=30, n_estimators=100; total time=   0.4s\n",
      "[CV] END ccp_alpha=0.01, class_weight=balanced, max_depth=30, n_estimators=100; total time=   0.4s\n",
      "[CV] END ccp_alpha=0.01, class_weight=balanced, max_depth=30, n_estimators=100; total time=   0.4s\n",
      "[CV] END ccp_alpha=0.01, class_weight=balanced, max_depth=30, n_estimators=100; total time=   0.4s\n",
      "[CV] END ccp_alpha=0.01, class_weight=balanced, max_depth=30, n_estimators=200; total time=   0.7s\n",
      "[CV] END ccp_alpha=0.01, class_weight=balanced, max_depth=30, n_estimators=200; total time=   0.7s\n",
      "[CV] END ccp_alpha=0.01, class_weight=balanced, max_depth=30, n_estimators=200; total time=   0.7s\n",
      "[CV] END ccp_alpha=0.01, class_weight=balanced, max_depth=30, n_estimators=200; total time=   0.7s\n",
      "[CV] END ccp_alpha=0.01, class_weight=balanced, max_depth=30, n_estimators=200; total time=   0.7s\n",
      "[CV] END ccp_alpha=0.01, class_weight=balanced, max_depth=30, n_estimators=300; total time=   1.0s\n",
      "[CV] END ccp_alpha=0.01, class_weight=balanced, max_depth=30, n_estimators=300; total time=   1.0s\n",
      "[CV] END ccp_alpha=0.01, class_weight=balanced, max_depth=30, n_estimators=300; total time=   1.0s\n",
      "[CV] END ccp_alpha=0.01, class_weight=balanced, max_depth=30, n_estimators=300; total time=   1.0s\n",
      "[CV] END ccp_alpha=0.01, class_weight=balanced, max_depth=30, n_estimators=300; total time=   1.0s\n",
      "[CV] END ccp_alpha=0.01, class_weight=balanced, max_depth=30, n_estimators=400; total time=   1.3s\n",
      "[CV] END ccp_alpha=0.01, class_weight=balanced, max_depth=30, n_estimators=400; total time=   1.3s\n",
      "[CV] END ccp_alpha=0.01, class_weight=balanced, max_depth=30, n_estimators=400; total time=   1.3s\n",
      "[CV] END ccp_alpha=0.01, class_weight=balanced, max_depth=30, n_estimators=400; total time=   1.3s\n",
      "[CV] END ccp_alpha=0.01, class_weight=balanced, max_depth=30, n_estimators=400; total time=   1.4s\n",
      "[CV] END ccp_alpha=0.01, class_weight=balanced_subsample, max_depth=None, n_estimators=50; total time=   0.2s\n",
      "[CV] END ccp_alpha=0.01, class_weight=balanced_subsample, max_depth=None, n_estimators=50; total time=   0.3s\n",
      "[CV] END ccp_alpha=0.01, class_weight=balanced_subsample, max_depth=None, n_estimators=50; total time=   0.3s\n",
      "[CV] END ccp_alpha=0.01, class_weight=balanced_subsample, max_depth=None, n_estimators=50; total time=   0.3s\n",
      "[CV] END ccp_alpha=0.01, class_weight=balanced_subsample, max_depth=None, n_estimators=50; total time=   0.3s\n",
      "[CV] END ccp_alpha=0.01, class_weight=balanced_subsample, max_depth=None, n_estimators=100; total time=   0.5s\n",
      "[CV] END ccp_alpha=0.01, class_weight=balanced_subsample, max_depth=None, n_estimators=100; total time=   0.5s\n",
      "[CV] END ccp_alpha=0.01, class_weight=balanced_subsample, max_depth=None, n_estimators=100; total time=   0.5s\n",
      "[CV] END ccp_alpha=0.01, class_weight=balanced_subsample, max_depth=None, n_estimators=100; total time=   0.5s\n",
      "[CV] END ccp_alpha=0.01, class_weight=balanced_subsample, max_depth=None, n_estimators=100; total time=   0.5s\n",
      "[CV] END ccp_alpha=0.01, class_weight=balanced_subsample, max_depth=None, n_estimators=200; total time=   0.8s\n",
      "[CV] END ccp_alpha=0.01, class_weight=balanced_subsample, max_depth=None, n_estimators=200; total time=   0.9s\n",
      "[CV] END ccp_alpha=0.01, class_weight=balanced_subsample, max_depth=None, n_estimators=200; total time=   0.9s\n",
      "[CV] END ccp_alpha=0.01, class_weight=balanced_subsample, max_depth=None, n_estimators=200; total time=   0.9s\n",
      "[CV] END ccp_alpha=0.01, class_weight=balanced_subsample, max_depth=None, n_estimators=200; total time=   0.9s\n",
      "[CV] END ccp_alpha=0.01, class_weight=balanced_subsample, max_depth=None, n_estimators=300; total time=   1.3s\n",
      "[CV] END ccp_alpha=0.01, class_weight=balanced_subsample, max_depth=None, n_estimators=300; total time=   1.3s\n",
      "[CV] END ccp_alpha=0.01, class_weight=balanced_subsample, max_depth=None, n_estimators=300; total time=   1.3s\n",
      "[CV] END ccp_alpha=0.01, class_weight=balanced_subsample, max_depth=None, n_estimators=300; total time=   1.3s\n",
      "[CV] END ccp_alpha=0.01, class_weight=balanced_subsample, max_depth=None, n_estimators=300; total time=   1.3s\n",
      "[CV] END ccp_alpha=0.01, class_weight=balanced_subsample, max_depth=None, n_estimators=400; total time=   1.7s\n",
      "[CV] END ccp_alpha=0.01, class_weight=balanced_subsample, max_depth=None, n_estimators=400; total time=   1.7s\n",
      "[CV] END ccp_alpha=0.01, class_weight=balanced_subsample, max_depth=None, n_estimators=400; total time=   1.7s\n",
      "[CV] END ccp_alpha=0.01, class_weight=balanced_subsample, max_depth=None, n_estimators=400; total time=   1.7s\n",
      "[CV] END ccp_alpha=0.01, class_weight=balanced_subsample, max_depth=None, n_estimators=400; total time=   1.7s\n",
      "[CV] END ccp_alpha=0.01, class_weight=balanced_subsample, max_depth=10, n_estimators=50; total time=   0.2s\n",
      "[CV] END ccp_alpha=0.01, class_weight=balanced_subsample, max_depth=10, n_estimators=50; total time=   0.2s\n",
      "[CV] END ccp_alpha=0.01, class_weight=balanced_subsample, max_depth=10, n_estimators=50; total time=   0.2s\n",
      "[CV] END ccp_alpha=0.01, class_weight=balanced_subsample, max_depth=10, n_estimators=50; total time=   0.2s\n",
      "[CV] END ccp_alpha=0.01, class_weight=balanced_subsample, max_depth=10, n_estimators=50; total time=   0.2s\n",
      "[CV] END ccp_alpha=0.01, class_weight=balanced_subsample, max_depth=10, n_estimators=100; total time=   0.4s\n",
      "[CV] END ccp_alpha=0.01, class_weight=balanced_subsample, max_depth=10, n_estimators=100; total time=   0.3s\n",
      "[CV] END ccp_alpha=0.01, class_weight=balanced_subsample, max_depth=10, n_estimators=100; total time=   0.3s\n",
      "[CV] END ccp_alpha=0.01, class_weight=balanced_subsample, max_depth=10, n_estimators=100; total time=   0.3s\n",
      "[CV] END ccp_alpha=0.01, class_weight=balanced_subsample, max_depth=10, n_estimators=100; total time=   0.3s\n",
      "[CV] END ccp_alpha=0.01, class_weight=balanced_subsample, max_depth=10, n_estimators=200; total time=   0.6s\n",
      "[CV] END ccp_alpha=0.01, class_weight=balanced_subsample, max_depth=10, n_estimators=200; total time=   0.6s\n",
      "[CV] END ccp_alpha=0.01, class_weight=balanced_subsample, max_depth=10, n_estimators=200; total time=   0.6s\n",
      "[CV] END ccp_alpha=0.01, class_weight=balanced_subsample, max_depth=10, n_estimators=200; total time=   0.6s\n",
      "[CV] END ccp_alpha=0.01, class_weight=balanced_subsample, max_depth=10, n_estimators=200; total time=   0.6s\n",
      "[CV] END ccp_alpha=0.01, class_weight=balanced_subsample, max_depth=10, n_estimators=300; total time=   0.9s\n",
      "[CV] END ccp_alpha=0.01, class_weight=balanced_subsample, max_depth=10, n_estimators=300; total time=   1.0s\n",
      "[CV] END ccp_alpha=0.01, class_weight=balanced_subsample, max_depth=10, n_estimators=300; total time=   0.9s\n",
      "[CV] END ccp_alpha=0.01, class_weight=balanced_subsample, max_depth=10, n_estimators=300; total time=   0.9s\n",
      "[CV] END ccp_alpha=0.01, class_weight=balanced_subsample, max_depth=10, n_estimators=300; total time=   0.9s\n",
      "[CV] END ccp_alpha=0.01, class_weight=balanced_subsample, max_depth=10, n_estimators=400; total time=   1.2s\n",
      "[CV] END ccp_alpha=0.01, class_weight=balanced_subsample, max_depth=10, n_estimators=400; total time=   1.2s\n",
      "[CV] END ccp_alpha=0.01, class_weight=balanced_subsample, max_depth=10, n_estimators=400; total time=   1.2s\n",
      "[CV] END ccp_alpha=0.01, class_weight=balanced_subsample, max_depth=10, n_estimators=400; total time=   1.2s\n",
      "[CV] END ccp_alpha=0.01, class_weight=balanced_subsample, max_depth=10, n_estimators=400; total time=   1.2s\n",
      "[CV] END ccp_alpha=0.01, class_weight=balanced_subsample, max_depth=20, n_estimators=50; total time=   0.2s\n",
      "[CV] END ccp_alpha=0.01, class_weight=balanced_subsample, max_depth=20, n_estimators=50; total time=   0.2s\n",
      "[CV] END ccp_alpha=0.01, class_weight=balanced_subsample, max_depth=20, n_estimators=50; total time=   0.2s\n",
      "[CV] END ccp_alpha=0.01, class_weight=balanced_subsample, max_depth=20, n_estimators=50; total time=   0.2s\n",
      "[CV] END ccp_alpha=0.01, class_weight=balanced_subsample, max_depth=20, n_estimators=50; total time=   0.2s\n",
      "[CV] END ccp_alpha=0.01, class_weight=balanced_subsample, max_depth=20, n_estimators=100; total time=   0.4s\n",
      "[CV] END ccp_alpha=0.01, class_weight=balanced_subsample, max_depth=20, n_estimators=100; total time=   0.4s\n",
      "[CV] END ccp_alpha=0.01, class_weight=balanced_subsample, max_depth=20, n_estimators=100; total time=   0.4s\n",
      "[CV] END ccp_alpha=0.01, class_weight=balanced_subsample, max_depth=20, n_estimators=100; total time=   0.4s\n",
      "[CV] END ccp_alpha=0.01, class_weight=balanced_subsample, max_depth=20, n_estimators=100; total time=   0.4s\n",
      "[CV] END ccp_alpha=0.01, class_weight=balanced_subsample, max_depth=20, n_estimators=200; total time=   0.8s\n",
      "[CV] END ccp_alpha=0.01, class_weight=balanced_subsample, max_depth=20, n_estimators=200; total time=   0.7s\n",
      "[CV] END ccp_alpha=0.01, class_weight=balanced_subsample, max_depth=20, n_estimators=200; total time=   0.8s\n",
      "[CV] END ccp_alpha=0.01, class_weight=balanced_subsample, max_depth=20, n_estimators=200; total time=   0.7s\n",
      "[CV] END ccp_alpha=0.01, class_weight=balanced_subsample, max_depth=20, n_estimators=200; total time=   0.8s\n",
      "[CV] END ccp_alpha=0.01, class_weight=balanced_subsample, max_depth=20, n_estimators=300; total time=   1.1s\n",
      "[CV] END ccp_alpha=0.01, class_weight=balanced_subsample, max_depth=20, n_estimators=300; total time=   1.1s\n",
      "[CV] END ccp_alpha=0.01, class_weight=balanced_subsample, max_depth=20, n_estimators=300; total time=   1.1s\n",
      "[CV] END ccp_alpha=0.01, class_weight=balanced_subsample, max_depth=20, n_estimators=300; total time=   1.1s\n",
      "[CV] END ccp_alpha=0.01, class_weight=balanced_subsample, max_depth=20, n_estimators=300; total time=   1.1s\n",
      "[CV] END ccp_alpha=0.01, class_weight=balanced_subsample, max_depth=20, n_estimators=400; total time=   1.5s\n",
      "[CV] END ccp_alpha=0.01, class_weight=balanced_subsample, max_depth=20, n_estimators=400; total time=   1.5s\n",
      "[CV] END ccp_alpha=0.01, class_weight=balanced_subsample, max_depth=20, n_estimators=400; total time=   1.5s\n",
      "[CV] END ccp_alpha=0.01, class_weight=balanced_subsample, max_depth=20, n_estimators=400; total time=   1.5s\n",
      "[CV] END ccp_alpha=0.01, class_weight=balanced_subsample, max_depth=20, n_estimators=400; total time=   1.5s\n",
      "[CV] END ccp_alpha=0.01, class_weight=balanced_subsample, max_depth=30, n_estimators=50; total time=   0.2s\n",
      "[CV] END ccp_alpha=0.01, class_weight=balanced_subsample, max_depth=30, n_estimators=50; total time=   0.3s\n",
      "[CV] END ccp_alpha=0.01, class_weight=balanced_subsample, max_depth=30, n_estimators=50; total time=   0.2s\n",
      "[CV] END ccp_alpha=0.01, class_weight=balanced_subsample, max_depth=30, n_estimators=50; total time=   0.3s\n",
      "[CV] END ccp_alpha=0.01, class_weight=balanced_subsample, max_depth=30, n_estimators=50; total time=   0.3s\n",
      "[CV] END ccp_alpha=0.01, class_weight=balanced_subsample, max_depth=30, n_estimators=100; total time=   0.5s\n",
      "[CV] END ccp_alpha=0.01, class_weight=balanced_subsample, max_depth=30, n_estimators=100; total time=   0.5s\n",
      "[CV] END ccp_alpha=0.01, class_weight=balanced_subsample, max_depth=30, n_estimators=100; total time=   0.5s\n",
      "[CV] END ccp_alpha=0.01, class_weight=balanced_subsample, max_depth=30, n_estimators=100; total time=   0.4s\n",
      "[CV] END ccp_alpha=0.01, class_weight=balanced_subsample, max_depth=30, n_estimators=100; total time=   0.5s\n",
      "[CV] END ccp_alpha=0.01, class_weight=balanced_subsample, max_depth=30, n_estimators=200; total time=   0.9s\n",
      "[CV] END ccp_alpha=0.01, class_weight=balanced_subsample, max_depth=30, n_estimators=200; total time=   0.9s\n",
      "[CV] END ccp_alpha=0.01, class_weight=balanced_subsample, max_depth=30, n_estimators=200; total time=   0.9s\n",
      "[CV] END ccp_alpha=0.01, class_weight=balanced_subsample, max_depth=30, n_estimators=200; total time=   0.9s\n",
      "[CV] END ccp_alpha=0.01, class_weight=balanced_subsample, max_depth=30, n_estimators=200; total time=   0.9s\n",
      "[CV] END ccp_alpha=0.01, class_weight=balanced_subsample, max_depth=30, n_estimators=300; total time=   1.3s\n",
      "[CV] END ccp_alpha=0.01, class_weight=balanced_subsample, max_depth=30, n_estimators=300; total time=   1.2s\n",
      "[CV] END ccp_alpha=0.01, class_weight=balanced_subsample, max_depth=30, n_estimators=300; total time=   1.3s\n",
      "[CV] END ccp_alpha=0.01, class_weight=balanced_subsample, max_depth=30, n_estimators=300; total time=   1.3s\n",
      "[CV] END ccp_alpha=0.01, class_weight=balanced_subsample, max_depth=30, n_estimators=300; total time=   1.3s\n",
      "[CV] END ccp_alpha=0.01, class_weight=balanced_subsample, max_depth=30, n_estimators=400; total time=   1.7s\n",
      "[CV] END ccp_alpha=0.01, class_weight=balanced_subsample, max_depth=30, n_estimators=400; total time=   1.7s\n",
      "[CV] END ccp_alpha=0.01, class_weight=balanced_subsample, max_depth=30, n_estimators=400; total time=   1.6s\n",
      "[CV] END ccp_alpha=0.01, class_weight=balanced_subsample, max_depth=30, n_estimators=400; total time=   1.6s\n",
      "[CV] END ccp_alpha=0.01, class_weight=balanced_subsample, max_depth=30, n_estimators=400; total time=   1.7s\n",
      "[CV] END ccp_alpha=0.01, class_weight={0: 1, 1: 2}, max_depth=None, n_estimators=50; total time=   0.2s\n",
      "[CV] END ccp_alpha=0.01, class_weight={0: 1, 1: 2}, max_depth=None, n_estimators=50; total time=   0.2s\n",
      "[CV] END ccp_alpha=0.01, class_weight={0: 1, 1: 2}, max_depth=None, n_estimators=50; total time=   0.2s\n",
      "[CV] END ccp_alpha=0.01, class_weight={0: 1, 1: 2}, max_depth=None, n_estimators=50; total time=   0.2s\n",
      "[CV] END ccp_alpha=0.01, class_weight={0: 1, 1: 2}, max_depth=None, n_estimators=50; total time=   0.2s\n",
      "[CV] END ccp_alpha=0.01, class_weight={0: 1, 1: 2}, max_depth=None, n_estimators=100; total time=   0.4s\n",
      "[CV] END ccp_alpha=0.01, class_weight={0: 1, 1: 2}, max_depth=None, n_estimators=100; total time=   0.4s\n",
      "[CV] END ccp_alpha=0.01, class_weight={0: 1, 1: 2}, max_depth=None, n_estimators=100; total time=   0.4s\n",
      "[CV] END ccp_alpha=0.01, class_weight={0: 1, 1: 2}, max_depth=None, n_estimators=100; total time=   0.4s\n",
      "[CV] END ccp_alpha=0.01, class_weight={0: 1, 1: 2}, max_depth=None, n_estimators=100; total time=   0.4s\n",
      "[CV] END ccp_alpha=0.01, class_weight={0: 1, 1: 2}, max_depth=None, n_estimators=200; total time=   0.7s\n",
      "[CV] END ccp_alpha=0.01, class_weight={0: 1, 1: 2}, max_depth=None, n_estimators=200; total time=   0.7s\n",
      "[CV] END ccp_alpha=0.01, class_weight={0: 1, 1: 2}, max_depth=None, n_estimators=200; total time=   0.7s\n",
      "[CV] END ccp_alpha=0.01, class_weight={0: 1, 1: 2}, max_depth=None, n_estimators=200; total time=   0.7s\n",
      "[CV] END ccp_alpha=0.01, class_weight={0: 1, 1: 2}, max_depth=None, n_estimators=200; total time=   0.7s\n",
      "[CV] END ccp_alpha=0.01, class_weight={0: 1, 1: 2}, max_depth=None, n_estimators=300; total time=   1.1s\n",
      "[CV] END ccp_alpha=0.01, class_weight={0: 1, 1: 2}, max_depth=None, n_estimators=300; total time=   1.0s\n",
      "[CV] END ccp_alpha=0.01, class_weight={0: 1, 1: 2}, max_depth=None, n_estimators=300; total time=   1.0s\n",
      "[CV] END ccp_alpha=0.01, class_weight={0: 1, 1: 2}, max_depth=None, n_estimators=300; total time=   1.1s\n",
      "[CV] END ccp_alpha=0.01, class_weight={0: 1, 1: 2}, max_depth=None, n_estimators=300; total time=   1.0s\n",
      "[CV] END ccp_alpha=0.01, class_weight={0: 1, 1: 2}, max_depth=None, n_estimators=400; total time=   1.4s\n",
      "[CV] END ccp_alpha=0.01, class_weight={0: 1, 1: 2}, max_depth=None, n_estimators=400; total time=   1.4s\n",
      "[CV] END ccp_alpha=0.01, class_weight={0: 1, 1: 2}, max_depth=None, n_estimators=400; total time=   1.4s\n",
      "[CV] END ccp_alpha=0.01, class_weight={0: 1, 1: 2}, max_depth=None, n_estimators=400; total time=   1.4s\n",
      "[CV] END ccp_alpha=0.01, class_weight={0: 1, 1: 2}, max_depth=None, n_estimators=400; total time=   1.4s\n",
      "[CV] END ccp_alpha=0.01, class_weight={0: 1, 1: 2}, max_depth=10, n_estimators=50; total time=   0.1s\n",
      "[CV] END ccp_alpha=0.01, class_weight={0: 1, 1: 2}, max_depth=10, n_estimators=50; total time=   0.1s\n",
      "[CV] END ccp_alpha=0.01, class_weight={0: 1, 1: 2}, max_depth=10, n_estimators=50; total time=   0.2s\n",
      "[CV] END ccp_alpha=0.01, class_weight={0: 1, 1: 2}, max_depth=10, n_estimators=50; total time=   0.2s\n",
      "[CV] END ccp_alpha=0.01, class_weight={0: 1, 1: 2}, max_depth=10, n_estimators=50; total time=   0.1s\n",
      "[CV] END ccp_alpha=0.01, class_weight={0: 1, 1: 2}, max_depth=10, n_estimators=100; total time=   0.3s\n",
      "[CV] END ccp_alpha=0.01, class_weight={0: 1, 1: 2}, max_depth=10, n_estimators=100; total time=   0.3s\n",
      "[CV] END ccp_alpha=0.01, class_weight={0: 1, 1: 2}, max_depth=10, n_estimators=100; total time=   0.2s\n",
      "[CV] END ccp_alpha=0.01, class_weight={0: 1, 1: 2}, max_depth=10, n_estimators=100; total time=   0.3s\n",
      "[CV] END ccp_alpha=0.01, class_weight={0: 1, 1: 2}, max_depth=10, n_estimators=100; total time=   0.2s\n",
      "[CV] END ccp_alpha=0.01, class_weight={0: 1, 1: 2}, max_depth=10, n_estimators=200; total time=   0.5s\n",
      "[CV] END ccp_alpha=0.01, class_weight={0: 1, 1: 2}, max_depth=10, n_estimators=200; total time=   0.5s\n",
      "[CV] END ccp_alpha=0.01, class_weight={0: 1, 1: 2}, max_depth=10, n_estimators=200; total time=   0.5s\n",
      "[CV] END ccp_alpha=0.01, class_weight={0: 1, 1: 2}, max_depth=10, n_estimators=200; total time=   0.5s\n",
      "[CV] END ccp_alpha=0.01, class_weight={0: 1, 1: 2}, max_depth=10, n_estimators=200; total time=   0.4s\n",
      "[CV] END ccp_alpha=0.01, class_weight={0: 1, 1: 2}, max_depth=10, n_estimators=300; total time=   0.7s\n",
      "[CV] END ccp_alpha=0.01, class_weight={0: 1, 1: 2}, max_depth=10, n_estimators=300; total time=   0.7s\n",
      "[CV] END ccp_alpha=0.01, class_weight={0: 1, 1: 2}, max_depth=10, n_estimators=300; total time=   0.6s\n",
      "[CV] END ccp_alpha=0.01, class_weight={0: 1, 1: 2}, max_depth=10, n_estimators=300; total time=   0.6s\n",
      "[CV] END ccp_alpha=0.01, class_weight={0: 1, 1: 2}, max_depth=10, n_estimators=300; total time=   0.6s\n",
      "[CV] END ccp_alpha=0.01, class_weight={0: 1, 1: 2}, max_depth=10, n_estimators=400; total time=   0.9s\n",
      "[CV] END ccp_alpha=0.01, class_weight={0: 1, 1: 2}, max_depth=10, n_estimators=400; total time=   0.9s\n",
      "[CV] END ccp_alpha=0.01, class_weight={0: 1, 1: 2}, max_depth=10, n_estimators=400; total time=   0.9s\n",
      "[CV] END ccp_alpha=0.01, class_weight={0: 1, 1: 2}, max_depth=10, n_estimators=400; total time=   0.9s\n",
      "[CV] END ccp_alpha=0.01, class_weight={0: 1, 1: 2}, max_depth=10, n_estimators=400; total time=   0.9s\n",
      "[CV] END ccp_alpha=0.01, class_weight={0: 1, 1: 2}, max_depth=20, n_estimators=50; total time=   0.2s\n",
      "[CV] END ccp_alpha=0.01, class_weight={0: 1, 1: 2}, max_depth=20, n_estimators=50; total time=   0.2s\n",
      "[CV] END ccp_alpha=0.01, class_weight={0: 1, 1: 2}, max_depth=20, n_estimators=50; total time=   0.2s\n",
      "[CV] END ccp_alpha=0.01, class_weight={0: 1, 1: 2}, max_depth=20, n_estimators=50; total time=   0.2s\n",
      "[CV] END ccp_alpha=0.01, class_weight={0: 1, 1: 2}, max_depth=20, n_estimators=50; total time=   0.2s\n",
      "[CV] END ccp_alpha=0.01, class_weight={0: 1, 1: 2}, max_depth=20, n_estimators=100; total time=   0.3s\n",
      "[CV] END ccp_alpha=0.01, class_weight={0: 1, 1: 2}, max_depth=20, n_estimators=100; total time=   0.3s\n",
      "[CV] END ccp_alpha=0.01, class_weight={0: 1, 1: 2}, max_depth=20, n_estimators=100; total time=   0.3s\n",
      "[CV] END ccp_alpha=0.01, class_weight={0: 1, 1: 2}, max_depth=20, n_estimators=100; total time=   0.3s\n",
      "[CV] END ccp_alpha=0.01, class_weight={0: 1, 1: 2}, max_depth=20, n_estimators=100; total time=   0.3s\n",
      "[CV] END ccp_alpha=0.01, class_weight={0: 1, 1: 2}, max_depth=20, n_estimators=200; total time=   0.6s\n",
      "[CV] END ccp_alpha=0.01, class_weight={0: 1, 1: 2}, max_depth=20, n_estimators=200; total time=   0.6s\n",
      "[CV] END ccp_alpha=0.01, class_weight={0: 1, 1: 2}, max_depth=20, n_estimators=200; total time=   0.6s\n",
      "[CV] END ccp_alpha=0.01, class_weight={0: 1, 1: 2}, max_depth=20, n_estimators=200; total time=   0.6s\n",
      "[CV] END ccp_alpha=0.01, class_weight={0: 1, 1: 2}, max_depth=20, n_estimators=200; total time=   0.6s\n",
      "[CV] END ccp_alpha=0.01, class_weight={0: 1, 1: 2}, max_depth=20, n_estimators=300; total time=   0.9s\n",
      "[CV] END ccp_alpha=0.01, class_weight={0: 1, 1: 2}, max_depth=20, n_estimators=300; total time=   0.9s\n",
      "[CV] END ccp_alpha=0.01, class_weight={0: 1, 1: 2}, max_depth=20, n_estimators=300; total time=   0.9s\n",
      "[CV] END ccp_alpha=0.01, class_weight={0: 1, 1: 2}, max_depth=20, n_estimators=300; total time=   0.9s\n",
      "[CV] END ccp_alpha=0.01, class_weight={0: 1, 1: 2}, max_depth=20, n_estimators=300; total time=   0.9s\n",
      "[CV] END ccp_alpha=0.01, class_weight={0: 1, 1: 2}, max_depth=20, n_estimators=400; total time=   1.1s\n",
      "[CV] END ccp_alpha=0.01, class_weight={0: 1, 1: 2}, max_depth=20, n_estimators=400; total time=   1.2s\n",
      "[CV] END ccp_alpha=0.01, class_weight={0: 1, 1: 2}, max_depth=20, n_estimators=400; total time=   1.1s\n",
      "[CV] END ccp_alpha=0.01, class_weight={0: 1, 1: 2}, max_depth=20, n_estimators=400; total time=   1.2s\n",
      "[CV] END ccp_alpha=0.01, class_weight={0: 1, 1: 2}, max_depth=20, n_estimators=400; total time=   1.2s\n",
      "[CV] END ccp_alpha=0.01, class_weight={0: 1, 1: 2}, max_depth=30, n_estimators=50; total time=   0.2s\n",
      "[CV] END ccp_alpha=0.01, class_weight={0: 1, 1: 2}, max_depth=30, n_estimators=50; total time=   0.2s\n",
      "[CV] END ccp_alpha=0.01, class_weight={0: 1, 1: 2}, max_depth=30, n_estimators=50; total time=   0.2s\n",
      "[CV] END ccp_alpha=0.01, class_weight={0: 1, 1: 2}, max_depth=30, n_estimators=50; total time=   0.2s\n",
      "[CV] END ccp_alpha=0.01, class_weight={0: 1, 1: 2}, max_depth=30, n_estimators=50; total time=   0.2s\n",
      "[CV] END ccp_alpha=0.01, class_weight={0: 1, 1: 2}, max_depth=30, n_estimators=100; total time=   0.4s\n",
      "[CV] END ccp_alpha=0.01, class_weight={0: 1, 1: 2}, max_depth=30, n_estimators=100; total time=   0.4s\n",
      "[CV] END ccp_alpha=0.01, class_weight={0: 1, 1: 2}, max_depth=30, n_estimators=100; total time=   0.3s\n",
      "[CV] END ccp_alpha=0.01, class_weight={0: 1, 1: 2}, max_depth=30, n_estimators=100; total time=   0.4s\n",
      "[CV] END ccp_alpha=0.01, class_weight={0: 1, 1: 2}, max_depth=30, n_estimators=100; total time=   0.4s\n",
      "[CV] END ccp_alpha=0.01, class_weight={0: 1, 1: 2}, max_depth=30, n_estimators=200; total time=   0.7s\n",
      "[CV] END ccp_alpha=0.01, class_weight={0: 1, 1: 2}, max_depth=30, n_estimators=200; total time=   0.7s\n",
      "[CV] END ccp_alpha=0.01, class_weight={0: 1, 1: 2}, max_depth=30, n_estimators=200; total time=   0.7s\n",
      "[CV] END ccp_alpha=0.01, class_weight={0: 1, 1: 2}, max_depth=30, n_estimators=200; total time=   0.7s\n",
      "[CV] END ccp_alpha=0.01, class_weight={0: 1, 1: 2}, max_depth=30, n_estimators=200; total time=   0.7s\n",
      "[CV] END ccp_alpha=0.01, class_weight={0: 1, 1: 2}, max_depth=30, n_estimators=300; total time=   1.0s\n",
      "[CV] END ccp_alpha=0.01, class_weight={0: 1, 1: 2}, max_depth=30, n_estimators=300; total time=   1.0s\n",
      "[CV] END ccp_alpha=0.01, class_weight={0: 1, 1: 2}, max_depth=30, n_estimators=300; total time=   1.0s\n",
      "[CV] END ccp_alpha=0.01, class_weight={0: 1, 1: 2}, max_depth=30, n_estimators=300; total time=   1.0s\n",
      "[CV] END ccp_alpha=0.01, class_weight={0: 1, 1: 2}, max_depth=30, n_estimators=300; total time=   1.0s\n",
      "[CV] END ccp_alpha=0.01, class_weight={0: 1, 1: 2}, max_depth=30, n_estimators=400; total time=   1.3s\n",
      "[CV] END ccp_alpha=0.01, class_weight={0: 1, 1: 2}, max_depth=30, n_estimators=400; total time=   1.3s\n",
      "[CV] END ccp_alpha=0.01, class_weight={0: 1, 1: 2}, max_depth=30, n_estimators=400; total time=   1.3s\n",
      "[CV] END ccp_alpha=0.01, class_weight={0: 1, 1: 2}, max_depth=30, n_estimators=400; total time=   1.3s\n",
      "[CV] END ccp_alpha=0.01, class_weight={0: 1, 1: 2}, max_depth=30, n_estimators=400; total time=   1.3s\n",
      "[CV] END ccp_alpha=0.01, class_weight={0: 1, 1: 3}, max_depth=None, n_estimators=50; total time=   0.2s\n",
      "[CV] END ccp_alpha=0.01, class_weight={0: 1, 1: 3}, max_depth=None, n_estimators=50; total time=   0.2s\n",
      "[CV] END ccp_alpha=0.01, class_weight={0: 1, 1: 3}, max_depth=None, n_estimators=50; total time=   0.2s\n",
      "[CV] END ccp_alpha=0.01, class_weight={0: 1, 1: 3}, max_depth=None, n_estimators=50; total time=   0.2s\n",
      "[CV] END ccp_alpha=0.01, class_weight={0: 1, 1: 3}, max_depth=None, n_estimators=50; total time=   0.2s\n",
      "[CV] END ccp_alpha=0.01, class_weight={0: 1, 1: 3}, max_depth=None, n_estimators=100; total time=   0.4s\n",
      "[CV] END ccp_alpha=0.01, class_weight={0: 1, 1: 3}, max_depth=None, n_estimators=100; total time=   0.4s\n",
      "[CV] END ccp_alpha=0.01, class_weight={0: 1, 1: 3}, max_depth=None, n_estimators=100; total time=   0.4s\n",
      "[CV] END ccp_alpha=0.01, class_weight={0: 1, 1: 3}, max_depth=None, n_estimators=100; total time=   0.4s\n",
      "[CV] END ccp_alpha=0.01, class_weight={0: 1, 1: 3}, max_depth=None, n_estimators=100; total time=   0.4s\n",
      "[CV] END ccp_alpha=0.01, class_weight={0: 1, 1: 3}, max_depth=None, n_estimators=200; total time=   0.7s\n",
      "[CV] END ccp_alpha=0.01, class_weight={0: 1, 1: 3}, max_depth=None, n_estimators=200; total time=   0.8s\n",
      "[CV] END ccp_alpha=0.01, class_weight={0: 1, 1: 3}, max_depth=None, n_estimators=200; total time=   0.7s\n",
      "[CV] END ccp_alpha=0.01, class_weight={0: 1, 1: 3}, max_depth=None, n_estimators=200; total time=   0.7s\n",
      "[CV] END ccp_alpha=0.01, class_weight={0: 1, 1: 3}, max_depth=None, n_estimators=200; total time=   0.7s\n",
      "[CV] END ccp_alpha=0.01, class_weight={0: 1, 1: 3}, max_depth=None, n_estimators=300; total time=   1.0s\n",
      "[CV] END ccp_alpha=0.01, class_weight={0: 1, 1: 3}, max_depth=None, n_estimators=300; total time=   1.1s\n",
      "[CV] END ccp_alpha=0.01, class_weight={0: 1, 1: 3}, max_depth=None, n_estimators=300; total time=   1.0s\n",
      "[CV] END ccp_alpha=0.01, class_weight={0: 1, 1: 3}, max_depth=None, n_estimators=300; total time=   1.1s\n",
      "[CV] END ccp_alpha=0.01, class_weight={0: 1, 1: 3}, max_depth=None, n_estimators=300; total time=   1.0s\n",
      "[CV] END ccp_alpha=0.01, class_weight={0: 1, 1: 3}, max_depth=None, n_estimators=400; total time=   1.4s\n",
      "[CV] END ccp_alpha=0.01, class_weight={0: 1, 1: 3}, max_depth=None, n_estimators=400; total time=   1.4s\n",
      "[CV] END ccp_alpha=0.01, class_weight={0: 1, 1: 3}, max_depth=None, n_estimators=400; total time=   1.4s\n",
      "[CV] END ccp_alpha=0.01, class_weight={0: 1, 1: 3}, max_depth=None, n_estimators=400; total time=   1.4s\n",
      "[CV] END ccp_alpha=0.01, class_weight={0: 1, 1: 3}, max_depth=None, n_estimators=400; total time=   1.4s\n",
      "[CV] END ccp_alpha=0.01, class_weight={0: 1, 1: 3}, max_depth=10, n_estimators=50; total time=   0.1s\n",
      "[CV] END ccp_alpha=0.01, class_weight={0: 1, 1: 3}, max_depth=10, n_estimators=50; total time=   0.2s\n",
      "[CV] END ccp_alpha=0.01, class_weight={0: 1, 1: 3}, max_depth=10, n_estimators=50; total time=   0.1s\n",
      "[CV] END ccp_alpha=0.01, class_weight={0: 1, 1: 3}, max_depth=10, n_estimators=50; total time=   0.1s\n",
      "[CV] END ccp_alpha=0.01, class_weight={0: 1, 1: 3}, max_depth=10, n_estimators=50; total time=   0.1s\n",
      "[CV] END ccp_alpha=0.01, class_weight={0: 1, 1: 3}, max_depth=10, n_estimators=100; total time=   0.3s\n",
      "[CV] END ccp_alpha=0.01, class_weight={0: 1, 1: 3}, max_depth=10, n_estimators=100; total time=   0.3s\n",
      "[CV] END ccp_alpha=0.01, class_weight={0: 1, 1: 3}, max_depth=10, n_estimators=100; total time=   0.3s\n",
      "[CV] END ccp_alpha=0.01, class_weight={0: 1, 1: 3}, max_depth=10, n_estimators=100; total time=   0.2s\n",
      "[CV] END ccp_alpha=0.01, class_weight={0: 1, 1: 3}, max_depth=10, n_estimators=100; total time=   0.2s\n",
      "[CV] END ccp_alpha=0.01, class_weight={0: 1, 1: 3}, max_depth=10, n_estimators=200; total time=   0.4s\n",
      "[CV] END ccp_alpha=0.01, class_weight={0: 1, 1: 3}, max_depth=10, n_estimators=200; total time=   0.5s\n",
      "[CV] END ccp_alpha=0.01, class_weight={0: 1, 1: 3}, max_depth=10, n_estimators=200; total time=   0.5s\n",
      "[CV] END ccp_alpha=0.01, class_weight={0: 1, 1: 3}, max_depth=10, n_estimators=200; total time=   0.5s\n",
      "[CV] END ccp_alpha=0.01, class_weight={0: 1, 1: 3}, max_depth=10, n_estimators=200; total time=   0.5s\n",
      "[CV] END ccp_alpha=0.01, class_weight={0: 1, 1: 3}, max_depth=10, n_estimators=300; total time=   0.7s\n",
      "[CV] END ccp_alpha=0.01, class_weight={0: 1, 1: 3}, max_depth=10, n_estimators=300; total time=   0.7s\n",
      "[CV] END ccp_alpha=0.01, class_weight={0: 1, 1: 3}, max_depth=10, n_estimators=300; total time=   0.7s\n",
      "[CV] END ccp_alpha=0.01, class_weight={0: 1, 1: 3}, max_depth=10, n_estimators=300; total time=   0.6s\n",
      "[CV] END ccp_alpha=0.01, class_weight={0: 1, 1: 3}, max_depth=10, n_estimators=300; total time=   0.6s\n",
      "[CV] END ccp_alpha=0.01, class_weight={0: 1, 1: 3}, max_depth=10, n_estimators=400; total time=   0.8s\n",
      "[CV] END ccp_alpha=0.01, class_weight={0: 1, 1: 3}, max_depth=10, n_estimators=400; total time=   0.9s\n",
      "[CV] END ccp_alpha=0.01, class_weight={0: 1, 1: 3}, max_depth=10, n_estimators=400; total time=   0.9s\n",
      "[CV] END ccp_alpha=0.01, class_weight={0: 1, 1: 3}, max_depth=10, n_estimators=400; total time=   0.9s\n",
      "[CV] END ccp_alpha=0.01, class_weight={0: 1, 1: 3}, max_depth=10, n_estimators=400; total time=   0.9s\n",
      "[CV] END ccp_alpha=0.01, class_weight={0: 1, 1: 3}, max_depth=20, n_estimators=50; total time=   0.2s\n",
      "[CV] END ccp_alpha=0.01, class_weight={0: 1, 1: 3}, max_depth=20, n_estimators=50; total time=   0.2s\n",
      "[CV] END ccp_alpha=0.01, class_weight={0: 1, 1: 3}, max_depth=20, n_estimators=50; total time=   0.2s\n",
      "[CV] END ccp_alpha=0.01, class_weight={0: 1, 1: 3}, max_depth=20, n_estimators=50; total time=   0.2s\n",
      "[CV] END ccp_alpha=0.01, class_weight={0: 1, 1: 3}, max_depth=20, n_estimators=50; total time=   0.2s\n",
      "[CV] END ccp_alpha=0.01, class_weight={0: 1, 1: 3}, max_depth=20, n_estimators=100; total time=   0.3s\n",
      "[CV] END ccp_alpha=0.01, class_weight={0: 1, 1: 3}, max_depth=20, n_estimators=100; total time=   0.3s\n",
      "[CV] END ccp_alpha=0.01, class_weight={0: 1, 1: 3}, max_depth=20, n_estimators=100; total time=   0.3s\n",
      "[CV] END ccp_alpha=0.01, class_weight={0: 1, 1: 3}, max_depth=20, n_estimators=100; total time=   0.3s\n",
      "[CV] END ccp_alpha=0.01, class_weight={0: 1, 1: 3}, max_depth=20, n_estimators=100; total time=   0.3s\n",
      "[CV] END ccp_alpha=0.01, class_weight={0: 1, 1: 3}, max_depth=20, n_estimators=200; total time=   0.6s\n",
      "[CV] END ccp_alpha=0.01, class_weight={0: 1, 1: 3}, max_depth=20, n_estimators=200; total time=   0.6s\n",
      "[CV] END ccp_alpha=0.01, class_weight={0: 1, 1: 3}, max_depth=20, n_estimators=200; total time=   0.6s\n",
      "[CV] END ccp_alpha=0.01, class_weight={0: 1, 1: 3}, max_depth=20, n_estimators=200; total time=   0.6s\n",
      "[CV] END ccp_alpha=0.01, class_weight={0: 1, 1: 3}, max_depth=20, n_estimators=200; total time=   0.6s\n",
      "[CV] END ccp_alpha=0.01, class_weight={0: 1, 1: 3}, max_depth=20, n_estimators=300; total time=   0.8s\n",
      "[CV] END ccp_alpha=0.01, class_weight={0: 1, 1: 3}, max_depth=20, n_estimators=300; total time=   0.9s\n",
      "[CV] END ccp_alpha=0.01, class_weight={0: 1, 1: 3}, max_depth=20, n_estimators=300; total time=   0.9s\n",
      "[CV] END ccp_alpha=0.01, class_weight={0: 1, 1: 3}, max_depth=20, n_estimators=300; total time=   0.8s\n",
      "[CV] END ccp_alpha=0.01, class_weight={0: 1, 1: 3}, max_depth=20, n_estimators=300; total time=   0.9s\n",
      "[CV] END ccp_alpha=0.01, class_weight={0: 1, 1: 3}, max_depth=20, n_estimators=400; total time=   1.1s\n",
      "[CV] END ccp_alpha=0.01, class_weight={0: 1, 1: 3}, max_depth=20, n_estimators=400; total time=   1.2s\n",
      "[CV] END ccp_alpha=0.01, class_weight={0: 1, 1: 3}, max_depth=20, n_estimators=400; total time=   1.1s\n",
      "[CV] END ccp_alpha=0.01, class_weight={0: 1, 1: 3}, max_depth=20, n_estimators=400; total time=   1.1s\n",
      "[CV] END ccp_alpha=0.01, class_weight={0: 1, 1: 3}, max_depth=20, n_estimators=400; total time=   1.1s\n",
      "[CV] END ccp_alpha=0.01, class_weight={0: 1, 1: 3}, max_depth=30, n_estimators=50; total time=   0.2s\n",
      "[CV] END ccp_alpha=0.01, class_weight={0: 1, 1: 3}, max_depth=30, n_estimators=50; total time=   0.2s\n",
      "[CV] END ccp_alpha=0.01, class_weight={0: 1, 1: 3}, max_depth=30, n_estimators=50; total time=   0.2s\n",
      "[CV] END ccp_alpha=0.01, class_weight={0: 1, 1: 3}, max_depth=30, n_estimators=50; total time=   0.2s\n",
      "[CV] END ccp_alpha=0.01, class_weight={0: 1, 1: 3}, max_depth=30, n_estimators=50; total time=   0.2s\n",
      "[CV] END ccp_alpha=0.01, class_weight={0: 1, 1: 3}, max_depth=30, n_estimators=100; total time=   0.4s\n",
      "[CV] END ccp_alpha=0.01, class_weight={0: 1, 1: 3}, max_depth=30, n_estimators=100; total time=   0.4s\n",
      "[CV] END ccp_alpha=0.01, class_weight={0: 1, 1: 3}, max_depth=30, n_estimators=100; total time=   0.4s\n",
      "[CV] END ccp_alpha=0.01, class_weight={0: 1, 1: 3}, max_depth=30, n_estimators=100; total time=   0.4s\n",
      "[CV] END ccp_alpha=0.01, class_weight={0: 1, 1: 3}, max_depth=30, n_estimators=100; total time=   0.4s\n",
      "[CV] END ccp_alpha=0.01, class_weight={0: 1, 1: 3}, max_depth=30, n_estimators=200; total time=   0.7s\n",
      "[CV] END ccp_alpha=0.01, class_weight={0: 1, 1: 3}, max_depth=30, n_estimators=200; total time=   0.7s\n",
      "[CV] END ccp_alpha=0.01, class_weight={0: 1, 1: 3}, max_depth=30, n_estimators=200; total time=   0.7s\n",
      "[CV] END ccp_alpha=0.01, class_weight={0: 1, 1: 3}, max_depth=30, n_estimators=200; total time=   0.7s\n",
      "[CV] END ccp_alpha=0.01, class_weight={0: 1, 1: 3}, max_depth=30, n_estimators=200; total time=   0.7s\n",
      "[CV] END ccp_alpha=0.01, class_weight={0: 1, 1: 3}, max_depth=30, n_estimators=300; total time=   1.0s\n",
      "[CV] END ccp_alpha=0.01, class_weight={0: 1, 1: 3}, max_depth=30, n_estimators=300; total time=   1.0s\n",
      "[CV] END ccp_alpha=0.01, class_weight={0: 1, 1: 3}, max_depth=30, n_estimators=300; total time=   1.0s\n",
      "[CV] END ccp_alpha=0.01, class_weight={0: 1, 1: 3}, max_depth=30, n_estimators=300; total time=   1.0s\n",
      "[CV] END ccp_alpha=0.01, class_weight={0: 1, 1: 3}, max_depth=30, n_estimators=300; total time=   1.0s\n",
      "[CV] END ccp_alpha=0.01, class_weight={0: 1, 1: 3}, max_depth=30, n_estimators=400; total time=   1.3s\n",
      "[CV] END ccp_alpha=0.01, class_weight={0: 1, 1: 3}, max_depth=30, n_estimators=400; total time=   1.3s\n",
      "[CV] END ccp_alpha=0.01, class_weight={0: 1, 1: 3}, max_depth=30, n_estimators=400; total time=   1.3s\n",
      "[CV] END ccp_alpha=0.01, class_weight={0: 1, 1: 3}, max_depth=30, n_estimators=400; total time=   1.3s\n",
      "[CV] END ccp_alpha=0.01, class_weight={0: 1, 1: 3}, max_depth=30, n_estimators=400; total time=   1.3s\n",
      "[CV] END ccp_alpha=0.01, class_weight={0: 1.5, 1: 2.5}, max_depth=None, n_estimators=50; total time=   0.2s\n",
      "[CV] END ccp_alpha=0.01, class_weight={0: 1.5, 1: 2.5}, max_depth=None, n_estimators=50; total time=   0.2s\n",
      "[CV] END ccp_alpha=0.01, class_weight={0: 1.5, 1: 2.5}, max_depth=None, n_estimators=50; total time=   0.2s\n",
      "[CV] END ccp_alpha=0.01, class_weight={0: 1.5, 1: 2.5}, max_depth=None, n_estimators=50; total time=   0.2s\n",
      "[CV] END ccp_alpha=0.01, class_weight={0: 1.5, 1: 2.5}, max_depth=None, n_estimators=50; total time=   0.2s\n",
      "[CV] END ccp_alpha=0.01, class_weight={0: 1.5, 1: 2.5}, max_depth=None, n_estimators=100; total time=   0.4s\n",
      "[CV] END ccp_alpha=0.01, class_weight={0: 1.5, 1: 2.5}, max_depth=None, n_estimators=100; total time=   0.4s\n",
      "[CV] END ccp_alpha=0.01, class_weight={0: 1.5, 1: 2.5}, max_depth=None, n_estimators=100; total time=   0.4s\n",
      "[CV] END ccp_alpha=0.01, class_weight={0: 1.5, 1: 2.5}, max_depth=None, n_estimators=100; total time=   0.4s\n",
      "[CV] END ccp_alpha=0.01, class_weight={0: 1.5, 1: 2.5}, max_depth=None, n_estimators=100; total time=   0.4s\n",
      "[CV] END ccp_alpha=0.01, class_weight={0: 1.5, 1: 2.5}, max_depth=None, n_estimators=200; total time=   0.7s\n",
      "[CV] END ccp_alpha=0.01, class_weight={0: 1.5, 1: 2.5}, max_depth=None, n_estimators=200; total time=   0.7s\n",
      "[CV] END ccp_alpha=0.01, class_weight={0: 1.5, 1: 2.5}, max_depth=None, n_estimators=200; total time=   0.7s\n",
      "[CV] END ccp_alpha=0.01, class_weight={0: 1.5, 1: 2.5}, max_depth=None, n_estimators=200; total time=   0.7s\n",
      "[CV] END ccp_alpha=0.01, class_weight={0: 1.5, 1: 2.5}, max_depth=None, n_estimators=200; total time=   0.7s\n",
      "[CV] END ccp_alpha=0.01, class_weight={0: 1.5, 1: 2.5}, max_depth=None, n_estimators=300; total time=   1.0s\n",
      "[CV] END ccp_alpha=0.01, class_weight={0: 1.5, 1: 2.5}, max_depth=None, n_estimators=300; total time=   1.0s\n",
      "[CV] END ccp_alpha=0.01, class_weight={0: 1.5, 1: 2.5}, max_depth=None, n_estimators=300; total time=   1.0s\n",
      "[CV] END ccp_alpha=0.01, class_weight={0: 1.5, 1: 2.5}, max_depth=None, n_estimators=300; total time=   1.0s\n",
      "[CV] END ccp_alpha=0.01, class_weight={0: 1.5, 1: 2.5}, max_depth=None, n_estimators=300; total time=   1.0s\n",
      "[CV] END ccp_alpha=0.01, class_weight={0: 1.5, 1: 2.5}, max_depth=None, n_estimators=400; total time=   1.4s\n",
      "[CV] END ccp_alpha=0.01, class_weight={0: 1.5, 1: 2.5}, max_depth=None, n_estimators=400; total time=   1.4s\n",
      "[CV] END ccp_alpha=0.01, class_weight={0: 1.5, 1: 2.5}, max_depth=None, n_estimators=400; total time=   1.4s\n",
      "[CV] END ccp_alpha=0.01, class_weight={0: 1.5, 1: 2.5}, max_depth=None, n_estimators=400; total time=   1.4s\n",
      "[CV] END ccp_alpha=0.01, class_weight={0: 1.5, 1: 2.5}, max_depth=None, n_estimators=400; total time=   1.4s\n",
      "[CV] END ccp_alpha=0.01, class_weight={0: 1.5, 1: 2.5}, max_depth=10, n_estimators=50; total time=   0.1s\n",
      "[CV] END ccp_alpha=0.01, class_weight={0: 1.5, 1: 2.5}, max_depth=10, n_estimators=50; total time=   0.2s\n",
      "[CV] END ccp_alpha=0.01, class_weight={0: 1.5, 1: 2.5}, max_depth=10, n_estimators=50; total time=   0.1s\n",
      "[CV] END ccp_alpha=0.01, class_weight={0: 1.5, 1: 2.5}, max_depth=10, n_estimators=50; total time=   0.2s\n",
      "[CV] END ccp_alpha=0.01, class_weight={0: 1.5, 1: 2.5}, max_depth=10, n_estimators=50; total time=   0.2s\n",
      "[CV] END ccp_alpha=0.01, class_weight={0: 1.5, 1: 2.5}, max_depth=10, n_estimators=100; total time=   0.2s\n",
      "[CV] END ccp_alpha=0.01, class_weight={0: 1.5, 1: 2.5}, max_depth=10, n_estimators=100; total time=   0.3s\n",
      "[CV] END ccp_alpha=0.01, class_weight={0: 1.5, 1: 2.5}, max_depth=10, n_estimators=100; total time=   0.3s\n",
      "[CV] END ccp_alpha=0.01, class_weight={0: 1.5, 1: 2.5}, max_depth=10, n_estimators=100; total time=   0.3s\n",
      "[CV] END ccp_alpha=0.01, class_weight={0: 1.5, 1: 2.5}, max_depth=10, n_estimators=100; total time=   0.3s\n",
      "[CV] END ccp_alpha=0.01, class_weight={0: 1.5, 1: 2.5}, max_depth=10, n_estimators=200; total time=   0.5s\n",
      "[CV] END ccp_alpha=0.01, class_weight={0: 1.5, 1: 2.5}, max_depth=10, n_estimators=200; total time=   0.5s\n",
      "[CV] END ccp_alpha=0.01, class_weight={0: 1.5, 1: 2.5}, max_depth=10, n_estimators=200; total time=   0.5s\n",
      "[CV] END ccp_alpha=0.01, class_weight={0: 1.5, 1: 2.5}, max_depth=10, n_estimators=200; total time=   0.5s\n",
      "[CV] END ccp_alpha=0.01, class_weight={0: 1.5, 1: 2.5}, max_depth=10, n_estimators=200; total time=   0.4s\n",
      "[CV] END ccp_alpha=0.01, class_weight={0: 1.5, 1: 2.5}, max_depth=10, n_estimators=300; total time=   0.7s\n",
      "[CV] END ccp_alpha=0.01, class_weight={0: 1.5, 1: 2.5}, max_depth=10, n_estimators=300; total time=   0.7s\n",
      "[CV] END ccp_alpha=0.01, class_weight={0: 1.5, 1: 2.5}, max_depth=10, n_estimators=300; total time=   0.6s\n",
      "[CV] END ccp_alpha=0.01, class_weight={0: 1.5, 1: 2.5}, max_depth=10, n_estimators=300; total time=   0.6s\n",
      "[CV] END ccp_alpha=0.01, class_weight={0: 1.5, 1: 2.5}, max_depth=10, n_estimators=300; total time=   0.7s\n",
      "[CV] END ccp_alpha=0.01, class_weight={0: 1.5, 1: 2.5}, max_depth=10, n_estimators=400; total time=   0.9s\n",
      "[CV] END ccp_alpha=0.01, class_weight={0: 1.5, 1: 2.5}, max_depth=10, n_estimators=400; total time=   0.8s\n",
      "[CV] END ccp_alpha=0.01, class_weight={0: 1.5, 1: 2.5}, max_depth=10, n_estimators=400; total time=   0.9s\n",
      "[CV] END ccp_alpha=0.01, class_weight={0: 1.5, 1: 2.5}, max_depth=10, n_estimators=400; total time=   0.8s\n",
      "[CV] END ccp_alpha=0.01, class_weight={0: 1.5, 1: 2.5}, max_depth=10, n_estimators=400; total time=   0.9s\n",
      "[CV] END ccp_alpha=0.01, class_weight={0: 1.5, 1: 2.5}, max_depth=20, n_estimators=50; total time=   0.2s\n",
      "[CV] END ccp_alpha=0.01, class_weight={0: 1.5, 1: 2.5}, max_depth=20, n_estimators=50; total time=   0.2s\n",
      "[CV] END ccp_alpha=0.01, class_weight={0: 1.5, 1: 2.5}, max_depth=20, n_estimators=50; total time=   0.2s\n",
      "[CV] END ccp_alpha=0.01, class_weight={0: 1.5, 1: 2.5}, max_depth=20, n_estimators=50; total time=   0.2s\n",
      "[CV] END ccp_alpha=0.01, class_weight={0: 1.5, 1: 2.5}, max_depth=20, n_estimators=50; total time=   0.2s\n",
      "[CV] END ccp_alpha=0.01, class_weight={0: 1.5, 1: 2.5}, max_depth=20, n_estimators=100; total time=   0.3s\n",
      "[CV] END ccp_alpha=0.01, class_weight={0: 1.5, 1: 2.5}, max_depth=20, n_estimators=100; total time=   0.3s\n",
      "[CV] END ccp_alpha=0.01, class_weight={0: 1.5, 1: 2.5}, max_depth=20, n_estimators=100; total time=   0.3s\n",
      "[CV] END ccp_alpha=0.01, class_weight={0: 1.5, 1: 2.5}, max_depth=20, n_estimators=100; total time=   0.3s\n",
      "[CV] END ccp_alpha=0.01, class_weight={0: 1.5, 1: 2.5}, max_depth=20, n_estimators=100; total time=   0.3s\n",
      "[CV] END ccp_alpha=0.01, class_weight={0: 1.5, 1: 2.5}, max_depth=20, n_estimators=200; total time=   0.6s\n",
      "[CV] END ccp_alpha=0.01, class_weight={0: 1.5, 1: 2.5}, max_depth=20, n_estimators=200; total time=   0.6s\n",
      "[CV] END ccp_alpha=0.01, class_weight={0: 1.5, 1: 2.5}, max_depth=20, n_estimators=200; total time=   0.6s\n",
      "[CV] END ccp_alpha=0.01, class_weight={0: 1.5, 1: 2.5}, max_depth=20, n_estimators=200; total time=   0.6s\n",
      "[CV] END ccp_alpha=0.01, class_weight={0: 1.5, 1: 2.5}, max_depth=20, n_estimators=200; total time=   0.6s\n",
      "[CV] END ccp_alpha=0.01, class_weight={0: 1.5, 1: 2.5}, max_depth=20, n_estimators=300; total time=   0.9s\n",
      "[CV] END ccp_alpha=0.01, class_weight={0: 1.5, 1: 2.5}, max_depth=20, n_estimators=300; total time=   0.9s\n",
      "[CV] END ccp_alpha=0.01, class_weight={0: 1.5, 1: 2.5}, max_depth=20, n_estimators=300; total time=   0.9s\n",
      "[CV] END ccp_alpha=0.01, class_weight={0: 1.5, 1: 2.5}, max_depth=20, n_estimators=300; total time=   0.9s\n",
      "[CV] END ccp_alpha=0.01, class_weight={0: 1.5, 1: 2.5}, max_depth=20, n_estimators=300; total time=   0.9s\n",
      "[CV] END ccp_alpha=0.01, class_weight={0: 1.5, 1: 2.5}, max_depth=20, n_estimators=400; total time=   1.1s\n",
      "[CV] END ccp_alpha=0.01, class_weight={0: 1.5, 1: 2.5}, max_depth=20, n_estimators=400; total time=   1.2s\n",
      "[CV] END ccp_alpha=0.01, class_weight={0: 1.5, 1: 2.5}, max_depth=20, n_estimators=400; total time=   1.2s\n",
      "[CV] END ccp_alpha=0.01, class_weight={0: 1.5, 1: 2.5}, max_depth=20, n_estimators=400; total time=   1.2s\n",
      "[CV] END ccp_alpha=0.01, class_weight={0: 1.5, 1: 2.5}, max_depth=20, n_estimators=400; total time=   1.1s\n",
      "[CV] END ccp_alpha=0.01, class_weight={0: 1.5, 1: 2.5}, max_depth=30, n_estimators=50; total time=   0.2s\n",
      "[CV] END ccp_alpha=0.01, class_weight={0: 1.5, 1: 2.5}, max_depth=30, n_estimators=50; total time=   0.2s\n",
      "[CV] END ccp_alpha=0.01, class_weight={0: 1.5, 1: 2.5}, max_depth=30, n_estimators=50; total time=   0.2s\n",
      "[CV] END ccp_alpha=0.01, class_weight={0: 1.5, 1: 2.5}, max_depth=30, n_estimators=50; total time=   0.2s\n",
      "[CV] END ccp_alpha=0.01, class_weight={0: 1.5, 1: 2.5}, max_depth=30, n_estimators=50; total time=   0.2s\n",
      "[CV] END ccp_alpha=0.01, class_weight={0: 1.5, 1: 2.5}, max_depth=30, n_estimators=100; total time=   0.4s\n",
      "[CV] END ccp_alpha=0.01, class_weight={0: 1.5, 1: 2.5}, max_depth=30, n_estimators=100; total time=   0.4s\n",
      "[CV] END ccp_alpha=0.01, class_weight={0: 1.5, 1: 2.5}, max_depth=30, n_estimators=100; total time=   0.4s\n",
      "[CV] END ccp_alpha=0.01, class_weight={0: 1.5, 1: 2.5}, max_depth=30, n_estimators=100; total time=   0.4s\n",
      "[CV] END ccp_alpha=0.01, class_weight={0: 1.5, 1: 2.5}, max_depth=30, n_estimators=100; total time=   0.3s\n",
      "[CV] END ccp_alpha=0.01, class_weight={0: 1.5, 1: 2.5}, max_depth=30, n_estimators=200; total time=   0.7s\n",
      "[CV] END ccp_alpha=0.01, class_weight={0: 1.5, 1: 2.5}, max_depth=30, n_estimators=200; total time=   0.7s\n",
      "[CV] END ccp_alpha=0.01, class_weight={0: 1.5, 1: 2.5}, max_depth=30, n_estimators=200; total time=   0.7s\n",
      "[CV] END ccp_alpha=0.01, class_weight={0: 1.5, 1: 2.5}, max_depth=30, n_estimators=200; total time=   0.7s\n",
      "[CV] END ccp_alpha=0.01, class_weight={0: 1.5, 1: 2.5}, max_depth=30, n_estimators=200; total time=   0.7s\n",
      "[CV] END ccp_alpha=0.01, class_weight={0: 1.5, 1: 2.5}, max_depth=30, n_estimators=300; total time=   1.0s\n",
      "[CV] END ccp_alpha=0.01, class_weight={0: 1.5, 1: 2.5}, max_depth=30, n_estimators=300; total time=   1.0s\n",
      "[CV] END ccp_alpha=0.01, class_weight={0: 1.5, 1: 2.5}, max_depth=30, n_estimators=300; total time=   1.0s\n",
      "[CV] END ccp_alpha=0.01, class_weight={0: 1.5, 1: 2.5}, max_depth=30, n_estimators=300; total time=   1.0s\n",
      "[CV] END ccp_alpha=0.01, class_weight={0: 1.5, 1: 2.5}, max_depth=30, n_estimators=300; total time=   1.0s\n",
      "[CV] END ccp_alpha=0.01, class_weight={0: 1.5, 1: 2.5}, max_depth=30, n_estimators=400; total time=   1.3s\n",
      "[CV] END ccp_alpha=0.01, class_weight={0: 1.5, 1: 2.5}, max_depth=30, n_estimators=400; total time=   1.3s\n",
      "[CV] END ccp_alpha=0.01, class_weight={0: 1.5, 1: 2.5}, max_depth=30, n_estimators=400; total time=   1.3s\n",
      "[CV] END ccp_alpha=0.01, class_weight={0: 1.5, 1: 2.5}, max_depth=30, n_estimators=400; total time=   1.3s\n",
      "[CV] END ccp_alpha=0.01, class_weight={0: 1.5, 1: 2.5}, max_depth=30, n_estimators=400; total time=   1.3s\n",
      "[CV] END ccp_alpha=0.01, class_weight={0: 1.5, 1: 3}, max_depth=None, n_estimators=50; total time=   0.2s\n",
      "[CV] END ccp_alpha=0.01, class_weight={0: 1.5, 1: 3}, max_depth=None, n_estimators=50; total time=   0.2s\n",
      "[CV] END ccp_alpha=0.01, class_weight={0: 1.5, 1: 3}, max_depth=None, n_estimators=50; total time=   0.2s\n",
      "[CV] END ccp_alpha=0.01, class_weight={0: 1.5, 1: 3}, max_depth=None, n_estimators=50; total time=   0.2s\n",
      "[CV] END ccp_alpha=0.01, class_weight={0: 1.5, 1: 3}, max_depth=None, n_estimators=50; total time=   0.2s\n",
      "[CV] END ccp_alpha=0.01, class_weight={0: 1.5, 1: 3}, max_depth=None, n_estimators=100; total time=   0.4s\n",
      "[CV] END ccp_alpha=0.01, class_weight={0: 1.5, 1: 3}, max_depth=None, n_estimators=100; total time=   0.4s\n",
      "[CV] END ccp_alpha=0.01, class_weight={0: 1.5, 1: 3}, max_depth=None, n_estimators=100; total time=   0.4s\n",
      "[CV] END ccp_alpha=0.01, class_weight={0: 1.5, 1: 3}, max_depth=None, n_estimators=100; total time=   0.4s\n",
      "[CV] END ccp_alpha=0.01, class_weight={0: 1.5, 1: 3}, max_depth=None, n_estimators=100; total time=   0.4s\n",
      "[CV] END ccp_alpha=0.01, class_weight={0: 1.5, 1: 3}, max_depth=None, n_estimators=200; total time=   0.7s\n",
      "[CV] END ccp_alpha=0.01, class_weight={0: 1.5, 1: 3}, max_depth=None, n_estimators=200; total time=   0.7s\n",
      "[CV] END ccp_alpha=0.01, class_weight={0: 1.5, 1: 3}, max_depth=None, n_estimators=200; total time=   0.7s\n",
      "[CV] END ccp_alpha=0.01, class_weight={0: 1.5, 1: 3}, max_depth=None, n_estimators=200; total time=   0.7s\n",
      "[CV] END ccp_alpha=0.01, class_weight={0: 1.5, 1: 3}, max_depth=None, n_estimators=200; total time=   0.7s\n",
      "[CV] END ccp_alpha=0.01, class_weight={0: 1.5, 1: 3}, max_depth=None, n_estimators=300; total time=   1.0s\n",
      "[CV] END ccp_alpha=0.01, class_weight={0: 1.5, 1: 3}, max_depth=None, n_estimators=300; total time=   1.1s\n",
      "[CV] END ccp_alpha=0.01, class_weight={0: 1.5, 1: 3}, max_depth=None, n_estimators=300; total time=   1.0s\n",
      "[CV] END ccp_alpha=0.01, class_weight={0: 1.5, 1: 3}, max_depth=None, n_estimators=300; total time=   1.1s\n",
      "[CV] END ccp_alpha=0.01, class_weight={0: 1.5, 1: 3}, max_depth=None, n_estimators=300; total time=   1.0s\n",
      "[CV] END ccp_alpha=0.01, class_weight={0: 1.5, 1: 3}, max_depth=None, n_estimators=400; total time=   1.4s\n",
      "[CV] END ccp_alpha=0.01, class_weight={0: 1.5, 1: 3}, max_depth=None, n_estimators=400; total time=   1.4s\n",
      "[CV] END ccp_alpha=0.01, class_weight={0: 1.5, 1: 3}, max_depth=None, n_estimators=400; total time=   1.4s\n",
      "[CV] END ccp_alpha=0.01, class_weight={0: 1.5, 1: 3}, max_depth=None, n_estimators=400; total time=   1.3s\n",
      "[CV] END ccp_alpha=0.01, class_weight={0: 1.5, 1: 3}, max_depth=None, n_estimators=400; total time=   1.4s\n",
      "[CV] END ccp_alpha=0.01, class_weight={0: 1.5, 1: 3}, max_depth=10, n_estimators=50; total time=   0.1s\n",
      "[CV] END ccp_alpha=0.01, class_weight={0: 1.5, 1: 3}, max_depth=10, n_estimators=50; total time=   0.1s\n",
      "[CV] END ccp_alpha=0.01, class_weight={0: 1.5, 1: 3}, max_depth=10, n_estimators=50; total time=   0.1s\n",
      "[CV] END ccp_alpha=0.01, class_weight={0: 1.5, 1: 3}, max_depth=10, n_estimators=50; total time=   0.2s\n",
      "[CV] END ccp_alpha=0.01, class_weight={0: 1.5, 1: 3}, max_depth=10, n_estimators=50; total time=   0.1s\n",
      "[CV] END ccp_alpha=0.01, class_weight={0: 1.5, 1: 3}, max_depth=10, n_estimators=100; total time=   0.3s\n",
      "[CV] END ccp_alpha=0.01, class_weight={0: 1.5, 1: 3}, max_depth=10, n_estimators=100; total time=   0.2s\n",
      "[CV] END ccp_alpha=0.01, class_weight={0: 1.5, 1: 3}, max_depth=10, n_estimators=100; total time=   0.3s\n",
      "[CV] END ccp_alpha=0.01, class_weight={0: 1.5, 1: 3}, max_depth=10, n_estimators=100; total time=   0.3s\n",
      "[CV] END ccp_alpha=0.01, class_weight={0: 1.5, 1: 3}, max_depth=10, n_estimators=100; total time=   0.3s\n",
      "[CV] END ccp_alpha=0.01, class_weight={0: 1.5, 1: 3}, max_depth=10, n_estimators=200; total time=   0.5s\n",
      "[CV] END ccp_alpha=0.01, class_weight={0: 1.5, 1: 3}, max_depth=10, n_estimators=200; total time=   0.5s\n",
      "[CV] END ccp_alpha=0.01, class_weight={0: 1.5, 1: 3}, max_depth=10, n_estimators=200; total time=   0.4s\n",
      "[CV] END ccp_alpha=0.01, class_weight={0: 1.5, 1: 3}, max_depth=10, n_estimators=200; total time=   0.5s\n",
      "[CV] END ccp_alpha=0.01, class_weight={0: 1.5, 1: 3}, max_depth=10, n_estimators=200; total time=   0.4s\n",
      "[CV] END ccp_alpha=0.01, class_weight={0: 1.5, 1: 3}, max_depth=10, n_estimators=300; total time=   0.6s\n",
      "[CV] END ccp_alpha=0.01, class_weight={0: 1.5, 1: 3}, max_depth=10, n_estimators=300; total time=   0.6s\n",
      "[CV] END ccp_alpha=0.01, class_weight={0: 1.5, 1: 3}, max_depth=10, n_estimators=300; total time=   0.7s\n",
      "[CV] END ccp_alpha=0.01, class_weight={0: 1.5, 1: 3}, max_depth=10, n_estimators=300; total time=   0.7s\n",
      "[CV] END ccp_alpha=0.01, class_weight={0: 1.5, 1: 3}, max_depth=10, n_estimators=300; total time=   0.7s\n",
      "[CV] END ccp_alpha=0.01, class_weight={0: 1.5, 1: 3}, max_depth=10, n_estimators=400; total time=   0.9s\n",
      "[CV] END ccp_alpha=0.01, class_weight={0: 1.5, 1: 3}, max_depth=10, n_estimators=400; total time=   0.9s\n",
      "[CV] END ccp_alpha=0.01, class_weight={0: 1.5, 1: 3}, max_depth=10, n_estimators=400; total time=   0.8s\n",
      "[CV] END ccp_alpha=0.01, class_weight={0: 1.5, 1: 3}, max_depth=10, n_estimators=400; total time=   0.9s\n",
      "[CV] END ccp_alpha=0.01, class_weight={0: 1.5, 1: 3}, max_depth=10, n_estimators=400; total time=   0.9s\n",
      "[CV] END ccp_alpha=0.01, class_weight={0: 1.5, 1: 3}, max_depth=20, n_estimators=50; total time=   0.2s\n",
      "[CV] END ccp_alpha=0.01, class_weight={0: 1.5, 1: 3}, max_depth=20, n_estimators=50; total time=   0.2s\n",
      "[CV] END ccp_alpha=0.01, class_weight={0: 1.5, 1: 3}, max_depth=20, n_estimators=50; total time=   0.2s\n",
      "[CV] END ccp_alpha=0.01, class_weight={0: 1.5, 1: 3}, max_depth=20, n_estimators=50; total time=   0.2s\n",
      "[CV] END ccp_alpha=0.01, class_weight={0: 1.5, 1: 3}, max_depth=20, n_estimators=50; total time=   0.2s\n",
      "[CV] END ccp_alpha=0.01, class_weight={0: 1.5, 1: 3}, max_depth=20, n_estimators=100; total time=   0.3s\n",
      "[CV] END ccp_alpha=0.01, class_weight={0: 1.5, 1: 3}, max_depth=20, n_estimators=100; total time=   0.3s\n",
      "[CV] END ccp_alpha=0.01, class_weight={0: 1.5, 1: 3}, max_depth=20, n_estimators=100; total time=   0.3s\n",
      "[CV] END ccp_alpha=0.01, class_weight={0: 1.5, 1: 3}, max_depth=20, n_estimators=100; total time=   0.3s\n",
      "[CV] END ccp_alpha=0.01, class_weight={0: 1.5, 1: 3}, max_depth=20, n_estimators=100; total time=   0.3s\n",
      "[CV] END ccp_alpha=0.01, class_weight={0: 1.5, 1: 3}, max_depth=20, n_estimators=200; total time=   0.6s\n",
      "[CV] END ccp_alpha=0.01, class_weight={0: 1.5, 1: 3}, max_depth=20, n_estimators=200; total time=   0.6s\n",
      "[CV] END ccp_alpha=0.01, class_weight={0: 1.5, 1: 3}, max_depth=20, n_estimators=200; total time=   0.6s\n",
      "[CV] END ccp_alpha=0.01, class_weight={0: 1.5, 1: 3}, max_depth=20, n_estimators=200; total time=   0.6s\n",
      "[CV] END ccp_alpha=0.01, class_weight={0: 1.5, 1: 3}, max_depth=20, n_estimators=200; total time=   0.6s\n",
      "[CV] END ccp_alpha=0.01, class_weight={0: 1.5, 1: 3}, max_depth=20, n_estimators=300; total time=   0.9s\n",
      "[CV] END ccp_alpha=0.01, class_weight={0: 1.5, 1: 3}, max_depth=20, n_estimators=300; total time=   0.9s\n",
      "[CV] END ccp_alpha=0.01, class_weight={0: 1.5, 1: 3}, max_depth=20, n_estimators=300; total time=   0.9s\n",
      "[CV] END ccp_alpha=0.01, class_weight={0: 1.5, 1: 3}, max_depth=20, n_estimators=300; total time=   0.9s\n",
      "[CV] END ccp_alpha=0.01, class_weight={0: 1.5, 1: 3}, max_depth=20, n_estimators=300; total time=   0.9s\n",
      "[CV] END ccp_alpha=0.01, class_weight={0: 1.5, 1: 3}, max_depth=20, n_estimators=400; total time=   1.2s\n",
      "[CV] END ccp_alpha=0.01, class_weight={0: 1.5, 1: 3}, max_depth=20, n_estimators=400; total time=   1.2s\n",
      "[CV] END ccp_alpha=0.01, class_weight={0: 1.5, 1: 3}, max_depth=20, n_estimators=400; total time=   1.2s\n",
      "[CV] END ccp_alpha=0.01, class_weight={0: 1.5, 1: 3}, max_depth=20, n_estimators=400; total time=   1.1s\n",
      "[CV] END ccp_alpha=0.01, class_weight={0: 1.5, 1: 3}, max_depth=20, n_estimators=400; total time=   1.2s\n",
      "[CV] END ccp_alpha=0.01, class_weight={0: 1.5, 1: 3}, max_depth=30, n_estimators=50; total time=   0.2s\n",
      "[CV] END ccp_alpha=0.01, class_weight={0: 1.5, 1: 3}, max_depth=30, n_estimators=50; total time=   0.2s\n",
      "[CV] END ccp_alpha=0.01, class_weight={0: 1.5, 1: 3}, max_depth=30, n_estimators=50; total time=   0.2s\n",
      "[CV] END ccp_alpha=0.01, class_weight={0: 1.5, 1: 3}, max_depth=30, n_estimators=50; total time=   0.2s\n",
      "[CV] END ccp_alpha=0.01, class_weight={0: 1.5, 1: 3}, max_depth=30, n_estimators=50; total time=   0.2s\n",
      "[CV] END ccp_alpha=0.01, class_weight={0: 1.5, 1: 3}, max_depth=30, n_estimators=100; total time=   0.4s\n",
      "[CV] END ccp_alpha=0.01, class_weight={0: 1.5, 1: 3}, max_depth=30, n_estimators=100; total time=   0.4s\n",
      "[CV] END ccp_alpha=0.01, class_weight={0: 1.5, 1: 3}, max_depth=30, n_estimators=100; total time=   0.4s\n",
      "[CV] END ccp_alpha=0.01, class_weight={0: 1.5, 1: 3}, max_depth=30, n_estimators=100; total time=   0.4s\n",
      "[CV] END ccp_alpha=0.01, class_weight={0: 1.5, 1: 3}, max_depth=30, n_estimators=100; total time=   0.4s\n",
      "[CV] END ccp_alpha=0.01, class_weight={0: 1.5, 1: 3}, max_depth=30, n_estimators=200; total time=   0.7s\n",
      "[CV] END ccp_alpha=0.01, class_weight={0: 1.5, 1: 3}, max_depth=30, n_estimators=200; total time=   0.7s\n",
      "[CV] END ccp_alpha=0.01, class_weight={0: 1.5, 1: 3}, max_depth=30, n_estimators=200; total time=   0.7s\n",
      "[CV] END ccp_alpha=0.01, class_weight={0: 1.5, 1: 3}, max_depth=30, n_estimators=200; total time=   0.7s\n",
      "[CV] END ccp_alpha=0.01, class_weight={0: 1.5, 1: 3}, max_depth=30, n_estimators=200; total time=   0.7s\n",
      "[CV] END ccp_alpha=0.01, class_weight={0: 1.5, 1: 3}, max_depth=30, n_estimators=300; total time=   1.0s\n",
      "[CV] END ccp_alpha=0.01, class_weight={0: 1.5, 1: 3}, max_depth=30, n_estimators=300; total time=   1.0s\n",
      "[CV] END ccp_alpha=0.01, class_weight={0: 1.5, 1: 3}, max_depth=30, n_estimators=300; total time=   1.0s\n",
      "[CV] END ccp_alpha=0.01, class_weight={0: 1.5, 1: 3}, max_depth=30, n_estimators=300; total time=   1.0s\n",
      "[CV] END ccp_alpha=0.01, class_weight={0: 1.5, 1: 3}, max_depth=30, n_estimators=300; total time=   1.0s\n",
      "[CV] END ccp_alpha=0.01, class_weight={0: 1.5, 1: 3}, max_depth=30, n_estimators=400; total time=   1.3s\n",
      "[CV] END ccp_alpha=0.01, class_weight={0: 1.5, 1: 3}, max_depth=30, n_estimators=400; total time=   1.3s\n",
      "[CV] END ccp_alpha=0.01, class_weight={0: 1.5, 1: 3}, max_depth=30, n_estimators=400; total time=   1.3s\n",
      "[CV] END ccp_alpha=0.01, class_weight={0: 1.5, 1: 3}, max_depth=30, n_estimators=400; total time=   1.3s\n",
      "[CV] END ccp_alpha=0.01, class_weight={0: 1.5, 1: 3}, max_depth=30, n_estimators=400; total time=   1.3s\n",
      "[CV] END ccp_alpha=0.001, class_weight=None, max_depth=None, n_estimators=50; total time=   0.2s\n",
      "[CV] END ccp_alpha=0.001, class_weight=None, max_depth=None, n_estimators=50; total time=   0.2s\n",
      "[CV] END ccp_alpha=0.001, class_weight=None, max_depth=None, n_estimators=50; total time=   0.2s\n",
      "[CV] END ccp_alpha=0.001, class_weight=None, max_depth=None, n_estimators=50; total time=   0.2s\n",
      "[CV] END ccp_alpha=0.001, class_weight=None, max_depth=None, n_estimators=50; total time=   0.2s\n",
      "[CV] END ccp_alpha=0.001, class_weight=None, max_depth=None, n_estimators=100; total time=   0.4s\n",
      "[CV] END ccp_alpha=0.001, class_weight=None, max_depth=None, n_estimators=100; total time=   0.4s\n",
      "[CV] END ccp_alpha=0.001, class_weight=None, max_depth=None, n_estimators=100; total time=   0.4s\n",
      "[CV] END ccp_alpha=0.001, class_weight=None, max_depth=None, n_estimators=100; total time=   0.4s\n",
      "[CV] END ccp_alpha=0.001, class_weight=None, max_depth=None, n_estimators=100; total time=   0.4s\n",
      "[CV] END ccp_alpha=0.001, class_weight=None, max_depth=None, n_estimators=200; total time=   0.7s\n",
      "[CV] END ccp_alpha=0.001, class_weight=None, max_depth=None, n_estimators=200; total time=   0.7s\n",
      "[CV] END ccp_alpha=0.001, class_weight=None, max_depth=None, n_estimators=200; total time=   0.7s\n",
      "[CV] END ccp_alpha=0.001, class_weight=None, max_depth=None, n_estimators=200; total time=   0.7s\n",
      "[CV] END ccp_alpha=0.001, class_weight=None, max_depth=None, n_estimators=200; total time=   0.7s\n",
      "[CV] END ccp_alpha=0.001, class_weight=None, max_depth=None, n_estimators=300; total time=   1.0s\n",
      "[CV] END ccp_alpha=0.001, class_weight=None, max_depth=None, n_estimators=300; total time=   1.0s\n",
      "[CV] END ccp_alpha=0.001, class_weight=None, max_depth=None, n_estimators=300; total time=   1.0s\n",
      "[CV] END ccp_alpha=0.001, class_weight=None, max_depth=None, n_estimators=300; total time=   1.0s\n",
      "[CV] END ccp_alpha=0.001, class_weight=None, max_depth=None, n_estimators=300; total time=   1.1s\n",
      "[CV] END ccp_alpha=0.001, class_weight=None, max_depth=None, n_estimators=400; total time=   1.4s\n",
      "[CV] END ccp_alpha=0.001, class_weight=None, max_depth=None, n_estimators=400; total time=   1.4s\n",
      "[CV] END ccp_alpha=0.001, class_weight=None, max_depth=None, n_estimators=400; total time=   1.4s\n",
      "[CV] END ccp_alpha=0.001, class_weight=None, max_depth=None, n_estimators=400; total time=   1.4s\n",
      "[CV] END ccp_alpha=0.001, class_weight=None, max_depth=None, n_estimators=400; total time=   1.4s\n",
      "[CV] END ccp_alpha=0.001, class_weight=None, max_depth=10, n_estimators=50; total time=   0.2s\n",
      "[CV] END ccp_alpha=0.001, class_weight=None, max_depth=10, n_estimators=50; total time=   0.1s\n",
      "[CV] END ccp_alpha=0.001, class_weight=None, max_depth=10, n_estimators=50; total time=   0.1s\n",
      "[CV] END ccp_alpha=0.001, class_weight=None, max_depth=10, n_estimators=50; total time=   0.1s\n",
      "[CV] END ccp_alpha=0.001, class_weight=None, max_depth=10, n_estimators=50; total time=   0.1s\n",
      "[CV] END ccp_alpha=0.001, class_weight=None, max_depth=10, n_estimators=100; total time=   0.2s\n",
      "[CV] END ccp_alpha=0.001, class_weight=None, max_depth=10, n_estimators=100; total time=   0.2s\n",
      "[CV] END ccp_alpha=0.001, class_weight=None, max_depth=10, n_estimators=100; total time=   0.2s\n",
      "[CV] END ccp_alpha=0.001, class_weight=None, max_depth=10, n_estimators=100; total time=   0.3s\n",
      "[CV] END ccp_alpha=0.001, class_weight=None, max_depth=10, n_estimators=100; total time=   0.2s\n",
      "[CV] END ccp_alpha=0.001, class_weight=None, max_depth=10, n_estimators=200; total time=   0.5s\n",
      "[CV] END ccp_alpha=0.001, class_weight=None, max_depth=10, n_estimators=200; total time=   0.5s\n",
      "[CV] END ccp_alpha=0.001, class_weight=None, max_depth=10, n_estimators=200; total time=   0.5s\n",
      "[CV] END ccp_alpha=0.001, class_weight=None, max_depth=10, n_estimators=200; total time=   0.5s\n",
      "[CV] END ccp_alpha=0.001, class_weight=None, max_depth=10, n_estimators=200; total time=   0.4s\n",
      "[CV] END ccp_alpha=0.001, class_weight=None, max_depth=10, n_estimators=300; total time=   0.6s\n",
      "[CV] END ccp_alpha=0.001, class_weight=None, max_depth=10, n_estimators=300; total time=   0.7s\n",
      "[CV] END ccp_alpha=0.001, class_weight=None, max_depth=10, n_estimators=300; total time=   0.6s\n",
      "[CV] END ccp_alpha=0.001, class_weight=None, max_depth=10, n_estimators=300; total time=   0.6s\n",
      "[CV] END ccp_alpha=0.001, class_weight=None, max_depth=10, n_estimators=300; total time=   0.7s\n",
      "[CV] END ccp_alpha=0.001, class_weight=None, max_depth=10, n_estimators=400; total time=   0.9s\n",
      "[CV] END ccp_alpha=0.001, class_weight=None, max_depth=10, n_estimators=400; total time=   0.9s\n",
      "[CV] END ccp_alpha=0.001, class_weight=None, max_depth=10, n_estimators=400; total time=   0.9s\n",
      "[CV] END ccp_alpha=0.001, class_weight=None, max_depth=10, n_estimators=400; total time=   0.9s\n",
      "[CV] END ccp_alpha=0.001, class_weight=None, max_depth=10, n_estimators=400; total time=   0.9s\n",
      "[CV] END ccp_alpha=0.001, class_weight=None, max_depth=20, n_estimators=50; total time=   0.2s\n",
      "[CV] END ccp_alpha=0.001, class_weight=None, max_depth=20, n_estimators=50; total time=   0.2s\n",
      "[CV] END ccp_alpha=0.001, class_weight=None, max_depth=20, n_estimators=50; total time=   0.2s\n",
      "[CV] END ccp_alpha=0.001, class_weight=None, max_depth=20, n_estimators=50; total time=   0.2s\n",
      "[CV] END ccp_alpha=0.001, class_weight=None, max_depth=20, n_estimators=50; total time=   0.2s\n",
      "[CV] END ccp_alpha=0.001, class_weight=None, max_depth=20, n_estimators=100; total time=   0.3s\n",
      "[CV] END ccp_alpha=0.001, class_weight=None, max_depth=20, n_estimators=100; total time=   0.3s\n",
      "[CV] END ccp_alpha=0.001, class_weight=None, max_depth=20, n_estimators=100; total time=   0.3s\n",
      "[CV] END ccp_alpha=0.001, class_weight=None, max_depth=20, n_estimators=100; total time=   0.3s\n",
      "[CV] END ccp_alpha=0.001, class_weight=None, max_depth=20, n_estimators=100; total time=   0.4s\n",
      "[CV] END ccp_alpha=0.001, class_weight=None, max_depth=20, n_estimators=200; total time=   0.6s\n",
      "[CV] END ccp_alpha=0.001, class_weight=None, max_depth=20, n_estimators=200; total time=   0.6s\n",
      "[CV] END ccp_alpha=0.001, class_weight=None, max_depth=20, n_estimators=200; total time=   0.6s\n",
      "[CV] END ccp_alpha=0.001, class_weight=None, max_depth=20, n_estimators=200; total time=   0.6s\n",
      "[CV] END ccp_alpha=0.001, class_weight=None, max_depth=20, n_estimators=200; total time=   0.6s\n",
      "[CV] END ccp_alpha=0.001, class_weight=None, max_depth=20, n_estimators=300; total time=   0.9s\n",
      "[CV] END ccp_alpha=0.001, class_weight=None, max_depth=20, n_estimators=300; total time=   0.9s\n",
      "[CV] END ccp_alpha=0.001, class_weight=None, max_depth=20, n_estimators=300; total time=   0.9s\n",
      "[CV] END ccp_alpha=0.001, class_weight=None, max_depth=20, n_estimators=300; total time=   0.9s\n",
      "[CV] END ccp_alpha=0.001, class_weight=None, max_depth=20, n_estimators=300; total time=   0.9s\n",
      "[CV] END ccp_alpha=0.001, class_weight=None, max_depth=20, n_estimators=400; total time=   1.2s\n",
      "[CV] END ccp_alpha=0.001, class_weight=None, max_depth=20, n_estimators=400; total time=   1.2s\n",
      "[CV] END ccp_alpha=0.001, class_weight=None, max_depth=20, n_estimators=400; total time=   1.2s\n",
      "[CV] END ccp_alpha=0.001, class_weight=None, max_depth=20, n_estimators=400; total time=   1.2s\n",
      "[CV] END ccp_alpha=0.001, class_weight=None, max_depth=20, n_estimators=400; total time=   1.2s\n",
      "[CV] END ccp_alpha=0.001, class_weight=None, max_depth=30, n_estimators=50; total time=   0.2s\n",
      "[CV] END ccp_alpha=0.001, class_weight=None, max_depth=30, n_estimators=50; total time=   0.2s\n",
      "[CV] END ccp_alpha=0.001, class_weight=None, max_depth=30, n_estimators=50; total time=   0.2s\n",
      "[CV] END ccp_alpha=0.001, class_weight=None, max_depth=30, n_estimators=50; total time=   0.2s\n",
      "[CV] END ccp_alpha=0.001, class_weight=None, max_depth=30, n_estimators=50; total time=   0.2s\n",
      "[CV] END ccp_alpha=0.001, class_weight=None, max_depth=30, n_estimators=100; total time=   0.4s\n",
      "[CV] END ccp_alpha=0.001, class_weight=None, max_depth=30, n_estimators=100; total time=   0.4s\n",
      "[CV] END ccp_alpha=0.001, class_weight=None, max_depth=30, n_estimators=100; total time=   0.4s\n",
      "[CV] END ccp_alpha=0.001, class_weight=None, max_depth=30, n_estimators=100; total time=   0.4s\n",
      "[CV] END ccp_alpha=0.001, class_weight=None, max_depth=30, n_estimators=100; total time=   0.4s\n",
      "[CV] END ccp_alpha=0.001, class_weight=None, max_depth=30, n_estimators=200; total time=   0.7s\n",
      "[CV] END ccp_alpha=0.001, class_weight=None, max_depth=30, n_estimators=200; total time=   0.7s\n",
      "[CV] END ccp_alpha=0.001, class_weight=None, max_depth=30, n_estimators=200; total time=   0.7s\n",
      "[CV] END ccp_alpha=0.001, class_weight=None, max_depth=30, n_estimators=200; total time=   0.7s\n",
      "[CV] END ccp_alpha=0.001, class_weight=None, max_depth=30, n_estimators=200; total time=   0.7s\n",
      "[CV] END ccp_alpha=0.001, class_weight=None, max_depth=30, n_estimators=300; total time=   1.0s\n",
      "[CV] END ccp_alpha=0.001, class_weight=None, max_depth=30, n_estimators=300; total time=   1.0s\n",
      "[CV] END ccp_alpha=0.001, class_weight=None, max_depth=30, n_estimators=300; total time=   1.0s\n",
      "[CV] END ccp_alpha=0.001, class_weight=None, max_depth=30, n_estimators=300; total time=   1.0s\n",
      "[CV] END ccp_alpha=0.001, class_weight=None, max_depth=30, n_estimators=300; total time=   1.0s\n",
      "[CV] END ccp_alpha=0.001, class_weight=None, max_depth=30, n_estimators=400; total time=   1.3s\n",
      "[CV] END ccp_alpha=0.001, class_weight=None, max_depth=30, n_estimators=400; total time=   1.3s\n",
      "[CV] END ccp_alpha=0.001, class_weight=None, max_depth=30, n_estimators=400; total time=   1.3s\n",
      "[CV] END ccp_alpha=0.001, class_weight=None, max_depth=30, n_estimators=400; total time=   1.3s\n",
      "[CV] END ccp_alpha=0.001, class_weight=None, max_depth=30, n_estimators=400; total time=   1.3s\n",
      "[CV] END ccp_alpha=0.001, class_weight=balanced, max_depth=None, n_estimators=50; total time=   0.2s\n",
      "[CV] END ccp_alpha=0.001, class_weight=balanced, max_depth=None, n_estimators=50; total time=   0.2s\n",
      "[CV] END ccp_alpha=0.001, class_weight=balanced, max_depth=None, n_estimators=50; total time=   0.2s\n",
      "[CV] END ccp_alpha=0.001, class_weight=balanced, max_depth=None, n_estimators=50; total time=   0.2s\n",
      "[CV] END ccp_alpha=0.001, class_weight=balanced, max_depth=None, n_estimators=50; total time=   0.2s\n",
      "[CV] END ccp_alpha=0.001, class_weight=balanced, max_depth=None, n_estimators=100; total time=   0.4s\n",
      "[CV] END ccp_alpha=0.001, class_weight=balanced, max_depth=None, n_estimators=100; total time=   0.4s\n",
      "[CV] END ccp_alpha=0.001, class_weight=balanced, max_depth=None, n_estimators=100; total time=   0.4s\n",
      "[CV] END ccp_alpha=0.001, class_weight=balanced, max_depth=None, n_estimators=100; total time=   0.4s\n",
      "[CV] END ccp_alpha=0.001, class_weight=balanced, max_depth=None, n_estimators=100; total time=   0.4s\n",
      "[CV] END ccp_alpha=0.001, class_weight=balanced, max_depth=None, n_estimators=200; total time=   0.7s\n",
      "[CV] END ccp_alpha=0.001, class_weight=balanced, max_depth=None, n_estimators=200; total time=   0.7s\n",
      "[CV] END ccp_alpha=0.001, class_weight=balanced, max_depth=None, n_estimators=200; total time=   0.8s\n",
      "[CV] END ccp_alpha=0.001, class_weight=balanced, max_depth=None, n_estimators=200; total time=   0.7s\n",
      "[CV] END ccp_alpha=0.001, class_weight=balanced, max_depth=None, n_estimators=200; total time=   0.8s\n",
      "[CV] END ccp_alpha=0.001, class_weight=balanced, max_depth=None, n_estimators=300; total time=   1.1s\n",
      "[CV] END ccp_alpha=0.001, class_weight=balanced, max_depth=None, n_estimators=300; total time=   1.1s\n",
      "[CV] END ccp_alpha=0.001, class_weight=balanced, max_depth=None, n_estimators=300; total time=   1.1s\n",
      "[CV] END ccp_alpha=0.001, class_weight=balanced, max_depth=None, n_estimators=300; total time=   1.1s\n",
      "[CV] END ccp_alpha=0.001, class_weight=balanced, max_depth=None, n_estimators=300; total time=   1.1s\n",
      "[CV] END ccp_alpha=0.001, class_weight=balanced, max_depth=None, n_estimators=400; total time=   1.4s\n",
      "[CV] END ccp_alpha=0.001, class_weight=balanced, max_depth=None, n_estimators=400; total time=   1.4s\n",
      "[CV] END ccp_alpha=0.001, class_weight=balanced, max_depth=None, n_estimators=400; total time=   1.4s\n",
      "[CV] END ccp_alpha=0.001, class_weight=balanced, max_depth=None, n_estimators=400; total time=   1.4s\n",
      "[CV] END ccp_alpha=0.001, class_weight=balanced, max_depth=None, n_estimators=400; total time=   1.4s\n",
      "[CV] END ccp_alpha=0.001, class_weight=balanced, max_depth=10, n_estimators=50; total time=   0.1s\n",
      "[CV] END ccp_alpha=0.001, class_weight=balanced, max_depth=10, n_estimators=50; total time=   0.2s\n",
      "[CV] END ccp_alpha=0.001, class_weight=balanced, max_depth=10, n_estimators=50; total time=   0.1s\n",
      "[CV] END ccp_alpha=0.001, class_weight=balanced, max_depth=10, n_estimators=50; total time=   0.1s\n",
      "[CV] END ccp_alpha=0.001, class_weight=balanced, max_depth=10, n_estimators=50; total time=   0.2s\n",
      "[CV] END ccp_alpha=0.001, class_weight=balanced, max_depth=10, n_estimators=100; total time=   0.2s\n",
      "[CV] END ccp_alpha=0.001, class_weight=balanced, max_depth=10, n_estimators=100; total time=   0.2s\n",
      "[CV] END ccp_alpha=0.001, class_weight=balanced, max_depth=10, n_estimators=100; total time=   0.3s\n",
      "[CV] END ccp_alpha=0.001, class_weight=balanced, max_depth=10, n_estimators=100; total time=   0.3s\n",
      "[CV] END ccp_alpha=0.001, class_weight=balanced, max_depth=10, n_estimators=100; total time=   0.3s\n",
      "[CV] END ccp_alpha=0.001, class_weight=balanced, max_depth=10, n_estimators=200; total time=   0.5s\n",
      "[CV] END ccp_alpha=0.001, class_weight=balanced, max_depth=10, n_estimators=200; total time=   0.5s\n",
      "[CV] END ccp_alpha=0.001, class_weight=balanced, max_depth=10, n_estimators=200; total time=   0.5s\n",
      "[CV] END ccp_alpha=0.001, class_weight=balanced, max_depth=10, n_estimators=200; total time=   0.5s\n",
      "[CV] END ccp_alpha=0.001, class_weight=balanced, max_depth=10, n_estimators=200; total time=   0.5s\n",
      "[CV] END ccp_alpha=0.001, class_weight=balanced, max_depth=10, n_estimators=300; total time=   0.7s\n",
      "[CV] END ccp_alpha=0.001, class_weight=balanced, max_depth=10, n_estimators=300; total time=   0.7s\n",
      "[CV] END ccp_alpha=0.001, class_weight=balanced, max_depth=10, n_estimators=300; total time=   0.7s\n",
      "[CV] END ccp_alpha=0.001, class_weight=balanced, max_depth=10, n_estimators=300; total time=   0.7s\n",
      "[CV] END ccp_alpha=0.001, class_weight=balanced, max_depth=10, n_estimators=300; total time=   0.7s\n",
      "[CV] END ccp_alpha=0.001, class_weight=balanced, max_depth=10, n_estimators=400; total time=   0.9s\n",
      "[CV] END ccp_alpha=0.001, class_weight=balanced, max_depth=10, n_estimators=400; total time=   0.9s\n",
      "[CV] END ccp_alpha=0.001, class_weight=balanced, max_depth=10, n_estimators=400; total time=   0.9s\n",
      "[CV] END ccp_alpha=0.001, class_weight=balanced, max_depth=10, n_estimators=400; total time=   0.9s\n",
      "[CV] END ccp_alpha=0.001, class_weight=balanced, max_depth=10, n_estimators=400; total time=   0.9s\n",
      "[CV] END ccp_alpha=0.001, class_weight=balanced, max_depth=20, n_estimators=50; total time=   0.2s\n",
      "[CV] END ccp_alpha=0.001, class_weight=balanced, max_depth=20, n_estimators=50; total time=   0.2s\n",
      "[CV] END ccp_alpha=0.001, class_weight=balanced, max_depth=20, n_estimators=50; total time=   0.2s\n",
      "[CV] END ccp_alpha=0.001, class_weight=balanced, max_depth=20, n_estimators=50; total time=   0.2s\n",
      "[CV] END ccp_alpha=0.001, class_weight=balanced, max_depth=20, n_estimators=50; total time=   0.2s\n",
      "[CV] END ccp_alpha=0.001, class_weight=balanced, max_depth=20, n_estimators=100; total time=   0.3s\n",
      "[CV] END ccp_alpha=0.001, class_weight=balanced, max_depth=20, n_estimators=100; total time=   0.3s\n",
      "[CV] END ccp_alpha=0.001, class_weight=balanced, max_depth=20, n_estimators=100; total time=   0.3s\n",
      "[CV] END ccp_alpha=0.001, class_weight=balanced, max_depth=20, n_estimators=100; total time=   0.3s\n",
      "[CV] END ccp_alpha=0.001, class_weight=balanced, max_depth=20, n_estimators=100; total time=   0.3s\n",
      "[CV] END ccp_alpha=0.001, class_weight=balanced, max_depth=20, n_estimators=200; total time=   0.6s\n",
      "[CV] END ccp_alpha=0.001, class_weight=balanced, max_depth=20, n_estimators=200; total time=   0.6s\n",
      "[CV] END ccp_alpha=0.001, class_weight=balanced, max_depth=20, n_estimators=200; total time=   0.6s\n",
      "[CV] END ccp_alpha=0.001, class_weight=balanced, max_depth=20, n_estimators=200; total time=   0.6s\n",
      "[CV] END ccp_alpha=0.001, class_weight=balanced, max_depth=20, n_estimators=200; total time=   0.6s\n",
      "[CV] END ccp_alpha=0.001, class_weight=balanced, max_depth=20, n_estimators=300; total time=   0.9s\n",
      "[CV] END ccp_alpha=0.001, class_weight=balanced, max_depth=20, n_estimators=300; total time=   0.9s\n",
      "[CV] END ccp_alpha=0.001, class_weight=balanced, max_depth=20, n_estimators=300; total time=   0.9s\n",
      "[CV] END ccp_alpha=0.001, class_weight=balanced, max_depth=20, n_estimators=300; total time=   0.9s\n",
      "[CV] END ccp_alpha=0.001, class_weight=balanced, max_depth=20, n_estimators=300; total time=   0.9s\n",
      "[CV] END ccp_alpha=0.001, class_weight=balanced, max_depth=20, n_estimators=400; total time=   1.2s\n",
      "[CV] END ccp_alpha=0.001, class_weight=balanced, max_depth=20, n_estimators=400; total time=   1.2s\n",
      "[CV] END ccp_alpha=0.001, class_weight=balanced, max_depth=20, n_estimators=400; total time=   1.2s\n",
      "[CV] END ccp_alpha=0.001, class_weight=balanced, max_depth=20, n_estimators=400; total time=   1.2s\n",
      "[CV] END ccp_alpha=0.001, class_weight=balanced, max_depth=20, n_estimators=400; total time=   1.2s\n",
      "[CV] END ccp_alpha=0.001, class_weight=balanced, max_depth=30, n_estimators=50; total time=   0.2s\n",
      "[CV] END ccp_alpha=0.001, class_weight=balanced, max_depth=30, n_estimators=50; total time=   0.2s\n",
      "[CV] END ccp_alpha=0.001, class_weight=balanced, max_depth=30, n_estimators=50; total time=   0.2s\n",
      "[CV] END ccp_alpha=0.001, class_weight=balanced, max_depth=30, n_estimators=50; total time=   0.2s\n",
      "[CV] END ccp_alpha=0.001, class_weight=balanced, max_depth=30, n_estimators=50; total time=   0.2s\n",
      "[CV] END ccp_alpha=0.001, class_weight=balanced, max_depth=30, n_estimators=100; total time=   0.4s\n",
      "[CV] END ccp_alpha=0.001, class_weight=balanced, max_depth=30, n_estimators=100; total time=   0.4s\n",
      "[CV] END ccp_alpha=0.001, class_weight=balanced, max_depth=30, n_estimators=100; total time=   0.4s\n",
      "[CV] END ccp_alpha=0.001, class_weight=balanced, max_depth=30, n_estimators=100; total time=   0.4s\n",
      "[CV] END ccp_alpha=0.001, class_weight=balanced, max_depth=30, n_estimators=100; total time=   0.4s\n",
      "[CV] END ccp_alpha=0.001, class_weight=balanced, max_depth=30, n_estimators=200; total time=   0.7s\n",
      "[CV] END ccp_alpha=0.001, class_weight=balanced, max_depth=30, n_estimators=200; total time=   0.7s\n",
      "[CV] END ccp_alpha=0.001, class_weight=balanced, max_depth=30, n_estimators=200; total time=   0.7s\n",
      "[CV] END ccp_alpha=0.001, class_weight=balanced, max_depth=30, n_estimators=200; total time=   0.7s\n",
      "[CV] END ccp_alpha=0.001, class_weight=balanced, max_depth=30, n_estimators=200; total time=   0.7s\n",
      "[CV] END ccp_alpha=0.001, class_weight=balanced, max_depth=30, n_estimators=300; total time=   1.0s\n",
      "[CV] END ccp_alpha=0.001, class_weight=balanced, max_depth=30, n_estimators=300; total time=   1.0s\n",
      "[CV] END ccp_alpha=0.001, class_weight=balanced, max_depth=30, n_estimators=300; total time=   1.1s\n",
      "[CV] END ccp_alpha=0.001, class_weight=balanced, max_depth=30, n_estimators=300; total time=   1.0s\n",
      "[CV] END ccp_alpha=0.001, class_weight=balanced, max_depth=30, n_estimators=300; total time=   1.0s\n",
      "[CV] END ccp_alpha=0.001, class_weight=balanced, max_depth=30, n_estimators=400; total time=   1.4s\n",
      "[CV] END ccp_alpha=0.001, class_weight=balanced, max_depth=30, n_estimators=400; total time=   1.4s\n",
      "[CV] END ccp_alpha=0.001, class_weight=balanced, max_depth=30, n_estimators=400; total time=   1.4s\n",
      "[CV] END ccp_alpha=0.001, class_weight=balanced, max_depth=30, n_estimators=400; total time=   1.3s\n",
      "[CV] END ccp_alpha=0.001, class_weight=balanced, max_depth=30, n_estimators=400; total time=   1.4s\n",
      "[CV] END ccp_alpha=0.001, class_weight=balanced_subsample, max_depth=None, n_estimators=50; total time=   0.3s\n",
      "[CV] END ccp_alpha=0.001, class_weight=balanced_subsample, max_depth=None, n_estimators=50; total time=   0.3s\n",
      "[CV] END ccp_alpha=0.001, class_weight=balanced_subsample, max_depth=None, n_estimators=50; total time=   0.3s\n",
      "[CV] END ccp_alpha=0.001, class_weight=balanced_subsample, max_depth=None, n_estimators=50; total time=   0.3s\n",
      "[CV] END ccp_alpha=0.001, class_weight=balanced_subsample, max_depth=None, n_estimators=50; total time=   0.3s\n",
      "[CV] END ccp_alpha=0.001, class_weight=balanced_subsample, max_depth=None, n_estimators=100; total time=   0.5s\n",
      "[CV] END ccp_alpha=0.001, class_weight=balanced_subsample, max_depth=None, n_estimators=100; total time=   0.5s\n",
      "[CV] END ccp_alpha=0.001, class_weight=balanced_subsample, max_depth=None, n_estimators=100; total time=   0.5s\n",
      "[CV] END ccp_alpha=0.001, class_weight=balanced_subsample, max_depth=None, n_estimators=100; total time=   0.5s\n",
      "[CV] END ccp_alpha=0.001, class_weight=balanced_subsample, max_depth=None, n_estimators=100; total time=   0.5s\n",
      "[CV] END ccp_alpha=0.001, class_weight=balanced_subsample, max_depth=None, n_estimators=200; total time=   0.9s\n",
      "[CV] END ccp_alpha=0.001, class_weight=balanced_subsample, max_depth=None, n_estimators=200; total time=   0.9s\n",
      "[CV] END ccp_alpha=0.001, class_weight=balanced_subsample, max_depth=None, n_estimators=200; total time=   0.9s\n",
      "[CV] END ccp_alpha=0.001, class_weight=balanced_subsample, max_depth=None, n_estimators=200; total time=   0.9s\n",
      "[CV] END ccp_alpha=0.001, class_weight=balanced_subsample, max_depth=None, n_estimators=200; total time=   0.9s\n",
      "[CV] END ccp_alpha=0.001, class_weight=balanced_subsample, max_depth=None, n_estimators=300; total time=   1.3s\n",
      "[CV] END ccp_alpha=0.001, class_weight=balanced_subsample, max_depth=None, n_estimators=300; total time=   1.4s\n",
      "[CV] END ccp_alpha=0.001, class_weight=balanced_subsample, max_depth=None, n_estimators=300; total time=   1.3s\n",
      "[CV] END ccp_alpha=0.001, class_weight=balanced_subsample, max_depth=None, n_estimators=300; total time=   1.3s\n",
      "[CV] END ccp_alpha=0.001, class_weight=balanced_subsample, max_depth=None, n_estimators=300; total time=   1.3s\n",
      "[CV] END ccp_alpha=0.001, class_weight=balanced_subsample, max_depth=None, n_estimators=400; total time=   1.7s\n",
      "[CV] END ccp_alpha=0.001, class_weight=balanced_subsample, max_depth=None, n_estimators=400; total time=   1.7s\n",
      "[CV] END ccp_alpha=0.001, class_weight=balanced_subsample, max_depth=None, n_estimators=400; total time=   1.7s\n",
      "[CV] END ccp_alpha=0.001, class_weight=balanced_subsample, max_depth=None, n_estimators=400; total time=   1.7s\n",
      "[CV] END ccp_alpha=0.001, class_weight=balanced_subsample, max_depth=None, n_estimators=400; total time=   1.7s\n",
      "[CV] END ccp_alpha=0.001, class_weight=balanced_subsample, max_depth=10, n_estimators=50; total time=   0.2s\n",
      "[CV] END ccp_alpha=0.001, class_weight=balanced_subsample, max_depth=10, n_estimators=50; total time=   0.2s\n",
      "[CV] END ccp_alpha=0.001, class_weight=balanced_subsample, max_depth=10, n_estimators=50; total time=   0.2s\n",
      "[CV] END ccp_alpha=0.001, class_weight=balanced_subsample, max_depth=10, n_estimators=50; total time=   0.2s\n",
      "[CV] END ccp_alpha=0.001, class_weight=balanced_subsample, max_depth=10, n_estimators=50; total time=   0.2s\n",
      "[CV] END ccp_alpha=0.001, class_weight=balanced_subsample, max_depth=10, n_estimators=100; total time=   0.3s\n",
      "[CV] END ccp_alpha=0.001, class_weight=balanced_subsample, max_depth=10, n_estimators=100; total time=   0.3s\n",
      "[CV] END ccp_alpha=0.001, class_weight=balanced_subsample, max_depth=10, n_estimators=100; total time=   0.3s\n",
      "[CV] END ccp_alpha=0.001, class_weight=balanced_subsample, max_depth=10, n_estimators=100; total time=   0.3s\n",
      "[CV] END ccp_alpha=0.001, class_weight=balanced_subsample, max_depth=10, n_estimators=100; total time=   0.4s\n",
      "[CV] END ccp_alpha=0.001, class_weight=balanced_subsample, max_depth=10, n_estimators=200; total time=   0.6s\n",
      "[CV] END ccp_alpha=0.001, class_weight=balanced_subsample, max_depth=10, n_estimators=200; total time=   0.6s\n",
      "[CV] END ccp_alpha=0.001, class_weight=balanced_subsample, max_depth=10, n_estimators=200; total time=   0.6s\n",
      "[CV] END ccp_alpha=0.001, class_weight=balanced_subsample, max_depth=10, n_estimators=200; total time=   0.7s\n",
      "[CV] END ccp_alpha=0.001, class_weight=balanced_subsample, max_depth=10, n_estimators=200; total time=   0.6s\n",
      "[CV] END ccp_alpha=0.001, class_weight=balanced_subsample, max_depth=10, n_estimators=300; total time=   0.9s\n",
      "[CV] END ccp_alpha=0.001, class_weight=balanced_subsample, max_depth=10, n_estimators=300; total time=   0.9s\n",
      "[CV] END ccp_alpha=0.001, class_weight=balanced_subsample, max_depth=10, n_estimators=300; total time=   0.9s\n",
      "[CV] END ccp_alpha=0.001, class_weight=balanced_subsample, max_depth=10, n_estimators=300; total time=   0.9s\n",
      "[CV] END ccp_alpha=0.001, class_weight=balanced_subsample, max_depth=10, n_estimators=300; total time=   0.9s\n",
      "[CV] END ccp_alpha=0.001, class_weight=balanced_subsample, max_depth=10, n_estimators=400; total time=   1.2s\n",
      "[CV] END ccp_alpha=0.001, class_weight=balanced_subsample, max_depth=10, n_estimators=400; total time=   1.2s\n",
      "[CV] END ccp_alpha=0.001, class_weight=balanced_subsample, max_depth=10, n_estimators=400; total time=   1.2s\n",
      "[CV] END ccp_alpha=0.001, class_weight=balanced_subsample, max_depth=10, n_estimators=400; total time=   1.3s\n",
      "[CV] END ccp_alpha=0.001, class_weight=balanced_subsample, max_depth=10, n_estimators=400; total time=   1.2s\n",
      "[CV] END ccp_alpha=0.001, class_weight=balanced_subsample, max_depth=20, n_estimators=50; total time=   0.3s\n",
      "[CV] END ccp_alpha=0.001, class_weight=balanced_subsample, max_depth=20, n_estimators=50; total time=   0.2s\n",
      "[CV] END ccp_alpha=0.001, class_weight=balanced_subsample, max_depth=20, n_estimators=50; total time=   0.2s\n",
      "[CV] END ccp_alpha=0.001, class_weight=balanced_subsample, max_depth=20, n_estimators=50; total time=   0.2s\n",
      "[CV] END ccp_alpha=0.001, class_weight=balanced_subsample, max_depth=20, n_estimators=50; total time=   0.2s\n",
      "[CV] END ccp_alpha=0.001, class_weight=balanced_subsample, max_depth=20, n_estimators=100; total time=   0.4s\n",
      "[CV] END ccp_alpha=0.001, class_weight=balanced_subsample, max_depth=20, n_estimators=100; total time=   0.4s\n",
      "[CV] END ccp_alpha=0.001, class_weight=balanced_subsample, max_depth=20, n_estimators=100; total time=   0.4s\n",
      "[CV] END ccp_alpha=0.001, class_weight=balanced_subsample, max_depth=20, n_estimators=100; total time=   0.4s\n",
      "[CV] END ccp_alpha=0.001, class_weight=balanced_subsample, max_depth=20, n_estimators=100; total time=   0.4s\n",
      "[CV] END ccp_alpha=0.001, class_weight=balanced_subsample, max_depth=20, n_estimators=200; total time=   0.8s\n",
      "[CV] END ccp_alpha=0.001, class_weight=balanced_subsample, max_depth=20, n_estimators=200; total time=   0.8s\n",
      "[CV] END ccp_alpha=0.001, class_weight=balanced_subsample, max_depth=20, n_estimators=200; total time=   0.8s\n",
      "[CV] END ccp_alpha=0.001, class_weight=balanced_subsample, max_depth=20, n_estimators=200; total time=   0.8s\n",
      "[CV] END ccp_alpha=0.001, class_weight=balanced_subsample, max_depth=20, n_estimators=200; total time=   0.8s\n",
      "[CV] END ccp_alpha=0.001, class_weight=balanced_subsample, max_depth=20, n_estimators=300; total time=   1.1s\n",
      "[CV] END ccp_alpha=0.001, class_weight=balanced_subsample, max_depth=20, n_estimators=300; total time=   1.2s\n",
      "[CV] END ccp_alpha=0.001, class_weight=balanced_subsample, max_depth=20, n_estimators=300; total time=   1.2s\n",
      "[CV] END ccp_alpha=0.001, class_weight=balanced_subsample, max_depth=20, n_estimators=300; total time=   1.2s\n",
      "[CV] END ccp_alpha=0.001, class_weight=balanced_subsample, max_depth=20, n_estimators=300; total time=   1.1s\n",
      "[CV] END ccp_alpha=0.001, class_weight=balanced_subsample, max_depth=20, n_estimators=400; total time=   1.6s\n",
      "[CV] END ccp_alpha=0.001, class_weight=balanced_subsample, max_depth=20, n_estimators=400; total time=   1.5s\n",
      "[CV] END ccp_alpha=0.001, class_weight=balanced_subsample, max_depth=20, n_estimators=400; total time=   1.6s\n",
      "[CV] END ccp_alpha=0.001, class_weight=balanced_subsample, max_depth=20, n_estimators=400; total time=   1.5s\n",
      "[CV] END ccp_alpha=0.001, class_weight=balanced_subsample, max_depth=20, n_estimators=400; total time=   1.5s\n",
      "[CV] END ccp_alpha=0.001, class_weight=balanced_subsample, max_depth=30, n_estimators=50; total time=   0.3s\n",
      "[CV] END ccp_alpha=0.001, class_weight=balanced_subsample, max_depth=30, n_estimators=50; total time=   0.3s\n",
      "[CV] END ccp_alpha=0.001, class_weight=balanced_subsample, max_depth=30, n_estimators=50; total time=   0.3s\n",
      "[CV] END ccp_alpha=0.001, class_weight=balanced_subsample, max_depth=30, n_estimators=50; total time=   0.3s\n",
      "[CV] END ccp_alpha=0.001, class_weight=balanced_subsample, max_depth=30, n_estimators=50; total time=   0.3s\n",
      "[CV] END ccp_alpha=0.001, class_weight=balanced_subsample, max_depth=30, n_estimators=100; total time=   0.5s\n",
      "[CV] END ccp_alpha=0.001, class_weight=balanced_subsample, max_depth=30, n_estimators=100; total time=   0.5s\n",
      "[CV] END ccp_alpha=0.001, class_weight=balanced_subsample, max_depth=30, n_estimators=100; total time=   0.5s\n",
      "[CV] END ccp_alpha=0.001, class_weight=balanced_subsample, max_depth=30, n_estimators=100; total time=   0.5s\n",
      "[CV] END ccp_alpha=0.001, class_weight=balanced_subsample, max_depth=30, n_estimators=100; total time=   0.5s\n",
      "[CV] END ccp_alpha=0.001, class_weight=balanced_subsample, max_depth=30, n_estimators=200; total time=   0.8s\n",
      "[CV] END ccp_alpha=0.001, class_weight=balanced_subsample, max_depth=30, n_estimators=200; total time=   0.9s\n",
      "[CV] END ccp_alpha=0.001, class_weight=balanced_subsample, max_depth=30, n_estimators=200; total time=   0.9s\n",
      "[CV] END ccp_alpha=0.001, class_weight=balanced_subsample, max_depth=30, n_estimators=200; total time=   0.9s\n",
      "[CV] END ccp_alpha=0.001, class_weight=balanced_subsample, max_depth=30, n_estimators=200; total time=   0.9s\n",
      "[CV] END ccp_alpha=0.001, class_weight=balanced_subsample, max_depth=30, n_estimators=300; total time=   1.3s\n",
      "[CV] END ccp_alpha=0.001, class_weight=balanced_subsample, max_depth=30, n_estimators=300; total time=   1.3s\n",
      "[CV] END ccp_alpha=0.001, class_weight=balanced_subsample, max_depth=30, n_estimators=300; total time=   1.3s\n",
      "[CV] END ccp_alpha=0.001, class_weight=balanced_subsample, max_depth=30, n_estimators=300; total time=   1.2s\n",
      "[CV] END ccp_alpha=0.001, class_weight=balanced_subsample, max_depth=30, n_estimators=300; total time=   1.3s\n",
      "[CV] END ccp_alpha=0.001, class_weight=balanced_subsample, max_depth=30, n_estimators=400; total time=   1.7s\n",
      "[CV] END ccp_alpha=0.001, class_weight=balanced_subsample, max_depth=30, n_estimators=400; total time=   1.7s\n",
      "[CV] END ccp_alpha=0.001, class_weight=balanced_subsample, max_depth=30, n_estimators=400; total time=   1.6s\n",
      "[CV] END ccp_alpha=0.001, class_weight=balanced_subsample, max_depth=30, n_estimators=400; total time=   1.7s\n",
      "[CV] END ccp_alpha=0.001, class_weight=balanced_subsample, max_depth=30, n_estimators=400; total time=   1.7s\n",
      "[CV] END ccp_alpha=0.001, class_weight={0: 1, 1: 2}, max_depth=None, n_estimators=50; total time=   0.2s\n",
      "[CV] END ccp_alpha=0.001, class_weight={0: 1, 1: 2}, max_depth=None, n_estimators=50; total time=   0.2s\n",
      "[CV] END ccp_alpha=0.001, class_weight={0: 1, 1: 2}, max_depth=None, n_estimators=50; total time=   0.2s\n",
      "[CV] END ccp_alpha=0.001, class_weight={0: 1, 1: 2}, max_depth=None, n_estimators=50; total time=   0.2s\n",
      "[CV] END ccp_alpha=0.001, class_weight={0: 1, 1: 2}, max_depth=None, n_estimators=50; total time=   0.2s\n",
      "[CV] END ccp_alpha=0.001, class_weight={0: 1, 1: 2}, max_depth=None, n_estimators=100; total time=   0.4s\n",
      "[CV] END ccp_alpha=0.001, class_weight={0: 1, 1: 2}, max_depth=None, n_estimators=100; total time=   0.4s\n",
      "[CV] END ccp_alpha=0.001, class_weight={0: 1, 1: 2}, max_depth=None, n_estimators=100; total time=   0.4s\n",
      "[CV] END ccp_alpha=0.001, class_weight={0: 1, 1: 2}, max_depth=None, n_estimators=100; total time=   0.4s\n",
      "[CV] END ccp_alpha=0.001, class_weight={0: 1, 1: 2}, max_depth=None, n_estimators=100; total time=   0.4s\n",
      "[CV] END ccp_alpha=0.001, class_weight={0: 1, 1: 2}, max_depth=None, n_estimators=200; total time=   0.7s\n",
      "[CV] END ccp_alpha=0.001, class_weight={0: 1, 1: 2}, max_depth=None, n_estimators=200; total time=   0.7s\n",
      "[CV] END ccp_alpha=0.001, class_weight={0: 1, 1: 2}, max_depth=None, n_estimators=200; total time=   0.7s\n",
      "[CV] END ccp_alpha=0.001, class_weight={0: 1, 1: 2}, max_depth=None, n_estimators=200; total time=   0.7s\n",
      "[CV] END ccp_alpha=0.001, class_weight={0: 1, 1: 2}, max_depth=None, n_estimators=200; total time=   0.7s\n",
      "[CV] END ccp_alpha=0.001, class_weight={0: 1, 1: 2}, max_depth=None, n_estimators=300; total time=   1.0s\n",
      "[CV] END ccp_alpha=0.001, class_weight={0: 1, 1: 2}, max_depth=None, n_estimators=300; total time=   1.0s\n",
      "[CV] END ccp_alpha=0.001, class_weight={0: 1, 1: 2}, max_depth=None, n_estimators=300; total time=   1.0s\n",
      "[CV] END ccp_alpha=0.001, class_weight={0: 1, 1: 2}, max_depth=None, n_estimators=300; total time=   1.1s\n",
      "[CV] END ccp_alpha=0.001, class_weight={0: 1, 1: 2}, max_depth=None, n_estimators=300; total time=   1.0s\n",
      "[CV] END ccp_alpha=0.001, class_weight={0: 1, 1: 2}, max_depth=None, n_estimators=400; total time=   1.4s\n",
      "[CV] END ccp_alpha=0.001, class_weight={0: 1, 1: 2}, max_depth=None, n_estimators=400; total time=   1.4s\n",
      "[CV] END ccp_alpha=0.001, class_weight={0: 1, 1: 2}, max_depth=None, n_estimators=400; total time=   1.4s\n",
      "[CV] END ccp_alpha=0.001, class_weight={0: 1, 1: 2}, max_depth=None, n_estimators=400; total time=   1.4s\n",
      "[CV] END ccp_alpha=0.001, class_weight={0: 1, 1: 2}, max_depth=None, n_estimators=400; total time=   1.4s\n",
      "[CV] END ccp_alpha=0.001, class_weight={0: 1, 1: 2}, max_depth=10, n_estimators=50; total time=   0.2s\n",
      "[CV] END ccp_alpha=0.001, class_weight={0: 1, 1: 2}, max_depth=10, n_estimators=50; total time=   0.1s\n",
      "[CV] END ccp_alpha=0.001, class_weight={0: 1, 1: 2}, max_depth=10, n_estimators=50; total time=   0.2s\n",
      "[CV] END ccp_alpha=0.001, class_weight={0: 1, 1: 2}, max_depth=10, n_estimators=50; total time=   0.1s\n",
      "[CV] END ccp_alpha=0.001, class_weight={0: 1, 1: 2}, max_depth=10, n_estimators=50; total time=   0.1s\n",
      "[CV] END ccp_alpha=0.001, class_weight={0: 1, 1: 2}, max_depth=10, n_estimators=100; total time=   0.3s\n",
      "[CV] END ccp_alpha=0.001, class_weight={0: 1, 1: 2}, max_depth=10, n_estimators=100; total time=   0.3s\n",
      "[CV] END ccp_alpha=0.001, class_weight={0: 1, 1: 2}, max_depth=10, n_estimators=100; total time=   0.3s\n",
      "[CV] END ccp_alpha=0.001, class_weight={0: 1, 1: 2}, max_depth=10, n_estimators=100; total time=   0.2s\n",
      "[CV] END ccp_alpha=0.001, class_weight={0: 1, 1: 2}, max_depth=10, n_estimators=100; total time=   0.3s\n",
      "[CV] END ccp_alpha=0.001, class_weight={0: 1, 1: 2}, max_depth=10, n_estimators=200; total time=   0.5s\n",
      "[CV] END ccp_alpha=0.001, class_weight={0: 1, 1: 2}, max_depth=10, n_estimators=200; total time=   0.5s\n",
      "[CV] END ccp_alpha=0.001, class_weight={0: 1, 1: 2}, max_depth=10, n_estimators=200; total time=   0.5s\n",
      "[CV] END ccp_alpha=0.001, class_weight={0: 1, 1: 2}, max_depth=10, n_estimators=200; total time=   0.5s\n",
      "[CV] END ccp_alpha=0.001, class_weight={0: 1, 1: 2}, max_depth=10, n_estimators=200; total time=   0.5s\n",
      "[CV] END ccp_alpha=0.001, class_weight={0: 1, 1: 2}, max_depth=10, n_estimators=300; total time=   0.7s\n",
      "[CV] END ccp_alpha=0.001, class_weight={0: 1, 1: 2}, max_depth=10, n_estimators=300; total time=   0.6s\n",
      "[CV] END ccp_alpha=0.001, class_weight={0: 1, 1: 2}, max_depth=10, n_estimators=300; total time=   0.6s\n",
      "[CV] END ccp_alpha=0.001, class_weight={0: 1, 1: 2}, max_depth=10, n_estimators=300; total time=   0.7s\n",
      "[CV] END ccp_alpha=0.001, class_weight={0: 1, 1: 2}, max_depth=10, n_estimators=300; total time=   0.7s\n",
      "[CV] END ccp_alpha=0.001, class_weight={0: 1, 1: 2}, max_depth=10, n_estimators=400; total time=   0.9s\n",
      "[CV] END ccp_alpha=0.001, class_weight={0: 1, 1: 2}, max_depth=10, n_estimators=400; total time=   0.9s\n",
      "[CV] END ccp_alpha=0.001, class_weight={0: 1, 1: 2}, max_depth=10, n_estimators=400; total time=   0.9s\n",
      "[CV] END ccp_alpha=0.001, class_weight={0: 1, 1: 2}, max_depth=10, n_estimators=400; total time=   0.9s\n",
      "[CV] END ccp_alpha=0.001, class_weight={0: 1, 1: 2}, max_depth=10, n_estimators=400; total time=   0.9s\n",
      "[CV] END ccp_alpha=0.001, class_weight={0: 1, 1: 2}, max_depth=20, n_estimators=50; total time=   0.2s\n",
      "[CV] END ccp_alpha=0.001, class_weight={0: 1, 1: 2}, max_depth=20, n_estimators=50; total time=   0.2s\n",
      "[CV] END ccp_alpha=0.001, class_weight={0: 1, 1: 2}, max_depth=20, n_estimators=50; total time=   0.2s\n",
      "[CV] END ccp_alpha=0.001, class_weight={0: 1, 1: 2}, max_depth=20, n_estimators=50; total time=   0.2s\n",
      "[CV] END ccp_alpha=0.001, class_weight={0: 1, 1: 2}, max_depth=20, n_estimators=50; total time=   0.2s\n",
      "[CV] END ccp_alpha=0.001, class_weight={0: 1, 1: 2}, max_depth=20, n_estimators=100; total time=   0.3s\n",
      "[CV] END ccp_alpha=0.001, class_weight={0: 1, 1: 2}, max_depth=20, n_estimators=100; total time=   0.3s\n",
      "[CV] END ccp_alpha=0.001, class_weight={0: 1, 1: 2}, max_depth=20, n_estimators=100; total time=   0.3s\n",
      "[CV] END ccp_alpha=0.001, class_weight={0: 1, 1: 2}, max_depth=20, n_estimators=100; total time=   0.3s\n",
      "[CV] END ccp_alpha=0.001, class_weight={0: 1, 1: 2}, max_depth=20, n_estimators=100; total time=   0.3s\n",
      "[CV] END ccp_alpha=0.001, class_weight={0: 1, 1: 2}, max_depth=20, n_estimators=200; total time=   0.6s\n",
      "[CV] END ccp_alpha=0.001, class_weight={0: 1, 1: 2}, max_depth=20, n_estimators=200; total time=   0.6s\n",
      "[CV] END ccp_alpha=0.001, class_weight={0: 1, 1: 2}, max_depth=20, n_estimators=200; total time=   0.6s\n",
      "[CV] END ccp_alpha=0.001, class_weight={0: 1, 1: 2}, max_depth=20, n_estimators=200; total time=   0.6s\n",
      "[CV] END ccp_alpha=0.001, class_weight={0: 1, 1: 2}, max_depth=20, n_estimators=200; total time=   0.6s\n",
      "[CV] END ccp_alpha=0.001, class_weight={0: 1, 1: 2}, max_depth=20, n_estimators=300; total time=   0.9s\n",
      "[CV] END ccp_alpha=0.001, class_weight={0: 1, 1: 2}, max_depth=20, n_estimators=300; total time=   0.9s\n",
      "[CV] END ccp_alpha=0.001, class_weight={0: 1, 1: 2}, max_depth=20, n_estimators=300; total time=   0.9s\n",
      "[CV] END ccp_alpha=0.001, class_weight={0: 1, 1: 2}, max_depth=20, n_estimators=300; total time=   0.9s\n",
      "[CV] END ccp_alpha=0.001, class_weight={0: 1, 1: 2}, max_depth=20, n_estimators=300; total time=   0.9s\n",
      "[CV] END ccp_alpha=0.001, class_weight={0: 1, 1: 2}, max_depth=20, n_estimators=400; total time=   1.1s\n",
      "[CV] END ccp_alpha=0.001, class_weight={0: 1, 1: 2}, max_depth=20, n_estimators=400; total time=   1.2s\n",
      "[CV] END ccp_alpha=0.001, class_weight={0: 1, 1: 2}, max_depth=20, n_estimators=400; total time=   1.2s\n",
      "[CV] END ccp_alpha=0.001, class_weight={0: 1, 1: 2}, max_depth=20, n_estimators=400; total time=   1.2s\n",
      "[CV] END ccp_alpha=0.001, class_weight={0: 1, 1: 2}, max_depth=20, n_estimators=400; total time=   1.2s\n",
      "[CV] END ccp_alpha=0.001, class_weight={0: 1, 1: 2}, max_depth=30, n_estimators=50; total time=   0.2s\n",
      "[CV] END ccp_alpha=0.001, class_weight={0: 1, 1: 2}, max_depth=30, n_estimators=50; total time=   0.2s\n",
      "[CV] END ccp_alpha=0.001, class_weight={0: 1, 1: 2}, max_depth=30, n_estimators=50; total time=   0.2s\n",
      "[CV] END ccp_alpha=0.001, class_weight={0: 1, 1: 2}, max_depth=30, n_estimators=50; total time=   0.2s\n",
      "[CV] END ccp_alpha=0.001, class_weight={0: 1, 1: 2}, max_depth=30, n_estimators=50; total time=   0.2s\n",
      "[CV] END ccp_alpha=0.001, class_weight={0: 1, 1: 2}, max_depth=30, n_estimators=100; total time=   0.4s\n",
      "[CV] END ccp_alpha=0.001, class_weight={0: 1, 1: 2}, max_depth=30, n_estimators=100; total time=   0.4s\n",
      "[CV] END ccp_alpha=0.001, class_weight={0: 1, 1: 2}, max_depth=30, n_estimators=100; total time=   0.4s\n",
      "[CV] END ccp_alpha=0.001, class_weight={0: 1, 1: 2}, max_depth=30, n_estimators=100; total time=   0.4s\n",
      "[CV] END ccp_alpha=0.001, class_weight={0: 1, 1: 2}, max_depth=30, n_estimators=100; total time=   0.4s\n",
      "[CV] END ccp_alpha=0.001, class_weight={0: 1, 1: 2}, max_depth=30, n_estimators=200; total time=   0.7s\n",
      "[CV] END ccp_alpha=0.001, class_weight={0: 1, 1: 2}, max_depth=30, n_estimators=200; total time=   0.7s\n",
      "[CV] END ccp_alpha=0.001, class_weight={0: 1, 1: 2}, max_depth=30, n_estimators=200; total time=   0.7s\n",
      "[CV] END ccp_alpha=0.001, class_weight={0: 1, 1: 2}, max_depth=30, n_estimators=200; total time=   0.7s\n",
      "[CV] END ccp_alpha=0.001, class_weight={0: 1, 1: 2}, max_depth=30, n_estimators=200; total time=   0.7s\n",
      "[CV] END ccp_alpha=0.001, class_weight={0: 1, 1: 2}, max_depth=30, n_estimators=300; total time=   1.0s\n",
      "[CV] END ccp_alpha=0.001, class_weight={0: 1, 1: 2}, max_depth=30, n_estimators=300; total time=   1.0s\n",
      "[CV] END ccp_alpha=0.001, class_weight={0: 1, 1: 2}, max_depth=30, n_estimators=300; total time=   1.0s\n",
      "[CV] END ccp_alpha=0.001, class_weight={0: 1, 1: 2}, max_depth=30, n_estimators=300; total time=   1.0s\n",
      "[CV] END ccp_alpha=0.001, class_weight={0: 1, 1: 2}, max_depth=30, n_estimators=300; total time=   1.0s\n",
      "[CV] END ccp_alpha=0.001, class_weight={0: 1, 1: 2}, max_depth=30, n_estimators=400; total time=   1.3s\n",
      "[CV] END ccp_alpha=0.001, class_weight={0: 1, 1: 2}, max_depth=30, n_estimators=400; total time=   1.3s\n",
      "[CV] END ccp_alpha=0.001, class_weight={0: 1, 1: 2}, max_depth=30, n_estimators=400; total time=   1.3s\n",
      "[CV] END ccp_alpha=0.001, class_weight={0: 1, 1: 2}, max_depth=30, n_estimators=400; total time=   1.3s\n",
      "[CV] END ccp_alpha=0.001, class_weight={0: 1, 1: 2}, max_depth=30, n_estimators=400; total time=   1.3s\n",
      "[CV] END ccp_alpha=0.001, class_weight={0: 1, 1: 3}, max_depth=None, n_estimators=50; total time=   0.2s\n",
      "[CV] END ccp_alpha=0.001, class_weight={0: 1, 1: 3}, max_depth=None, n_estimators=50; total time=   0.2s\n",
      "[CV] END ccp_alpha=0.001, class_weight={0: 1, 1: 3}, max_depth=None, n_estimators=50; total time=   0.2s\n",
      "[CV] END ccp_alpha=0.001, class_weight={0: 1, 1: 3}, max_depth=None, n_estimators=50; total time=   0.2s\n",
      "[CV] END ccp_alpha=0.001, class_weight={0: 1, 1: 3}, max_depth=None, n_estimators=50; total time=   0.2s\n",
      "[CV] END ccp_alpha=0.001, class_weight={0: 1, 1: 3}, max_depth=None, n_estimators=100; total time=   0.4s\n",
      "[CV] END ccp_alpha=0.001, class_weight={0: 1, 1: 3}, max_depth=None, n_estimators=100; total time=   0.4s\n",
      "[CV] END ccp_alpha=0.001, class_weight={0: 1, 1: 3}, max_depth=None, n_estimators=100; total time=   0.4s\n",
      "[CV] END ccp_alpha=0.001, class_weight={0: 1, 1: 3}, max_depth=None, n_estimators=100; total time=   0.4s\n",
      "[CV] END ccp_alpha=0.001, class_weight={0: 1, 1: 3}, max_depth=None, n_estimators=100; total time=   0.4s\n",
      "[CV] END ccp_alpha=0.001, class_weight={0: 1, 1: 3}, max_depth=None, n_estimators=200; total time=   0.7s\n",
      "[CV] END ccp_alpha=0.001, class_weight={0: 1, 1: 3}, max_depth=None, n_estimators=200; total time=   0.7s\n",
      "[CV] END ccp_alpha=0.001, class_weight={0: 1, 1: 3}, max_depth=None, n_estimators=200; total time=   0.7s\n",
      "[CV] END ccp_alpha=0.001, class_weight={0: 1, 1: 3}, max_depth=None, n_estimators=200; total time=   0.8s\n",
      "[CV] END ccp_alpha=0.001, class_weight={0: 1, 1: 3}, max_depth=None, n_estimators=200; total time=   0.7s\n",
      "[CV] END ccp_alpha=0.001, class_weight={0: 1, 1: 3}, max_depth=None, n_estimators=300; total time=   1.0s\n",
      "[CV] END ccp_alpha=0.001, class_weight={0: 1, 1: 3}, max_depth=None, n_estimators=300; total time=   1.1s\n",
      "[CV] END ccp_alpha=0.001, class_weight={0: 1, 1: 3}, max_depth=None, n_estimators=300; total time=   1.1s\n",
      "[CV] END ccp_alpha=0.001, class_weight={0: 1, 1: 3}, max_depth=None, n_estimators=300; total time=   1.1s\n",
      "[CV] END ccp_alpha=0.001, class_weight={0: 1, 1: 3}, max_depth=None, n_estimators=300; total time=   1.1s\n",
      "[CV] END ccp_alpha=0.001, class_weight={0: 1, 1: 3}, max_depth=None, n_estimators=400; total time=   1.4s\n",
      "[CV] END ccp_alpha=0.001, class_weight={0: 1, 1: 3}, max_depth=None, n_estimators=400; total time=   1.4s\n",
      "[CV] END ccp_alpha=0.001, class_weight={0: 1, 1: 3}, max_depth=None, n_estimators=400; total time=   1.4s\n",
      "[CV] END ccp_alpha=0.001, class_weight={0: 1, 1: 3}, max_depth=None, n_estimators=400; total time=   1.4s\n",
      "[CV] END ccp_alpha=0.001, class_weight={0: 1, 1: 3}, max_depth=None, n_estimators=400; total time=   1.4s\n",
      "[CV] END ccp_alpha=0.001, class_weight={0: 1, 1: 3}, max_depth=10, n_estimators=50; total time=   0.1s\n",
      "[CV] END ccp_alpha=0.001, class_weight={0: 1, 1: 3}, max_depth=10, n_estimators=50; total time=   0.2s\n",
      "[CV] END ccp_alpha=0.001, class_weight={0: 1, 1: 3}, max_depth=10, n_estimators=50; total time=   0.2s\n",
      "[CV] END ccp_alpha=0.001, class_weight={0: 1, 1: 3}, max_depth=10, n_estimators=50; total time=   0.1s\n",
      "[CV] END ccp_alpha=0.001, class_weight={0: 1, 1: 3}, max_depth=10, n_estimators=50; total time=   0.2s\n",
      "[CV] END ccp_alpha=0.001, class_weight={0: 1, 1: 3}, max_depth=10, n_estimators=100; total time=   0.3s\n",
      "[CV] END ccp_alpha=0.001, class_weight={0: 1, 1: 3}, max_depth=10, n_estimators=100; total time=   0.2s\n",
      "[CV] END ccp_alpha=0.001, class_weight={0: 1, 1: 3}, max_depth=10, n_estimators=100; total time=   0.3s\n",
      "[CV] END ccp_alpha=0.001, class_weight={0: 1, 1: 3}, max_depth=10, n_estimators=100; total time=   0.3s\n",
      "[CV] END ccp_alpha=0.001, class_weight={0: 1, 1: 3}, max_depth=10, n_estimators=100; total time=   0.2s\n",
      "[CV] END ccp_alpha=0.001, class_weight={0: 1, 1: 3}, max_depth=10, n_estimators=200; total time=   0.5s\n",
      "[CV] END ccp_alpha=0.001, class_weight={0: 1, 1: 3}, max_depth=10, n_estimators=200; total time=   0.5s\n",
      "[CV] END ccp_alpha=0.001, class_weight={0: 1, 1: 3}, max_depth=10, n_estimators=200; total time=   0.5s\n",
      "[CV] END ccp_alpha=0.001, class_weight={0: 1, 1: 3}, max_depth=10, n_estimators=200; total time=   0.5s\n",
      "[CV] END ccp_alpha=0.001, class_weight={0: 1, 1: 3}, max_depth=10, n_estimators=200; total time=   0.5s\n",
      "[CV] END ccp_alpha=0.001, class_weight={0: 1, 1: 3}, max_depth=10, n_estimators=300; total time=   0.7s\n",
      "[CV] END ccp_alpha=0.001, class_weight={0: 1, 1: 3}, max_depth=10, n_estimators=300; total time=   0.7s\n",
      "[CV] END ccp_alpha=0.001, class_weight={0: 1, 1: 3}, max_depth=10, n_estimators=300; total time=   0.7s\n",
      "[CV] END ccp_alpha=0.001, class_weight={0: 1, 1: 3}, max_depth=10, n_estimators=300; total time=   0.7s\n",
      "[CV] END ccp_alpha=0.001, class_weight={0: 1, 1: 3}, max_depth=10, n_estimators=300; total time=   0.7s\n",
      "[CV] END ccp_alpha=0.001, class_weight={0: 1, 1: 3}, max_depth=10, n_estimators=400; total time=   0.9s\n",
      "[CV] END ccp_alpha=0.001, class_weight={0: 1, 1: 3}, max_depth=10, n_estimators=400; total time=   0.9s\n",
      "[CV] END ccp_alpha=0.001, class_weight={0: 1, 1: 3}, max_depth=10, n_estimators=400; total time=   0.9s\n",
      "[CV] END ccp_alpha=0.001, class_weight={0: 1, 1: 3}, max_depth=10, n_estimators=400; total time=   0.9s\n",
      "[CV] END ccp_alpha=0.001, class_weight={0: 1, 1: 3}, max_depth=10, n_estimators=400; total time=   0.9s\n",
      "[CV] END ccp_alpha=0.001, class_weight={0: 1, 1: 3}, max_depth=20, n_estimators=50; total time=   0.2s\n",
      "[CV] END ccp_alpha=0.001, class_weight={0: 1, 1: 3}, max_depth=20, n_estimators=50; total time=   0.2s\n",
      "[CV] END ccp_alpha=0.001, class_weight={0: 1, 1: 3}, max_depth=20, n_estimators=50; total time=   0.2s\n",
      "[CV] END ccp_alpha=0.001, class_weight={0: 1, 1: 3}, max_depth=20, n_estimators=50; total time=   0.2s\n",
      "[CV] END ccp_alpha=0.001, class_weight={0: 1, 1: 3}, max_depth=20, n_estimators=50; total time=   0.2s\n",
      "[CV] END ccp_alpha=0.001, class_weight={0: 1, 1: 3}, max_depth=20, n_estimators=100; total time=   0.3s\n",
      "[CV] END ccp_alpha=0.001, class_weight={0: 1, 1: 3}, max_depth=20, n_estimators=100; total time=   0.3s\n",
      "[CV] END ccp_alpha=0.001, class_weight={0: 1, 1: 3}, max_depth=20, n_estimators=100; total time=   0.3s\n",
      "[CV] END ccp_alpha=0.001, class_weight={0: 1, 1: 3}, max_depth=20, n_estimators=100; total time=   0.3s\n",
      "[CV] END ccp_alpha=0.001, class_weight={0: 1, 1: 3}, max_depth=20, n_estimators=100; total time=   0.3s\n",
      "[CV] END ccp_alpha=0.001, class_weight={0: 1, 1: 3}, max_depth=20, n_estimators=200; total time=   0.6s\n",
      "[CV] END ccp_alpha=0.001, class_weight={0: 1, 1: 3}, max_depth=20, n_estimators=200; total time=   0.6s\n",
      "[CV] END ccp_alpha=0.001, class_weight={0: 1, 1: 3}, max_depth=20, n_estimators=200; total time=   0.6s\n",
      "[CV] END ccp_alpha=0.001, class_weight={0: 1, 1: 3}, max_depth=20, n_estimators=200; total time=   0.6s\n",
      "[CV] END ccp_alpha=0.001, class_weight={0: 1, 1: 3}, max_depth=20, n_estimators=200; total time=   0.6s\n",
      "[CV] END ccp_alpha=0.001, class_weight={0: 1, 1: 3}, max_depth=20, n_estimators=300; total time=   0.9s\n",
      "[CV] END ccp_alpha=0.001, class_weight={0: 1, 1: 3}, max_depth=20, n_estimators=300; total time=   0.9s\n",
      "[CV] END ccp_alpha=0.001, class_weight={0: 1, 1: 3}, max_depth=20, n_estimators=300; total time=   0.9s\n",
      "[CV] END ccp_alpha=0.001, class_weight={0: 1, 1: 3}, max_depth=20, n_estimators=300; total time=   0.9s\n",
      "[CV] END ccp_alpha=0.001, class_weight={0: 1, 1: 3}, max_depth=20, n_estimators=300; total time=   0.9s\n",
      "[CV] END ccp_alpha=0.001, class_weight={0: 1, 1: 3}, max_depth=20, n_estimators=400; total time=   1.2s\n",
      "[CV] END ccp_alpha=0.001, class_weight={0: 1, 1: 3}, max_depth=20, n_estimators=400; total time=   1.2s\n",
      "[CV] END ccp_alpha=0.001, class_weight={0: 1, 1: 3}, max_depth=20, n_estimators=400; total time=   1.2s\n",
      "[CV] END ccp_alpha=0.001, class_weight={0: 1, 1: 3}, max_depth=20, n_estimators=400; total time=   1.2s\n",
      "[CV] END ccp_alpha=0.001, class_weight={0: 1, 1: 3}, max_depth=20, n_estimators=400; total time=   1.2s\n",
      "[CV] END ccp_alpha=0.001, class_weight={0: 1, 1: 3}, max_depth=30, n_estimators=50; total time=   0.2s\n",
      "[CV] END ccp_alpha=0.001, class_weight={0: 1, 1: 3}, max_depth=30, n_estimators=50; total time=   0.2s\n",
      "[CV] END ccp_alpha=0.001, class_weight={0: 1, 1: 3}, max_depth=30, n_estimators=50; total time=   0.2s\n",
      "[CV] END ccp_alpha=0.001, class_weight={0: 1, 1: 3}, max_depth=30, n_estimators=50; total time=   0.2s\n",
      "[CV] END ccp_alpha=0.001, class_weight={0: 1, 1: 3}, max_depth=30, n_estimators=50; total time=   0.2s\n",
      "[CV] END ccp_alpha=0.001, class_weight={0: 1, 1: 3}, max_depth=30, n_estimators=100; total time=   0.4s\n",
      "[CV] END ccp_alpha=0.001, class_weight={0: 1, 1: 3}, max_depth=30, n_estimators=100; total time=   0.4s\n",
      "[CV] END ccp_alpha=0.001, class_weight={0: 1, 1: 3}, max_depth=30, n_estimators=100; total time=   0.4s\n",
      "[CV] END ccp_alpha=0.001, class_weight={0: 1, 1: 3}, max_depth=30, n_estimators=100; total time=   0.4s\n",
      "[CV] END ccp_alpha=0.001, class_weight={0: 1, 1: 3}, max_depth=30, n_estimators=100; total time=   0.4s\n",
      "[CV] END ccp_alpha=0.001, class_weight={0: 1, 1: 3}, max_depth=30, n_estimators=200; total time=   0.7s\n",
      "[CV] END ccp_alpha=0.001, class_weight={0: 1, 1: 3}, max_depth=30, n_estimators=200; total time=   0.7s\n",
      "[CV] END ccp_alpha=0.001, class_weight={0: 1, 1: 3}, max_depth=30, n_estimators=200; total time=   0.7s\n",
      "[CV] END ccp_alpha=0.001, class_weight={0: 1, 1: 3}, max_depth=30, n_estimators=200; total time=   0.7s\n",
      "[CV] END ccp_alpha=0.001, class_weight={0: 1, 1: 3}, max_depth=30, n_estimators=200; total time=   0.7s\n",
      "[CV] END ccp_alpha=0.001, class_weight={0: 1, 1: 3}, max_depth=30, n_estimators=300; total time=   1.0s\n",
      "[CV] END ccp_alpha=0.001, class_weight={0: 1, 1: 3}, max_depth=30, n_estimators=300; total time=   1.0s\n",
      "[CV] END ccp_alpha=0.001, class_weight={0: 1, 1: 3}, max_depth=30, n_estimators=300; total time=   1.0s\n",
      "[CV] END ccp_alpha=0.001, class_weight={0: 1, 1: 3}, max_depth=30, n_estimators=300; total time=   1.0s\n",
      "[CV] END ccp_alpha=0.001, class_weight={0: 1, 1: 3}, max_depth=30, n_estimators=300; total time=   1.0s\n",
      "[CV] END ccp_alpha=0.001, class_weight={0: 1, 1: 3}, max_depth=30, n_estimators=400; total time=   1.3s\n",
      "[CV] END ccp_alpha=0.001, class_weight={0: 1, 1: 3}, max_depth=30, n_estimators=400; total time=   1.3s\n",
      "[CV] END ccp_alpha=0.001, class_weight={0: 1, 1: 3}, max_depth=30, n_estimators=400; total time=   1.3s\n",
      "[CV] END ccp_alpha=0.001, class_weight={0: 1, 1: 3}, max_depth=30, n_estimators=400; total time=   1.3s\n",
      "[CV] END ccp_alpha=0.001, class_weight={0: 1, 1: 3}, max_depth=30, n_estimators=400; total time=   1.3s\n",
      "[CV] END ccp_alpha=0.001, class_weight={0: 1.5, 1: 2.5}, max_depth=None, n_estimators=50; total time=   0.2s\n",
      "[CV] END ccp_alpha=0.001, class_weight={0: 1.5, 1: 2.5}, max_depth=None, n_estimators=50; total time=   0.2s\n",
      "[CV] END ccp_alpha=0.001, class_weight={0: 1.5, 1: 2.5}, max_depth=None, n_estimators=50; total time=   0.2s\n",
      "[CV] END ccp_alpha=0.001, class_weight={0: 1.5, 1: 2.5}, max_depth=None, n_estimators=50; total time=   0.2s\n",
      "[CV] END ccp_alpha=0.001, class_weight={0: 1.5, 1: 2.5}, max_depth=None, n_estimators=50; total time=   0.2s\n",
      "[CV] END ccp_alpha=0.001, class_weight={0: 1.5, 1: 2.5}, max_depth=None, n_estimators=100; total time=   0.4s\n",
      "[CV] END ccp_alpha=0.001, class_weight={0: 1.5, 1: 2.5}, max_depth=None, n_estimators=100; total time=   0.4s\n",
      "[CV] END ccp_alpha=0.001, class_weight={0: 1.5, 1: 2.5}, max_depth=None, n_estimators=100; total time=   0.4s\n",
      "[CV] END ccp_alpha=0.001, class_weight={0: 1.5, 1: 2.5}, max_depth=None, n_estimators=100; total time=   0.4s\n",
      "[CV] END ccp_alpha=0.001, class_weight={0: 1.5, 1: 2.5}, max_depth=None, n_estimators=100; total time=   0.4s\n",
      "[CV] END ccp_alpha=0.001, class_weight={0: 1.5, 1: 2.5}, max_depth=None, n_estimators=200; total time=   0.7s\n",
      "[CV] END ccp_alpha=0.001, class_weight={0: 1.5, 1: 2.5}, max_depth=None, n_estimators=200; total time=   0.7s\n",
      "[CV] END ccp_alpha=0.001, class_weight={0: 1.5, 1: 2.5}, max_depth=None, n_estimators=200; total time=   0.7s\n",
      "[CV] END ccp_alpha=0.001, class_weight={0: 1.5, 1: 2.5}, max_depth=None, n_estimators=200; total time=   0.7s\n",
      "[CV] END ccp_alpha=0.001, class_weight={0: 1.5, 1: 2.5}, max_depth=None, n_estimators=200; total time=   0.7s\n",
      "[CV] END ccp_alpha=0.001, class_weight={0: 1.5, 1: 2.5}, max_depth=None, n_estimators=300; total time=   1.0s\n",
      "[CV] END ccp_alpha=0.001, class_weight={0: 1.5, 1: 2.5}, max_depth=None, n_estimators=300; total time=   1.1s\n",
      "[CV] END ccp_alpha=0.001, class_weight={0: 1.5, 1: 2.5}, max_depth=None, n_estimators=300; total time=   1.1s\n",
      "[CV] END ccp_alpha=0.001, class_weight={0: 1.5, 1: 2.5}, max_depth=None, n_estimators=300; total time=   1.0s\n",
      "[CV] END ccp_alpha=0.001, class_weight={0: 1.5, 1: 2.5}, max_depth=None, n_estimators=300; total time=   1.1s\n",
      "[CV] END ccp_alpha=0.001, class_weight={0: 1.5, 1: 2.5}, max_depth=None, n_estimators=400; total time=   1.4s\n",
      "[CV] END ccp_alpha=0.001, class_weight={0: 1.5, 1: 2.5}, max_depth=None, n_estimators=400; total time=   1.4s\n",
      "[CV] END ccp_alpha=0.001, class_weight={0: 1.5, 1: 2.5}, max_depth=None, n_estimators=400; total time=   1.4s\n",
      "[CV] END ccp_alpha=0.001, class_weight={0: 1.5, 1: 2.5}, max_depth=None, n_estimators=400; total time=   1.4s\n",
      "[CV] END ccp_alpha=0.001, class_weight={0: 1.5, 1: 2.5}, max_depth=None, n_estimators=400; total time=   1.4s\n",
      "[CV] END ccp_alpha=0.001, class_weight={0: 1.5, 1: 2.5}, max_depth=10, n_estimators=50; total time=   0.1s\n",
      "[CV] END ccp_alpha=0.001, class_weight={0: 1.5, 1: 2.5}, max_depth=10, n_estimators=50; total time=   0.2s\n",
      "[CV] END ccp_alpha=0.001, class_weight={0: 1.5, 1: 2.5}, max_depth=10, n_estimators=50; total time=   0.2s\n",
      "[CV] END ccp_alpha=0.001, class_weight={0: 1.5, 1: 2.5}, max_depth=10, n_estimators=50; total time=   0.1s\n",
      "[CV] END ccp_alpha=0.001, class_weight={0: 1.5, 1: 2.5}, max_depth=10, n_estimators=50; total time=   0.2s\n",
      "[CV] END ccp_alpha=0.001, class_weight={0: 1.5, 1: 2.5}, max_depth=10, n_estimators=100; total time=   0.3s\n",
      "[CV] END ccp_alpha=0.001, class_weight={0: 1.5, 1: 2.5}, max_depth=10, n_estimators=100; total time=   0.3s\n",
      "[CV] END ccp_alpha=0.001, class_weight={0: 1.5, 1: 2.5}, max_depth=10, n_estimators=100; total time=   0.3s\n",
      "[CV] END ccp_alpha=0.001, class_weight={0: 1.5, 1: 2.5}, max_depth=10, n_estimators=100; total time=   0.3s\n",
      "[CV] END ccp_alpha=0.001, class_weight={0: 1.5, 1: 2.5}, max_depth=10, n_estimators=100; total time=   0.2s\n",
      "[CV] END ccp_alpha=0.001, class_weight={0: 1.5, 1: 2.5}, max_depth=10, n_estimators=200; total time=   0.5s\n",
      "[CV] END ccp_alpha=0.001, class_weight={0: 1.5, 1: 2.5}, max_depth=10, n_estimators=200; total time=   0.5s\n",
      "[CV] END ccp_alpha=0.001, class_weight={0: 1.5, 1: 2.5}, max_depth=10, n_estimators=200; total time=   0.5s\n",
      "[CV] END ccp_alpha=0.001, class_weight={0: 1.5, 1: 2.5}, max_depth=10, n_estimators=200; total time=   0.5s\n",
      "[CV] END ccp_alpha=0.001, class_weight={0: 1.5, 1: 2.5}, max_depth=10, n_estimators=200; total time=   0.5s\n",
      "[CV] END ccp_alpha=0.001, class_weight={0: 1.5, 1: 2.5}, max_depth=10, n_estimators=300; total time=   0.7s\n",
      "[CV] END ccp_alpha=0.001, class_weight={0: 1.5, 1: 2.5}, max_depth=10, n_estimators=300; total time=   0.7s\n",
      "[CV] END ccp_alpha=0.001, class_weight={0: 1.5, 1: 2.5}, max_depth=10, n_estimators=300; total time=   0.7s\n",
      "[CV] END ccp_alpha=0.001, class_weight={0: 1.5, 1: 2.5}, max_depth=10, n_estimators=300; total time=   0.7s\n",
      "[CV] END ccp_alpha=0.001, class_weight={0: 1.5, 1: 2.5}, max_depth=10, n_estimators=300; total time=   0.7s\n",
      "[CV] END ccp_alpha=0.001, class_weight={0: 1.5, 1: 2.5}, max_depth=10, n_estimators=400; total time=   0.9s\n",
      "[CV] END ccp_alpha=0.001, class_weight={0: 1.5, 1: 2.5}, max_depth=10, n_estimators=400; total time=   0.9s\n",
      "[CV] END ccp_alpha=0.001, class_weight={0: 1.5, 1: 2.5}, max_depth=10, n_estimators=400; total time=   0.9s\n",
      "[CV] END ccp_alpha=0.001, class_weight={0: 1.5, 1: 2.5}, max_depth=10, n_estimators=400; total time=   0.9s\n",
      "[CV] END ccp_alpha=0.001, class_weight={0: 1.5, 1: 2.5}, max_depth=10, n_estimators=400; total time=   0.9s\n",
      "[CV] END ccp_alpha=0.001, class_weight={0: 1.5, 1: 2.5}, max_depth=20, n_estimators=50; total time=   0.2s\n",
      "[CV] END ccp_alpha=0.001, class_weight={0: 1.5, 1: 2.5}, max_depth=20, n_estimators=50; total time=   0.2s\n",
      "[CV] END ccp_alpha=0.001, class_weight={0: 1.5, 1: 2.5}, max_depth=20, n_estimators=50; total time=   0.2s\n",
      "[CV] END ccp_alpha=0.001, class_weight={0: 1.5, 1: 2.5}, max_depth=20, n_estimators=50; total time=   0.2s\n",
      "[CV] END ccp_alpha=0.001, class_weight={0: 1.5, 1: 2.5}, max_depth=20, n_estimators=50; total time=   0.2s\n",
      "[CV] END ccp_alpha=0.001, class_weight={0: 1.5, 1: 2.5}, max_depth=20, n_estimators=100; total time=   0.3s\n",
      "[CV] END ccp_alpha=0.001, class_weight={0: 1.5, 1: 2.5}, max_depth=20, n_estimators=100; total time=   0.3s\n",
      "[CV] END ccp_alpha=0.001, class_weight={0: 1.5, 1: 2.5}, max_depth=20, n_estimators=100; total time=   0.3s\n",
      "[CV] END ccp_alpha=0.001, class_weight={0: 1.5, 1: 2.5}, max_depth=20, n_estimators=100; total time=   0.3s\n",
      "[CV] END ccp_alpha=0.001, class_weight={0: 1.5, 1: 2.5}, max_depth=20, n_estimators=100; total time=   0.4s\n",
      "[CV] END ccp_alpha=0.001, class_weight={0: 1.5, 1: 2.5}, max_depth=20, n_estimators=200; total time=   0.6s\n",
      "[CV] END ccp_alpha=0.001, class_weight={0: 1.5, 1: 2.5}, max_depth=20, n_estimators=200; total time=   0.6s\n",
      "[CV] END ccp_alpha=0.001, class_weight={0: 1.5, 1: 2.5}, max_depth=20, n_estimators=200; total time=   0.6s\n",
      "[CV] END ccp_alpha=0.001, class_weight={0: 1.5, 1: 2.5}, max_depth=20, n_estimators=200; total time=   0.6s\n",
      "[CV] END ccp_alpha=0.001, class_weight={0: 1.5, 1: 2.5}, max_depth=20, n_estimators=200; total time=   0.6s\n",
      "[CV] END ccp_alpha=0.001, class_weight={0: 1.5, 1: 2.5}, max_depth=20, n_estimators=300; total time=   0.9s\n",
      "[CV] END ccp_alpha=0.001, class_weight={0: 1.5, 1: 2.5}, max_depth=20, n_estimators=300; total time=   0.9s\n",
      "[CV] END ccp_alpha=0.001, class_weight={0: 1.5, 1: 2.5}, max_depth=20, n_estimators=300; total time=   0.9s\n",
      "[CV] END ccp_alpha=0.001, class_weight={0: 1.5, 1: 2.5}, max_depth=20, n_estimators=300; total time=   0.9s\n",
      "[CV] END ccp_alpha=0.001, class_weight={0: 1.5, 1: 2.5}, max_depth=20, n_estimators=300; total time=   0.9s\n",
      "[CV] END ccp_alpha=0.001, class_weight={0: 1.5, 1: 2.5}, max_depth=20, n_estimators=400; total time=   1.2s\n",
      "[CV] END ccp_alpha=0.001, class_weight={0: 1.5, 1: 2.5}, max_depth=20, n_estimators=400; total time=   1.2s\n",
      "[CV] END ccp_alpha=0.001, class_weight={0: 1.5, 1: 2.5}, max_depth=20, n_estimators=400; total time=   1.2s\n",
      "[CV] END ccp_alpha=0.001, class_weight={0: 1.5, 1: 2.5}, max_depth=20, n_estimators=400; total time=   1.2s\n",
      "[CV] END ccp_alpha=0.001, class_weight={0: 1.5, 1: 2.5}, max_depth=20, n_estimators=400; total time=   1.2s\n",
      "[CV] END ccp_alpha=0.001, class_weight={0: 1.5, 1: 2.5}, max_depth=30, n_estimators=50; total time=   0.2s\n",
      "[CV] END ccp_alpha=0.001, class_weight={0: 1.5, 1: 2.5}, max_depth=30, n_estimators=50; total time=   0.2s\n",
      "[CV] END ccp_alpha=0.001, class_weight={0: 1.5, 1: 2.5}, max_depth=30, n_estimators=50; total time=   0.2s\n",
      "[CV] END ccp_alpha=0.001, class_weight={0: 1.5, 1: 2.5}, max_depth=30, n_estimators=50; total time=   0.2s\n",
      "[CV] END ccp_alpha=0.001, class_weight={0: 1.5, 1: 2.5}, max_depth=30, n_estimators=50; total time=   0.2s\n",
      "[CV] END ccp_alpha=0.001, class_weight={0: 1.5, 1: 2.5}, max_depth=30, n_estimators=100; total time=   0.4s\n",
      "[CV] END ccp_alpha=0.001, class_weight={0: 1.5, 1: 2.5}, max_depth=30, n_estimators=100; total time=   0.4s\n",
      "[CV] END ccp_alpha=0.001, class_weight={0: 1.5, 1: 2.5}, max_depth=30, n_estimators=100; total time=   0.4s\n",
      "[CV] END ccp_alpha=0.001, class_weight={0: 1.5, 1: 2.5}, max_depth=30, n_estimators=100; total time=   0.4s\n",
      "[CV] END ccp_alpha=0.001, class_weight={0: 1.5, 1: 2.5}, max_depth=30, n_estimators=100; total time=   0.4s\n",
      "[CV] END ccp_alpha=0.001, class_weight={0: 1.5, 1: 2.5}, max_depth=30, n_estimators=200; total time=   0.7s\n",
      "[CV] END ccp_alpha=0.001, class_weight={0: 1.5, 1: 2.5}, max_depth=30, n_estimators=200; total time=   0.7s\n",
      "[CV] END ccp_alpha=0.001, class_weight={0: 1.5, 1: 2.5}, max_depth=30, n_estimators=200; total time=   0.7s\n",
      "[CV] END ccp_alpha=0.001, class_weight={0: 1.5, 1: 2.5}, max_depth=30, n_estimators=200; total time=   0.7s\n",
      "[CV] END ccp_alpha=0.001, class_weight={0: 1.5, 1: 2.5}, max_depth=30, n_estimators=200; total time=   0.7s\n",
      "[CV] END ccp_alpha=0.001, class_weight={0: 1.5, 1: 2.5}, max_depth=30, n_estimators=300; total time=   1.0s\n",
      "[CV] END ccp_alpha=0.001, class_weight={0: 1.5, 1: 2.5}, max_depth=30, n_estimators=300; total time=   1.0s\n",
      "[CV] END ccp_alpha=0.001, class_weight={0: 1.5, 1: 2.5}, max_depth=30, n_estimators=300; total time=   1.0s\n",
      "[CV] END ccp_alpha=0.001, class_weight={0: 1.5, 1: 2.5}, max_depth=30, n_estimators=300; total time=   1.0s\n",
      "[CV] END ccp_alpha=0.001, class_weight={0: 1.5, 1: 2.5}, max_depth=30, n_estimators=300; total time=   1.0s\n",
      "[CV] END ccp_alpha=0.001, class_weight={0: 1.5, 1: 2.5}, max_depth=30, n_estimators=400; total time=   1.3s\n",
      "[CV] END ccp_alpha=0.001, class_weight={0: 1.5, 1: 2.5}, max_depth=30, n_estimators=400; total time=   1.3s\n",
      "[CV] END ccp_alpha=0.001, class_weight={0: 1.5, 1: 2.5}, max_depth=30, n_estimators=400; total time=   1.3s\n",
      "[CV] END ccp_alpha=0.001, class_weight={0: 1.5, 1: 2.5}, max_depth=30, n_estimators=400; total time=   1.3s\n",
      "[CV] END ccp_alpha=0.001, class_weight={0: 1.5, 1: 2.5}, max_depth=30, n_estimators=400; total time=   1.3s\n",
      "[CV] END ccp_alpha=0.001, class_weight={0: 1.5, 1: 3}, max_depth=None, n_estimators=50; total time=   0.2s\n",
      "[CV] END ccp_alpha=0.001, class_weight={0: 1.5, 1: 3}, max_depth=None, n_estimators=50; total time=   0.2s\n",
      "[CV] END ccp_alpha=0.001, class_weight={0: 1.5, 1: 3}, max_depth=None, n_estimators=50; total time=   0.2s\n",
      "[CV] END ccp_alpha=0.001, class_weight={0: 1.5, 1: 3}, max_depth=None, n_estimators=50; total time=   0.2s\n",
      "[CV] END ccp_alpha=0.001, class_weight={0: 1.5, 1: 3}, max_depth=None, n_estimators=50; total time=   0.2s\n",
      "[CV] END ccp_alpha=0.001, class_weight={0: 1.5, 1: 3}, max_depth=None, n_estimators=100; total time=   0.4s\n",
      "[CV] END ccp_alpha=0.001, class_weight={0: 1.5, 1: 3}, max_depth=None, n_estimators=100; total time=   0.4s\n",
      "[CV] END ccp_alpha=0.001, class_weight={0: 1.5, 1: 3}, max_depth=None, n_estimators=100; total time=   0.4s\n",
      "[CV] END ccp_alpha=0.001, class_weight={0: 1.5, 1: 3}, max_depth=None, n_estimators=100; total time=   0.4s\n",
      "[CV] END ccp_alpha=0.001, class_weight={0: 1.5, 1: 3}, max_depth=None, n_estimators=100; total time=   0.4s\n",
      "[CV] END ccp_alpha=0.001, class_weight={0: 1.5, 1: 3}, max_depth=None, n_estimators=200; total time=   0.7s\n",
      "[CV] END ccp_alpha=0.001, class_weight={0: 1.5, 1: 3}, max_depth=None, n_estimators=200; total time=   0.7s\n",
      "[CV] END ccp_alpha=0.001, class_weight={0: 1.5, 1: 3}, max_depth=None, n_estimators=200; total time=   0.7s\n",
      "[CV] END ccp_alpha=0.001, class_weight={0: 1.5, 1: 3}, max_depth=None, n_estimators=200; total time=   0.7s\n",
      "[CV] END ccp_alpha=0.001, class_weight={0: 1.5, 1: 3}, max_depth=None, n_estimators=200; total time=   0.7s\n",
      "[CV] END ccp_alpha=0.001, class_weight={0: 1.5, 1: 3}, max_depth=None, n_estimators=300; total time=   1.1s\n",
      "[CV] END ccp_alpha=0.001, class_weight={0: 1.5, 1: 3}, max_depth=None, n_estimators=300; total time=   1.0s\n",
      "[CV] END ccp_alpha=0.001, class_weight={0: 1.5, 1: 3}, max_depth=None, n_estimators=300; total time=   1.1s\n",
      "[CV] END ccp_alpha=0.001, class_weight={0: 1.5, 1: 3}, max_depth=None, n_estimators=300; total time=   1.1s\n",
      "[CV] END ccp_alpha=0.001, class_weight={0: 1.5, 1: 3}, max_depth=None, n_estimators=300; total time=   1.1s\n",
      "[CV] END ccp_alpha=0.001, class_weight={0: 1.5, 1: 3}, max_depth=None, n_estimators=400; total time=   1.4s\n",
      "[CV] END ccp_alpha=0.001, class_weight={0: 1.5, 1: 3}, max_depth=None, n_estimators=400; total time=   1.4s\n",
      "[CV] END ccp_alpha=0.001, class_weight={0: 1.5, 1: 3}, max_depth=None, n_estimators=400; total time=   1.4s\n",
      "[CV] END ccp_alpha=0.001, class_weight={0: 1.5, 1: 3}, max_depth=None, n_estimators=400; total time=   1.4s\n",
      "[CV] END ccp_alpha=0.001, class_weight={0: 1.5, 1: 3}, max_depth=None, n_estimators=400; total time=   1.4s\n",
      "[CV] END ccp_alpha=0.001, class_weight={0: 1.5, 1: 3}, max_depth=10, n_estimators=50; total time=   0.1s\n",
      "[CV] END ccp_alpha=0.001, class_weight={0: 1.5, 1: 3}, max_depth=10, n_estimators=50; total time=   0.1s\n",
      "[CV] END ccp_alpha=0.001, class_weight={0: 1.5, 1: 3}, max_depth=10, n_estimators=50; total time=   0.1s\n",
      "[CV] END ccp_alpha=0.001, class_weight={0: 1.5, 1: 3}, max_depth=10, n_estimators=50; total time=   0.1s\n",
      "[CV] END ccp_alpha=0.001, class_weight={0: 1.5, 1: 3}, max_depth=10, n_estimators=50; total time=   0.2s\n",
      "[CV] END ccp_alpha=0.001, class_weight={0: 1.5, 1: 3}, max_depth=10, n_estimators=100; total time=   0.3s\n",
      "[CV] END ccp_alpha=0.001, class_weight={0: 1.5, 1: 3}, max_depth=10, n_estimators=100; total time=   0.2s\n",
      "[CV] END ccp_alpha=0.001, class_weight={0: 1.5, 1: 3}, max_depth=10, n_estimators=100; total time=   0.3s\n",
      "[CV] END ccp_alpha=0.001, class_weight={0: 1.5, 1: 3}, max_depth=10, n_estimators=100; total time=   0.3s\n",
      "[CV] END ccp_alpha=0.001, class_weight={0: 1.5, 1: 3}, max_depth=10, n_estimators=100; total time=   0.3s\n",
      "[CV] END ccp_alpha=0.001, class_weight={0: 1.5, 1: 3}, max_depth=10, n_estimators=200; total time=   0.5s\n",
      "[CV] END ccp_alpha=0.001, class_weight={0: 1.5, 1: 3}, max_depth=10, n_estimators=200; total time=   0.5s\n",
      "[CV] END ccp_alpha=0.001, class_weight={0: 1.5, 1: 3}, max_depth=10, n_estimators=200; total time=   0.5s\n",
      "[CV] END ccp_alpha=0.001, class_weight={0: 1.5, 1: 3}, max_depth=10, n_estimators=200; total time=   0.5s\n",
      "[CV] END ccp_alpha=0.001, class_weight={0: 1.5, 1: 3}, max_depth=10, n_estimators=200; total time=   0.5s\n",
      "[CV] END ccp_alpha=0.001, class_weight={0: 1.5, 1: 3}, max_depth=10, n_estimators=300; total time=   0.7s\n",
      "[CV] END ccp_alpha=0.001, class_weight={0: 1.5, 1: 3}, max_depth=10, n_estimators=300; total time=   0.7s\n",
      "[CV] END ccp_alpha=0.001, class_weight={0: 1.5, 1: 3}, max_depth=10, n_estimators=300; total time=   0.7s\n",
      "[CV] END ccp_alpha=0.001, class_weight={0: 1.5, 1: 3}, max_depth=10, n_estimators=300; total time=   0.7s\n",
      "[CV] END ccp_alpha=0.001, class_weight={0: 1.5, 1: 3}, max_depth=10, n_estimators=300; total time=   0.7s\n",
      "[CV] END ccp_alpha=0.001, class_weight={0: 1.5, 1: 3}, max_depth=10, n_estimators=400; total time=   0.9s\n",
      "[CV] END ccp_alpha=0.001, class_weight={0: 1.5, 1: 3}, max_depth=10, n_estimators=400; total time=   0.9s\n",
      "[CV] END ccp_alpha=0.001, class_weight={0: 1.5, 1: 3}, max_depth=10, n_estimators=400; total time=   0.9s\n",
      "[CV] END ccp_alpha=0.001, class_weight={0: 1.5, 1: 3}, max_depth=10, n_estimators=400; total time=   0.9s\n",
      "[CV] END ccp_alpha=0.001, class_weight={0: 1.5, 1: 3}, max_depth=10, n_estimators=400; total time=   0.9s\n",
      "[CV] END ccp_alpha=0.001, class_weight={0: 1.5, 1: 3}, max_depth=20, n_estimators=50; total time=   0.2s\n",
      "[CV] END ccp_alpha=0.001, class_weight={0: 1.5, 1: 3}, max_depth=20, n_estimators=50; total time=   0.2s\n",
      "[CV] END ccp_alpha=0.001, class_weight={0: 1.5, 1: 3}, max_depth=20, n_estimators=50; total time=   0.2s\n",
      "[CV] END ccp_alpha=0.001, class_weight={0: 1.5, 1: 3}, max_depth=20, n_estimators=50; total time=   0.2s\n",
      "[CV] END ccp_alpha=0.001, class_weight={0: 1.5, 1: 3}, max_depth=20, n_estimators=50; total time=   0.2s\n",
      "[CV] END ccp_alpha=0.001, class_weight={0: 1.5, 1: 3}, max_depth=20, n_estimators=100; total time=   0.3s\n",
      "[CV] END ccp_alpha=0.001, class_weight={0: 1.5, 1: 3}, max_depth=20, n_estimators=100; total time=   0.3s\n",
      "[CV] END ccp_alpha=0.001, class_weight={0: 1.5, 1: 3}, max_depth=20, n_estimators=100; total time=   0.3s\n",
      "[CV] END ccp_alpha=0.001, class_weight={0: 1.5, 1: 3}, max_depth=20, n_estimators=100; total time=   0.3s\n",
      "[CV] END ccp_alpha=0.001, class_weight={0: 1.5, 1: 3}, max_depth=20, n_estimators=100; total time=   0.3s\n",
      "[CV] END ccp_alpha=0.001, class_weight={0: 1.5, 1: 3}, max_depth=20, n_estimators=200; total time=   0.6s\n",
      "[CV] END ccp_alpha=0.001, class_weight={0: 1.5, 1: 3}, max_depth=20, n_estimators=200; total time=   0.6s\n",
      "[CV] END ccp_alpha=0.001, class_weight={0: 1.5, 1: 3}, max_depth=20, n_estimators=200; total time=   0.6s\n",
      "[CV] END ccp_alpha=0.001, class_weight={0: 1.5, 1: 3}, max_depth=20, n_estimators=200; total time=   0.6s\n",
      "[CV] END ccp_alpha=0.001, class_weight={0: 1.5, 1: 3}, max_depth=20, n_estimators=200; total time=   0.6s\n",
      "[CV] END ccp_alpha=0.001, class_weight={0: 1.5, 1: 3}, max_depth=20, n_estimators=300; total time=   0.9s\n",
      "[CV] END ccp_alpha=0.001, class_weight={0: 1.5, 1: 3}, max_depth=20, n_estimators=300; total time=   1.0s\n",
      "[CV] END ccp_alpha=0.001, class_weight={0: 1.5, 1: 3}, max_depth=20, n_estimators=300; total time=   0.9s\n",
      "[CV] END ccp_alpha=0.001, class_weight={0: 1.5, 1: 3}, max_depth=20, n_estimators=300; total time=   0.9s\n",
      "[CV] END ccp_alpha=0.001, class_weight={0: 1.5, 1: 3}, max_depth=20, n_estimators=300; total time=   0.9s\n",
      "[CV] END ccp_alpha=0.001, class_weight={0: 1.5, 1: 3}, max_depth=20, n_estimators=400; total time=   1.1s\n",
      "[CV] END ccp_alpha=0.001, class_weight={0: 1.5, 1: 3}, max_depth=20, n_estimators=400; total time=   1.2s\n",
      "[CV] END ccp_alpha=0.001, class_weight={0: 1.5, 1: 3}, max_depth=20, n_estimators=400; total time=   1.2s\n",
      "[CV] END ccp_alpha=0.001, class_weight={0: 1.5, 1: 3}, max_depth=20, n_estimators=400; total time=   1.2s\n",
      "[CV] END ccp_alpha=0.001, class_weight={0: 1.5, 1: 3}, max_depth=20, n_estimators=400; total time=   1.2s\n",
      "[CV] END ccp_alpha=0.001, class_weight={0: 1.5, 1: 3}, max_depth=30, n_estimators=50; total time=   0.2s\n",
      "[CV] END ccp_alpha=0.001, class_weight={0: 1.5, 1: 3}, max_depth=30, n_estimators=50; total time=   0.2s\n",
      "[CV] END ccp_alpha=0.001, class_weight={0: 1.5, 1: 3}, max_depth=30, n_estimators=50; total time=   0.2s\n",
      "[CV] END ccp_alpha=0.001, class_weight={0: 1.5, 1: 3}, max_depth=30, n_estimators=50; total time=   0.2s\n",
      "[CV] END ccp_alpha=0.001, class_weight={0: 1.5, 1: 3}, max_depth=30, n_estimators=50; total time=   0.2s\n",
      "[CV] END ccp_alpha=0.001, class_weight={0: 1.5, 1: 3}, max_depth=30, n_estimators=100; total time=   0.4s\n",
      "[CV] END ccp_alpha=0.001, class_weight={0: 1.5, 1: 3}, max_depth=30, n_estimators=100; total time=   0.4s\n",
      "[CV] END ccp_alpha=0.001, class_weight={0: 1.5, 1: 3}, max_depth=30, n_estimators=100; total time=   0.3s\n",
      "[CV] END ccp_alpha=0.001, class_weight={0: 1.5, 1: 3}, max_depth=30, n_estimators=100; total time=   0.4s\n",
      "[CV] END ccp_alpha=0.001, class_weight={0: 1.5, 1: 3}, max_depth=30, n_estimators=100; total time=   0.3s\n",
      "[CV] END ccp_alpha=0.001, class_weight={0: 1.5, 1: 3}, max_depth=30, n_estimators=200; total time=   0.7s\n",
      "[CV] END ccp_alpha=0.001, class_weight={0: 1.5, 1: 3}, max_depth=30, n_estimators=200; total time=   0.7s\n",
      "[CV] END ccp_alpha=0.001, class_weight={0: 1.5, 1: 3}, max_depth=30, n_estimators=200; total time=   0.7s\n",
      "[CV] END ccp_alpha=0.001, class_weight={0: 1.5, 1: 3}, max_depth=30, n_estimators=200; total time=   0.7s\n",
      "[CV] END ccp_alpha=0.001, class_weight={0: 1.5, 1: 3}, max_depth=30, n_estimators=200; total time=   0.7s\n",
      "[CV] END ccp_alpha=0.001, class_weight={0: 1.5, 1: 3}, max_depth=30, n_estimators=300; total time=   1.0s\n",
      "[CV] END ccp_alpha=0.001, class_weight={0: 1.5, 1: 3}, max_depth=30, n_estimators=300; total time=   1.0s\n",
      "[CV] END ccp_alpha=0.001, class_weight={0: 1.5, 1: 3}, max_depth=30, n_estimators=300; total time=   1.0s\n",
      "[CV] END ccp_alpha=0.001, class_weight={0: 1.5, 1: 3}, max_depth=30, n_estimators=300; total time=   1.0s\n",
      "[CV] END ccp_alpha=0.001, class_weight={0: 1.5, 1: 3}, max_depth=30, n_estimators=300; total time=   1.0s\n",
      "[CV] END ccp_alpha=0.001, class_weight={0: 1.5, 1: 3}, max_depth=30, n_estimators=400; total time=   1.3s\n",
      "[CV] END ccp_alpha=0.001, class_weight={0: 1.5, 1: 3}, max_depth=30, n_estimators=400; total time=   1.3s\n",
      "[CV] END ccp_alpha=0.001, class_weight={0: 1.5, 1: 3}, max_depth=30, n_estimators=400; total time=   1.3s\n",
      "[CV] END ccp_alpha=0.001, class_weight={0: 1.5, 1: 3}, max_depth=30, n_estimators=400; total time=   1.3s\n",
      "[CV] END ccp_alpha=0.001, class_weight={0: 1.5, 1: 3}, max_depth=30, n_estimators=400; total time=   1.4s\n"
     ]
    },
    {
     "data": {
      "text/html": [
       "<style>#sk-container-id-5 {\n",
       "  /* Definition of color scheme common for light and dark mode */\n",
       "  --sklearn-color-text: black;\n",
       "  --sklearn-color-line: gray;\n",
       "  /* Definition of color scheme for unfitted estimators */\n",
       "  --sklearn-color-unfitted-level-0: #fff5e6;\n",
       "  --sklearn-color-unfitted-level-1: #f6e4d2;\n",
       "  --sklearn-color-unfitted-level-2: #ffe0b3;\n",
       "  --sklearn-color-unfitted-level-3: chocolate;\n",
       "  /* Definition of color scheme for fitted estimators */\n",
       "  --sklearn-color-fitted-level-0: #f0f8ff;\n",
       "  --sklearn-color-fitted-level-1: #d4ebff;\n",
       "  --sklearn-color-fitted-level-2: #b3dbfd;\n",
       "  --sklearn-color-fitted-level-3: cornflowerblue;\n",
       "\n",
       "  /* Specific color for light theme */\n",
       "  --sklearn-color-text-on-default-background: var(--sg-text-color, var(--theme-code-foreground, var(--jp-content-font-color1, black)));\n",
       "  --sklearn-color-background: var(--sg-background-color, var(--theme-background, var(--jp-layout-color0, white)));\n",
       "  --sklearn-color-border-box: var(--sg-text-color, var(--theme-code-foreground, var(--jp-content-font-color1, black)));\n",
       "  --sklearn-color-icon: #696969;\n",
       "\n",
       "  @media (prefers-color-scheme: dark) {\n",
       "    /* Redefinition of color scheme for dark theme */\n",
       "    --sklearn-color-text-on-default-background: var(--sg-text-color, var(--theme-code-foreground, var(--jp-content-font-color1, white)));\n",
       "    --sklearn-color-background: var(--sg-background-color, var(--theme-background, var(--jp-layout-color0, #111)));\n",
       "    --sklearn-color-border-box: var(--sg-text-color, var(--theme-code-foreground, var(--jp-content-font-color1, white)));\n",
       "    --sklearn-color-icon: #878787;\n",
       "  }\n",
       "}\n",
       "\n",
       "#sk-container-id-5 {\n",
       "  color: var(--sklearn-color-text);\n",
       "}\n",
       "\n",
       "#sk-container-id-5 pre {\n",
       "  padding: 0;\n",
       "}\n",
       "\n",
       "#sk-container-id-5 input.sk-hidden--visually {\n",
       "  border: 0;\n",
       "  clip: rect(1px 1px 1px 1px);\n",
       "  clip: rect(1px, 1px, 1px, 1px);\n",
       "  height: 1px;\n",
       "  margin: -1px;\n",
       "  overflow: hidden;\n",
       "  padding: 0;\n",
       "  position: absolute;\n",
       "  width: 1px;\n",
       "}\n",
       "\n",
       "#sk-container-id-5 div.sk-dashed-wrapped {\n",
       "  border: 1px dashed var(--sklearn-color-line);\n",
       "  margin: 0 0.4em 0.5em 0.4em;\n",
       "  box-sizing: border-box;\n",
       "  padding-bottom: 0.4em;\n",
       "  background-color: var(--sklearn-color-background);\n",
       "}\n",
       "\n",
       "#sk-container-id-5 div.sk-container {\n",
       "  /* jupyter's `normalize.less` sets `[hidden] { display: none; }`\n",
       "     but bootstrap.min.css set `[hidden] { display: none !important; }`\n",
       "     so we also need the `!important` here to be able to override the\n",
       "     default hidden behavior on the sphinx rendered scikit-learn.org.\n",
       "     See: https://github.com/scikit-learn/scikit-learn/issues/21755 */\n",
       "  display: inline-block !important;\n",
       "  position: relative;\n",
       "}\n",
       "\n",
       "#sk-container-id-5 div.sk-text-repr-fallback {\n",
       "  display: none;\n",
       "}\n",
       "\n",
       "div.sk-parallel-item,\n",
       "div.sk-serial,\n",
       "div.sk-item {\n",
       "  /* draw centered vertical line to link estimators */\n",
       "  background-image: linear-gradient(var(--sklearn-color-text-on-default-background), var(--sklearn-color-text-on-default-background));\n",
       "  background-size: 2px 100%;\n",
       "  background-repeat: no-repeat;\n",
       "  background-position: center center;\n",
       "}\n",
       "\n",
       "/* Parallel-specific style estimator block */\n",
       "\n",
       "#sk-container-id-5 div.sk-parallel-item::after {\n",
       "  content: \"\";\n",
       "  width: 100%;\n",
       "  border-bottom: 2px solid var(--sklearn-color-text-on-default-background);\n",
       "  flex-grow: 1;\n",
       "}\n",
       "\n",
       "#sk-container-id-5 div.sk-parallel {\n",
       "  display: flex;\n",
       "  align-items: stretch;\n",
       "  justify-content: center;\n",
       "  background-color: var(--sklearn-color-background);\n",
       "  position: relative;\n",
       "}\n",
       "\n",
       "#sk-container-id-5 div.sk-parallel-item {\n",
       "  display: flex;\n",
       "  flex-direction: column;\n",
       "}\n",
       "\n",
       "#sk-container-id-5 div.sk-parallel-item:first-child::after {\n",
       "  align-self: flex-end;\n",
       "  width: 50%;\n",
       "}\n",
       "\n",
       "#sk-container-id-5 div.sk-parallel-item:last-child::after {\n",
       "  align-self: flex-start;\n",
       "  width: 50%;\n",
       "}\n",
       "\n",
       "#sk-container-id-5 div.sk-parallel-item:only-child::after {\n",
       "  width: 0;\n",
       "}\n",
       "\n",
       "/* Serial-specific style estimator block */\n",
       "\n",
       "#sk-container-id-5 div.sk-serial {\n",
       "  display: flex;\n",
       "  flex-direction: column;\n",
       "  align-items: center;\n",
       "  background-color: var(--sklearn-color-background);\n",
       "  padding-right: 1em;\n",
       "  padding-left: 1em;\n",
       "}\n",
       "\n",
       "\n",
       "/* Toggleable style: style used for estimator/Pipeline/ColumnTransformer box that is\n",
       "clickable and can be expanded/collapsed.\n",
       "- Pipeline and ColumnTransformer use this feature and define the default style\n",
       "- Estimators will overwrite some part of the style using the `sk-estimator` class\n",
       "*/\n",
       "\n",
       "/* Pipeline and ColumnTransformer style (default) */\n",
       "\n",
       "#sk-container-id-5 div.sk-toggleable {\n",
       "  /* Default theme specific background. It is overwritten whether we have a\n",
       "  specific estimator or a Pipeline/ColumnTransformer */\n",
       "  background-color: var(--sklearn-color-background);\n",
       "}\n",
       "\n",
       "/* Toggleable label */\n",
       "#sk-container-id-5 label.sk-toggleable__label {\n",
       "  cursor: pointer;\n",
       "  display: block;\n",
       "  width: 100%;\n",
       "  margin-bottom: 0;\n",
       "  padding: 0.5em;\n",
       "  box-sizing: border-box;\n",
       "  text-align: center;\n",
       "}\n",
       "\n",
       "#sk-container-id-5 label.sk-toggleable__label-arrow:before {\n",
       "  /* Arrow on the left of the label */\n",
       "  content: \"▸\";\n",
       "  float: left;\n",
       "  margin-right: 0.25em;\n",
       "  color: var(--sklearn-color-icon);\n",
       "}\n",
       "\n",
       "#sk-container-id-5 label.sk-toggleable__label-arrow:hover:before {\n",
       "  color: var(--sklearn-color-text);\n",
       "}\n",
       "\n",
       "/* Toggleable content - dropdown */\n",
       "\n",
       "#sk-container-id-5 div.sk-toggleable__content {\n",
       "  max-height: 0;\n",
       "  max-width: 0;\n",
       "  overflow: hidden;\n",
       "  text-align: left;\n",
       "  /* unfitted */\n",
       "  background-color: var(--sklearn-color-unfitted-level-0);\n",
       "}\n",
       "\n",
       "#sk-container-id-5 div.sk-toggleable__content.fitted {\n",
       "  /* fitted */\n",
       "  background-color: var(--sklearn-color-fitted-level-0);\n",
       "}\n",
       "\n",
       "#sk-container-id-5 div.sk-toggleable__content pre {\n",
       "  margin: 0.2em;\n",
       "  border-radius: 0.25em;\n",
       "  color: var(--sklearn-color-text);\n",
       "  /* unfitted */\n",
       "  background-color: var(--sklearn-color-unfitted-level-0);\n",
       "}\n",
       "\n",
       "#sk-container-id-5 div.sk-toggleable__content.fitted pre {\n",
       "  /* unfitted */\n",
       "  background-color: var(--sklearn-color-fitted-level-0);\n",
       "}\n",
       "\n",
       "#sk-container-id-5 input.sk-toggleable__control:checked~div.sk-toggleable__content {\n",
       "  /* Expand drop-down */\n",
       "  max-height: 200px;\n",
       "  max-width: 100%;\n",
       "  overflow: auto;\n",
       "}\n",
       "\n",
       "#sk-container-id-5 input.sk-toggleable__control:checked~label.sk-toggleable__label-arrow:before {\n",
       "  content: \"▾\";\n",
       "}\n",
       "\n",
       "/* Pipeline/ColumnTransformer-specific style */\n",
       "\n",
       "#sk-container-id-5 div.sk-label input.sk-toggleable__control:checked~label.sk-toggleable__label {\n",
       "  color: var(--sklearn-color-text);\n",
       "  background-color: var(--sklearn-color-unfitted-level-2);\n",
       "}\n",
       "\n",
       "#sk-container-id-5 div.sk-label.fitted input.sk-toggleable__control:checked~label.sk-toggleable__label {\n",
       "  background-color: var(--sklearn-color-fitted-level-2);\n",
       "}\n",
       "\n",
       "/* Estimator-specific style */\n",
       "\n",
       "/* Colorize estimator box */\n",
       "#sk-container-id-5 div.sk-estimator input.sk-toggleable__control:checked~label.sk-toggleable__label {\n",
       "  /* unfitted */\n",
       "  background-color: var(--sklearn-color-unfitted-level-2);\n",
       "}\n",
       "\n",
       "#sk-container-id-5 div.sk-estimator.fitted input.sk-toggleable__control:checked~label.sk-toggleable__label {\n",
       "  /* fitted */\n",
       "  background-color: var(--sklearn-color-fitted-level-2);\n",
       "}\n",
       "\n",
       "#sk-container-id-5 div.sk-label label.sk-toggleable__label,\n",
       "#sk-container-id-5 div.sk-label label {\n",
       "  /* The background is the default theme color */\n",
       "  color: var(--sklearn-color-text-on-default-background);\n",
       "}\n",
       "\n",
       "/* On hover, darken the color of the background */\n",
       "#sk-container-id-5 div.sk-label:hover label.sk-toggleable__label {\n",
       "  color: var(--sklearn-color-text);\n",
       "  background-color: var(--sklearn-color-unfitted-level-2);\n",
       "}\n",
       "\n",
       "/* Label box, darken color on hover, fitted */\n",
       "#sk-container-id-5 div.sk-label.fitted:hover label.sk-toggleable__label.fitted {\n",
       "  color: var(--sklearn-color-text);\n",
       "  background-color: var(--sklearn-color-fitted-level-2);\n",
       "}\n",
       "\n",
       "/* Estimator label */\n",
       "\n",
       "#sk-container-id-5 div.sk-label label {\n",
       "  font-family: monospace;\n",
       "  font-weight: bold;\n",
       "  display: inline-block;\n",
       "  line-height: 1.2em;\n",
       "}\n",
       "\n",
       "#sk-container-id-5 div.sk-label-container {\n",
       "  text-align: center;\n",
       "}\n",
       "\n",
       "/* Estimator-specific */\n",
       "#sk-container-id-5 div.sk-estimator {\n",
       "  font-family: monospace;\n",
       "  border: 1px dotted var(--sklearn-color-border-box);\n",
       "  border-radius: 0.25em;\n",
       "  box-sizing: border-box;\n",
       "  margin-bottom: 0.5em;\n",
       "  /* unfitted */\n",
       "  background-color: var(--sklearn-color-unfitted-level-0);\n",
       "}\n",
       "\n",
       "#sk-container-id-5 div.sk-estimator.fitted {\n",
       "  /* fitted */\n",
       "  background-color: var(--sklearn-color-fitted-level-0);\n",
       "}\n",
       "\n",
       "/* on hover */\n",
       "#sk-container-id-5 div.sk-estimator:hover {\n",
       "  /* unfitted */\n",
       "  background-color: var(--sklearn-color-unfitted-level-2);\n",
       "}\n",
       "\n",
       "#sk-container-id-5 div.sk-estimator.fitted:hover {\n",
       "  /* fitted */\n",
       "  background-color: var(--sklearn-color-fitted-level-2);\n",
       "}\n",
       "\n",
       "/* Specification for estimator info (e.g. \"i\" and \"?\") */\n",
       "\n",
       "/* Common style for \"i\" and \"?\" */\n",
       "\n",
       ".sk-estimator-doc-link,\n",
       "a:link.sk-estimator-doc-link,\n",
       "a:visited.sk-estimator-doc-link {\n",
       "  float: right;\n",
       "  font-size: smaller;\n",
       "  line-height: 1em;\n",
       "  font-family: monospace;\n",
       "  background-color: var(--sklearn-color-background);\n",
       "  border-radius: 1em;\n",
       "  height: 1em;\n",
       "  width: 1em;\n",
       "  text-decoration: none !important;\n",
       "  margin-left: 1ex;\n",
       "  /* unfitted */\n",
       "  border: var(--sklearn-color-unfitted-level-1) 1pt solid;\n",
       "  color: var(--sklearn-color-unfitted-level-1);\n",
       "}\n",
       "\n",
       ".sk-estimator-doc-link.fitted,\n",
       "a:link.sk-estimator-doc-link.fitted,\n",
       "a:visited.sk-estimator-doc-link.fitted {\n",
       "  /* fitted */\n",
       "  border: var(--sklearn-color-fitted-level-1) 1pt solid;\n",
       "  color: var(--sklearn-color-fitted-level-1);\n",
       "}\n",
       "\n",
       "/* On hover */\n",
       "div.sk-estimator:hover .sk-estimator-doc-link:hover,\n",
       ".sk-estimator-doc-link:hover,\n",
       "div.sk-label-container:hover .sk-estimator-doc-link:hover,\n",
       ".sk-estimator-doc-link:hover {\n",
       "  /* unfitted */\n",
       "  background-color: var(--sklearn-color-unfitted-level-3);\n",
       "  color: var(--sklearn-color-background);\n",
       "  text-decoration: none;\n",
       "}\n",
       "\n",
       "div.sk-estimator.fitted:hover .sk-estimator-doc-link.fitted:hover,\n",
       ".sk-estimator-doc-link.fitted:hover,\n",
       "div.sk-label-container:hover .sk-estimator-doc-link.fitted:hover,\n",
       ".sk-estimator-doc-link.fitted:hover {\n",
       "  /* fitted */\n",
       "  background-color: var(--sklearn-color-fitted-level-3);\n",
       "  color: var(--sklearn-color-background);\n",
       "  text-decoration: none;\n",
       "}\n",
       "\n",
       "/* Span, style for the box shown on hovering the info icon */\n",
       ".sk-estimator-doc-link span {\n",
       "  display: none;\n",
       "  z-index: 9999;\n",
       "  position: relative;\n",
       "  font-weight: normal;\n",
       "  right: .2ex;\n",
       "  padding: .5ex;\n",
       "  margin: .5ex;\n",
       "  width: min-content;\n",
       "  min-width: 20ex;\n",
       "  max-width: 50ex;\n",
       "  color: var(--sklearn-color-text);\n",
       "  box-shadow: 2pt 2pt 4pt #999;\n",
       "  /* unfitted */\n",
       "  background: var(--sklearn-color-unfitted-level-0);\n",
       "  border: .5pt solid var(--sklearn-color-unfitted-level-3);\n",
       "}\n",
       "\n",
       ".sk-estimator-doc-link.fitted span {\n",
       "  /* fitted */\n",
       "  background: var(--sklearn-color-fitted-level-0);\n",
       "  border: var(--sklearn-color-fitted-level-3);\n",
       "}\n",
       "\n",
       ".sk-estimator-doc-link:hover span {\n",
       "  display: block;\n",
       "}\n",
       "\n",
       "/* \"?\"-specific style due to the `<a>` HTML tag */\n",
       "\n",
       "#sk-container-id-5 a.estimator_doc_link {\n",
       "  float: right;\n",
       "  font-size: 1rem;\n",
       "  line-height: 1em;\n",
       "  font-family: monospace;\n",
       "  background-color: var(--sklearn-color-background);\n",
       "  border-radius: 1rem;\n",
       "  height: 1rem;\n",
       "  width: 1rem;\n",
       "  text-decoration: none;\n",
       "  /* unfitted */\n",
       "  color: var(--sklearn-color-unfitted-level-1);\n",
       "  border: var(--sklearn-color-unfitted-level-1) 1pt solid;\n",
       "}\n",
       "\n",
       "#sk-container-id-5 a.estimator_doc_link.fitted {\n",
       "  /* fitted */\n",
       "  border: var(--sklearn-color-fitted-level-1) 1pt solid;\n",
       "  color: var(--sklearn-color-fitted-level-1);\n",
       "}\n",
       "\n",
       "/* On hover */\n",
       "#sk-container-id-5 a.estimator_doc_link:hover {\n",
       "  /* unfitted */\n",
       "  background-color: var(--sklearn-color-unfitted-level-3);\n",
       "  color: var(--sklearn-color-background);\n",
       "  text-decoration: none;\n",
       "}\n",
       "\n",
       "#sk-container-id-5 a.estimator_doc_link.fitted:hover {\n",
       "  /* fitted */\n",
       "  background-color: var(--sklearn-color-fitted-level-3);\n",
       "}\n",
       "</style><div id=\"sk-container-id-5\" class=\"sk-top-container\"><div class=\"sk-text-repr-fallback\"><pre>GridSearchCV(cv=KFold(n_splits=5, random_state=None, shuffle=False),\n",
       "             estimator=RandomForestClassifier(n_jobs=5),\n",
       "             param_grid={&#x27;ccp_alpha&#x27;: [0, 1, 0.01, 0.001],\n",
       "                         &#x27;class_weight&#x27;: [None, &#x27;balanced&#x27;,\n",
       "                                          &#x27;balanced_subsample&#x27;, {0: 1, 1: 2},\n",
       "                                          {0: 1, 1: 3}, {0: 1.5, 1: 2.5},\n",
       "                                          {0: 1.5, 1: 3}],\n",
       "                         &#x27;max_depth&#x27;: [None, 10, 20, 30],\n",
       "                         &#x27;n_estimators&#x27;: [50, 100, 200, 300, 400]},\n",
       "             verbose=2)</pre><b>In a Jupyter environment, please rerun this cell to show the HTML representation or trust the notebook. <br />On GitHub, the HTML representation is unable to render, please try loading this page with nbviewer.org.</b></div><div class=\"sk-container\" hidden><div class=\"sk-item sk-dashed-wrapped\"><div class=\"sk-label-container\"><div class=\"sk-label fitted sk-toggleable\"><input class=\"sk-toggleable__control sk-hidden--visually\" id=\"sk-estimator-id-9\" type=\"checkbox\" ><label for=\"sk-estimator-id-9\" class=\"sk-toggleable__label fitted sk-toggleable__label-arrow fitted\">&nbsp;&nbsp;GridSearchCV<a class=\"sk-estimator-doc-link fitted\" rel=\"noreferrer\" target=\"_blank\" href=\"https://scikit-learn.org/1.4/modules/generated/sklearn.model_selection.GridSearchCV.html\">?<span>Documentation for GridSearchCV</span></a><span class=\"sk-estimator-doc-link fitted\">i<span>Fitted</span></span></label><div class=\"sk-toggleable__content fitted\"><pre>GridSearchCV(cv=KFold(n_splits=5, random_state=None, shuffle=False),\n",
       "             estimator=RandomForestClassifier(n_jobs=5),\n",
       "             param_grid={&#x27;ccp_alpha&#x27;: [0, 1, 0.01, 0.001],\n",
       "                         &#x27;class_weight&#x27;: [None, &#x27;balanced&#x27;,\n",
       "                                          &#x27;balanced_subsample&#x27;, {0: 1, 1: 2},\n",
       "                                          {0: 1, 1: 3}, {0: 1.5, 1: 2.5},\n",
       "                                          {0: 1.5, 1: 3}],\n",
       "                         &#x27;max_depth&#x27;: [None, 10, 20, 30],\n",
       "                         &#x27;n_estimators&#x27;: [50, 100, 200, 300, 400]},\n",
       "             verbose=2)</pre></div> </div></div><div class=\"sk-parallel\"><div class=\"sk-parallel-item\"><div class=\"sk-item\"><div class=\"sk-label-container\"><div class=\"sk-label fitted sk-toggleable\"><input class=\"sk-toggleable__control sk-hidden--visually\" id=\"sk-estimator-id-10\" type=\"checkbox\" ><label for=\"sk-estimator-id-10\" class=\"sk-toggleable__label fitted sk-toggleable__label-arrow fitted\">estimator: RandomForestClassifier</label><div class=\"sk-toggleable__content fitted\"><pre>RandomForestClassifier(n_jobs=5)</pre></div> </div></div><div class=\"sk-serial\"><div class=\"sk-item\"><div class=\"sk-estimator fitted sk-toggleable\"><input class=\"sk-toggleable__control sk-hidden--visually\" id=\"sk-estimator-id-11\" type=\"checkbox\" ><label for=\"sk-estimator-id-11\" class=\"sk-toggleable__label fitted sk-toggleable__label-arrow fitted\">&nbsp;RandomForestClassifier<a class=\"sk-estimator-doc-link fitted\" rel=\"noreferrer\" target=\"_blank\" href=\"https://scikit-learn.org/1.4/modules/generated/sklearn.ensemble.RandomForestClassifier.html\">?<span>Documentation for RandomForestClassifier</span></a></label><div class=\"sk-toggleable__content fitted\"><pre>RandomForestClassifier(n_jobs=5)</pre></div> </div></div></div></div></div></div></div></div></div>"
      ],
      "text/plain": [
       "GridSearchCV(cv=KFold(n_splits=5, random_state=None, shuffle=False),\n",
       "             estimator=RandomForestClassifier(n_jobs=5),\n",
       "             param_grid={'ccp_alpha': [0, 1, 0.01, 0.001],\n",
       "                         'class_weight': [None, 'balanced',\n",
       "                                          'balanced_subsample', {0: 1, 1: 2},\n",
       "                                          {0: 1, 1: 3}, {0: 1.5, 1: 2.5},\n",
       "                                          {0: 1.5, 1: 3}],\n",
       "                         'max_depth': [None, 10, 20, 30],\n",
       "                         'n_estimators': [50, 100, 200, 300, 400]},\n",
       "             verbose=2)"
      ]
     },
     "execution_count": 38,
     "metadata": {},
     "output_type": "execute_result"
    }
   ],
   "source": [
    "grid_search.fit(X_train, y_train)"
   ]
  },
  {
   "cell_type": "code",
   "execution_count": 39,
   "id": "39a9518c",
   "metadata": {},
   "outputs": [
    {
     "name": "stdout",
     "output_type": "stream",
     "text": [
      "{'ccp_alpha': 0, 'class_weight': {0: 1, 1: 3}, 'max_depth': None, 'n_estimators': 400}\n"
     ]
    }
   ],
   "source": [
    "best_params = grid_search.best_params_\n",
    "print(best_params)"
   ]
  },
  {
   "cell_type": "code",
   "execution_count": 40,
   "id": "8215ef74",
   "metadata": {},
   "outputs": [],
   "source": [
    "RF_best = RandomForestClassifier(**best_params)"
   ]
  },
  {
   "cell_type": "code",
   "execution_count": 41,
   "id": "5ee863de",
   "metadata": {},
   "outputs": [
    {
     "data": {
      "text/html": [
       "<style>#sk-container-id-6 {\n",
       "  /* Definition of color scheme common for light and dark mode */\n",
       "  --sklearn-color-text: black;\n",
       "  --sklearn-color-line: gray;\n",
       "  /* Definition of color scheme for unfitted estimators */\n",
       "  --sklearn-color-unfitted-level-0: #fff5e6;\n",
       "  --sklearn-color-unfitted-level-1: #f6e4d2;\n",
       "  --sklearn-color-unfitted-level-2: #ffe0b3;\n",
       "  --sklearn-color-unfitted-level-3: chocolate;\n",
       "  /* Definition of color scheme for fitted estimators */\n",
       "  --sklearn-color-fitted-level-0: #f0f8ff;\n",
       "  --sklearn-color-fitted-level-1: #d4ebff;\n",
       "  --sklearn-color-fitted-level-2: #b3dbfd;\n",
       "  --sklearn-color-fitted-level-3: cornflowerblue;\n",
       "\n",
       "  /* Specific color for light theme */\n",
       "  --sklearn-color-text-on-default-background: var(--sg-text-color, var(--theme-code-foreground, var(--jp-content-font-color1, black)));\n",
       "  --sklearn-color-background: var(--sg-background-color, var(--theme-background, var(--jp-layout-color0, white)));\n",
       "  --sklearn-color-border-box: var(--sg-text-color, var(--theme-code-foreground, var(--jp-content-font-color1, black)));\n",
       "  --sklearn-color-icon: #696969;\n",
       "\n",
       "  @media (prefers-color-scheme: dark) {\n",
       "    /* Redefinition of color scheme for dark theme */\n",
       "    --sklearn-color-text-on-default-background: var(--sg-text-color, var(--theme-code-foreground, var(--jp-content-font-color1, white)));\n",
       "    --sklearn-color-background: var(--sg-background-color, var(--theme-background, var(--jp-layout-color0, #111)));\n",
       "    --sklearn-color-border-box: var(--sg-text-color, var(--theme-code-foreground, var(--jp-content-font-color1, white)));\n",
       "    --sklearn-color-icon: #878787;\n",
       "  }\n",
       "}\n",
       "\n",
       "#sk-container-id-6 {\n",
       "  color: var(--sklearn-color-text);\n",
       "}\n",
       "\n",
       "#sk-container-id-6 pre {\n",
       "  padding: 0;\n",
       "}\n",
       "\n",
       "#sk-container-id-6 input.sk-hidden--visually {\n",
       "  border: 0;\n",
       "  clip: rect(1px 1px 1px 1px);\n",
       "  clip: rect(1px, 1px, 1px, 1px);\n",
       "  height: 1px;\n",
       "  margin: -1px;\n",
       "  overflow: hidden;\n",
       "  padding: 0;\n",
       "  position: absolute;\n",
       "  width: 1px;\n",
       "}\n",
       "\n",
       "#sk-container-id-6 div.sk-dashed-wrapped {\n",
       "  border: 1px dashed var(--sklearn-color-line);\n",
       "  margin: 0 0.4em 0.5em 0.4em;\n",
       "  box-sizing: border-box;\n",
       "  padding-bottom: 0.4em;\n",
       "  background-color: var(--sklearn-color-background);\n",
       "}\n",
       "\n",
       "#sk-container-id-6 div.sk-container {\n",
       "  /* jupyter's `normalize.less` sets `[hidden] { display: none; }`\n",
       "     but bootstrap.min.css set `[hidden] { display: none !important; }`\n",
       "     so we also need the `!important` here to be able to override the\n",
       "     default hidden behavior on the sphinx rendered scikit-learn.org.\n",
       "     See: https://github.com/scikit-learn/scikit-learn/issues/21755 */\n",
       "  display: inline-block !important;\n",
       "  position: relative;\n",
       "}\n",
       "\n",
       "#sk-container-id-6 div.sk-text-repr-fallback {\n",
       "  display: none;\n",
       "}\n",
       "\n",
       "div.sk-parallel-item,\n",
       "div.sk-serial,\n",
       "div.sk-item {\n",
       "  /* draw centered vertical line to link estimators */\n",
       "  background-image: linear-gradient(var(--sklearn-color-text-on-default-background), var(--sklearn-color-text-on-default-background));\n",
       "  background-size: 2px 100%;\n",
       "  background-repeat: no-repeat;\n",
       "  background-position: center center;\n",
       "}\n",
       "\n",
       "/* Parallel-specific style estimator block */\n",
       "\n",
       "#sk-container-id-6 div.sk-parallel-item::after {\n",
       "  content: \"\";\n",
       "  width: 100%;\n",
       "  border-bottom: 2px solid var(--sklearn-color-text-on-default-background);\n",
       "  flex-grow: 1;\n",
       "}\n",
       "\n",
       "#sk-container-id-6 div.sk-parallel {\n",
       "  display: flex;\n",
       "  align-items: stretch;\n",
       "  justify-content: center;\n",
       "  background-color: var(--sklearn-color-background);\n",
       "  position: relative;\n",
       "}\n",
       "\n",
       "#sk-container-id-6 div.sk-parallel-item {\n",
       "  display: flex;\n",
       "  flex-direction: column;\n",
       "}\n",
       "\n",
       "#sk-container-id-6 div.sk-parallel-item:first-child::after {\n",
       "  align-self: flex-end;\n",
       "  width: 50%;\n",
       "}\n",
       "\n",
       "#sk-container-id-6 div.sk-parallel-item:last-child::after {\n",
       "  align-self: flex-start;\n",
       "  width: 50%;\n",
       "}\n",
       "\n",
       "#sk-container-id-6 div.sk-parallel-item:only-child::after {\n",
       "  width: 0;\n",
       "}\n",
       "\n",
       "/* Serial-specific style estimator block */\n",
       "\n",
       "#sk-container-id-6 div.sk-serial {\n",
       "  display: flex;\n",
       "  flex-direction: column;\n",
       "  align-items: center;\n",
       "  background-color: var(--sklearn-color-background);\n",
       "  padding-right: 1em;\n",
       "  padding-left: 1em;\n",
       "}\n",
       "\n",
       "\n",
       "/* Toggleable style: style used for estimator/Pipeline/ColumnTransformer box that is\n",
       "clickable and can be expanded/collapsed.\n",
       "- Pipeline and ColumnTransformer use this feature and define the default style\n",
       "- Estimators will overwrite some part of the style using the `sk-estimator` class\n",
       "*/\n",
       "\n",
       "/* Pipeline and ColumnTransformer style (default) */\n",
       "\n",
       "#sk-container-id-6 div.sk-toggleable {\n",
       "  /* Default theme specific background. It is overwritten whether we have a\n",
       "  specific estimator or a Pipeline/ColumnTransformer */\n",
       "  background-color: var(--sklearn-color-background);\n",
       "}\n",
       "\n",
       "/* Toggleable label */\n",
       "#sk-container-id-6 label.sk-toggleable__label {\n",
       "  cursor: pointer;\n",
       "  display: block;\n",
       "  width: 100%;\n",
       "  margin-bottom: 0;\n",
       "  padding: 0.5em;\n",
       "  box-sizing: border-box;\n",
       "  text-align: center;\n",
       "}\n",
       "\n",
       "#sk-container-id-6 label.sk-toggleable__label-arrow:before {\n",
       "  /* Arrow on the left of the label */\n",
       "  content: \"▸\";\n",
       "  float: left;\n",
       "  margin-right: 0.25em;\n",
       "  color: var(--sklearn-color-icon);\n",
       "}\n",
       "\n",
       "#sk-container-id-6 label.sk-toggleable__label-arrow:hover:before {\n",
       "  color: var(--sklearn-color-text);\n",
       "}\n",
       "\n",
       "/* Toggleable content - dropdown */\n",
       "\n",
       "#sk-container-id-6 div.sk-toggleable__content {\n",
       "  max-height: 0;\n",
       "  max-width: 0;\n",
       "  overflow: hidden;\n",
       "  text-align: left;\n",
       "  /* unfitted */\n",
       "  background-color: var(--sklearn-color-unfitted-level-0);\n",
       "}\n",
       "\n",
       "#sk-container-id-6 div.sk-toggleable__content.fitted {\n",
       "  /* fitted */\n",
       "  background-color: var(--sklearn-color-fitted-level-0);\n",
       "}\n",
       "\n",
       "#sk-container-id-6 div.sk-toggleable__content pre {\n",
       "  margin: 0.2em;\n",
       "  border-radius: 0.25em;\n",
       "  color: var(--sklearn-color-text);\n",
       "  /* unfitted */\n",
       "  background-color: var(--sklearn-color-unfitted-level-0);\n",
       "}\n",
       "\n",
       "#sk-container-id-6 div.sk-toggleable__content.fitted pre {\n",
       "  /* unfitted */\n",
       "  background-color: var(--sklearn-color-fitted-level-0);\n",
       "}\n",
       "\n",
       "#sk-container-id-6 input.sk-toggleable__control:checked~div.sk-toggleable__content {\n",
       "  /* Expand drop-down */\n",
       "  max-height: 200px;\n",
       "  max-width: 100%;\n",
       "  overflow: auto;\n",
       "}\n",
       "\n",
       "#sk-container-id-6 input.sk-toggleable__control:checked~label.sk-toggleable__label-arrow:before {\n",
       "  content: \"▾\";\n",
       "}\n",
       "\n",
       "/* Pipeline/ColumnTransformer-specific style */\n",
       "\n",
       "#sk-container-id-6 div.sk-label input.sk-toggleable__control:checked~label.sk-toggleable__label {\n",
       "  color: var(--sklearn-color-text);\n",
       "  background-color: var(--sklearn-color-unfitted-level-2);\n",
       "}\n",
       "\n",
       "#sk-container-id-6 div.sk-label.fitted input.sk-toggleable__control:checked~label.sk-toggleable__label {\n",
       "  background-color: var(--sklearn-color-fitted-level-2);\n",
       "}\n",
       "\n",
       "/* Estimator-specific style */\n",
       "\n",
       "/* Colorize estimator box */\n",
       "#sk-container-id-6 div.sk-estimator input.sk-toggleable__control:checked~label.sk-toggleable__label {\n",
       "  /* unfitted */\n",
       "  background-color: var(--sklearn-color-unfitted-level-2);\n",
       "}\n",
       "\n",
       "#sk-container-id-6 div.sk-estimator.fitted input.sk-toggleable__control:checked~label.sk-toggleable__label {\n",
       "  /* fitted */\n",
       "  background-color: var(--sklearn-color-fitted-level-2);\n",
       "}\n",
       "\n",
       "#sk-container-id-6 div.sk-label label.sk-toggleable__label,\n",
       "#sk-container-id-6 div.sk-label label {\n",
       "  /* The background is the default theme color */\n",
       "  color: var(--sklearn-color-text-on-default-background);\n",
       "}\n",
       "\n",
       "/* On hover, darken the color of the background */\n",
       "#sk-container-id-6 div.sk-label:hover label.sk-toggleable__label {\n",
       "  color: var(--sklearn-color-text);\n",
       "  background-color: var(--sklearn-color-unfitted-level-2);\n",
       "}\n",
       "\n",
       "/* Label box, darken color on hover, fitted */\n",
       "#sk-container-id-6 div.sk-label.fitted:hover label.sk-toggleable__label.fitted {\n",
       "  color: var(--sklearn-color-text);\n",
       "  background-color: var(--sklearn-color-fitted-level-2);\n",
       "}\n",
       "\n",
       "/* Estimator label */\n",
       "\n",
       "#sk-container-id-6 div.sk-label label {\n",
       "  font-family: monospace;\n",
       "  font-weight: bold;\n",
       "  display: inline-block;\n",
       "  line-height: 1.2em;\n",
       "}\n",
       "\n",
       "#sk-container-id-6 div.sk-label-container {\n",
       "  text-align: center;\n",
       "}\n",
       "\n",
       "/* Estimator-specific */\n",
       "#sk-container-id-6 div.sk-estimator {\n",
       "  font-family: monospace;\n",
       "  border: 1px dotted var(--sklearn-color-border-box);\n",
       "  border-radius: 0.25em;\n",
       "  box-sizing: border-box;\n",
       "  margin-bottom: 0.5em;\n",
       "  /* unfitted */\n",
       "  background-color: var(--sklearn-color-unfitted-level-0);\n",
       "}\n",
       "\n",
       "#sk-container-id-6 div.sk-estimator.fitted {\n",
       "  /* fitted */\n",
       "  background-color: var(--sklearn-color-fitted-level-0);\n",
       "}\n",
       "\n",
       "/* on hover */\n",
       "#sk-container-id-6 div.sk-estimator:hover {\n",
       "  /* unfitted */\n",
       "  background-color: var(--sklearn-color-unfitted-level-2);\n",
       "}\n",
       "\n",
       "#sk-container-id-6 div.sk-estimator.fitted:hover {\n",
       "  /* fitted */\n",
       "  background-color: var(--sklearn-color-fitted-level-2);\n",
       "}\n",
       "\n",
       "/* Specification for estimator info (e.g. \"i\" and \"?\") */\n",
       "\n",
       "/* Common style for \"i\" and \"?\" */\n",
       "\n",
       ".sk-estimator-doc-link,\n",
       "a:link.sk-estimator-doc-link,\n",
       "a:visited.sk-estimator-doc-link {\n",
       "  float: right;\n",
       "  font-size: smaller;\n",
       "  line-height: 1em;\n",
       "  font-family: monospace;\n",
       "  background-color: var(--sklearn-color-background);\n",
       "  border-radius: 1em;\n",
       "  height: 1em;\n",
       "  width: 1em;\n",
       "  text-decoration: none !important;\n",
       "  margin-left: 1ex;\n",
       "  /* unfitted */\n",
       "  border: var(--sklearn-color-unfitted-level-1) 1pt solid;\n",
       "  color: var(--sklearn-color-unfitted-level-1);\n",
       "}\n",
       "\n",
       ".sk-estimator-doc-link.fitted,\n",
       "a:link.sk-estimator-doc-link.fitted,\n",
       "a:visited.sk-estimator-doc-link.fitted {\n",
       "  /* fitted */\n",
       "  border: var(--sklearn-color-fitted-level-1) 1pt solid;\n",
       "  color: var(--sklearn-color-fitted-level-1);\n",
       "}\n",
       "\n",
       "/* On hover */\n",
       "div.sk-estimator:hover .sk-estimator-doc-link:hover,\n",
       ".sk-estimator-doc-link:hover,\n",
       "div.sk-label-container:hover .sk-estimator-doc-link:hover,\n",
       ".sk-estimator-doc-link:hover {\n",
       "  /* unfitted */\n",
       "  background-color: var(--sklearn-color-unfitted-level-3);\n",
       "  color: var(--sklearn-color-background);\n",
       "  text-decoration: none;\n",
       "}\n",
       "\n",
       "div.sk-estimator.fitted:hover .sk-estimator-doc-link.fitted:hover,\n",
       ".sk-estimator-doc-link.fitted:hover,\n",
       "div.sk-label-container:hover .sk-estimator-doc-link.fitted:hover,\n",
       ".sk-estimator-doc-link.fitted:hover {\n",
       "  /* fitted */\n",
       "  background-color: var(--sklearn-color-fitted-level-3);\n",
       "  color: var(--sklearn-color-background);\n",
       "  text-decoration: none;\n",
       "}\n",
       "\n",
       "/* Span, style for the box shown on hovering the info icon */\n",
       ".sk-estimator-doc-link span {\n",
       "  display: none;\n",
       "  z-index: 9999;\n",
       "  position: relative;\n",
       "  font-weight: normal;\n",
       "  right: .2ex;\n",
       "  padding: .5ex;\n",
       "  margin: .5ex;\n",
       "  width: min-content;\n",
       "  min-width: 20ex;\n",
       "  max-width: 50ex;\n",
       "  color: var(--sklearn-color-text);\n",
       "  box-shadow: 2pt 2pt 4pt #999;\n",
       "  /* unfitted */\n",
       "  background: var(--sklearn-color-unfitted-level-0);\n",
       "  border: .5pt solid var(--sklearn-color-unfitted-level-3);\n",
       "}\n",
       "\n",
       ".sk-estimator-doc-link.fitted span {\n",
       "  /* fitted */\n",
       "  background: var(--sklearn-color-fitted-level-0);\n",
       "  border: var(--sklearn-color-fitted-level-3);\n",
       "}\n",
       "\n",
       ".sk-estimator-doc-link:hover span {\n",
       "  display: block;\n",
       "}\n",
       "\n",
       "/* \"?\"-specific style due to the `<a>` HTML tag */\n",
       "\n",
       "#sk-container-id-6 a.estimator_doc_link {\n",
       "  float: right;\n",
       "  font-size: 1rem;\n",
       "  line-height: 1em;\n",
       "  font-family: monospace;\n",
       "  background-color: var(--sklearn-color-background);\n",
       "  border-radius: 1rem;\n",
       "  height: 1rem;\n",
       "  width: 1rem;\n",
       "  text-decoration: none;\n",
       "  /* unfitted */\n",
       "  color: var(--sklearn-color-unfitted-level-1);\n",
       "  border: var(--sklearn-color-unfitted-level-1) 1pt solid;\n",
       "}\n",
       "\n",
       "#sk-container-id-6 a.estimator_doc_link.fitted {\n",
       "  /* fitted */\n",
       "  border: var(--sklearn-color-fitted-level-1) 1pt solid;\n",
       "  color: var(--sklearn-color-fitted-level-1);\n",
       "}\n",
       "\n",
       "/* On hover */\n",
       "#sk-container-id-6 a.estimator_doc_link:hover {\n",
       "  /* unfitted */\n",
       "  background-color: var(--sklearn-color-unfitted-level-3);\n",
       "  color: var(--sklearn-color-background);\n",
       "  text-decoration: none;\n",
       "}\n",
       "\n",
       "#sk-container-id-6 a.estimator_doc_link.fitted:hover {\n",
       "  /* fitted */\n",
       "  background-color: var(--sklearn-color-fitted-level-3);\n",
       "}\n",
       "</style><div id=\"sk-container-id-6\" class=\"sk-top-container\"><div class=\"sk-text-repr-fallback\"><pre>RandomForestClassifier(ccp_alpha=0, class_weight={0: 1, 1: 3}, n_estimators=400)</pre><b>In a Jupyter environment, please rerun this cell to show the HTML representation or trust the notebook. <br />On GitHub, the HTML representation is unable to render, please try loading this page with nbviewer.org.</b></div><div class=\"sk-container\" hidden><div class=\"sk-item\"><div class=\"sk-estimator fitted sk-toggleable\"><input class=\"sk-toggleable__control sk-hidden--visually\" id=\"sk-estimator-id-12\" type=\"checkbox\" checked><label for=\"sk-estimator-id-12\" class=\"sk-toggleable__label fitted sk-toggleable__label-arrow fitted\">&nbsp;&nbsp;RandomForestClassifier<a class=\"sk-estimator-doc-link fitted\" rel=\"noreferrer\" target=\"_blank\" href=\"https://scikit-learn.org/1.4/modules/generated/sklearn.ensemble.RandomForestClassifier.html\">?<span>Documentation for RandomForestClassifier</span></a><span class=\"sk-estimator-doc-link fitted\">i<span>Fitted</span></span></label><div class=\"sk-toggleable__content fitted\"><pre>RandomForestClassifier(ccp_alpha=0, class_weight={0: 1, 1: 3}, n_estimators=400)</pre></div> </div></div></div></div>"
      ],
      "text/plain": [
       "RandomForestClassifier(ccp_alpha=0, class_weight={0: 1, 1: 3}, n_estimators=400)"
      ]
     },
     "execution_count": 41,
     "metadata": {},
     "output_type": "execute_result"
    }
   ],
   "source": [
    "RF_best.fit(X_train, y_train)"
   ]
  },
  {
   "cell_type": "code",
   "execution_count": 42,
   "id": "f5771955",
   "metadata": {},
   "outputs": [],
   "source": [
    "predictions = RF_best.predict(X_test)"
   ]
  },
  {
   "cell_type": "code",
   "execution_count": 43,
   "id": "ba722970",
   "metadata": {},
   "outputs": [
    {
     "name": "stdout",
     "output_type": "stream",
     "text": [
      "              precision    recall  f1-score   support\n",
      "\n",
      "           0       0.87      0.91      0.89      1704\n",
      "           1       0.90      0.86      0.88      1670\n",
      "\n",
      "    accuracy                           0.89      3374\n",
      "   macro avg       0.89      0.88      0.88      3374\n",
      "weighted avg       0.89      0.89      0.88      3374\n",
      "\n"
     ]
    }
   ],
   "source": [
    "print(classification_report(y_true=y_test, y_pred=predictions, zero_division=0))"
   ]
  },
  {
   "cell_type": "markdown",
   "id": "3cda2d8eccac887b",
   "metadata": {
    "collapsed": false
   },
   "source": [
    "## Logistic Regression\n"
   ]
  },
  {
   "cell_type": "code",
   "execution_count": 44,
   "id": "81d06631",
   "metadata": {},
   "outputs": [],
   "source": [
    "LR = LogisticRegression(n_jobs=5)"
   ]
  },
  {
   "cell_type": "code",
   "execution_count": 45,
   "id": "b8b44642",
   "metadata": {},
   "outputs": [],
   "source": [
    "param_grid = {\n",
    "    \"tol\": [0.001, 0.0001, 0.00001],\n",
    "    \"solver\": [\"lbfgs\", \"liblinear\"],\n",
    "    \"max_iter\": [2000, 6000, 10000],\n",
    "    \"class_weight\": [\n",
    "        None,\n",
    "        {0: 1, 1: 2},\n",
    "        {0: 1, 1: 3},\n",
    "        {0: 1.5, 1: 2.5},\n",
    "        {0: 1.5, 1: 3},\n",
    "    ],\n",
    "}"
   ]
  },
  {
   "cell_type": "code",
   "execution_count": 46,
   "id": "a22b1c5c",
   "metadata": {},
   "outputs": [],
   "source": [
    "grid_search = GridSearchCV(estimator=LR, param_grid=param_grid, cv=KF, verbose=2)"
   ]
  },
  {
   "cell_type": "code",
   "execution_count": 47,
   "id": "df51492e",
   "metadata": {},
   "outputs": [
    {
     "name": "stdout",
     "output_type": "stream",
     "text": [
      "Fitting 5 folds for each of 90 candidates, totalling 450 fits\n"
     ]
    },
    {
     "name": "stderr",
     "output_type": "stream",
     "text": [
      "/Library/Frameworks/Python.framework/Versions/3.12/lib/python3.12/site-packages/sklearn/linear_model/_logistic.py:469: ConvergenceWarning: lbfgs failed to converge (status=1):\n",
      "STOP: TOTAL NO. of ITERATIONS REACHED LIMIT.\n",
      "\n",
      "Increase the number of iterations (max_iter) or scale the data as shown in:\n",
      "    https://scikit-learn.org/stable/modules/preprocessing.html\n",
      "Please also refer to the documentation for alternative solver options:\n",
      "    https://scikit-learn.org/stable/modules/linear_model.html#logistic-regression\n",
      "  n_iter_i = _check_optimize_result(\n"
     ]
    },
    {
     "name": "stdout",
     "output_type": "stream",
     "text": [
      "[CV] END class_weight=None, max_iter=2000, solver=lbfgs, tol=0.001; total time=   5.1s\n"
     ]
    },
    {
     "name": "stderr",
     "output_type": "stream",
     "text": [
      "/Library/Frameworks/Python.framework/Versions/3.12/lib/python3.12/site-packages/sklearn/linear_model/_logistic.py:469: ConvergenceWarning: lbfgs failed to converge (status=1):\n",
      "STOP: TOTAL NO. of ITERATIONS REACHED LIMIT.\n",
      "\n",
      "Increase the number of iterations (max_iter) or scale the data as shown in:\n",
      "    https://scikit-learn.org/stable/modules/preprocessing.html\n",
      "Please also refer to the documentation for alternative solver options:\n",
      "    https://scikit-learn.org/stable/modules/linear_model.html#logistic-regression\n",
      "  n_iter_i = _check_optimize_result(\n"
     ]
    },
    {
     "name": "stdout",
     "output_type": "stream",
     "text": [
      "[CV] END class_weight=None, max_iter=2000, solver=lbfgs, tol=0.001; total time=   4.9s\n"
     ]
    },
    {
     "name": "stderr",
     "output_type": "stream",
     "text": [
      "/Library/Frameworks/Python.framework/Versions/3.12/lib/python3.12/site-packages/sklearn/linear_model/_logistic.py:469: ConvergenceWarning: lbfgs failed to converge (status=1):\n",
      "STOP: TOTAL NO. of ITERATIONS REACHED LIMIT.\n",
      "\n",
      "Increase the number of iterations (max_iter) or scale the data as shown in:\n",
      "    https://scikit-learn.org/stable/modules/preprocessing.html\n",
      "Please also refer to the documentation for alternative solver options:\n",
      "    https://scikit-learn.org/stable/modules/linear_model.html#logistic-regression\n",
      "  n_iter_i = _check_optimize_result(\n"
     ]
    },
    {
     "name": "stdout",
     "output_type": "stream",
     "text": [
      "[CV] END class_weight=None, max_iter=2000, solver=lbfgs, tol=0.001; total time=   4.7s\n"
     ]
    },
    {
     "name": "stderr",
     "output_type": "stream",
     "text": [
      "/Library/Frameworks/Python.framework/Versions/3.12/lib/python3.12/site-packages/sklearn/linear_model/_logistic.py:469: ConvergenceWarning: lbfgs failed to converge (status=1):\n",
      "STOP: TOTAL NO. of ITERATIONS REACHED LIMIT.\n",
      "\n",
      "Increase the number of iterations (max_iter) or scale the data as shown in:\n",
      "    https://scikit-learn.org/stable/modules/preprocessing.html\n",
      "Please also refer to the documentation for alternative solver options:\n",
      "    https://scikit-learn.org/stable/modules/linear_model.html#logistic-regression\n",
      "  n_iter_i = _check_optimize_result(\n"
     ]
    },
    {
     "name": "stdout",
     "output_type": "stream",
     "text": [
      "[CV] END class_weight=None, max_iter=2000, solver=lbfgs, tol=0.001; total time=   4.8s\n",
      "[CV] END class_weight=None, max_iter=2000, solver=lbfgs, tol=0.001; total time=   5.5s\n"
     ]
    },
    {
     "name": "stderr",
     "output_type": "stream",
     "text": [
      "/Library/Frameworks/Python.framework/Versions/3.12/lib/python3.12/site-packages/sklearn/linear_model/_logistic.py:469: ConvergenceWarning: lbfgs failed to converge (status=1):\n",
      "STOP: TOTAL NO. of ITERATIONS REACHED LIMIT.\n",
      "\n",
      "Increase the number of iterations (max_iter) or scale the data as shown in:\n",
      "    https://scikit-learn.org/stable/modules/preprocessing.html\n",
      "Please also refer to the documentation for alternative solver options:\n",
      "    https://scikit-learn.org/stable/modules/linear_model.html#logistic-regression\n",
      "  n_iter_i = _check_optimize_result(\n"
     ]
    },
    {
     "name": "stdout",
     "output_type": "stream",
     "text": [
      "[CV] END class_weight=None, max_iter=2000, solver=lbfgs, tol=0.0001; total time=   4.8s\n",
      "[CV] END class_weight=None, max_iter=2000, solver=lbfgs, tol=0.0001; total time=   5.5s\n",
      "[CV] END class_weight=None, max_iter=2000, solver=lbfgs, tol=0.0001; total time=   5.4s\n",
      "[CV] END class_weight=None, max_iter=2000, solver=lbfgs, tol=0.0001; total time=   5.5s\n",
      "[CV] END class_weight=None, max_iter=2000, solver=lbfgs, tol=0.0001; total time=   5.6s\n",
      "[CV] END class_weight=None, max_iter=2000, solver=lbfgs, tol=1e-05; total time=   5.5s\n",
      "[CV] END class_weight=None, max_iter=2000, solver=lbfgs, tol=1e-05; total time=   5.6s\n",
      "[CV] END class_weight=None, max_iter=2000, solver=lbfgs, tol=1e-05; total time=   5.4s\n",
      "[CV] END class_weight=None, max_iter=2000, solver=lbfgs, tol=1e-05; total time=   5.5s\n",
      "[CV] END class_weight=None, max_iter=2000, solver=lbfgs, tol=1e-05; total time=   5.5s\n"
     ]
    },
    {
     "name": "stderr",
     "output_type": "stream",
     "text": [
      "/Library/Frameworks/Python.framework/Versions/3.12/lib/python3.12/site-packages/sklearn/linear_model/_logistic.py:1216: UserWarning: 'n_jobs' > 1 does not have any effect when 'solver' is set to 'liblinear'. Got 'n_jobs' = 5.\n",
      "  warnings.warn(\n"
     ]
    },
    {
     "name": "stdout",
     "output_type": "stream",
     "text": [
      "[CV] END class_weight=None, max_iter=2000, solver=liblinear, tol=0.001; total time=   3.7s\n"
     ]
    },
    {
     "name": "stderr",
     "output_type": "stream",
     "text": [
      "/Library/Frameworks/Python.framework/Versions/3.12/lib/python3.12/site-packages/sklearn/linear_model/_logistic.py:1216: UserWarning: 'n_jobs' > 1 does not have any effect when 'solver' is set to 'liblinear'. Got 'n_jobs' = 5.\n",
      "  warnings.warn(\n"
     ]
    },
    {
     "name": "stdout",
     "output_type": "stream",
     "text": [
      "[CV] END class_weight=None, max_iter=2000, solver=liblinear, tol=0.001; total time=   5.6s\n"
     ]
    },
    {
     "name": "stderr",
     "output_type": "stream",
     "text": [
      "/Library/Frameworks/Python.framework/Versions/3.12/lib/python3.12/site-packages/sklearn/linear_model/_logistic.py:1216: UserWarning: 'n_jobs' > 1 does not have any effect when 'solver' is set to 'liblinear'. Got 'n_jobs' = 5.\n",
      "  warnings.warn(\n"
     ]
    },
    {
     "name": "stdout",
     "output_type": "stream",
     "text": [
      "[CV] END class_weight=None, max_iter=2000, solver=liblinear, tol=0.001; total time=   5.0s\n"
     ]
    },
    {
     "name": "stderr",
     "output_type": "stream",
     "text": [
      "/Library/Frameworks/Python.framework/Versions/3.12/lib/python3.12/site-packages/sklearn/linear_model/_logistic.py:1216: UserWarning: 'n_jobs' > 1 does not have any effect when 'solver' is set to 'liblinear'. Got 'n_jobs' = 5.\n",
      "  warnings.warn(\n"
     ]
    },
    {
     "name": "stdout",
     "output_type": "stream",
     "text": [
      "[CV] END class_weight=None, max_iter=2000, solver=liblinear, tol=0.001; total time=   6.1s\n"
     ]
    },
    {
     "name": "stderr",
     "output_type": "stream",
     "text": [
      "/Library/Frameworks/Python.framework/Versions/3.12/lib/python3.12/site-packages/sklearn/linear_model/_logistic.py:1216: UserWarning: 'n_jobs' > 1 does not have any effect when 'solver' is set to 'liblinear'. Got 'n_jobs' = 5.\n",
      "  warnings.warn(\n"
     ]
    },
    {
     "name": "stdout",
     "output_type": "stream",
     "text": [
      "[CV] END class_weight=None, max_iter=2000, solver=liblinear, tol=0.001; total time=   5.9s\n"
     ]
    },
    {
     "name": "stderr",
     "output_type": "stream",
     "text": [
      "/Library/Frameworks/Python.framework/Versions/3.12/lib/python3.12/site-packages/sklearn/linear_model/_logistic.py:1216: UserWarning: 'n_jobs' > 1 does not have any effect when 'solver' is set to 'liblinear'. Got 'n_jobs' = 5.\n",
      "  warnings.warn(\n"
     ]
    },
    {
     "name": "stdout",
     "output_type": "stream",
     "text": [
      "[CV] END class_weight=None, max_iter=2000, solver=liblinear, tol=0.0001; total time=   9.6s\n"
     ]
    },
    {
     "name": "stderr",
     "output_type": "stream",
     "text": [
      "/Library/Frameworks/Python.framework/Versions/3.12/lib/python3.12/site-packages/sklearn/linear_model/_logistic.py:1216: UserWarning: 'n_jobs' > 1 does not have any effect when 'solver' is set to 'liblinear'. Got 'n_jobs' = 5.\n",
      "  warnings.warn(\n",
      "/Library/Frameworks/Python.framework/Versions/3.12/lib/python3.12/site-packages/sklearn/svm/_base.py:1237: ConvergenceWarning: Liblinear failed to converge, increase the number of iterations.\n",
      "  warnings.warn(\n",
      "/Library/Frameworks/Python.framework/Versions/3.12/lib/python3.12/site-packages/sklearn/linear_model/_logistic.py:1216: UserWarning: 'n_jobs' > 1 does not have any effect when 'solver' is set to 'liblinear'. Got 'n_jobs' = 5.\n",
      "  warnings.warn(\n"
     ]
    },
    {
     "name": "stdout",
     "output_type": "stream",
     "text": [
      "[CV] END class_weight=None, max_iter=2000, solver=liblinear, tol=0.0001; total time=   9.5s\n",
      "[CV] END class_weight=None, max_iter=2000, solver=liblinear, tol=0.0001; total time=  11.9s\n"
     ]
    },
    {
     "name": "stderr",
     "output_type": "stream",
     "text": [
      "/Library/Frameworks/Python.framework/Versions/3.12/lib/python3.12/site-packages/sklearn/linear_model/_logistic.py:1216: UserWarning: 'n_jobs' > 1 does not have any effect when 'solver' is set to 'liblinear'. Got 'n_jobs' = 5.\n",
      "  warnings.warn(\n"
     ]
    },
    {
     "name": "stdout",
     "output_type": "stream",
     "text": [
      "[CV] END class_weight=None, max_iter=2000, solver=liblinear, tol=0.0001; total time=   9.6s\n"
     ]
    },
    {
     "name": "stderr",
     "output_type": "stream",
     "text": [
      "/Library/Frameworks/Python.framework/Versions/3.12/lib/python3.12/site-packages/sklearn/linear_model/_logistic.py:1216: UserWarning: 'n_jobs' > 1 does not have any effect when 'solver' is set to 'liblinear'. Got 'n_jobs' = 5.\n",
      "  warnings.warn(\n",
      "/Library/Frameworks/Python.framework/Versions/3.12/lib/python3.12/site-packages/sklearn/svm/_base.py:1237: ConvergenceWarning: Liblinear failed to converge, increase the number of iterations.\n",
      "  warnings.warn(\n",
      "/Library/Frameworks/Python.framework/Versions/3.12/lib/python3.12/site-packages/sklearn/linear_model/_logistic.py:1216: UserWarning: 'n_jobs' > 1 does not have any effect when 'solver' is set to 'liblinear'. Got 'n_jobs' = 5.\n",
      "  warnings.warn(\n"
     ]
    },
    {
     "name": "stdout",
     "output_type": "stream",
     "text": [
      "[CV] END class_weight=None, max_iter=2000, solver=liblinear, tol=0.0001; total time=   8.0s\n",
      "[CV] END class_weight=None, max_iter=2000, solver=liblinear, tol=1e-05; total time=  12.5s\n"
     ]
    },
    {
     "name": "stderr",
     "output_type": "stream",
     "text": [
      "/Library/Frameworks/Python.framework/Versions/3.12/lib/python3.12/site-packages/sklearn/linear_model/_logistic.py:1216: UserWarning: 'n_jobs' > 1 does not have any effect when 'solver' is set to 'liblinear'. Got 'n_jobs' = 5.\n",
      "  warnings.warn(\n",
      "/Library/Frameworks/Python.framework/Versions/3.12/lib/python3.12/site-packages/sklearn/svm/_base.py:1237: ConvergenceWarning: Liblinear failed to converge, increase the number of iterations.\n",
      "  warnings.warn(\n",
      "/Library/Frameworks/Python.framework/Versions/3.12/lib/python3.12/site-packages/sklearn/linear_model/_logistic.py:1216: UserWarning: 'n_jobs' > 1 does not have any effect when 'solver' is set to 'liblinear'. Got 'n_jobs' = 5.\n",
      "  warnings.warn(\n"
     ]
    },
    {
     "name": "stdout",
     "output_type": "stream",
     "text": [
      "[CV] END class_weight=None, max_iter=2000, solver=liblinear, tol=1e-05; total time=   9.5s\n",
      "[CV] END class_weight=None, max_iter=2000, solver=liblinear, tol=1e-05; total time=  13.1s\n"
     ]
    },
    {
     "name": "stderr",
     "output_type": "stream",
     "text": [
      "/Library/Frameworks/Python.framework/Versions/3.12/lib/python3.12/site-packages/sklearn/linear_model/_logistic.py:1216: UserWarning: 'n_jobs' > 1 does not have any effect when 'solver' is set to 'liblinear'. Got 'n_jobs' = 5.\n",
      "  warnings.warn(\n"
     ]
    },
    {
     "name": "stdout",
     "output_type": "stream",
     "text": [
      "[CV] END class_weight=None, max_iter=2000, solver=liblinear, tol=1e-05; total time=  10.2s\n"
     ]
    },
    {
     "name": "stderr",
     "output_type": "stream",
     "text": [
      "/Library/Frameworks/Python.framework/Versions/3.12/lib/python3.12/site-packages/sklearn/linear_model/_logistic.py:1216: UserWarning: 'n_jobs' > 1 does not have any effect when 'solver' is set to 'liblinear'. Got 'n_jobs' = 5.\n",
      "  warnings.warn(\n",
      "/Library/Frameworks/Python.framework/Versions/3.12/lib/python3.12/site-packages/sklearn/svm/_base.py:1237: ConvergenceWarning: Liblinear failed to converge, increase the number of iterations.\n",
      "  warnings.warn(\n"
     ]
    },
    {
     "name": "stdout",
     "output_type": "stream",
     "text": [
      "[CV] END class_weight=None, max_iter=2000, solver=liblinear, tol=1e-05; total time=   7.9s\n",
      "[CV] END class_weight=None, max_iter=6000, solver=lbfgs, tol=0.001; total time=   9.9s\n",
      "[CV] END class_weight=None, max_iter=6000, solver=lbfgs, tol=0.001; total time=  11.1s\n",
      "[CV] END class_weight=None, max_iter=6000, solver=lbfgs, tol=0.001; total time=  10.9s\n",
      "[CV] END class_weight=None, max_iter=6000, solver=lbfgs, tol=0.001; total time=  10.7s\n",
      "[CV] END class_weight=None, max_iter=6000, solver=lbfgs, tol=0.001; total time=  11.1s\n",
      "[CV] END class_weight=None, max_iter=6000, solver=lbfgs, tol=0.0001; total time=  14.0s\n",
      "[CV] END class_weight=None, max_iter=6000, solver=lbfgs, tol=0.0001; total time=  13.9s\n",
      "[CV] END class_weight=None, max_iter=6000, solver=lbfgs, tol=0.0001; total time=  14.0s\n",
      "[CV] END class_weight=None, max_iter=6000, solver=lbfgs, tol=0.0001; total time=  14.1s\n",
      "[CV] END class_weight=None, max_iter=6000, solver=lbfgs, tol=0.0001; total time=  13.8s\n",
      "[CV] END class_weight=None, max_iter=6000, solver=lbfgs, tol=1e-05; total time=  14.0s\n",
      "[CV] END class_weight=None, max_iter=6000, solver=lbfgs, tol=1e-05; total time=  14.0s\n",
      "[CV] END class_weight=None, max_iter=6000, solver=lbfgs, tol=1e-05; total time=  14.1s\n",
      "[CV] END class_weight=None, max_iter=6000, solver=lbfgs, tol=1e-05; total time=  13.9s\n",
      "[CV] END class_weight=None, max_iter=6000, solver=lbfgs, tol=1e-05; total time=  13.9s\n"
     ]
    },
    {
     "name": "stderr",
     "output_type": "stream",
     "text": [
      "/Library/Frameworks/Python.framework/Versions/3.12/lib/python3.12/site-packages/sklearn/linear_model/_logistic.py:1216: UserWarning: 'n_jobs' > 1 does not have any effect when 'solver' is set to 'liblinear'. Got 'n_jobs' = 5.\n",
      "  warnings.warn(\n"
     ]
    },
    {
     "name": "stdout",
     "output_type": "stream",
     "text": [
      "[CV] END class_weight=None, max_iter=6000, solver=liblinear, tol=0.001; total time=   3.6s\n"
     ]
    },
    {
     "name": "stderr",
     "output_type": "stream",
     "text": [
      "/Library/Frameworks/Python.framework/Versions/3.12/lib/python3.12/site-packages/sklearn/linear_model/_logistic.py:1216: UserWarning: 'n_jobs' > 1 does not have any effect when 'solver' is set to 'liblinear'. Got 'n_jobs' = 5.\n",
      "  warnings.warn(\n"
     ]
    },
    {
     "name": "stdout",
     "output_type": "stream",
     "text": [
      "[CV] END class_weight=None, max_iter=6000, solver=liblinear, tol=0.001; total time=   5.6s\n"
     ]
    },
    {
     "name": "stderr",
     "output_type": "stream",
     "text": [
      "/Library/Frameworks/Python.framework/Versions/3.12/lib/python3.12/site-packages/sklearn/linear_model/_logistic.py:1216: UserWarning: 'n_jobs' > 1 does not have any effect when 'solver' is set to 'liblinear'. Got 'n_jobs' = 5.\n",
      "  warnings.warn(\n"
     ]
    },
    {
     "name": "stdout",
     "output_type": "stream",
     "text": [
      "[CV] END class_weight=None, max_iter=6000, solver=liblinear, tol=0.001; total time=   4.9s\n"
     ]
    },
    {
     "name": "stderr",
     "output_type": "stream",
     "text": [
      "/Library/Frameworks/Python.framework/Versions/3.12/lib/python3.12/site-packages/sklearn/linear_model/_logistic.py:1216: UserWarning: 'n_jobs' > 1 does not have any effect when 'solver' is set to 'liblinear'. Got 'n_jobs' = 5.\n",
      "  warnings.warn(\n"
     ]
    },
    {
     "name": "stdout",
     "output_type": "stream",
     "text": [
      "[CV] END class_weight=None, max_iter=6000, solver=liblinear, tol=0.001; total time=   6.0s\n"
     ]
    },
    {
     "name": "stderr",
     "output_type": "stream",
     "text": [
      "/Library/Frameworks/Python.framework/Versions/3.12/lib/python3.12/site-packages/sklearn/linear_model/_logistic.py:1216: UserWarning: 'n_jobs' > 1 does not have any effect when 'solver' is set to 'liblinear'. Got 'n_jobs' = 5.\n",
      "  warnings.warn(\n"
     ]
    },
    {
     "name": "stdout",
     "output_type": "stream",
     "text": [
      "[CV] END class_weight=None, max_iter=6000, solver=liblinear, tol=0.001; total time=   5.8s\n"
     ]
    },
    {
     "name": "stderr",
     "output_type": "stream",
     "text": [
      "/Library/Frameworks/Python.framework/Versions/3.12/lib/python3.12/site-packages/sklearn/linear_model/_logistic.py:1216: UserWarning: 'n_jobs' > 1 does not have any effect when 'solver' is set to 'liblinear'. Got 'n_jobs' = 5.\n",
      "  warnings.warn(\n"
     ]
    },
    {
     "name": "stdout",
     "output_type": "stream",
     "text": [
      "[CV] END class_weight=None, max_iter=6000, solver=liblinear, tol=0.0001; total time=   9.6s\n"
     ]
    },
    {
     "name": "stderr",
     "output_type": "stream",
     "text": [
      "/Library/Frameworks/Python.framework/Versions/3.12/lib/python3.12/site-packages/sklearn/linear_model/_logistic.py:1216: UserWarning: 'n_jobs' > 1 does not have any effect when 'solver' is set to 'liblinear'. Got 'n_jobs' = 5.\n",
      "  warnings.warn(\n"
     ]
    },
    {
     "name": "stdout",
     "output_type": "stream",
     "text": [
      "[CV] END class_weight=None, max_iter=6000, solver=liblinear, tol=0.0001; total time=  12.9s\n"
     ]
    },
    {
     "name": "stderr",
     "output_type": "stream",
     "text": [
      "/Library/Frameworks/Python.framework/Versions/3.12/lib/python3.12/site-packages/sklearn/linear_model/_logistic.py:1216: UserWarning: 'n_jobs' > 1 does not have any effect when 'solver' is set to 'liblinear'. Got 'n_jobs' = 5.\n",
      "  warnings.warn(\n"
     ]
    },
    {
     "name": "stdout",
     "output_type": "stream",
     "text": [
      "[CV] END class_weight=None, max_iter=6000, solver=liblinear, tol=0.0001; total time=  11.8s\n"
     ]
    },
    {
     "name": "stderr",
     "output_type": "stream",
     "text": [
      "/Library/Frameworks/Python.framework/Versions/3.12/lib/python3.12/site-packages/sklearn/linear_model/_logistic.py:1216: UserWarning: 'n_jobs' > 1 does not have any effect when 'solver' is set to 'liblinear'. Got 'n_jobs' = 5.\n",
      "  warnings.warn(\n"
     ]
    },
    {
     "name": "stdout",
     "output_type": "stream",
     "text": [
      "[CV] END class_weight=None, max_iter=6000, solver=liblinear, tol=0.0001; total time=   9.6s\n"
     ]
    },
    {
     "name": "stderr",
     "output_type": "stream",
     "text": [
      "/Library/Frameworks/Python.framework/Versions/3.12/lib/python3.12/site-packages/sklearn/linear_model/_logistic.py:1216: UserWarning: 'n_jobs' > 1 does not have any effect when 'solver' is set to 'liblinear'. Got 'n_jobs' = 5.\n",
      "  warnings.warn(\n"
     ]
    },
    {
     "name": "stdout",
     "output_type": "stream",
     "text": [
      "[CV] END class_weight=None, max_iter=6000, solver=liblinear, tol=0.0001; total time=  14.0s\n"
     ]
    },
    {
     "name": "stderr",
     "output_type": "stream",
     "text": [
      "/Library/Frameworks/Python.framework/Versions/3.12/lib/python3.12/site-packages/sklearn/linear_model/_logistic.py:1216: UserWarning: 'n_jobs' > 1 does not have any effect when 'solver' is set to 'liblinear'. Got 'n_jobs' = 5.\n",
      "  warnings.warn(\n"
     ]
    },
    {
     "name": "stdout",
     "output_type": "stream",
     "text": [
      "[CV] END class_weight=None, max_iter=6000, solver=liblinear, tol=1e-05; total time=  12.5s\n"
     ]
    },
    {
     "name": "stderr",
     "output_type": "stream",
     "text": [
      "/Library/Frameworks/Python.framework/Versions/3.12/lib/python3.12/site-packages/sklearn/linear_model/_logistic.py:1216: UserWarning: 'n_jobs' > 1 does not have any effect when 'solver' is set to 'liblinear'. Got 'n_jobs' = 5.\n",
      "  warnings.warn(\n"
     ]
    },
    {
     "name": "stdout",
     "output_type": "stream",
     "text": [
      "[CV] END class_weight=None, max_iter=6000, solver=liblinear, tol=1e-05; total time=  13.7s\n"
     ]
    },
    {
     "name": "stderr",
     "output_type": "stream",
     "text": [
      "/Library/Frameworks/Python.framework/Versions/3.12/lib/python3.12/site-packages/sklearn/linear_model/_logistic.py:1216: UserWarning: 'n_jobs' > 1 does not have any effect when 'solver' is set to 'liblinear'. Got 'n_jobs' = 5.\n",
      "  warnings.warn(\n"
     ]
    },
    {
     "name": "stdout",
     "output_type": "stream",
     "text": [
      "[CV] END class_weight=None, max_iter=6000, solver=liblinear, tol=1e-05; total time=  13.1s\n"
     ]
    },
    {
     "name": "stderr",
     "output_type": "stream",
     "text": [
      "/Library/Frameworks/Python.framework/Versions/3.12/lib/python3.12/site-packages/sklearn/linear_model/_logistic.py:1216: UserWarning: 'n_jobs' > 1 does not have any effect when 'solver' is set to 'liblinear'. Got 'n_jobs' = 5.\n",
      "  warnings.warn(\n"
     ]
    },
    {
     "name": "stdout",
     "output_type": "stream",
     "text": [
      "[CV] END class_weight=None, max_iter=6000, solver=liblinear, tol=1e-05; total time=  10.2s\n"
     ]
    },
    {
     "name": "stderr",
     "output_type": "stream",
     "text": [
      "/Library/Frameworks/Python.framework/Versions/3.12/lib/python3.12/site-packages/sklearn/linear_model/_logistic.py:1216: UserWarning: 'n_jobs' > 1 does not have any effect when 'solver' is set to 'liblinear'. Got 'n_jobs' = 5.\n",
      "  warnings.warn(\n"
     ]
    },
    {
     "name": "stdout",
     "output_type": "stream",
     "text": [
      "[CV] END class_weight=None, max_iter=6000, solver=liblinear, tol=1e-05; total time=  15.3s\n",
      "[CV] END class_weight=None, max_iter=10000, solver=lbfgs, tol=0.001; total time=   9.8s\n",
      "[CV] END class_weight=None, max_iter=10000, solver=lbfgs, tol=0.001; total time=  11.2s\n",
      "[CV] END class_weight=None, max_iter=10000, solver=lbfgs, tol=0.001; total time=  11.0s\n",
      "[CV] END class_weight=None, max_iter=10000, solver=lbfgs, tol=0.001; total time=   9.8s\n",
      "[CV] END class_weight=None, max_iter=10000, solver=lbfgs, tol=0.001; total time=  11.1s\n",
      "[CV] END class_weight=None, max_iter=10000, solver=lbfgs, tol=0.0001; total time=  15.1s\n",
      "[CV] END class_weight=None, max_iter=10000, solver=lbfgs, tol=0.0001; total time=  21.6s\n",
      "[CV] END class_weight=None, max_iter=10000, solver=lbfgs, tol=0.0001; total time=  19.4s\n",
      "[CV] END class_weight=None, max_iter=10000, solver=lbfgs, tol=0.0001; total time=  18.4s\n",
      "[CV] END class_weight=None, max_iter=10000, solver=lbfgs, tol=0.0001; total time=  22.1s\n",
      "[CV] END class_weight=None, max_iter=10000, solver=lbfgs, tol=1e-05; total time=  22.6s\n"
     ]
    },
    {
     "name": "stderr",
     "output_type": "stream",
     "text": [
      "/Library/Frameworks/Python.framework/Versions/3.12/lib/python3.12/site-packages/sklearn/linear_model/_logistic.py:469: ConvergenceWarning: lbfgs failed to converge (status=1):\n",
      "STOP: TOTAL NO. of ITERATIONS REACHED LIMIT.\n",
      "\n",
      "Increase the number of iterations (max_iter) or scale the data as shown in:\n",
      "    https://scikit-learn.org/stable/modules/preprocessing.html\n",
      "Please also refer to the documentation for alternative solver options:\n",
      "    https://scikit-learn.org/stable/modules/linear_model.html#logistic-regression\n",
      "  n_iter_i = _check_optimize_result(\n"
     ]
    },
    {
     "name": "stdout",
     "output_type": "stream",
     "text": [
      "[CV] END class_weight=None, max_iter=10000, solver=lbfgs, tol=1e-05; total time=  22.5s\n"
     ]
    },
    {
     "name": "stderr",
     "output_type": "stream",
     "text": [
      "/Library/Frameworks/Python.framework/Versions/3.12/lib/python3.12/site-packages/sklearn/linear_model/_logistic.py:469: ConvergenceWarning: lbfgs failed to converge (status=1):\n",
      "STOP: TOTAL NO. of ITERATIONS REACHED LIMIT.\n",
      "\n",
      "Increase the number of iterations (max_iter) or scale the data as shown in:\n",
      "    https://scikit-learn.org/stable/modules/preprocessing.html\n",
      "Please also refer to the documentation for alternative solver options:\n",
      "    https://scikit-learn.org/stable/modules/linear_model.html#logistic-regression\n",
      "  n_iter_i = _check_optimize_result(\n"
     ]
    },
    {
     "name": "stdout",
     "output_type": "stream",
     "text": [
      "[CV] END class_weight=None, max_iter=10000, solver=lbfgs, tol=1e-05; total time=  22.0s\n",
      "[CV] END class_weight=None, max_iter=10000, solver=lbfgs, tol=1e-05; total time=  22.6s\n",
      "[CV] END class_weight=None, max_iter=10000, solver=lbfgs, tol=1e-05; total time=  22.3s\n"
     ]
    },
    {
     "name": "stderr",
     "output_type": "stream",
     "text": [
      "/Library/Frameworks/Python.framework/Versions/3.12/lib/python3.12/site-packages/sklearn/linear_model/_logistic.py:1216: UserWarning: 'n_jobs' > 1 does not have any effect when 'solver' is set to 'liblinear'. Got 'n_jobs' = 5.\n",
      "  warnings.warn(\n"
     ]
    },
    {
     "name": "stdout",
     "output_type": "stream",
     "text": [
      "[CV] END class_weight=None, max_iter=10000, solver=liblinear, tol=0.001; total time=   3.6s\n"
     ]
    },
    {
     "name": "stderr",
     "output_type": "stream",
     "text": [
      "/Library/Frameworks/Python.framework/Versions/3.12/lib/python3.12/site-packages/sklearn/linear_model/_logistic.py:1216: UserWarning: 'n_jobs' > 1 does not have any effect when 'solver' is set to 'liblinear'. Got 'n_jobs' = 5.\n",
      "  warnings.warn(\n"
     ]
    },
    {
     "name": "stdout",
     "output_type": "stream",
     "text": [
      "[CV] END class_weight=None, max_iter=10000, solver=liblinear, tol=0.001; total time=   5.6s\n"
     ]
    },
    {
     "name": "stderr",
     "output_type": "stream",
     "text": [
      "/Library/Frameworks/Python.framework/Versions/3.12/lib/python3.12/site-packages/sklearn/linear_model/_logistic.py:1216: UserWarning: 'n_jobs' > 1 does not have any effect when 'solver' is set to 'liblinear'. Got 'n_jobs' = 5.\n",
      "  warnings.warn(\n"
     ]
    },
    {
     "name": "stdout",
     "output_type": "stream",
     "text": [
      "[CV] END class_weight=None, max_iter=10000, solver=liblinear, tol=0.001; total time=   4.9s\n"
     ]
    },
    {
     "name": "stderr",
     "output_type": "stream",
     "text": [
      "/Library/Frameworks/Python.framework/Versions/3.12/lib/python3.12/site-packages/sklearn/linear_model/_logistic.py:1216: UserWarning: 'n_jobs' > 1 does not have any effect when 'solver' is set to 'liblinear'. Got 'n_jobs' = 5.\n",
      "  warnings.warn(\n"
     ]
    },
    {
     "name": "stdout",
     "output_type": "stream",
     "text": [
      "[CV] END class_weight=None, max_iter=10000, solver=liblinear, tol=0.001; total time=   6.0s\n"
     ]
    },
    {
     "name": "stderr",
     "output_type": "stream",
     "text": [
      "/Library/Frameworks/Python.framework/Versions/3.12/lib/python3.12/site-packages/sklearn/linear_model/_logistic.py:1216: UserWarning: 'n_jobs' > 1 does not have any effect when 'solver' is set to 'liblinear'. Got 'n_jobs' = 5.\n",
      "  warnings.warn(\n"
     ]
    },
    {
     "name": "stdout",
     "output_type": "stream",
     "text": [
      "[CV] END class_weight=None, max_iter=10000, solver=liblinear, tol=0.001; total time=   5.8s\n"
     ]
    },
    {
     "name": "stderr",
     "output_type": "stream",
     "text": [
      "/Library/Frameworks/Python.framework/Versions/3.12/lib/python3.12/site-packages/sklearn/linear_model/_logistic.py:1216: UserWarning: 'n_jobs' > 1 does not have any effect when 'solver' is set to 'liblinear'. Got 'n_jobs' = 5.\n",
      "  warnings.warn(\n"
     ]
    },
    {
     "name": "stdout",
     "output_type": "stream",
     "text": [
      "[CV] END class_weight=None, max_iter=10000, solver=liblinear, tol=0.0001; total time=   9.6s\n"
     ]
    },
    {
     "name": "stderr",
     "output_type": "stream",
     "text": [
      "/Library/Frameworks/Python.framework/Versions/3.12/lib/python3.12/site-packages/sklearn/linear_model/_logistic.py:1216: UserWarning: 'n_jobs' > 1 does not have any effect when 'solver' is set to 'liblinear'. Got 'n_jobs' = 5.\n",
      "  warnings.warn(\n"
     ]
    },
    {
     "name": "stdout",
     "output_type": "stream",
     "text": [
      "[CV] END class_weight=None, max_iter=10000, solver=liblinear, tol=0.0001; total time=  12.9s\n"
     ]
    },
    {
     "name": "stderr",
     "output_type": "stream",
     "text": [
      "/Library/Frameworks/Python.framework/Versions/3.12/lib/python3.12/site-packages/sklearn/linear_model/_logistic.py:1216: UserWarning: 'n_jobs' > 1 does not have any effect when 'solver' is set to 'liblinear'. Got 'n_jobs' = 5.\n",
      "  warnings.warn(\n"
     ]
    },
    {
     "name": "stdout",
     "output_type": "stream",
     "text": [
      "[CV] END class_weight=None, max_iter=10000, solver=liblinear, tol=0.0001; total time=  11.8s\n"
     ]
    },
    {
     "name": "stderr",
     "output_type": "stream",
     "text": [
      "/Library/Frameworks/Python.framework/Versions/3.12/lib/python3.12/site-packages/sklearn/linear_model/_logistic.py:1216: UserWarning: 'n_jobs' > 1 does not have any effect when 'solver' is set to 'liblinear'. Got 'n_jobs' = 5.\n",
      "  warnings.warn(\n"
     ]
    },
    {
     "name": "stdout",
     "output_type": "stream",
     "text": [
      "[CV] END class_weight=None, max_iter=10000, solver=liblinear, tol=0.0001; total time=   9.5s\n"
     ]
    },
    {
     "name": "stderr",
     "output_type": "stream",
     "text": [
      "/Library/Frameworks/Python.framework/Versions/3.12/lib/python3.12/site-packages/sklearn/linear_model/_logistic.py:1216: UserWarning: 'n_jobs' > 1 does not have any effect when 'solver' is set to 'liblinear'. Got 'n_jobs' = 5.\n",
      "  warnings.warn(\n"
     ]
    },
    {
     "name": "stdout",
     "output_type": "stream",
     "text": [
      "[CV] END class_weight=None, max_iter=10000, solver=liblinear, tol=0.0001; total time=  13.8s\n"
     ]
    },
    {
     "name": "stderr",
     "output_type": "stream",
     "text": [
      "/Library/Frameworks/Python.framework/Versions/3.12/lib/python3.12/site-packages/sklearn/linear_model/_logistic.py:1216: UserWarning: 'n_jobs' > 1 does not have any effect when 'solver' is set to 'liblinear'. Got 'n_jobs' = 5.\n",
      "  warnings.warn(\n"
     ]
    },
    {
     "name": "stdout",
     "output_type": "stream",
     "text": [
      "[CV] END class_weight=None, max_iter=10000, solver=liblinear, tol=1e-05; total time=  12.4s\n"
     ]
    },
    {
     "name": "stderr",
     "output_type": "stream",
     "text": [
      "/Library/Frameworks/Python.framework/Versions/3.12/lib/python3.12/site-packages/sklearn/linear_model/_logistic.py:1216: UserWarning: 'n_jobs' > 1 does not have any effect when 'solver' is set to 'liblinear'. Got 'n_jobs' = 5.\n",
      "  warnings.warn(\n"
     ]
    },
    {
     "name": "stdout",
     "output_type": "stream",
     "text": [
      "[CV] END class_weight=None, max_iter=10000, solver=liblinear, tol=1e-05; total time=  13.6s\n"
     ]
    },
    {
     "name": "stderr",
     "output_type": "stream",
     "text": [
      "/Library/Frameworks/Python.framework/Versions/3.12/lib/python3.12/site-packages/sklearn/linear_model/_logistic.py:1216: UserWarning: 'n_jobs' > 1 does not have any effect when 'solver' is set to 'liblinear'. Got 'n_jobs' = 5.\n",
      "  warnings.warn(\n"
     ]
    },
    {
     "name": "stdout",
     "output_type": "stream",
     "text": [
      "[CV] END class_weight=None, max_iter=10000, solver=liblinear, tol=1e-05; total time=  13.0s\n"
     ]
    },
    {
     "name": "stderr",
     "output_type": "stream",
     "text": [
      "/Library/Frameworks/Python.framework/Versions/3.12/lib/python3.12/site-packages/sklearn/linear_model/_logistic.py:1216: UserWarning: 'n_jobs' > 1 does not have any effect when 'solver' is set to 'liblinear'. Got 'n_jobs' = 5.\n",
      "  warnings.warn(\n"
     ]
    },
    {
     "name": "stdout",
     "output_type": "stream",
     "text": [
      "[CV] END class_weight=None, max_iter=10000, solver=liblinear, tol=1e-05; total time=  10.1s\n"
     ]
    },
    {
     "name": "stderr",
     "output_type": "stream",
     "text": [
      "/Library/Frameworks/Python.framework/Versions/3.12/lib/python3.12/site-packages/sklearn/linear_model/_logistic.py:1216: UserWarning: 'n_jobs' > 1 does not have any effect when 'solver' is set to 'liblinear'. Got 'n_jobs' = 5.\n",
      "  warnings.warn(\n"
     ]
    },
    {
     "name": "stdout",
     "output_type": "stream",
     "text": [
      "[CV] END class_weight=None, max_iter=10000, solver=liblinear, tol=1e-05; total time=  15.2s\n"
     ]
    },
    {
     "name": "stderr",
     "output_type": "stream",
     "text": [
      "/Library/Frameworks/Python.framework/Versions/3.12/lib/python3.12/site-packages/sklearn/linear_model/_logistic.py:469: ConvergenceWarning: lbfgs failed to converge (status=1):\n",
      "STOP: TOTAL NO. of ITERATIONS REACHED LIMIT.\n",
      "\n",
      "Increase the number of iterations (max_iter) or scale the data as shown in:\n",
      "    https://scikit-learn.org/stable/modules/preprocessing.html\n",
      "Please also refer to the documentation for alternative solver options:\n",
      "    https://scikit-learn.org/stable/modules/linear_model.html#logistic-regression\n",
      "  n_iter_i = _check_optimize_result(\n"
     ]
    },
    {
     "name": "stdout",
     "output_type": "stream",
     "text": [
      "[CV] END class_weight={0: 1, 1: 2}, max_iter=2000, solver=lbfgs, tol=0.001; total time=   5.5s\n"
     ]
    },
    {
     "name": "stderr",
     "output_type": "stream",
     "text": [
      "/Library/Frameworks/Python.framework/Versions/3.12/lib/python3.12/site-packages/sklearn/linear_model/_logistic.py:469: ConvergenceWarning: lbfgs failed to converge (status=1):\n",
      "STOP: TOTAL NO. of ITERATIONS REACHED LIMIT.\n",
      "\n",
      "Increase the number of iterations (max_iter) or scale the data as shown in:\n",
      "    https://scikit-learn.org/stable/modules/preprocessing.html\n",
      "Please also refer to the documentation for alternative solver options:\n",
      "    https://scikit-learn.org/stable/modules/linear_model.html#logistic-regression\n",
      "  n_iter_i = _check_optimize_result(\n"
     ]
    },
    {
     "name": "stdout",
     "output_type": "stream",
     "text": [
      "[CV] END class_weight={0: 1, 1: 2}, max_iter=2000, solver=lbfgs, tol=0.001; total time=   5.4s\n"
     ]
    },
    {
     "name": "stderr",
     "output_type": "stream",
     "text": [
      "/Library/Frameworks/Python.framework/Versions/3.12/lib/python3.12/site-packages/sklearn/linear_model/_logistic.py:469: ConvergenceWarning: lbfgs failed to converge (status=1):\n",
      "STOP: TOTAL NO. of ITERATIONS REACHED LIMIT.\n",
      "\n",
      "Increase the number of iterations (max_iter) or scale the data as shown in:\n",
      "    https://scikit-learn.org/stable/modules/preprocessing.html\n",
      "Please also refer to the documentation for alternative solver options:\n",
      "    https://scikit-learn.org/stable/modules/linear_model.html#logistic-regression\n",
      "  n_iter_i = _check_optimize_result(\n"
     ]
    },
    {
     "name": "stdout",
     "output_type": "stream",
     "text": [
      "[CV] END class_weight={0: 1, 1: 2}, max_iter=2000, solver=lbfgs, tol=0.001; total time=   5.4s\n"
     ]
    },
    {
     "name": "stderr",
     "output_type": "stream",
     "text": [
      "/Library/Frameworks/Python.framework/Versions/3.12/lib/python3.12/site-packages/sklearn/linear_model/_logistic.py:469: ConvergenceWarning: lbfgs failed to converge (status=1):\n",
      "STOP: TOTAL NO. of ITERATIONS REACHED LIMIT.\n",
      "\n",
      "Increase the number of iterations (max_iter) or scale the data as shown in:\n",
      "    https://scikit-learn.org/stable/modules/preprocessing.html\n",
      "Please also refer to the documentation for alternative solver options:\n",
      "    https://scikit-learn.org/stable/modules/linear_model.html#logistic-regression\n",
      "  n_iter_i = _check_optimize_result(\n"
     ]
    },
    {
     "name": "stdout",
     "output_type": "stream",
     "text": [
      "[CV] END class_weight={0: 1, 1: 2}, max_iter=2000, solver=lbfgs, tol=0.001; total time=   5.4s\n"
     ]
    },
    {
     "name": "stderr",
     "output_type": "stream",
     "text": [
      "/Library/Frameworks/Python.framework/Versions/3.12/lib/python3.12/site-packages/sklearn/linear_model/_logistic.py:469: ConvergenceWarning: lbfgs failed to converge (status=1):\n",
      "STOP: TOTAL NO. of ITERATIONS REACHED LIMIT.\n",
      "\n",
      "Increase the number of iterations (max_iter) or scale the data as shown in:\n",
      "    https://scikit-learn.org/stable/modules/preprocessing.html\n",
      "Please also refer to the documentation for alternative solver options:\n",
      "    https://scikit-learn.org/stable/modules/linear_model.html#logistic-regression\n",
      "  n_iter_i = _check_optimize_result(\n"
     ]
    },
    {
     "name": "stdout",
     "output_type": "stream",
     "text": [
      "[CV] END class_weight={0: 1, 1: 2}, max_iter=2000, solver=lbfgs, tol=0.001; total time=   4.8s\n"
     ]
    },
    {
     "name": "stderr",
     "output_type": "stream",
     "text": [
      "/Library/Frameworks/Python.framework/Versions/3.12/lib/python3.12/site-packages/sklearn/linear_model/_logistic.py:469: ConvergenceWarning: lbfgs failed to converge (status=1):\n",
      "STOP: TOTAL NO. of ITERATIONS REACHED LIMIT.\n",
      "\n",
      "Increase the number of iterations (max_iter) or scale the data as shown in:\n",
      "    https://scikit-learn.org/stable/modules/preprocessing.html\n",
      "Please also refer to the documentation for alternative solver options:\n",
      "    https://scikit-learn.org/stable/modules/linear_model.html#logistic-regression\n",
      "  n_iter_i = _check_optimize_result(\n"
     ]
    },
    {
     "name": "stdout",
     "output_type": "stream",
     "text": [
      "[CV] END class_weight={0: 1, 1: 2}, max_iter=2000, solver=lbfgs, tol=0.0001; total time=   5.5s\n"
     ]
    },
    {
     "name": "stderr",
     "output_type": "stream",
     "text": [
      "/Library/Frameworks/Python.framework/Versions/3.12/lib/python3.12/site-packages/sklearn/linear_model/_logistic.py:469: ConvergenceWarning: lbfgs failed to converge (status=1):\n",
      "STOP: TOTAL NO. of ITERATIONS REACHED LIMIT.\n",
      "\n",
      "Increase the number of iterations (max_iter) or scale the data as shown in:\n",
      "    https://scikit-learn.org/stable/modules/preprocessing.html\n",
      "Please also refer to the documentation for alternative solver options:\n",
      "    https://scikit-learn.org/stable/modules/linear_model.html#logistic-regression\n",
      "  n_iter_i = _check_optimize_result(\n"
     ]
    },
    {
     "name": "stdout",
     "output_type": "stream",
     "text": [
      "[CV] END class_weight={0: 1, 1: 2}, max_iter=2000, solver=lbfgs, tol=0.0001; total time=   5.5s\n"
     ]
    },
    {
     "name": "stderr",
     "output_type": "stream",
     "text": [
      "/Library/Frameworks/Python.framework/Versions/3.12/lib/python3.12/site-packages/sklearn/linear_model/_logistic.py:469: ConvergenceWarning: lbfgs failed to converge (status=1):\n",
      "STOP: TOTAL NO. of ITERATIONS REACHED LIMIT.\n",
      "\n",
      "Increase the number of iterations (max_iter) or scale the data as shown in:\n",
      "    https://scikit-learn.org/stable/modules/preprocessing.html\n",
      "Please also refer to the documentation for alternative solver options:\n",
      "    https://scikit-learn.org/stable/modules/linear_model.html#logistic-regression\n",
      "  n_iter_i = _check_optimize_result(\n"
     ]
    },
    {
     "name": "stdout",
     "output_type": "stream",
     "text": [
      "[CV] END class_weight={0: 1, 1: 2}, max_iter=2000, solver=lbfgs, tol=0.0001; total time=   5.5s\n"
     ]
    },
    {
     "name": "stderr",
     "output_type": "stream",
     "text": [
      "/Library/Frameworks/Python.framework/Versions/3.12/lib/python3.12/site-packages/sklearn/linear_model/_logistic.py:469: ConvergenceWarning: lbfgs failed to converge (status=1):\n",
      "STOP: TOTAL NO. of ITERATIONS REACHED LIMIT.\n",
      "\n",
      "Increase the number of iterations (max_iter) or scale the data as shown in:\n",
      "    https://scikit-learn.org/stable/modules/preprocessing.html\n",
      "Please also refer to the documentation for alternative solver options:\n",
      "    https://scikit-learn.org/stable/modules/linear_model.html#logistic-regression\n",
      "  n_iter_i = _check_optimize_result(\n"
     ]
    },
    {
     "name": "stdout",
     "output_type": "stream",
     "text": [
      "[CV] END class_weight={0: 1, 1: 2}, max_iter=2000, solver=lbfgs, tol=0.0001; total time=   5.5s\n"
     ]
    },
    {
     "name": "stderr",
     "output_type": "stream",
     "text": [
      "/Library/Frameworks/Python.framework/Versions/3.12/lib/python3.12/site-packages/sklearn/linear_model/_logistic.py:469: ConvergenceWarning: lbfgs failed to converge (status=1):\n",
      "STOP: TOTAL NO. of ITERATIONS REACHED LIMIT.\n",
      "\n",
      "Increase the number of iterations (max_iter) or scale the data as shown in:\n",
      "    https://scikit-learn.org/stable/modules/preprocessing.html\n",
      "Please also refer to the documentation for alternative solver options:\n",
      "    https://scikit-learn.org/stable/modules/linear_model.html#logistic-regression\n",
      "  n_iter_i = _check_optimize_result(\n"
     ]
    },
    {
     "name": "stdout",
     "output_type": "stream",
     "text": [
      "[CV] END class_weight={0: 1, 1: 2}, max_iter=2000, solver=lbfgs, tol=0.0001; total time=   5.4s\n"
     ]
    },
    {
     "name": "stderr",
     "output_type": "stream",
     "text": [
      "/Library/Frameworks/Python.framework/Versions/3.12/lib/python3.12/site-packages/sklearn/linear_model/_logistic.py:469: ConvergenceWarning: lbfgs failed to converge (status=1):\n",
      "STOP: TOTAL NO. of ITERATIONS REACHED LIMIT.\n",
      "\n",
      "Increase the number of iterations (max_iter) or scale the data as shown in:\n",
      "    https://scikit-learn.org/stable/modules/preprocessing.html\n",
      "Please also refer to the documentation for alternative solver options:\n",
      "    https://scikit-learn.org/stable/modules/linear_model.html#logistic-regression\n",
      "  n_iter_i = _check_optimize_result(\n"
     ]
    },
    {
     "name": "stdout",
     "output_type": "stream",
     "text": [
      "[CV] END class_weight={0: 1, 1: 2}, max_iter=2000, solver=lbfgs, tol=1e-05; total time=   5.5s\n"
     ]
    },
    {
     "name": "stderr",
     "output_type": "stream",
     "text": [
      "/Library/Frameworks/Python.framework/Versions/3.12/lib/python3.12/site-packages/sklearn/linear_model/_logistic.py:469: ConvergenceWarning: lbfgs failed to converge (status=1):\n",
      "STOP: TOTAL NO. of ITERATIONS REACHED LIMIT.\n",
      "\n",
      "Increase the number of iterations (max_iter) or scale the data as shown in:\n",
      "    https://scikit-learn.org/stable/modules/preprocessing.html\n",
      "Please also refer to the documentation for alternative solver options:\n",
      "    https://scikit-learn.org/stable/modules/linear_model.html#logistic-regression\n",
      "  n_iter_i = _check_optimize_result(\n"
     ]
    },
    {
     "name": "stdout",
     "output_type": "stream",
     "text": [
      "[CV] END class_weight={0: 1, 1: 2}, max_iter=2000, solver=lbfgs, tol=1e-05; total time=   5.5s\n"
     ]
    },
    {
     "name": "stderr",
     "output_type": "stream",
     "text": [
      "/Library/Frameworks/Python.framework/Versions/3.12/lib/python3.12/site-packages/sklearn/linear_model/_logistic.py:469: ConvergenceWarning: lbfgs failed to converge (status=1):\n",
      "STOP: TOTAL NO. of ITERATIONS REACHED LIMIT.\n",
      "\n",
      "Increase the number of iterations (max_iter) or scale the data as shown in:\n",
      "    https://scikit-learn.org/stable/modules/preprocessing.html\n",
      "Please also refer to the documentation for alternative solver options:\n",
      "    https://scikit-learn.org/stable/modules/linear_model.html#logistic-regression\n",
      "  n_iter_i = _check_optimize_result(\n"
     ]
    },
    {
     "name": "stdout",
     "output_type": "stream",
     "text": [
      "[CV] END class_weight={0: 1, 1: 2}, max_iter=2000, solver=lbfgs, tol=1e-05; total time=   5.5s\n"
     ]
    },
    {
     "name": "stderr",
     "output_type": "stream",
     "text": [
      "/Library/Frameworks/Python.framework/Versions/3.12/lib/python3.12/site-packages/sklearn/linear_model/_logistic.py:469: ConvergenceWarning: lbfgs failed to converge (status=1):\n",
      "STOP: TOTAL NO. of ITERATIONS REACHED LIMIT.\n",
      "\n",
      "Increase the number of iterations (max_iter) or scale the data as shown in:\n",
      "    https://scikit-learn.org/stable/modules/preprocessing.html\n",
      "Please also refer to the documentation for alternative solver options:\n",
      "    https://scikit-learn.org/stable/modules/linear_model.html#logistic-regression\n",
      "  n_iter_i = _check_optimize_result(\n"
     ]
    },
    {
     "name": "stdout",
     "output_type": "stream",
     "text": [
      "[CV] END class_weight={0: 1, 1: 2}, max_iter=2000, solver=lbfgs, tol=1e-05; total time=   5.4s\n"
     ]
    },
    {
     "name": "stderr",
     "output_type": "stream",
     "text": [
      "/Library/Frameworks/Python.framework/Versions/3.12/lib/python3.12/site-packages/sklearn/linear_model/_logistic.py:469: ConvergenceWarning: lbfgs failed to converge (status=1):\n",
      "STOP: TOTAL NO. of ITERATIONS REACHED LIMIT.\n",
      "\n",
      "Increase the number of iterations (max_iter) or scale the data as shown in:\n",
      "    https://scikit-learn.org/stable/modules/preprocessing.html\n",
      "Please also refer to the documentation for alternative solver options:\n",
      "    https://scikit-learn.org/stable/modules/linear_model.html#logistic-regression\n",
      "  n_iter_i = _check_optimize_result(\n"
     ]
    },
    {
     "name": "stdout",
     "output_type": "stream",
     "text": [
      "[CV] END class_weight={0: 1, 1: 2}, max_iter=2000, solver=lbfgs, tol=1e-05; total time=   5.4s\n"
     ]
    },
    {
     "name": "stderr",
     "output_type": "stream",
     "text": [
      "/Library/Frameworks/Python.framework/Versions/3.12/lib/python3.12/site-packages/sklearn/linear_model/_logistic.py:1216: UserWarning: 'n_jobs' > 1 does not have any effect when 'solver' is set to 'liblinear'. Got 'n_jobs' = 5.\n",
      "  warnings.warn(\n"
     ]
    },
    {
     "name": "stdout",
     "output_type": "stream",
     "text": [
      "[CV] END class_weight={0: 1, 1: 2}, max_iter=2000, solver=liblinear, tol=0.001; total time=   6.3s\n"
     ]
    },
    {
     "name": "stderr",
     "output_type": "stream",
     "text": [
      "/Library/Frameworks/Python.framework/Versions/3.12/lib/python3.12/site-packages/sklearn/linear_model/_logistic.py:1216: UserWarning: 'n_jobs' > 1 does not have any effect when 'solver' is set to 'liblinear'. Got 'n_jobs' = 5.\n",
      "  warnings.warn(\n",
      "/Library/Frameworks/Python.framework/Versions/3.12/lib/python3.12/site-packages/sklearn/svm/_base.py:1237: ConvergenceWarning: Liblinear failed to converge, increase the number of iterations.\n",
      "  warnings.warn(\n",
      "/Library/Frameworks/Python.framework/Versions/3.12/lib/python3.12/site-packages/sklearn/linear_model/_logistic.py:1216: UserWarning: 'n_jobs' > 1 does not have any effect when 'solver' is set to 'liblinear'. Got 'n_jobs' = 5.\n",
      "  warnings.warn(\n"
     ]
    },
    {
     "name": "stdout",
     "output_type": "stream",
     "text": [
      "[CV] END class_weight={0: 1, 1: 2}, max_iter=2000, solver=liblinear, tol=0.001; total time=   7.9s\n",
      "[CV] END class_weight={0: 1, 1: 2}, max_iter=2000, solver=liblinear, tol=0.001; total time=   5.4s\n"
     ]
    },
    {
     "name": "stderr",
     "output_type": "stream",
     "text": [
      "/Library/Frameworks/Python.framework/Versions/3.12/lib/python3.12/site-packages/sklearn/linear_model/_logistic.py:1216: UserWarning: 'n_jobs' > 1 does not have any effect when 'solver' is set to 'liblinear'. Got 'n_jobs' = 5.\n",
      "  warnings.warn(\n"
     ]
    },
    {
     "name": "stdout",
     "output_type": "stream",
     "text": [
      "[CV] END class_weight={0: 1, 1: 2}, max_iter=2000, solver=liblinear, tol=0.001; total time=   6.1s\n"
     ]
    },
    {
     "name": "stderr",
     "output_type": "stream",
     "text": [
      "/Library/Frameworks/Python.framework/Versions/3.12/lib/python3.12/site-packages/sklearn/linear_model/_logistic.py:1216: UserWarning: 'n_jobs' > 1 does not have any effect when 'solver' is set to 'liblinear'. Got 'n_jobs' = 5.\n",
      "  warnings.warn(\n",
      "/Library/Frameworks/Python.framework/Versions/3.12/lib/python3.12/site-packages/sklearn/svm/_base.py:1237: ConvergenceWarning: Liblinear failed to converge, increase the number of iterations.\n",
      "  warnings.warn(\n",
      "/Library/Frameworks/Python.framework/Versions/3.12/lib/python3.12/site-packages/sklearn/linear_model/_logistic.py:1216: UserWarning: 'n_jobs' > 1 does not have any effect when 'solver' is set to 'liblinear'. Got 'n_jobs' = 5.\n",
      "  warnings.warn(\n"
     ]
    },
    {
     "name": "stdout",
     "output_type": "stream",
     "text": [
      "[CV] END class_weight={0: 1, 1: 2}, max_iter=2000, solver=liblinear, tol=0.001; total time=   5.9s\n"
     ]
    },
    {
     "name": "stderr",
     "output_type": "stream",
     "text": [
      "/Library/Frameworks/Python.framework/Versions/3.12/lib/python3.12/site-packages/sklearn/svm/_base.py:1237: ConvergenceWarning: Liblinear failed to converge, increase the number of iterations.\n",
      "  warnings.warn(\n",
      "/Library/Frameworks/Python.framework/Versions/3.12/lib/python3.12/site-packages/sklearn/linear_model/_logistic.py:1216: UserWarning: 'n_jobs' > 1 does not have any effect when 'solver' is set to 'liblinear'. Got 'n_jobs' = 5.\n",
      "  warnings.warn(\n"
     ]
    },
    {
     "name": "stdout",
     "output_type": "stream",
     "text": [
      "[CV] END class_weight={0: 1, 1: 2}, max_iter=2000, solver=liblinear, tol=0.0001; total time=   6.8s\n"
     ]
    },
    {
     "name": "stderr",
     "output_type": "stream",
     "text": [
      "/Library/Frameworks/Python.framework/Versions/3.12/lib/python3.12/site-packages/sklearn/svm/_base.py:1237: ConvergenceWarning: Liblinear failed to converge, increase the number of iterations.\n",
      "  warnings.warn(\n",
      "/Library/Frameworks/Python.framework/Versions/3.12/lib/python3.12/site-packages/sklearn/linear_model/_logistic.py:1216: UserWarning: 'n_jobs' > 1 does not have any effect when 'solver' is set to 'liblinear'. Got 'n_jobs' = 5.\n",
      "  warnings.warn(\n"
     ]
    },
    {
     "name": "stdout",
     "output_type": "stream",
     "text": [
      "[CV] END class_weight={0: 1, 1: 2}, max_iter=2000, solver=liblinear, tol=0.0001; total time=   7.9s\n",
      "[CV] END class_weight={0: 1, 1: 2}, max_iter=2000, solver=liblinear, tol=0.0001; total time=   9.4s\n"
     ]
    },
    {
     "name": "stderr",
     "output_type": "stream",
     "text": [
      "/Library/Frameworks/Python.framework/Versions/3.12/lib/python3.12/site-packages/sklearn/linear_model/_logistic.py:1216: UserWarning: 'n_jobs' > 1 does not have any effect when 'solver' is set to 'liblinear'. Got 'n_jobs' = 5.\n",
      "  warnings.warn(\n"
     ]
    },
    {
     "name": "stdout",
     "output_type": "stream",
     "text": [
      "[CV] END class_weight={0: 1, 1: 2}, max_iter=2000, solver=liblinear, tol=0.0001; total time=   8.6s\n"
     ]
    },
    {
     "name": "stderr",
     "output_type": "stream",
     "text": [
      "/Library/Frameworks/Python.framework/Versions/3.12/lib/python3.12/site-packages/sklearn/linear_model/_logistic.py:1216: UserWarning: 'n_jobs' > 1 does not have any effect when 'solver' is set to 'liblinear'. Got 'n_jobs' = 5.\n",
      "  warnings.warn(\n",
      "/Library/Frameworks/Python.framework/Versions/3.12/lib/python3.12/site-packages/sklearn/svm/_base.py:1237: ConvergenceWarning: Liblinear failed to converge, increase the number of iterations.\n",
      "  warnings.warn(\n",
      "/Library/Frameworks/Python.framework/Versions/3.12/lib/python3.12/site-packages/sklearn/linear_model/_logistic.py:1216: UserWarning: 'n_jobs' > 1 does not have any effect when 'solver' is set to 'liblinear'. Got 'n_jobs' = 5.\n",
      "  warnings.warn(\n"
     ]
    },
    {
     "name": "stdout",
     "output_type": "stream",
     "text": [
      "[CV] END class_weight={0: 1, 1: 2}, max_iter=2000, solver=liblinear, tol=0.0001; total time=   5.8s\n"
     ]
    },
    {
     "name": "stderr",
     "output_type": "stream",
     "text": [
      "/Library/Frameworks/Python.framework/Versions/3.12/lib/python3.12/site-packages/sklearn/svm/_base.py:1237: ConvergenceWarning: Liblinear failed to converge, increase the number of iterations.\n",
      "  warnings.warn(\n",
      "/Library/Frameworks/Python.framework/Versions/3.12/lib/python3.12/site-packages/sklearn/linear_model/_logistic.py:1216: UserWarning: 'n_jobs' > 1 does not have any effect when 'solver' is set to 'liblinear'. Got 'n_jobs' = 5.\n",
      "  warnings.warn(\n"
     ]
    },
    {
     "name": "stdout",
     "output_type": "stream",
     "text": [
      "[CV] END class_weight={0: 1, 1: 2}, max_iter=2000, solver=liblinear, tol=1e-05; total time=   6.8s\n"
     ]
    },
    {
     "name": "stderr",
     "output_type": "stream",
     "text": [
      "/Library/Frameworks/Python.framework/Versions/3.12/lib/python3.12/site-packages/sklearn/svm/_base.py:1237: ConvergenceWarning: Liblinear failed to converge, increase the number of iterations.\n",
      "  warnings.warn(\n",
      "/Library/Frameworks/Python.framework/Versions/3.12/lib/python3.12/site-packages/sklearn/linear_model/_logistic.py:1216: UserWarning: 'n_jobs' > 1 does not have any effect when 'solver' is set to 'liblinear'. Got 'n_jobs' = 5.\n",
      "  warnings.warn(\n"
     ]
    },
    {
     "name": "stdout",
     "output_type": "stream",
     "text": [
      "[CV] END class_weight={0: 1, 1: 2}, max_iter=2000, solver=liblinear, tol=1e-05; total time=   7.8s\n",
      "[CV] END class_weight={0: 1, 1: 2}, max_iter=2000, solver=liblinear, tol=1e-05; total time=  10.0s\n"
     ]
    },
    {
     "name": "stderr",
     "output_type": "stream",
     "text": [
      "/Library/Frameworks/Python.framework/Versions/3.12/lib/python3.12/site-packages/sklearn/linear_model/_logistic.py:1216: UserWarning: 'n_jobs' > 1 does not have any effect when 'solver' is set to 'liblinear'. Got 'n_jobs' = 5.\n",
      "  warnings.warn(\n"
     ]
    },
    {
     "name": "stdout",
     "output_type": "stream",
     "text": [
      "[CV] END class_weight={0: 1, 1: 2}, max_iter=2000, solver=liblinear, tol=1e-05; total time=   9.2s\n"
     ]
    },
    {
     "name": "stderr",
     "output_type": "stream",
     "text": [
      "/Library/Frameworks/Python.framework/Versions/3.12/lib/python3.12/site-packages/sklearn/linear_model/_logistic.py:1216: UserWarning: 'n_jobs' > 1 does not have any effect when 'solver' is set to 'liblinear'. Got 'n_jobs' = 5.\n",
      "  warnings.warn(\n",
      "/Library/Frameworks/Python.framework/Versions/3.12/lib/python3.12/site-packages/sklearn/svm/_base.py:1237: ConvergenceWarning: Liblinear failed to converge, increase the number of iterations.\n",
      "  warnings.warn(\n"
     ]
    },
    {
     "name": "stdout",
     "output_type": "stream",
     "text": [
      "[CV] END class_weight={0: 1, 1: 2}, max_iter=2000, solver=liblinear, tol=1e-05; total time=   5.8s\n",
      "[CV] END class_weight={0: 1, 1: 2}, max_iter=6000, solver=lbfgs, tol=0.001; total time=   9.7s\n",
      "[CV] END class_weight={0: 1, 1: 2}, max_iter=6000, solver=lbfgs, tol=0.001; total time=  11.5s\n",
      "[CV] END class_weight={0: 1, 1: 2}, max_iter=6000, solver=lbfgs, tol=0.001; total time=  10.0s\n",
      "[CV] END class_weight={0: 1, 1: 2}, max_iter=6000, solver=lbfgs, tol=0.001; total time=  11.5s\n",
      "[CV] END class_weight={0: 1, 1: 2}, max_iter=6000, solver=lbfgs, tol=0.001; total time=  10.8s\n"
     ]
    },
    {
     "name": "stderr",
     "output_type": "stream",
     "text": [
      "/Library/Frameworks/Python.framework/Versions/3.12/lib/python3.12/site-packages/sklearn/linear_model/_logistic.py:469: ConvergenceWarning: lbfgs failed to converge (status=1):\n",
      "STOP: TOTAL NO. of ITERATIONS REACHED LIMIT.\n",
      "\n",
      "Increase the number of iterations (max_iter) or scale the data as shown in:\n",
      "    https://scikit-learn.org/stable/modules/preprocessing.html\n",
      "Please also refer to the documentation for alternative solver options:\n",
      "    https://scikit-learn.org/stable/modules/linear_model.html#logistic-regression\n",
      "  n_iter_i = _check_optimize_result(\n"
     ]
    },
    {
     "name": "stdout",
     "output_type": "stream",
     "text": [
      "[CV] END class_weight={0: 1, 1: 2}, max_iter=6000, solver=lbfgs, tol=0.0001; total time=  13.1s\n"
     ]
    },
    {
     "name": "stderr",
     "output_type": "stream",
     "text": [
      "/Library/Frameworks/Python.framework/Versions/3.12/lib/python3.12/site-packages/sklearn/linear_model/_logistic.py:469: ConvergenceWarning: lbfgs failed to converge (status=1):\n",
      "STOP: TOTAL NO. of ITERATIONS REACHED LIMIT.\n",
      "\n",
      "Increase the number of iterations (max_iter) or scale the data as shown in:\n",
      "    https://scikit-learn.org/stable/modules/preprocessing.html\n",
      "Please also refer to the documentation for alternative solver options:\n",
      "    https://scikit-learn.org/stable/modules/linear_model.html#logistic-regression\n",
      "  n_iter_i = _check_optimize_result(\n"
     ]
    },
    {
     "name": "stdout",
     "output_type": "stream",
     "text": [
      "[CV] END class_weight={0: 1, 1: 2}, max_iter=6000, solver=lbfgs, tol=0.0001; total time=  14.0s\n"
     ]
    },
    {
     "name": "stderr",
     "output_type": "stream",
     "text": [
      "/Library/Frameworks/Python.framework/Versions/3.12/lib/python3.12/site-packages/sklearn/linear_model/_logistic.py:469: ConvergenceWarning: lbfgs failed to converge (status=1):\n",
      "STOP: TOTAL NO. of ITERATIONS REACHED LIMIT.\n",
      "\n",
      "Increase the number of iterations (max_iter) or scale the data as shown in:\n",
      "    https://scikit-learn.org/stable/modules/preprocessing.html\n",
      "Please also refer to the documentation for alternative solver options:\n",
      "    https://scikit-learn.org/stable/modules/linear_model.html#logistic-regression\n",
      "  n_iter_i = _check_optimize_result(\n"
     ]
    },
    {
     "name": "stdout",
     "output_type": "stream",
     "text": [
      "[CV] END class_weight={0: 1, 1: 2}, max_iter=6000, solver=lbfgs, tol=0.0001; total time=  14.0s\n"
     ]
    },
    {
     "name": "stderr",
     "output_type": "stream",
     "text": [
      "/Library/Frameworks/Python.framework/Versions/3.12/lib/python3.12/site-packages/sklearn/linear_model/_logistic.py:469: ConvergenceWarning: lbfgs failed to converge (status=1):\n",
      "STOP: TOTAL NO. of ITERATIONS REACHED LIMIT.\n",
      "\n",
      "Increase the number of iterations (max_iter) or scale the data as shown in:\n",
      "    https://scikit-learn.org/stable/modules/preprocessing.html\n",
      "Please also refer to the documentation for alternative solver options:\n",
      "    https://scikit-learn.org/stable/modules/linear_model.html#logistic-regression\n",
      "  n_iter_i = _check_optimize_result(\n"
     ]
    },
    {
     "name": "stdout",
     "output_type": "stream",
     "text": [
      "[CV] END class_weight={0: 1, 1: 2}, max_iter=6000, solver=lbfgs, tol=0.0001; total time=  14.0s\n"
     ]
    },
    {
     "name": "stderr",
     "output_type": "stream",
     "text": [
      "/Library/Frameworks/Python.framework/Versions/3.12/lib/python3.12/site-packages/sklearn/linear_model/_logistic.py:469: ConvergenceWarning: lbfgs failed to converge (status=1):\n",
      "STOP: TOTAL NO. of ITERATIONS REACHED LIMIT.\n",
      "\n",
      "Increase the number of iterations (max_iter) or scale the data as shown in:\n",
      "    https://scikit-learn.org/stable/modules/preprocessing.html\n",
      "Please also refer to the documentation for alternative solver options:\n",
      "    https://scikit-learn.org/stable/modules/linear_model.html#logistic-regression\n",
      "  n_iter_i = _check_optimize_result(\n"
     ]
    },
    {
     "name": "stdout",
     "output_type": "stream",
     "text": [
      "[CV] END class_weight={0: 1, 1: 2}, max_iter=6000, solver=lbfgs, tol=0.0001; total time=  13.9s\n"
     ]
    },
    {
     "name": "stderr",
     "output_type": "stream",
     "text": [
      "/Library/Frameworks/Python.framework/Versions/3.12/lib/python3.12/site-packages/sklearn/linear_model/_logistic.py:469: ConvergenceWarning: lbfgs failed to converge (status=1):\n",
      "STOP: TOTAL NO. of ITERATIONS REACHED LIMIT.\n",
      "\n",
      "Increase the number of iterations (max_iter) or scale the data as shown in:\n",
      "    https://scikit-learn.org/stable/modules/preprocessing.html\n",
      "Please also refer to the documentation for alternative solver options:\n",
      "    https://scikit-learn.org/stable/modules/linear_model.html#logistic-regression\n",
      "  n_iter_i = _check_optimize_result(\n"
     ]
    },
    {
     "name": "stdout",
     "output_type": "stream",
     "text": [
      "[CV] END class_weight={0: 1, 1: 2}, max_iter=6000, solver=lbfgs, tol=1e-05; total time=  14.1s\n"
     ]
    },
    {
     "name": "stderr",
     "output_type": "stream",
     "text": [
      "/Library/Frameworks/Python.framework/Versions/3.12/lib/python3.12/site-packages/sklearn/linear_model/_logistic.py:469: ConvergenceWarning: lbfgs failed to converge (status=1):\n",
      "STOP: TOTAL NO. of ITERATIONS REACHED LIMIT.\n",
      "\n",
      "Increase the number of iterations (max_iter) or scale the data as shown in:\n",
      "    https://scikit-learn.org/stable/modules/preprocessing.html\n",
      "Please also refer to the documentation for alternative solver options:\n",
      "    https://scikit-learn.org/stable/modules/linear_model.html#logistic-regression\n",
      "  n_iter_i = _check_optimize_result(\n"
     ]
    },
    {
     "name": "stdout",
     "output_type": "stream",
     "text": [
      "[CV] END class_weight={0: 1, 1: 2}, max_iter=6000, solver=lbfgs, tol=1e-05; total time=  14.1s\n"
     ]
    },
    {
     "name": "stderr",
     "output_type": "stream",
     "text": [
      "/Library/Frameworks/Python.framework/Versions/3.12/lib/python3.12/site-packages/sklearn/linear_model/_logistic.py:469: ConvergenceWarning: lbfgs failed to converge (status=1):\n",
      "STOP: TOTAL NO. of ITERATIONS REACHED LIMIT.\n",
      "\n",
      "Increase the number of iterations (max_iter) or scale the data as shown in:\n",
      "    https://scikit-learn.org/stable/modules/preprocessing.html\n",
      "Please also refer to the documentation for alternative solver options:\n",
      "    https://scikit-learn.org/stable/modules/linear_model.html#logistic-regression\n",
      "  n_iter_i = _check_optimize_result(\n"
     ]
    },
    {
     "name": "stdout",
     "output_type": "stream",
     "text": [
      "[CV] END class_weight={0: 1, 1: 2}, max_iter=6000, solver=lbfgs, tol=1e-05; total time=  14.1s\n"
     ]
    },
    {
     "name": "stderr",
     "output_type": "stream",
     "text": [
      "/Library/Frameworks/Python.framework/Versions/3.12/lib/python3.12/site-packages/sklearn/linear_model/_logistic.py:469: ConvergenceWarning: lbfgs failed to converge (status=1):\n",
      "STOP: TOTAL NO. of ITERATIONS REACHED LIMIT.\n",
      "\n",
      "Increase the number of iterations (max_iter) or scale the data as shown in:\n",
      "    https://scikit-learn.org/stable/modules/preprocessing.html\n",
      "Please also refer to the documentation for alternative solver options:\n",
      "    https://scikit-learn.org/stable/modules/linear_model.html#logistic-regression\n",
      "  n_iter_i = _check_optimize_result(\n"
     ]
    },
    {
     "name": "stdout",
     "output_type": "stream",
     "text": [
      "[CV] END class_weight={0: 1, 1: 2}, max_iter=6000, solver=lbfgs, tol=1e-05; total time=  14.0s\n"
     ]
    },
    {
     "name": "stderr",
     "output_type": "stream",
     "text": [
      "/Library/Frameworks/Python.framework/Versions/3.12/lib/python3.12/site-packages/sklearn/linear_model/_logistic.py:469: ConvergenceWarning: lbfgs failed to converge (status=1):\n",
      "STOP: TOTAL NO. of ITERATIONS REACHED LIMIT.\n",
      "\n",
      "Increase the number of iterations (max_iter) or scale the data as shown in:\n",
      "    https://scikit-learn.org/stable/modules/preprocessing.html\n",
      "Please also refer to the documentation for alternative solver options:\n",
      "    https://scikit-learn.org/stable/modules/linear_model.html#logistic-regression\n",
      "  n_iter_i = _check_optimize_result(\n"
     ]
    },
    {
     "name": "stdout",
     "output_type": "stream",
     "text": [
      "[CV] END class_weight={0: 1, 1: 2}, max_iter=6000, solver=lbfgs, tol=1e-05; total time=  14.0s\n"
     ]
    },
    {
     "name": "stderr",
     "output_type": "stream",
     "text": [
      "/Library/Frameworks/Python.framework/Versions/3.12/lib/python3.12/site-packages/sklearn/linear_model/_logistic.py:1216: UserWarning: 'n_jobs' > 1 does not have any effect when 'solver' is set to 'liblinear'. Got 'n_jobs' = 5.\n",
      "  warnings.warn(\n"
     ]
    },
    {
     "name": "stdout",
     "output_type": "stream",
     "text": [
      "[CV] END class_weight={0: 1, 1: 2}, max_iter=6000, solver=liblinear, tol=0.001; total time=   6.3s\n"
     ]
    },
    {
     "name": "stderr",
     "output_type": "stream",
     "text": [
      "/Library/Frameworks/Python.framework/Versions/3.12/lib/python3.12/site-packages/sklearn/linear_model/_logistic.py:1216: UserWarning: 'n_jobs' > 1 does not have any effect when 'solver' is set to 'liblinear'. Got 'n_jobs' = 5.\n",
      "  warnings.warn(\n"
     ]
    },
    {
     "name": "stdout",
     "output_type": "stream",
     "text": [
      "[CV] END class_weight={0: 1, 1: 2}, max_iter=6000, solver=liblinear, tol=0.001; total time=   8.0s\n"
     ]
    },
    {
     "name": "stderr",
     "output_type": "stream",
     "text": [
      "/Library/Frameworks/Python.framework/Versions/3.12/lib/python3.12/site-packages/sklearn/linear_model/_logistic.py:1216: UserWarning: 'n_jobs' > 1 does not have any effect when 'solver' is set to 'liblinear'. Got 'n_jobs' = 5.\n",
      "  warnings.warn(\n"
     ]
    },
    {
     "name": "stdout",
     "output_type": "stream",
     "text": [
      "[CV] END class_weight={0: 1, 1: 2}, max_iter=6000, solver=liblinear, tol=0.001; total time=   5.4s\n"
     ]
    },
    {
     "name": "stderr",
     "output_type": "stream",
     "text": [
      "/Library/Frameworks/Python.framework/Versions/3.12/lib/python3.12/site-packages/sklearn/linear_model/_logistic.py:1216: UserWarning: 'n_jobs' > 1 does not have any effect when 'solver' is set to 'liblinear'. Got 'n_jobs' = 5.\n",
      "  warnings.warn(\n"
     ]
    },
    {
     "name": "stdout",
     "output_type": "stream",
     "text": [
      "[CV] END class_weight={0: 1, 1: 2}, max_iter=6000, solver=liblinear, tol=0.001; total time=   6.1s\n"
     ]
    },
    {
     "name": "stderr",
     "output_type": "stream",
     "text": [
      "/Library/Frameworks/Python.framework/Versions/3.12/lib/python3.12/site-packages/sklearn/linear_model/_logistic.py:1216: UserWarning: 'n_jobs' > 1 does not have any effect when 'solver' is set to 'liblinear'. Got 'n_jobs' = 5.\n",
      "  warnings.warn(\n"
     ]
    },
    {
     "name": "stdout",
     "output_type": "stream",
     "text": [
      "[CV] END class_weight={0: 1, 1: 2}, max_iter=6000, solver=liblinear, tol=0.001; total time=   8.1s\n"
     ]
    },
    {
     "name": "stderr",
     "output_type": "stream",
     "text": [
      "/Library/Frameworks/Python.framework/Versions/3.12/lib/python3.12/site-packages/sklearn/linear_model/_logistic.py:1216: UserWarning: 'n_jobs' > 1 does not have any effect when 'solver' is set to 'liblinear'. Got 'n_jobs' = 5.\n",
      "  warnings.warn(\n"
     ]
    },
    {
     "name": "stdout",
     "output_type": "stream",
     "text": [
      "[CV] END class_weight={0: 1, 1: 2}, max_iter=6000, solver=liblinear, tol=0.0001; total time=  12.0s\n"
     ]
    },
    {
     "name": "stderr",
     "output_type": "stream",
     "text": [
      "/Library/Frameworks/Python.framework/Versions/3.12/lib/python3.12/site-packages/sklearn/linear_model/_logistic.py:1216: UserWarning: 'n_jobs' > 1 does not have any effect when 'solver' is set to 'liblinear'. Got 'n_jobs' = 5.\n",
      "  warnings.warn(\n"
     ]
    },
    {
     "name": "stdout",
     "output_type": "stream",
     "text": [
      "[CV] END class_weight={0: 1, 1: 2}, max_iter=6000, solver=liblinear, tol=0.0001; total time=  12.2s\n"
     ]
    },
    {
     "name": "stderr",
     "output_type": "stream",
     "text": [
      "/Library/Frameworks/Python.framework/Versions/3.12/lib/python3.12/site-packages/sklearn/linear_model/_logistic.py:1216: UserWarning: 'n_jobs' > 1 does not have any effect when 'solver' is set to 'liblinear'. Got 'n_jobs' = 5.\n",
      "  warnings.warn(\n"
     ]
    },
    {
     "name": "stdout",
     "output_type": "stream",
     "text": [
      "[CV] END class_weight={0: 1, 1: 2}, max_iter=6000, solver=liblinear, tol=0.0001; total time=   9.3s\n"
     ]
    },
    {
     "name": "stderr",
     "output_type": "stream",
     "text": [
      "/Library/Frameworks/Python.framework/Versions/3.12/lib/python3.12/site-packages/sklearn/linear_model/_logistic.py:1216: UserWarning: 'n_jobs' > 1 does not have any effect when 'solver' is set to 'liblinear'. Got 'n_jobs' = 5.\n",
      "  warnings.warn(\n"
     ]
    },
    {
     "name": "stdout",
     "output_type": "stream",
     "text": [
      "[CV] END class_weight={0: 1, 1: 2}, max_iter=6000, solver=liblinear, tol=0.0001; total time=   8.6s\n"
     ]
    },
    {
     "name": "stderr",
     "output_type": "stream",
     "text": [
      "/Library/Frameworks/Python.framework/Versions/3.12/lib/python3.12/site-packages/sklearn/linear_model/_logistic.py:1216: UserWarning: 'n_jobs' > 1 does not have any effect when 'solver' is set to 'liblinear'. Got 'n_jobs' = 5.\n",
      "  warnings.warn(\n"
     ]
    },
    {
     "name": "stdout",
     "output_type": "stream",
     "text": [
      "[CV] END class_weight={0: 1, 1: 2}, max_iter=6000, solver=liblinear, tol=0.0001; total time=  14.7s\n"
     ]
    },
    {
     "name": "stderr",
     "output_type": "stream",
     "text": [
      "/Library/Frameworks/Python.framework/Versions/3.12/lib/python3.12/site-packages/sklearn/linear_model/_logistic.py:1216: UserWarning: 'n_jobs' > 1 does not have any effect when 'solver' is set to 'liblinear'. Got 'n_jobs' = 5.\n",
      "  warnings.warn(\n"
     ]
    },
    {
     "name": "stdout",
     "output_type": "stream",
     "text": [
      "[CV] END class_weight={0: 1, 1: 2}, max_iter=6000, solver=liblinear, tol=1e-05; total time=  14.9s\n"
     ]
    },
    {
     "name": "stderr",
     "output_type": "stream",
     "text": [
      "/Library/Frameworks/Python.framework/Versions/3.12/lib/python3.12/site-packages/sklearn/linear_model/_logistic.py:1216: UserWarning: 'n_jobs' > 1 does not have any effect when 'solver' is set to 'liblinear'. Got 'n_jobs' = 5.\n",
      "  warnings.warn(\n"
     ]
    },
    {
     "name": "stdout",
     "output_type": "stream",
     "text": [
      "[CV] END class_weight={0: 1, 1: 2}, max_iter=6000, solver=liblinear, tol=1e-05; total time=  13.5s\n"
     ]
    },
    {
     "name": "stderr",
     "output_type": "stream",
     "text": [
      "/Library/Frameworks/Python.framework/Versions/3.12/lib/python3.12/site-packages/sklearn/linear_model/_logistic.py:1216: UserWarning: 'n_jobs' > 1 does not have any effect when 'solver' is set to 'liblinear'. Got 'n_jobs' = 5.\n",
      "  warnings.warn(\n"
     ]
    },
    {
     "name": "stdout",
     "output_type": "stream",
     "text": [
      "[CV] END class_weight={0: 1, 1: 2}, max_iter=6000, solver=liblinear, tol=1e-05; total time=  10.1s\n"
     ]
    },
    {
     "name": "stderr",
     "output_type": "stream",
     "text": [
      "/Library/Frameworks/Python.framework/Versions/3.12/lib/python3.12/site-packages/sklearn/linear_model/_logistic.py:1216: UserWarning: 'n_jobs' > 1 does not have any effect when 'solver' is set to 'liblinear'. Got 'n_jobs' = 5.\n",
      "  warnings.warn(\n"
     ]
    },
    {
     "name": "stdout",
     "output_type": "stream",
     "text": [
      "[CV] END class_weight={0: 1, 1: 2}, max_iter=6000, solver=liblinear, tol=1e-05; total time=   9.3s\n"
     ]
    },
    {
     "name": "stderr",
     "output_type": "stream",
     "text": [
      "/Library/Frameworks/Python.framework/Versions/3.12/lib/python3.12/site-packages/sklearn/linear_model/_logistic.py:1216: UserWarning: 'n_jobs' > 1 does not have any effect when 'solver' is set to 'liblinear'. Got 'n_jobs' = 5.\n",
      "  warnings.warn(\n"
     ]
    },
    {
     "name": "stdout",
     "output_type": "stream",
     "text": [
      "[CV] END class_weight={0: 1, 1: 2}, max_iter=6000, solver=liblinear, tol=1e-05; total time=  15.6s\n",
      "[CV] END class_weight={0: 1, 1: 2}, max_iter=10000, solver=lbfgs, tol=0.001; total time=   9.6s\n",
      "[CV] END class_weight={0: 1, 1: 2}, max_iter=10000, solver=lbfgs, tol=0.001; total time=  11.5s\n",
      "[CV] END class_weight={0: 1, 1: 2}, max_iter=10000, solver=lbfgs, tol=0.001; total time=   9.0s\n",
      "[CV] END class_weight={0: 1, 1: 2}, max_iter=10000, solver=lbfgs, tol=0.001; total time=  10.9s\n",
      "[CV] END class_weight={0: 1, 1: 2}, max_iter=10000, solver=lbfgs, tol=0.001; total time=  10.7s\n",
      "[CV] END class_weight={0: 1, 1: 2}, max_iter=10000, solver=lbfgs, tol=0.0001; total time=  18.3s\n",
      "[CV] END class_weight={0: 1, 1: 2}, max_iter=10000, solver=lbfgs, tol=0.0001; total time=  21.2s\n",
      "[CV] END class_weight={0: 1, 1: 2}, max_iter=10000, solver=lbfgs, tol=0.0001; total time=  19.2s\n",
      "[CV] END class_weight={0: 1, 1: 2}, max_iter=10000, solver=lbfgs, tol=0.0001; total time=  20.2s\n"
     ]
    },
    {
     "name": "stderr",
     "output_type": "stream",
     "text": [
      "/Library/Frameworks/Python.framework/Versions/3.12/lib/python3.12/site-packages/sklearn/linear_model/_logistic.py:469: ConvergenceWarning: lbfgs failed to converge (status=1):\n",
      "STOP: TOTAL NO. of ITERATIONS REACHED LIMIT.\n",
      "\n",
      "Increase the number of iterations (max_iter) or scale the data as shown in:\n",
      "    https://scikit-learn.org/stable/modules/preprocessing.html\n",
      "Please also refer to the documentation for alternative solver options:\n",
      "    https://scikit-learn.org/stable/modules/linear_model.html#logistic-regression\n",
      "  n_iter_i = _check_optimize_result(\n"
     ]
    },
    {
     "name": "stdout",
     "output_type": "stream",
     "text": [
      "[CV] END class_weight={0: 1, 1: 2}, max_iter=10000, solver=lbfgs, tol=0.0001; total time=  22.4s\n"
     ]
    },
    {
     "name": "stderr",
     "output_type": "stream",
     "text": [
      "/Library/Frameworks/Python.framework/Versions/3.12/lib/python3.12/site-packages/sklearn/linear_model/_logistic.py:469: ConvergenceWarning: lbfgs failed to converge (status=1):\n",
      "STOP: TOTAL NO. of ITERATIONS REACHED LIMIT.\n",
      "\n",
      "Increase the number of iterations (max_iter) or scale the data as shown in:\n",
      "    https://scikit-learn.org/stable/modules/preprocessing.html\n",
      "Please also refer to the documentation for alternative solver options:\n",
      "    https://scikit-learn.org/stable/modules/linear_model.html#logistic-regression\n",
      "  n_iter_i = _check_optimize_result(\n"
     ]
    },
    {
     "name": "stdout",
     "output_type": "stream",
     "text": [
      "[CV] END class_weight={0: 1, 1: 2}, max_iter=10000, solver=lbfgs, tol=1e-05; total time=  21.8s\n"
     ]
    },
    {
     "name": "stderr",
     "output_type": "stream",
     "text": [
      "/Library/Frameworks/Python.framework/Versions/3.12/lib/python3.12/site-packages/sklearn/linear_model/_logistic.py:469: ConvergenceWarning: lbfgs failed to converge (status=1):\n",
      "STOP: TOTAL NO. of ITERATIONS REACHED LIMIT.\n",
      "\n",
      "Increase the number of iterations (max_iter) or scale the data as shown in:\n",
      "    https://scikit-learn.org/stable/modules/preprocessing.html\n",
      "Please also refer to the documentation for alternative solver options:\n",
      "    https://scikit-learn.org/stable/modules/linear_model.html#logistic-regression\n",
      "  n_iter_i = _check_optimize_result(\n"
     ]
    },
    {
     "name": "stdout",
     "output_type": "stream",
     "text": [
      "[CV] END class_weight={0: 1, 1: 2}, max_iter=10000, solver=lbfgs, tol=1e-05; total time=  22.1s\n"
     ]
    },
    {
     "name": "stderr",
     "output_type": "stream",
     "text": [
      "/Library/Frameworks/Python.framework/Versions/3.12/lib/python3.12/site-packages/sklearn/linear_model/_logistic.py:469: ConvergenceWarning: lbfgs failed to converge (status=1):\n",
      "STOP: TOTAL NO. of ITERATIONS REACHED LIMIT.\n",
      "\n",
      "Increase the number of iterations (max_iter) or scale the data as shown in:\n",
      "    https://scikit-learn.org/stable/modules/preprocessing.html\n",
      "Please also refer to the documentation for alternative solver options:\n",
      "    https://scikit-learn.org/stable/modules/linear_model.html#logistic-regression\n",
      "  n_iter_i = _check_optimize_result(\n"
     ]
    },
    {
     "name": "stdout",
     "output_type": "stream",
     "text": [
      "[CV] END class_weight={0: 1, 1: 2}, max_iter=10000, solver=lbfgs, tol=1e-05; total time=  22.6s\n"
     ]
    },
    {
     "name": "stderr",
     "output_type": "stream",
     "text": [
      "/Library/Frameworks/Python.framework/Versions/3.12/lib/python3.12/site-packages/sklearn/linear_model/_logistic.py:469: ConvergenceWarning: lbfgs failed to converge (status=1):\n",
      "STOP: TOTAL NO. of ITERATIONS REACHED LIMIT.\n",
      "\n",
      "Increase the number of iterations (max_iter) or scale the data as shown in:\n",
      "    https://scikit-learn.org/stable/modules/preprocessing.html\n",
      "Please also refer to the documentation for alternative solver options:\n",
      "    https://scikit-learn.org/stable/modules/linear_model.html#logistic-regression\n",
      "  n_iter_i = _check_optimize_result(\n"
     ]
    },
    {
     "name": "stdout",
     "output_type": "stream",
     "text": [
      "[CV] END class_weight={0: 1, 1: 2}, max_iter=10000, solver=lbfgs, tol=1e-05; total time=  22.6s\n"
     ]
    },
    {
     "name": "stderr",
     "output_type": "stream",
     "text": [
      "/Library/Frameworks/Python.framework/Versions/3.12/lib/python3.12/site-packages/sklearn/linear_model/_logistic.py:469: ConvergenceWarning: lbfgs failed to converge (status=1):\n",
      "STOP: TOTAL NO. of ITERATIONS REACHED LIMIT.\n",
      "\n",
      "Increase the number of iterations (max_iter) or scale the data as shown in:\n",
      "    https://scikit-learn.org/stable/modules/preprocessing.html\n",
      "Please also refer to the documentation for alternative solver options:\n",
      "    https://scikit-learn.org/stable/modules/linear_model.html#logistic-regression\n",
      "  n_iter_i = _check_optimize_result(\n",
      "/Library/Frameworks/Python.framework/Versions/3.12/lib/python3.12/site-packages/sklearn/linear_model/_logistic.py:1216: UserWarning: 'n_jobs' > 1 does not have any effect when 'solver' is set to 'liblinear'. Got 'n_jobs' = 5.\n",
      "  warnings.warn(\n"
     ]
    },
    {
     "name": "stdout",
     "output_type": "stream",
     "text": [
      "[CV] END class_weight={0: 1, 1: 2}, max_iter=10000, solver=lbfgs, tol=1e-05; total time=  21.4s\n",
      "[CV] END class_weight={0: 1, 1: 2}, max_iter=10000, solver=liblinear, tol=0.001; total time=   6.2s\n"
     ]
    },
    {
     "name": "stderr",
     "output_type": "stream",
     "text": [
      "/Library/Frameworks/Python.framework/Versions/3.12/lib/python3.12/site-packages/sklearn/linear_model/_logistic.py:1216: UserWarning: 'n_jobs' > 1 does not have any effect when 'solver' is set to 'liblinear'. Got 'n_jobs' = 5.\n",
      "  warnings.warn(\n"
     ]
    },
    {
     "name": "stdout",
     "output_type": "stream",
     "text": [
      "[CV] END class_weight={0: 1, 1: 2}, max_iter=10000, solver=liblinear, tol=0.001; total time=   8.0s\n"
     ]
    },
    {
     "name": "stderr",
     "output_type": "stream",
     "text": [
      "/Library/Frameworks/Python.framework/Versions/3.12/lib/python3.12/site-packages/sklearn/linear_model/_logistic.py:1216: UserWarning: 'n_jobs' > 1 does not have any effect when 'solver' is set to 'liblinear'. Got 'n_jobs' = 5.\n",
      "  warnings.warn(\n"
     ]
    },
    {
     "name": "stdout",
     "output_type": "stream",
     "text": [
      "[CV] END class_weight={0: 1, 1: 2}, max_iter=10000, solver=liblinear, tol=0.001; total time=   5.4s\n"
     ]
    },
    {
     "name": "stderr",
     "output_type": "stream",
     "text": [
      "/Library/Frameworks/Python.framework/Versions/3.12/lib/python3.12/site-packages/sklearn/linear_model/_logistic.py:1216: UserWarning: 'n_jobs' > 1 does not have any effect when 'solver' is set to 'liblinear'. Got 'n_jobs' = 5.\n",
      "  warnings.warn(\n"
     ]
    },
    {
     "name": "stdout",
     "output_type": "stream",
     "text": [
      "[CV] END class_weight={0: 1, 1: 2}, max_iter=10000, solver=liblinear, tol=0.001; total time=   6.1s\n"
     ]
    },
    {
     "name": "stderr",
     "output_type": "stream",
     "text": [
      "/Library/Frameworks/Python.framework/Versions/3.12/lib/python3.12/site-packages/sklearn/linear_model/_logistic.py:1216: UserWarning: 'n_jobs' > 1 does not have any effect when 'solver' is set to 'liblinear'. Got 'n_jobs' = 5.\n",
      "  warnings.warn(\n"
     ]
    },
    {
     "name": "stdout",
     "output_type": "stream",
     "text": [
      "[CV] END class_weight={0: 1, 1: 2}, max_iter=10000, solver=liblinear, tol=0.001; total time=   8.1s\n"
     ]
    },
    {
     "name": "stderr",
     "output_type": "stream",
     "text": [
      "/Library/Frameworks/Python.framework/Versions/3.12/lib/python3.12/site-packages/sklearn/linear_model/_logistic.py:1216: UserWarning: 'n_jobs' > 1 does not have any effect when 'solver' is set to 'liblinear'. Got 'n_jobs' = 5.\n",
      "  warnings.warn(\n"
     ]
    },
    {
     "name": "stdout",
     "output_type": "stream",
     "text": [
      "[CV] END class_weight={0: 1, 1: 2}, max_iter=10000, solver=liblinear, tol=0.0001; total time=  12.0s\n"
     ]
    },
    {
     "name": "stderr",
     "output_type": "stream",
     "text": [
      "/Library/Frameworks/Python.framework/Versions/3.12/lib/python3.12/site-packages/sklearn/linear_model/_logistic.py:1216: UserWarning: 'n_jobs' > 1 does not have any effect when 'solver' is set to 'liblinear'. Got 'n_jobs' = 5.\n",
      "  warnings.warn(\n"
     ]
    },
    {
     "name": "stdout",
     "output_type": "stream",
     "text": [
      "[CV] END class_weight={0: 1, 1: 2}, max_iter=10000, solver=liblinear, tol=0.0001; total time=  12.2s\n"
     ]
    },
    {
     "name": "stderr",
     "output_type": "stream",
     "text": [
      "/Library/Frameworks/Python.framework/Versions/3.12/lib/python3.12/site-packages/sklearn/linear_model/_logistic.py:1216: UserWarning: 'n_jobs' > 1 does not have any effect when 'solver' is set to 'liblinear'. Got 'n_jobs' = 5.\n",
      "  warnings.warn(\n"
     ]
    },
    {
     "name": "stdout",
     "output_type": "stream",
     "text": [
      "[CV] END class_weight={0: 1, 1: 2}, max_iter=10000, solver=liblinear, tol=0.0001; total time=   9.5s\n"
     ]
    },
    {
     "name": "stderr",
     "output_type": "stream",
     "text": [
      "/Library/Frameworks/Python.framework/Versions/3.12/lib/python3.12/site-packages/sklearn/linear_model/_logistic.py:1216: UserWarning: 'n_jobs' > 1 does not have any effect when 'solver' is set to 'liblinear'. Got 'n_jobs' = 5.\n",
      "  warnings.warn(\n"
     ]
    },
    {
     "name": "stdout",
     "output_type": "stream",
     "text": [
      "[CV] END class_weight={0: 1, 1: 2}, max_iter=10000, solver=liblinear, tol=0.0001; total time=   8.6s\n"
     ]
    },
    {
     "name": "stderr",
     "output_type": "stream",
     "text": [
      "/Library/Frameworks/Python.framework/Versions/3.12/lib/python3.12/site-packages/sklearn/linear_model/_logistic.py:1216: UserWarning: 'n_jobs' > 1 does not have any effect when 'solver' is set to 'liblinear'. Got 'n_jobs' = 5.\n",
      "  warnings.warn(\n"
     ]
    },
    {
     "name": "stdout",
     "output_type": "stream",
     "text": [
      "[CV] END class_weight={0: 1, 1: 2}, max_iter=10000, solver=liblinear, tol=0.0001; total time=  14.8s\n"
     ]
    },
    {
     "name": "stderr",
     "output_type": "stream",
     "text": [
      "/Library/Frameworks/Python.framework/Versions/3.12/lib/python3.12/site-packages/sklearn/linear_model/_logistic.py:1216: UserWarning: 'n_jobs' > 1 does not have any effect when 'solver' is set to 'liblinear'. Got 'n_jobs' = 5.\n",
      "  warnings.warn(\n"
     ]
    },
    {
     "name": "stdout",
     "output_type": "stream",
     "text": [
      "[CV] END class_weight={0: 1, 1: 2}, max_iter=10000, solver=liblinear, tol=1e-05; total time=  14.9s\n"
     ]
    },
    {
     "name": "stderr",
     "output_type": "stream",
     "text": [
      "/Library/Frameworks/Python.framework/Versions/3.12/lib/python3.12/site-packages/sklearn/linear_model/_logistic.py:1216: UserWarning: 'n_jobs' > 1 does not have any effect when 'solver' is set to 'liblinear'. Got 'n_jobs' = 5.\n",
      "  warnings.warn(\n"
     ]
    },
    {
     "name": "stdout",
     "output_type": "stream",
     "text": [
      "[CV] END class_weight={0: 1, 1: 2}, max_iter=10000, solver=liblinear, tol=1e-05; total time=  13.6s\n"
     ]
    },
    {
     "name": "stderr",
     "output_type": "stream",
     "text": [
      "/Library/Frameworks/Python.framework/Versions/3.12/lib/python3.12/site-packages/sklearn/linear_model/_logistic.py:1216: UserWarning: 'n_jobs' > 1 does not have any effect when 'solver' is set to 'liblinear'. Got 'n_jobs' = 5.\n",
      "  warnings.warn(\n"
     ]
    },
    {
     "name": "stdout",
     "output_type": "stream",
     "text": [
      "[CV] END class_weight={0: 1, 1: 2}, max_iter=10000, solver=liblinear, tol=1e-05; total time=  10.1s\n"
     ]
    },
    {
     "name": "stderr",
     "output_type": "stream",
     "text": [
      "/Library/Frameworks/Python.framework/Versions/3.12/lib/python3.12/site-packages/sklearn/linear_model/_logistic.py:1216: UserWarning: 'n_jobs' > 1 does not have any effect when 'solver' is set to 'liblinear'. Got 'n_jobs' = 5.\n",
      "  warnings.warn(\n"
     ]
    },
    {
     "name": "stdout",
     "output_type": "stream",
     "text": [
      "[CV] END class_weight={0: 1, 1: 2}, max_iter=10000, solver=liblinear, tol=1e-05; total time=   9.2s\n"
     ]
    },
    {
     "name": "stderr",
     "output_type": "stream",
     "text": [
      "/Library/Frameworks/Python.framework/Versions/3.12/lib/python3.12/site-packages/sklearn/linear_model/_logistic.py:1216: UserWarning: 'n_jobs' > 1 does not have any effect when 'solver' is set to 'liblinear'. Got 'n_jobs' = 5.\n",
      "  warnings.warn(\n"
     ]
    },
    {
     "name": "stdout",
     "output_type": "stream",
     "text": [
      "[CV] END class_weight={0: 1, 1: 2}, max_iter=10000, solver=liblinear, tol=1e-05; total time=  15.7s\n"
     ]
    },
    {
     "name": "stderr",
     "output_type": "stream",
     "text": [
      "/Library/Frameworks/Python.framework/Versions/3.12/lib/python3.12/site-packages/sklearn/linear_model/_logistic.py:469: ConvergenceWarning: lbfgs failed to converge (status=1):\n",
      "STOP: TOTAL NO. of ITERATIONS REACHED LIMIT.\n",
      "\n",
      "Increase the number of iterations (max_iter) or scale the data as shown in:\n",
      "    https://scikit-learn.org/stable/modules/preprocessing.html\n",
      "Please also refer to the documentation for alternative solver options:\n",
      "    https://scikit-learn.org/stable/modules/linear_model.html#logistic-regression\n",
      "  n_iter_i = _check_optimize_result(\n"
     ]
    },
    {
     "name": "stdout",
     "output_type": "stream",
     "text": [
      "[CV] END class_weight={0: 1, 1: 3}, max_iter=2000, solver=lbfgs, tol=0.001; total time=   5.4s\n"
     ]
    },
    {
     "name": "stderr",
     "output_type": "stream",
     "text": [
      "/Library/Frameworks/Python.framework/Versions/3.12/lib/python3.12/site-packages/sklearn/linear_model/_logistic.py:469: ConvergenceWarning: lbfgs failed to converge (status=1):\n",
      "STOP: TOTAL NO. of ITERATIONS REACHED LIMIT.\n",
      "\n",
      "Increase the number of iterations (max_iter) or scale the data as shown in:\n",
      "    https://scikit-learn.org/stable/modules/preprocessing.html\n",
      "Please also refer to the documentation for alternative solver options:\n",
      "    https://scikit-learn.org/stable/modules/linear_model.html#logistic-regression\n",
      "  n_iter_i = _check_optimize_result(\n"
     ]
    },
    {
     "name": "stdout",
     "output_type": "stream",
     "text": [
      "[CV] END class_weight={0: 1, 1: 3}, max_iter=2000, solver=lbfgs, tol=0.001; total time=   5.4s\n"
     ]
    },
    {
     "name": "stderr",
     "output_type": "stream",
     "text": [
      "/Library/Frameworks/Python.framework/Versions/3.12/lib/python3.12/site-packages/sklearn/linear_model/_logistic.py:469: ConvergenceWarning: lbfgs failed to converge (status=1):\n",
      "STOP: TOTAL NO. of ITERATIONS REACHED LIMIT.\n",
      "\n",
      "Increase the number of iterations (max_iter) or scale the data as shown in:\n",
      "    https://scikit-learn.org/stable/modules/preprocessing.html\n",
      "Please also refer to the documentation for alternative solver options:\n",
      "    https://scikit-learn.org/stable/modules/linear_model.html#logistic-regression\n",
      "  n_iter_i = _check_optimize_result(\n"
     ]
    },
    {
     "name": "stdout",
     "output_type": "stream",
     "text": [
      "[CV] END class_weight={0: 1, 1: 3}, max_iter=2000, solver=lbfgs, tol=0.001; total time=   5.4s\n"
     ]
    },
    {
     "name": "stderr",
     "output_type": "stream",
     "text": [
      "/Library/Frameworks/Python.framework/Versions/3.12/lib/python3.12/site-packages/sklearn/linear_model/_logistic.py:469: ConvergenceWarning: lbfgs failed to converge (status=1):\n",
      "STOP: TOTAL NO. of ITERATIONS REACHED LIMIT.\n",
      "\n",
      "Increase the number of iterations (max_iter) or scale the data as shown in:\n",
      "    https://scikit-learn.org/stable/modules/preprocessing.html\n",
      "Please also refer to the documentation for alternative solver options:\n",
      "    https://scikit-learn.org/stable/modules/linear_model.html#logistic-regression\n",
      "  n_iter_i = _check_optimize_result(\n"
     ]
    },
    {
     "name": "stdout",
     "output_type": "stream",
     "text": [
      "[CV] END class_weight={0: 1, 1: 3}, max_iter=2000, solver=lbfgs, tol=0.001; total time=   5.5s\n"
     ]
    },
    {
     "name": "stderr",
     "output_type": "stream",
     "text": [
      "/Library/Frameworks/Python.framework/Versions/3.12/lib/python3.12/site-packages/sklearn/linear_model/_logistic.py:469: ConvergenceWarning: lbfgs failed to converge (status=1):\n",
      "STOP: TOTAL NO. of ITERATIONS REACHED LIMIT.\n",
      "\n",
      "Increase the number of iterations (max_iter) or scale the data as shown in:\n",
      "    https://scikit-learn.org/stable/modules/preprocessing.html\n",
      "Please also refer to the documentation for alternative solver options:\n",
      "    https://scikit-learn.org/stable/modules/linear_model.html#logistic-regression\n",
      "  n_iter_i = _check_optimize_result(\n"
     ]
    },
    {
     "name": "stdout",
     "output_type": "stream",
     "text": [
      "[CV] END class_weight={0: 1, 1: 3}, max_iter=2000, solver=lbfgs, tol=0.001; total time=   5.4s\n"
     ]
    },
    {
     "name": "stderr",
     "output_type": "stream",
     "text": [
      "/Library/Frameworks/Python.framework/Versions/3.12/lib/python3.12/site-packages/sklearn/linear_model/_logistic.py:469: ConvergenceWarning: lbfgs failed to converge (status=1):\n",
      "STOP: TOTAL NO. of ITERATIONS REACHED LIMIT.\n",
      "\n",
      "Increase the number of iterations (max_iter) or scale the data as shown in:\n",
      "    https://scikit-learn.org/stable/modules/preprocessing.html\n",
      "Please also refer to the documentation for alternative solver options:\n",
      "    https://scikit-learn.org/stable/modules/linear_model.html#logistic-regression\n",
      "  n_iter_i = _check_optimize_result(\n"
     ]
    },
    {
     "name": "stdout",
     "output_type": "stream",
     "text": [
      "[CV] END class_weight={0: 1, 1: 3}, max_iter=2000, solver=lbfgs, tol=0.0001; total time=   5.4s\n"
     ]
    },
    {
     "name": "stderr",
     "output_type": "stream",
     "text": [
      "/Library/Frameworks/Python.framework/Versions/3.12/lib/python3.12/site-packages/sklearn/linear_model/_logistic.py:469: ConvergenceWarning: lbfgs failed to converge (status=1):\n",
      "STOP: TOTAL NO. of ITERATIONS REACHED LIMIT.\n",
      "\n",
      "Increase the number of iterations (max_iter) or scale the data as shown in:\n",
      "    https://scikit-learn.org/stable/modules/preprocessing.html\n",
      "Please also refer to the documentation for alternative solver options:\n",
      "    https://scikit-learn.org/stable/modules/linear_model.html#logistic-regression\n",
      "  n_iter_i = _check_optimize_result(\n"
     ]
    },
    {
     "name": "stdout",
     "output_type": "stream",
     "text": [
      "[CV] END class_weight={0: 1, 1: 3}, max_iter=2000, solver=lbfgs, tol=0.0001; total time=   5.4s\n"
     ]
    },
    {
     "name": "stderr",
     "output_type": "stream",
     "text": [
      "/Library/Frameworks/Python.framework/Versions/3.12/lib/python3.12/site-packages/sklearn/linear_model/_logistic.py:469: ConvergenceWarning: lbfgs failed to converge (status=1):\n",
      "STOP: TOTAL NO. of ITERATIONS REACHED LIMIT.\n",
      "\n",
      "Increase the number of iterations (max_iter) or scale the data as shown in:\n",
      "    https://scikit-learn.org/stable/modules/preprocessing.html\n",
      "Please also refer to the documentation for alternative solver options:\n",
      "    https://scikit-learn.org/stable/modules/linear_model.html#logistic-regression\n",
      "  n_iter_i = _check_optimize_result(\n"
     ]
    },
    {
     "name": "stdout",
     "output_type": "stream",
     "text": [
      "[CV] END class_weight={0: 1, 1: 3}, max_iter=2000, solver=lbfgs, tol=0.0001; total time=   5.4s\n"
     ]
    },
    {
     "name": "stderr",
     "output_type": "stream",
     "text": [
      "/Library/Frameworks/Python.framework/Versions/3.12/lib/python3.12/site-packages/sklearn/linear_model/_logistic.py:469: ConvergenceWarning: lbfgs failed to converge (status=1):\n",
      "STOP: TOTAL NO. of ITERATIONS REACHED LIMIT.\n",
      "\n",
      "Increase the number of iterations (max_iter) or scale the data as shown in:\n",
      "    https://scikit-learn.org/stable/modules/preprocessing.html\n",
      "Please also refer to the documentation for alternative solver options:\n",
      "    https://scikit-learn.org/stable/modules/linear_model.html#logistic-regression\n",
      "  n_iter_i = _check_optimize_result(\n"
     ]
    },
    {
     "name": "stdout",
     "output_type": "stream",
     "text": [
      "[CV] END class_weight={0: 1, 1: 3}, max_iter=2000, solver=lbfgs, tol=0.0001; total time=   5.4s\n"
     ]
    },
    {
     "name": "stderr",
     "output_type": "stream",
     "text": [
      "/Library/Frameworks/Python.framework/Versions/3.12/lib/python3.12/site-packages/sklearn/linear_model/_logistic.py:469: ConvergenceWarning: lbfgs failed to converge (status=1):\n",
      "STOP: TOTAL NO. of ITERATIONS REACHED LIMIT.\n",
      "\n",
      "Increase the number of iterations (max_iter) or scale the data as shown in:\n",
      "    https://scikit-learn.org/stable/modules/preprocessing.html\n",
      "Please also refer to the documentation for alternative solver options:\n",
      "    https://scikit-learn.org/stable/modules/linear_model.html#logistic-regression\n",
      "  n_iter_i = _check_optimize_result(\n"
     ]
    },
    {
     "name": "stdout",
     "output_type": "stream",
     "text": [
      "[CV] END class_weight={0: 1, 1: 3}, max_iter=2000, solver=lbfgs, tol=0.0001; total time=   5.4s\n"
     ]
    },
    {
     "name": "stderr",
     "output_type": "stream",
     "text": [
      "/Library/Frameworks/Python.framework/Versions/3.12/lib/python3.12/site-packages/sklearn/linear_model/_logistic.py:469: ConvergenceWarning: lbfgs failed to converge (status=1):\n",
      "STOP: TOTAL NO. of ITERATIONS REACHED LIMIT.\n",
      "\n",
      "Increase the number of iterations (max_iter) or scale the data as shown in:\n",
      "    https://scikit-learn.org/stable/modules/preprocessing.html\n",
      "Please also refer to the documentation for alternative solver options:\n",
      "    https://scikit-learn.org/stable/modules/linear_model.html#logistic-regression\n",
      "  n_iter_i = _check_optimize_result(\n"
     ]
    },
    {
     "name": "stdout",
     "output_type": "stream",
     "text": [
      "[CV] END class_weight={0: 1, 1: 3}, max_iter=2000, solver=lbfgs, tol=1e-05; total time=   5.4s\n"
     ]
    },
    {
     "name": "stderr",
     "output_type": "stream",
     "text": [
      "/Library/Frameworks/Python.framework/Versions/3.12/lib/python3.12/site-packages/sklearn/linear_model/_logistic.py:469: ConvergenceWarning: lbfgs failed to converge (status=1):\n",
      "STOP: TOTAL NO. of ITERATIONS REACHED LIMIT.\n",
      "\n",
      "Increase the number of iterations (max_iter) or scale the data as shown in:\n",
      "    https://scikit-learn.org/stable/modules/preprocessing.html\n",
      "Please also refer to the documentation for alternative solver options:\n",
      "    https://scikit-learn.org/stable/modules/linear_model.html#logistic-regression\n",
      "  n_iter_i = _check_optimize_result(\n"
     ]
    },
    {
     "name": "stdout",
     "output_type": "stream",
     "text": [
      "[CV] END class_weight={0: 1, 1: 3}, max_iter=2000, solver=lbfgs, tol=1e-05; total time=   5.4s\n"
     ]
    },
    {
     "name": "stderr",
     "output_type": "stream",
     "text": [
      "/Library/Frameworks/Python.framework/Versions/3.12/lib/python3.12/site-packages/sklearn/linear_model/_logistic.py:469: ConvergenceWarning: lbfgs failed to converge (status=1):\n",
      "STOP: TOTAL NO. of ITERATIONS REACHED LIMIT.\n",
      "\n",
      "Increase the number of iterations (max_iter) or scale the data as shown in:\n",
      "    https://scikit-learn.org/stable/modules/preprocessing.html\n",
      "Please also refer to the documentation for alternative solver options:\n",
      "    https://scikit-learn.org/stable/modules/linear_model.html#logistic-regression\n",
      "  n_iter_i = _check_optimize_result(\n"
     ]
    },
    {
     "name": "stdout",
     "output_type": "stream",
     "text": [
      "[CV] END class_weight={0: 1, 1: 3}, max_iter=2000, solver=lbfgs, tol=1e-05; total time=   5.4s\n"
     ]
    },
    {
     "name": "stderr",
     "output_type": "stream",
     "text": [
      "/Library/Frameworks/Python.framework/Versions/3.12/lib/python3.12/site-packages/sklearn/linear_model/_logistic.py:469: ConvergenceWarning: lbfgs failed to converge (status=1):\n",
      "STOP: TOTAL NO. of ITERATIONS REACHED LIMIT.\n",
      "\n",
      "Increase the number of iterations (max_iter) or scale the data as shown in:\n",
      "    https://scikit-learn.org/stable/modules/preprocessing.html\n",
      "Please also refer to the documentation for alternative solver options:\n",
      "    https://scikit-learn.org/stable/modules/linear_model.html#logistic-regression\n",
      "  n_iter_i = _check_optimize_result(\n"
     ]
    },
    {
     "name": "stdout",
     "output_type": "stream",
     "text": [
      "[CV] END class_weight={0: 1, 1: 3}, max_iter=2000, solver=lbfgs, tol=1e-05; total time=   5.5s\n"
     ]
    },
    {
     "name": "stderr",
     "output_type": "stream",
     "text": [
      "/Library/Frameworks/Python.framework/Versions/3.12/lib/python3.12/site-packages/sklearn/linear_model/_logistic.py:469: ConvergenceWarning: lbfgs failed to converge (status=1):\n",
      "STOP: TOTAL NO. of ITERATIONS REACHED LIMIT.\n",
      "\n",
      "Increase the number of iterations (max_iter) or scale the data as shown in:\n",
      "    https://scikit-learn.org/stable/modules/preprocessing.html\n",
      "Please also refer to the documentation for alternative solver options:\n",
      "    https://scikit-learn.org/stable/modules/linear_model.html#logistic-regression\n",
      "  n_iter_i = _check_optimize_result(\n"
     ]
    },
    {
     "name": "stdout",
     "output_type": "stream",
     "text": [
      "[CV] END class_weight={0: 1, 1: 3}, max_iter=2000, solver=lbfgs, tol=1e-05; total time=   5.4s\n"
     ]
    },
    {
     "name": "stderr",
     "output_type": "stream",
     "text": [
      "/Library/Frameworks/Python.framework/Versions/3.12/lib/python3.12/site-packages/sklearn/linear_model/_logistic.py:1216: UserWarning: 'n_jobs' > 1 does not have any effect when 'solver' is set to 'liblinear'. Got 'n_jobs' = 5.\n",
      "  warnings.warn(\n",
      "/Library/Frameworks/Python.framework/Versions/3.12/lib/python3.12/site-packages/sklearn/svm/_base.py:1237: ConvergenceWarning: Liblinear failed to converge, increase the number of iterations.\n",
      "  warnings.warn(\n",
      "/Library/Frameworks/Python.framework/Versions/3.12/lib/python3.12/site-packages/sklearn/linear_model/_logistic.py:1216: UserWarning: 'n_jobs' > 1 does not have any effect when 'solver' is set to 'liblinear'. Got 'n_jobs' = 5.\n",
      "  warnings.warn(\n"
     ]
    },
    {
     "name": "stdout",
     "output_type": "stream",
     "text": [
      "[CV] END class_weight={0: 1, 1: 3}, max_iter=2000, solver=liblinear, tol=0.001; total time=   4.7s\n"
     ]
    },
    {
     "name": "stderr",
     "output_type": "stream",
     "text": [
      "/Library/Frameworks/Python.framework/Versions/3.12/lib/python3.12/site-packages/sklearn/svm/_base.py:1237: ConvergenceWarning: Liblinear failed to converge, increase the number of iterations.\n",
      "  warnings.warn(\n",
      "/Library/Frameworks/Python.framework/Versions/3.12/lib/python3.12/site-packages/sklearn/linear_model/_logistic.py:1216: UserWarning: 'n_jobs' > 1 does not have any effect when 'solver' is set to 'liblinear'. Got 'n_jobs' = 5.\n",
      "  warnings.warn(\n"
     ]
    },
    {
     "name": "stdout",
     "output_type": "stream",
     "text": [
      "[CV] END class_weight={0: 1, 1: 3}, max_iter=2000, solver=liblinear, tol=0.001; total time=   6.7s\n",
      "[CV] END class_weight={0: 1, 1: 3}, max_iter=2000, solver=liblinear, tol=0.001; total time=   6.5s\n"
     ]
    },
    {
     "name": "stderr",
     "output_type": "stream",
     "text": [
      "/Library/Frameworks/Python.framework/Versions/3.12/lib/python3.12/site-packages/sklearn/linear_model/_logistic.py:1216: UserWarning: 'n_jobs' > 1 does not have any effect when 'solver' is set to 'liblinear'. Got 'n_jobs' = 5.\n",
      "  warnings.warn(\n"
     ]
    },
    {
     "name": "stdout",
     "output_type": "stream",
     "text": [
      "[CV] END class_weight={0: 1, 1: 3}, max_iter=2000, solver=liblinear, tol=0.001; total time=   8.5s\n"
     ]
    },
    {
     "name": "stderr",
     "output_type": "stream",
     "text": [
      "/Library/Frameworks/Python.framework/Versions/3.12/lib/python3.12/site-packages/sklearn/linear_model/_logistic.py:1216: UserWarning: 'n_jobs' > 1 does not have any effect when 'solver' is set to 'liblinear'. Got 'n_jobs' = 5.\n",
      "  warnings.warn(\n",
      "/Library/Frameworks/Python.framework/Versions/3.12/lib/python3.12/site-packages/sklearn/svm/_base.py:1237: ConvergenceWarning: Liblinear failed to converge, increase the number of iterations.\n",
      "  warnings.warn(\n",
      "/Library/Frameworks/Python.framework/Versions/3.12/lib/python3.12/site-packages/sklearn/linear_model/_logistic.py:1216: UserWarning: 'n_jobs' > 1 does not have any effect when 'solver' is set to 'liblinear'. Got 'n_jobs' = 5.\n",
      "  warnings.warn(\n"
     ]
    },
    {
     "name": "stdout",
     "output_type": "stream",
     "text": [
      "[CV] END class_weight={0: 1, 1: 3}, max_iter=2000, solver=liblinear, tol=0.001; total time=   5.6s\n"
     ]
    },
    {
     "name": "stderr",
     "output_type": "stream",
     "text": [
      "/Library/Frameworks/Python.framework/Versions/3.12/lib/python3.12/site-packages/sklearn/svm/_base.py:1237: ConvergenceWarning: Liblinear failed to converge, increase the number of iterations.\n",
      "  warnings.warn(\n",
      "/Library/Frameworks/Python.framework/Versions/3.12/lib/python3.12/site-packages/sklearn/linear_model/_logistic.py:1216: UserWarning: 'n_jobs' > 1 does not have any effect when 'solver' is set to 'liblinear'. Got 'n_jobs' = 5.\n",
      "  warnings.warn(\n"
     ]
    },
    {
     "name": "stdout",
     "output_type": "stream",
     "text": [
      "[CV] END class_weight={0: 1, 1: 3}, max_iter=2000, solver=liblinear, tol=0.0001; total time=   4.6s\n"
     ]
    },
    {
     "name": "stderr",
     "output_type": "stream",
     "text": [
      "/Library/Frameworks/Python.framework/Versions/3.12/lib/python3.12/site-packages/sklearn/svm/_base.py:1237: ConvergenceWarning: Liblinear failed to converge, increase the number of iterations.\n",
      "  warnings.warn(\n",
      "/Library/Frameworks/Python.framework/Versions/3.12/lib/python3.12/site-packages/sklearn/linear_model/_logistic.py:1216: UserWarning: 'n_jobs' > 1 does not have any effect when 'solver' is set to 'liblinear'. Got 'n_jobs' = 5.\n",
      "  warnings.warn(\n"
     ]
    },
    {
     "name": "stdout",
     "output_type": "stream",
     "text": [
      "[CV] END class_weight={0: 1, 1: 3}, max_iter=2000, solver=liblinear, tol=0.0001; total time=   6.7s\n",
      "[CV] END class_weight={0: 1, 1: 3}, max_iter=2000, solver=liblinear, tol=0.0001; total time=  11.0s\n"
     ]
    },
    {
     "name": "stderr",
     "output_type": "stream",
     "text": [
      "/Library/Frameworks/Python.framework/Versions/3.12/lib/python3.12/site-packages/sklearn/linear_model/_logistic.py:1216: UserWarning: 'n_jobs' > 1 does not have any effect when 'solver' is set to 'liblinear'. Got 'n_jobs' = 5.\n",
      "  warnings.warn(\n",
      "/Library/Frameworks/Python.framework/Versions/3.12/lib/python3.12/site-packages/sklearn/svm/_base.py:1237: ConvergenceWarning: Liblinear failed to converge, increase the number of iterations.\n",
      "  warnings.warn(\n",
      "/Library/Frameworks/Python.framework/Versions/3.12/lib/python3.12/site-packages/sklearn/linear_model/_logistic.py:1216: UserWarning: 'n_jobs' > 1 does not have any effect when 'solver' is set to 'liblinear'. Got 'n_jobs' = 5.\n",
      "  warnings.warn(\n"
     ]
    },
    {
     "name": "stdout",
     "output_type": "stream",
     "text": [
      "[CV] END class_weight={0: 1, 1: 3}, max_iter=2000, solver=liblinear, tol=0.0001; total time=   9.5s\n"
     ]
    },
    {
     "name": "stderr",
     "output_type": "stream",
     "text": [
      "/Library/Frameworks/Python.framework/Versions/3.12/lib/python3.12/site-packages/sklearn/svm/_base.py:1237: ConvergenceWarning: Liblinear failed to converge, increase the number of iterations.\n",
      "  warnings.warn(\n",
      "/Library/Frameworks/Python.framework/Versions/3.12/lib/python3.12/site-packages/sklearn/linear_model/_logistic.py:1216: UserWarning: 'n_jobs' > 1 does not have any effect when 'solver' is set to 'liblinear'. Got 'n_jobs' = 5.\n",
      "  warnings.warn(\n"
     ]
    },
    {
     "name": "stdout",
     "output_type": "stream",
     "text": [
      "[CV] END class_weight={0: 1, 1: 3}, max_iter=2000, solver=liblinear, tol=0.0001; total time=   5.6s\n"
     ]
    },
    {
     "name": "stderr",
     "output_type": "stream",
     "text": [
      "/Library/Frameworks/Python.framework/Versions/3.12/lib/python3.12/site-packages/sklearn/svm/_base.py:1237: ConvergenceWarning: Liblinear failed to converge, increase the number of iterations.\n",
      "  warnings.warn(\n",
      "/Library/Frameworks/Python.framework/Versions/3.12/lib/python3.12/site-packages/sklearn/linear_model/_logistic.py:1216: UserWarning: 'n_jobs' > 1 does not have any effect when 'solver' is set to 'liblinear'. Got 'n_jobs' = 5.\n",
      "  warnings.warn(\n"
     ]
    },
    {
     "name": "stdout",
     "output_type": "stream",
     "text": [
      "[CV] END class_weight={0: 1, 1: 3}, max_iter=2000, solver=liblinear, tol=1e-05; total time=   4.7s\n"
     ]
    },
    {
     "name": "stderr",
     "output_type": "stream",
     "text": [
      "/Library/Frameworks/Python.framework/Versions/3.12/lib/python3.12/site-packages/sklearn/svm/_base.py:1237: ConvergenceWarning: Liblinear failed to converge, increase the number of iterations.\n",
      "  warnings.warn(\n",
      "/Library/Frameworks/Python.framework/Versions/3.12/lib/python3.12/site-packages/sklearn/linear_model/_logistic.py:1216: UserWarning: 'n_jobs' > 1 does not have any effect when 'solver' is set to 'liblinear'. Got 'n_jobs' = 5.\n",
      "  warnings.warn(\n"
     ]
    },
    {
     "name": "stdout",
     "output_type": "stream",
     "text": [
      "[CV] END class_weight={0: 1, 1: 3}, max_iter=2000, solver=liblinear, tol=1e-05; total time=   6.8s\n",
      "[CV] END class_weight={0: 1, 1: 3}, max_iter=2000, solver=liblinear, tol=1e-05; total time=  11.6s\n"
     ]
    },
    {
     "name": "stderr",
     "output_type": "stream",
     "text": [
      "/Library/Frameworks/Python.framework/Versions/3.12/lib/python3.12/site-packages/sklearn/linear_model/_logistic.py:1216: UserWarning: 'n_jobs' > 1 does not have any effect when 'solver' is set to 'liblinear'. Got 'n_jobs' = 5.\n",
      "  warnings.warn(\n",
      "/Library/Frameworks/Python.framework/Versions/3.12/lib/python3.12/site-packages/sklearn/svm/_base.py:1237: ConvergenceWarning: Liblinear failed to converge, increase the number of iterations.\n",
      "  warnings.warn(\n",
      "/Library/Frameworks/Python.framework/Versions/3.12/lib/python3.12/site-packages/sklearn/linear_model/_logistic.py:1216: UserWarning: 'n_jobs' > 1 does not have any effect when 'solver' is set to 'liblinear'. Got 'n_jobs' = 5.\n",
      "  warnings.warn(\n"
     ]
    },
    {
     "name": "stdout",
     "output_type": "stream",
     "text": [
      "[CV] END class_weight={0: 1, 1: 3}, max_iter=2000, solver=liblinear, tol=1e-05; total time=   9.5s\n",
      "[CV] END class_weight={0: 1, 1: 3}, max_iter=2000, solver=liblinear, tol=1e-05; total time=   5.6s\n"
     ]
    },
    {
     "name": "stderr",
     "output_type": "stream",
     "text": [
      "/Library/Frameworks/Python.framework/Versions/3.12/lib/python3.12/site-packages/sklearn/svm/_base.py:1237: ConvergenceWarning: Liblinear failed to converge, increase the number of iterations.\n",
      "  warnings.warn(\n"
     ]
    },
    {
     "name": "stdout",
     "output_type": "stream",
     "text": [
      "[CV] END class_weight={0: 1, 1: 3}, max_iter=6000, solver=lbfgs, tol=0.001; total time=   7.5s\n",
      "[CV] END class_weight={0: 1, 1: 3}, max_iter=6000, solver=lbfgs, tol=0.001; total time=  11.3s\n",
      "[CV] END class_weight={0: 1, 1: 3}, max_iter=6000, solver=lbfgs, tol=0.001; total time=   9.0s\n",
      "[CV] END class_weight={0: 1, 1: 3}, max_iter=6000, solver=lbfgs, tol=0.001; total time=  11.3s\n",
      "[CV] END class_weight={0: 1, 1: 3}, max_iter=6000, solver=lbfgs, tol=0.001; total time=  11.1s\n"
     ]
    },
    {
     "name": "stderr",
     "output_type": "stream",
     "text": [
      "/Library/Frameworks/Python.framework/Versions/3.12/lib/python3.12/site-packages/sklearn/linear_model/_logistic.py:469: ConvergenceWarning: lbfgs failed to converge (status=1):\n",
      "STOP: TOTAL NO. of ITERATIONS REACHED LIMIT.\n",
      "\n",
      "Increase the number of iterations (max_iter) or scale the data as shown in:\n",
      "    https://scikit-learn.org/stable/modules/preprocessing.html\n",
      "Please also refer to the documentation for alternative solver options:\n",
      "    https://scikit-learn.org/stable/modules/linear_model.html#logistic-regression\n",
      "  n_iter_i = _check_optimize_result(\n"
     ]
    },
    {
     "name": "stdout",
     "output_type": "stream",
     "text": [
      "[CV] END class_weight={0: 1, 1: 3}, max_iter=6000, solver=lbfgs, tol=0.0001; total time=  13.6s\n"
     ]
    },
    {
     "name": "stderr",
     "output_type": "stream",
     "text": [
      "/Library/Frameworks/Python.framework/Versions/3.12/lib/python3.12/site-packages/sklearn/linear_model/_logistic.py:469: ConvergenceWarning: lbfgs failed to converge (status=1):\n",
      "STOP: TOTAL NO. of ITERATIONS REACHED LIMIT.\n",
      "\n",
      "Increase the number of iterations (max_iter) or scale the data as shown in:\n",
      "    https://scikit-learn.org/stable/modules/preprocessing.html\n",
      "Please also refer to the documentation for alternative solver options:\n",
      "    https://scikit-learn.org/stable/modules/linear_model.html#logistic-regression\n",
      "  n_iter_i = _check_optimize_result(\n"
     ]
    },
    {
     "name": "stdout",
     "output_type": "stream",
     "text": [
      "[CV] END class_weight={0: 1, 1: 3}, max_iter=6000, solver=lbfgs, tol=0.0001; total time=  12.9s\n"
     ]
    },
    {
     "name": "stderr",
     "output_type": "stream",
     "text": [
      "/Library/Frameworks/Python.framework/Versions/3.12/lib/python3.12/site-packages/sklearn/linear_model/_logistic.py:469: ConvergenceWarning: lbfgs failed to converge (status=1):\n",
      "STOP: TOTAL NO. of ITERATIONS REACHED LIMIT.\n",
      "\n",
      "Increase the number of iterations (max_iter) or scale the data as shown in:\n",
      "    https://scikit-learn.org/stable/modules/preprocessing.html\n",
      "Please also refer to the documentation for alternative solver options:\n",
      "    https://scikit-learn.org/stable/modules/linear_model.html#logistic-regression\n",
      "  n_iter_i = _check_optimize_result(\n"
     ]
    },
    {
     "name": "stdout",
     "output_type": "stream",
     "text": [
      "[CV] END class_weight={0: 1, 1: 3}, max_iter=6000, solver=lbfgs, tol=0.0001; total time=  13.9s\n"
     ]
    },
    {
     "name": "stderr",
     "output_type": "stream",
     "text": [
      "/Library/Frameworks/Python.framework/Versions/3.12/lib/python3.12/site-packages/sklearn/linear_model/_logistic.py:469: ConvergenceWarning: lbfgs failed to converge (status=1):\n",
      "STOP: TOTAL NO. of ITERATIONS REACHED LIMIT.\n",
      "\n",
      "Increase the number of iterations (max_iter) or scale the data as shown in:\n",
      "    https://scikit-learn.org/stable/modules/preprocessing.html\n",
      "Please also refer to the documentation for alternative solver options:\n",
      "    https://scikit-learn.org/stable/modules/linear_model.html#logistic-regression\n",
      "  n_iter_i = _check_optimize_result(\n"
     ]
    },
    {
     "name": "stdout",
     "output_type": "stream",
     "text": [
      "[CV] END class_weight={0: 1, 1: 3}, max_iter=6000, solver=lbfgs, tol=0.0001; total time=  13.8s\n"
     ]
    },
    {
     "name": "stderr",
     "output_type": "stream",
     "text": [
      "/Library/Frameworks/Python.framework/Versions/3.12/lib/python3.12/site-packages/sklearn/linear_model/_logistic.py:469: ConvergenceWarning: lbfgs failed to converge (status=1):\n",
      "STOP: TOTAL NO. of ITERATIONS REACHED LIMIT.\n",
      "\n",
      "Increase the number of iterations (max_iter) or scale the data as shown in:\n",
      "    https://scikit-learn.org/stable/modules/preprocessing.html\n",
      "Please also refer to the documentation for alternative solver options:\n",
      "    https://scikit-learn.org/stable/modules/linear_model.html#logistic-regression\n",
      "  n_iter_i = _check_optimize_result(\n"
     ]
    },
    {
     "name": "stdout",
     "output_type": "stream",
     "text": [
      "[CV] END class_weight={0: 1, 1: 3}, max_iter=6000, solver=lbfgs, tol=0.0001; total time=  13.8s\n"
     ]
    },
    {
     "name": "stderr",
     "output_type": "stream",
     "text": [
      "/Library/Frameworks/Python.framework/Versions/3.12/lib/python3.12/site-packages/sklearn/linear_model/_logistic.py:469: ConvergenceWarning: lbfgs failed to converge (status=1):\n",
      "STOP: TOTAL NO. of ITERATIONS REACHED LIMIT.\n",
      "\n",
      "Increase the number of iterations (max_iter) or scale the data as shown in:\n",
      "    https://scikit-learn.org/stable/modules/preprocessing.html\n",
      "Please also refer to the documentation for alternative solver options:\n",
      "    https://scikit-learn.org/stable/modules/linear_model.html#logistic-regression\n",
      "  n_iter_i = _check_optimize_result(\n"
     ]
    },
    {
     "name": "stdout",
     "output_type": "stream",
     "text": [
      "[CV] END class_weight={0: 1, 1: 3}, max_iter=6000, solver=lbfgs, tol=1e-05; total time=  13.9s\n"
     ]
    },
    {
     "name": "stderr",
     "output_type": "stream",
     "text": [
      "/Library/Frameworks/Python.framework/Versions/3.12/lib/python3.12/site-packages/sklearn/linear_model/_logistic.py:469: ConvergenceWarning: lbfgs failed to converge (status=1):\n",
      "STOP: TOTAL NO. of ITERATIONS REACHED LIMIT.\n",
      "\n",
      "Increase the number of iterations (max_iter) or scale the data as shown in:\n",
      "    https://scikit-learn.org/stable/modules/preprocessing.html\n",
      "Please also refer to the documentation for alternative solver options:\n",
      "    https://scikit-learn.org/stable/modules/linear_model.html#logistic-regression\n",
      "  n_iter_i = _check_optimize_result(\n"
     ]
    },
    {
     "name": "stdout",
     "output_type": "stream",
     "text": [
      "[CV] END class_weight={0: 1, 1: 3}, max_iter=6000, solver=lbfgs, tol=1e-05; total time=  13.9s\n"
     ]
    },
    {
     "name": "stderr",
     "output_type": "stream",
     "text": [
      "/Library/Frameworks/Python.framework/Versions/3.12/lib/python3.12/site-packages/sklearn/linear_model/_logistic.py:469: ConvergenceWarning: lbfgs failed to converge (status=1):\n",
      "STOP: TOTAL NO. of ITERATIONS REACHED LIMIT.\n",
      "\n",
      "Increase the number of iterations (max_iter) or scale the data as shown in:\n",
      "    https://scikit-learn.org/stable/modules/preprocessing.html\n",
      "Please also refer to the documentation for alternative solver options:\n",
      "    https://scikit-learn.org/stable/modules/linear_model.html#logistic-regression\n",
      "  n_iter_i = _check_optimize_result(\n"
     ]
    },
    {
     "name": "stdout",
     "output_type": "stream",
     "text": [
      "[CV] END class_weight={0: 1, 1: 3}, max_iter=6000, solver=lbfgs, tol=1e-05; total time=  14.0s\n"
     ]
    },
    {
     "name": "stderr",
     "output_type": "stream",
     "text": [
      "/Library/Frameworks/Python.framework/Versions/3.12/lib/python3.12/site-packages/sklearn/linear_model/_logistic.py:469: ConvergenceWarning: lbfgs failed to converge (status=1):\n",
      "STOP: TOTAL NO. of ITERATIONS REACHED LIMIT.\n",
      "\n",
      "Increase the number of iterations (max_iter) or scale the data as shown in:\n",
      "    https://scikit-learn.org/stable/modules/preprocessing.html\n",
      "Please also refer to the documentation for alternative solver options:\n",
      "    https://scikit-learn.org/stable/modules/linear_model.html#logistic-regression\n",
      "  n_iter_i = _check_optimize_result(\n"
     ]
    },
    {
     "name": "stdout",
     "output_type": "stream",
     "text": [
      "[CV] END class_weight={0: 1, 1: 3}, max_iter=6000, solver=lbfgs, tol=1e-05; total time=  13.9s\n"
     ]
    },
    {
     "name": "stderr",
     "output_type": "stream",
     "text": [
      "/Library/Frameworks/Python.framework/Versions/3.12/lib/python3.12/site-packages/sklearn/linear_model/_logistic.py:469: ConvergenceWarning: lbfgs failed to converge (status=1):\n",
      "STOP: TOTAL NO. of ITERATIONS REACHED LIMIT.\n",
      "\n",
      "Increase the number of iterations (max_iter) or scale the data as shown in:\n",
      "    https://scikit-learn.org/stable/modules/preprocessing.html\n",
      "Please also refer to the documentation for alternative solver options:\n",
      "    https://scikit-learn.org/stable/modules/linear_model.html#logistic-regression\n",
      "  n_iter_i = _check_optimize_result(\n",
      "/Library/Frameworks/Python.framework/Versions/3.12/lib/python3.12/site-packages/sklearn/linear_model/_logistic.py:1216: UserWarning: 'n_jobs' > 1 does not have any effect when 'solver' is set to 'liblinear'. Got 'n_jobs' = 5.\n",
      "  warnings.warn(\n"
     ]
    },
    {
     "name": "stdout",
     "output_type": "stream",
     "text": [
      "[CV] END class_weight={0: 1, 1: 3}, max_iter=6000, solver=lbfgs, tol=1e-05; total time=  12.9s\n",
      "[CV] END class_weight={0: 1, 1: 3}, max_iter=6000, solver=liblinear, tol=0.001; total time=   7.8s\n"
     ]
    },
    {
     "name": "stderr",
     "output_type": "stream",
     "text": [
      "/Library/Frameworks/Python.framework/Versions/3.12/lib/python3.12/site-packages/sklearn/linear_model/_logistic.py:1216: UserWarning: 'n_jobs' > 1 does not have any effect when 'solver' is set to 'liblinear'. Got 'n_jobs' = 5.\n",
      "  warnings.warn(\n"
     ]
    },
    {
     "name": "stdout",
     "output_type": "stream",
     "text": [
      "[CV] END class_weight={0: 1, 1: 3}, max_iter=6000, solver=liblinear, tol=0.001; total time=   7.7s\n"
     ]
    },
    {
     "name": "stderr",
     "output_type": "stream",
     "text": [
      "/Library/Frameworks/Python.framework/Versions/3.12/lib/python3.12/site-packages/sklearn/linear_model/_logistic.py:1216: UserWarning: 'n_jobs' > 1 does not have any effect when 'solver' is set to 'liblinear'. Got 'n_jobs' = 5.\n",
      "  warnings.warn(\n"
     ]
    },
    {
     "name": "stdout",
     "output_type": "stream",
     "text": [
      "[CV] END class_weight={0: 1, 1: 3}, max_iter=6000, solver=liblinear, tol=0.001; total time=   6.5s\n"
     ]
    },
    {
     "name": "stderr",
     "output_type": "stream",
     "text": [
      "/Library/Frameworks/Python.framework/Versions/3.12/lib/python3.12/site-packages/sklearn/linear_model/_logistic.py:1216: UserWarning: 'n_jobs' > 1 does not have any effect when 'solver' is set to 'liblinear'. Got 'n_jobs' = 5.\n",
      "  warnings.warn(\n"
     ]
    },
    {
     "name": "stdout",
     "output_type": "stream",
     "text": [
      "[CV] END class_weight={0: 1, 1: 3}, max_iter=6000, solver=liblinear, tol=0.001; total time=   8.5s\n"
     ]
    },
    {
     "name": "stderr",
     "output_type": "stream",
     "text": [
      "/Library/Frameworks/Python.framework/Versions/3.12/lib/python3.12/site-packages/sklearn/linear_model/_logistic.py:1216: UserWarning: 'n_jobs' > 1 does not have any effect when 'solver' is set to 'liblinear'. Got 'n_jobs' = 5.\n",
      "  warnings.warn(\n"
     ]
    },
    {
     "name": "stdout",
     "output_type": "stream",
     "text": [
      "[CV] END class_weight={0: 1, 1: 3}, max_iter=6000, solver=liblinear, tol=0.001; total time=   9.1s\n"
     ]
    },
    {
     "name": "stderr",
     "output_type": "stream",
     "text": [
      "/Library/Frameworks/Python.framework/Versions/3.12/lib/python3.12/site-packages/sklearn/linear_model/_logistic.py:1216: UserWarning: 'n_jobs' > 1 does not have any effect when 'solver' is set to 'liblinear'. Got 'n_jobs' = 5.\n",
      "  warnings.warn(\n"
     ]
    },
    {
     "name": "stdout",
     "output_type": "stream",
     "text": [
      "[CV] END class_weight={0: 1, 1: 3}, max_iter=6000, solver=liblinear, tol=0.0001; total time=  14.7s\n"
     ]
    },
    {
     "name": "stderr",
     "output_type": "stream",
     "text": [
      "/Library/Frameworks/Python.framework/Versions/3.12/lib/python3.12/site-packages/sklearn/linear_model/_logistic.py:1216: UserWarning: 'n_jobs' > 1 does not have any effect when 'solver' is set to 'liblinear'. Got 'n_jobs' = 5.\n",
      "  warnings.warn(\n"
     ]
    },
    {
     "name": "stdout",
     "output_type": "stream",
     "text": [
      "[CV] END class_weight={0: 1, 1: 3}, max_iter=6000, solver=liblinear, tol=0.0001; total time=  12.6s\n"
     ]
    },
    {
     "name": "stderr",
     "output_type": "stream",
     "text": [
      "/Library/Frameworks/Python.framework/Versions/3.12/lib/python3.12/site-packages/sklearn/linear_model/_logistic.py:1216: UserWarning: 'n_jobs' > 1 does not have any effect when 'solver' is set to 'liblinear'. Got 'n_jobs' = 5.\n",
      "  warnings.warn(\n"
     ]
    },
    {
     "name": "stdout",
     "output_type": "stream",
     "text": [
      "[CV] END class_weight={0: 1, 1: 3}, max_iter=6000, solver=liblinear, tol=0.0001; total time=  10.9s\n"
     ]
    },
    {
     "name": "stderr",
     "output_type": "stream",
     "text": [
      "/Library/Frameworks/Python.framework/Versions/3.12/lib/python3.12/site-packages/sklearn/linear_model/_logistic.py:1216: UserWarning: 'n_jobs' > 1 does not have any effect when 'solver' is set to 'liblinear'. Got 'n_jobs' = 5.\n",
      "  warnings.warn(\n"
     ]
    },
    {
     "name": "stdout",
     "output_type": "stream",
     "text": [
      "[CV] END class_weight={0: 1, 1: 3}, max_iter=6000, solver=liblinear, tol=0.0001; total time=  16.1s\n"
     ]
    },
    {
     "name": "stderr",
     "output_type": "stream",
     "text": [
      "/Library/Frameworks/Python.framework/Versions/3.12/lib/python3.12/site-packages/sklearn/linear_model/_logistic.py:1216: UserWarning: 'n_jobs' > 1 does not have any effect when 'solver' is set to 'liblinear'. Got 'n_jobs' = 5.\n",
      "  warnings.warn(\n"
     ]
    },
    {
     "name": "stdout",
     "output_type": "stream",
     "text": [
      "[CV] END class_weight={0: 1, 1: 3}, max_iter=6000, solver=liblinear, tol=0.0001; total time=  15.2s\n"
     ]
    },
    {
     "name": "stderr",
     "output_type": "stream",
     "text": [
      "/Library/Frameworks/Python.framework/Versions/3.12/lib/python3.12/site-packages/sklearn/linear_model/_logistic.py:1216: UserWarning: 'n_jobs' > 1 does not have any effect when 'solver' is set to 'liblinear'. Got 'n_jobs' = 5.\n",
      "  warnings.warn(\n"
     ]
    },
    {
     "name": "stdout",
     "output_type": "stream",
     "text": [
      "[CV] END class_weight={0: 1, 1: 3}, max_iter=6000, solver=liblinear, tol=1e-05; total time=  15.4s\n"
     ]
    },
    {
     "name": "stderr",
     "output_type": "stream",
     "text": [
      "/Library/Frameworks/Python.framework/Versions/3.12/lib/python3.12/site-packages/sklearn/linear_model/_logistic.py:1216: UserWarning: 'n_jobs' > 1 does not have any effect when 'solver' is set to 'liblinear'. Got 'n_jobs' = 5.\n",
      "  warnings.warn(\n"
     ]
    },
    {
     "name": "stdout",
     "output_type": "stream",
     "text": [
      "[CV] END class_weight={0: 1, 1: 3}, max_iter=6000, solver=liblinear, tol=1e-05; total time=  13.8s\n"
     ]
    },
    {
     "name": "stderr",
     "output_type": "stream",
     "text": [
      "/Library/Frameworks/Python.framework/Versions/3.12/lib/python3.12/site-packages/sklearn/linear_model/_logistic.py:1216: UserWarning: 'n_jobs' > 1 does not have any effect when 'solver' is set to 'liblinear'. Got 'n_jobs' = 5.\n",
      "  warnings.warn(\n"
     ]
    },
    {
     "name": "stdout",
     "output_type": "stream",
     "text": [
      "[CV] END class_weight={0: 1, 1: 3}, max_iter=6000, solver=liblinear, tol=1e-05; total time=  11.5s\n"
     ]
    },
    {
     "name": "stderr",
     "output_type": "stream",
     "text": [
      "/Library/Frameworks/Python.framework/Versions/3.12/lib/python3.12/site-packages/sklearn/linear_model/_logistic.py:1216: UserWarning: 'n_jobs' > 1 does not have any effect when 'solver' is set to 'liblinear'. Got 'n_jobs' = 5.\n",
      "  warnings.warn(\n"
     ]
    },
    {
     "name": "stdout",
     "output_type": "stream",
     "text": [
      "[CV] END class_weight={0: 1, 1: 3}, max_iter=6000, solver=liblinear, tol=1e-05; total time=  17.1s\n"
     ]
    },
    {
     "name": "stderr",
     "output_type": "stream",
     "text": [
      "/Library/Frameworks/Python.framework/Versions/3.12/lib/python3.12/site-packages/sklearn/linear_model/_logistic.py:1216: UserWarning: 'n_jobs' > 1 does not have any effect when 'solver' is set to 'liblinear'. Got 'n_jobs' = 5.\n",
      "  warnings.warn(\n"
     ]
    },
    {
     "name": "stdout",
     "output_type": "stream",
     "text": [
      "[CV] END class_weight={0: 1, 1: 3}, max_iter=6000, solver=liblinear, tol=1e-05; total time=  15.3s\n",
      "[CV] END class_weight={0: 1, 1: 3}, max_iter=10000, solver=lbfgs, tol=0.001; total time=   7.4s\n",
      "[CV] END class_weight={0: 1, 1: 3}, max_iter=10000, solver=lbfgs, tol=0.001; total time=  11.2s\n",
      "[CV] END class_weight={0: 1, 1: 3}, max_iter=10000, solver=lbfgs, tol=0.001; total time=   8.1s\n",
      "[CV] END class_weight={0: 1, 1: 3}, max_iter=10000, solver=lbfgs, tol=0.001; total time=  11.0s\n",
      "[CV] END class_weight={0: 1, 1: 3}, max_iter=10000, solver=lbfgs, tol=0.001; total time=  10.9s\n",
      "[CV] END class_weight={0: 1, 1: 3}, max_iter=10000, solver=lbfgs, tol=0.0001; total time=  17.2s\n"
     ]
    },
    {
     "name": "stderr",
     "output_type": "stream",
     "text": [
      "/Library/Frameworks/Python.framework/Versions/3.12/lib/python3.12/site-packages/sklearn/linear_model/_logistic.py:469: ConvergenceWarning: lbfgs failed to converge (status=1):\n",
      "STOP: TOTAL NO. of ITERATIONS REACHED LIMIT.\n",
      "\n",
      "Increase the number of iterations (max_iter) or scale the data as shown in:\n",
      "    https://scikit-learn.org/stable/modules/preprocessing.html\n",
      "Please also refer to the documentation for alternative solver options:\n",
      "    https://scikit-learn.org/stable/modules/linear_model.html#logistic-regression\n",
      "  n_iter_i = _check_optimize_result(\n"
     ]
    },
    {
     "name": "stdout",
     "output_type": "stream",
     "text": [
      "[CV] END class_weight={0: 1, 1: 3}, max_iter=10000, solver=lbfgs, tol=0.0001; total time=  22.3s\n",
      "[CV] END class_weight={0: 1, 1: 3}, max_iter=10000, solver=lbfgs, tol=0.0001; total time=  21.7s\n",
      "[CV] END class_weight={0: 1, 1: 3}, max_iter=10000, solver=lbfgs, tol=0.0001; total time=  21.2s\n"
     ]
    },
    {
     "name": "stderr",
     "output_type": "stream",
     "text": [
      "/Library/Frameworks/Python.framework/Versions/3.12/lib/python3.12/site-packages/sklearn/linear_model/_logistic.py:469: ConvergenceWarning: lbfgs failed to converge (status=1):\n",
      "STOP: TOTAL NO. of ITERATIONS REACHED LIMIT.\n",
      "\n",
      "Increase the number of iterations (max_iter) or scale the data as shown in:\n",
      "    https://scikit-learn.org/stable/modules/preprocessing.html\n",
      "Please also refer to the documentation for alternative solver options:\n",
      "    https://scikit-learn.org/stable/modules/linear_model.html#logistic-regression\n",
      "  n_iter_i = _check_optimize_result(\n"
     ]
    },
    {
     "name": "stdout",
     "output_type": "stream",
     "text": [
      "[CV] END class_weight={0: 1, 1: 3}, max_iter=10000, solver=lbfgs, tol=0.0001; total time=  22.3s\n"
     ]
    },
    {
     "name": "stderr",
     "output_type": "stream",
     "text": [
      "/Library/Frameworks/Python.framework/Versions/3.12/lib/python3.12/site-packages/sklearn/linear_model/_logistic.py:469: ConvergenceWarning: lbfgs failed to converge (status=1):\n",
      "STOP: TOTAL NO. of ITERATIONS REACHED LIMIT.\n",
      "\n",
      "Increase the number of iterations (max_iter) or scale the data as shown in:\n",
      "    https://scikit-learn.org/stable/modules/preprocessing.html\n",
      "Please also refer to the documentation for alternative solver options:\n",
      "    https://scikit-learn.org/stable/modules/linear_model.html#logistic-regression\n",
      "  n_iter_i = _check_optimize_result(\n"
     ]
    },
    {
     "name": "stdout",
     "output_type": "stream",
     "text": [
      "[CV] END class_weight={0: 1, 1: 3}, max_iter=10000, solver=lbfgs, tol=1e-05; total time=  22.3s\n"
     ]
    },
    {
     "name": "stderr",
     "output_type": "stream",
     "text": [
      "/Library/Frameworks/Python.framework/Versions/3.12/lib/python3.12/site-packages/sklearn/linear_model/_logistic.py:469: ConvergenceWarning: lbfgs failed to converge (status=1):\n",
      "STOP: TOTAL NO. of ITERATIONS REACHED LIMIT.\n",
      "\n",
      "Increase the number of iterations (max_iter) or scale the data as shown in:\n",
      "    https://scikit-learn.org/stable/modules/preprocessing.html\n",
      "Please also refer to the documentation for alternative solver options:\n",
      "    https://scikit-learn.org/stable/modules/linear_model.html#logistic-regression\n",
      "  n_iter_i = _check_optimize_result(\n"
     ]
    },
    {
     "name": "stdout",
     "output_type": "stream",
     "text": [
      "[CV] END class_weight={0: 1, 1: 3}, max_iter=10000, solver=lbfgs, tol=1e-05; total time=  22.3s\n"
     ]
    },
    {
     "name": "stderr",
     "output_type": "stream",
     "text": [
      "/Library/Frameworks/Python.framework/Versions/3.12/lib/python3.12/site-packages/sklearn/linear_model/_logistic.py:469: ConvergenceWarning: lbfgs failed to converge (status=1):\n",
      "STOP: TOTAL NO. of ITERATIONS REACHED LIMIT.\n",
      "\n",
      "Increase the number of iterations (max_iter) or scale the data as shown in:\n",
      "    https://scikit-learn.org/stable/modules/preprocessing.html\n",
      "Please also refer to the documentation for alternative solver options:\n",
      "    https://scikit-learn.org/stable/modules/linear_model.html#logistic-regression\n",
      "  n_iter_i = _check_optimize_result(\n"
     ]
    },
    {
     "name": "stdout",
     "output_type": "stream",
     "text": [
      "[CV] END class_weight={0: 1, 1: 3}, max_iter=10000, solver=lbfgs, tol=1e-05; total time=  22.6s\n"
     ]
    },
    {
     "name": "stderr",
     "output_type": "stream",
     "text": [
      "/Library/Frameworks/Python.framework/Versions/3.12/lib/python3.12/site-packages/sklearn/linear_model/_logistic.py:469: ConvergenceWarning: lbfgs failed to converge (status=1):\n",
      "STOP: TOTAL NO. of ITERATIONS REACHED LIMIT.\n",
      "\n",
      "Increase the number of iterations (max_iter) or scale the data as shown in:\n",
      "    https://scikit-learn.org/stable/modules/preprocessing.html\n",
      "Please also refer to the documentation for alternative solver options:\n",
      "    https://scikit-learn.org/stable/modules/linear_model.html#logistic-regression\n",
      "  n_iter_i = _check_optimize_result(\n"
     ]
    },
    {
     "name": "stdout",
     "output_type": "stream",
     "text": [
      "[CV] END class_weight={0: 1, 1: 3}, max_iter=10000, solver=lbfgs, tol=1e-05; total time=  22.4s\n"
     ]
    },
    {
     "name": "stderr",
     "output_type": "stream",
     "text": [
      "/Library/Frameworks/Python.framework/Versions/3.12/lib/python3.12/site-packages/sklearn/linear_model/_logistic.py:469: ConvergenceWarning: lbfgs failed to converge (status=1):\n",
      "STOP: TOTAL NO. of ITERATIONS REACHED LIMIT.\n",
      "\n",
      "Increase the number of iterations (max_iter) or scale the data as shown in:\n",
      "    https://scikit-learn.org/stable/modules/preprocessing.html\n",
      "Please also refer to the documentation for alternative solver options:\n",
      "    https://scikit-learn.org/stable/modules/linear_model.html#logistic-regression\n",
      "  n_iter_i = _check_optimize_result(\n"
     ]
    },
    {
     "name": "stdout",
     "output_type": "stream",
     "text": [
      "[CV] END class_weight={0: 1, 1: 3}, max_iter=10000, solver=lbfgs, tol=1e-05; total time=  22.3s\n"
     ]
    },
    {
     "name": "stderr",
     "output_type": "stream",
     "text": [
      "/Library/Frameworks/Python.framework/Versions/3.12/lib/python3.12/site-packages/sklearn/linear_model/_logistic.py:1216: UserWarning: 'n_jobs' > 1 does not have any effect when 'solver' is set to 'liblinear'. Got 'n_jobs' = 5.\n",
      "  warnings.warn(\n"
     ]
    },
    {
     "name": "stdout",
     "output_type": "stream",
     "text": [
      "[CV] END class_weight={0: 1, 1: 3}, max_iter=10000, solver=liblinear, tol=0.001; total time=   7.8s\n"
     ]
    },
    {
     "name": "stderr",
     "output_type": "stream",
     "text": [
      "/Library/Frameworks/Python.framework/Versions/3.12/lib/python3.12/site-packages/sklearn/linear_model/_logistic.py:1216: UserWarning: 'n_jobs' > 1 does not have any effect when 'solver' is set to 'liblinear'. Got 'n_jobs' = 5.\n",
      "  warnings.warn(\n"
     ]
    },
    {
     "name": "stdout",
     "output_type": "stream",
     "text": [
      "[CV] END class_weight={0: 1, 1: 3}, max_iter=10000, solver=liblinear, tol=0.001; total time=   7.7s\n"
     ]
    },
    {
     "name": "stderr",
     "output_type": "stream",
     "text": [
      "/Library/Frameworks/Python.framework/Versions/3.12/lib/python3.12/site-packages/sklearn/linear_model/_logistic.py:1216: UserWarning: 'n_jobs' > 1 does not have any effect when 'solver' is set to 'liblinear'. Got 'n_jobs' = 5.\n",
      "  warnings.warn(\n"
     ]
    },
    {
     "name": "stdout",
     "output_type": "stream",
     "text": [
      "[CV] END class_weight={0: 1, 1: 3}, max_iter=10000, solver=liblinear, tol=0.001; total time=   6.5s\n"
     ]
    },
    {
     "name": "stderr",
     "output_type": "stream",
     "text": [
      "/Library/Frameworks/Python.framework/Versions/3.12/lib/python3.12/site-packages/sklearn/linear_model/_logistic.py:1216: UserWarning: 'n_jobs' > 1 does not have any effect when 'solver' is set to 'liblinear'. Got 'n_jobs' = 5.\n",
      "  warnings.warn(\n"
     ]
    },
    {
     "name": "stdout",
     "output_type": "stream",
     "text": [
      "[CV] END class_weight={0: 1, 1: 3}, max_iter=10000, solver=liblinear, tol=0.001; total time=   8.4s\n"
     ]
    },
    {
     "name": "stderr",
     "output_type": "stream",
     "text": [
      "/Library/Frameworks/Python.framework/Versions/3.12/lib/python3.12/site-packages/sklearn/linear_model/_logistic.py:1216: UserWarning: 'n_jobs' > 1 does not have any effect when 'solver' is set to 'liblinear'. Got 'n_jobs' = 5.\n",
      "  warnings.warn(\n"
     ]
    },
    {
     "name": "stdout",
     "output_type": "stream",
     "text": [
      "[CV] END class_weight={0: 1, 1: 3}, max_iter=10000, solver=liblinear, tol=0.001; total time=   9.0s\n"
     ]
    },
    {
     "name": "stderr",
     "output_type": "stream",
     "text": [
      "/Library/Frameworks/Python.framework/Versions/3.12/lib/python3.12/site-packages/sklearn/linear_model/_logistic.py:1216: UserWarning: 'n_jobs' > 1 does not have any effect when 'solver' is set to 'liblinear'. Got 'n_jobs' = 5.\n",
      "  warnings.warn(\n"
     ]
    },
    {
     "name": "stdout",
     "output_type": "stream",
     "text": [
      "[CV] END class_weight={0: 1, 1: 3}, max_iter=10000, solver=liblinear, tol=0.0001; total time=  14.6s\n"
     ]
    },
    {
     "name": "stderr",
     "output_type": "stream",
     "text": [
      "/Library/Frameworks/Python.framework/Versions/3.12/lib/python3.12/site-packages/sklearn/linear_model/_logistic.py:1216: UserWarning: 'n_jobs' > 1 does not have any effect when 'solver' is set to 'liblinear'. Got 'n_jobs' = 5.\n",
      "  warnings.warn(\n"
     ]
    },
    {
     "name": "stdout",
     "output_type": "stream",
     "text": [
      "[CV] END class_weight={0: 1, 1: 3}, max_iter=10000, solver=liblinear, tol=0.0001; total time=  12.6s\n"
     ]
    },
    {
     "name": "stderr",
     "output_type": "stream",
     "text": [
      "/Library/Frameworks/Python.framework/Versions/3.12/lib/python3.12/site-packages/sklearn/linear_model/_logistic.py:1216: UserWarning: 'n_jobs' > 1 does not have any effect when 'solver' is set to 'liblinear'. Got 'n_jobs' = 5.\n",
      "  warnings.warn(\n"
     ]
    },
    {
     "name": "stdout",
     "output_type": "stream",
     "text": [
      "[CV] END class_weight={0: 1, 1: 3}, max_iter=10000, solver=liblinear, tol=0.0001; total time=  10.9s\n"
     ]
    },
    {
     "name": "stderr",
     "output_type": "stream",
     "text": [
      "/Library/Frameworks/Python.framework/Versions/3.12/lib/python3.12/site-packages/sklearn/linear_model/_logistic.py:1216: UserWarning: 'n_jobs' > 1 does not have any effect when 'solver' is set to 'liblinear'. Got 'n_jobs' = 5.\n",
      "  warnings.warn(\n"
     ]
    },
    {
     "name": "stdout",
     "output_type": "stream",
     "text": [
      "[CV] END class_weight={0: 1, 1: 3}, max_iter=10000, solver=liblinear, tol=0.0001; total time=  16.0s\n"
     ]
    },
    {
     "name": "stderr",
     "output_type": "stream",
     "text": [
      "/Library/Frameworks/Python.framework/Versions/3.12/lib/python3.12/site-packages/sklearn/linear_model/_logistic.py:1216: UserWarning: 'n_jobs' > 1 does not have any effect when 'solver' is set to 'liblinear'. Got 'n_jobs' = 5.\n",
      "  warnings.warn(\n"
     ]
    },
    {
     "name": "stdout",
     "output_type": "stream",
     "text": [
      "[CV] END class_weight={0: 1, 1: 3}, max_iter=10000, solver=liblinear, tol=0.0001; total time=  15.1s\n"
     ]
    },
    {
     "name": "stderr",
     "output_type": "stream",
     "text": [
      "/Library/Frameworks/Python.framework/Versions/3.12/lib/python3.12/site-packages/sklearn/linear_model/_logistic.py:1216: UserWarning: 'n_jobs' > 1 does not have any effect when 'solver' is set to 'liblinear'. Got 'n_jobs' = 5.\n",
      "  warnings.warn(\n"
     ]
    },
    {
     "name": "stdout",
     "output_type": "stream",
     "text": [
      "[CV] END class_weight={0: 1, 1: 3}, max_iter=10000, solver=liblinear, tol=1e-05; total time=  15.4s\n"
     ]
    },
    {
     "name": "stderr",
     "output_type": "stream",
     "text": [
      "/Library/Frameworks/Python.framework/Versions/3.12/lib/python3.12/site-packages/sklearn/linear_model/_logistic.py:1216: UserWarning: 'n_jobs' > 1 does not have any effect when 'solver' is set to 'liblinear'. Got 'n_jobs' = 5.\n",
      "  warnings.warn(\n"
     ]
    },
    {
     "name": "stdout",
     "output_type": "stream",
     "text": [
      "[CV] END class_weight={0: 1, 1: 3}, max_iter=10000, solver=liblinear, tol=1e-05; total time=  13.8s\n"
     ]
    },
    {
     "name": "stderr",
     "output_type": "stream",
     "text": [
      "/Library/Frameworks/Python.framework/Versions/3.12/lib/python3.12/site-packages/sklearn/linear_model/_logistic.py:1216: UserWarning: 'n_jobs' > 1 does not have any effect when 'solver' is set to 'liblinear'. Got 'n_jobs' = 5.\n",
      "  warnings.warn(\n"
     ]
    },
    {
     "name": "stdout",
     "output_type": "stream",
     "text": [
      "[CV] END class_weight={0: 1, 1: 3}, max_iter=10000, solver=liblinear, tol=1e-05; total time=  11.5s\n"
     ]
    },
    {
     "name": "stderr",
     "output_type": "stream",
     "text": [
      "/Library/Frameworks/Python.framework/Versions/3.12/lib/python3.12/site-packages/sklearn/linear_model/_logistic.py:1216: UserWarning: 'n_jobs' > 1 does not have any effect when 'solver' is set to 'liblinear'. Got 'n_jobs' = 5.\n",
      "  warnings.warn(\n"
     ]
    },
    {
     "name": "stdout",
     "output_type": "stream",
     "text": [
      "[CV] END class_weight={0: 1, 1: 3}, max_iter=10000, solver=liblinear, tol=1e-05; total time=  17.0s\n"
     ]
    },
    {
     "name": "stderr",
     "output_type": "stream",
     "text": [
      "/Library/Frameworks/Python.framework/Versions/3.12/lib/python3.12/site-packages/sklearn/linear_model/_logistic.py:1216: UserWarning: 'n_jobs' > 1 does not have any effect when 'solver' is set to 'liblinear'. Got 'n_jobs' = 5.\n",
      "  warnings.warn(\n"
     ]
    },
    {
     "name": "stdout",
     "output_type": "stream",
     "text": [
      "[CV] END class_weight={0: 1, 1: 3}, max_iter=10000, solver=liblinear, tol=1e-05; total time=  15.2s\n"
     ]
    },
    {
     "name": "stderr",
     "output_type": "stream",
     "text": [
      "/Library/Frameworks/Python.framework/Versions/3.12/lib/python3.12/site-packages/sklearn/linear_model/_logistic.py:469: ConvergenceWarning: lbfgs failed to converge (status=1):\n",
      "STOP: TOTAL NO. of ITERATIONS REACHED LIMIT.\n",
      "\n",
      "Increase the number of iterations (max_iter) or scale the data as shown in:\n",
      "    https://scikit-learn.org/stable/modules/preprocessing.html\n",
      "Please also refer to the documentation for alternative solver options:\n",
      "    https://scikit-learn.org/stable/modules/linear_model.html#logistic-regression\n",
      "  n_iter_i = _check_optimize_result(\n"
     ]
    },
    {
     "name": "stdout",
     "output_type": "stream",
     "text": [
      "[CV] END class_weight={0: 1.5, 1: 2.5}, max_iter=2000, solver=lbfgs, tol=0.001; total time=   5.4s\n"
     ]
    },
    {
     "name": "stderr",
     "output_type": "stream",
     "text": [
      "/Library/Frameworks/Python.framework/Versions/3.12/lib/python3.12/site-packages/sklearn/linear_model/_logistic.py:469: ConvergenceWarning: lbfgs failed to converge (status=1):\n",
      "STOP: TOTAL NO. of ITERATIONS REACHED LIMIT.\n",
      "\n",
      "Increase the number of iterations (max_iter) or scale the data as shown in:\n",
      "    https://scikit-learn.org/stable/modules/preprocessing.html\n",
      "Please also refer to the documentation for alternative solver options:\n",
      "    https://scikit-learn.org/stable/modules/linear_model.html#logistic-regression\n",
      "  n_iter_i = _check_optimize_result(\n"
     ]
    },
    {
     "name": "stdout",
     "output_type": "stream",
     "text": [
      "[CV] END class_weight={0: 1.5, 1: 2.5}, max_iter=2000, solver=lbfgs, tol=0.001; total time=   5.4s\n"
     ]
    },
    {
     "name": "stderr",
     "output_type": "stream",
     "text": [
      "/Library/Frameworks/Python.framework/Versions/3.12/lib/python3.12/site-packages/sklearn/linear_model/_logistic.py:469: ConvergenceWarning: lbfgs failed to converge (status=1):\n",
      "STOP: TOTAL NO. of ITERATIONS REACHED LIMIT.\n",
      "\n",
      "Increase the number of iterations (max_iter) or scale the data as shown in:\n",
      "    https://scikit-learn.org/stable/modules/preprocessing.html\n",
      "Please also refer to the documentation for alternative solver options:\n",
      "    https://scikit-learn.org/stable/modules/linear_model.html#logistic-regression\n",
      "  n_iter_i = _check_optimize_result(\n"
     ]
    },
    {
     "name": "stdout",
     "output_type": "stream",
     "text": [
      "[CV] END class_weight={0: 1.5, 1: 2.5}, max_iter=2000, solver=lbfgs, tol=0.001; total time=   4.4s\n"
     ]
    },
    {
     "name": "stderr",
     "output_type": "stream",
     "text": [
      "/Library/Frameworks/Python.framework/Versions/3.12/lib/python3.12/site-packages/sklearn/linear_model/_logistic.py:469: ConvergenceWarning: lbfgs failed to converge (status=1):\n",
      "STOP: TOTAL NO. of ITERATIONS REACHED LIMIT.\n",
      "\n",
      "Increase the number of iterations (max_iter) or scale the data as shown in:\n",
      "    https://scikit-learn.org/stable/modules/preprocessing.html\n",
      "Please also refer to the documentation for alternative solver options:\n",
      "    https://scikit-learn.org/stable/modules/linear_model.html#logistic-regression\n",
      "  n_iter_i = _check_optimize_result(\n"
     ]
    },
    {
     "name": "stdout",
     "output_type": "stream",
     "text": [
      "[CV] END class_weight={0: 1.5, 1: 2.5}, max_iter=2000, solver=lbfgs, tol=0.001; total time=   4.9s\n"
     ]
    },
    {
     "name": "stderr",
     "output_type": "stream",
     "text": [
      "/Library/Frameworks/Python.framework/Versions/3.12/lib/python3.12/site-packages/sklearn/linear_model/_logistic.py:469: ConvergenceWarning: lbfgs failed to converge (status=1):\n",
      "STOP: TOTAL NO. of ITERATIONS REACHED LIMIT.\n",
      "\n",
      "Increase the number of iterations (max_iter) or scale the data as shown in:\n",
      "    https://scikit-learn.org/stable/modules/preprocessing.html\n",
      "Please also refer to the documentation for alternative solver options:\n",
      "    https://scikit-learn.org/stable/modules/linear_model.html#logistic-regression\n",
      "  n_iter_i = _check_optimize_result(\n"
     ]
    },
    {
     "name": "stdout",
     "output_type": "stream",
     "text": [
      "[CV] END class_weight={0: 1.5, 1: 2.5}, max_iter=2000, solver=lbfgs, tol=0.001; total time=   5.4s\n"
     ]
    },
    {
     "name": "stderr",
     "output_type": "stream",
     "text": [
      "/Library/Frameworks/Python.framework/Versions/3.12/lib/python3.12/site-packages/sklearn/linear_model/_logistic.py:469: ConvergenceWarning: lbfgs failed to converge (status=1):\n",
      "STOP: TOTAL NO. of ITERATIONS REACHED LIMIT.\n",
      "\n",
      "Increase the number of iterations (max_iter) or scale the data as shown in:\n",
      "    https://scikit-learn.org/stable/modules/preprocessing.html\n",
      "Please also refer to the documentation for alternative solver options:\n",
      "    https://scikit-learn.org/stable/modules/linear_model.html#logistic-regression\n",
      "  n_iter_i = _check_optimize_result(\n"
     ]
    },
    {
     "name": "stdout",
     "output_type": "stream",
     "text": [
      "[CV] END class_weight={0: 1.5, 1: 2.5}, max_iter=2000, solver=lbfgs, tol=0.0001; total time=   5.4s\n"
     ]
    },
    {
     "name": "stderr",
     "output_type": "stream",
     "text": [
      "/Library/Frameworks/Python.framework/Versions/3.12/lib/python3.12/site-packages/sklearn/linear_model/_logistic.py:469: ConvergenceWarning: lbfgs failed to converge (status=1):\n",
      "STOP: TOTAL NO. of ITERATIONS REACHED LIMIT.\n",
      "\n",
      "Increase the number of iterations (max_iter) or scale the data as shown in:\n",
      "    https://scikit-learn.org/stable/modules/preprocessing.html\n",
      "Please also refer to the documentation for alternative solver options:\n",
      "    https://scikit-learn.org/stable/modules/linear_model.html#logistic-regression\n",
      "  n_iter_i = _check_optimize_result(\n"
     ]
    },
    {
     "name": "stdout",
     "output_type": "stream",
     "text": [
      "[CV] END class_weight={0: 1.5, 1: 2.5}, max_iter=2000, solver=lbfgs, tol=0.0001; total time=   5.4s\n"
     ]
    },
    {
     "name": "stderr",
     "output_type": "stream",
     "text": [
      "/Library/Frameworks/Python.framework/Versions/3.12/lib/python3.12/site-packages/sklearn/linear_model/_logistic.py:469: ConvergenceWarning: lbfgs failed to converge (status=1):\n",
      "STOP: TOTAL NO. of ITERATIONS REACHED LIMIT.\n",
      "\n",
      "Increase the number of iterations (max_iter) or scale the data as shown in:\n",
      "    https://scikit-learn.org/stable/modules/preprocessing.html\n",
      "Please also refer to the documentation for alternative solver options:\n",
      "    https://scikit-learn.org/stable/modules/linear_model.html#logistic-regression\n",
      "  n_iter_i = _check_optimize_result(\n"
     ]
    },
    {
     "name": "stdout",
     "output_type": "stream",
     "text": [
      "[CV] END class_weight={0: 1.5, 1: 2.5}, max_iter=2000, solver=lbfgs, tol=0.0001; total time=   5.4s\n"
     ]
    },
    {
     "name": "stderr",
     "output_type": "stream",
     "text": [
      "/Library/Frameworks/Python.framework/Versions/3.12/lib/python3.12/site-packages/sklearn/linear_model/_logistic.py:469: ConvergenceWarning: lbfgs failed to converge (status=1):\n",
      "STOP: TOTAL NO. of ITERATIONS REACHED LIMIT.\n",
      "\n",
      "Increase the number of iterations (max_iter) or scale the data as shown in:\n",
      "    https://scikit-learn.org/stable/modules/preprocessing.html\n",
      "Please also refer to the documentation for alternative solver options:\n",
      "    https://scikit-learn.org/stable/modules/linear_model.html#logistic-regression\n",
      "  n_iter_i = _check_optimize_result(\n"
     ]
    },
    {
     "name": "stdout",
     "output_type": "stream",
     "text": [
      "[CV] END class_weight={0: 1.5, 1: 2.5}, max_iter=2000, solver=lbfgs, tol=0.0001; total time=   4.5s\n"
     ]
    },
    {
     "name": "stderr",
     "output_type": "stream",
     "text": [
      "/Library/Frameworks/Python.framework/Versions/3.12/lib/python3.12/site-packages/sklearn/linear_model/_logistic.py:469: ConvergenceWarning: lbfgs failed to converge (status=1):\n",
      "STOP: TOTAL NO. of ITERATIONS REACHED LIMIT.\n",
      "\n",
      "Increase the number of iterations (max_iter) or scale the data as shown in:\n",
      "    https://scikit-learn.org/stable/modules/preprocessing.html\n",
      "Please also refer to the documentation for alternative solver options:\n",
      "    https://scikit-learn.org/stable/modules/linear_model.html#logistic-regression\n",
      "  n_iter_i = _check_optimize_result(\n"
     ]
    },
    {
     "name": "stdout",
     "output_type": "stream",
     "text": [
      "[CV] END class_weight={0: 1.5, 1: 2.5}, max_iter=2000, solver=lbfgs, tol=0.0001; total time=   5.3s\n"
     ]
    },
    {
     "name": "stderr",
     "output_type": "stream",
     "text": [
      "/Library/Frameworks/Python.framework/Versions/3.12/lib/python3.12/site-packages/sklearn/linear_model/_logistic.py:469: ConvergenceWarning: lbfgs failed to converge (status=1):\n",
      "STOP: TOTAL NO. of ITERATIONS REACHED LIMIT.\n",
      "\n",
      "Increase the number of iterations (max_iter) or scale the data as shown in:\n",
      "    https://scikit-learn.org/stable/modules/preprocessing.html\n",
      "Please also refer to the documentation for alternative solver options:\n",
      "    https://scikit-learn.org/stable/modules/linear_model.html#logistic-regression\n",
      "  n_iter_i = _check_optimize_result(\n"
     ]
    },
    {
     "name": "stdout",
     "output_type": "stream",
     "text": [
      "[CV] END class_weight={0: 1.5, 1: 2.5}, max_iter=2000, solver=lbfgs, tol=1e-05; total time=   5.4s\n"
     ]
    },
    {
     "name": "stderr",
     "output_type": "stream",
     "text": [
      "/Library/Frameworks/Python.framework/Versions/3.12/lib/python3.12/site-packages/sklearn/linear_model/_logistic.py:469: ConvergenceWarning: lbfgs failed to converge (status=1):\n",
      "STOP: TOTAL NO. of ITERATIONS REACHED LIMIT.\n",
      "\n",
      "Increase the number of iterations (max_iter) or scale the data as shown in:\n",
      "    https://scikit-learn.org/stable/modules/preprocessing.html\n",
      "Please also refer to the documentation for alternative solver options:\n",
      "    https://scikit-learn.org/stable/modules/linear_model.html#logistic-regression\n",
      "  n_iter_i = _check_optimize_result(\n"
     ]
    },
    {
     "name": "stdout",
     "output_type": "stream",
     "text": [
      "[CV] END class_weight={0: 1.5, 1: 2.5}, max_iter=2000, solver=lbfgs, tol=1e-05; total time=   5.5s\n"
     ]
    },
    {
     "name": "stderr",
     "output_type": "stream",
     "text": [
      "/Library/Frameworks/Python.framework/Versions/3.12/lib/python3.12/site-packages/sklearn/linear_model/_logistic.py:469: ConvergenceWarning: lbfgs failed to converge (status=1):\n",
      "STOP: TOTAL NO. of ITERATIONS REACHED LIMIT.\n",
      "\n",
      "Increase the number of iterations (max_iter) or scale the data as shown in:\n",
      "    https://scikit-learn.org/stable/modules/preprocessing.html\n",
      "Please also refer to the documentation for alternative solver options:\n",
      "    https://scikit-learn.org/stable/modules/linear_model.html#logistic-regression\n",
      "  n_iter_i = _check_optimize_result(\n"
     ]
    },
    {
     "name": "stdout",
     "output_type": "stream",
     "text": [
      "[CV] END class_weight={0: 1.5, 1: 2.5}, max_iter=2000, solver=lbfgs, tol=1e-05; total time=   5.4s\n"
     ]
    },
    {
     "name": "stderr",
     "output_type": "stream",
     "text": [
      "/Library/Frameworks/Python.framework/Versions/3.12/lib/python3.12/site-packages/sklearn/linear_model/_logistic.py:469: ConvergenceWarning: lbfgs failed to converge (status=1):\n",
      "STOP: TOTAL NO. of ITERATIONS REACHED LIMIT.\n",
      "\n",
      "Increase the number of iterations (max_iter) or scale the data as shown in:\n",
      "    https://scikit-learn.org/stable/modules/preprocessing.html\n",
      "Please also refer to the documentation for alternative solver options:\n",
      "    https://scikit-learn.org/stable/modules/linear_model.html#logistic-regression\n",
      "  n_iter_i = _check_optimize_result(\n"
     ]
    },
    {
     "name": "stdout",
     "output_type": "stream",
     "text": [
      "[CV] END class_weight={0: 1.5, 1: 2.5}, max_iter=2000, solver=lbfgs, tol=1e-05; total time=   5.5s\n"
     ]
    },
    {
     "name": "stderr",
     "output_type": "stream",
     "text": [
      "/Library/Frameworks/Python.framework/Versions/3.12/lib/python3.12/site-packages/sklearn/linear_model/_logistic.py:469: ConvergenceWarning: lbfgs failed to converge (status=1):\n",
      "STOP: TOTAL NO. of ITERATIONS REACHED LIMIT.\n",
      "\n",
      "Increase the number of iterations (max_iter) or scale the data as shown in:\n",
      "    https://scikit-learn.org/stable/modules/preprocessing.html\n",
      "Please also refer to the documentation for alternative solver options:\n",
      "    https://scikit-learn.org/stable/modules/linear_model.html#logistic-regression\n",
      "  n_iter_i = _check_optimize_result(\n"
     ]
    },
    {
     "name": "stdout",
     "output_type": "stream",
     "text": [
      "[CV] END class_weight={0: 1.5, 1: 2.5}, max_iter=2000, solver=lbfgs, tol=1e-05; total time=   5.3s\n"
     ]
    },
    {
     "name": "stderr",
     "output_type": "stream",
     "text": [
      "/Library/Frameworks/Python.framework/Versions/3.12/lib/python3.12/site-packages/sklearn/linear_model/_logistic.py:1216: UserWarning: 'n_jobs' > 1 does not have any effect when 'solver' is set to 'liblinear'. Got 'n_jobs' = 5.\n",
      "  warnings.warn(\n"
     ]
    },
    {
     "name": "stdout",
     "output_type": "stream",
     "text": [
      "[CV] END class_weight={0: 1.5, 1: 2.5}, max_iter=2000, solver=liblinear, tol=0.001; total time=   4.6s\n"
     ]
    },
    {
     "name": "stderr",
     "output_type": "stream",
     "text": [
      "/Library/Frameworks/Python.framework/Versions/3.12/lib/python3.12/site-packages/sklearn/linear_model/_logistic.py:1216: UserWarning: 'n_jobs' > 1 does not have any effect when 'solver' is set to 'liblinear'. Got 'n_jobs' = 5.\n",
      "  warnings.warn(\n"
     ]
    },
    {
     "name": "stdout",
     "output_type": "stream",
     "text": [
      "[CV] END class_weight={0: 1.5, 1: 2.5}, max_iter=2000, solver=liblinear, tol=0.001; total time=   6.5s\n"
     ]
    },
    {
     "name": "stderr",
     "output_type": "stream",
     "text": [
      "/Library/Frameworks/Python.framework/Versions/3.12/lib/python3.12/site-packages/sklearn/linear_model/_logistic.py:1216: UserWarning: 'n_jobs' > 1 does not have any effect when 'solver' is set to 'liblinear'. Got 'n_jobs' = 5.\n",
      "  warnings.warn(\n"
     ]
    },
    {
     "name": "stdout",
     "output_type": "stream",
     "text": [
      "[CV] END class_weight={0: 1.5, 1: 2.5}, max_iter=2000, solver=liblinear, tol=0.001; total time=   4.8s\n"
     ]
    },
    {
     "name": "stderr",
     "output_type": "stream",
     "text": [
      "/Library/Frameworks/Python.framework/Versions/3.12/lib/python3.12/site-packages/sklearn/linear_model/_logistic.py:1216: UserWarning: 'n_jobs' > 1 does not have any effect when 'solver' is set to 'liblinear'. Got 'n_jobs' = 5.\n",
      "  warnings.warn(\n"
     ]
    },
    {
     "name": "stdout",
     "output_type": "stream",
     "text": [
      "[CV] END class_weight={0: 1.5, 1: 2.5}, max_iter=2000, solver=liblinear, tol=0.001; total time=   6.1s\n"
     ]
    },
    {
     "name": "stderr",
     "output_type": "stream",
     "text": [
      "/Library/Frameworks/Python.framework/Versions/3.12/lib/python3.12/site-packages/sklearn/linear_model/_logistic.py:1216: UserWarning: 'n_jobs' > 1 does not have any effect when 'solver' is set to 'liblinear'. Got 'n_jobs' = 5.\n",
      "  warnings.warn(\n"
     ]
    },
    {
     "name": "stdout",
     "output_type": "stream",
     "text": [
      "[CV] END class_weight={0: 1.5, 1: 2.5}, max_iter=2000, solver=liblinear, tol=0.001; total time=   6.5s\n"
     ]
    },
    {
     "name": "stderr",
     "output_type": "stream",
     "text": [
      "/Library/Frameworks/Python.framework/Versions/3.12/lib/python3.12/site-packages/sklearn/linear_model/_logistic.py:1216: UserWarning: 'n_jobs' > 1 does not have any effect when 'solver' is set to 'liblinear'. Got 'n_jobs' = 5.\n",
      "  warnings.warn(\n",
      "/Library/Frameworks/Python.framework/Versions/3.12/lib/python3.12/site-packages/sklearn/svm/_base.py:1237: ConvergenceWarning: Liblinear failed to converge, increase the number of iterations.\n",
      "  warnings.warn(\n",
      "/Library/Frameworks/Python.framework/Versions/3.12/lib/python3.12/site-packages/sklearn/linear_model/_logistic.py:1216: UserWarning: 'n_jobs' > 1 does not have any effect when 'solver' is set to 'liblinear'. Got 'n_jobs' = 5.\n",
      "  warnings.warn(\n"
     ]
    },
    {
     "name": "stdout",
     "output_type": "stream",
     "text": [
      "[CV] END class_weight={0: 1.5, 1: 2.5}, max_iter=2000, solver=liblinear, tol=0.0001; total time=  11.9s\n"
     ]
    },
    {
     "name": "stderr",
     "output_type": "stream",
     "text": [
      "/Library/Frameworks/Python.framework/Versions/3.12/lib/python3.12/site-packages/sklearn/svm/_base.py:1237: ConvergenceWarning: Liblinear failed to converge, increase the number of iterations.\n",
      "  warnings.warn(\n",
      "/Library/Frameworks/Python.framework/Versions/3.12/lib/python3.12/site-packages/sklearn/linear_model/_logistic.py:1216: UserWarning: 'n_jobs' > 1 does not have any effect when 'solver' is set to 'liblinear'. Got 'n_jobs' = 5.\n",
      "  warnings.warn(\n"
     ]
    },
    {
     "name": "stdout",
     "output_type": "stream",
     "text": [
      "[CV] END class_weight={0: 1.5, 1: 2.5}, max_iter=2000, solver=liblinear, tol=0.0001; total time=   9.1s\n",
      "[CV] END class_weight={0: 1.5, 1: 2.5}, max_iter=2000, solver=liblinear, tol=0.0001; total time=  10.5s\n"
     ]
    },
    {
     "name": "stderr",
     "output_type": "stream",
     "text": [
      "/Library/Frameworks/Python.framework/Versions/3.12/lib/python3.12/site-packages/sklearn/linear_model/_logistic.py:1216: UserWarning: 'n_jobs' > 1 does not have any effect when 'solver' is set to 'liblinear'. Got 'n_jobs' = 5.\n",
      "  warnings.warn(\n"
     ]
    },
    {
     "name": "stdout",
     "output_type": "stream",
     "text": [
      "[CV] END class_weight={0: 1.5, 1: 2.5}, max_iter=2000, solver=liblinear, tol=0.0001; total time=   8.5s\n"
     ]
    },
    {
     "name": "stderr",
     "output_type": "stream",
     "text": [
      "/Library/Frameworks/Python.framework/Versions/3.12/lib/python3.12/site-packages/sklearn/linear_model/_logistic.py:1216: UserWarning: 'n_jobs' > 1 does not have any effect when 'solver' is set to 'liblinear'. Got 'n_jobs' = 5.\n",
      "  warnings.warn(\n",
      "/Library/Frameworks/Python.framework/Versions/3.12/lib/python3.12/site-packages/sklearn/svm/_base.py:1237: ConvergenceWarning: Liblinear failed to converge, increase the number of iterations.\n",
      "  warnings.warn(\n",
      "/Library/Frameworks/Python.framework/Versions/3.12/lib/python3.12/site-packages/sklearn/linear_model/_logistic.py:1216: UserWarning: 'n_jobs' > 1 does not have any effect when 'solver' is set to 'liblinear'. Got 'n_jobs' = 5.\n",
      "  warnings.warn(\n"
     ]
    },
    {
     "name": "stdout",
     "output_type": "stream",
     "text": [
      "[CV] END class_weight={0: 1.5, 1: 2.5}, max_iter=2000, solver=liblinear, tol=0.0001; total time=   6.8s\n"
     ]
    },
    {
     "name": "stderr",
     "output_type": "stream",
     "text": [
      "/Library/Frameworks/Python.framework/Versions/3.12/lib/python3.12/site-packages/sklearn/svm/_base.py:1237: ConvergenceWarning: Liblinear failed to converge, increase the number of iterations.\n",
      "  warnings.warn(\n",
      "/Library/Frameworks/Python.framework/Versions/3.12/lib/python3.12/site-packages/sklearn/linear_model/_logistic.py:1216: UserWarning: 'n_jobs' > 1 does not have any effect when 'solver' is set to 'liblinear'. Got 'n_jobs' = 5.\n",
      "  warnings.warn(\n"
     ]
    },
    {
     "name": "stdout",
     "output_type": "stream",
     "text": [
      "[CV] END class_weight={0: 1.5, 1: 2.5}, max_iter=2000, solver=liblinear, tol=1e-05; total time=  11.8s\n"
     ]
    },
    {
     "name": "stderr",
     "output_type": "stream",
     "text": [
      "/Library/Frameworks/Python.framework/Versions/3.12/lib/python3.12/site-packages/sklearn/svm/_base.py:1237: ConvergenceWarning: Liblinear failed to converge, increase the number of iterations.\n",
      "  warnings.warn(\n",
      "/Library/Frameworks/Python.framework/Versions/3.12/lib/python3.12/site-packages/sklearn/linear_model/_logistic.py:1216: UserWarning: 'n_jobs' > 1 does not have any effect when 'solver' is set to 'liblinear'. Got 'n_jobs' = 5.\n",
      "  warnings.warn(\n"
     ]
    },
    {
     "name": "stdout",
     "output_type": "stream",
     "text": [
      "[CV] END class_weight={0: 1.5, 1: 2.5}, max_iter=2000, solver=liblinear, tol=1e-05; total time=   9.1s\n",
      "[CV] END class_weight={0: 1.5, 1: 2.5}, max_iter=2000, solver=liblinear, tol=1e-05; total time=  11.6s\n"
     ]
    },
    {
     "name": "stderr",
     "output_type": "stream",
     "text": [
      "/Library/Frameworks/Python.framework/Versions/3.12/lib/python3.12/site-packages/sklearn/linear_model/_logistic.py:1216: UserWarning: 'n_jobs' > 1 does not have any effect when 'solver' is set to 'liblinear'. Got 'n_jobs' = 5.\n",
      "  warnings.warn(\n"
     ]
    },
    {
     "name": "stdout",
     "output_type": "stream",
     "text": [
      "[CV] END class_weight={0: 1.5, 1: 2.5}, max_iter=2000, solver=liblinear, tol=1e-05; total time=  10.7s\n"
     ]
    },
    {
     "name": "stderr",
     "output_type": "stream",
     "text": [
      "/Library/Frameworks/Python.framework/Versions/3.12/lib/python3.12/site-packages/sklearn/linear_model/_logistic.py:1216: UserWarning: 'n_jobs' > 1 does not have any effect when 'solver' is set to 'liblinear'. Got 'n_jobs' = 5.\n",
      "  warnings.warn(\n",
      "/Library/Frameworks/Python.framework/Versions/3.12/lib/python3.12/site-packages/sklearn/svm/_base.py:1237: ConvergenceWarning: Liblinear failed to converge, increase the number of iterations.\n",
      "  warnings.warn(\n"
     ]
    },
    {
     "name": "stdout",
     "output_type": "stream",
     "text": [
      "[CV] END class_weight={0: 1.5, 1: 2.5}, max_iter=2000, solver=liblinear, tol=1e-05; total time=   6.8s\n",
      "[CV] END class_weight={0: 1.5, 1: 2.5}, max_iter=6000, solver=lbfgs, tol=0.001; total time=  11.5s\n",
      "[CV] END class_weight={0: 1.5, 1: 2.5}, max_iter=6000, solver=lbfgs, tol=0.001; total time=  13.4s\n",
      "[CV] END class_weight={0: 1.5, 1: 2.5}, max_iter=6000, solver=lbfgs, tol=0.001; total time=   9.8s\n",
      "[CV] END class_weight={0: 1.5, 1: 2.5}, max_iter=6000, solver=lbfgs, tol=0.001; total time=  11.8s\n",
      "[CV] END class_weight={0: 1.5, 1: 2.5}, max_iter=6000, solver=lbfgs, tol=0.001; total time=  11.7s\n"
     ]
    },
    {
     "name": "stderr",
     "output_type": "stream",
     "text": [
      "/Library/Frameworks/Python.framework/Versions/3.12/lib/python3.12/site-packages/sklearn/linear_model/_logistic.py:469: ConvergenceWarning: lbfgs failed to converge (status=1):\n",
      "STOP: TOTAL NO. of ITERATIONS REACHED LIMIT.\n",
      "\n",
      "Increase the number of iterations (max_iter) or scale the data as shown in:\n",
      "    https://scikit-learn.org/stable/modules/preprocessing.html\n",
      "Please also refer to the documentation for alternative solver options:\n",
      "    https://scikit-learn.org/stable/modules/linear_model.html#logistic-regression\n",
      "  n_iter_i = _check_optimize_result(\n"
     ]
    },
    {
     "name": "stdout",
     "output_type": "stream",
     "text": [
      "[CV] END class_weight={0: 1.5, 1: 2.5}, max_iter=6000, solver=lbfgs, tol=0.0001; total time=  14.0s\n"
     ]
    },
    {
     "name": "stderr",
     "output_type": "stream",
     "text": [
      "/Library/Frameworks/Python.framework/Versions/3.12/lib/python3.12/site-packages/sklearn/linear_model/_logistic.py:469: ConvergenceWarning: lbfgs failed to converge (status=1):\n",
      "STOP: TOTAL NO. of ITERATIONS REACHED LIMIT.\n",
      "\n",
      "Increase the number of iterations (max_iter) or scale the data as shown in:\n",
      "    https://scikit-learn.org/stable/modules/preprocessing.html\n",
      "Please also refer to the documentation for alternative solver options:\n",
      "    https://scikit-learn.org/stable/modules/linear_model.html#logistic-regression\n",
      "  n_iter_i = _check_optimize_result(\n"
     ]
    },
    {
     "name": "stdout",
     "output_type": "stream",
     "text": [
      "[CV] END class_weight={0: 1.5, 1: 2.5}, max_iter=6000, solver=lbfgs, tol=0.0001; total time=  13.9s\n"
     ]
    },
    {
     "name": "stderr",
     "output_type": "stream",
     "text": [
      "/Library/Frameworks/Python.framework/Versions/3.12/lib/python3.12/site-packages/sklearn/linear_model/_logistic.py:469: ConvergenceWarning: lbfgs failed to converge (status=1):\n",
      "STOP: TOTAL NO. of ITERATIONS REACHED LIMIT.\n",
      "\n",
      "Increase the number of iterations (max_iter) or scale the data as shown in:\n",
      "    https://scikit-learn.org/stable/modules/preprocessing.html\n",
      "Please also refer to the documentation for alternative solver options:\n",
      "    https://scikit-learn.org/stable/modules/linear_model.html#logistic-regression\n",
      "  n_iter_i = _check_optimize_result(\n"
     ]
    },
    {
     "name": "stdout",
     "output_type": "stream",
     "text": [
      "[CV] END class_weight={0: 1.5, 1: 2.5}, max_iter=6000, solver=lbfgs, tol=0.0001; total time=  14.0s\n"
     ]
    },
    {
     "name": "stderr",
     "output_type": "stream",
     "text": [
      "/Library/Frameworks/Python.framework/Versions/3.12/lib/python3.12/site-packages/sklearn/linear_model/_logistic.py:469: ConvergenceWarning: lbfgs failed to converge (status=1):\n",
      "STOP: TOTAL NO. of ITERATIONS REACHED LIMIT.\n",
      "\n",
      "Increase the number of iterations (max_iter) or scale the data as shown in:\n",
      "    https://scikit-learn.org/stable/modules/preprocessing.html\n",
      "Please also refer to the documentation for alternative solver options:\n",
      "    https://scikit-learn.org/stable/modules/linear_model.html#logistic-regression\n",
      "  n_iter_i = _check_optimize_result(\n"
     ]
    },
    {
     "name": "stdout",
     "output_type": "stream",
     "text": [
      "[CV] END class_weight={0: 1.5, 1: 2.5}, max_iter=6000, solver=lbfgs, tol=0.0001; total time=  14.0s\n"
     ]
    },
    {
     "name": "stderr",
     "output_type": "stream",
     "text": [
      "/Library/Frameworks/Python.framework/Versions/3.12/lib/python3.12/site-packages/sklearn/linear_model/_logistic.py:469: ConvergenceWarning: lbfgs failed to converge (status=1):\n",
      "STOP: TOTAL NO. of ITERATIONS REACHED LIMIT.\n",
      "\n",
      "Increase the number of iterations (max_iter) or scale the data as shown in:\n",
      "    https://scikit-learn.org/stable/modules/preprocessing.html\n",
      "Please also refer to the documentation for alternative solver options:\n",
      "    https://scikit-learn.org/stable/modules/linear_model.html#logistic-regression\n",
      "  n_iter_i = _check_optimize_result(\n"
     ]
    },
    {
     "name": "stdout",
     "output_type": "stream",
     "text": [
      "[CV] END class_weight={0: 1.5, 1: 2.5}, max_iter=6000, solver=lbfgs, tol=0.0001; total time=  12.8s\n"
     ]
    },
    {
     "name": "stderr",
     "output_type": "stream",
     "text": [
      "/Library/Frameworks/Python.framework/Versions/3.12/lib/python3.12/site-packages/sklearn/linear_model/_logistic.py:469: ConvergenceWarning: lbfgs failed to converge (status=1):\n",
      "STOP: TOTAL NO. of ITERATIONS REACHED LIMIT.\n",
      "\n",
      "Increase the number of iterations (max_iter) or scale the data as shown in:\n",
      "    https://scikit-learn.org/stable/modules/preprocessing.html\n",
      "Please also refer to the documentation for alternative solver options:\n",
      "    https://scikit-learn.org/stable/modules/linear_model.html#logistic-regression\n",
      "  n_iter_i = _check_optimize_result(\n"
     ]
    },
    {
     "name": "stdout",
     "output_type": "stream",
     "text": [
      "[CV] END class_weight={0: 1.5, 1: 2.5}, max_iter=6000, solver=lbfgs, tol=1e-05; total time=  14.0s\n"
     ]
    },
    {
     "name": "stderr",
     "output_type": "stream",
     "text": [
      "/Library/Frameworks/Python.framework/Versions/3.12/lib/python3.12/site-packages/sklearn/linear_model/_logistic.py:469: ConvergenceWarning: lbfgs failed to converge (status=1):\n",
      "STOP: TOTAL NO. of ITERATIONS REACHED LIMIT.\n",
      "\n",
      "Increase the number of iterations (max_iter) or scale the data as shown in:\n",
      "    https://scikit-learn.org/stable/modules/preprocessing.html\n",
      "Please also refer to the documentation for alternative solver options:\n",
      "    https://scikit-learn.org/stable/modules/linear_model.html#logistic-regression\n",
      "  n_iter_i = _check_optimize_result(\n"
     ]
    },
    {
     "name": "stdout",
     "output_type": "stream",
     "text": [
      "[CV] END class_weight={0: 1.5, 1: 2.5}, max_iter=6000, solver=lbfgs, tol=1e-05; total time=  13.9s\n"
     ]
    },
    {
     "name": "stderr",
     "output_type": "stream",
     "text": [
      "/Library/Frameworks/Python.framework/Versions/3.12/lib/python3.12/site-packages/sklearn/linear_model/_logistic.py:469: ConvergenceWarning: lbfgs failed to converge (status=1):\n",
      "STOP: TOTAL NO. of ITERATIONS REACHED LIMIT.\n",
      "\n",
      "Increase the number of iterations (max_iter) or scale the data as shown in:\n",
      "    https://scikit-learn.org/stable/modules/preprocessing.html\n",
      "Please also refer to the documentation for alternative solver options:\n",
      "    https://scikit-learn.org/stable/modules/linear_model.html#logistic-regression\n",
      "  n_iter_i = _check_optimize_result(\n"
     ]
    },
    {
     "name": "stdout",
     "output_type": "stream",
     "text": [
      "[CV] END class_weight={0: 1.5, 1: 2.5}, max_iter=6000, solver=lbfgs, tol=1e-05; total time=  14.0s\n"
     ]
    },
    {
     "name": "stderr",
     "output_type": "stream",
     "text": [
      "/Library/Frameworks/Python.framework/Versions/3.12/lib/python3.12/site-packages/sklearn/linear_model/_logistic.py:469: ConvergenceWarning: lbfgs failed to converge (status=1):\n",
      "STOP: TOTAL NO. of ITERATIONS REACHED LIMIT.\n",
      "\n",
      "Increase the number of iterations (max_iter) or scale the data as shown in:\n",
      "    https://scikit-learn.org/stable/modules/preprocessing.html\n",
      "Please also refer to the documentation for alternative solver options:\n",
      "    https://scikit-learn.org/stable/modules/linear_model.html#logistic-regression\n",
      "  n_iter_i = _check_optimize_result(\n"
     ]
    },
    {
     "name": "stdout",
     "output_type": "stream",
     "text": [
      "[CV] END class_weight={0: 1.5, 1: 2.5}, max_iter=6000, solver=lbfgs, tol=1e-05; total time=  13.1s\n"
     ]
    },
    {
     "name": "stderr",
     "output_type": "stream",
     "text": [
      "/Library/Frameworks/Python.framework/Versions/3.12/lib/python3.12/site-packages/sklearn/linear_model/_logistic.py:469: ConvergenceWarning: lbfgs failed to converge (status=1):\n",
      "STOP: TOTAL NO. of ITERATIONS REACHED LIMIT.\n",
      "\n",
      "Increase the number of iterations (max_iter) or scale the data as shown in:\n",
      "    https://scikit-learn.org/stable/modules/preprocessing.html\n",
      "Please also refer to the documentation for alternative solver options:\n",
      "    https://scikit-learn.org/stable/modules/linear_model.html#logistic-regression\n",
      "  n_iter_i = _check_optimize_result(\n"
     ]
    },
    {
     "name": "stdout",
     "output_type": "stream",
     "text": [
      "[CV] END class_weight={0: 1.5, 1: 2.5}, max_iter=6000, solver=lbfgs, tol=1e-05; total time=  13.8s\n"
     ]
    },
    {
     "name": "stderr",
     "output_type": "stream",
     "text": [
      "/Library/Frameworks/Python.framework/Versions/3.12/lib/python3.12/site-packages/sklearn/linear_model/_logistic.py:1216: UserWarning: 'n_jobs' > 1 does not have any effect when 'solver' is set to 'liblinear'. Got 'n_jobs' = 5.\n",
      "  warnings.warn(\n"
     ]
    },
    {
     "name": "stdout",
     "output_type": "stream",
     "text": [
      "[CV] END class_weight={0: 1.5, 1: 2.5}, max_iter=6000, solver=liblinear, tol=0.001; total time=   4.6s\n"
     ]
    },
    {
     "name": "stderr",
     "output_type": "stream",
     "text": [
      "/Library/Frameworks/Python.framework/Versions/3.12/lib/python3.12/site-packages/sklearn/linear_model/_logistic.py:1216: UserWarning: 'n_jobs' > 1 does not have any effect when 'solver' is set to 'liblinear'. Got 'n_jobs' = 5.\n",
      "  warnings.warn(\n"
     ]
    },
    {
     "name": "stdout",
     "output_type": "stream",
     "text": [
      "[CV] END class_weight={0: 1.5, 1: 2.5}, max_iter=6000, solver=liblinear, tol=0.001; total time=   6.5s\n"
     ]
    },
    {
     "name": "stderr",
     "output_type": "stream",
     "text": [
      "/Library/Frameworks/Python.framework/Versions/3.12/lib/python3.12/site-packages/sklearn/linear_model/_logistic.py:1216: UserWarning: 'n_jobs' > 1 does not have any effect when 'solver' is set to 'liblinear'. Got 'n_jobs' = 5.\n",
      "  warnings.warn(\n"
     ]
    },
    {
     "name": "stdout",
     "output_type": "stream",
     "text": [
      "[CV] END class_weight={0: 1.5, 1: 2.5}, max_iter=6000, solver=liblinear, tol=0.001; total time=   4.8s\n"
     ]
    },
    {
     "name": "stderr",
     "output_type": "stream",
     "text": [
      "/Library/Frameworks/Python.framework/Versions/3.12/lib/python3.12/site-packages/sklearn/linear_model/_logistic.py:1216: UserWarning: 'n_jobs' > 1 does not have any effect when 'solver' is set to 'liblinear'. Got 'n_jobs' = 5.\n",
      "  warnings.warn(\n"
     ]
    },
    {
     "name": "stdout",
     "output_type": "stream",
     "text": [
      "[CV] END class_weight={0: 1.5, 1: 2.5}, max_iter=6000, solver=liblinear, tol=0.001; total time=   6.1s\n"
     ]
    },
    {
     "name": "stderr",
     "output_type": "stream",
     "text": [
      "/Library/Frameworks/Python.framework/Versions/3.12/lib/python3.12/site-packages/sklearn/linear_model/_logistic.py:1216: UserWarning: 'n_jobs' > 1 does not have any effect when 'solver' is set to 'liblinear'. Got 'n_jobs' = 5.\n",
      "  warnings.warn(\n"
     ]
    },
    {
     "name": "stdout",
     "output_type": "stream",
     "text": [
      "[CV] END class_weight={0: 1.5, 1: 2.5}, max_iter=6000, solver=liblinear, tol=0.001; total time=   6.5s\n"
     ]
    },
    {
     "name": "stderr",
     "output_type": "stream",
     "text": [
      "/Library/Frameworks/Python.framework/Versions/3.12/lib/python3.12/site-packages/sklearn/linear_model/_logistic.py:1216: UserWarning: 'n_jobs' > 1 does not have any effect when 'solver' is set to 'liblinear'. Got 'n_jobs' = 5.\n",
      "  warnings.warn(\n"
     ]
    },
    {
     "name": "stdout",
     "output_type": "stream",
     "text": [
      "[CV] END class_weight={0: 1.5, 1: 2.5}, max_iter=6000, solver=liblinear, tol=0.0001; total time=  13.0s\n"
     ]
    },
    {
     "name": "stderr",
     "output_type": "stream",
     "text": [
      "/Library/Frameworks/Python.framework/Versions/3.12/lib/python3.12/site-packages/sklearn/linear_model/_logistic.py:1216: UserWarning: 'n_jobs' > 1 does not have any effect when 'solver' is set to 'liblinear'. Got 'n_jobs' = 5.\n",
      "  warnings.warn(\n"
     ]
    },
    {
     "name": "stdout",
     "output_type": "stream",
     "text": [
      "[CV] END class_weight={0: 1.5, 1: 2.5}, max_iter=6000, solver=liblinear, tol=0.0001; total time=  13.7s\n"
     ]
    },
    {
     "name": "stderr",
     "output_type": "stream",
     "text": [
      "/Library/Frameworks/Python.framework/Versions/3.12/lib/python3.12/site-packages/sklearn/linear_model/_logistic.py:1216: UserWarning: 'n_jobs' > 1 does not have any effect when 'solver' is set to 'liblinear'. Got 'n_jobs' = 5.\n",
      "  warnings.warn(\n"
     ]
    },
    {
     "name": "stdout",
     "output_type": "stream",
     "text": [
      "[CV] END class_weight={0: 1.5, 1: 2.5}, max_iter=6000, solver=liblinear, tol=0.0001; total time=  10.4s\n"
     ]
    },
    {
     "name": "stderr",
     "output_type": "stream",
     "text": [
      "/Library/Frameworks/Python.framework/Versions/3.12/lib/python3.12/site-packages/sklearn/linear_model/_logistic.py:1216: UserWarning: 'n_jobs' > 1 does not have any effect when 'solver' is set to 'liblinear'. Got 'n_jobs' = 5.\n",
      "  warnings.warn(\n"
     ]
    },
    {
     "name": "stdout",
     "output_type": "stream",
     "text": [
      "[CV] END class_weight={0: 1.5, 1: 2.5}, max_iter=6000, solver=liblinear, tol=0.0001; total time=   8.5s\n"
     ]
    },
    {
     "name": "stderr",
     "output_type": "stream",
     "text": [
      "/Library/Frameworks/Python.framework/Versions/3.12/lib/python3.12/site-packages/sklearn/linear_model/_logistic.py:1216: UserWarning: 'n_jobs' > 1 does not have any effect when 'solver' is set to 'liblinear'. Got 'n_jobs' = 5.\n",
      "  warnings.warn(\n"
     ]
    },
    {
     "name": "stdout",
     "output_type": "stream",
     "text": [
      "[CV] END class_weight={0: 1.5, 1: 2.5}, max_iter=6000, solver=liblinear, tol=0.0001; total time=  13.0s\n"
     ]
    },
    {
     "name": "stderr",
     "output_type": "stream",
     "text": [
      "/Library/Frameworks/Python.framework/Versions/3.12/lib/python3.12/site-packages/sklearn/linear_model/_logistic.py:1216: UserWarning: 'n_jobs' > 1 does not have any effect when 'solver' is set to 'liblinear'. Got 'n_jobs' = 5.\n",
      "  warnings.warn(\n"
     ]
    },
    {
     "name": "stdout",
     "output_type": "stream",
     "text": [
      "[CV] END class_weight={0: 1.5, 1: 2.5}, max_iter=6000, solver=liblinear, tol=1e-05; total time=  16.8s\n"
     ]
    },
    {
     "name": "stderr",
     "output_type": "stream",
     "text": [
      "/Library/Frameworks/Python.framework/Versions/3.12/lib/python3.12/site-packages/sklearn/linear_model/_logistic.py:1216: UserWarning: 'n_jobs' > 1 does not have any effect when 'solver' is set to 'liblinear'. Got 'n_jobs' = 5.\n",
      "  warnings.warn(\n"
     ]
    },
    {
     "name": "stdout",
     "output_type": "stream",
     "text": [
      "[CV] END class_weight={0: 1.5, 1: 2.5}, max_iter=6000, solver=liblinear, tol=1e-05; total time=  14.9s\n"
     ]
    },
    {
     "name": "stderr",
     "output_type": "stream",
     "text": [
      "/Library/Frameworks/Python.framework/Versions/3.12/lib/python3.12/site-packages/sklearn/linear_model/_logistic.py:1216: UserWarning: 'n_jobs' > 1 does not have any effect when 'solver' is set to 'liblinear'. Got 'n_jobs' = 5.\n",
      "  warnings.warn(\n"
     ]
    },
    {
     "name": "stdout",
     "output_type": "stream",
     "text": [
      "[CV] END class_weight={0: 1.5, 1: 2.5}, max_iter=6000, solver=liblinear, tol=1e-05; total time=  11.5s\n"
     ]
    },
    {
     "name": "stderr",
     "output_type": "stream",
     "text": [
      "/Library/Frameworks/Python.framework/Versions/3.12/lib/python3.12/site-packages/sklearn/linear_model/_logistic.py:1216: UserWarning: 'n_jobs' > 1 does not have any effect when 'solver' is set to 'liblinear'. Got 'n_jobs' = 5.\n",
      "  warnings.warn(\n"
     ]
    },
    {
     "name": "stdout",
     "output_type": "stream",
     "text": [
      "[CV] END class_weight={0: 1.5, 1: 2.5}, max_iter=6000, solver=liblinear, tol=1e-05; total time=  10.8s\n"
     ]
    },
    {
     "name": "stderr",
     "output_type": "stream",
     "text": [
      "/Library/Frameworks/Python.framework/Versions/3.12/lib/python3.12/site-packages/sklearn/linear_model/_logistic.py:1216: UserWarning: 'n_jobs' > 1 does not have any effect when 'solver' is set to 'liblinear'. Got 'n_jobs' = 5.\n",
      "  warnings.warn(\n"
     ]
    },
    {
     "name": "stdout",
     "output_type": "stream",
     "text": [
      "[CV] END class_weight={0: 1.5, 1: 2.5}, max_iter=6000, solver=liblinear, tol=1e-05; total time=  13.7s\n",
      "[CV] END class_weight={0: 1.5, 1: 2.5}, max_iter=10000, solver=lbfgs, tol=0.001; total time=  11.5s\n",
      "[CV] END class_weight={0: 1.5, 1: 2.5}, max_iter=10000, solver=lbfgs, tol=0.001; total time=  13.4s\n",
      "[CV] END class_weight={0: 1.5, 1: 2.5}, max_iter=10000, solver=lbfgs, tol=0.001; total time=   9.9s\n",
      "[CV] END class_weight={0: 1.5, 1: 2.5}, max_iter=10000, solver=lbfgs, tol=0.001; total time=  11.9s\n",
      "[CV] END class_weight={0: 1.5, 1: 2.5}, max_iter=10000, solver=lbfgs, tol=0.001; total time=  11.7s\n",
      "[CV] END class_weight={0: 1.5, 1: 2.5}, max_iter=10000, solver=lbfgs, tol=0.0001; total time=  16.8s\n",
      "[CV] END class_weight={0: 1.5, 1: 2.5}, max_iter=10000, solver=lbfgs, tol=0.0001; total time=  21.1s\n",
      "[CV] END class_weight={0: 1.5, 1: 2.5}, max_iter=10000, solver=lbfgs, tol=0.0001; total time=  19.7s\n",
      "[CV] END class_weight={0: 1.5, 1: 2.5}, max_iter=10000, solver=lbfgs, tol=0.0001; total time=  19.5s\n"
     ]
    },
    {
     "name": "stderr",
     "output_type": "stream",
     "text": [
      "/Library/Frameworks/Python.framework/Versions/3.12/lib/python3.12/site-packages/sklearn/linear_model/_logistic.py:469: ConvergenceWarning: lbfgs failed to converge (status=1):\n",
      "STOP: TOTAL NO. of ITERATIONS REACHED LIMIT.\n",
      "\n",
      "Increase the number of iterations (max_iter) or scale the data as shown in:\n",
      "    https://scikit-learn.org/stable/modules/preprocessing.html\n",
      "Please also refer to the documentation for alternative solver options:\n",
      "    https://scikit-learn.org/stable/modules/linear_model.html#logistic-regression\n",
      "  n_iter_i = _check_optimize_result(\n"
     ]
    },
    {
     "name": "stdout",
     "output_type": "stream",
     "text": [
      "[CV] END class_weight={0: 1.5, 1: 2.5}, max_iter=10000, solver=lbfgs, tol=0.0001; total time=  22.3s\n"
     ]
    },
    {
     "name": "stderr",
     "output_type": "stream",
     "text": [
      "/Library/Frameworks/Python.framework/Versions/3.12/lib/python3.12/site-packages/sklearn/linear_model/_logistic.py:469: ConvergenceWarning: lbfgs failed to converge (status=1):\n",
      "STOP: TOTAL NO. of ITERATIONS REACHED LIMIT.\n",
      "\n",
      "Increase the number of iterations (max_iter) or scale the data as shown in:\n",
      "    https://scikit-learn.org/stable/modules/preprocessing.html\n",
      "Please also refer to the documentation for alternative solver options:\n",
      "    https://scikit-learn.org/stable/modules/linear_model.html#logistic-regression\n",
      "  n_iter_i = _check_optimize_result(\n"
     ]
    },
    {
     "name": "stdout",
     "output_type": "stream",
     "text": [
      "[CV] END class_weight={0: 1.5, 1: 2.5}, max_iter=10000, solver=lbfgs, tol=1e-05; total time=  22.5s\n"
     ]
    },
    {
     "name": "stderr",
     "output_type": "stream",
     "text": [
      "/Library/Frameworks/Python.framework/Versions/3.12/lib/python3.12/site-packages/sklearn/linear_model/_logistic.py:469: ConvergenceWarning: lbfgs failed to converge (status=1):\n",
      "STOP: TOTAL NO. of ITERATIONS REACHED LIMIT.\n",
      "\n",
      "Increase the number of iterations (max_iter) or scale the data as shown in:\n",
      "    https://scikit-learn.org/stable/modules/preprocessing.html\n",
      "Please also refer to the documentation for alternative solver options:\n",
      "    https://scikit-learn.org/stable/modules/linear_model.html#logistic-regression\n",
      "  n_iter_i = _check_optimize_result(\n"
     ]
    },
    {
     "name": "stdout",
     "output_type": "stream",
     "text": [
      "[CV] END class_weight={0: 1.5, 1: 2.5}, max_iter=10000, solver=lbfgs, tol=1e-05; total time=  22.5s\n"
     ]
    },
    {
     "name": "stderr",
     "output_type": "stream",
     "text": [
      "/Library/Frameworks/Python.framework/Versions/3.12/lib/python3.12/site-packages/sklearn/linear_model/_logistic.py:469: ConvergenceWarning: lbfgs failed to converge (status=1):\n",
      "STOP: TOTAL NO. of ITERATIONS REACHED LIMIT.\n",
      "\n",
      "Increase the number of iterations (max_iter) or scale the data as shown in:\n",
      "    https://scikit-learn.org/stable/modules/preprocessing.html\n",
      "Please also refer to the documentation for alternative solver options:\n",
      "    https://scikit-learn.org/stable/modules/linear_model.html#logistic-regression\n",
      "  n_iter_i = _check_optimize_result(\n"
     ]
    },
    {
     "name": "stdout",
     "output_type": "stream",
     "text": [
      "[CV] END class_weight={0: 1.5, 1: 2.5}, max_iter=10000, solver=lbfgs, tol=1e-05; total time=  21.6s\n"
     ]
    },
    {
     "name": "stderr",
     "output_type": "stream",
     "text": [
      "/Library/Frameworks/Python.framework/Versions/3.12/lib/python3.12/site-packages/sklearn/linear_model/_logistic.py:469: ConvergenceWarning: lbfgs failed to converge (status=1):\n",
      "STOP: TOTAL NO. of ITERATIONS REACHED LIMIT.\n",
      "\n",
      "Increase the number of iterations (max_iter) or scale the data as shown in:\n",
      "    https://scikit-learn.org/stable/modules/preprocessing.html\n",
      "Please also refer to the documentation for alternative solver options:\n",
      "    https://scikit-learn.org/stable/modules/linear_model.html#logistic-regression\n",
      "  n_iter_i = _check_optimize_result(\n"
     ]
    },
    {
     "name": "stdout",
     "output_type": "stream",
     "text": [
      "[CV] END class_weight={0: 1.5, 1: 2.5}, max_iter=10000, solver=lbfgs, tol=1e-05; total time=  22.5s\n"
     ]
    },
    {
     "name": "stderr",
     "output_type": "stream",
     "text": [
      "/Library/Frameworks/Python.framework/Versions/3.12/lib/python3.12/site-packages/sklearn/linear_model/_logistic.py:469: ConvergenceWarning: lbfgs failed to converge (status=1):\n",
      "STOP: TOTAL NO. of ITERATIONS REACHED LIMIT.\n",
      "\n",
      "Increase the number of iterations (max_iter) or scale the data as shown in:\n",
      "    https://scikit-learn.org/stable/modules/preprocessing.html\n",
      "Please also refer to the documentation for alternative solver options:\n",
      "    https://scikit-learn.org/stable/modules/linear_model.html#logistic-regression\n",
      "  n_iter_i = _check_optimize_result(\n"
     ]
    },
    {
     "name": "stdout",
     "output_type": "stream",
     "text": [
      "[CV] END class_weight={0: 1.5, 1: 2.5}, max_iter=10000, solver=lbfgs, tol=1e-05; total time=  22.4s\n"
     ]
    },
    {
     "name": "stderr",
     "output_type": "stream",
     "text": [
      "/Library/Frameworks/Python.framework/Versions/3.12/lib/python3.12/site-packages/sklearn/linear_model/_logistic.py:1216: UserWarning: 'n_jobs' > 1 does not have any effect when 'solver' is set to 'liblinear'. Got 'n_jobs' = 5.\n",
      "  warnings.warn(\n"
     ]
    },
    {
     "name": "stdout",
     "output_type": "stream",
     "text": [
      "[CV] END class_weight={0: 1.5, 1: 2.5}, max_iter=10000, solver=liblinear, tol=0.001; total time=   4.6s\n"
     ]
    },
    {
     "name": "stderr",
     "output_type": "stream",
     "text": [
      "/Library/Frameworks/Python.framework/Versions/3.12/lib/python3.12/site-packages/sklearn/linear_model/_logistic.py:1216: UserWarning: 'n_jobs' > 1 does not have any effect when 'solver' is set to 'liblinear'. Got 'n_jobs' = 5.\n",
      "  warnings.warn(\n"
     ]
    },
    {
     "name": "stdout",
     "output_type": "stream",
     "text": [
      "[CV] END class_weight={0: 1.5, 1: 2.5}, max_iter=10000, solver=liblinear, tol=0.001; total time=   6.6s\n"
     ]
    },
    {
     "name": "stderr",
     "output_type": "stream",
     "text": [
      "/Library/Frameworks/Python.framework/Versions/3.12/lib/python3.12/site-packages/sklearn/linear_model/_logistic.py:1216: UserWarning: 'n_jobs' > 1 does not have any effect when 'solver' is set to 'liblinear'. Got 'n_jobs' = 5.\n",
      "  warnings.warn(\n"
     ]
    },
    {
     "name": "stdout",
     "output_type": "stream",
     "text": [
      "[CV] END class_weight={0: 1.5, 1: 2.5}, max_iter=10000, solver=liblinear, tol=0.001; total time=   4.9s\n"
     ]
    },
    {
     "name": "stderr",
     "output_type": "stream",
     "text": [
      "/Library/Frameworks/Python.framework/Versions/3.12/lib/python3.12/site-packages/sklearn/linear_model/_logistic.py:1216: UserWarning: 'n_jobs' > 1 does not have any effect when 'solver' is set to 'liblinear'. Got 'n_jobs' = 5.\n",
      "  warnings.warn(\n"
     ]
    },
    {
     "name": "stdout",
     "output_type": "stream",
     "text": [
      "[CV] END class_weight={0: 1.5, 1: 2.5}, max_iter=10000, solver=liblinear, tol=0.001; total time=   6.1s\n"
     ]
    },
    {
     "name": "stderr",
     "output_type": "stream",
     "text": [
      "/Library/Frameworks/Python.framework/Versions/3.12/lib/python3.12/site-packages/sklearn/linear_model/_logistic.py:1216: UserWarning: 'n_jobs' > 1 does not have any effect when 'solver' is set to 'liblinear'. Got 'n_jobs' = 5.\n",
      "  warnings.warn(\n"
     ]
    },
    {
     "name": "stdout",
     "output_type": "stream",
     "text": [
      "[CV] END class_weight={0: 1.5, 1: 2.5}, max_iter=10000, solver=liblinear, tol=0.001; total time=   6.5s\n"
     ]
    },
    {
     "name": "stderr",
     "output_type": "stream",
     "text": [
      "/Library/Frameworks/Python.framework/Versions/3.12/lib/python3.12/site-packages/sklearn/linear_model/_logistic.py:1216: UserWarning: 'n_jobs' > 1 does not have any effect when 'solver' is set to 'liblinear'. Got 'n_jobs' = 5.\n",
      "  warnings.warn(\n"
     ]
    },
    {
     "name": "stdout",
     "output_type": "stream",
     "text": [
      "[CV] END class_weight={0: 1.5, 1: 2.5}, max_iter=10000, solver=liblinear, tol=0.0001; total time=  13.0s\n"
     ]
    },
    {
     "name": "stderr",
     "output_type": "stream",
     "text": [
      "/Library/Frameworks/Python.framework/Versions/3.12/lib/python3.12/site-packages/sklearn/linear_model/_logistic.py:1216: UserWarning: 'n_jobs' > 1 does not have any effect when 'solver' is set to 'liblinear'. Got 'n_jobs' = 5.\n",
      "  warnings.warn(\n"
     ]
    },
    {
     "name": "stdout",
     "output_type": "stream",
     "text": [
      "[CV] END class_weight={0: 1.5, 1: 2.5}, max_iter=10000, solver=liblinear, tol=0.0001; total time=  13.7s\n"
     ]
    },
    {
     "name": "stderr",
     "output_type": "stream",
     "text": [
      "/Library/Frameworks/Python.framework/Versions/3.12/lib/python3.12/site-packages/sklearn/linear_model/_logistic.py:1216: UserWarning: 'n_jobs' > 1 does not have any effect when 'solver' is set to 'liblinear'. Got 'n_jobs' = 5.\n",
      "  warnings.warn(\n"
     ]
    },
    {
     "name": "stdout",
     "output_type": "stream",
     "text": [
      "[CV] END class_weight={0: 1.5, 1: 2.5}, max_iter=10000, solver=liblinear, tol=0.0001; total time=  10.5s\n"
     ]
    },
    {
     "name": "stderr",
     "output_type": "stream",
     "text": [
      "/Library/Frameworks/Python.framework/Versions/3.12/lib/python3.12/site-packages/sklearn/linear_model/_logistic.py:1216: UserWarning: 'n_jobs' > 1 does not have any effect when 'solver' is set to 'liblinear'. Got 'n_jobs' = 5.\n",
      "  warnings.warn(\n"
     ]
    },
    {
     "name": "stdout",
     "output_type": "stream",
     "text": [
      "[CV] END class_weight={0: 1.5, 1: 2.5}, max_iter=10000, solver=liblinear, tol=0.0001; total time=   8.5s\n"
     ]
    },
    {
     "name": "stderr",
     "output_type": "stream",
     "text": [
      "/Library/Frameworks/Python.framework/Versions/3.12/lib/python3.12/site-packages/sklearn/linear_model/_logistic.py:1216: UserWarning: 'n_jobs' > 1 does not have any effect when 'solver' is set to 'liblinear'. Got 'n_jobs' = 5.\n",
      "  warnings.warn(\n"
     ]
    },
    {
     "name": "stdout",
     "output_type": "stream",
     "text": [
      "[CV] END class_weight={0: 1.5, 1: 2.5}, max_iter=10000, solver=liblinear, tol=0.0001; total time=  13.0s\n"
     ]
    },
    {
     "name": "stderr",
     "output_type": "stream",
     "text": [
      "/Library/Frameworks/Python.framework/Versions/3.12/lib/python3.12/site-packages/sklearn/linear_model/_logistic.py:1216: UserWarning: 'n_jobs' > 1 does not have any effect when 'solver' is set to 'liblinear'. Got 'n_jobs' = 5.\n",
      "  warnings.warn(\n"
     ]
    },
    {
     "name": "stdout",
     "output_type": "stream",
     "text": [
      "[CV] END class_weight={0: 1.5, 1: 2.5}, max_iter=10000, solver=liblinear, tol=1e-05; total time=  16.9s\n"
     ]
    },
    {
     "name": "stderr",
     "output_type": "stream",
     "text": [
      "/Library/Frameworks/Python.framework/Versions/3.12/lib/python3.12/site-packages/sklearn/linear_model/_logistic.py:1216: UserWarning: 'n_jobs' > 1 does not have any effect when 'solver' is set to 'liblinear'. Got 'n_jobs' = 5.\n",
      "  warnings.warn(\n"
     ]
    },
    {
     "name": "stdout",
     "output_type": "stream",
     "text": [
      "[CV] END class_weight={0: 1.5, 1: 2.5}, max_iter=10000, solver=liblinear, tol=1e-05; total time=  15.0s\n"
     ]
    },
    {
     "name": "stderr",
     "output_type": "stream",
     "text": [
      "/Library/Frameworks/Python.framework/Versions/3.12/lib/python3.12/site-packages/sklearn/linear_model/_logistic.py:1216: UserWarning: 'n_jobs' > 1 does not have any effect when 'solver' is set to 'liblinear'. Got 'n_jobs' = 5.\n",
      "  warnings.warn(\n"
     ]
    },
    {
     "name": "stdout",
     "output_type": "stream",
     "text": [
      "[CV] END class_weight={0: 1.5, 1: 2.5}, max_iter=10000, solver=liblinear, tol=1e-05; total time=  11.6s\n"
     ]
    },
    {
     "name": "stderr",
     "output_type": "stream",
     "text": [
      "/Library/Frameworks/Python.framework/Versions/3.12/lib/python3.12/site-packages/sklearn/linear_model/_logistic.py:1216: UserWarning: 'n_jobs' > 1 does not have any effect when 'solver' is set to 'liblinear'. Got 'n_jobs' = 5.\n",
      "  warnings.warn(\n"
     ]
    },
    {
     "name": "stdout",
     "output_type": "stream",
     "text": [
      "[CV] END class_weight={0: 1.5, 1: 2.5}, max_iter=10000, solver=liblinear, tol=1e-05; total time=  10.8s\n"
     ]
    },
    {
     "name": "stderr",
     "output_type": "stream",
     "text": [
      "/Library/Frameworks/Python.framework/Versions/3.12/lib/python3.12/site-packages/sklearn/linear_model/_logistic.py:1216: UserWarning: 'n_jobs' > 1 does not have any effect when 'solver' is set to 'liblinear'. Got 'n_jobs' = 5.\n",
      "  warnings.warn(\n"
     ]
    },
    {
     "name": "stdout",
     "output_type": "stream",
     "text": [
      "[CV] END class_weight={0: 1.5, 1: 2.5}, max_iter=10000, solver=liblinear, tol=1e-05; total time=  13.7s\n"
     ]
    },
    {
     "name": "stderr",
     "output_type": "stream",
     "text": [
      "/Library/Frameworks/Python.framework/Versions/3.12/lib/python3.12/site-packages/sklearn/linear_model/_logistic.py:469: ConvergenceWarning: lbfgs failed to converge (status=1):\n",
      "STOP: TOTAL NO. of ITERATIONS REACHED LIMIT.\n",
      "\n",
      "Increase the number of iterations (max_iter) or scale the data as shown in:\n",
      "    https://scikit-learn.org/stable/modules/preprocessing.html\n",
      "Please also refer to the documentation for alternative solver options:\n",
      "    https://scikit-learn.org/stable/modules/linear_model.html#logistic-regression\n",
      "  n_iter_i = _check_optimize_result(\n"
     ]
    },
    {
     "name": "stdout",
     "output_type": "stream",
     "text": [
      "[CV] END class_weight={0: 1.5, 1: 3}, max_iter=2000, solver=lbfgs, tol=0.001; total time=   5.4s\n"
     ]
    },
    {
     "name": "stderr",
     "output_type": "stream",
     "text": [
      "/Library/Frameworks/Python.framework/Versions/3.12/lib/python3.12/site-packages/sklearn/linear_model/_logistic.py:469: ConvergenceWarning: lbfgs failed to converge (status=1):\n",
      "STOP: TOTAL NO. of ITERATIONS REACHED LIMIT.\n",
      "\n",
      "Increase the number of iterations (max_iter) or scale the data as shown in:\n",
      "    https://scikit-learn.org/stable/modules/preprocessing.html\n",
      "Please also refer to the documentation for alternative solver options:\n",
      "    https://scikit-learn.org/stable/modules/linear_model.html#logistic-regression\n",
      "  n_iter_i = _check_optimize_result(\n"
     ]
    },
    {
     "name": "stdout",
     "output_type": "stream",
     "text": [
      "[CV] END class_weight={0: 1.5, 1: 3}, max_iter=2000, solver=lbfgs, tol=0.001; total time=   5.4s\n"
     ]
    },
    {
     "name": "stderr",
     "output_type": "stream",
     "text": [
      "/Library/Frameworks/Python.framework/Versions/3.12/lib/python3.12/site-packages/sklearn/linear_model/_logistic.py:469: ConvergenceWarning: lbfgs failed to converge (status=1):\n",
      "STOP: TOTAL NO. of ITERATIONS REACHED LIMIT.\n",
      "\n",
      "Increase the number of iterations (max_iter) or scale the data as shown in:\n",
      "    https://scikit-learn.org/stable/modules/preprocessing.html\n",
      "Please also refer to the documentation for alternative solver options:\n",
      "    https://scikit-learn.org/stable/modules/linear_model.html#logistic-regression\n",
      "  n_iter_i = _check_optimize_result(\n"
     ]
    },
    {
     "name": "stdout",
     "output_type": "stream",
     "text": [
      "[CV] END class_weight={0: 1.5, 1: 3}, max_iter=2000, solver=lbfgs, tol=0.001; total time=   5.4s\n"
     ]
    },
    {
     "name": "stderr",
     "output_type": "stream",
     "text": [
      "/Library/Frameworks/Python.framework/Versions/3.12/lib/python3.12/site-packages/sklearn/linear_model/_logistic.py:469: ConvergenceWarning: lbfgs failed to converge (status=1):\n",
      "STOP: TOTAL NO. of ITERATIONS REACHED LIMIT.\n",
      "\n",
      "Increase the number of iterations (max_iter) or scale the data as shown in:\n",
      "    https://scikit-learn.org/stable/modules/preprocessing.html\n",
      "Please also refer to the documentation for alternative solver options:\n",
      "    https://scikit-learn.org/stable/modules/linear_model.html#logistic-regression\n",
      "  n_iter_i = _check_optimize_result(\n"
     ]
    },
    {
     "name": "stdout",
     "output_type": "stream",
     "text": [
      "[CV] END class_weight={0: 1.5, 1: 3}, max_iter=2000, solver=lbfgs, tol=0.001; total time=   5.4s\n"
     ]
    },
    {
     "name": "stderr",
     "output_type": "stream",
     "text": [
      "/Library/Frameworks/Python.framework/Versions/3.12/lib/python3.12/site-packages/sklearn/linear_model/_logistic.py:469: ConvergenceWarning: lbfgs failed to converge (status=1):\n",
      "STOP: TOTAL NO. of ITERATIONS REACHED LIMIT.\n",
      "\n",
      "Increase the number of iterations (max_iter) or scale the data as shown in:\n",
      "    https://scikit-learn.org/stable/modules/preprocessing.html\n",
      "Please also refer to the documentation for alternative solver options:\n",
      "    https://scikit-learn.org/stable/modules/linear_model.html#logistic-regression\n",
      "  n_iter_i = _check_optimize_result(\n"
     ]
    },
    {
     "name": "stdout",
     "output_type": "stream",
     "text": [
      "[CV] END class_weight={0: 1.5, 1: 3}, max_iter=2000, solver=lbfgs, tol=0.001; total time=   4.4s\n"
     ]
    },
    {
     "name": "stderr",
     "output_type": "stream",
     "text": [
      "/Library/Frameworks/Python.framework/Versions/3.12/lib/python3.12/site-packages/sklearn/linear_model/_logistic.py:469: ConvergenceWarning: lbfgs failed to converge (status=1):\n",
      "STOP: TOTAL NO. of ITERATIONS REACHED LIMIT.\n",
      "\n",
      "Increase the number of iterations (max_iter) or scale the data as shown in:\n",
      "    https://scikit-learn.org/stable/modules/preprocessing.html\n",
      "Please also refer to the documentation for alternative solver options:\n",
      "    https://scikit-learn.org/stable/modules/linear_model.html#logistic-regression\n",
      "  n_iter_i = _check_optimize_result(\n"
     ]
    },
    {
     "name": "stdout",
     "output_type": "stream",
     "text": [
      "[CV] END class_weight={0: 1.5, 1: 3}, max_iter=2000, solver=lbfgs, tol=0.0001; total time=   4.8s\n"
     ]
    },
    {
     "name": "stderr",
     "output_type": "stream",
     "text": [
      "/Library/Frameworks/Python.framework/Versions/3.12/lib/python3.12/site-packages/sklearn/linear_model/_logistic.py:469: ConvergenceWarning: lbfgs failed to converge (status=1):\n",
      "STOP: TOTAL NO. of ITERATIONS REACHED LIMIT.\n",
      "\n",
      "Increase the number of iterations (max_iter) or scale the data as shown in:\n",
      "    https://scikit-learn.org/stable/modules/preprocessing.html\n",
      "Please also refer to the documentation for alternative solver options:\n",
      "    https://scikit-learn.org/stable/modules/linear_model.html#logistic-regression\n",
      "  n_iter_i = _check_optimize_result(\n"
     ]
    },
    {
     "name": "stdout",
     "output_type": "stream",
     "text": [
      "[CV] END class_weight={0: 1.5, 1: 3}, max_iter=2000, solver=lbfgs, tol=0.0001; total time=   5.4s\n"
     ]
    },
    {
     "name": "stderr",
     "output_type": "stream",
     "text": [
      "/Library/Frameworks/Python.framework/Versions/3.12/lib/python3.12/site-packages/sklearn/linear_model/_logistic.py:469: ConvergenceWarning: lbfgs failed to converge (status=1):\n",
      "STOP: TOTAL NO. of ITERATIONS REACHED LIMIT.\n",
      "\n",
      "Increase the number of iterations (max_iter) or scale the data as shown in:\n",
      "    https://scikit-learn.org/stable/modules/preprocessing.html\n",
      "Please also refer to the documentation for alternative solver options:\n",
      "    https://scikit-learn.org/stable/modules/linear_model.html#logistic-regression\n",
      "  n_iter_i = _check_optimize_result(\n"
     ]
    },
    {
     "name": "stdout",
     "output_type": "stream",
     "text": [
      "[CV] END class_weight={0: 1.5, 1: 3}, max_iter=2000, solver=lbfgs, tol=0.0001; total time=   5.5s\n"
     ]
    },
    {
     "name": "stderr",
     "output_type": "stream",
     "text": [
      "/Library/Frameworks/Python.framework/Versions/3.12/lib/python3.12/site-packages/sklearn/linear_model/_logistic.py:469: ConvergenceWarning: lbfgs failed to converge (status=1):\n",
      "STOP: TOTAL NO. of ITERATIONS REACHED LIMIT.\n",
      "\n",
      "Increase the number of iterations (max_iter) or scale the data as shown in:\n",
      "    https://scikit-learn.org/stable/modules/preprocessing.html\n",
      "Please also refer to the documentation for alternative solver options:\n",
      "    https://scikit-learn.org/stable/modules/linear_model.html#logistic-regression\n",
      "  n_iter_i = _check_optimize_result(\n"
     ]
    },
    {
     "name": "stdout",
     "output_type": "stream",
     "text": [
      "[CV] END class_weight={0: 1.5, 1: 3}, max_iter=2000, solver=lbfgs, tol=0.0001; total time=   5.4s\n"
     ]
    },
    {
     "name": "stderr",
     "output_type": "stream",
     "text": [
      "/Library/Frameworks/Python.framework/Versions/3.12/lib/python3.12/site-packages/sklearn/linear_model/_logistic.py:469: ConvergenceWarning: lbfgs failed to converge (status=1):\n",
      "STOP: TOTAL NO. of ITERATIONS REACHED LIMIT.\n",
      "\n",
      "Increase the number of iterations (max_iter) or scale the data as shown in:\n",
      "    https://scikit-learn.org/stable/modules/preprocessing.html\n",
      "Please also refer to the documentation for alternative solver options:\n",
      "    https://scikit-learn.org/stable/modules/linear_model.html#logistic-regression\n",
      "  n_iter_i = _check_optimize_result(\n"
     ]
    },
    {
     "name": "stdout",
     "output_type": "stream",
     "text": [
      "[CV] END class_weight={0: 1.5, 1: 3}, max_iter=2000, solver=lbfgs, tol=0.0001; total time=   4.5s\n"
     ]
    },
    {
     "name": "stderr",
     "output_type": "stream",
     "text": [
      "/Library/Frameworks/Python.framework/Versions/3.12/lib/python3.12/site-packages/sklearn/linear_model/_logistic.py:469: ConvergenceWarning: lbfgs failed to converge (status=1):\n",
      "STOP: TOTAL NO. of ITERATIONS REACHED LIMIT.\n",
      "\n",
      "Increase the number of iterations (max_iter) or scale the data as shown in:\n",
      "    https://scikit-learn.org/stable/modules/preprocessing.html\n",
      "Please also refer to the documentation for alternative solver options:\n",
      "    https://scikit-learn.org/stable/modules/linear_model.html#logistic-regression\n",
      "  n_iter_i = _check_optimize_result(\n"
     ]
    },
    {
     "name": "stdout",
     "output_type": "stream",
     "text": [
      "[CV] END class_weight={0: 1.5, 1: 3}, max_iter=2000, solver=lbfgs, tol=1e-05; total time=   5.4s\n"
     ]
    },
    {
     "name": "stderr",
     "output_type": "stream",
     "text": [
      "/Library/Frameworks/Python.framework/Versions/3.12/lib/python3.12/site-packages/sklearn/linear_model/_logistic.py:469: ConvergenceWarning: lbfgs failed to converge (status=1):\n",
      "STOP: TOTAL NO. of ITERATIONS REACHED LIMIT.\n",
      "\n",
      "Increase the number of iterations (max_iter) or scale the data as shown in:\n",
      "    https://scikit-learn.org/stable/modules/preprocessing.html\n",
      "Please also refer to the documentation for alternative solver options:\n",
      "    https://scikit-learn.org/stable/modules/linear_model.html#logistic-regression\n",
      "  n_iter_i = _check_optimize_result(\n"
     ]
    },
    {
     "name": "stdout",
     "output_type": "stream",
     "text": [
      "[CV] END class_weight={0: 1.5, 1: 3}, max_iter=2000, solver=lbfgs, tol=1e-05; total time=   5.4s\n"
     ]
    },
    {
     "name": "stderr",
     "output_type": "stream",
     "text": [
      "/Library/Frameworks/Python.framework/Versions/3.12/lib/python3.12/site-packages/sklearn/linear_model/_logistic.py:469: ConvergenceWarning: lbfgs failed to converge (status=1):\n",
      "STOP: TOTAL NO. of ITERATIONS REACHED LIMIT.\n",
      "\n",
      "Increase the number of iterations (max_iter) or scale the data as shown in:\n",
      "    https://scikit-learn.org/stable/modules/preprocessing.html\n",
      "Please also refer to the documentation for alternative solver options:\n",
      "    https://scikit-learn.org/stable/modules/linear_model.html#logistic-regression\n",
      "  n_iter_i = _check_optimize_result(\n"
     ]
    },
    {
     "name": "stdout",
     "output_type": "stream",
     "text": [
      "[CV] END class_weight={0: 1.5, 1: 3}, max_iter=2000, solver=lbfgs, tol=1e-05; total time=   4.7s\n"
     ]
    },
    {
     "name": "stderr",
     "output_type": "stream",
     "text": [
      "/Library/Frameworks/Python.framework/Versions/3.12/lib/python3.12/site-packages/sklearn/linear_model/_logistic.py:469: ConvergenceWarning: lbfgs failed to converge (status=1):\n",
      "STOP: TOTAL NO. of ITERATIONS REACHED LIMIT.\n",
      "\n",
      "Increase the number of iterations (max_iter) or scale the data as shown in:\n",
      "    https://scikit-learn.org/stable/modules/preprocessing.html\n",
      "Please also refer to the documentation for alternative solver options:\n",
      "    https://scikit-learn.org/stable/modules/linear_model.html#logistic-regression\n",
      "  n_iter_i = _check_optimize_result(\n"
     ]
    },
    {
     "name": "stdout",
     "output_type": "stream",
     "text": [
      "[CV] END class_weight={0: 1.5, 1: 3}, max_iter=2000, solver=lbfgs, tol=1e-05; total time=   5.4s\n"
     ]
    },
    {
     "name": "stderr",
     "output_type": "stream",
     "text": [
      "/Library/Frameworks/Python.framework/Versions/3.12/lib/python3.12/site-packages/sklearn/linear_model/_logistic.py:469: ConvergenceWarning: lbfgs failed to converge (status=1):\n",
      "STOP: TOTAL NO. of ITERATIONS REACHED LIMIT.\n",
      "\n",
      "Increase the number of iterations (max_iter) or scale the data as shown in:\n",
      "    https://scikit-learn.org/stable/modules/preprocessing.html\n",
      "Please also refer to the documentation for alternative solver options:\n",
      "    https://scikit-learn.org/stable/modules/linear_model.html#logistic-regression\n",
      "  n_iter_i = _check_optimize_result(\n"
     ]
    },
    {
     "name": "stdout",
     "output_type": "stream",
     "text": [
      "[CV] END class_weight={0: 1.5, 1: 3}, max_iter=2000, solver=lbfgs, tol=1e-05; total time=   5.4s\n"
     ]
    },
    {
     "name": "stderr",
     "output_type": "stream",
     "text": [
      "/Library/Frameworks/Python.framework/Versions/3.12/lib/python3.12/site-packages/sklearn/linear_model/_logistic.py:1216: UserWarning: 'n_jobs' > 1 does not have any effect when 'solver' is set to 'liblinear'. Got 'n_jobs' = 5.\n",
      "  warnings.warn(\n"
     ]
    },
    {
     "name": "stdout",
     "output_type": "stream",
     "text": [
      "[CV] END class_weight={0: 1.5, 1: 3}, max_iter=2000, solver=liblinear, tol=0.001; total time=   6.6s\n"
     ]
    },
    {
     "name": "stderr",
     "output_type": "stream",
     "text": [
      "/Library/Frameworks/Python.framework/Versions/3.12/lib/python3.12/site-packages/sklearn/linear_model/_logistic.py:1216: UserWarning: 'n_jobs' > 1 does not have any effect when 'solver' is set to 'liblinear'. Got 'n_jobs' = 5.\n",
      "  warnings.warn(\n",
      "/Library/Frameworks/Python.framework/Versions/3.12/lib/python3.12/site-packages/sklearn/svm/_base.py:1237: ConvergenceWarning: Liblinear failed to converge, increase the number of iterations.\n",
      "  warnings.warn(\n",
      "/Library/Frameworks/Python.framework/Versions/3.12/lib/python3.12/site-packages/sklearn/linear_model/_logistic.py:1216: UserWarning: 'n_jobs' > 1 does not have any effect when 'solver' is set to 'liblinear'. Got 'n_jobs' = 5.\n",
      "  warnings.warn(\n"
     ]
    },
    {
     "name": "stdout",
     "output_type": "stream",
     "text": [
      "[CV] END class_weight={0: 1.5, 1: 3}, max_iter=2000, solver=liblinear, tol=0.001; total time=   7.5s\n",
      "[CV] END class_weight={0: 1.5, 1: 3}, max_iter=2000, solver=liblinear, tol=0.001; total time=   4.9s\n"
     ]
    },
    {
     "name": "stderr",
     "output_type": "stream",
     "text": [
      "/Library/Frameworks/Python.framework/Versions/3.12/lib/python3.12/site-packages/sklearn/linear_model/_logistic.py:1216: UserWarning: 'n_jobs' > 1 does not have any effect when 'solver' is set to 'liblinear'. Got 'n_jobs' = 5.\n",
      "  warnings.warn(\n"
     ]
    },
    {
     "name": "stdout",
     "output_type": "stream",
     "text": [
      "[CV] END class_weight={0: 1.5, 1: 3}, max_iter=2000, solver=liblinear, tol=0.001; total time=   7.2s\n"
     ]
    },
    {
     "name": "stderr",
     "output_type": "stream",
     "text": [
      "/Library/Frameworks/Python.framework/Versions/3.12/lib/python3.12/site-packages/sklearn/linear_model/_logistic.py:1216: UserWarning: 'n_jobs' > 1 does not have any effect when 'solver' is set to 'liblinear'. Got 'n_jobs' = 5.\n",
      "  warnings.warn(\n",
      "/Library/Frameworks/Python.framework/Versions/3.12/lib/python3.12/site-packages/sklearn/svm/_base.py:1237: ConvergenceWarning: Liblinear failed to converge, increase the number of iterations.\n",
      "  warnings.warn(\n",
      "/Library/Frameworks/Python.framework/Versions/3.12/lib/python3.12/site-packages/sklearn/linear_model/_logistic.py:1216: UserWarning: 'n_jobs' > 1 does not have any effect when 'solver' is set to 'liblinear'. Got 'n_jobs' = 5.\n",
      "  warnings.warn(\n"
     ]
    },
    {
     "name": "stdout",
     "output_type": "stream",
     "text": [
      "[CV] END class_weight={0: 1.5, 1: 3}, max_iter=2000, solver=liblinear, tol=0.001; total time=   5.5s\n"
     ]
    },
    {
     "name": "stderr",
     "output_type": "stream",
     "text": [
      "/Library/Frameworks/Python.framework/Versions/3.12/lib/python3.12/site-packages/sklearn/svm/_base.py:1237: ConvergenceWarning: Liblinear failed to converge, increase the number of iterations.\n",
      "  warnings.warn(\n",
      "/Library/Frameworks/Python.framework/Versions/3.12/lib/python3.12/site-packages/sklearn/linear_model/_logistic.py:1216: UserWarning: 'n_jobs' > 1 does not have any effect when 'solver' is set to 'liblinear'. Got 'n_jobs' = 5.\n",
      "  warnings.warn(\n"
     ]
    },
    {
     "name": "stdout",
     "output_type": "stream",
     "text": [
      "[CV] END class_weight={0: 1.5, 1: 3}, max_iter=2000, solver=liblinear, tol=0.0001; total time=   6.8s\n"
     ]
    },
    {
     "name": "stderr",
     "output_type": "stream",
     "text": [
      "/Library/Frameworks/Python.framework/Versions/3.12/lib/python3.12/site-packages/sklearn/svm/_base.py:1237: ConvergenceWarning: Liblinear failed to converge, increase the number of iterations.\n",
      "  warnings.warn(\n",
      "/Library/Frameworks/Python.framework/Versions/3.12/lib/python3.12/site-packages/sklearn/linear_model/_logistic.py:1216: UserWarning: 'n_jobs' > 1 does not have any effect when 'solver' is set to 'liblinear'. Got 'n_jobs' = 5.\n",
      "  warnings.warn(\n"
     ]
    },
    {
     "name": "stdout",
     "output_type": "stream",
     "text": [
      "[CV] END class_weight={0: 1.5, 1: 3}, max_iter=2000, solver=liblinear, tol=0.0001; total time=   7.5s\n",
      "[CV] END class_weight={0: 1.5, 1: 3}, max_iter=2000, solver=liblinear, tol=0.0001; total time=   8.4s\n"
     ]
    },
    {
     "name": "stderr",
     "output_type": "stream",
     "text": [
      "/Library/Frameworks/Python.framework/Versions/3.12/lib/python3.12/site-packages/sklearn/linear_model/_logistic.py:1216: UserWarning: 'n_jobs' > 1 does not have any effect when 'solver' is set to 'liblinear'. Got 'n_jobs' = 5.\n",
      "  warnings.warn(\n"
     ]
    },
    {
     "name": "stdout",
     "output_type": "stream",
     "text": [
      "[CV] END class_weight={0: 1.5, 1: 3}, max_iter=2000, solver=liblinear, tol=0.0001; total time=   9.8s\n"
     ]
    },
    {
     "name": "stderr",
     "output_type": "stream",
     "text": [
      "/Library/Frameworks/Python.framework/Versions/3.12/lib/python3.12/site-packages/sklearn/linear_model/_logistic.py:1216: UserWarning: 'n_jobs' > 1 does not have any effect when 'solver' is set to 'liblinear'. Got 'n_jobs' = 5.\n",
      "  warnings.warn(\n",
      "/Library/Frameworks/Python.framework/Versions/3.12/lib/python3.12/site-packages/sklearn/svm/_base.py:1237: ConvergenceWarning: Liblinear failed to converge, increase the number of iterations.\n",
      "  warnings.warn(\n",
      "/Library/Frameworks/Python.framework/Versions/3.12/lib/python3.12/site-packages/sklearn/linear_model/_logistic.py:1216: UserWarning: 'n_jobs' > 1 does not have any effect when 'solver' is set to 'liblinear'. Got 'n_jobs' = 5.\n",
      "  warnings.warn(\n"
     ]
    },
    {
     "name": "stdout",
     "output_type": "stream",
     "text": [
      "[CV] END class_weight={0: 1.5, 1: 3}, max_iter=2000, solver=liblinear, tol=0.0001; total time=   5.5s\n"
     ]
    },
    {
     "name": "stderr",
     "output_type": "stream",
     "text": [
      "/Library/Frameworks/Python.framework/Versions/3.12/lib/python3.12/site-packages/sklearn/svm/_base.py:1237: ConvergenceWarning: Liblinear failed to converge, increase the number of iterations.\n",
      "  warnings.warn(\n",
      "/Library/Frameworks/Python.framework/Versions/3.12/lib/python3.12/site-packages/sklearn/linear_model/_logistic.py:1216: UserWarning: 'n_jobs' > 1 does not have any effect when 'solver' is set to 'liblinear'. Got 'n_jobs' = 5.\n",
      "  warnings.warn(\n"
     ]
    },
    {
     "name": "stdout",
     "output_type": "stream",
     "text": [
      "[CV] END class_weight={0: 1.5, 1: 3}, max_iter=2000, solver=liblinear, tol=1e-05; total time=   6.8s\n"
     ]
    },
    {
     "name": "stderr",
     "output_type": "stream",
     "text": [
      "/Library/Frameworks/Python.framework/Versions/3.12/lib/python3.12/site-packages/sklearn/svm/_base.py:1237: ConvergenceWarning: Liblinear failed to converge, increase the number of iterations.\n",
      "  warnings.warn(\n",
      "/Library/Frameworks/Python.framework/Versions/3.12/lib/python3.12/site-packages/sklearn/linear_model/_logistic.py:1216: UserWarning: 'n_jobs' > 1 does not have any effect when 'solver' is set to 'liblinear'. Got 'n_jobs' = 5.\n",
      "  warnings.warn(\n"
     ]
    },
    {
     "name": "stdout",
     "output_type": "stream",
     "text": [
      "[CV] END class_weight={0: 1.5, 1: 3}, max_iter=2000, solver=liblinear, tol=1e-05; total time=   7.5s\n",
      "[CV] END class_weight={0: 1.5, 1: 3}, max_iter=2000, solver=liblinear, tol=1e-05; total time=  11.7s\n"
     ]
    },
    {
     "name": "stderr",
     "output_type": "stream",
     "text": [
      "/Library/Frameworks/Python.framework/Versions/3.12/lib/python3.12/site-packages/sklearn/linear_model/_logistic.py:1216: UserWarning: 'n_jobs' > 1 does not have any effect when 'solver' is set to 'liblinear'. Got 'n_jobs' = 5.\n",
      "  warnings.warn(\n"
     ]
    },
    {
     "name": "stdout",
     "output_type": "stream",
     "text": [
      "[CV] END class_weight={0: 1.5, 1: 3}, max_iter=2000, solver=liblinear, tol=1e-05; total time=  10.4s\n"
     ]
    },
    {
     "name": "stderr",
     "output_type": "stream",
     "text": [
      "/Library/Frameworks/Python.framework/Versions/3.12/lib/python3.12/site-packages/sklearn/linear_model/_logistic.py:1216: UserWarning: 'n_jobs' > 1 does not have any effect when 'solver' is set to 'liblinear'. Got 'n_jobs' = 5.\n",
      "  warnings.warn(\n",
      "/Library/Frameworks/Python.framework/Versions/3.12/lib/python3.12/site-packages/sklearn/svm/_base.py:1237: ConvergenceWarning: Liblinear failed to converge, increase the number of iterations.\n",
      "  warnings.warn(\n"
     ]
    },
    {
     "name": "stdout",
     "output_type": "stream",
     "text": [
      "[CV] END class_weight={0: 1.5, 1: 3}, max_iter=2000, solver=liblinear, tol=1e-05; total time=   5.5s\n",
      "[CV] END class_weight={0: 1.5, 1: 3}, max_iter=6000, solver=lbfgs, tol=0.001; total time=  11.1s\n",
      "[CV] END class_weight={0: 1.5, 1: 3}, max_iter=6000, solver=lbfgs, tol=0.001; total time=  11.0s\n",
      "[CV] END class_weight={0: 1.5, 1: 3}, max_iter=6000, solver=lbfgs, tol=0.001; total time=   8.5s\n",
      "[CV] END class_weight={0: 1.5, 1: 3}, max_iter=6000, solver=lbfgs, tol=0.001; total time=   9.2s\n",
      "[CV] END class_weight={0: 1.5, 1: 3}, max_iter=6000, solver=lbfgs, tol=0.001; total time=  11.8s\n"
     ]
    },
    {
     "name": "stderr",
     "output_type": "stream",
     "text": [
      "/Library/Frameworks/Python.framework/Versions/3.12/lib/python3.12/site-packages/sklearn/linear_model/_logistic.py:469: ConvergenceWarning: lbfgs failed to converge (status=1):\n",
      "STOP: TOTAL NO. of ITERATIONS REACHED LIMIT.\n",
      "\n",
      "Increase the number of iterations (max_iter) or scale the data as shown in:\n",
      "    https://scikit-learn.org/stable/modules/preprocessing.html\n",
      "Please also refer to the documentation for alternative solver options:\n",
      "    https://scikit-learn.org/stable/modules/linear_model.html#logistic-regression\n",
      "  n_iter_i = _check_optimize_result(\n"
     ]
    },
    {
     "name": "stdout",
     "output_type": "stream",
     "text": [
      "[CV] END class_weight={0: 1.5, 1: 3}, max_iter=6000, solver=lbfgs, tol=0.0001; total time=  14.0s\n"
     ]
    },
    {
     "name": "stderr",
     "output_type": "stream",
     "text": [
      "/Library/Frameworks/Python.framework/Versions/3.12/lib/python3.12/site-packages/sklearn/linear_model/_logistic.py:469: ConvergenceWarning: lbfgs failed to converge (status=1):\n",
      "STOP: TOTAL NO. of ITERATIONS REACHED LIMIT.\n",
      "\n",
      "Increase the number of iterations (max_iter) or scale the data as shown in:\n",
      "    https://scikit-learn.org/stable/modules/preprocessing.html\n",
      "Please also refer to the documentation for alternative solver options:\n",
      "    https://scikit-learn.org/stable/modules/linear_model.html#logistic-regression\n",
      "  n_iter_i = _check_optimize_result(\n"
     ]
    },
    {
     "name": "stdout",
     "output_type": "stream",
     "text": [
      "[CV] END class_weight={0: 1.5, 1: 3}, max_iter=6000, solver=lbfgs, tol=0.0001; total time=  13.9s\n"
     ]
    },
    {
     "name": "stderr",
     "output_type": "stream",
     "text": [
      "/Library/Frameworks/Python.framework/Versions/3.12/lib/python3.12/site-packages/sklearn/linear_model/_logistic.py:469: ConvergenceWarning: lbfgs failed to converge (status=1):\n",
      "STOP: TOTAL NO. of ITERATIONS REACHED LIMIT.\n",
      "\n",
      "Increase the number of iterations (max_iter) or scale the data as shown in:\n",
      "    https://scikit-learn.org/stable/modules/preprocessing.html\n",
      "Please also refer to the documentation for alternative solver options:\n",
      "    https://scikit-learn.org/stable/modules/linear_model.html#logistic-regression\n",
      "  n_iter_i = _check_optimize_result(\n"
     ]
    },
    {
     "name": "stdout",
     "output_type": "stream",
     "text": [
      "[CV] END class_weight={0: 1.5, 1: 3}, max_iter=6000, solver=lbfgs, tol=0.0001; total time=  13.9s\n"
     ]
    },
    {
     "name": "stderr",
     "output_type": "stream",
     "text": [
      "/Library/Frameworks/Python.framework/Versions/3.12/lib/python3.12/site-packages/sklearn/linear_model/_logistic.py:469: ConvergenceWarning: lbfgs failed to converge (status=1):\n",
      "STOP: TOTAL NO. of ITERATIONS REACHED LIMIT.\n",
      "\n",
      "Increase the number of iterations (max_iter) or scale the data as shown in:\n",
      "    https://scikit-learn.org/stable/modules/preprocessing.html\n",
      "Please also refer to the documentation for alternative solver options:\n",
      "    https://scikit-learn.org/stable/modules/linear_model.html#logistic-regression\n",
      "  n_iter_i = _check_optimize_result(\n"
     ]
    },
    {
     "name": "stdout",
     "output_type": "stream",
     "text": [
      "[CV] END class_weight={0: 1.5, 1: 3}, max_iter=6000, solver=lbfgs, tol=0.0001; total time=  13.9s\n"
     ]
    },
    {
     "name": "stderr",
     "output_type": "stream",
     "text": [
      "/Library/Frameworks/Python.framework/Versions/3.12/lib/python3.12/site-packages/sklearn/linear_model/_logistic.py:469: ConvergenceWarning: lbfgs failed to converge (status=1):\n",
      "STOP: TOTAL NO. of ITERATIONS REACHED LIMIT.\n",
      "\n",
      "Increase the number of iterations (max_iter) or scale the data as shown in:\n",
      "    https://scikit-learn.org/stable/modules/preprocessing.html\n",
      "Please also refer to the documentation for alternative solver options:\n",
      "    https://scikit-learn.org/stable/modules/linear_model.html#logistic-regression\n",
      "  n_iter_i = _check_optimize_result(\n"
     ]
    },
    {
     "name": "stdout",
     "output_type": "stream",
     "text": [
      "[CV] END class_weight={0: 1.5, 1: 3}, max_iter=6000, solver=lbfgs, tol=0.0001; total time=  13.9s\n"
     ]
    },
    {
     "name": "stderr",
     "output_type": "stream",
     "text": [
      "/Library/Frameworks/Python.framework/Versions/3.12/lib/python3.12/site-packages/sklearn/linear_model/_logistic.py:469: ConvergenceWarning: lbfgs failed to converge (status=1):\n",
      "STOP: TOTAL NO. of ITERATIONS REACHED LIMIT.\n",
      "\n",
      "Increase the number of iterations (max_iter) or scale the data as shown in:\n",
      "    https://scikit-learn.org/stable/modules/preprocessing.html\n",
      "Please also refer to the documentation for alternative solver options:\n",
      "    https://scikit-learn.org/stable/modules/linear_model.html#logistic-regression\n",
      "  n_iter_i = _check_optimize_result(\n"
     ]
    },
    {
     "name": "stdout",
     "output_type": "stream",
     "text": [
      "[CV] END class_weight={0: 1.5, 1: 3}, max_iter=6000, solver=lbfgs, tol=1e-05; total time=  14.0s\n"
     ]
    },
    {
     "name": "stderr",
     "output_type": "stream",
     "text": [
      "/Library/Frameworks/Python.framework/Versions/3.12/lib/python3.12/site-packages/sklearn/linear_model/_logistic.py:469: ConvergenceWarning: lbfgs failed to converge (status=1):\n",
      "STOP: TOTAL NO. of ITERATIONS REACHED LIMIT.\n",
      "\n",
      "Increase the number of iterations (max_iter) or scale the data as shown in:\n",
      "    https://scikit-learn.org/stable/modules/preprocessing.html\n",
      "Please also refer to the documentation for alternative solver options:\n",
      "    https://scikit-learn.org/stable/modules/linear_model.html#logistic-regression\n",
      "  n_iter_i = _check_optimize_result(\n"
     ]
    },
    {
     "name": "stdout",
     "output_type": "stream",
     "text": [
      "[CV] END class_weight={0: 1.5, 1: 3}, max_iter=6000, solver=lbfgs, tol=1e-05; total time=  13.9s\n"
     ]
    },
    {
     "name": "stderr",
     "output_type": "stream",
     "text": [
      "/Library/Frameworks/Python.framework/Versions/3.12/lib/python3.12/site-packages/sklearn/linear_model/_logistic.py:469: ConvergenceWarning: lbfgs failed to converge (status=1):\n",
      "STOP: TOTAL NO. of ITERATIONS REACHED LIMIT.\n",
      "\n",
      "Increase the number of iterations (max_iter) or scale the data as shown in:\n",
      "    https://scikit-learn.org/stable/modules/preprocessing.html\n",
      "Please also refer to the documentation for alternative solver options:\n",
      "    https://scikit-learn.org/stable/modules/linear_model.html#logistic-regression\n",
      "  n_iter_i = _check_optimize_result(\n"
     ]
    },
    {
     "name": "stdout",
     "output_type": "stream",
     "text": [
      "[CV] END class_weight={0: 1.5, 1: 3}, max_iter=6000, solver=lbfgs, tol=1e-05; total time=  13.9s\n"
     ]
    },
    {
     "name": "stderr",
     "output_type": "stream",
     "text": [
      "/Library/Frameworks/Python.framework/Versions/3.12/lib/python3.12/site-packages/sklearn/linear_model/_logistic.py:469: ConvergenceWarning: lbfgs failed to converge (status=1):\n",
      "STOP: TOTAL NO. of ITERATIONS REACHED LIMIT.\n",
      "\n",
      "Increase the number of iterations (max_iter) or scale the data as shown in:\n",
      "    https://scikit-learn.org/stable/modules/preprocessing.html\n",
      "Please also refer to the documentation for alternative solver options:\n",
      "    https://scikit-learn.org/stable/modules/linear_model.html#logistic-regression\n",
      "  n_iter_i = _check_optimize_result(\n"
     ]
    },
    {
     "name": "stdout",
     "output_type": "stream",
     "text": [
      "[CV] END class_weight={0: 1.5, 1: 3}, max_iter=6000, solver=lbfgs, tol=1e-05; total time=  13.9s\n"
     ]
    },
    {
     "name": "stderr",
     "output_type": "stream",
     "text": [
      "/Library/Frameworks/Python.framework/Versions/3.12/lib/python3.12/site-packages/sklearn/linear_model/_logistic.py:469: ConvergenceWarning: lbfgs failed to converge (status=1):\n",
      "STOP: TOTAL NO. of ITERATIONS REACHED LIMIT.\n",
      "\n",
      "Increase the number of iterations (max_iter) or scale the data as shown in:\n",
      "    https://scikit-learn.org/stable/modules/preprocessing.html\n",
      "Please also refer to the documentation for alternative solver options:\n",
      "    https://scikit-learn.org/stable/modules/linear_model.html#logistic-regression\n",
      "  n_iter_i = _check_optimize_result(\n"
     ]
    },
    {
     "name": "stdout",
     "output_type": "stream",
     "text": [
      "[CV] END class_weight={0: 1.5, 1: 3}, max_iter=6000, solver=lbfgs, tol=1e-05; total time=  13.9s\n"
     ]
    },
    {
     "name": "stderr",
     "output_type": "stream",
     "text": [
      "/Library/Frameworks/Python.framework/Versions/3.12/lib/python3.12/site-packages/sklearn/linear_model/_logistic.py:1216: UserWarning: 'n_jobs' > 1 does not have any effect when 'solver' is set to 'liblinear'. Got 'n_jobs' = 5.\n",
      "  warnings.warn(\n"
     ]
    },
    {
     "name": "stdout",
     "output_type": "stream",
     "text": [
      "[CV] END class_weight={0: 1.5, 1: 3}, max_iter=6000, solver=liblinear, tol=0.001; total time=   6.7s\n"
     ]
    },
    {
     "name": "stderr",
     "output_type": "stream",
     "text": [
      "/Library/Frameworks/Python.framework/Versions/3.12/lib/python3.12/site-packages/sklearn/linear_model/_logistic.py:1216: UserWarning: 'n_jobs' > 1 does not have any effect when 'solver' is set to 'liblinear'. Got 'n_jobs' = 5.\n",
      "  warnings.warn(\n"
     ]
    },
    {
     "name": "stdout",
     "output_type": "stream",
     "text": [
      "[CV] END class_weight={0: 1.5, 1: 3}, max_iter=6000, solver=liblinear, tol=0.001; total time=   7.7s\n"
     ]
    },
    {
     "name": "stderr",
     "output_type": "stream",
     "text": [
      "/Library/Frameworks/Python.framework/Versions/3.12/lib/python3.12/site-packages/sklearn/linear_model/_logistic.py:1216: UserWarning: 'n_jobs' > 1 does not have any effect when 'solver' is set to 'liblinear'. Got 'n_jobs' = 5.\n",
      "  warnings.warn(\n"
     ]
    },
    {
     "name": "stdout",
     "output_type": "stream",
     "text": [
      "[CV] END class_weight={0: 1.5, 1: 3}, max_iter=6000, solver=liblinear, tol=0.001; total time=   4.9s\n"
     ]
    },
    {
     "name": "stderr",
     "output_type": "stream",
     "text": [
      "/Library/Frameworks/Python.framework/Versions/3.12/lib/python3.12/site-packages/sklearn/linear_model/_logistic.py:1216: UserWarning: 'n_jobs' > 1 does not have any effect when 'solver' is set to 'liblinear'. Got 'n_jobs' = 5.\n",
      "  warnings.warn(\n"
     ]
    },
    {
     "name": "stdout",
     "output_type": "stream",
     "text": [
      "[CV] END class_weight={0: 1.5, 1: 3}, max_iter=6000, solver=liblinear, tol=0.001; total time=   7.3s\n"
     ]
    },
    {
     "name": "stderr",
     "output_type": "stream",
     "text": [
      "/Library/Frameworks/Python.framework/Versions/3.12/lib/python3.12/site-packages/sklearn/linear_model/_logistic.py:1216: UserWarning: 'n_jobs' > 1 does not have any effect when 'solver' is set to 'liblinear'. Got 'n_jobs' = 5.\n",
      "  warnings.warn(\n"
     ]
    },
    {
     "name": "stdout",
     "output_type": "stream",
     "text": [
      "[CV] END class_weight={0: 1.5, 1: 3}, max_iter=6000, solver=liblinear, tol=0.001; total time=   7.7s\n"
     ]
    },
    {
     "name": "stderr",
     "output_type": "stream",
     "text": [
      "/Library/Frameworks/Python.framework/Versions/3.12/lib/python3.12/site-packages/sklearn/linear_model/_logistic.py:1216: UserWarning: 'n_jobs' > 1 does not have any effect when 'solver' is set to 'liblinear'. Got 'n_jobs' = 5.\n",
      "  warnings.warn(\n"
     ]
    },
    {
     "name": "stdout",
     "output_type": "stream",
     "text": [
      "[CV] END class_weight={0: 1.5, 1: 3}, max_iter=6000, solver=liblinear, tol=0.0001; total time=  14.2s\n"
     ]
    },
    {
     "name": "stderr",
     "output_type": "stream",
     "text": [
      "/Library/Frameworks/Python.framework/Versions/3.12/lib/python3.12/site-packages/sklearn/linear_model/_logistic.py:1216: UserWarning: 'n_jobs' > 1 does not have any effect when 'solver' is set to 'liblinear'. Got 'n_jobs' = 5.\n",
      "  warnings.warn(\n"
     ]
    },
    {
     "name": "stdout",
     "output_type": "stream",
     "text": [
      "[CV] END class_weight={0: 1.5, 1: 3}, max_iter=6000, solver=liblinear, tol=0.0001; total time=  12.5s\n"
     ]
    },
    {
     "name": "stderr",
     "output_type": "stream",
     "text": [
      "/Library/Frameworks/Python.framework/Versions/3.12/lib/python3.12/site-packages/sklearn/linear_model/_logistic.py:1216: UserWarning: 'n_jobs' > 1 does not have any effect when 'solver' is set to 'liblinear'. Got 'n_jobs' = 5.\n",
      "  warnings.warn(\n"
     ]
    },
    {
     "name": "stdout",
     "output_type": "stream",
     "text": [
      "[CV] END class_weight={0: 1.5, 1: 3}, max_iter=6000, solver=liblinear, tol=0.0001; total time=   8.4s\n"
     ]
    },
    {
     "name": "stderr",
     "output_type": "stream",
     "text": [
      "/Library/Frameworks/Python.framework/Versions/3.12/lib/python3.12/site-packages/sklearn/linear_model/_logistic.py:1216: UserWarning: 'n_jobs' > 1 does not have any effect when 'solver' is set to 'liblinear'. Got 'n_jobs' = 5.\n",
      "  warnings.warn(\n"
     ]
    },
    {
     "name": "stdout",
     "output_type": "stream",
     "text": [
      "[CV] END class_weight={0: 1.5, 1: 3}, max_iter=6000, solver=liblinear, tol=0.0001; total time=   9.9s\n"
     ]
    },
    {
     "name": "stderr",
     "output_type": "stream",
     "text": [
      "/Library/Frameworks/Python.framework/Versions/3.12/lib/python3.12/site-packages/sklearn/linear_model/_logistic.py:1216: UserWarning: 'n_jobs' > 1 does not have any effect when 'solver' is set to 'liblinear'. Got 'n_jobs' = 5.\n",
      "  warnings.warn(\n"
     ]
    },
    {
     "name": "stdout",
     "output_type": "stream",
     "text": [
      "[CV] END class_weight={0: 1.5, 1: 3}, max_iter=6000, solver=liblinear, tol=0.0001; total time=  14.8s\n"
     ]
    },
    {
     "name": "stderr",
     "output_type": "stream",
     "text": [
      "/Library/Frameworks/Python.framework/Versions/3.12/lib/python3.12/site-packages/sklearn/linear_model/_logistic.py:1216: UserWarning: 'n_jobs' > 1 does not have any effect when 'solver' is set to 'liblinear'. Got 'n_jobs' = 5.\n",
      "  warnings.warn(\n"
     ]
    },
    {
     "name": "stdout",
     "output_type": "stream",
     "text": [
      "[CV] END class_weight={0: 1.5, 1: 3}, max_iter=6000, solver=liblinear, tol=1e-05; total time=  15.9s\n"
     ]
    },
    {
     "name": "stderr",
     "output_type": "stream",
     "text": [
      "/Library/Frameworks/Python.framework/Versions/3.12/lib/python3.12/site-packages/sklearn/linear_model/_logistic.py:1216: UserWarning: 'n_jobs' > 1 does not have any effect when 'solver' is set to 'liblinear'. Got 'n_jobs' = 5.\n",
      "  warnings.warn(\n"
     ]
    },
    {
     "name": "stdout",
     "output_type": "stream",
     "text": [
      "[CV] END class_weight={0: 1.5, 1: 3}, max_iter=6000, solver=liblinear, tol=1e-05; total time=  13.5s\n"
     ]
    },
    {
     "name": "stderr",
     "output_type": "stream",
     "text": [
      "/Library/Frameworks/Python.framework/Versions/3.12/lib/python3.12/site-packages/sklearn/linear_model/_logistic.py:1216: UserWarning: 'n_jobs' > 1 does not have any effect when 'solver' is set to 'liblinear'. Got 'n_jobs' = 5.\n",
      "  warnings.warn(\n"
     ]
    },
    {
     "name": "stdout",
     "output_type": "stream",
     "text": [
      "[CV] END class_weight={0: 1.5, 1: 3}, max_iter=6000, solver=liblinear, tol=1e-05; total time=  11.7s\n"
     ]
    },
    {
     "name": "stderr",
     "output_type": "stream",
     "text": [
      "/Library/Frameworks/Python.framework/Versions/3.12/lib/python3.12/site-packages/sklearn/linear_model/_logistic.py:1216: UserWarning: 'n_jobs' > 1 does not have any effect when 'solver' is set to 'liblinear'. Got 'n_jobs' = 5.\n",
      "  warnings.warn(\n"
     ]
    },
    {
     "name": "stdout",
     "output_type": "stream",
     "text": [
      "[CV] END class_weight={0: 1.5, 1: 3}, max_iter=6000, solver=liblinear, tol=1e-05; total time=  10.4s\n"
     ]
    },
    {
     "name": "stderr",
     "output_type": "stream",
     "text": [
      "/Library/Frameworks/Python.framework/Versions/3.12/lib/python3.12/site-packages/sklearn/linear_model/_logistic.py:1216: UserWarning: 'n_jobs' > 1 does not have any effect when 'solver' is set to 'liblinear'. Got 'n_jobs' = 5.\n",
      "  warnings.warn(\n"
     ]
    },
    {
     "name": "stdout",
     "output_type": "stream",
     "text": [
      "[CV] END class_weight={0: 1.5, 1: 3}, max_iter=6000, solver=liblinear, tol=1e-05; total time=  17.3s\n",
      "[CV] END class_weight={0: 1.5, 1: 3}, max_iter=10000, solver=lbfgs, tol=0.001; total time=  11.1s\n",
      "[CV] END class_weight={0: 1.5, 1: 3}, max_iter=10000, solver=lbfgs, tol=0.001; total time=  11.1s\n",
      "[CV] END class_weight={0: 1.5, 1: 3}, max_iter=10000, solver=lbfgs, tol=0.001; total time=   8.5s\n",
      "[CV] END class_weight={0: 1.5, 1: 3}, max_iter=10000, solver=lbfgs, tol=0.001; total time=   9.2s\n",
      "[CV] END class_weight={0: 1.5, 1: 3}, max_iter=10000, solver=lbfgs, tol=0.001; total time=  11.8s\n",
      "[CV] END class_weight={0: 1.5, 1: 3}, max_iter=10000, solver=lbfgs, tol=0.0001; total time=  18.4s\n",
      "[CV] END class_weight={0: 1.5, 1: 3}, max_iter=10000, solver=lbfgs, tol=0.0001; total time=  22.1s\n",
      "[CV] END class_weight={0: 1.5, 1: 3}, max_iter=10000, solver=lbfgs, tol=0.0001; total time=  20.7s\n",
      "[CV] END class_weight={0: 1.5, 1: 3}, max_iter=10000, solver=lbfgs, tol=0.0001; total time=  20.2s\n",
      "[CV] END class_weight={0: 1.5, 1: 3}, max_iter=10000, solver=lbfgs, tol=0.0001; total time=  21.1s\n"
     ]
    },
    {
     "name": "stderr",
     "output_type": "stream",
     "text": [
      "/Library/Frameworks/Python.framework/Versions/3.12/lib/python3.12/site-packages/sklearn/linear_model/_logistic.py:469: ConvergenceWarning: lbfgs failed to converge (status=1):\n",
      "STOP: TOTAL NO. of ITERATIONS REACHED LIMIT.\n",
      "\n",
      "Increase the number of iterations (max_iter) or scale the data as shown in:\n",
      "    https://scikit-learn.org/stable/modules/preprocessing.html\n",
      "Please also refer to the documentation for alternative solver options:\n",
      "    https://scikit-learn.org/stable/modules/linear_model.html#logistic-regression\n",
      "  n_iter_i = _check_optimize_result(\n"
     ]
    },
    {
     "name": "stdout",
     "output_type": "stream",
     "text": [
      "[CV] END class_weight={0: 1.5, 1: 3}, max_iter=10000, solver=lbfgs, tol=1e-05; total time=  22.4s\n"
     ]
    },
    {
     "name": "stderr",
     "output_type": "stream",
     "text": [
      "/Library/Frameworks/Python.framework/Versions/3.12/lib/python3.12/site-packages/sklearn/linear_model/_logistic.py:469: ConvergenceWarning: lbfgs failed to converge (status=1):\n",
      "STOP: TOTAL NO. of ITERATIONS REACHED LIMIT.\n",
      "\n",
      "Increase the number of iterations (max_iter) or scale the data as shown in:\n",
      "    https://scikit-learn.org/stable/modules/preprocessing.html\n",
      "Please also refer to the documentation for alternative solver options:\n",
      "    https://scikit-learn.org/stable/modules/linear_model.html#logistic-regression\n",
      "  n_iter_i = _check_optimize_result(\n"
     ]
    },
    {
     "name": "stdout",
     "output_type": "stream",
     "text": [
      "[CV] END class_weight={0: 1.5, 1: 3}, max_iter=10000, solver=lbfgs, tol=1e-05; total time=  22.3s\n"
     ]
    },
    {
     "name": "stderr",
     "output_type": "stream",
     "text": [
      "/Library/Frameworks/Python.framework/Versions/3.12/lib/python3.12/site-packages/sklearn/linear_model/_logistic.py:469: ConvergenceWarning: lbfgs failed to converge (status=1):\n",
      "STOP: TOTAL NO. of ITERATIONS REACHED LIMIT.\n",
      "\n",
      "Increase the number of iterations (max_iter) or scale the data as shown in:\n",
      "    https://scikit-learn.org/stable/modules/preprocessing.html\n",
      "Please also refer to the documentation for alternative solver options:\n",
      "    https://scikit-learn.org/stable/modules/linear_model.html#logistic-regression\n",
      "  n_iter_i = _check_optimize_result(\n"
     ]
    },
    {
     "name": "stdout",
     "output_type": "stream",
     "text": [
      "[CV] END class_weight={0: 1.5, 1: 3}, max_iter=10000, solver=lbfgs, tol=1e-05; total time=  22.4s\n"
     ]
    },
    {
     "name": "stderr",
     "output_type": "stream",
     "text": [
      "/Library/Frameworks/Python.framework/Versions/3.12/lib/python3.12/site-packages/sklearn/linear_model/_logistic.py:469: ConvergenceWarning: lbfgs failed to converge (status=1):\n",
      "STOP: TOTAL NO. of ITERATIONS REACHED LIMIT.\n",
      "\n",
      "Increase the number of iterations (max_iter) or scale the data as shown in:\n",
      "    https://scikit-learn.org/stable/modules/preprocessing.html\n",
      "Please also refer to the documentation for alternative solver options:\n",
      "    https://scikit-learn.org/stable/modules/linear_model.html#logistic-regression\n",
      "  n_iter_i = _check_optimize_result(\n"
     ]
    },
    {
     "name": "stdout",
     "output_type": "stream",
     "text": [
      "[CV] END class_weight={0: 1.5, 1: 3}, max_iter=10000, solver=lbfgs, tol=1e-05; total time=  22.3s\n"
     ]
    },
    {
     "name": "stderr",
     "output_type": "stream",
     "text": [
      "/Library/Frameworks/Python.framework/Versions/3.12/lib/python3.12/site-packages/sklearn/linear_model/_logistic.py:469: ConvergenceWarning: lbfgs failed to converge (status=1):\n",
      "STOP: TOTAL NO. of ITERATIONS REACHED LIMIT.\n",
      "\n",
      "Increase the number of iterations (max_iter) or scale the data as shown in:\n",
      "    https://scikit-learn.org/stable/modules/preprocessing.html\n",
      "Please also refer to the documentation for alternative solver options:\n",
      "    https://scikit-learn.org/stable/modules/linear_model.html#logistic-regression\n",
      "  n_iter_i = _check_optimize_result(\n"
     ]
    },
    {
     "name": "stdout",
     "output_type": "stream",
     "text": [
      "[CV] END class_weight={0: 1.5, 1: 3}, max_iter=10000, solver=lbfgs, tol=1e-05; total time=  22.4s\n"
     ]
    },
    {
     "name": "stderr",
     "output_type": "stream",
     "text": [
      "/Library/Frameworks/Python.framework/Versions/3.12/lib/python3.12/site-packages/sklearn/linear_model/_logistic.py:1216: UserWarning: 'n_jobs' > 1 does not have any effect when 'solver' is set to 'liblinear'. Got 'n_jobs' = 5.\n",
      "  warnings.warn(\n"
     ]
    },
    {
     "name": "stdout",
     "output_type": "stream",
     "text": [
      "[CV] END class_weight={0: 1.5, 1: 3}, max_iter=10000, solver=liblinear, tol=0.001; total time=   6.7s\n"
     ]
    },
    {
     "name": "stderr",
     "output_type": "stream",
     "text": [
      "/Library/Frameworks/Python.framework/Versions/3.12/lib/python3.12/site-packages/sklearn/linear_model/_logistic.py:1216: UserWarning: 'n_jobs' > 1 does not have any effect when 'solver' is set to 'liblinear'. Got 'n_jobs' = 5.\n",
      "  warnings.warn(\n"
     ]
    },
    {
     "name": "stdout",
     "output_type": "stream",
     "text": [
      "[CV] END class_weight={0: 1.5, 1: 3}, max_iter=10000, solver=liblinear, tol=0.001; total time=   7.7s\n"
     ]
    },
    {
     "name": "stderr",
     "output_type": "stream",
     "text": [
      "/Library/Frameworks/Python.framework/Versions/3.12/lib/python3.12/site-packages/sklearn/linear_model/_logistic.py:1216: UserWarning: 'n_jobs' > 1 does not have any effect when 'solver' is set to 'liblinear'. Got 'n_jobs' = 5.\n",
      "  warnings.warn(\n"
     ]
    },
    {
     "name": "stdout",
     "output_type": "stream",
     "text": [
      "[CV] END class_weight={0: 1.5, 1: 3}, max_iter=10000, solver=liblinear, tol=0.001; total time=   4.9s\n"
     ]
    },
    {
     "name": "stderr",
     "output_type": "stream",
     "text": [
      "/Library/Frameworks/Python.framework/Versions/3.12/lib/python3.12/site-packages/sklearn/linear_model/_logistic.py:1216: UserWarning: 'n_jobs' > 1 does not have any effect when 'solver' is set to 'liblinear'. Got 'n_jobs' = 5.\n",
      "  warnings.warn(\n"
     ]
    },
    {
     "name": "stdout",
     "output_type": "stream",
     "text": [
      "[CV] END class_weight={0: 1.5, 1: 3}, max_iter=10000, solver=liblinear, tol=0.001; total time=   7.3s\n"
     ]
    },
    {
     "name": "stderr",
     "output_type": "stream",
     "text": [
      "/Library/Frameworks/Python.framework/Versions/3.12/lib/python3.12/site-packages/sklearn/linear_model/_logistic.py:1216: UserWarning: 'n_jobs' > 1 does not have any effect when 'solver' is set to 'liblinear'. Got 'n_jobs' = 5.\n",
      "  warnings.warn(\n"
     ]
    },
    {
     "name": "stdout",
     "output_type": "stream",
     "text": [
      "[CV] END class_weight={0: 1.5, 1: 3}, max_iter=10000, solver=liblinear, tol=0.001; total time=   7.7s\n"
     ]
    },
    {
     "name": "stderr",
     "output_type": "stream",
     "text": [
      "/Library/Frameworks/Python.framework/Versions/3.12/lib/python3.12/site-packages/sklearn/linear_model/_logistic.py:1216: UserWarning: 'n_jobs' > 1 does not have any effect when 'solver' is set to 'liblinear'. Got 'n_jobs' = 5.\n",
      "  warnings.warn(\n"
     ]
    },
    {
     "name": "stdout",
     "output_type": "stream",
     "text": [
      "[CV] END class_weight={0: 1.5, 1: 3}, max_iter=10000, solver=liblinear, tol=0.0001; total time=  14.3s\n"
     ]
    },
    {
     "name": "stderr",
     "output_type": "stream",
     "text": [
      "/Library/Frameworks/Python.framework/Versions/3.12/lib/python3.12/site-packages/sklearn/linear_model/_logistic.py:1216: UserWarning: 'n_jobs' > 1 does not have any effect when 'solver' is set to 'liblinear'. Got 'n_jobs' = 5.\n",
      "  warnings.warn(\n"
     ]
    },
    {
     "name": "stdout",
     "output_type": "stream",
     "text": [
      "[CV] END class_weight={0: 1.5, 1: 3}, max_iter=10000, solver=liblinear, tol=0.0001; total time=  12.6s\n"
     ]
    },
    {
     "name": "stderr",
     "output_type": "stream",
     "text": [
      "/Library/Frameworks/Python.framework/Versions/3.12/lib/python3.12/site-packages/sklearn/linear_model/_logistic.py:1216: UserWarning: 'n_jobs' > 1 does not have any effect when 'solver' is set to 'liblinear'. Got 'n_jobs' = 5.\n",
      "  warnings.warn(\n"
     ]
    },
    {
     "name": "stdout",
     "output_type": "stream",
     "text": [
      "[CV] END class_weight={0: 1.5, 1: 3}, max_iter=10000, solver=liblinear, tol=0.0001; total time=   8.5s\n"
     ]
    },
    {
     "name": "stderr",
     "output_type": "stream",
     "text": [
      "/Library/Frameworks/Python.framework/Versions/3.12/lib/python3.12/site-packages/sklearn/linear_model/_logistic.py:1216: UserWarning: 'n_jobs' > 1 does not have any effect when 'solver' is set to 'liblinear'. Got 'n_jobs' = 5.\n",
      "  warnings.warn(\n"
     ]
    },
    {
     "name": "stdout",
     "output_type": "stream",
     "text": [
      "[CV] END class_weight={0: 1.5, 1: 3}, max_iter=10000, solver=liblinear, tol=0.0001; total time=   9.9s\n"
     ]
    },
    {
     "name": "stderr",
     "output_type": "stream",
     "text": [
      "/Library/Frameworks/Python.framework/Versions/3.12/lib/python3.12/site-packages/sklearn/linear_model/_logistic.py:1216: UserWarning: 'n_jobs' > 1 does not have any effect when 'solver' is set to 'liblinear'. Got 'n_jobs' = 5.\n",
      "  warnings.warn(\n"
     ]
    },
    {
     "name": "stdout",
     "output_type": "stream",
     "text": [
      "[CV] END class_weight={0: 1.5, 1: 3}, max_iter=10000, solver=liblinear, tol=0.0001; total time=  14.8s\n"
     ]
    },
    {
     "name": "stderr",
     "output_type": "stream",
     "text": [
      "/Library/Frameworks/Python.framework/Versions/3.12/lib/python3.12/site-packages/sklearn/linear_model/_logistic.py:1216: UserWarning: 'n_jobs' > 1 does not have any effect when 'solver' is set to 'liblinear'. Got 'n_jobs' = 5.\n",
      "  warnings.warn(\n"
     ]
    },
    {
     "name": "stdout",
     "output_type": "stream",
     "text": [
      "[CV] END class_weight={0: 1.5, 1: 3}, max_iter=10000, solver=liblinear, tol=1e-05; total time=  15.9s\n"
     ]
    },
    {
     "name": "stderr",
     "output_type": "stream",
     "text": [
      "/Library/Frameworks/Python.framework/Versions/3.12/lib/python3.12/site-packages/sklearn/linear_model/_logistic.py:1216: UserWarning: 'n_jobs' > 1 does not have any effect when 'solver' is set to 'liblinear'. Got 'n_jobs' = 5.\n",
      "  warnings.warn(\n"
     ]
    },
    {
     "name": "stdout",
     "output_type": "stream",
     "text": [
      "[CV] END class_weight={0: 1.5, 1: 3}, max_iter=10000, solver=liblinear, tol=1e-05; total time=  13.5s\n"
     ]
    },
    {
     "name": "stderr",
     "output_type": "stream",
     "text": [
      "/Library/Frameworks/Python.framework/Versions/3.12/lib/python3.12/site-packages/sklearn/linear_model/_logistic.py:1216: UserWarning: 'n_jobs' > 1 does not have any effect when 'solver' is set to 'liblinear'. Got 'n_jobs' = 5.\n",
      "  warnings.warn(\n"
     ]
    },
    {
     "name": "stdout",
     "output_type": "stream",
     "text": [
      "[CV] END class_weight={0: 1.5, 1: 3}, max_iter=10000, solver=liblinear, tol=1e-05; total time=  11.7s\n"
     ]
    },
    {
     "name": "stderr",
     "output_type": "stream",
     "text": [
      "/Library/Frameworks/Python.framework/Versions/3.12/lib/python3.12/site-packages/sklearn/linear_model/_logistic.py:1216: UserWarning: 'n_jobs' > 1 does not have any effect when 'solver' is set to 'liblinear'. Got 'n_jobs' = 5.\n",
      "  warnings.warn(\n"
     ]
    },
    {
     "name": "stdout",
     "output_type": "stream",
     "text": [
      "[CV] END class_weight={0: 1.5, 1: 3}, max_iter=10000, solver=liblinear, tol=1e-05; total time=  10.4s\n"
     ]
    },
    {
     "name": "stderr",
     "output_type": "stream",
     "text": [
      "/Library/Frameworks/Python.framework/Versions/3.12/lib/python3.12/site-packages/sklearn/linear_model/_logistic.py:1216: UserWarning: 'n_jobs' > 1 does not have any effect when 'solver' is set to 'liblinear'. Got 'n_jobs' = 5.\n",
      "  warnings.warn(\n"
     ]
    },
    {
     "name": "stdout",
     "output_type": "stream",
     "text": [
      "[CV] END class_weight={0: 1.5, 1: 3}, max_iter=10000, solver=liblinear, tol=1e-05; total time=  17.3s\n"
     ]
    },
    {
     "data": {
      "text/html": [
       "<style>#sk-container-id-7 {\n",
       "  /* Definition of color scheme common for light and dark mode */\n",
       "  --sklearn-color-text: black;\n",
       "  --sklearn-color-line: gray;\n",
       "  /* Definition of color scheme for unfitted estimators */\n",
       "  --sklearn-color-unfitted-level-0: #fff5e6;\n",
       "  --sklearn-color-unfitted-level-1: #f6e4d2;\n",
       "  --sklearn-color-unfitted-level-2: #ffe0b3;\n",
       "  --sklearn-color-unfitted-level-3: chocolate;\n",
       "  /* Definition of color scheme for fitted estimators */\n",
       "  --sklearn-color-fitted-level-0: #f0f8ff;\n",
       "  --sklearn-color-fitted-level-1: #d4ebff;\n",
       "  --sklearn-color-fitted-level-2: #b3dbfd;\n",
       "  --sklearn-color-fitted-level-3: cornflowerblue;\n",
       "\n",
       "  /* Specific color for light theme */\n",
       "  --sklearn-color-text-on-default-background: var(--sg-text-color, var(--theme-code-foreground, var(--jp-content-font-color1, black)));\n",
       "  --sklearn-color-background: var(--sg-background-color, var(--theme-background, var(--jp-layout-color0, white)));\n",
       "  --sklearn-color-border-box: var(--sg-text-color, var(--theme-code-foreground, var(--jp-content-font-color1, black)));\n",
       "  --sklearn-color-icon: #696969;\n",
       "\n",
       "  @media (prefers-color-scheme: dark) {\n",
       "    /* Redefinition of color scheme for dark theme */\n",
       "    --sklearn-color-text-on-default-background: var(--sg-text-color, var(--theme-code-foreground, var(--jp-content-font-color1, white)));\n",
       "    --sklearn-color-background: var(--sg-background-color, var(--theme-background, var(--jp-layout-color0, #111)));\n",
       "    --sklearn-color-border-box: var(--sg-text-color, var(--theme-code-foreground, var(--jp-content-font-color1, white)));\n",
       "    --sklearn-color-icon: #878787;\n",
       "  }\n",
       "}\n",
       "\n",
       "#sk-container-id-7 {\n",
       "  color: var(--sklearn-color-text);\n",
       "}\n",
       "\n",
       "#sk-container-id-7 pre {\n",
       "  padding: 0;\n",
       "}\n",
       "\n",
       "#sk-container-id-7 input.sk-hidden--visually {\n",
       "  border: 0;\n",
       "  clip: rect(1px 1px 1px 1px);\n",
       "  clip: rect(1px, 1px, 1px, 1px);\n",
       "  height: 1px;\n",
       "  margin: -1px;\n",
       "  overflow: hidden;\n",
       "  padding: 0;\n",
       "  position: absolute;\n",
       "  width: 1px;\n",
       "}\n",
       "\n",
       "#sk-container-id-7 div.sk-dashed-wrapped {\n",
       "  border: 1px dashed var(--sklearn-color-line);\n",
       "  margin: 0 0.4em 0.5em 0.4em;\n",
       "  box-sizing: border-box;\n",
       "  padding-bottom: 0.4em;\n",
       "  background-color: var(--sklearn-color-background);\n",
       "}\n",
       "\n",
       "#sk-container-id-7 div.sk-container {\n",
       "  /* jupyter's `normalize.less` sets `[hidden] { display: none; }`\n",
       "     but bootstrap.min.css set `[hidden] { display: none !important; }`\n",
       "     so we also need the `!important` here to be able to override the\n",
       "     default hidden behavior on the sphinx rendered scikit-learn.org.\n",
       "     See: https://github.com/scikit-learn/scikit-learn/issues/21755 */\n",
       "  display: inline-block !important;\n",
       "  position: relative;\n",
       "}\n",
       "\n",
       "#sk-container-id-7 div.sk-text-repr-fallback {\n",
       "  display: none;\n",
       "}\n",
       "\n",
       "div.sk-parallel-item,\n",
       "div.sk-serial,\n",
       "div.sk-item {\n",
       "  /* draw centered vertical line to link estimators */\n",
       "  background-image: linear-gradient(var(--sklearn-color-text-on-default-background), var(--sklearn-color-text-on-default-background));\n",
       "  background-size: 2px 100%;\n",
       "  background-repeat: no-repeat;\n",
       "  background-position: center center;\n",
       "}\n",
       "\n",
       "/* Parallel-specific style estimator block */\n",
       "\n",
       "#sk-container-id-7 div.sk-parallel-item::after {\n",
       "  content: \"\";\n",
       "  width: 100%;\n",
       "  border-bottom: 2px solid var(--sklearn-color-text-on-default-background);\n",
       "  flex-grow: 1;\n",
       "}\n",
       "\n",
       "#sk-container-id-7 div.sk-parallel {\n",
       "  display: flex;\n",
       "  align-items: stretch;\n",
       "  justify-content: center;\n",
       "  background-color: var(--sklearn-color-background);\n",
       "  position: relative;\n",
       "}\n",
       "\n",
       "#sk-container-id-7 div.sk-parallel-item {\n",
       "  display: flex;\n",
       "  flex-direction: column;\n",
       "}\n",
       "\n",
       "#sk-container-id-7 div.sk-parallel-item:first-child::after {\n",
       "  align-self: flex-end;\n",
       "  width: 50%;\n",
       "}\n",
       "\n",
       "#sk-container-id-7 div.sk-parallel-item:last-child::after {\n",
       "  align-self: flex-start;\n",
       "  width: 50%;\n",
       "}\n",
       "\n",
       "#sk-container-id-7 div.sk-parallel-item:only-child::after {\n",
       "  width: 0;\n",
       "}\n",
       "\n",
       "/* Serial-specific style estimator block */\n",
       "\n",
       "#sk-container-id-7 div.sk-serial {\n",
       "  display: flex;\n",
       "  flex-direction: column;\n",
       "  align-items: center;\n",
       "  background-color: var(--sklearn-color-background);\n",
       "  padding-right: 1em;\n",
       "  padding-left: 1em;\n",
       "}\n",
       "\n",
       "\n",
       "/* Toggleable style: style used for estimator/Pipeline/ColumnTransformer box that is\n",
       "clickable and can be expanded/collapsed.\n",
       "- Pipeline and ColumnTransformer use this feature and define the default style\n",
       "- Estimators will overwrite some part of the style using the `sk-estimator` class\n",
       "*/\n",
       "\n",
       "/* Pipeline and ColumnTransformer style (default) */\n",
       "\n",
       "#sk-container-id-7 div.sk-toggleable {\n",
       "  /* Default theme specific background. It is overwritten whether we have a\n",
       "  specific estimator or a Pipeline/ColumnTransformer */\n",
       "  background-color: var(--sklearn-color-background);\n",
       "}\n",
       "\n",
       "/* Toggleable label */\n",
       "#sk-container-id-7 label.sk-toggleable__label {\n",
       "  cursor: pointer;\n",
       "  display: block;\n",
       "  width: 100%;\n",
       "  margin-bottom: 0;\n",
       "  padding: 0.5em;\n",
       "  box-sizing: border-box;\n",
       "  text-align: center;\n",
       "}\n",
       "\n",
       "#sk-container-id-7 label.sk-toggleable__label-arrow:before {\n",
       "  /* Arrow on the left of the label */\n",
       "  content: \"▸\";\n",
       "  float: left;\n",
       "  margin-right: 0.25em;\n",
       "  color: var(--sklearn-color-icon);\n",
       "}\n",
       "\n",
       "#sk-container-id-7 label.sk-toggleable__label-arrow:hover:before {\n",
       "  color: var(--sklearn-color-text);\n",
       "}\n",
       "\n",
       "/* Toggleable content - dropdown */\n",
       "\n",
       "#sk-container-id-7 div.sk-toggleable__content {\n",
       "  max-height: 0;\n",
       "  max-width: 0;\n",
       "  overflow: hidden;\n",
       "  text-align: left;\n",
       "  /* unfitted */\n",
       "  background-color: var(--sklearn-color-unfitted-level-0);\n",
       "}\n",
       "\n",
       "#sk-container-id-7 div.sk-toggleable__content.fitted {\n",
       "  /* fitted */\n",
       "  background-color: var(--sklearn-color-fitted-level-0);\n",
       "}\n",
       "\n",
       "#sk-container-id-7 div.sk-toggleable__content pre {\n",
       "  margin: 0.2em;\n",
       "  border-radius: 0.25em;\n",
       "  color: var(--sklearn-color-text);\n",
       "  /* unfitted */\n",
       "  background-color: var(--sklearn-color-unfitted-level-0);\n",
       "}\n",
       "\n",
       "#sk-container-id-7 div.sk-toggleable__content.fitted pre {\n",
       "  /* unfitted */\n",
       "  background-color: var(--sklearn-color-fitted-level-0);\n",
       "}\n",
       "\n",
       "#sk-container-id-7 input.sk-toggleable__control:checked~div.sk-toggleable__content {\n",
       "  /* Expand drop-down */\n",
       "  max-height: 200px;\n",
       "  max-width: 100%;\n",
       "  overflow: auto;\n",
       "}\n",
       "\n",
       "#sk-container-id-7 input.sk-toggleable__control:checked~label.sk-toggleable__label-arrow:before {\n",
       "  content: \"▾\";\n",
       "}\n",
       "\n",
       "/* Pipeline/ColumnTransformer-specific style */\n",
       "\n",
       "#sk-container-id-7 div.sk-label input.sk-toggleable__control:checked~label.sk-toggleable__label {\n",
       "  color: var(--sklearn-color-text);\n",
       "  background-color: var(--sklearn-color-unfitted-level-2);\n",
       "}\n",
       "\n",
       "#sk-container-id-7 div.sk-label.fitted input.sk-toggleable__control:checked~label.sk-toggleable__label {\n",
       "  background-color: var(--sklearn-color-fitted-level-2);\n",
       "}\n",
       "\n",
       "/* Estimator-specific style */\n",
       "\n",
       "/* Colorize estimator box */\n",
       "#sk-container-id-7 div.sk-estimator input.sk-toggleable__control:checked~label.sk-toggleable__label {\n",
       "  /* unfitted */\n",
       "  background-color: var(--sklearn-color-unfitted-level-2);\n",
       "}\n",
       "\n",
       "#sk-container-id-7 div.sk-estimator.fitted input.sk-toggleable__control:checked~label.sk-toggleable__label {\n",
       "  /* fitted */\n",
       "  background-color: var(--sklearn-color-fitted-level-2);\n",
       "}\n",
       "\n",
       "#sk-container-id-7 div.sk-label label.sk-toggleable__label,\n",
       "#sk-container-id-7 div.sk-label label {\n",
       "  /* The background is the default theme color */\n",
       "  color: var(--sklearn-color-text-on-default-background);\n",
       "}\n",
       "\n",
       "/* On hover, darken the color of the background */\n",
       "#sk-container-id-7 div.sk-label:hover label.sk-toggleable__label {\n",
       "  color: var(--sklearn-color-text);\n",
       "  background-color: var(--sklearn-color-unfitted-level-2);\n",
       "}\n",
       "\n",
       "/* Label box, darken color on hover, fitted */\n",
       "#sk-container-id-7 div.sk-label.fitted:hover label.sk-toggleable__label.fitted {\n",
       "  color: var(--sklearn-color-text);\n",
       "  background-color: var(--sklearn-color-fitted-level-2);\n",
       "}\n",
       "\n",
       "/* Estimator label */\n",
       "\n",
       "#sk-container-id-7 div.sk-label label {\n",
       "  font-family: monospace;\n",
       "  font-weight: bold;\n",
       "  display: inline-block;\n",
       "  line-height: 1.2em;\n",
       "}\n",
       "\n",
       "#sk-container-id-7 div.sk-label-container {\n",
       "  text-align: center;\n",
       "}\n",
       "\n",
       "/* Estimator-specific */\n",
       "#sk-container-id-7 div.sk-estimator {\n",
       "  font-family: monospace;\n",
       "  border: 1px dotted var(--sklearn-color-border-box);\n",
       "  border-radius: 0.25em;\n",
       "  box-sizing: border-box;\n",
       "  margin-bottom: 0.5em;\n",
       "  /* unfitted */\n",
       "  background-color: var(--sklearn-color-unfitted-level-0);\n",
       "}\n",
       "\n",
       "#sk-container-id-7 div.sk-estimator.fitted {\n",
       "  /* fitted */\n",
       "  background-color: var(--sklearn-color-fitted-level-0);\n",
       "}\n",
       "\n",
       "/* on hover */\n",
       "#sk-container-id-7 div.sk-estimator:hover {\n",
       "  /* unfitted */\n",
       "  background-color: var(--sklearn-color-unfitted-level-2);\n",
       "}\n",
       "\n",
       "#sk-container-id-7 div.sk-estimator.fitted:hover {\n",
       "  /* fitted */\n",
       "  background-color: var(--sklearn-color-fitted-level-2);\n",
       "}\n",
       "\n",
       "/* Specification for estimator info (e.g. \"i\" and \"?\") */\n",
       "\n",
       "/* Common style for \"i\" and \"?\" */\n",
       "\n",
       ".sk-estimator-doc-link,\n",
       "a:link.sk-estimator-doc-link,\n",
       "a:visited.sk-estimator-doc-link {\n",
       "  float: right;\n",
       "  font-size: smaller;\n",
       "  line-height: 1em;\n",
       "  font-family: monospace;\n",
       "  background-color: var(--sklearn-color-background);\n",
       "  border-radius: 1em;\n",
       "  height: 1em;\n",
       "  width: 1em;\n",
       "  text-decoration: none !important;\n",
       "  margin-left: 1ex;\n",
       "  /* unfitted */\n",
       "  border: var(--sklearn-color-unfitted-level-1) 1pt solid;\n",
       "  color: var(--sklearn-color-unfitted-level-1);\n",
       "}\n",
       "\n",
       ".sk-estimator-doc-link.fitted,\n",
       "a:link.sk-estimator-doc-link.fitted,\n",
       "a:visited.sk-estimator-doc-link.fitted {\n",
       "  /* fitted */\n",
       "  border: var(--sklearn-color-fitted-level-1) 1pt solid;\n",
       "  color: var(--sklearn-color-fitted-level-1);\n",
       "}\n",
       "\n",
       "/* On hover */\n",
       "div.sk-estimator:hover .sk-estimator-doc-link:hover,\n",
       ".sk-estimator-doc-link:hover,\n",
       "div.sk-label-container:hover .sk-estimator-doc-link:hover,\n",
       ".sk-estimator-doc-link:hover {\n",
       "  /* unfitted */\n",
       "  background-color: var(--sklearn-color-unfitted-level-3);\n",
       "  color: var(--sklearn-color-background);\n",
       "  text-decoration: none;\n",
       "}\n",
       "\n",
       "div.sk-estimator.fitted:hover .sk-estimator-doc-link.fitted:hover,\n",
       ".sk-estimator-doc-link.fitted:hover,\n",
       "div.sk-label-container:hover .sk-estimator-doc-link.fitted:hover,\n",
       ".sk-estimator-doc-link.fitted:hover {\n",
       "  /* fitted */\n",
       "  background-color: var(--sklearn-color-fitted-level-3);\n",
       "  color: var(--sklearn-color-background);\n",
       "  text-decoration: none;\n",
       "}\n",
       "\n",
       "/* Span, style for the box shown on hovering the info icon */\n",
       ".sk-estimator-doc-link span {\n",
       "  display: none;\n",
       "  z-index: 9999;\n",
       "  position: relative;\n",
       "  font-weight: normal;\n",
       "  right: .2ex;\n",
       "  padding: .5ex;\n",
       "  margin: .5ex;\n",
       "  width: min-content;\n",
       "  min-width: 20ex;\n",
       "  max-width: 50ex;\n",
       "  color: var(--sklearn-color-text);\n",
       "  box-shadow: 2pt 2pt 4pt #999;\n",
       "  /* unfitted */\n",
       "  background: var(--sklearn-color-unfitted-level-0);\n",
       "  border: .5pt solid var(--sklearn-color-unfitted-level-3);\n",
       "}\n",
       "\n",
       ".sk-estimator-doc-link.fitted span {\n",
       "  /* fitted */\n",
       "  background: var(--sklearn-color-fitted-level-0);\n",
       "  border: var(--sklearn-color-fitted-level-3);\n",
       "}\n",
       "\n",
       ".sk-estimator-doc-link:hover span {\n",
       "  display: block;\n",
       "}\n",
       "\n",
       "/* \"?\"-specific style due to the `<a>` HTML tag */\n",
       "\n",
       "#sk-container-id-7 a.estimator_doc_link {\n",
       "  float: right;\n",
       "  font-size: 1rem;\n",
       "  line-height: 1em;\n",
       "  font-family: monospace;\n",
       "  background-color: var(--sklearn-color-background);\n",
       "  border-radius: 1rem;\n",
       "  height: 1rem;\n",
       "  width: 1rem;\n",
       "  text-decoration: none;\n",
       "  /* unfitted */\n",
       "  color: var(--sklearn-color-unfitted-level-1);\n",
       "  border: var(--sklearn-color-unfitted-level-1) 1pt solid;\n",
       "}\n",
       "\n",
       "#sk-container-id-7 a.estimator_doc_link.fitted {\n",
       "  /* fitted */\n",
       "  border: var(--sklearn-color-fitted-level-1) 1pt solid;\n",
       "  color: var(--sklearn-color-fitted-level-1);\n",
       "}\n",
       "\n",
       "/* On hover */\n",
       "#sk-container-id-7 a.estimator_doc_link:hover {\n",
       "  /* unfitted */\n",
       "  background-color: var(--sklearn-color-unfitted-level-3);\n",
       "  color: var(--sklearn-color-background);\n",
       "  text-decoration: none;\n",
       "}\n",
       "\n",
       "#sk-container-id-7 a.estimator_doc_link.fitted:hover {\n",
       "  /* fitted */\n",
       "  background-color: var(--sklearn-color-fitted-level-3);\n",
       "}\n",
       "</style><div id=\"sk-container-id-7\" class=\"sk-top-container\"><div class=\"sk-text-repr-fallback\"><pre>GridSearchCV(cv=KFold(n_splits=5, random_state=None, shuffle=False),\n",
       "             estimator=LogisticRegression(n_jobs=5),\n",
       "             param_grid={&#x27;class_weight&#x27;: [None, {0: 1, 1: 2}, {0: 1, 1: 3},\n",
       "                                          {0: 1.5, 1: 2.5}, {0: 1.5, 1: 3}],\n",
       "                         &#x27;max_iter&#x27;: [2000, 6000, 10000],\n",
       "                         &#x27;solver&#x27;: [&#x27;lbfgs&#x27;, &#x27;liblinear&#x27;],\n",
       "                         &#x27;tol&#x27;: [0.001, 0.0001, 1e-05]},\n",
       "             verbose=2)</pre><b>In a Jupyter environment, please rerun this cell to show the HTML representation or trust the notebook. <br />On GitHub, the HTML representation is unable to render, please try loading this page with nbviewer.org.</b></div><div class=\"sk-container\" hidden><div class=\"sk-item sk-dashed-wrapped\"><div class=\"sk-label-container\"><div class=\"sk-label fitted sk-toggleable\"><input class=\"sk-toggleable__control sk-hidden--visually\" id=\"sk-estimator-id-13\" type=\"checkbox\" ><label for=\"sk-estimator-id-13\" class=\"sk-toggleable__label fitted sk-toggleable__label-arrow fitted\">&nbsp;&nbsp;GridSearchCV<a class=\"sk-estimator-doc-link fitted\" rel=\"noreferrer\" target=\"_blank\" href=\"https://scikit-learn.org/1.4/modules/generated/sklearn.model_selection.GridSearchCV.html\">?<span>Documentation for GridSearchCV</span></a><span class=\"sk-estimator-doc-link fitted\">i<span>Fitted</span></span></label><div class=\"sk-toggleable__content fitted\"><pre>GridSearchCV(cv=KFold(n_splits=5, random_state=None, shuffle=False),\n",
       "             estimator=LogisticRegression(n_jobs=5),\n",
       "             param_grid={&#x27;class_weight&#x27;: [None, {0: 1, 1: 2}, {0: 1, 1: 3},\n",
       "                                          {0: 1.5, 1: 2.5}, {0: 1.5, 1: 3}],\n",
       "                         &#x27;max_iter&#x27;: [2000, 6000, 10000],\n",
       "                         &#x27;solver&#x27;: [&#x27;lbfgs&#x27;, &#x27;liblinear&#x27;],\n",
       "                         &#x27;tol&#x27;: [0.001, 0.0001, 1e-05]},\n",
       "             verbose=2)</pre></div> </div></div><div class=\"sk-parallel\"><div class=\"sk-parallel-item\"><div class=\"sk-item\"><div class=\"sk-label-container\"><div class=\"sk-label fitted sk-toggleable\"><input class=\"sk-toggleable__control sk-hidden--visually\" id=\"sk-estimator-id-14\" type=\"checkbox\" ><label for=\"sk-estimator-id-14\" class=\"sk-toggleable__label fitted sk-toggleable__label-arrow fitted\">estimator: LogisticRegression</label><div class=\"sk-toggleable__content fitted\"><pre>LogisticRegression(n_jobs=5)</pre></div> </div></div><div class=\"sk-serial\"><div class=\"sk-item\"><div class=\"sk-estimator fitted sk-toggleable\"><input class=\"sk-toggleable__control sk-hidden--visually\" id=\"sk-estimator-id-15\" type=\"checkbox\" ><label for=\"sk-estimator-id-15\" class=\"sk-toggleable__label fitted sk-toggleable__label-arrow fitted\">&nbsp;LogisticRegression<a class=\"sk-estimator-doc-link fitted\" rel=\"noreferrer\" target=\"_blank\" href=\"https://scikit-learn.org/1.4/modules/generated/sklearn.linear_model.LogisticRegression.html\">?<span>Documentation for LogisticRegression</span></a></label><div class=\"sk-toggleable__content fitted\"><pre>LogisticRegression(n_jobs=5)</pre></div> </div></div></div></div></div></div></div></div></div>"
      ],
      "text/plain": [
       "GridSearchCV(cv=KFold(n_splits=5, random_state=None, shuffle=False),\n",
       "             estimator=LogisticRegression(n_jobs=5),\n",
       "             param_grid={'class_weight': [None, {0: 1, 1: 2}, {0: 1, 1: 3},\n",
       "                                          {0: 1.5, 1: 2.5}, {0: 1.5, 1: 3}],\n",
       "                         'max_iter': [2000, 6000, 10000],\n",
       "                         'solver': ['lbfgs', 'liblinear'],\n",
       "                         'tol': [0.001, 0.0001, 1e-05]},\n",
       "             verbose=2)"
      ]
     },
     "execution_count": 47,
     "metadata": {},
     "output_type": "execute_result"
    }
   ],
   "source": [
    "grid_search.fit(X_train, y_train)"
   ]
  },
  {
   "cell_type": "code",
   "execution_count": 48,
   "id": "38549194",
   "metadata": {},
   "outputs": [
    {
     "name": "stdout",
     "output_type": "stream",
     "text": [
      "{'class_weight': None, 'max_iter': 10000, 'solver': 'lbfgs', 'tol': 1e-05}\n"
     ]
    }
   ],
   "source": [
    "best_params = grid_search.best_params_\n",
    "print(best_params)"
   ]
  },
  {
   "cell_type": "code",
   "execution_count": 49,
   "id": "9407b765",
   "metadata": {},
   "outputs": [],
   "source": [
    "LR_best = LogisticRegression(**best_params)"
   ]
  },
  {
   "cell_type": "code",
   "execution_count": 50,
   "id": "9586efbd",
   "metadata": {},
   "outputs": [
    {
     "name": "stderr",
     "output_type": "stream",
     "text": [
      "/Library/Frameworks/Python.framework/Versions/3.12/lib/python3.12/site-packages/sklearn/linear_model/_logistic.py:469: ConvergenceWarning: lbfgs failed to converge (status=1):\n",
      "STOP: TOTAL NO. of ITERATIONS REACHED LIMIT.\n",
      "\n",
      "Increase the number of iterations (max_iter) or scale the data as shown in:\n",
      "    https://scikit-learn.org/stable/modules/preprocessing.html\n",
      "Please also refer to the documentation for alternative solver options:\n",
      "    https://scikit-learn.org/stable/modules/linear_model.html#logistic-regression\n",
      "  n_iter_i = _check_optimize_result(\n"
     ]
    },
    {
     "data": {
      "text/html": [
       "<style>#sk-container-id-8 {\n",
       "  /* Definition of color scheme common for light and dark mode */\n",
       "  --sklearn-color-text: black;\n",
       "  --sklearn-color-line: gray;\n",
       "  /* Definition of color scheme for unfitted estimators */\n",
       "  --sklearn-color-unfitted-level-0: #fff5e6;\n",
       "  --sklearn-color-unfitted-level-1: #f6e4d2;\n",
       "  --sklearn-color-unfitted-level-2: #ffe0b3;\n",
       "  --sklearn-color-unfitted-level-3: chocolate;\n",
       "  /* Definition of color scheme for fitted estimators */\n",
       "  --sklearn-color-fitted-level-0: #f0f8ff;\n",
       "  --sklearn-color-fitted-level-1: #d4ebff;\n",
       "  --sklearn-color-fitted-level-2: #b3dbfd;\n",
       "  --sklearn-color-fitted-level-3: cornflowerblue;\n",
       "\n",
       "  /* Specific color for light theme */\n",
       "  --sklearn-color-text-on-default-background: var(--sg-text-color, var(--theme-code-foreground, var(--jp-content-font-color1, black)));\n",
       "  --sklearn-color-background: var(--sg-background-color, var(--theme-background, var(--jp-layout-color0, white)));\n",
       "  --sklearn-color-border-box: var(--sg-text-color, var(--theme-code-foreground, var(--jp-content-font-color1, black)));\n",
       "  --sklearn-color-icon: #696969;\n",
       "\n",
       "  @media (prefers-color-scheme: dark) {\n",
       "    /* Redefinition of color scheme for dark theme */\n",
       "    --sklearn-color-text-on-default-background: var(--sg-text-color, var(--theme-code-foreground, var(--jp-content-font-color1, white)));\n",
       "    --sklearn-color-background: var(--sg-background-color, var(--theme-background, var(--jp-layout-color0, #111)));\n",
       "    --sklearn-color-border-box: var(--sg-text-color, var(--theme-code-foreground, var(--jp-content-font-color1, white)));\n",
       "    --sklearn-color-icon: #878787;\n",
       "  }\n",
       "}\n",
       "\n",
       "#sk-container-id-8 {\n",
       "  color: var(--sklearn-color-text);\n",
       "}\n",
       "\n",
       "#sk-container-id-8 pre {\n",
       "  padding: 0;\n",
       "}\n",
       "\n",
       "#sk-container-id-8 input.sk-hidden--visually {\n",
       "  border: 0;\n",
       "  clip: rect(1px 1px 1px 1px);\n",
       "  clip: rect(1px, 1px, 1px, 1px);\n",
       "  height: 1px;\n",
       "  margin: -1px;\n",
       "  overflow: hidden;\n",
       "  padding: 0;\n",
       "  position: absolute;\n",
       "  width: 1px;\n",
       "}\n",
       "\n",
       "#sk-container-id-8 div.sk-dashed-wrapped {\n",
       "  border: 1px dashed var(--sklearn-color-line);\n",
       "  margin: 0 0.4em 0.5em 0.4em;\n",
       "  box-sizing: border-box;\n",
       "  padding-bottom: 0.4em;\n",
       "  background-color: var(--sklearn-color-background);\n",
       "}\n",
       "\n",
       "#sk-container-id-8 div.sk-container {\n",
       "  /* jupyter's `normalize.less` sets `[hidden] { display: none; }`\n",
       "     but bootstrap.min.css set `[hidden] { display: none !important; }`\n",
       "     so we also need the `!important` here to be able to override the\n",
       "     default hidden behavior on the sphinx rendered scikit-learn.org.\n",
       "     See: https://github.com/scikit-learn/scikit-learn/issues/21755 */\n",
       "  display: inline-block !important;\n",
       "  position: relative;\n",
       "}\n",
       "\n",
       "#sk-container-id-8 div.sk-text-repr-fallback {\n",
       "  display: none;\n",
       "}\n",
       "\n",
       "div.sk-parallel-item,\n",
       "div.sk-serial,\n",
       "div.sk-item {\n",
       "  /* draw centered vertical line to link estimators */\n",
       "  background-image: linear-gradient(var(--sklearn-color-text-on-default-background), var(--sklearn-color-text-on-default-background));\n",
       "  background-size: 2px 100%;\n",
       "  background-repeat: no-repeat;\n",
       "  background-position: center center;\n",
       "}\n",
       "\n",
       "/* Parallel-specific style estimator block */\n",
       "\n",
       "#sk-container-id-8 div.sk-parallel-item::after {\n",
       "  content: \"\";\n",
       "  width: 100%;\n",
       "  border-bottom: 2px solid var(--sklearn-color-text-on-default-background);\n",
       "  flex-grow: 1;\n",
       "}\n",
       "\n",
       "#sk-container-id-8 div.sk-parallel {\n",
       "  display: flex;\n",
       "  align-items: stretch;\n",
       "  justify-content: center;\n",
       "  background-color: var(--sklearn-color-background);\n",
       "  position: relative;\n",
       "}\n",
       "\n",
       "#sk-container-id-8 div.sk-parallel-item {\n",
       "  display: flex;\n",
       "  flex-direction: column;\n",
       "}\n",
       "\n",
       "#sk-container-id-8 div.sk-parallel-item:first-child::after {\n",
       "  align-self: flex-end;\n",
       "  width: 50%;\n",
       "}\n",
       "\n",
       "#sk-container-id-8 div.sk-parallel-item:last-child::after {\n",
       "  align-self: flex-start;\n",
       "  width: 50%;\n",
       "}\n",
       "\n",
       "#sk-container-id-8 div.sk-parallel-item:only-child::after {\n",
       "  width: 0;\n",
       "}\n",
       "\n",
       "/* Serial-specific style estimator block */\n",
       "\n",
       "#sk-container-id-8 div.sk-serial {\n",
       "  display: flex;\n",
       "  flex-direction: column;\n",
       "  align-items: center;\n",
       "  background-color: var(--sklearn-color-background);\n",
       "  padding-right: 1em;\n",
       "  padding-left: 1em;\n",
       "}\n",
       "\n",
       "\n",
       "/* Toggleable style: style used for estimator/Pipeline/ColumnTransformer box that is\n",
       "clickable and can be expanded/collapsed.\n",
       "- Pipeline and ColumnTransformer use this feature and define the default style\n",
       "- Estimators will overwrite some part of the style using the `sk-estimator` class\n",
       "*/\n",
       "\n",
       "/* Pipeline and ColumnTransformer style (default) */\n",
       "\n",
       "#sk-container-id-8 div.sk-toggleable {\n",
       "  /* Default theme specific background. It is overwritten whether we have a\n",
       "  specific estimator or a Pipeline/ColumnTransformer */\n",
       "  background-color: var(--sklearn-color-background);\n",
       "}\n",
       "\n",
       "/* Toggleable label */\n",
       "#sk-container-id-8 label.sk-toggleable__label {\n",
       "  cursor: pointer;\n",
       "  display: block;\n",
       "  width: 100%;\n",
       "  margin-bottom: 0;\n",
       "  padding: 0.5em;\n",
       "  box-sizing: border-box;\n",
       "  text-align: center;\n",
       "}\n",
       "\n",
       "#sk-container-id-8 label.sk-toggleable__label-arrow:before {\n",
       "  /* Arrow on the left of the label */\n",
       "  content: \"▸\";\n",
       "  float: left;\n",
       "  margin-right: 0.25em;\n",
       "  color: var(--sklearn-color-icon);\n",
       "}\n",
       "\n",
       "#sk-container-id-8 label.sk-toggleable__label-arrow:hover:before {\n",
       "  color: var(--sklearn-color-text);\n",
       "}\n",
       "\n",
       "/* Toggleable content - dropdown */\n",
       "\n",
       "#sk-container-id-8 div.sk-toggleable__content {\n",
       "  max-height: 0;\n",
       "  max-width: 0;\n",
       "  overflow: hidden;\n",
       "  text-align: left;\n",
       "  /* unfitted */\n",
       "  background-color: var(--sklearn-color-unfitted-level-0);\n",
       "}\n",
       "\n",
       "#sk-container-id-8 div.sk-toggleable__content.fitted {\n",
       "  /* fitted */\n",
       "  background-color: var(--sklearn-color-fitted-level-0);\n",
       "}\n",
       "\n",
       "#sk-container-id-8 div.sk-toggleable__content pre {\n",
       "  margin: 0.2em;\n",
       "  border-radius: 0.25em;\n",
       "  color: var(--sklearn-color-text);\n",
       "  /* unfitted */\n",
       "  background-color: var(--sklearn-color-unfitted-level-0);\n",
       "}\n",
       "\n",
       "#sk-container-id-8 div.sk-toggleable__content.fitted pre {\n",
       "  /* unfitted */\n",
       "  background-color: var(--sklearn-color-fitted-level-0);\n",
       "}\n",
       "\n",
       "#sk-container-id-8 input.sk-toggleable__control:checked~div.sk-toggleable__content {\n",
       "  /* Expand drop-down */\n",
       "  max-height: 200px;\n",
       "  max-width: 100%;\n",
       "  overflow: auto;\n",
       "}\n",
       "\n",
       "#sk-container-id-8 input.sk-toggleable__control:checked~label.sk-toggleable__label-arrow:before {\n",
       "  content: \"▾\";\n",
       "}\n",
       "\n",
       "/* Pipeline/ColumnTransformer-specific style */\n",
       "\n",
       "#sk-container-id-8 div.sk-label input.sk-toggleable__control:checked~label.sk-toggleable__label {\n",
       "  color: var(--sklearn-color-text);\n",
       "  background-color: var(--sklearn-color-unfitted-level-2);\n",
       "}\n",
       "\n",
       "#sk-container-id-8 div.sk-label.fitted input.sk-toggleable__control:checked~label.sk-toggleable__label {\n",
       "  background-color: var(--sklearn-color-fitted-level-2);\n",
       "}\n",
       "\n",
       "/* Estimator-specific style */\n",
       "\n",
       "/* Colorize estimator box */\n",
       "#sk-container-id-8 div.sk-estimator input.sk-toggleable__control:checked~label.sk-toggleable__label {\n",
       "  /* unfitted */\n",
       "  background-color: var(--sklearn-color-unfitted-level-2);\n",
       "}\n",
       "\n",
       "#sk-container-id-8 div.sk-estimator.fitted input.sk-toggleable__control:checked~label.sk-toggleable__label {\n",
       "  /* fitted */\n",
       "  background-color: var(--sklearn-color-fitted-level-2);\n",
       "}\n",
       "\n",
       "#sk-container-id-8 div.sk-label label.sk-toggleable__label,\n",
       "#sk-container-id-8 div.sk-label label {\n",
       "  /* The background is the default theme color */\n",
       "  color: var(--sklearn-color-text-on-default-background);\n",
       "}\n",
       "\n",
       "/* On hover, darken the color of the background */\n",
       "#sk-container-id-8 div.sk-label:hover label.sk-toggleable__label {\n",
       "  color: var(--sklearn-color-text);\n",
       "  background-color: var(--sklearn-color-unfitted-level-2);\n",
       "}\n",
       "\n",
       "/* Label box, darken color on hover, fitted */\n",
       "#sk-container-id-8 div.sk-label.fitted:hover label.sk-toggleable__label.fitted {\n",
       "  color: var(--sklearn-color-text);\n",
       "  background-color: var(--sklearn-color-fitted-level-2);\n",
       "}\n",
       "\n",
       "/* Estimator label */\n",
       "\n",
       "#sk-container-id-8 div.sk-label label {\n",
       "  font-family: monospace;\n",
       "  font-weight: bold;\n",
       "  display: inline-block;\n",
       "  line-height: 1.2em;\n",
       "}\n",
       "\n",
       "#sk-container-id-8 div.sk-label-container {\n",
       "  text-align: center;\n",
       "}\n",
       "\n",
       "/* Estimator-specific */\n",
       "#sk-container-id-8 div.sk-estimator {\n",
       "  font-family: monospace;\n",
       "  border: 1px dotted var(--sklearn-color-border-box);\n",
       "  border-radius: 0.25em;\n",
       "  box-sizing: border-box;\n",
       "  margin-bottom: 0.5em;\n",
       "  /* unfitted */\n",
       "  background-color: var(--sklearn-color-unfitted-level-0);\n",
       "}\n",
       "\n",
       "#sk-container-id-8 div.sk-estimator.fitted {\n",
       "  /* fitted */\n",
       "  background-color: var(--sklearn-color-fitted-level-0);\n",
       "}\n",
       "\n",
       "/* on hover */\n",
       "#sk-container-id-8 div.sk-estimator:hover {\n",
       "  /* unfitted */\n",
       "  background-color: var(--sklearn-color-unfitted-level-2);\n",
       "}\n",
       "\n",
       "#sk-container-id-8 div.sk-estimator.fitted:hover {\n",
       "  /* fitted */\n",
       "  background-color: var(--sklearn-color-fitted-level-2);\n",
       "}\n",
       "\n",
       "/* Specification for estimator info (e.g. \"i\" and \"?\") */\n",
       "\n",
       "/* Common style for \"i\" and \"?\" */\n",
       "\n",
       ".sk-estimator-doc-link,\n",
       "a:link.sk-estimator-doc-link,\n",
       "a:visited.sk-estimator-doc-link {\n",
       "  float: right;\n",
       "  font-size: smaller;\n",
       "  line-height: 1em;\n",
       "  font-family: monospace;\n",
       "  background-color: var(--sklearn-color-background);\n",
       "  border-radius: 1em;\n",
       "  height: 1em;\n",
       "  width: 1em;\n",
       "  text-decoration: none !important;\n",
       "  margin-left: 1ex;\n",
       "  /* unfitted */\n",
       "  border: var(--sklearn-color-unfitted-level-1) 1pt solid;\n",
       "  color: var(--sklearn-color-unfitted-level-1);\n",
       "}\n",
       "\n",
       ".sk-estimator-doc-link.fitted,\n",
       "a:link.sk-estimator-doc-link.fitted,\n",
       "a:visited.sk-estimator-doc-link.fitted {\n",
       "  /* fitted */\n",
       "  border: var(--sklearn-color-fitted-level-1) 1pt solid;\n",
       "  color: var(--sklearn-color-fitted-level-1);\n",
       "}\n",
       "\n",
       "/* On hover */\n",
       "div.sk-estimator:hover .sk-estimator-doc-link:hover,\n",
       ".sk-estimator-doc-link:hover,\n",
       "div.sk-label-container:hover .sk-estimator-doc-link:hover,\n",
       ".sk-estimator-doc-link:hover {\n",
       "  /* unfitted */\n",
       "  background-color: var(--sklearn-color-unfitted-level-3);\n",
       "  color: var(--sklearn-color-background);\n",
       "  text-decoration: none;\n",
       "}\n",
       "\n",
       "div.sk-estimator.fitted:hover .sk-estimator-doc-link.fitted:hover,\n",
       ".sk-estimator-doc-link.fitted:hover,\n",
       "div.sk-label-container:hover .sk-estimator-doc-link.fitted:hover,\n",
       ".sk-estimator-doc-link.fitted:hover {\n",
       "  /* fitted */\n",
       "  background-color: var(--sklearn-color-fitted-level-3);\n",
       "  color: var(--sklearn-color-background);\n",
       "  text-decoration: none;\n",
       "}\n",
       "\n",
       "/* Span, style for the box shown on hovering the info icon */\n",
       ".sk-estimator-doc-link span {\n",
       "  display: none;\n",
       "  z-index: 9999;\n",
       "  position: relative;\n",
       "  font-weight: normal;\n",
       "  right: .2ex;\n",
       "  padding: .5ex;\n",
       "  margin: .5ex;\n",
       "  width: min-content;\n",
       "  min-width: 20ex;\n",
       "  max-width: 50ex;\n",
       "  color: var(--sklearn-color-text);\n",
       "  box-shadow: 2pt 2pt 4pt #999;\n",
       "  /* unfitted */\n",
       "  background: var(--sklearn-color-unfitted-level-0);\n",
       "  border: .5pt solid var(--sklearn-color-unfitted-level-3);\n",
       "}\n",
       "\n",
       ".sk-estimator-doc-link.fitted span {\n",
       "  /* fitted */\n",
       "  background: var(--sklearn-color-fitted-level-0);\n",
       "  border: var(--sklearn-color-fitted-level-3);\n",
       "}\n",
       "\n",
       ".sk-estimator-doc-link:hover span {\n",
       "  display: block;\n",
       "}\n",
       "\n",
       "/* \"?\"-specific style due to the `<a>` HTML tag */\n",
       "\n",
       "#sk-container-id-8 a.estimator_doc_link {\n",
       "  float: right;\n",
       "  font-size: 1rem;\n",
       "  line-height: 1em;\n",
       "  font-family: monospace;\n",
       "  background-color: var(--sklearn-color-background);\n",
       "  border-radius: 1rem;\n",
       "  height: 1rem;\n",
       "  width: 1rem;\n",
       "  text-decoration: none;\n",
       "  /* unfitted */\n",
       "  color: var(--sklearn-color-unfitted-level-1);\n",
       "  border: var(--sklearn-color-unfitted-level-1) 1pt solid;\n",
       "}\n",
       "\n",
       "#sk-container-id-8 a.estimator_doc_link.fitted {\n",
       "  /* fitted */\n",
       "  border: var(--sklearn-color-fitted-level-1) 1pt solid;\n",
       "  color: var(--sklearn-color-fitted-level-1);\n",
       "}\n",
       "\n",
       "/* On hover */\n",
       "#sk-container-id-8 a.estimator_doc_link:hover {\n",
       "  /* unfitted */\n",
       "  background-color: var(--sklearn-color-unfitted-level-3);\n",
       "  color: var(--sklearn-color-background);\n",
       "  text-decoration: none;\n",
       "}\n",
       "\n",
       "#sk-container-id-8 a.estimator_doc_link.fitted:hover {\n",
       "  /* fitted */\n",
       "  background-color: var(--sklearn-color-fitted-level-3);\n",
       "}\n",
       "</style><div id=\"sk-container-id-8\" class=\"sk-top-container\"><div class=\"sk-text-repr-fallback\"><pre>LogisticRegression(max_iter=10000, tol=1e-05)</pre><b>In a Jupyter environment, please rerun this cell to show the HTML representation or trust the notebook. <br />On GitHub, the HTML representation is unable to render, please try loading this page with nbviewer.org.</b></div><div class=\"sk-container\" hidden><div class=\"sk-item\"><div class=\"sk-estimator fitted sk-toggleable\"><input class=\"sk-toggleable__control sk-hidden--visually\" id=\"sk-estimator-id-16\" type=\"checkbox\" checked><label for=\"sk-estimator-id-16\" class=\"sk-toggleable__label fitted sk-toggleable__label-arrow fitted\">&nbsp;&nbsp;LogisticRegression<a class=\"sk-estimator-doc-link fitted\" rel=\"noreferrer\" target=\"_blank\" href=\"https://scikit-learn.org/1.4/modules/generated/sklearn.linear_model.LogisticRegression.html\">?<span>Documentation for LogisticRegression</span></a><span class=\"sk-estimator-doc-link fitted\">i<span>Fitted</span></span></label><div class=\"sk-toggleable__content fitted\"><pre>LogisticRegression(max_iter=10000, tol=1e-05)</pre></div> </div></div></div></div>"
      ],
      "text/plain": [
       "LogisticRegression(max_iter=10000, tol=1e-05)"
      ]
     },
     "execution_count": 50,
     "metadata": {},
     "output_type": "execute_result"
    }
   ],
   "source": [
    "LR_best.fit(X_train, y_train)"
   ]
  },
  {
   "cell_type": "code",
   "execution_count": 51,
   "id": "1803bdc9",
   "metadata": {},
   "outputs": [],
   "source": [
    "predictions = LR_best.predict(X_test)"
   ]
  },
  {
   "cell_type": "code",
   "execution_count": 52,
   "id": "fade04af",
   "metadata": {},
   "outputs": [
    {
     "name": "stdout",
     "output_type": "stream",
     "text": [
      "              precision    recall  f1-score   support\n",
      "\n",
      "           0       0.88      0.88      0.88      1704\n",
      "           1       0.88      0.87      0.88      1670\n",
      "\n",
      "    accuracy                           0.88      3374\n",
      "   macro avg       0.88      0.88      0.88      3374\n",
      "weighted avg       0.88      0.88      0.88      3374\n",
      "\n"
     ]
    }
   ],
   "source": [
    "print(classification_report(y_true=y_test, y_pred=predictions, zero_division=0))"
   ]
  },
  {
   "cell_type": "markdown",
   "id": "b6a5d4f1c2f403f8",
   "metadata": {
    "collapsed": false
   },
   "source": [
    "## SVM\n"
   ]
  },
  {
   "cell_type": "code",
   "execution_count": 53,
   "id": "e65c2014",
   "metadata": {},
   "outputs": [],
   "source": [
    "SVM = SVC()"
   ]
  },
  {
   "cell_type": "code",
   "execution_count": 54,
   "id": "14a9ebea",
   "metadata": {},
   "outputs": [],
   "source": [
    "param_grid = {\n",
    "    \"tol\": [0.001, 0.0001, 0.00001],\n",
    "    \"kernel\": [\"poly\", \"rbf\", \"sigmoid\"],\n",
    "    \"class_weight\": [\n",
    "        None,\n",
    "        {0: 1, 1: 2},\n",
    "        {0: 1, 1: 2.5},\n",
    "        {0: 1.5, 1: 2.5},\n",
    "        {0: 1, 1: 3},\n",
    "    ],\n",
    "}"
   ]
  },
  {
   "cell_type": "code",
   "execution_count": 55,
   "id": "d61c5486",
   "metadata": {},
   "outputs": [],
   "source": [
    "grid_search = GridSearchCV(estimator=SVM, param_grid=param_grid, cv=KF, verbose=2)"
   ]
  },
  {
   "cell_type": "code",
   "execution_count": 56,
   "id": "743ac9e2",
   "metadata": {},
   "outputs": [
    {
     "name": "stdout",
     "output_type": "stream",
     "text": [
      "Fitting 5 folds for each of 45 candidates, totalling 225 fits\n",
      "[CV] END ..........class_weight=None, kernel=poly, tol=0.001; total time=  28.3s\n",
      "[CV] END ..........class_weight=None, kernel=poly, tol=0.001; total time=  28.2s\n",
      "[CV] END ..........class_weight=None, kernel=poly, tol=0.001; total time=  27.8s\n",
      "[CV] END ..........class_weight=None, kernel=poly, tol=0.001; total time=  27.3s\n",
      "[CV] END ..........class_weight=None, kernel=poly, tol=0.001; total time=  27.6s\n",
      "[CV] END .........class_weight=None, kernel=poly, tol=0.0001; total time=  28.0s\n",
      "[CV] END .........class_weight=None, kernel=poly, tol=0.0001; total time=  28.1s\n",
      "[CV] END .........class_weight=None, kernel=poly, tol=0.0001; total time=  27.7s\n",
      "[CV] END .........class_weight=None, kernel=poly, tol=0.0001; total time=  27.4s\n",
      "[CV] END .........class_weight=None, kernel=poly, tol=0.0001; total time=  27.3s\n",
      "[CV] END ..........class_weight=None, kernel=poly, tol=1e-05; total time=  27.8s\n",
      "[CV] END ..........class_weight=None, kernel=poly, tol=1e-05; total time=  27.7s\n",
      "[CV] END ..........class_weight=None, kernel=poly, tol=1e-05; total time=  27.6s\n",
      "[CV] END ..........class_weight=None, kernel=poly, tol=1e-05; total time=  28.1s\n",
      "[CV] END ..........class_weight=None, kernel=poly, tol=1e-05; total time=  28.3s\n",
      "[CV] END ...........class_weight=None, kernel=rbf, tol=0.001; total time=  23.0s\n",
      "[CV] END ...........class_weight=None, kernel=rbf, tol=0.001; total time=  22.9s\n",
      "[CV] END ...........class_weight=None, kernel=rbf, tol=0.001; total time=  23.2s\n",
      "[CV] END ...........class_weight=None, kernel=rbf, tol=0.001; total time=  23.2s\n",
      "[CV] END ...........class_weight=None, kernel=rbf, tol=0.001; total time=  22.9s\n",
      "[CV] END ..........class_weight=None, kernel=rbf, tol=0.0001; total time=  23.6s\n",
      "[CV] END ..........class_weight=None, kernel=rbf, tol=0.0001; total time=  23.7s\n",
      "[CV] END ..........class_weight=None, kernel=rbf, tol=0.0001; total time=  23.6s\n",
      "[CV] END ..........class_weight=None, kernel=rbf, tol=0.0001; total time=  23.8s\n",
      "[CV] END ..........class_weight=None, kernel=rbf, tol=0.0001; total time=  23.9s\n",
      "[CV] END ...........class_weight=None, kernel=rbf, tol=1e-05; total time=  23.9s\n",
      "[CV] END ...........class_weight=None, kernel=rbf, tol=1e-05; total time=  23.9s\n",
      "[CV] END ...........class_weight=None, kernel=rbf, tol=1e-05; total time=  23.8s\n",
      "[CV] END ...........class_weight=None, kernel=rbf, tol=1e-05; total time=  24.2s\n",
      "[CV] END ...........class_weight=None, kernel=rbf, tol=1e-05; total time=  24.2s\n",
      "[CV] END .......class_weight=None, kernel=sigmoid, tol=0.001; total time=  12.1s\n",
      "[CV] END .......class_weight=None, kernel=sigmoid, tol=0.001; total time=  11.8s\n",
      "[CV] END .......class_weight=None, kernel=sigmoid, tol=0.001; total time=  23.0s\n",
      "[CV] END .......class_weight=None, kernel=sigmoid, tol=0.001; total time=  23.6s\n",
      "[CV] END .......class_weight=None, kernel=sigmoid, tol=0.001; total time=  11.8s\n",
      "[CV] END ......class_weight=None, kernel=sigmoid, tol=0.0001; total time=  11.7s\n",
      "[CV] END ......class_weight=None, kernel=sigmoid, tol=0.0001; total time=  11.6s\n",
      "[CV] END ......class_weight=None, kernel=sigmoid, tol=0.0001; total time=  23.1s\n",
      "[CV] END ......class_weight=None, kernel=sigmoid, tol=0.0001; total time=  23.8s\n",
      "[CV] END ......class_weight=None, kernel=sigmoid, tol=0.0001; total time=  11.8s\n",
      "[CV] END .......class_weight=None, kernel=sigmoid, tol=1e-05; total time=  11.7s\n",
      "[CV] END .......class_weight=None, kernel=sigmoid, tol=1e-05; total time=  11.6s\n",
      "[CV] END .......class_weight=None, kernel=sigmoid, tol=1e-05; total time=  23.6s\n",
      "[CV] END .......class_weight=None, kernel=sigmoid, tol=1e-05; total time=  23.9s\n",
      "[CV] END .......class_weight=None, kernel=sigmoid, tol=1e-05; total time=  11.9s\n",
      "[CV] END ..class_weight={0: 1, 1: 2}, kernel=poly, tol=0.001; total time=  22.5s\n",
      "[CV] END ..class_weight={0: 1, 1: 2}, kernel=poly, tol=0.001; total time=  23.6s\n",
      "[CV] END ..class_weight={0: 1, 1: 2}, kernel=poly, tol=0.001; total time=  22.4s\n",
      "[CV] END ..class_weight={0: 1, 1: 2}, kernel=poly, tol=0.001; total time=  22.0s\n",
      "[CV] END ..class_weight={0: 1, 1: 2}, kernel=poly, tol=0.001; total time=  22.0s\n",
      "[CV] END .class_weight={0: 1, 1: 2}, kernel=poly, tol=0.0001; total time=  22.3s\n",
      "[CV] END .class_weight={0: 1, 1: 2}, kernel=poly, tol=0.0001; total time=  23.6s\n",
      "[CV] END .class_weight={0: 1, 1: 2}, kernel=poly, tol=0.0001; total time=  23.5s\n",
      "[CV] END .class_weight={0: 1, 1: 2}, kernel=poly, tol=0.0001; total time=  22.1s\n",
      "[CV] END .class_weight={0: 1, 1: 2}, kernel=poly, tol=0.0001; total time=  23.5s\n",
      "[CV] END ..class_weight={0: 1, 1: 2}, kernel=poly, tol=1e-05; total time=  23.6s\n",
      "[CV] END ..class_weight={0: 1, 1: 2}, kernel=poly, tol=1e-05; total time=  23.6s\n",
      "[CV] END ..class_weight={0: 1, 1: 2}, kernel=poly, tol=1e-05; total time=  23.5s\n",
      "[CV] END ..class_weight={0: 1, 1: 2}, kernel=poly, tol=1e-05; total time=  22.6s\n",
      "[CV] END ..class_weight={0: 1, 1: 2}, kernel=poly, tol=1e-05; total time=  23.5s\n",
      "[CV] END ...class_weight={0: 1, 1: 2}, kernel=rbf, tol=0.001; total time=  22.1s\n",
      "[CV] END ...class_weight={0: 1, 1: 2}, kernel=rbf, tol=0.001; total time=  22.2s\n",
      "[CV] END ...class_weight={0: 1, 1: 2}, kernel=rbf, tol=0.001; total time=  22.0s\n",
      "[CV] END ...class_weight={0: 1, 1: 2}, kernel=rbf, tol=0.001; total time=  22.1s\n",
      "[CV] END ...class_weight={0: 1, 1: 2}, kernel=rbf, tol=0.001; total time=  22.1s\n",
      "[CV] END ..class_weight={0: 1, 1: 2}, kernel=rbf, tol=0.0001; total time=  22.2s\n",
      "[CV] END ..class_weight={0: 1, 1: 2}, kernel=rbf, tol=0.0001; total time=  22.1s\n",
      "[CV] END ..class_weight={0: 1, 1: 2}, kernel=rbf, tol=0.0001; total time=  22.1s\n",
      "[CV] END ..class_weight={0: 1, 1: 2}, kernel=rbf, tol=0.0001; total time=  22.1s\n",
      "[CV] END ..class_weight={0: 1, 1: 2}, kernel=rbf, tol=0.0001; total time=  22.1s\n",
      "[CV] END ...class_weight={0: 1, 1: 2}, kernel=rbf, tol=1e-05; total time=  22.1s\n",
      "[CV] END ...class_weight={0: 1, 1: 2}, kernel=rbf, tol=1e-05; total time=  22.2s\n",
      "[CV] END ...class_weight={0: 1, 1: 2}, kernel=rbf, tol=1e-05; total time=  21.9s\n",
      "[CV] END ...class_weight={0: 1, 1: 2}, kernel=rbf, tol=1e-05; total time=  22.1s\n",
      "[CV] END ...class_weight={0: 1, 1: 2}, kernel=rbf, tol=1e-05; total time=  22.2s\n",
      "[CV] END class_weight={0: 1, 1: 2}, kernel=sigmoid, tol=0.001; total time=  10.3s\n",
      "[CV] END class_weight={0: 1, 1: 2}, kernel=sigmoid, tol=0.001; total time=  10.1s\n",
      "[CV] END class_weight={0: 1, 1: 2}, kernel=sigmoid, tol=0.001; total time=  21.4s\n",
      "[CV] END class_weight={0: 1, 1: 2}, kernel=sigmoid, tol=0.001; total time=  21.6s\n",
      "[CV] END class_weight={0: 1, 1: 2}, kernel=sigmoid, tol=0.001; total time=  10.4s\n",
      "[CV] END class_weight={0: 1, 1: 2}, kernel=sigmoid, tol=0.0001; total time=  10.3s\n",
      "[CV] END class_weight={0: 1, 1: 2}, kernel=sigmoid, tol=0.0001; total time=  10.2s\n",
      "[CV] END class_weight={0: 1, 1: 2}, kernel=sigmoid, tol=0.0001; total time=  21.4s\n",
      "[CV] END class_weight={0: 1, 1: 2}, kernel=sigmoid, tol=0.0001; total time=  21.6s\n",
      "[CV] END class_weight={0: 1, 1: 2}, kernel=sigmoid, tol=0.0001; total time=  10.4s\n",
      "[CV] END class_weight={0: 1, 1: 2}, kernel=sigmoid, tol=1e-05; total time=  10.3s\n",
      "[CV] END class_weight={0: 1, 1: 2}, kernel=sigmoid, tol=1e-05; total time=  10.2s\n",
      "[CV] END class_weight={0: 1, 1: 2}, kernel=sigmoid, tol=1e-05; total time=  21.3s\n",
      "[CV] END class_weight={0: 1, 1: 2}, kernel=sigmoid, tol=1e-05; total time=  21.5s\n",
      "[CV] END class_weight={0: 1, 1: 2}, kernel=sigmoid, tol=1e-05; total time=  10.4s\n",
      "[CV] END class_weight={0: 1, 1: 2.5}, kernel=poly, tol=0.001; total time=  22.2s\n",
      "[CV] END class_weight={0: 1, 1: 2.5}, kernel=poly, tol=0.001; total time=  23.1s\n",
      "[CV] END class_weight={0: 1, 1: 2.5}, kernel=poly, tol=0.001; total time=  22.6s\n",
      "[CV] END class_weight={0: 1, 1: 2.5}, kernel=poly, tol=0.001; total time=  21.6s\n",
      "[CV] END class_weight={0: 1, 1: 2.5}, kernel=poly, tol=0.001; total time=  21.7s\n",
      "[CV] END class_weight={0: 1, 1: 2.5}, kernel=poly, tol=0.0001; total time=  23.2s\n",
      "[CV] END class_weight={0: 1, 1: 2.5}, kernel=poly, tol=0.0001; total time=  23.2s\n",
      "[CV] END class_weight={0: 1, 1: 2.5}, kernel=poly, tol=0.0001; total time=  22.8s\n",
      "[CV] END class_weight={0: 1, 1: 2.5}, kernel=poly, tol=0.0001; total time=  21.6s\n",
      "[CV] END class_weight={0: 1, 1: 2.5}, kernel=poly, tol=0.0001; total time=  21.5s\n",
      "[CV] END class_weight={0: 1, 1: 2.5}, kernel=poly, tol=1e-05; total time=  22.9s\n",
      "[CV] END class_weight={0: 1, 1: 2.5}, kernel=poly, tol=1e-05; total time=  22.9s\n",
      "[CV] END class_weight={0: 1, 1: 2.5}, kernel=poly, tol=1e-05; total time=  22.8s\n",
      "[CV] END class_weight={0: 1, 1: 2.5}, kernel=poly, tol=1e-05; total time=  22.8s\n",
      "[CV] END class_weight={0: 1, 1: 2.5}, kernel=poly, tol=1e-05; total time=  22.9s\n",
      "[CV] END .class_weight={0: 1, 1: 2.5}, kernel=rbf, tol=0.001; total time=  21.9s\n",
      "[CV] END .class_weight={0: 1, 1: 2.5}, kernel=rbf, tol=0.001; total time=  21.9s\n",
      "[CV] END .class_weight={0: 1, 1: 2.5}, kernel=rbf, tol=0.001; total time=  21.9s\n",
      "[CV] END .class_weight={0: 1, 1: 2.5}, kernel=rbf, tol=0.001; total time=  21.9s\n",
      "[CV] END .class_weight={0: 1, 1: 2.5}, kernel=rbf, tol=0.001; total time=  21.8s\n",
      "[CV] END class_weight={0: 1, 1: 2.5}, kernel=rbf, tol=0.0001; total time=  22.0s\n",
      "[CV] END class_weight={0: 1, 1: 2.5}, kernel=rbf, tol=0.0001; total time=  21.7s\n",
      "[CV] END class_weight={0: 1, 1: 2.5}, kernel=rbf, tol=0.0001; total time=  21.9s\n",
      "[CV] END class_weight={0: 1, 1: 2.5}, kernel=rbf, tol=0.0001; total time=  21.9s\n",
      "[CV] END class_weight={0: 1, 1: 2.5}, kernel=rbf, tol=0.0001; total time=  21.7s\n",
      "[CV] END .class_weight={0: 1, 1: 2.5}, kernel=rbf, tol=1e-05; total time=  21.9s\n",
      "[CV] END .class_weight={0: 1, 1: 2.5}, kernel=rbf, tol=1e-05; total time=  21.7s\n",
      "[CV] END .class_weight={0: 1, 1: 2.5}, kernel=rbf, tol=1e-05; total time=  21.8s\n",
      "[CV] END .class_weight={0: 1, 1: 2.5}, kernel=rbf, tol=1e-05; total time=  21.8s\n",
      "[CV] END .class_weight={0: 1, 1: 2.5}, kernel=rbf, tol=1e-05; total time=  21.7s\n",
      "[CV] END class_weight={0: 1, 1: 2.5}, kernel=sigmoid, tol=0.001; total time=  10.3s\n",
      "[CV] END class_weight={0: 1, 1: 2.5}, kernel=sigmoid, tol=0.001; total time=  10.4s\n",
      "[CV] END class_weight={0: 1, 1: 2.5}, kernel=sigmoid, tol=0.001; total time=  21.4s\n",
      "[CV] END class_weight={0: 1, 1: 2.5}, kernel=sigmoid, tol=0.001; total time=  21.3s\n",
      "[CV] END class_weight={0: 1, 1: 2.5}, kernel=sigmoid, tol=0.001; total time=  10.5s\n",
      "[CV] END class_weight={0: 1, 1: 2.5}, kernel=sigmoid, tol=0.0001; total time=  10.2s\n",
      "[CV] END class_weight={0: 1, 1: 2.5}, kernel=sigmoid, tol=0.0001; total time=  10.5s\n",
      "[CV] END class_weight={0: 1, 1: 2.5}, kernel=sigmoid, tol=0.0001; total time=  21.3s\n",
      "[CV] END class_weight={0: 1, 1: 2.5}, kernel=sigmoid, tol=0.0001; total time=  21.4s\n",
      "[CV] END class_weight={0: 1, 1: 2.5}, kernel=sigmoid, tol=0.0001; total time=  10.5s\n",
      "[CV] END class_weight={0: 1, 1: 2.5}, kernel=sigmoid, tol=1e-05; total time=  10.4s\n",
      "[CV] END class_weight={0: 1, 1: 2.5}, kernel=sigmoid, tol=1e-05; total time=  10.4s\n",
      "[CV] END class_weight={0: 1, 1: 2.5}, kernel=sigmoid, tol=1e-05; total time=  21.2s\n",
      "[CV] END class_weight={0: 1, 1: 2.5}, kernel=sigmoid, tol=1e-05; total time=  21.1s\n",
      "[CV] END class_weight={0: 1, 1: 2.5}, kernel=sigmoid, tol=1e-05; total time=  10.4s\n",
      "[CV] END class_weight={0: 1.5, 1: 2.5}, kernel=poly, tol=0.001; total time=  23.7s\n",
      "[CV] END class_weight={0: 1.5, 1: 2.5}, kernel=poly, tol=0.001; total time=  23.2s\n",
      "[CV] END class_weight={0: 1.5, 1: 2.5}, kernel=poly, tol=0.001; total time=  23.4s\n",
      "[CV] END class_weight={0: 1.5, 1: 2.5}, kernel=poly, tol=0.001; total time=  23.5s\n",
      "[CV] END class_weight={0: 1.5, 1: 2.5}, kernel=poly, tol=0.001; total time=  23.3s\n",
      "[CV] END class_weight={0: 1.5, 1: 2.5}, kernel=poly, tol=0.0001; total time=  23.9s\n",
      "[CV] END class_weight={0: 1.5, 1: 2.5}, kernel=poly, tol=0.0001; total time=  23.5s\n",
      "[CV] END class_weight={0: 1.5, 1: 2.5}, kernel=poly, tol=0.0001; total time=  23.4s\n",
      "[CV] END class_weight={0: 1.5, 1: 2.5}, kernel=poly, tol=0.0001; total time=  23.5s\n",
      "[CV] END class_weight={0: 1.5, 1: 2.5}, kernel=poly, tol=0.0001; total time=  23.4s\n",
      "[CV] END class_weight={0: 1.5, 1: 2.5}, kernel=poly, tol=1e-05; total time=  24.1s\n",
      "[CV] END class_weight={0: 1.5, 1: 2.5}, kernel=poly, tol=1e-05; total time=  23.5s\n",
      "[CV] END class_weight={0: 1.5, 1: 2.5}, kernel=poly, tol=1e-05; total time=  23.5s\n",
      "[CV] END class_weight={0: 1.5, 1: 2.5}, kernel=poly, tol=1e-05; total time=  23.6s\n",
      "[CV] END class_weight={0: 1.5, 1: 2.5}, kernel=poly, tol=1e-05; total time=  23.5s\n",
      "[CV] END class_weight={0: 1.5, 1: 2.5}, kernel=rbf, tol=0.001; total time=  22.5s\n",
      "[CV] END class_weight={0: 1.5, 1: 2.5}, kernel=rbf, tol=0.001; total time=  22.4s\n",
      "[CV] END class_weight={0: 1.5, 1: 2.5}, kernel=rbf, tol=0.001; total time=  22.4s\n",
      "[CV] END class_weight={0: 1.5, 1: 2.5}, kernel=rbf, tol=0.001; total time=  22.1s\n",
      "[CV] END class_weight={0: 1.5, 1: 2.5}, kernel=rbf, tol=0.001; total time=  22.3s\n",
      "[CV] END class_weight={0: 1.5, 1: 2.5}, kernel=rbf, tol=0.0001; total time=  22.4s\n",
      "[CV] END class_weight={0: 1.5, 1: 2.5}, kernel=rbf, tol=0.0001; total time=  22.5s\n",
      "[CV] END class_weight={0: 1.5, 1: 2.5}, kernel=rbf, tol=0.0001; total time=  22.4s\n",
      "[CV] END class_weight={0: 1.5, 1: 2.5}, kernel=rbf, tol=0.0001; total time=  22.3s\n",
      "[CV] END class_weight={0: 1.5, 1: 2.5}, kernel=rbf, tol=0.0001; total time=  22.6s\n",
      "[CV] END class_weight={0: 1.5, 1: 2.5}, kernel=rbf, tol=1e-05; total time=  22.6s\n",
      "[CV] END class_weight={0: 1.5, 1: 2.5}, kernel=rbf, tol=1e-05; total time=  22.7s\n",
      "[CV] END class_weight={0: 1.5, 1: 2.5}, kernel=rbf, tol=1e-05; total time=  22.5s\n",
      "[CV] END class_weight={0: 1.5, 1: 2.5}, kernel=rbf, tol=1e-05; total time=  22.3s\n",
      "[CV] END class_weight={0: 1.5, 1: 2.5}, kernel=rbf, tol=1e-05; total time=  22.5s\n",
      "[CV] END class_weight={0: 1.5, 1: 2.5}, kernel=sigmoid, tol=0.001; total time=  10.4s\n",
      "[CV] END class_weight={0: 1.5, 1: 2.5}, kernel=sigmoid, tol=0.001; total time=  10.2s\n",
      "[CV] END class_weight={0: 1.5, 1: 2.5}, kernel=sigmoid, tol=0.001; total time=  20.6s\n",
      "[CV] END class_weight={0: 1.5, 1: 2.5}, kernel=sigmoid, tol=0.001; total time=  22.3s\n",
      "[CV] END class_weight={0: 1.5, 1: 2.5}, kernel=sigmoid, tol=0.001; total time=  10.6s\n",
      "[CV] END class_weight={0: 1.5, 1: 2.5}, kernel=sigmoid, tol=0.0001; total time=  10.5s\n",
      "[CV] END class_weight={0: 1.5, 1: 2.5}, kernel=sigmoid, tol=0.0001; total time=  10.3s\n",
      "[CV] END class_weight={0: 1.5, 1: 2.5}, kernel=sigmoid, tol=0.0001; total time=  20.8s\n",
      "[CV] END class_weight={0: 1.5, 1: 2.5}, kernel=sigmoid, tol=0.0001; total time=  22.2s\n",
      "[CV] END class_weight={0: 1.5, 1: 2.5}, kernel=sigmoid, tol=0.0001; total time=  10.6s\n",
      "[CV] END class_weight={0: 1.5, 1: 2.5}, kernel=sigmoid, tol=1e-05; total time=  10.5s\n",
      "[CV] END class_weight={0: 1.5, 1: 2.5}, kernel=sigmoid, tol=1e-05; total time=  10.3s\n",
      "[CV] END class_weight={0: 1.5, 1: 2.5}, kernel=sigmoid, tol=1e-05; total time=  20.6s\n",
      "[CV] END class_weight={0: 1.5, 1: 2.5}, kernel=sigmoid, tol=1e-05; total time=  22.3s\n",
      "[CV] END class_weight={0: 1.5, 1: 2.5}, kernel=sigmoid, tol=1e-05; total time=  10.6s\n",
      "[CV] END ..class_weight={0: 1, 1: 3}, kernel=poly, tol=0.001; total time=  21.0s\n",
      "[CV] END ..class_weight={0: 1, 1: 3}, kernel=poly, tol=0.001; total time=  22.3s\n",
      "[CV] END ..class_weight={0: 1, 1: 3}, kernel=poly, tol=0.001; total time=  21.6s\n",
      "[CV] END ..class_weight={0: 1, 1: 3}, kernel=poly, tol=0.001; total time=  20.9s\n",
      "[CV] END ..class_weight={0: 1, 1: 3}, kernel=poly, tol=0.001; total time=  22.2s\n",
      "[CV] END .class_weight={0: 1, 1: 3}, kernel=poly, tol=0.0001; total time=  22.2s\n",
      "[CV] END .class_weight={0: 1, 1: 3}, kernel=poly, tol=0.0001; total time=  22.2s\n",
      "[CV] END .class_weight={0: 1, 1: 3}, kernel=poly, tol=0.0001; total time=  22.0s\n",
      "[CV] END .class_weight={0: 1, 1: 3}, kernel=poly, tol=0.0001; total time=  21.8s\n",
      "[CV] END .class_weight={0: 1, 1: 3}, kernel=poly, tol=0.0001; total time=  22.1s\n",
      "[CV] END ..class_weight={0: 1, 1: 3}, kernel=poly, tol=1e-05; total time=  21.9s\n",
      "[CV] END ..class_weight={0: 1, 1: 3}, kernel=poly, tol=1e-05; total time=  22.0s\n",
      "[CV] END ..class_weight={0: 1, 1: 3}, kernel=poly, tol=1e-05; total time=  21.8s\n",
      "[CV] END ..class_weight={0: 1, 1: 3}, kernel=poly, tol=1e-05; total time=  21.8s\n",
      "[CV] END ..class_weight={0: 1, 1: 3}, kernel=poly, tol=1e-05; total time=  21.9s\n",
      "[CV] END ...class_weight={0: 1, 1: 3}, kernel=rbf, tol=0.001; total time=  21.2s\n",
      "[CV] END ...class_weight={0: 1, 1: 3}, kernel=rbf, tol=0.001; total time=  21.2s\n",
      "[CV] END ...class_weight={0: 1, 1: 3}, kernel=rbf, tol=0.001; total time=  21.2s\n",
      "[CV] END ...class_weight={0: 1, 1: 3}, kernel=rbf, tol=0.001; total time=  20.8s\n",
      "[CV] END ...class_weight={0: 1, 1: 3}, kernel=rbf, tol=0.001; total time=  21.0s\n",
      "[CV] END ..class_weight={0: 1, 1: 3}, kernel=rbf, tol=0.0001; total time=  21.0s\n",
      "[CV] END ..class_weight={0: 1, 1: 3}, kernel=rbf, tol=0.0001; total time=  21.2s\n",
      "[CV] END ..class_weight={0: 1, 1: 3}, kernel=rbf, tol=0.0001; total time=  21.1s\n",
      "[CV] END ..class_weight={0: 1, 1: 3}, kernel=rbf, tol=0.0001; total time=  21.3s\n",
      "[CV] END ..class_weight={0: 1, 1: 3}, kernel=rbf, tol=0.0001; total time=  21.3s\n",
      "[CV] END ...class_weight={0: 1, 1: 3}, kernel=rbf, tol=1e-05; total time=  21.4s\n",
      "[CV] END ...class_weight={0: 1, 1: 3}, kernel=rbf, tol=1e-05; total time=  21.6s\n",
      "[CV] END ...class_weight={0: 1, 1: 3}, kernel=rbf, tol=1e-05; total time=  21.5s\n",
      "[CV] END ...class_weight={0: 1, 1: 3}, kernel=rbf, tol=1e-05; total time=  21.4s\n",
      "[CV] END ...class_weight={0: 1, 1: 3}, kernel=rbf, tol=1e-05; total time=  21.6s\n",
      "[CV] END class_weight={0: 1, 1: 3}, kernel=sigmoid, tol=0.001; total time=  10.4s\n",
      "[CV] END class_weight={0: 1, 1: 3}, kernel=sigmoid, tol=0.001; total time=  10.4s\n",
      "[CV] END class_weight={0: 1, 1: 3}, kernel=sigmoid, tol=0.001; total time=  20.6s\n",
      "[CV] END class_weight={0: 1, 1: 3}, kernel=sigmoid, tol=0.001; total time=  20.7s\n",
      "[CV] END class_weight={0: 1, 1: 3}, kernel=sigmoid, tol=0.001; total time=  10.8s\n",
      "[CV] END class_weight={0: 1, 1: 3}, kernel=sigmoid, tol=0.0001; total time=  10.4s\n",
      "[CV] END class_weight={0: 1, 1: 3}, kernel=sigmoid, tol=0.0001; total time=  10.4s\n",
      "[CV] END class_weight={0: 1, 1: 3}, kernel=sigmoid, tol=0.0001; total time=  20.4s\n",
      "[CV] END class_weight={0: 1, 1: 3}, kernel=sigmoid, tol=0.0001; total time=  20.6s\n",
      "[CV] END class_weight={0: 1, 1: 3}, kernel=sigmoid, tol=0.0001; total time=  10.7s\n",
      "[CV] END class_weight={0: 1, 1: 3}, kernel=sigmoid, tol=1e-05; total time=  10.5s\n",
      "[CV] END class_weight={0: 1, 1: 3}, kernel=sigmoid, tol=1e-05; total time=  10.5s\n",
      "[CV] END class_weight={0: 1, 1: 3}, kernel=sigmoid, tol=1e-05; total time=  20.4s\n",
      "[CV] END class_weight={0: 1, 1: 3}, kernel=sigmoid, tol=1e-05; total time=  20.6s\n",
      "[CV] END class_weight={0: 1, 1: 3}, kernel=sigmoid, tol=1e-05; total time=  10.6s\n"
     ]
    },
    {
     "data": {
      "text/html": [
       "<style>#sk-container-id-9 {\n",
       "  /* Definition of color scheme common for light and dark mode */\n",
       "  --sklearn-color-text: black;\n",
       "  --sklearn-color-line: gray;\n",
       "  /* Definition of color scheme for unfitted estimators */\n",
       "  --sklearn-color-unfitted-level-0: #fff5e6;\n",
       "  --sklearn-color-unfitted-level-1: #f6e4d2;\n",
       "  --sklearn-color-unfitted-level-2: #ffe0b3;\n",
       "  --sklearn-color-unfitted-level-3: chocolate;\n",
       "  /* Definition of color scheme for fitted estimators */\n",
       "  --sklearn-color-fitted-level-0: #f0f8ff;\n",
       "  --sklearn-color-fitted-level-1: #d4ebff;\n",
       "  --sklearn-color-fitted-level-2: #b3dbfd;\n",
       "  --sklearn-color-fitted-level-3: cornflowerblue;\n",
       "\n",
       "  /* Specific color for light theme */\n",
       "  --sklearn-color-text-on-default-background: var(--sg-text-color, var(--theme-code-foreground, var(--jp-content-font-color1, black)));\n",
       "  --sklearn-color-background: var(--sg-background-color, var(--theme-background, var(--jp-layout-color0, white)));\n",
       "  --sklearn-color-border-box: var(--sg-text-color, var(--theme-code-foreground, var(--jp-content-font-color1, black)));\n",
       "  --sklearn-color-icon: #696969;\n",
       "\n",
       "  @media (prefers-color-scheme: dark) {\n",
       "    /* Redefinition of color scheme for dark theme */\n",
       "    --sklearn-color-text-on-default-background: var(--sg-text-color, var(--theme-code-foreground, var(--jp-content-font-color1, white)));\n",
       "    --sklearn-color-background: var(--sg-background-color, var(--theme-background, var(--jp-layout-color0, #111)));\n",
       "    --sklearn-color-border-box: var(--sg-text-color, var(--theme-code-foreground, var(--jp-content-font-color1, white)));\n",
       "    --sklearn-color-icon: #878787;\n",
       "  }\n",
       "}\n",
       "\n",
       "#sk-container-id-9 {\n",
       "  color: var(--sklearn-color-text);\n",
       "}\n",
       "\n",
       "#sk-container-id-9 pre {\n",
       "  padding: 0;\n",
       "}\n",
       "\n",
       "#sk-container-id-9 input.sk-hidden--visually {\n",
       "  border: 0;\n",
       "  clip: rect(1px 1px 1px 1px);\n",
       "  clip: rect(1px, 1px, 1px, 1px);\n",
       "  height: 1px;\n",
       "  margin: -1px;\n",
       "  overflow: hidden;\n",
       "  padding: 0;\n",
       "  position: absolute;\n",
       "  width: 1px;\n",
       "}\n",
       "\n",
       "#sk-container-id-9 div.sk-dashed-wrapped {\n",
       "  border: 1px dashed var(--sklearn-color-line);\n",
       "  margin: 0 0.4em 0.5em 0.4em;\n",
       "  box-sizing: border-box;\n",
       "  padding-bottom: 0.4em;\n",
       "  background-color: var(--sklearn-color-background);\n",
       "}\n",
       "\n",
       "#sk-container-id-9 div.sk-container {\n",
       "  /* jupyter's `normalize.less` sets `[hidden] { display: none; }`\n",
       "     but bootstrap.min.css set `[hidden] { display: none !important; }`\n",
       "     so we also need the `!important` here to be able to override the\n",
       "     default hidden behavior on the sphinx rendered scikit-learn.org.\n",
       "     See: https://github.com/scikit-learn/scikit-learn/issues/21755 */\n",
       "  display: inline-block !important;\n",
       "  position: relative;\n",
       "}\n",
       "\n",
       "#sk-container-id-9 div.sk-text-repr-fallback {\n",
       "  display: none;\n",
       "}\n",
       "\n",
       "div.sk-parallel-item,\n",
       "div.sk-serial,\n",
       "div.sk-item {\n",
       "  /* draw centered vertical line to link estimators */\n",
       "  background-image: linear-gradient(var(--sklearn-color-text-on-default-background), var(--sklearn-color-text-on-default-background));\n",
       "  background-size: 2px 100%;\n",
       "  background-repeat: no-repeat;\n",
       "  background-position: center center;\n",
       "}\n",
       "\n",
       "/* Parallel-specific style estimator block */\n",
       "\n",
       "#sk-container-id-9 div.sk-parallel-item::after {\n",
       "  content: \"\";\n",
       "  width: 100%;\n",
       "  border-bottom: 2px solid var(--sklearn-color-text-on-default-background);\n",
       "  flex-grow: 1;\n",
       "}\n",
       "\n",
       "#sk-container-id-9 div.sk-parallel {\n",
       "  display: flex;\n",
       "  align-items: stretch;\n",
       "  justify-content: center;\n",
       "  background-color: var(--sklearn-color-background);\n",
       "  position: relative;\n",
       "}\n",
       "\n",
       "#sk-container-id-9 div.sk-parallel-item {\n",
       "  display: flex;\n",
       "  flex-direction: column;\n",
       "}\n",
       "\n",
       "#sk-container-id-9 div.sk-parallel-item:first-child::after {\n",
       "  align-self: flex-end;\n",
       "  width: 50%;\n",
       "}\n",
       "\n",
       "#sk-container-id-9 div.sk-parallel-item:last-child::after {\n",
       "  align-self: flex-start;\n",
       "  width: 50%;\n",
       "}\n",
       "\n",
       "#sk-container-id-9 div.sk-parallel-item:only-child::after {\n",
       "  width: 0;\n",
       "}\n",
       "\n",
       "/* Serial-specific style estimator block */\n",
       "\n",
       "#sk-container-id-9 div.sk-serial {\n",
       "  display: flex;\n",
       "  flex-direction: column;\n",
       "  align-items: center;\n",
       "  background-color: var(--sklearn-color-background);\n",
       "  padding-right: 1em;\n",
       "  padding-left: 1em;\n",
       "}\n",
       "\n",
       "\n",
       "/* Toggleable style: style used for estimator/Pipeline/ColumnTransformer box that is\n",
       "clickable and can be expanded/collapsed.\n",
       "- Pipeline and ColumnTransformer use this feature and define the default style\n",
       "- Estimators will overwrite some part of the style using the `sk-estimator` class\n",
       "*/\n",
       "\n",
       "/* Pipeline and ColumnTransformer style (default) */\n",
       "\n",
       "#sk-container-id-9 div.sk-toggleable {\n",
       "  /* Default theme specific background. It is overwritten whether we have a\n",
       "  specific estimator or a Pipeline/ColumnTransformer */\n",
       "  background-color: var(--sklearn-color-background);\n",
       "}\n",
       "\n",
       "/* Toggleable label */\n",
       "#sk-container-id-9 label.sk-toggleable__label {\n",
       "  cursor: pointer;\n",
       "  display: block;\n",
       "  width: 100%;\n",
       "  margin-bottom: 0;\n",
       "  padding: 0.5em;\n",
       "  box-sizing: border-box;\n",
       "  text-align: center;\n",
       "}\n",
       "\n",
       "#sk-container-id-9 label.sk-toggleable__label-arrow:before {\n",
       "  /* Arrow on the left of the label */\n",
       "  content: \"▸\";\n",
       "  float: left;\n",
       "  margin-right: 0.25em;\n",
       "  color: var(--sklearn-color-icon);\n",
       "}\n",
       "\n",
       "#sk-container-id-9 label.sk-toggleable__label-arrow:hover:before {\n",
       "  color: var(--sklearn-color-text);\n",
       "}\n",
       "\n",
       "/* Toggleable content - dropdown */\n",
       "\n",
       "#sk-container-id-9 div.sk-toggleable__content {\n",
       "  max-height: 0;\n",
       "  max-width: 0;\n",
       "  overflow: hidden;\n",
       "  text-align: left;\n",
       "  /* unfitted */\n",
       "  background-color: var(--sklearn-color-unfitted-level-0);\n",
       "}\n",
       "\n",
       "#sk-container-id-9 div.sk-toggleable__content.fitted {\n",
       "  /* fitted */\n",
       "  background-color: var(--sklearn-color-fitted-level-0);\n",
       "}\n",
       "\n",
       "#sk-container-id-9 div.sk-toggleable__content pre {\n",
       "  margin: 0.2em;\n",
       "  border-radius: 0.25em;\n",
       "  color: var(--sklearn-color-text);\n",
       "  /* unfitted */\n",
       "  background-color: var(--sklearn-color-unfitted-level-0);\n",
       "}\n",
       "\n",
       "#sk-container-id-9 div.sk-toggleable__content.fitted pre {\n",
       "  /* unfitted */\n",
       "  background-color: var(--sklearn-color-fitted-level-0);\n",
       "}\n",
       "\n",
       "#sk-container-id-9 input.sk-toggleable__control:checked~div.sk-toggleable__content {\n",
       "  /* Expand drop-down */\n",
       "  max-height: 200px;\n",
       "  max-width: 100%;\n",
       "  overflow: auto;\n",
       "}\n",
       "\n",
       "#sk-container-id-9 input.sk-toggleable__control:checked~label.sk-toggleable__label-arrow:before {\n",
       "  content: \"▾\";\n",
       "}\n",
       "\n",
       "/* Pipeline/ColumnTransformer-specific style */\n",
       "\n",
       "#sk-container-id-9 div.sk-label input.sk-toggleable__control:checked~label.sk-toggleable__label {\n",
       "  color: var(--sklearn-color-text);\n",
       "  background-color: var(--sklearn-color-unfitted-level-2);\n",
       "}\n",
       "\n",
       "#sk-container-id-9 div.sk-label.fitted input.sk-toggleable__control:checked~label.sk-toggleable__label {\n",
       "  background-color: var(--sklearn-color-fitted-level-2);\n",
       "}\n",
       "\n",
       "/* Estimator-specific style */\n",
       "\n",
       "/* Colorize estimator box */\n",
       "#sk-container-id-9 div.sk-estimator input.sk-toggleable__control:checked~label.sk-toggleable__label {\n",
       "  /* unfitted */\n",
       "  background-color: var(--sklearn-color-unfitted-level-2);\n",
       "}\n",
       "\n",
       "#sk-container-id-9 div.sk-estimator.fitted input.sk-toggleable__control:checked~label.sk-toggleable__label {\n",
       "  /* fitted */\n",
       "  background-color: var(--sklearn-color-fitted-level-2);\n",
       "}\n",
       "\n",
       "#sk-container-id-9 div.sk-label label.sk-toggleable__label,\n",
       "#sk-container-id-9 div.sk-label label {\n",
       "  /* The background is the default theme color */\n",
       "  color: var(--sklearn-color-text-on-default-background);\n",
       "}\n",
       "\n",
       "/* On hover, darken the color of the background */\n",
       "#sk-container-id-9 div.sk-label:hover label.sk-toggleable__label {\n",
       "  color: var(--sklearn-color-text);\n",
       "  background-color: var(--sklearn-color-unfitted-level-2);\n",
       "}\n",
       "\n",
       "/* Label box, darken color on hover, fitted */\n",
       "#sk-container-id-9 div.sk-label.fitted:hover label.sk-toggleable__label.fitted {\n",
       "  color: var(--sklearn-color-text);\n",
       "  background-color: var(--sklearn-color-fitted-level-2);\n",
       "}\n",
       "\n",
       "/* Estimator label */\n",
       "\n",
       "#sk-container-id-9 div.sk-label label {\n",
       "  font-family: monospace;\n",
       "  font-weight: bold;\n",
       "  display: inline-block;\n",
       "  line-height: 1.2em;\n",
       "}\n",
       "\n",
       "#sk-container-id-9 div.sk-label-container {\n",
       "  text-align: center;\n",
       "}\n",
       "\n",
       "/* Estimator-specific */\n",
       "#sk-container-id-9 div.sk-estimator {\n",
       "  font-family: monospace;\n",
       "  border: 1px dotted var(--sklearn-color-border-box);\n",
       "  border-radius: 0.25em;\n",
       "  box-sizing: border-box;\n",
       "  margin-bottom: 0.5em;\n",
       "  /* unfitted */\n",
       "  background-color: var(--sklearn-color-unfitted-level-0);\n",
       "}\n",
       "\n",
       "#sk-container-id-9 div.sk-estimator.fitted {\n",
       "  /* fitted */\n",
       "  background-color: var(--sklearn-color-fitted-level-0);\n",
       "}\n",
       "\n",
       "/* on hover */\n",
       "#sk-container-id-9 div.sk-estimator:hover {\n",
       "  /* unfitted */\n",
       "  background-color: var(--sklearn-color-unfitted-level-2);\n",
       "}\n",
       "\n",
       "#sk-container-id-9 div.sk-estimator.fitted:hover {\n",
       "  /* fitted */\n",
       "  background-color: var(--sklearn-color-fitted-level-2);\n",
       "}\n",
       "\n",
       "/* Specification for estimator info (e.g. \"i\" and \"?\") */\n",
       "\n",
       "/* Common style for \"i\" and \"?\" */\n",
       "\n",
       ".sk-estimator-doc-link,\n",
       "a:link.sk-estimator-doc-link,\n",
       "a:visited.sk-estimator-doc-link {\n",
       "  float: right;\n",
       "  font-size: smaller;\n",
       "  line-height: 1em;\n",
       "  font-family: monospace;\n",
       "  background-color: var(--sklearn-color-background);\n",
       "  border-radius: 1em;\n",
       "  height: 1em;\n",
       "  width: 1em;\n",
       "  text-decoration: none !important;\n",
       "  margin-left: 1ex;\n",
       "  /* unfitted */\n",
       "  border: var(--sklearn-color-unfitted-level-1) 1pt solid;\n",
       "  color: var(--sklearn-color-unfitted-level-1);\n",
       "}\n",
       "\n",
       ".sk-estimator-doc-link.fitted,\n",
       "a:link.sk-estimator-doc-link.fitted,\n",
       "a:visited.sk-estimator-doc-link.fitted {\n",
       "  /* fitted */\n",
       "  border: var(--sklearn-color-fitted-level-1) 1pt solid;\n",
       "  color: var(--sklearn-color-fitted-level-1);\n",
       "}\n",
       "\n",
       "/* On hover */\n",
       "div.sk-estimator:hover .sk-estimator-doc-link:hover,\n",
       ".sk-estimator-doc-link:hover,\n",
       "div.sk-label-container:hover .sk-estimator-doc-link:hover,\n",
       ".sk-estimator-doc-link:hover {\n",
       "  /* unfitted */\n",
       "  background-color: var(--sklearn-color-unfitted-level-3);\n",
       "  color: var(--sklearn-color-background);\n",
       "  text-decoration: none;\n",
       "}\n",
       "\n",
       "div.sk-estimator.fitted:hover .sk-estimator-doc-link.fitted:hover,\n",
       ".sk-estimator-doc-link.fitted:hover,\n",
       "div.sk-label-container:hover .sk-estimator-doc-link.fitted:hover,\n",
       ".sk-estimator-doc-link.fitted:hover {\n",
       "  /* fitted */\n",
       "  background-color: var(--sklearn-color-fitted-level-3);\n",
       "  color: var(--sklearn-color-background);\n",
       "  text-decoration: none;\n",
       "}\n",
       "\n",
       "/* Span, style for the box shown on hovering the info icon */\n",
       ".sk-estimator-doc-link span {\n",
       "  display: none;\n",
       "  z-index: 9999;\n",
       "  position: relative;\n",
       "  font-weight: normal;\n",
       "  right: .2ex;\n",
       "  padding: .5ex;\n",
       "  margin: .5ex;\n",
       "  width: min-content;\n",
       "  min-width: 20ex;\n",
       "  max-width: 50ex;\n",
       "  color: var(--sklearn-color-text);\n",
       "  box-shadow: 2pt 2pt 4pt #999;\n",
       "  /* unfitted */\n",
       "  background: var(--sklearn-color-unfitted-level-0);\n",
       "  border: .5pt solid var(--sklearn-color-unfitted-level-3);\n",
       "}\n",
       "\n",
       ".sk-estimator-doc-link.fitted span {\n",
       "  /* fitted */\n",
       "  background: var(--sklearn-color-fitted-level-0);\n",
       "  border: var(--sklearn-color-fitted-level-3);\n",
       "}\n",
       "\n",
       ".sk-estimator-doc-link:hover span {\n",
       "  display: block;\n",
       "}\n",
       "\n",
       "/* \"?\"-specific style due to the `<a>` HTML tag */\n",
       "\n",
       "#sk-container-id-9 a.estimator_doc_link {\n",
       "  float: right;\n",
       "  font-size: 1rem;\n",
       "  line-height: 1em;\n",
       "  font-family: monospace;\n",
       "  background-color: var(--sklearn-color-background);\n",
       "  border-radius: 1rem;\n",
       "  height: 1rem;\n",
       "  width: 1rem;\n",
       "  text-decoration: none;\n",
       "  /* unfitted */\n",
       "  color: var(--sklearn-color-unfitted-level-1);\n",
       "  border: var(--sklearn-color-unfitted-level-1) 1pt solid;\n",
       "}\n",
       "\n",
       "#sk-container-id-9 a.estimator_doc_link.fitted {\n",
       "  /* fitted */\n",
       "  border: var(--sklearn-color-fitted-level-1) 1pt solid;\n",
       "  color: var(--sklearn-color-fitted-level-1);\n",
       "}\n",
       "\n",
       "/* On hover */\n",
       "#sk-container-id-9 a.estimator_doc_link:hover {\n",
       "  /* unfitted */\n",
       "  background-color: var(--sklearn-color-unfitted-level-3);\n",
       "  color: var(--sklearn-color-background);\n",
       "  text-decoration: none;\n",
       "}\n",
       "\n",
       "#sk-container-id-9 a.estimator_doc_link.fitted:hover {\n",
       "  /* fitted */\n",
       "  background-color: var(--sklearn-color-fitted-level-3);\n",
       "}\n",
       "</style><div id=\"sk-container-id-9\" class=\"sk-top-container\"><div class=\"sk-text-repr-fallback\"><pre>GridSearchCV(cv=KFold(n_splits=5, random_state=None, shuffle=False),\n",
       "             estimator=SVC(),\n",
       "             param_grid={&#x27;class_weight&#x27;: [None, {0: 1, 1: 2}, {0: 1, 1: 2.5},\n",
       "                                          {0: 1.5, 1: 2.5}, {0: 1, 1: 3}],\n",
       "                         &#x27;kernel&#x27;: [&#x27;poly&#x27;, &#x27;rbf&#x27;, &#x27;sigmoid&#x27;],\n",
       "                         &#x27;tol&#x27;: [0.001, 0.0001, 1e-05]},\n",
       "             verbose=2)</pre><b>In a Jupyter environment, please rerun this cell to show the HTML representation or trust the notebook. <br />On GitHub, the HTML representation is unable to render, please try loading this page with nbviewer.org.</b></div><div class=\"sk-container\" hidden><div class=\"sk-item sk-dashed-wrapped\"><div class=\"sk-label-container\"><div class=\"sk-label fitted sk-toggleable\"><input class=\"sk-toggleable__control sk-hidden--visually\" id=\"sk-estimator-id-17\" type=\"checkbox\" ><label for=\"sk-estimator-id-17\" class=\"sk-toggleable__label fitted sk-toggleable__label-arrow fitted\">&nbsp;&nbsp;GridSearchCV<a class=\"sk-estimator-doc-link fitted\" rel=\"noreferrer\" target=\"_blank\" href=\"https://scikit-learn.org/1.4/modules/generated/sklearn.model_selection.GridSearchCV.html\">?<span>Documentation for GridSearchCV</span></a><span class=\"sk-estimator-doc-link fitted\">i<span>Fitted</span></span></label><div class=\"sk-toggleable__content fitted\"><pre>GridSearchCV(cv=KFold(n_splits=5, random_state=None, shuffle=False),\n",
       "             estimator=SVC(),\n",
       "             param_grid={&#x27;class_weight&#x27;: [None, {0: 1, 1: 2}, {0: 1, 1: 2.5},\n",
       "                                          {0: 1.5, 1: 2.5}, {0: 1, 1: 3}],\n",
       "                         &#x27;kernel&#x27;: [&#x27;poly&#x27;, &#x27;rbf&#x27;, &#x27;sigmoid&#x27;],\n",
       "                         &#x27;tol&#x27;: [0.001, 0.0001, 1e-05]},\n",
       "             verbose=2)</pre></div> </div></div><div class=\"sk-parallel\"><div class=\"sk-parallel-item\"><div class=\"sk-item\"><div class=\"sk-label-container\"><div class=\"sk-label fitted sk-toggleable\"><input class=\"sk-toggleable__control sk-hidden--visually\" id=\"sk-estimator-id-18\" type=\"checkbox\" ><label for=\"sk-estimator-id-18\" class=\"sk-toggleable__label fitted sk-toggleable__label-arrow fitted\">estimator: SVC</label><div class=\"sk-toggleable__content fitted\"><pre>SVC()</pre></div> </div></div><div class=\"sk-serial\"><div class=\"sk-item\"><div class=\"sk-estimator fitted sk-toggleable\"><input class=\"sk-toggleable__control sk-hidden--visually\" id=\"sk-estimator-id-19\" type=\"checkbox\" ><label for=\"sk-estimator-id-19\" class=\"sk-toggleable__label fitted sk-toggleable__label-arrow fitted\">&nbsp;SVC<a class=\"sk-estimator-doc-link fitted\" rel=\"noreferrer\" target=\"_blank\" href=\"https://scikit-learn.org/1.4/modules/generated/sklearn.svm.SVC.html\">?<span>Documentation for SVC</span></a></label><div class=\"sk-toggleable__content fitted\"><pre>SVC()</pre></div> </div></div></div></div></div></div></div></div></div>"
      ],
      "text/plain": [
       "GridSearchCV(cv=KFold(n_splits=5, random_state=None, shuffle=False),\n",
       "             estimator=SVC(),\n",
       "             param_grid={'class_weight': [None, {0: 1, 1: 2}, {0: 1, 1: 2.5},\n",
       "                                          {0: 1.5, 1: 2.5}, {0: 1, 1: 3}],\n",
       "                         'kernel': ['poly', 'rbf', 'sigmoid'],\n",
       "                         'tol': [0.001, 0.0001, 1e-05]},\n",
       "             verbose=2)"
      ]
     },
     "execution_count": 56,
     "metadata": {},
     "output_type": "execute_result"
    }
   ],
   "source": [
    "grid_search.fit(X_train, y_train)"
   ]
  },
  {
   "cell_type": "code",
   "execution_count": 57,
   "id": "3fc6e39d",
   "metadata": {},
   "outputs": [
    {
     "name": "stdout",
     "output_type": "stream",
     "text": [
      "{'class_weight': None, 'kernel': 'rbf', 'tol': 0.001}\n"
     ]
    }
   ],
   "source": [
    "best_params = grid_search.best_params_\n",
    "print(best_params)"
   ]
  },
  {
   "cell_type": "code",
   "execution_count": 58,
   "id": "536b1208",
   "metadata": {},
   "outputs": [],
   "source": [
    "SVM_best = SVC(**best_params)"
   ]
  },
  {
   "cell_type": "code",
   "execution_count": 59,
   "id": "d77c9815",
   "metadata": {},
   "outputs": [
    {
     "data": {
      "text/html": [
       "<style>#sk-container-id-10 {\n",
       "  /* Definition of color scheme common for light and dark mode */\n",
       "  --sklearn-color-text: black;\n",
       "  --sklearn-color-line: gray;\n",
       "  /* Definition of color scheme for unfitted estimators */\n",
       "  --sklearn-color-unfitted-level-0: #fff5e6;\n",
       "  --sklearn-color-unfitted-level-1: #f6e4d2;\n",
       "  --sklearn-color-unfitted-level-2: #ffe0b3;\n",
       "  --sklearn-color-unfitted-level-3: chocolate;\n",
       "  /* Definition of color scheme for fitted estimators */\n",
       "  --sklearn-color-fitted-level-0: #f0f8ff;\n",
       "  --sklearn-color-fitted-level-1: #d4ebff;\n",
       "  --sklearn-color-fitted-level-2: #b3dbfd;\n",
       "  --sklearn-color-fitted-level-3: cornflowerblue;\n",
       "\n",
       "  /* Specific color for light theme */\n",
       "  --sklearn-color-text-on-default-background: var(--sg-text-color, var(--theme-code-foreground, var(--jp-content-font-color1, black)));\n",
       "  --sklearn-color-background: var(--sg-background-color, var(--theme-background, var(--jp-layout-color0, white)));\n",
       "  --sklearn-color-border-box: var(--sg-text-color, var(--theme-code-foreground, var(--jp-content-font-color1, black)));\n",
       "  --sklearn-color-icon: #696969;\n",
       "\n",
       "  @media (prefers-color-scheme: dark) {\n",
       "    /* Redefinition of color scheme for dark theme */\n",
       "    --sklearn-color-text-on-default-background: var(--sg-text-color, var(--theme-code-foreground, var(--jp-content-font-color1, white)));\n",
       "    --sklearn-color-background: var(--sg-background-color, var(--theme-background, var(--jp-layout-color0, #111)));\n",
       "    --sklearn-color-border-box: var(--sg-text-color, var(--theme-code-foreground, var(--jp-content-font-color1, white)));\n",
       "    --sklearn-color-icon: #878787;\n",
       "  }\n",
       "}\n",
       "\n",
       "#sk-container-id-10 {\n",
       "  color: var(--sklearn-color-text);\n",
       "}\n",
       "\n",
       "#sk-container-id-10 pre {\n",
       "  padding: 0;\n",
       "}\n",
       "\n",
       "#sk-container-id-10 input.sk-hidden--visually {\n",
       "  border: 0;\n",
       "  clip: rect(1px 1px 1px 1px);\n",
       "  clip: rect(1px, 1px, 1px, 1px);\n",
       "  height: 1px;\n",
       "  margin: -1px;\n",
       "  overflow: hidden;\n",
       "  padding: 0;\n",
       "  position: absolute;\n",
       "  width: 1px;\n",
       "}\n",
       "\n",
       "#sk-container-id-10 div.sk-dashed-wrapped {\n",
       "  border: 1px dashed var(--sklearn-color-line);\n",
       "  margin: 0 0.4em 0.5em 0.4em;\n",
       "  box-sizing: border-box;\n",
       "  padding-bottom: 0.4em;\n",
       "  background-color: var(--sklearn-color-background);\n",
       "}\n",
       "\n",
       "#sk-container-id-10 div.sk-container {\n",
       "  /* jupyter's `normalize.less` sets `[hidden] { display: none; }`\n",
       "     but bootstrap.min.css set `[hidden] { display: none !important; }`\n",
       "     so we also need the `!important` here to be able to override the\n",
       "     default hidden behavior on the sphinx rendered scikit-learn.org.\n",
       "     See: https://github.com/scikit-learn/scikit-learn/issues/21755 */\n",
       "  display: inline-block !important;\n",
       "  position: relative;\n",
       "}\n",
       "\n",
       "#sk-container-id-10 div.sk-text-repr-fallback {\n",
       "  display: none;\n",
       "}\n",
       "\n",
       "div.sk-parallel-item,\n",
       "div.sk-serial,\n",
       "div.sk-item {\n",
       "  /* draw centered vertical line to link estimators */\n",
       "  background-image: linear-gradient(var(--sklearn-color-text-on-default-background), var(--sklearn-color-text-on-default-background));\n",
       "  background-size: 2px 100%;\n",
       "  background-repeat: no-repeat;\n",
       "  background-position: center center;\n",
       "}\n",
       "\n",
       "/* Parallel-specific style estimator block */\n",
       "\n",
       "#sk-container-id-10 div.sk-parallel-item::after {\n",
       "  content: \"\";\n",
       "  width: 100%;\n",
       "  border-bottom: 2px solid var(--sklearn-color-text-on-default-background);\n",
       "  flex-grow: 1;\n",
       "}\n",
       "\n",
       "#sk-container-id-10 div.sk-parallel {\n",
       "  display: flex;\n",
       "  align-items: stretch;\n",
       "  justify-content: center;\n",
       "  background-color: var(--sklearn-color-background);\n",
       "  position: relative;\n",
       "}\n",
       "\n",
       "#sk-container-id-10 div.sk-parallel-item {\n",
       "  display: flex;\n",
       "  flex-direction: column;\n",
       "}\n",
       "\n",
       "#sk-container-id-10 div.sk-parallel-item:first-child::after {\n",
       "  align-self: flex-end;\n",
       "  width: 50%;\n",
       "}\n",
       "\n",
       "#sk-container-id-10 div.sk-parallel-item:last-child::after {\n",
       "  align-self: flex-start;\n",
       "  width: 50%;\n",
       "}\n",
       "\n",
       "#sk-container-id-10 div.sk-parallel-item:only-child::after {\n",
       "  width: 0;\n",
       "}\n",
       "\n",
       "/* Serial-specific style estimator block */\n",
       "\n",
       "#sk-container-id-10 div.sk-serial {\n",
       "  display: flex;\n",
       "  flex-direction: column;\n",
       "  align-items: center;\n",
       "  background-color: var(--sklearn-color-background);\n",
       "  padding-right: 1em;\n",
       "  padding-left: 1em;\n",
       "}\n",
       "\n",
       "\n",
       "/* Toggleable style: style used for estimator/Pipeline/ColumnTransformer box that is\n",
       "clickable and can be expanded/collapsed.\n",
       "- Pipeline and ColumnTransformer use this feature and define the default style\n",
       "- Estimators will overwrite some part of the style using the `sk-estimator` class\n",
       "*/\n",
       "\n",
       "/* Pipeline and ColumnTransformer style (default) */\n",
       "\n",
       "#sk-container-id-10 div.sk-toggleable {\n",
       "  /* Default theme specific background. It is overwritten whether we have a\n",
       "  specific estimator or a Pipeline/ColumnTransformer */\n",
       "  background-color: var(--sklearn-color-background);\n",
       "}\n",
       "\n",
       "/* Toggleable label */\n",
       "#sk-container-id-10 label.sk-toggleable__label {\n",
       "  cursor: pointer;\n",
       "  display: block;\n",
       "  width: 100%;\n",
       "  margin-bottom: 0;\n",
       "  padding: 0.5em;\n",
       "  box-sizing: border-box;\n",
       "  text-align: center;\n",
       "}\n",
       "\n",
       "#sk-container-id-10 label.sk-toggleable__label-arrow:before {\n",
       "  /* Arrow on the left of the label */\n",
       "  content: \"▸\";\n",
       "  float: left;\n",
       "  margin-right: 0.25em;\n",
       "  color: var(--sklearn-color-icon);\n",
       "}\n",
       "\n",
       "#sk-container-id-10 label.sk-toggleable__label-arrow:hover:before {\n",
       "  color: var(--sklearn-color-text);\n",
       "}\n",
       "\n",
       "/* Toggleable content - dropdown */\n",
       "\n",
       "#sk-container-id-10 div.sk-toggleable__content {\n",
       "  max-height: 0;\n",
       "  max-width: 0;\n",
       "  overflow: hidden;\n",
       "  text-align: left;\n",
       "  /* unfitted */\n",
       "  background-color: var(--sklearn-color-unfitted-level-0);\n",
       "}\n",
       "\n",
       "#sk-container-id-10 div.sk-toggleable__content.fitted {\n",
       "  /* fitted */\n",
       "  background-color: var(--sklearn-color-fitted-level-0);\n",
       "}\n",
       "\n",
       "#sk-container-id-10 div.sk-toggleable__content pre {\n",
       "  margin: 0.2em;\n",
       "  border-radius: 0.25em;\n",
       "  color: var(--sklearn-color-text);\n",
       "  /* unfitted */\n",
       "  background-color: var(--sklearn-color-unfitted-level-0);\n",
       "}\n",
       "\n",
       "#sk-container-id-10 div.sk-toggleable__content.fitted pre {\n",
       "  /* unfitted */\n",
       "  background-color: var(--sklearn-color-fitted-level-0);\n",
       "}\n",
       "\n",
       "#sk-container-id-10 input.sk-toggleable__control:checked~div.sk-toggleable__content {\n",
       "  /* Expand drop-down */\n",
       "  max-height: 200px;\n",
       "  max-width: 100%;\n",
       "  overflow: auto;\n",
       "}\n",
       "\n",
       "#sk-container-id-10 input.sk-toggleable__control:checked~label.sk-toggleable__label-arrow:before {\n",
       "  content: \"▾\";\n",
       "}\n",
       "\n",
       "/* Pipeline/ColumnTransformer-specific style */\n",
       "\n",
       "#sk-container-id-10 div.sk-label input.sk-toggleable__control:checked~label.sk-toggleable__label {\n",
       "  color: var(--sklearn-color-text);\n",
       "  background-color: var(--sklearn-color-unfitted-level-2);\n",
       "}\n",
       "\n",
       "#sk-container-id-10 div.sk-label.fitted input.sk-toggleable__control:checked~label.sk-toggleable__label {\n",
       "  background-color: var(--sklearn-color-fitted-level-2);\n",
       "}\n",
       "\n",
       "/* Estimator-specific style */\n",
       "\n",
       "/* Colorize estimator box */\n",
       "#sk-container-id-10 div.sk-estimator input.sk-toggleable__control:checked~label.sk-toggleable__label {\n",
       "  /* unfitted */\n",
       "  background-color: var(--sklearn-color-unfitted-level-2);\n",
       "}\n",
       "\n",
       "#sk-container-id-10 div.sk-estimator.fitted input.sk-toggleable__control:checked~label.sk-toggleable__label {\n",
       "  /* fitted */\n",
       "  background-color: var(--sklearn-color-fitted-level-2);\n",
       "}\n",
       "\n",
       "#sk-container-id-10 div.sk-label label.sk-toggleable__label,\n",
       "#sk-container-id-10 div.sk-label label {\n",
       "  /* The background is the default theme color */\n",
       "  color: var(--sklearn-color-text-on-default-background);\n",
       "}\n",
       "\n",
       "/* On hover, darken the color of the background */\n",
       "#sk-container-id-10 div.sk-label:hover label.sk-toggleable__label {\n",
       "  color: var(--sklearn-color-text);\n",
       "  background-color: var(--sklearn-color-unfitted-level-2);\n",
       "}\n",
       "\n",
       "/* Label box, darken color on hover, fitted */\n",
       "#sk-container-id-10 div.sk-label.fitted:hover label.sk-toggleable__label.fitted {\n",
       "  color: var(--sklearn-color-text);\n",
       "  background-color: var(--sklearn-color-fitted-level-2);\n",
       "}\n",
       "\n",
       "/* Estimator label */\n",
       "\n",
       "#sk-container-id-10 div.sk-label label {\n",
       "  font-family: monospace;\n",
       "  font-weight: bold;\n",
       "  display: inline-block;\n",
       "  line-height: 1.2em;\n",
       "}\n",
       "\n",
       "#sk-container-id-10 div.sk-label-container {\n",
       "  text-align: center;\n",
       "}\n",
       "\n",
       "/* Estimator-specific */\n",
       "#sk-container-id-10 div.sk-estimator {\n",
       "  font-family: monospace;\n",
       "  border: 1px dotted var(--sklearn-color-border-box);\n",
       "  border-radius: 0.25em;\n",
       "  box-sizing: border-box;\n",
       "  margin-bottom: 0.5em;\n",
       "  /* unfitted */\n",
       "  background-color: var(--sklearn-color-unfitted-level-0);\n",
       "}\n",
       "\n",
       "#sk-container-id-10 div.sk-estimator.fitted {\n",
       "  /* fitted */\n",
       "  background-color: var(--sklearn-color-fitted-level-0);\n",
       "}\n",
       "\n",
       "/* on hover */\n",
       "#sk-container-id-10 div.sk-estimator:hover {\n",
       "  /* unfitted */\n",
       "  background-color: var(--sklearn-color-unfitted-level-2);\n",
       "}\n",
       "\n",
       "#sk-container-id-10 div.sk-estimator.fitted:hover {\n",
       "  /* fitted */\n",
       "  background-color: var(--sklearn-color-fitted-level-2);\n",
       "}\n",
       "\n",
       "/* Specification for estimator info (e.g. \"i\" and \"?\") */\n",
       "\n",
       "/* Common style for \"i\" and \"?\" */\n",
       "\n",
       ".sk-estimator-doc-link,\n",
       "a:link.sk-estimator-doc-link,\n",
       "a:visited.sk-estimator-doc-link {\n",
       "  float: right;\n",
       "  font-size: smaller;\n",
       "  line-height: 1em;\n",
       "  font-family: monospace;\n",
       "  background-color: var(--sklearn-color-background);\n",
       "  border-radius: 1em;\n",
       "  height: 1em;\n",
       "  width: 1em;\n",
       "  text-decoration: none !important;\n",
       "  margin-left: 1ex;\n",
       "  /* unfitted */\n",
       "  border: var(--sklearn-color-unfitted-level-1) 1pt solid;\n",
       "  color: var(--sklearn-color-unfitted-level-1);\n",
       "}\n",
       "\n",
       ".sk-estimator-doc-link.fitted,\n",
       "a:link.sk-estimator-doc-link.fitted,\n",
       "a:visited.sk-estimator-doc-link.fitted {\n",
       "  /* fitted */\n",
       "  border: var(--sklearn-color-fitted-level-1) 1pt solid;\n",
       "  color: var(--sklearn-color-fitted-level-1);\n",
       "}\n",
       "\n",
       "/* On hover */\n",
       "div.sk-estimator:hover .sk-estimator-doc-link:hover,\n",
       ".sk-estimator-doc-link:hover,\n",
       "div.sk-label-container:hover .sk-estimator-doc-link:hover,\n",
       ".sk-estimator-doc-link:hover {\n",
       "  /* unfitted */\n",
       "  background-color: var(--sklearn-color-unfitted-level-3);\n",
       "  color: var(--sklearn-color-background);\n",
       "  text-decoration: none;\n",
       "}\n",
       "\n",
       "div.sk-estimator.fitted:hover .sk-estimator-doc-link.fitted:hover,\n",
       ".sk-estimator-doc-link.fitted:hover,\n",
       "div.sk-label-container:hover .sk-estimator-doc-link.fitted:hover,\n",
       ".sk-estimator-doc-link.fitted:hover {\n",
       "  /* fitted */\n",
       "  background-color: var(--sklearn-color-fitted-level-3);\n",
       "  color: var(--sklearn-color-background);\n",
       "  text-decoration: none;\n",
       "}\n",
       "\n",
       "/* Span, style for the box shown on hovering the info icon */\n",
       ".sk-estimator-doc-link span {\n",
       "  display: none;\n",
       "  z-index: 9999;\n",
       "  position: relative;\n",
       "  font-weight: normal;\n",
       "  right: .2ex;\n",
       "  padding: .5ex;\n",
       "  margin: .5ex;\n",
       "  width: min-content;\n",
       "  min-width: 20ex;\n",
       "  max-width: 50ex;\n",
       "  color: var(--sklearn-color-text);\n",
       "  box-shadow: 2pt 2pt 4pt #999;\n",
       "  /* unfitted */\n",
       "  background: var(--sklearn-color-unfitted-level-0);\n",
       "  border: .5pt solid var(--sklearn-color-unfitted-level-3);\n",
       "}\n",
       "\n",
       ".sk-estimator-doc-link.fitted span {\n",
       "  /* fitted */\n",
       "  background: var(--sklearn-color-fitted-level-0);\n",
       "  border: var(--sklearn-color-fitted-level-3);\n",
       "}\n",
       "\n",
       ".sk-estimator-doc-link:hover span {\n",
       "  display: block;\n",
       "}\n",
       "\n",
       "/* \"?\"-specific style due to the `<a>` HTML tag */\n",
       "\n",
       "#sk-container-id-10 a.estimator_doc_link {\n",
       "  float: right;\n",
       "  font-size: 1rem;\n",
       "  line-height: 1em;\n",
       "  font-family: monospace;\n",
       "  background-color: var(--sklearn-color-background);\n",
       "  border-radius: 1rem;\n",
       "  height: 1rem;\n",
       "  width: 1rem;\n",
       "  text-decoration: none;\n",
       "  /* unfitted */\n",
       "  color: var(--sklearn-color-unfitted-level-1);\n",
       "  border: var(--sklearn-color-unfitted-level-1) 1pt solid;\n",
       "}\n",
       "\n",
       "#sk-container-id-10 a.estimator_doc_link.fitted {\n",
       "  /* fitted */\n",
       "  border: var(--sklearn-color-fitted-level-1) 1pt solid;\n",
       "  color: var(--sklearn-color-fitted-level-1);\n",
       "}\n",
       "\n",
       "/* On hover */\n",
       "#sk-container-id-10 a.estimator_doc_link:hover {\n",
       "  /* unfitted */\n",
       "  background-color: var(--sklearn-color-unfitted-level-3);\n",
       "  color: var(--sklearn-color-background);\n",
       "  text-decoration: none;\n",
       "}\n",
       "\n",
       "#sk-container-id-10 a.estimator_doc_link.fitted:hover {\n",
       "  /* fitted */\n",
       "  background-color: var(--sklearn-color-fitted-level-3);\n",
       "}\n",
       "</style><div id=\"sk-container-id-10\" class=\"sk-top-container\"><div class=\"sk-text-repr-fallback\"><pre>SVC()</pre><b>In a Jupyter environment, please rerun this cell to show the HTML representation or trust the notebook. <br />On GitHub, the HTML representation is unable to render, please try loading this page with nbviewer.org.</b></div><div class=\"sk-container\" hidden><div class=\"sk-item\"><div class=\"sk-estimator fitted sk-toggleable\"><input class=\"sk-toggleable__control sk-hidden--visually\" id=\"sk-estimator-id-20\" type=\"checkbox\" checked><label for=\"sk-estimator-id-20\" class=\"sk-toggleable__label fitted sk-toggleable__label-arrow fitted\">&nbsp;&nbsp;SVC<a class=\"sk-estimator-doc-link fitted\" rel=\"noreferrer\" target=\"_blank\" href=\"https://scikit-learn.org/1.4/modules/generated/sklearn.svm.SVC.html\">?<span>Documentation for SVC</span></a><span class=\"sk-estimator-doc-link fitted\">i<span>Fitted</span></span></label><div class=\"sk-toggleable__content fitted\"><pre>SVC()</pre></div> </div></div></div></div>"
      ],
      "text/plain": [
       "SVC()"
      ]
     },
     "execution_count": 59,
     "metadata": {},
     "output_type": "execute_result"
    }
   ],
   "source": [
    "SVM_best.fit(X_train, y_train)"
   ]
  },
  {
   "cell_type": "code",
   "execution_count": 60,
   "id": "d9b72b56",
   "metadata": {},
   "outputs": [],
   "source": [
    "predictions = SVM_best.predict(X_test)"
   ]
  },
  {
   "cell_type": "code",
   "execution_count": 61,
   "id": "599a8130",
   "metadata": {},
   "outputs": [
    {
     "name": "stdout",
     "output_type": "stream",
     "text": [
      "              precision    recall  f1-score   support\n",
      "\n",
      "           0       0.86      0.56      0.68      1704\n",
      "           1       0.67      0.91      0.77      1670\n",
      "\n",
      "    accuracy                           0.73      3374\n",
      "   macro avg       0.77      0.73      0.73      3374\n",
      "weighted avg       0.77      0.73      0.73      3374\n",
      "\n"
     ]
    }
   ],
   "source": [
    "print(classification_report(y_true=y_test, y_pred=predictions, zero_division=0))"
   ]
  },
  {
   "cell_type": "markdown",
   "id": "148b4a5c7acba467",
   "metadata": {
    "collapsed": false
   },
   "source": [
    "## Neural Network\n"
   ]
  },
  {
   "cell_type": "code",
   "execution_count": 62,
   "id": "8febc9f2aca3fe7b",
   "metadata": {
    "ExecuteTime": {
     "end_time": "2024-04-01T21:55:04.584382Z",
     "start_time": "2024-04-01T21:55:04.430075Z"
    },
    "collapsed": false
   },
   "outputs": [],
   "source": [
    "early_stopping = EarlyStopping(monitor=\"val_loss\", patience=10)"
   ]
  },
  {
   "cell_type": "code",
   "execution_count": 63,
   "id": "3bedf93e3f526c1c",
   "metadata": {
    "ExecuteTime": {
     "end_time": "2024-04-01T21:55:07.430531Z",
     "start_time": "2024-04-01T21:55:07.241972Z"
    },
    "collapsed": false
   },
   "outputs": [],
   "source": [
    "nn = Sequential()\n",
    "nn.add(Dense(128, activation=\"relu\"))\n",
    "nn.add(Dropout(0.2))\n",
    "nn.add(Dense(1, activation=\"sigmoid\"))\n",
    "\n",
    "nn.compile(optimizer=\"adam\", loss=\"binary_crossentropy\", metrics=[\"accuracy\"])"
   ]
  },
  {
   "cell_type": "code",
   "execution_count": 64,
   "id": "a1865f69",
   "metadata": {},
   "outputs": [],
   "source": [
    "precisions = []\n",
    "recalls = []\n",
    "accuracies = []\n",
    "f1_scores = []"
   ]
  },
  {
   "cell_type": "code",
   "execution_count": 65,
   "id": "b4848e32",
   "metadata": {},
   "outputs": [
    {
     "name": "stdout",
     "output_type": "stream",
     "text": [
      "##### FOLD: 1 #####\n",
      "\u001b[1m85/85\u001b[0m \u001b[32m━━━━━━━━━━━━━━━━━━━━\u001b[0m\u001b[37m\u001b[0m \u001b[1m0s\u001b[0m 438us/step\n",
      "Precision = 0.8903568602935666\n",
      "Recall = 0.8899592441645053\n",
      "Accuracy = 0.8899592441645053\n",
      "F1 score = 0.8899319562264341\n",
      "\n",
      "##### FOLD: 2 #####\n",
      "\u001b[1m85/85\u001b[0m \u001b[32m━━━━━━━━━━━━━━━━━━━━\u001b[0m\u001b[37m\u001b[0m \u001b[1m0s\u001b[0m 389us/step\n",
      "Precision = 0.9262658522607405\n",
      "Recall = 0.9255279733234532\n",
      "Accuracy = 0.9255279733234532\n",
      "F1 score = 0.9255122278810454\n",
      "\n",
      "##### FOLD: 3 #####\n",
      "\u001b[1m85/85\u001b[0m \u001b[32m━━━━━━━━━━━━━━━━━━━━\u001b[0m\u001b[37m\u001b[0m \u001b[1m0s\u001b[0m 336us/step\n",
      "Precision = 0.939965809764297\n",
      "Recall = 0.9399555226093402\n",
      "Accuracy = 0.9399555226093402\n",
      "F1 score = 0.9399560175423215\n",
      "\n",
      "##### FOLD: 4 #####\n",
      "\u001b[1m85/85\u001b[0m \u001b[32m━━━━━━━━━━━━━━━━━━━━\u001b[0m\u001b[37m\u001b[0m \u001b[1m0s\u001b[0m 517us/step\n",
      "Precision = 0.9584813812414573\n",
      "Recall = 0.958117123795404\n",
      "Accuracy = 0.958117123795404\n",
      "F1 score = 0.95811903982262\n",
      "\n",
      "##### FOLD: 5 #####\n",
      "\u001b[1m85/85\u001b[0m \u001b[32m━━━━━━━━━━━━━━━━━━━━\u001b[0m\u001b[37m\u001b[0m \u001b[1m0s\u001b[0m 374us/step\n",
      "Precision = 0.9671152518488805\n",
      "Recall = 0.9670126019273536\n",
      "Accuracy = 0.9670126019273536\n",
      "F1 score = 0.9670052681440602\n",
      "\n"
     ]
    }
   ],
   "source": [
    "fold = 1\n",
    "for train, test in KF.split(X_train, y_train):\n",
    "    print(f\"##### FOLD: {fold} #####\")\n",
    "\n",
    "    # Fit the model\n",
    "    nn.fit(\n",
    "        X_train[train],\n",
    "        y_train[train],\n",
    "        epochs=200,\n",
    "        batch_size=32,\n",
    "        validation_data=(X_train[test], y_train[test]),\n",
    "        callbacks=[early_stopping],\n",
    "        verbose=0,\n",
    "    )\n",
    "\n",
    "    # Predict on the test set\n",
    "    y_pred = nn.predict(X_train[test])\n",
    "\n",
    "    predictions = []\n",
    "    for pred in y_pred:\n",
    "        if pred > 0.5:\n",
    "            predictions.append(1)\n",
    "        else:\n",
    "            predictions.append(0)\n",
    "\n",
    "    # Evaluate the model\n",
    "    precision = precision_score(\n",
    "        y_true=y_train[test],\n",
    "        y_pred=predictions,\n",
    "        zero_division=0,\n",
    "        average=\"weighted\",\n",
    "    )\n",
    "    recall = recall_score(\n",
    "        y_true=y_train[test],\n",
    "        y_pred=predictions,\n",
    "        zero_division=0,\n",
    "        average=\"weighted\",\n",
    "    )\n",
    "    accuracy = accuracy_score(y_true=y_train[test], y_pred=predictions)\n",
    "    f1 = f1_score(\n",
    "        y_true=y_train[test],\n",
    "        y_pred=predictions,\n",
    "        zero_division=0,\n",
    "        average=\"weighted\",\n",
    "    )\n",
    "\n",
    "    # Store the result\n",
    "    precisions.append(precision)\n",
    "    recalls.append(recall)\n",
    "    accuracies.append(accuracy)\n",
    "    f1_scores.append(f1)\n",
    "\n",
    "    # Print the scores for each fold\n",
    "    print(f\"Precision = {precision}\")\n",
    "    print(f\"Recall = {recall}\")\n",
    "    print(f\"Accuracy = {accuracy}\")\n",
    "    print(f\"F1 score = {f1}\\n\")\n",
    "\n",
    "    fold += 1"
   ]
  },
  {
   "cell_type": "code",
   "execution_count": 66,
   "id": "98bd5b4d",
   "metadata": {},
   "outputs": [
    {
     "name": "stdout",
     "output_type": "stream",
     "text": [
      "Mean Scores:\n",
      "Mean Precision = 0.9364370310817884\n",
      "Mean Recall = 0.9361144931640112\n",
      "Mean Accuracy = 0.9361144931640112\n",
      "Mean F1 score = 0.9361049019232961\n"
     ]
    }
   ],
   "source": [
    "print(\"Mean Scores:\")\n",
    "print(f\"Mean Precision = {np.mean(precisions)}\")\n",
    "print(f\"Mean Recall = {np.mean(recalls)}\")\n",
    "print(f\"Mean Accuracy = {np.mean(accuracies)}\")\n",
    "print(f\"Mean F1 score = {np.mean(f1_scores)}\")"
   ]
  },
  {
   "cell_type": "code",
   "execution_count": 67,
   "id": "48ea657682a92cfa",
   "metadata": {
    "ExecuteTime": {
     "end_time": "2024-04-01T22:29:25.902063Z",
     "start_time": "2024-04-01T22:29:13.457098Z"
    },
    "collapsed": false
   },
   "outputs": [
    {
     "name": "stdout",
     "output_type": "stream",
     "text": [
      "\u001b[1m  1/106\u001b[0m \u001b[37m━━━━━━━━━━━━━━━━━━━━\u001b[0m \u001b[1m1s\u001b[0m 10ms/step"
     ]
    },
    {
     "name": "stdout",
     "output_type": "stream",
     "text": [
      "\u001b[1m106/106\u001b[0m \u001b[32m━━━━━━━━━━━━━━━━━━━━\u001b[0m\u001b[37m\u001b[0m \u001b[1m0s\u001b[0m 386us/step\n"
     ]
    }
   ],
   "source": [
    "y_pred = nn.predict(X_test)\n",
    "\n",
    "predictions = []\n",
    "for pred in y_pred:\n",
    "    if pred > 0.5:\n",
    "        predictions.append(1)\n",
    "    else:\n",
    "        predictions.append(0)"
   ]
  },
  {
   "cell_type": "code",
   "execution_count": 68,
   "id": "12389a76",
   "metadata": {},
   "outputs": [
    {
     "name": "stdout",
     "output_type": "stream",
     "text": [
      "              precision    recall  f1-score   support\n",
      "\n",
      "           0       0.89      0.91      0.90      1704\n",
      "           1       0.91      0.88      0.89      1670\n",
      "\n",
      "    accuracy                           0.90      3374\n",
      "   macro avg       0.90      0.90      0.90      3374\n",
      "weighted avg       0.90      0.90      0.90      3374\n",
      "\n"
     ]
    }
   ],
   "source": [
    "print(classification_report(y_test, predictions, zero_division=0))"
   ]
  }
 ],
 "metadata": {
  "kernelspec": {
   "display_name": "Python 3",
   "language": "python",
   "name": "python3"
  },
  "language_info": {
   "codemirror_mode": {
    "name": "ipython",
    "version": 3
   },
   "file_extension": ".py",
   "mimetype": "text/x-python",
   "name": "python",
   "nbconvert_exporter": "python",
   "pygments_lexer": "ipython3",
   "version": "3.12.0"
  }
 },
 "nbformat": 4,
 "nbformat_minor": 5
}
