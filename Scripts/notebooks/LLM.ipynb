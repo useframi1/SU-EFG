{
 "cells": [
  {
   "cell_type": "code",
   "execution_count": 10,
   "metadata": {},
   "outputs": [],
   "source": [
    "from utils import query_raven, build_raven_prompt\n",
    "import requests"
   ]
  },
  {
   "cell_type": "code",
   "execution_count": 11,
   "metadata": {},
   "outputs": [],
   "source": [
    "def get_age(age: int = None) -> int:\n",
    "    \"\"\"\n",
    "    Validates and returns the age value.\n",
    "\n",
    "    Args:\n",
    "        age (int, optional): The age of the client. Must be a non-negative integer. If not provided, defaults to None.\n",
    "\n",
    "    Returns:\n",
    "        int: The validated age. If no age is provided, None is returned.\n",
    "\n",
    "    Raises:\n",
    "        ValueError: If `age` is provided and is a negative integer.\n",
    "    \"\"\"\n",
    "    if age is not None and age < 0:\n",
    "        raise ValueError(\"age must be a non-negative integer.\")\n",
    "\n",
    "    return age"
   ]
  },
  {
   "cell_type": "code",
   "execution_count": 12,
   "metadata": {},
   "outputs": [],
   "source": [
    "def get_sector_name(sector_name: str = None) -> str:\n",
    "    \"\"\"\n",
    "    Gets the client's sector name, and checks if it's a valid sector name.\n",
    "\n",
    "    Args:\n",
    "        sector_name (str): The sector in which the client works. Must match exactly one of the following sectors:\n",
    "                           [\"financial\", \"industrial\", \"technology\"].\n",
    "\n",
    "    Returns:\n",
    "        str: the sector name if valid.\n",
    "\n",
    "    Raises:\n",
    "        ValueError: If `sector_name` is not one of the specified values.\n",
    "    \"\"\"\n",
    "\n",
    "    valid_sectors = [\"financial\", \"industrial\", \"technology\"]\n",
    "\n",
    "    if sector_name not in valid_sectors:\n",
    "        raise ValueError(f\"sector_name must be one of the following: {valid_sectors}\")\n",
    "\n",
    "    return sector_name"
   ]
  },
  {
   "cell_type": "code",
   "execution_count": 13,
   "metadata": {},
   "outputs": [],
   "source": [
    "def handle_unspecified_arguments(missing_args: list[str]) -> list[str]:\n",
    "    \"\"\"\n",
    "    Handles the case where client details are missing.\n",
    "\n",
    "    Args:\n",
    "        missing_args (list[str]): The list of the missing client details. Removes underscores.\n",
    "\n",
    "    Returns:\n",
    "        list[str]: The list of the missing client details.\n",
    "\n",
    "    Example:\n",
    "        >>> handle_unspecified_arguments(['sector name'])\n",
    "        ['sector name']\n",
    "    \"\"\"\n",
    "    raise ValueError({\"missing_params\": missing_args})"
   ]
  },
  {
   "cell_type": "code",
   "execution_count": 14,
   "metadata": {},
   "outputs": [],
   "source": [
    "def predict_churn(age: int = None, sector_name: str = None) -> dict:\n",
    "    \"\"\"\n",
    "    Calls an API to predict whether or not the client will churn.\n",
    "\n",
    "    Args:\n",
    "        age (int): The age of the client. Must be a non-negative integer.\n",
    "        sector_name (str): The sector in which the client works.\n",
    "\n",
    "    Returns:\n",
    "        dict: The prediction from the API.\n",
    "    \"\"\"\n",
    "\n",
    "    params = locals().copy()\n",
    "\n",
    "    missing_args = [key for key, value in params.items() if value is None]\n",
    "    if missing_args:\n",
    "        return handle_unspecified_arguments(missing_args)\n",
    "\n",
    "    # response = requests.post(\n",
    "    #     url=\"http://localhost:8000/predict\",\n",
    "    #     headers={\"Content-Type\": \"application/json\"},\n",
    "    #     data=params,\n",
    "    # )\n",
    "\n",
    "    return \"0\""
   ]
  },
  {
   "cell_type": "code",
   "execution_count": 15,
   "metadata": {},
   "outputs": [],
   "source": [
    "prompt = build_raven_prompt(\n",
    "    [predict_churn, get_age, get_sector_name],\n",
    "    \"If a client, finance is their favorite sector, and they are 25 years old will they churn?\",\n",
    ")"
   ]
  },
  {
   "cell_type": "code",
   "execution_count": 16,
   "metadata": {},
   "outputs": [
    {
     "name": "stdout",
     "output_type": "stream",
     "text": [
      "predict_churn(sector_name=get_sector_name(sector_name='financial'), age=get_age(age=25))\n"
     ]
    }
   ],
   "source": [
    "result = query_raven(prompt)\n",
    "print(result)"
   ]
  },
  {
   "cell_type": "code",
   "execution_count": 17,
   "metadata": {},
   "outputs": [
    {
     "name": "stdout",
     "output_type": "stream",
     "text": [
      "0\n"
     ]
    }
   ],
   "source": [
    "try:\n",
    "    client = eval(result)\n",
    "    print(client)\n",
    "except ValueError as e:\n",
    "    print(e)"
   ]
  }
 ],
 "metadata": {
  "kernelspec": {
   "display_name": "Python 3",
   "language": "python",
   "name": "python3"
  },
  "language_info": {
   "codemirror_mode": {
    "name": "ipython",
    "version": 3
   },
   "file_extension": ".py",
   "mimetype": "text/x-python",
   "name": "python",
   "nbconvert_exporter": "python",
   "pygments_lexer": "ipython3",
   "version": "3.12.0"
  }
 },
 "nbformat": 4,
 "nbformat_minor": 2
}
